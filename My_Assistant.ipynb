{
  "nbformat": 4,
  "nbformat_minor": 0,
  "metadata": {
    "colab": {
      "provenance": [],
      "toc_visible": true,
      "gpuType": "A100",
      "authorship_tag": "ABX9TyNHp9o5KiFhBbk06FT8n/BG",
      "include_colab_link": true
    },
    "kernelspec": {
      "name": "python3",
      "display_name": "Python 3"
    },
    "language_info": {
      "name": "python"
    },
    "accelerator": "GPU",
    "widgets": {
      "application/vnd.jupyter.widget-state+json": {
        "2a0e051fda85457092fadfeb00122fa4": {
          "model_module": "@jupyter-widgets/controls",
          "model_name": "HBoxModel",
          "model_module_version": "1.5.0",
          "state": {
            "_dom_classes": [],
            "_model_module": "@jupyter-widgets/controls",
            "_model_module_version": "1.5.0",
            "_model_name": "HBoxModel",
            "_view_count": null,
            "_view_module": "@jupyter-widgets/controls",
            "_view_module_version": "1.5.0",
            "_view_name": "HBoxView",
            "box_style": "",
            "children": [
              "IPY_MODEL_fd7a4ea4a48242a598b0b582a073635c",
              "IPY_MODEL_6baf85327741473dbb7555d189bdba82",
              "IPY_MODEL_93f0debde2254c709a3b84f6abcda8bf"
            ],
            "layout": "IPY_MODEL_fa18330de0134e78b5c58efeafb32b77"
          }
        },
        "fd7a4ea4a48242a598b0b582a073635c": {
          "model_module": "@jupyter-widgets/controls",
          "model_name": "HTMLModel",
          "model_module_version": "1.5.0",
          "state": {
            "_dom_classes": [],
            "_model_module": "@jupyter-widgets/controls",
            "_model_module_version": "1.5.0",
            "_model_name": "HTMLModel",
            "_view_count": null,
            "_view_module": "@jupyter-widgets/controls",
            "_view_module_version": "1.5.0",
            "_view_name": "HTMLView",
            "description": "",
            "description_tooltip": null,
            "layout": "IPY_MODEL_ab5b1afc4a43426fb44d56326062c979",
            "placeholder": "​",
            "style": "IPY_MODEL_2ace42b2fd304645bcad52576ad8aa73",
            "value": "tf_model.h5: 100%"
          }
        },
        "6baf85327741473dbb7555d189bdba82": {
          "model_module": "@jupyter-widgets/controls",
          "model_name": "FloatProgressModel",
          "model_module_version": "1.5.0",
          "state": {
            "_dom_classes": [],
            "_model_module": "@jupyter-widgets/controls",
            "_model_module_version": "1.5.0",
            "_model_name": "FloatProgressModel",
            "_view_count": null,
            "_view_module": "@jupyter-widgets/controls",
            "_view_module_version": "1.5.0",
            "_view_name": "ProgressView",
            "bar_style": "success",
            "description": "",
            "description_tooltip": null,
            "layout": "IPY_MODEL_7e68362dfe3e45bbabf13298faf68728",
            "max": 363423424,
            "min": 0,
            "orientation": "horizontal",
            "style": "IPY_MODEL_ab243650c24d4f1393dfa1003c88b39e",
            "value": 363423424
          }
        },
        "93f0debde2254c709a3b84f6abcda8bf": {
          "model_module": "@jupyter-widgets/controls",
          "model_name": "HTMLModel",
          "model_module_version": "1.5.0",
          "state": {
            "_dom_classes": [],
            "_model_module": "@jupyter-widgets/controls",
            "_model_module_version": "1.5.0",
            "_model_name": "HTMLModel",
            "_view_count": null,
            "_view_module": "@jupyter-widgets/controls",
            "_view_module_version": "1.5.0",
            "_view_name": "HTMLView",
            "description": "",
            "description_tooltip": null,
            "layout": "IPY_MODEL_f830748c9eca47a6ad6332af90b85146",
            "placeholder": "​",
            "style": "IPY_MODEL_ce589bfe56e04db1bd3e5a04b465ad35",
            "value": " 363M/363M [00:01&lt;00:00, 272MB/s]"
          }
        },
        "fa18330de0134e78b5c58efeafb32b77": {
          "model_module": "@jupyter-widgets/base",
          "model_name": "LayoutModel",
          "model_module_version": "1.2.0",
          "state": {
            "_model_module": "@jupyter-widgets/base",
            "_model_module_version": "1.2.0",
            "_model_name": "LayoutModel",
            "_view_count": null,
            "_view_module": "@jupyter-widgets/base",
            "_view_module_version": "1.2.0",
            "_view_name": "LayoutView",
            "align_content": null,
            "align_items": null,
            "align_self": null,
            "border": null,
            "bottom": null,
            "display": null,
            "flex": null,
            "flex_flow": null,
            "grid_area": null,
            "grid_auto_columns": null,
            "grid_auto_flow": null,
            "grid_auto_rows": null,
            "grid_column": null,
            "grid_gap": null,
            "grid_row": null,
            "grid_template_areas": null,
            "grid_template_columns": null,
            "grid_template_rows": null,
            "height": null,
            "justify_content": null,
            "justify_items": null,
            "left": null,
            "margin": null,
            "max_height": null,
            "max_width": null,
            "min_height": null,
            "min_width": null,
            "object_fit": null,
            "object_position": null,
            "order": null,
            "overflow": null,
            "overflow_x": null,
            "overflow_y": null,
            "padding": null,
            "right": null,
            "top": null,
            "visibility": null,
            "width": null
          }
        },
        "ab5b1afc4a43426fb44d56326062c979": {
          "model_module": "@jupyter-widgets/base",
          "model_name": "LayoutModel",
          "model_module_version": "1.2.0",
          "state": {
            "_model_module": "@jupyter-widgets/base",
            "_model_module_version": "1.2.0",
            "_model_name": "LayoutModel",
            "_view_count": null,
            "_view_module": "@jupyter-widgets/base",
            "_view_module_version": "1.2.0",
            "_view_name": "LayoutView",
            "align_content": null,
            "align_items": null,
            "align_self": null,
            "border": null,
            "bottom": null,
            "display": null,
            "flex": null,
            "flex_flow": null,
            "grid_area": null,
            "grid_auto_columns": null,
            "grid_auto_flow": null,
            "grid_auto_rows": null,
            "grid_column": null,
            "grid_gap": null,
            "grid_row": null,
            "grid_template_areas": null,
            "grid_template_columns": null,
            "grid_template_rows": null,
            "height": null,
            "justify_content": null,
            "justify_items": null,
            "left": null,
            "margin": null,
            "max_height": null,
            "max_width": null,
            "min_height": null,
            "min_width": null,
            "object_fit": null,
            "object_position": null,
            "order": null,
            "overflow": null,
            "overflow_x": null,
            "overflow_y": null,
            "padding": null,
            "right": null,
            "top": null,
            "visibility": null,
            "width": null
          }
        },
        "2ace42b2fd304645bcad52576ad8aa73": {
          "model_module": "@jupyter-widgets/controls",
          "model_name": "DescriptionStyleModel",
          "model_module_version": "1.5.0",
          "state": {
            "_model_module": "@jupyter-widgets/controls",
            "_model_module_version": "1.5.0",
            "_model_name": "DescriptionStyleModel",
            "_view_count": null,
            "_view_module": "@jupyter-widgets/base",
            "_view_module_version": "1.2.0",
            "_view_name": "StyleView",
            "description_width": ""
          }
        },
        "7e68362dfe3e45bbabf13298faf68728": {
          "model_module": "@jupyter-widgets/base",
          "model_name": "LayoutModel",
          "model_module_version": "1.2.0",
          "state": {
            "_model_module": "@jupyter-widgets/base",
            "_model_module_version": "1.2.0",
            "_model_name": "LayoutModel",
            "_view_count": null,
            "_view_module": "@jupyter-widgets/base",
            "_view_module_version": "1.2.0",
            "_view_name": "LayoutView",
            "align_content": null,
            "align_items": null,
            "align_self": null,
            "border": null,
            "bottom": null,
            "display": null,
            "flex": null,
            "flex_flow": null,
            "grid_area": null,
            "grid_auto_columns": null,
            "grid_auto_flow": null,
            "grid_auto_rows": null,
            "grid_column": null,
            "grid_gap": null,
            "grid_row": null,
            "grid_template_areas": null,
            "grid_template_columns": null,
            "grid_template_rows": null,
            "height": null,
            "justify_content": null,
            "justify_items": null,
            "left": null,
            "margin": null,
            "max_height": null,
            "max_width": null,
            "min_height": null,
            "min_width": null,
            "object_fit": null,
            "object_position": null,
            "order": null,
            "overflow": null,
            "overflow_x": null,
            "overflow_y": null,
            "padding": null,
            "right": null,
            "top": null,
            "visibility": null,
            "width": null
          }
        },
        "ab243650c24d4f1393dfa1003c88b39e": {
          "model_module": "@jupyter-widgets/controls",
          "model_name": "ProgressStyleModel",
          "model_module_version": "1.5.0",
          "state": {
            "_model_module": "@jupyter-widgets/controls",
            "_model_module_version": "1.5.0",
            "_model_name": "ProgressStyleModel",
            "_view_count": null,
            "_view_module": "@jupyter-widgets/base",
            "_view_module_version": "1.2.0",
            "_view_name": "StyleView",
            "bar_color": null,
            "description_width": ""
          }
        },
        "f830748c9eca47a6ad6332af90b85146": {
          "model_module": "@jupyter-widgets/base",
          "model_name": "LayoutModel",
          "model_module_version": "1.2.0",
          "state": {
            "_model_module": "@jupyter-widgets/base",
            "_model_module_version": "1.2.0",
            "_model_name": "LayoutModel",
            "_view_count": null,
            "_view_module": "@jupyter-widgets/base",
            "_view_module_version": "1.2.0",
            "_view_name": "LayoutView",
            "align_content": null,
            "align_items": null,
            "align_self": null,
            "border": null,
            "bottom": null,
            "display": null,
            "flex": null,
            "flex_flow": null,
            "grid_area": null,
            "grid_auto_columns": null,
            "grid_auto_flow": null,
            "grid_auto_rows": null,
            "grid_column": null,
            "grid_gap": null,
            "grid_row": null,
            "grid_template_areas": null,
            "grid_template_columns": null,
            "grid_template_rows": null,
            "height": null,
            "justify_content": null,
            "justify_items": null,
            "left": null,
            "margin": null,
            "max_height": null,
            "max_width": null,
            "min_height": null,
            "min_width": null,
            "object_fit": null,
            "object_position": null,
            "order": null,
            "overflow": null,
            "overflow_x": null,
            "overflow_y": null,
            "padding": null,
            "right": null,
            "top": null,
            "visibility": null,
            "width": null
          }
        },
        "ce589bfe56e04db1bd3e5a04b465ad35": {
          "model_module": "@jupyter-widgets/controls",
          "model_name": "DescriptionStyleModel",
          "model_module_version": "1.5.0",
          "state": {
            "_model_module": "@jupyter-widgets/controls",
            "_model_module_version": "1.5.0",
            "_model_name": "DescriptionStyleModel",
            "_view_count": null,
            "_view_module": "@jupyter-widgets/base",
            "_view_module_version": "1.2.0",
            "_view_name": "StyleView",
            "description_width": ""
          }
        }
      }
    }
  },
  "cells": [
    {
      "cell_type": "markdown",
      "metadata": {
        "id": "view-in-github",
        "colab_type": "text"
      },
      "source": [
        "<a href=\"https://colab.research.google.com/github/AishaEvering/My_Assistant/blob/main/My_Assistant.ipynb\" target=\"_parent\"><img src=\"https://colab.research.google.com/assets/colab-badge.svg\" alt=\"Open In Colab\"/></a>"
      ]
    },
    {
      "cell_type": "markdown",
      "source": [
        "![Screenshot 2024-08-04 at 12.33.05 AM.png](data:image/png;base64,iVBORw0KGgoAAAANSUhEUgAAAeoAAAEmCAYAAACtR9P1AAABWGlDQ1BJQ0MgUHJvZmlsZQAAKJF1kL1LQlEYxn+mUVSUg0REg1sfWIQ55GgOFjSIFX1s16tppXa5GtUQ9AfUGg0NRRCNDYFDETXVHlhINDW0Fw6V3N6bllp04D3Pj4eHw3NeqLMpmpawAclURg8FRpwzs3POhmcaseKgkw5FTWu+YHBcInxr7SnksJh622++dZY7ON/LX2+fvF7sPhy2v/3N15ymSDStin7I9KmangFLj3BwNaOZvCbs0KWU8JbJsRLvmxwu8elXZjLkF74RtqtxJSJ8L+wKV/mxKk4mVtRyB7N9SzQ1NSHaKtOFHw9eRgnILQ3+yXrK2WU01tFZIEacDE584mgkiAqPkUJlAJewm0EZj7nj37ureBteGN4UeKx4oSXIyn/sixWv2w1tx3D1pCm68rNRS8GWnh9yl7g5C/U7hvEyDQ29ULwzjPesYRSPwJqHy8InwDNmV7GaioUAAABWZVhJZk1NACoAAAAIAAGHaQAEAAAAAQAAABoAAAAAAAOShgAHAAAAEgAAAESgAgAEAAAAAQAAAeqgAwAEAAAAAQAAASYAAAAAQVNDSUkAAABTY3JlZW5zaG90Zd5iAgAAAdZpVFh0WE1MOmNvbS5hZG9iZS54bXAAAAAAADx4OnhtcG1ldGEgeG1sbnM6eD0iYWRvYmU6bnM6bWV0YS8iIHg6eG1wdGs9IlhNUCBDb3JlIDYuMC4wIj4KICAgPHJkZjpSREYgeG1sbnM6cmRmPSJodHRwOi8vd3d3LnczLm9yZy8xOTk5LzAyLzIyLXJkZi1zeW50YXgtbnMjIj4KICAgICAgPHJkZjpEZXNjcmlwdGlvbiByZGY6YWJvdXQ9IiIKICAgICAgICAgICAgeG1sbnM6ZXhpZj0iaHR0cDovL25zLmFkb2JlLmNvbS9leGlmLzEuMC8iPgogICAgICAgICA8ZXhpZjpQaXhlbFlEaW1lbnNpb24+Mjk0PC9leGlmOlBpeGVsWURpbWVuc2lvbj4KICAgICAgICAgPGV4aWY6UGl4ZWxYRGltZW5zaW9uPjQ5MDwvZXhpZjpQaXhlbFhEaW1lbnNpb24+CiAgICAgICAgIDxleGlmOlVzZXJDb21tZW50PlNjcmVlbnNob3Q8L2V4aWY6VXNlckNvbW1lbnQ+CiAgICAgIDwvcmRmOkRlc2NyaXB0aW9uPgogICA8L3JkZjpSREY+CjwveDp4bXBtZXRhPgrrSqtZAABAAElEQVR4AdS9Waxt2XWet+45t6t7q2OxyGJfpCiKpEjJ6mwpsmU4lmM5NmA5iOXeQIA4eQhsOEACBH5wXvLgvMRB4oc85CGwkThuAiNAgDgSJFlWpFhy1FFNrI6lhhRZIquvulW3O/fm//5/jLnm2nufc++tKkr2PGevOeeYY/yjmXPNubq99rl3vvupu8ui/0p375xbFv9r43R3uavmc1S14e/O3TvOTYNZ8nfFBB9VeJzmMk2Qzx0vx0fHy13awDt3ZDpt+ahgc8iFCZCBKSiZicIRFQreXrh4cTk+vrDcvn1zuXPnzmiDHz3wO5t8RRb8u3e8LR+skSaloqeybu1rfG4i/qPXumd7CyVYzb3mR8Si+TunedhNMT6Qwxt/Voz9UuIy6HcVq3PxJTFIiz0V3tBfAtYj39NeWK7AkPpd4bnUgKO9QA5kqx/03X7CDmC8xWal4YkGDGNmm1almOG4tD0z42BbAQZp5nN5tS1xTuwan/46UoVxSzq5c6L43fEYuuP+U9tR2W6+6Dy3HNsZeBKH48rXvhXBmAThbnYQnFLlaDkCU0Vxm2YytZLpPkw14wQwd3tQ122NBeKMyUdWi4xYKjDuC2J+V/5BLB5AoguCiZCcEn/MW20NB1v2P2KTMgL4Qq1tv3uO/XatuyIO29V0x6WMXBR3NfK548EhuptCG+UAxQ+V55hkFMfKYhtZxzZ+pb9otNWax46O6efY0nFf82Dib7wsWJGp21yT4FO9mjOv0ScrZTRV4VDLxoMYEW4aDgkUVvtoFmIJvQNePCPLQHG8oalHR9Nd6WTMel+Q/I7Xk79D5NTCGeYekKGvZ/JufW5by3M/eV9TU8eix6qHGn3D/r2KriURs+9r3r97W+WVK7FRFNy9a5winDmAcnRmvug2MHfT+Vu3bom2KuiBYlLht5rmSp3BZUtXaTqoBgm85lMdGp9jTTZMOHc0ueE6nemgHAW5REPvkQyLcFu3aklmbksI5rJcuJCJ887JiXjSJsVEQzUmD2j7QXCAS8ccbCYpErT2q+vQelCiO/XVyhnHIN5kENkM7JPgyTQ5dZyaP3VqiV9KVPEDXeSHEvS5DQN7sMl/bEc+/wbY1V3mwWrfKJiHBQdpTSRzXGiLXYfsQURAI827+CCm0JOBdNiDIRZ/RhXuA5NZuLI1oIqpzTuDzJlYotiAw870EWOm7MAeEU/0Z87y964Ozua+drwibL2OC6VzJ5YnRtAYO5hA2TyVpy3GodltGrteqIvfBiBdsRr2UKC/lAnOqbJUNtsaA6IlpuIs2SLIxp6k4uOmC2P9BtEVFqZSrpK5tDqnBN1tWMUeubWOhbpl1/2p7JLyxBl8meo6B0mxnoUi9pcTbsei1U/bF5KLjRebRutUiC5sPTfZlrr686TbJWK/yOLTyDXfdRlgSbBxGnEvgsdkDcypa8O8s53H795uMAlbn2OwA1DVtKdCpBRQtmVRGUozRU+rjInVcposIAb3gevVV2EzSwGmfI+txSbVZ7HHllVRTFvrp8m23+4bHXQ5H2Ls95LUp1xVpRqd0ZhxlZNCrSonrKPwZ55glUm/S1ONCTN4Aw8M/DMvUekU3K4lv7ucT2FlHB1rELUKkVbs2xsQFu7W8LahUDHQRhrDFEuwOaozklgMhc6FH2dTZzt02oBgugjj5CB6+YPqzhs6QYn9LFZVMm3dIFlyK3FTMmZRKNNB1mljsX3DvlPZtoc3HUp8jN0A9it+AgL5nIKQHOsVo640w562HUJXJcffbgyiEh3RY/aygxi7H5VHVq1ui/0N7Ry77pmEd0+eN8+ABVi6ptR6u9IfrORxLJHOZ+nuQ/fjjnfDnopNYsggZzLomO7GhHaUzVrmshp22qIbHnb8TnMcmqZ8jAOVUSU2xhgLqk4NRj/H5BjSw6H1dD6hpjipHLGyvpWz6cGw8l13Rr3hLGOfWd7LRjfir+ouV06l6nGuTAtTzSmAzbFa7VtL6KFvwDWgm7q/wQ41/UeMYHPeIK2zAtiI3fyVzld9q/2zzvbANLE0V/J4bypHBoQMf8qndrTPSGcsRwT+SnNb074SecI8KT5Did3whoPmXPEa7AQAlwsqB61FLCbGRI/lnIDmJNB0j5pVfuC27DqyxDnbq9pU7XF3fssESrpo8MqYUHZVFa8Yx2IKCS1DEyho0HFDnU2X1MY0aOFTtqOMahtrW6fgILUmBpVstf6iRj3QbgsV4oq50ibF7ry07G6xpe3ptrBP8lPDlrqtNVsmIRtpUixMa8ozJSFqymFEZHdb6Mf8BXndNmdjpmWHqkbij6/EuQcosXC/rHBf0dIYWtaytbgVzzz2QpueZ8KzbzGROZTQYDxtWlt8r5ro2/Ew4wyJglbdzU0/pBGamGYnDrI1RvKuHWQdxLKNHbaKo2kqDE8FSu+auUXL300MJlmzabMx3xWhNhEmHxggyFgKwGinappkxNtnj7ErzEc6C/I1Ii4QNXtgshWb90vAs4Ou+oFA6KDgDJKy2XqSs7GixAxhqOA29Ii/sJ2x6eQdRwTJw7amlckH4GvDqSXLb0BWjD0h8em0QmR077WeSggrfYZ8CarSdAtWXLcgG8PUVLJbpqod2uuKfwOzqWyQ4B720WLWif8M9ZFFRlc279z2LSvGID5zy2JCCfCM5cZC6L5FfyWaV/ZtzSwe1Chqic63Wpt354xaTD0g4VC1j5YaZpM3r5VpU7NhdJfDqvi+FJdj3NC5kKjbrhoAjdfkjbJiLTGC23BAeDACTaB1UJDEJNBKzF30bZaJ1oa4oUs9AXfemNR3P91WTqaKbjqRD8kmsJmOvHxlQTTsNhN8iV2qcxlKsBpyd6gHoz0IQvcLvC2XluKrfjOtjKCl7dlMoKLvtUl+6jqp29E/kNDQqJTvnTyeYROku3ISPzcaC8cMW0xHtewJuyl7ZjTWBlK6cr91HWsWrD6LKTCpP7nC4siUse0ngLaLMVm6R962gsTnaOqfOYYZL5YXVsd/5WgdjUeeVvN2f2w7vywUntoHFvtp88n2tnjEhTb8KYHtvtEeWqttSGmSwU1hONOGsWUeCJUakxzypE68cIumzIs1sTeAiJ27iCzYa745g0a38HFnOEPx1ARSY9kqiQECDnVaXdWG+po8V4jWPZfLnd0e2dRsjIu78+6If4vt5pPKqdgG7XLfsx5f4nEzexgJPPanrfuqeQgCLZGHOSUTBlMKtNABzm20YkQugqthywFZlXfbENjMT+nQ5j6kdrS576hVP5YltqlxA1d+uIK1tti2um9lIW7aVZpskzPQw804rXSunr+xl+LXYYKLaWaczN6nXAt1FJtxKjbwfef4Y+YE3A+Kacf3/TV6wL1AFi5zt8ypekf4hE1Z2A5YCVI2ntp0afvo+Lz1jQGktmhrBUyGQhF98Ny3gwoqlwYl3x9EwW/0LRRUbA7Ptm1bs43DVosNIbsIu5gop6hCHAvhrK1GUORK+CxetxGzldf6N7qorO33hHsAhtYVdW2Hau5jXN7VuzGsNJW0M2HQ12oxhAq7CBYqGI+WYmhk5MeYrQ4ItMZ2YbMbnjuhr/fRoWBBckm2k1bMJi2Uoif9ZXtR5FlaBSslW8vInJ4sXM3SUfKocxG/1Ip20sBdCWoLh/lF54qVFziMA0f52I/MFCy2wAySfYY6KFRU5bKjaLYlWI2Jii1/rIHqhIwOmnLGaGOklFz/ihkRB3vNGy02YF+sdGFs9rpnj0u4Yror3UzOvYjaj4BGkctFmHzxutB8sm6buh4bt21vQ83wrUN4CfIA3mrd1hwrO8v4nDCG9IECbF7BDrSJdJ8oh4UPUTG5O+RQ+yGa3XTvuZXxktukObhmPBnTeQHYJ8nA2piO5ag19WDOySTjHMg8hBo2m3JA4vxevDdBPU3sAJJI7artxQiJ25gUbBRc5mzoEVQ8LuKwgQEh9jLSIRDL2P3gL5H2A30kjkg58XGtaB3RdSKYJhlLIXd6oGkjqOThgxcb9LFcdBdUsoNwic2GTxizrYUslgDY54G1tq4YW917fmDzylylSUaNRhUp7tDWEm6xTIdyD+qehEkXvDMQsat6MuITfvxuM7qtVTWPhE2ahkOzNKzx7I1Yw90s8bGiLyITf/4QRgf8LMgkL1Tc25xA4LAt0AIXXm1ZJkxzG7jZQc0mvy3XMgMTvBZTgf/Sb+DB59opm2baAw9/YAGeXVEbDSXDPuSZyF5Uk3xABhbljLONbbM11a8ei9gP7442s7cthlwxLQ4DsopcpClTpa7EYkkmg9qW6FMrAwKuzvlGyybRF6CsZzuWRZd9n5gxZk7lz4iF2mxRqwBSwwQp+5zCjPC7VK64lXab60DT19TagfJnstIR8HM+feWnYuLnLWBMfe5ja1MsDD1hNyzaCsUk96FLqx3Ne385fkycc3kib4oeH7Jj8MpgVdzlHl9q4F+Gxlb2f3hUk7K+otI+Wq54TRu4sCfO589zQpmH2E70INrJye2NSbuV82On3G3pugdyV5RvBrAMnlMbVMZ4J/JqmZ1JZk5dVcy7+HO3EQdUQhOmto6Uc8ozhMsJgs/kO6qOlCQUPeRmC4AgETwHVxzZ4UOftwygQw+QlVViHVaVmAwqUsxs7c1XxmORY9D15pu1U8b+5lljMUji6NahuAyIb3N7sNuS1FaA5t+XaM4dSSleZeBZLYlE6t66PxqnctF6ss9CuCOv6oYy19m7qrExdtDVDsOhnocT+VV/95npblOJo9+6neKrOe2DnO6J3QHYhGVTiR7UoaDsTVV96f6nd2t2Z4ZXihqYqfdIaz8CktoK6NJatX1r3zC+uxG9oHYdjTtpZ9+EMwuT/C4x02axcjujNTaHlYZwY0PbwSTn+vBvBRs82FwKh72m4U9s2o1269rkMSQxGR29L+moFO9qzbYUKenXwkVMLDN8oE5/5s+SIZk+HxjEL6EVhnnf6mbt8D2kQ97ChKW58qmKmOg//zeWc/Wn+yEo3bT6IyeHnyuGS5PcrlEWMWRwAfH4ocGALljMYWq2Btqpb6vbWvBasPPwtBZ6LhRt6V8qNKJcn/D1lZzQHCwfmbEPO3qFUvw2PPqOuMqsr/axWDtpP+PbI3zV09gTb3CXfuo7ZkVq3kZhU9rE1GNut5Hbn3ZGExv3kNCMHNzseKdpMgMOHmCw3TgzOhscMK0xW4qW5SiZDwFbk5u0mT3KJBueTApwYSm6LOF8f5E2S/hiuMqkyLjkYtVHqLrOgYsD45hs+sU4+xvMsb8W6zgmCuEWQ/5VPRzHfdSJEnNCKB3EkdSxSGP5kMrUpzMd/9Zo9IRbIs5m2gafPtb/jAbWnFJnq4+zjK+ZR4al2nkYTasWyc7jsjTSWPeQaGWH4nv/4WT0wJe8t4DO9lJPgipA/tsO5UyI9nkIUWBCYNyGiL5uHrIGXekGLvzoi7pRpirdHsqA4ZvSwLUOiNXgVqpdX4V8KVm29WVvH7AQB9NaEOxJCcUM3JWh20sNviW2K8vW36aHy1vhEnvzjf1ULdBVh77JNYHak4qtEUUA41Aa7ldjebRltV92cNDxPbzCtQ0JZfxJv3lr3UNMhZY8qGlmvK/yYa9OFz06zpld9vdI44mfXdCtPt6bQapQjxy719SxUE6caXJz83S+SsyllrZM9dOIytwhgpmrMwZlaxlhpLardzSuojukHiZjuSmM+J9Rs/aphJknPR4wrmA3aiFuCOs4UYtFvPGoHhDDQBlUS/ogvfmCFGG8LxF6odSkw4MpJNFTcvcXLZm38mHrxtSmYqRWDgfM0dTBAMgu8yKWVc5xK/XTyBoM8+KQsoJk4IBQnj8tCKTpzrGtlHbvNqOxVPGoCk86N/50TBKZyfCW71xN3Upu/cpjazNFTfiwG3rnK89cGrZ0jEYjBFmlPuxnC/heersTtrYoNUPYT0VDTQN7KzQ03KuwRb8Xd2IyuGxH0com12LkykapeJ1PSrF/+OCxTC+NnpaPmrjKN/jmOroatpWxT3AUTYNKxuYp06jU1jMCkhlzHGRyiRzKaWmNObArXy/0h0OPrSvvadjROwUERsQg2QcIVTWNcOzwh2Xdqj1nni0pKImsUlJwhmlxcWVI3CVdvid2VPFxWqyxE5vRv1qTUvs0KQZudmXVuCsM8BbTNjQbykrYegEt7DK5OZPPSqEcZNqKHKxF2cGmEGVE2VWZYzaIMI324hWmYdW0mpmxGswWQZCYTALNcB+5pUv3fbDfN8vo047NfcW2/cMgFmLU2bOhl7EWKPGwf3M8I8KhfWF2i3afPftWjN7NoPm1v489wKsQuXNv30LNFISRuUnOZJSJBkfaGZRylJTUebXL+B4MxXBq5odHxOwJyuBR4gA1fZIeuDFgaqGY1gzA7hxRsUcfAhj7JzEIatvABWB4J+v8jxR8m0QTH02atA37Nkyp7LVB2BwUmLAvuSe4z3IqRbL0Bv5nMG6ttOflbzDWAes+EdF9UYFrWutzW1fe5hxLnRxgavkMOo2uxGa7sfHF0mZaISSwG08akdOnHzBs6C1r7RNcPh8iiS2GEGfoJOIKhf/0cTW49fAGiW3q+taKQKqtm7dCm1rs2TLGMqwt28V0cPHbIO1Uhkm2xscnq5bQkJjHi0Wm/um2HpvWsIq6SxLnjN004bc+1V+WcX2+6oZnStrQ9GYSCN0fKRfKsB87Ykbj922vsKzK36QJhrUfrWAn9/gagyBa5v3xoO8Vt9h42DJ0jhYbcJYVO0ZN1YEx0d56Ub0iYPzc2HlP4PKhhLYeCcsBCRW7fXtM1UzPGX8EZdcn5E5u60Bdawtp96VJJvamOqQvkjcZsancw65JW5UcnIeiSUhHFPzlHJfA0EiOLC2dF34IbmMHWjkSzGwtlEc9UObAxEJpTB1Zznpg5X4CO4uVEkhMgM+tMBiwB2by3IPooJOvH17Fo7pPoJANTq+TPlI3orh8uXTlSW9RLxqx4M8QKReccaMfsLaVchIUUEjOtdnylw5sdYxUlxBa5uQmEWJD5/CEr22LDFhyfLpMATbxhHs9O4psHr5JGXn4VhuDOLZiEzpc+pDHn7bLBBPbMvBCDffg2Cvgow8SzSih/K8ALWG8NJ6FaX/F1jzgM1pJ+HfibwFQAyt0tvBTdU+rQCwtW+M4diJHQiKy0DmAN5Q2jQXX2akthCtYlPoM2ve/PXCF6eZG7v3F3LZx8dvnqJPmdsnIwJZsf31p1JhorkKEg2CnVPTtKHqeeYJAcjCf5PGi4q5866J99osFbsCqKeOvwJwNyRA7PHHefhgPNm47aOuito0bwfvcIiTsHvM9/k/Yh5TA7vvxUq5KfCcW0ds2pJb5xKLaYB2fTkbrSg54puZGHAyHCrK398Hs1xWSHV76lvZYMCnZ4fudrJ5pRcJX5nQsu6rInCkcvp3lgo7bcU+4HiQTvfRmvpiMEEuit4VA8u5JxgYc+YSnx1BLgKmFGqVNUr5r1LB64pmLs4FgCTQ7lYsZhmPnQJB2bf1wTiYwaDbCTs3gVZ7tM0kEiWSoZeKYpVq/OSZZx3YTFCGEKPGJUeVciqh2ePJfbKrg52RePJA/ormzagcNi6nFHW+ptHwatrXB3IxAnJnEYJ5dxuCy7VsRq8+7gLs2lP/uv23bqA119EZSx7/z1kI9upGGuyXC4a4YwC31oPkW0yqEaVj8kJJwyJbTdE0Q7nrVsZsPr79ts82mDTA+cGk5EfopcazPrYPWWweVdisGnGbGaXSLPuimwNyVyG7AMbwZdoFrnNM8Yje4s0hI9vQxtYtHnVis+8/gINjDwEHdFHpMNevQ676Vkcxf7U7B+WCFJjQjqNQ4saXFShDGtyFZU501WfuEy0zRB/qx6C0oFECPZauY9JyF6ljQpxVzh3AyhitFjPeJJLht7Sz8r0jbffq26t4R2Kk2H+TTPOs9t3k9ZhQ3j2AJZiQjLU7o1hFF1E1DOCRxqSB6j3XGQif3CfXukxJ60/eojSN9MRILVNJRIq8G9RlNGVV62o7K2bGxBaeacWWJsWt9t9QSLepAaqRy8scCy73VLAq7kvv1DmL27wT1js8iU7YtGDscsbYEWtToLlwZdMgfEfcVTxQfG0lF72xT00b0UFxWGrq7PzAPm4nxjBY/QjMzHPWBd2auMn0kDktu2mfcLmcMwD2zxhbi2Xyj0ATlqx0T8S0XMxY5eymdMqy9PGTFrBB7ORNmrs0Z8ewDNCFxZiQeYzZwgaApoyU5cRgU2eG4dC6ZxGyli2HTJ+4fVKLNfrhibXPfNc5p971mHzdl+RPsDTWRky38oWcTN1cmOzeNWxxqxvBAX/Ggt/3Y3mO36WlTw5Rsx4iPrZ5a1yLmpDWRz5P1a3tK0/ggtpMPWHlacotsWNNc3sCIhbbWgy/hZWvPtu6Jeh+p1U2yJm1sOgMnAyWXXlWOHdoKxOO9Rd1ftILeSrux8hofO9R/I6pj7A1ru58g4LcjM1rnAlHLyFqpHr+bMBFQtfPpOLsapuqGCm1GnHEnXi3Ulo6W0+1Je/R4pxrOAcYCrcVxPotAIAbQrrIntQGzFqR+37G12SXsik8HGorUtosP23pH3hEYVcZyTwid8x1pbux3vXMLefC3ElE8MDErhhFY08xXvicAQycF82Hfhnp6Jb/shZ6zU9t6QOWO4Ix0v1bsQJxZnfFXxoRFbV8Jlasa97urUyCs0vWtbT5AKtlugTdltprWfdDGLZDDKfvB2U71GDmMcAqVgJ0Ne4rgTG6vZlqV416cnWKV1pZrppZPdGaz2v8ef835oLnl9+w4G2VvH5dh2bNU4JKt8GIrBz8Jp19SMl3qtqe1z46AI9QhONuEU1sfxJ/dKAe0DYgHe4q6uRvm+ikizbrrm0VHgODSiO2YPECfREYxv5f+YcjbVbiH8/btsFFNZaSs++mMd5qNkhSuv1rJ1dON06AmhsSEJjdrM2IN7EbmND2hZ6GeZ6wz+IPbrjGsc/bMAu2dxgaxwYaVz5BUh/8p9FiIytWxNsGBgxX7LB+5PITFJcT8ua2ELINI21RKxsAzn+QIruCgd1tfopwMrfb2RUEvZet3X0vx6lwTRo605YiJ//GnkbhDZoZhzyZ2Vm1DCy9obfPM27RivGfmg6fmAjbhDcVqShcUinPyUbYIG3piiU2EfbZtLqePGLT0wwy6UxY2zahwrkKiFqUrZl1BGXxp94EjxR0lPmbc1SuDLcUv6TAmSq+1Sz7swVWTE91JyhPaFCbQbkTSwWgEjtbXNPdZxLNjMz7itTLu7epg2DCysr8SlVx8W7MQkDi/1hWds1mTZsETTcUONvQVji54mi0u0Lhj8wriWOFi+gXIPWMmbhVtUsW3vkJpv+xf6RFGo6x9bMEGGJi0j7gEPG1gqKGlzKeW0MDvNsqKLQodqIyDTMCrX62wpajbxgP+0qfoc3uV4UcW9OhWqYyz6sJre+E3gkGoVZoZBk3EDd+m0lzJ7eOW1DU3tTH9nMKkb/9qBE8aTAwNNOVRl3hM5J2iPD0Qxx2mUd3yHtIf/71vyQA4DkWkcTpvV+gfJ66WKbnHIBmLVujZR/RjGfrl5vP+9axMiWIcMVS59J+wr4nub9L41yLX0YCODMC2Erm2wtof4KnvwshDY7LFgQUEA9gqkavgplTZui3t2C0DscP3bsLvuEB8C6ksEG7tJGUEts2TISq6no6EsNIwri1pvrdg1o4oyAQo5KqFxjYzpnIYEqdwJoqrZU3d5h0DxEc4VyVb5t+B2puO31uwObEjlhXkB/DTajeBQ7hxDhmVfgqHtv11RDDcCSVuBsa66Nm/D1hFf9f+QKsxKCAMPTlV97Mxad8m2AZvNdkUzyL48OYTKhOFSbmKXpxH3B4QP4AZrxPsA6I4TI7LjmBsZg4gLjRGSRbMqTPKfocJLibKXklnzAcIIeN/bxy2IeW35x6ZxLTcpNVGrJzSA+iepFK07FsBKMTVyJj5NkDu2fomCcTat6PuV7596fx+5egr9SM/2/zI448tV65cWV568bnl9dev7SDQsQJ3jNK/HhNe/zVaW6/bd0R3qve+R10jhYxAuEruow3yQnQb7fmjoZsoeD/QxjkiZWTqZSntNA2mwq7s0H4zlJQy7q2Q0mm7O0r0Gx9d9eFenjXfR8BiYRn0ABly3vmRwT/Zi8m+POdChcSxhaWIk46ZQrmDv04G+BsBctTg0hgQafqKb0/rPysu+9qINe7d0LHpenPef97xwP9EILEewZmg0IK9nSfs3csA5MO2YzuJQy3wZFZZjM7Y1DciGJsc6Pa428MxQbpjuBV6n8M4krDiW/Yt60pLN1fOtI8Qn3DFJNUpNL659ze953YUwoHsjDiotqltxj5rvIcObIBPTwB4fB6dPy5L9+25FyUPSeIX/9pgZ6+4Fo7hNklFElYSI59hE9eQswVHO80WoxgmRuw/LZYeU8RiJw6ODzR2SrKCTWZEFylhVaKkUp3dzezIrhJzy6GykCoADIE3lTh4kaC3gLTyEN8U5NsllP1Cttm3Ke4inOZujYDyCdldTnAmC2mmXh9eAXr16sPLlYeuLDdu3FjeeOMNPyMVNo0fFfIcy4pBH+yeTCZ82a6clFZ77r1Qm10ClmGD46njmP8OBqPDIBFs6Mw41EaBytlpRKuALKtyQSS+tPFVgnTSbtBhDYz46rI3hjlwBK+M7HxrUOvdodqEaosRW4admrFhlzExvRwQadUgroYsq8yljScWJNWeeYjBQOsqbZXQBHKgJcrZ3oe9xnq7N5iKYc462qv9+2YVs/jjv0VL2iPRhBWh2isug2MC7gM+I4vuWDAGCHwHX9qszy8faZ17WuQKKKuNWAkXFPeAKlGNHr2pj7o23PvOxDnplZAehbQ95zQJhFNbOnvYD46a0CAsN1FViulg57v/4MPbLsVPOAGwdc4D2FbTQrmTlXXF+YoZPmIwLnnPohspcNc0UGUcso5FHIvBVcb2Jq/SVRoNxKQQW4k6OfEHIPzJwsA8Qd3xE4nciWaVvY6aFv5q3ToxiKcUCsuOF376RBV3Cooki342xRMljBI8CMPow0nVatkQnFpPK7ZRp7S3XdizSdJhU2TVbCo8D6J+g3m4sqt5n2uHQ30PJbG6f2MOcTKO6KNoCOpB/R5fd5dr164tt2/f0iL9utlyQFX7HTZJicf2ABFmwE1HX38yJru9mEru3gt1BwHAUoxy7xgUoIaQdoBbh5pGUYUgwAC9W7quHH7IwMKvz+yk22Dn0oHVwgRzRMjB5R6bL9EbD0A3FLjOuOkIdwackYhezsbTFhnaDqe2q9s5Mm9bdiWaJ/Ta+SDGdBWorFxgdxMx4y/sod9RYLp9voIAvs2gQFJsmi+EUjmIo5DmnWrLvKncAS1JOnIklPAJLSpPj/MaJHGOVakxEhegg6N8Gotj8agxMvh6zEy5+9O3YxgRDchYGMiiMz6otz8qg2Ge1QdK7iHYzK5+oM/gtU6VuU9Fe8mmrKriZj2iH93lfjkY6FDOJgSXfTWGErA0V/ITu46/hYsKBoxwgtPcyqvcpO13eFc+izazMEYXSzCjNHcxd/cFrOiXOww0+4QdEsbnYe/gcGFla+vSHldmGmWintwWqYhuEiOFP5InxGoLt+Sa0RzikeLcz14xIlwMylrTStmW4tOWhkxSaw5OaG3EigzFPpWBg2MFmvCqeErm8XdKG2SwiVHPNlbhDighK4/i9H1bU+1vZzb5t7Vb9k1tiZ4sZgxJf2yOIVu5+zNu9JnA4l1QwSUySdDuaoG+sbz4wvPL8TH6+0ouTeKLgPKgAGYpbbALrBWzeMQbquElEEzgDi7Ug7kjgl5QDa1WVcJDwyCvBfPCPyVo6d0ilnHUXNRmkxfboQy+0mH13lg4OqTH39O2Tkhg125abKlP9MI7pO6t0Bq21Z6G1aHpkMMf2ew65YpCtEVaB2O4Wz50BtCORrOFd6fld6Q67U5DH9YwdJPu17bmjxQ1JNdohT63GpmxO33Gjjmzg+PAwStk9pSRpKGC2jvnpn10ACAIgQFeMPIcgqgiNk5bbhWo05+/WuUHwjjDDhQIlrGzqgXSYuumiZxVp5ys6aeIgR2Dh1xj4u4ehuHKN10dqMOb9IH99saonqvEP49F+zE7hvZiCPRqb9uxl5dhssKWt7/wDayKAQzugvKlfVoXbVBqYjSANrZPcaTeqSodq4QMYvvbjOTQDrSZDIJ0ypAccEV+bDGWfxFyGZ6zk7RCr1Dt9RVaR6Mr2YQ/8nOcJhYEt9VRg84HX/41TzaRvkwa/dRmr4FrinJxyb29MTNQxCJAMB2J5pWQlmt9U+jOcnz+gvsieuESv8de+g3OceAnOfP1+Ed/JCSkNuj672/80HRwoQ6KJdHWhTIEkADBR0jmv2KOMiotjnPUY1FnUJQSKDdWe+iHt0CuXbHPMwKuJv/WpwOKAQQEXfXZsWIf6XeSEsdl2oGEvY6S22aW3umSp6VpMM/lBiZ+M0bTHzyPXci5m8dYORtpHoA9PM6WmFslMYTkxVym4qNQ5b4vjFyNFNlGLJp9Lc3Yu2Wi1BIMn4paB0+5IrAJ5uBxLKTFE64wpnuMCRP2oI82MJQzLksjOCzWx0fcztFibVZvKd1fwl8usUfYMisOmtYUW1Lvgwpq0Iedgx1ZPxGjHJtZ4PSBbGXU0WSCcmqURSOj1s3OhSE7ebp9vRdrRphPTWj2E9sGzWU2+jjdVJNhSVOzqor16tOqJ1cSWJibW0s3QiT6BtlKoLmvATK58gCHq2VbrvqXgJrUIgpGW9siBgUXgtuBdMXbbGyW4ES3HbGvx+B236etAcE6lBKjbjF3ghlfW2kz/GuUx1fZ3wFMKBKXsrNcURQ62sQvjJ23S+AFC0C+cSE+f8LhnhibjL30TyOgpXjbKHJhNB1Mk8SW8YAOg1owLwVTUXxjoZ67aJRbAUAq+6PO6rINA5fPTrJjbQVtk5M7rA9UbTeHShdiRNuN7rzKlADmzTrz5UDafQ5AxPRB2vZiidoam+a00aDUDVWkfaSKVbOkCpYoTRzMqyRNq8bB4IK5BmsX2ktYdoFTJ9Top5/2eQy9Jwm1NZzOkZZsFUMUdSpTolNE6d60F1/iUcwtS4692dAFKqnvzAaVQs4sQysBskoeF9LJLwGR/NIbCo3hWEDolJ2knbYn5pXIVEF3X0KHPjUZiIXYNGrSsbnsG0fsjxcysXTfWNgbyZRt4GBCckYFXimXUB6YwuYy0rxDs5GQtjxKSMpdMmDOFrExKTnVkLCDFjZ8Gnu2TzSTzWge93Gxeo6xDWlnu/5+O+aUDebJvXixuAZOrI92KxJAPCh9ygaPSattmeDC336QY5pliIUMtJifzlddBwfmsf0pw40lbUU/UJbvX2suMYAEKPDvWJeM2/CoUwWmq+QxLmGkqo9tNA4MnfbA1CBOk7Wx/uAj6rHiamiNss33MQ/toxsZ2bvygL2PMfi7eTIh3GfIlLB1iK37dwTI7Q0IQ7ASrtAhsV9ENrT0k4RbVMUSDU0A3RT/uqZmFTlgtCY25s1N0u6CjFZH3bolIT7VLYTR1MEMTyvP/lv7gXGFpAPxdCe8iERuzCUyfCzUsQquSq1weLdDp2oeNs1cPNFTlbcnI6wdWjuzB1t2qPHObe1Q8oyO8wvPxTvkO+gEMf/ODefA7gHbuz2dHhhb3o5COqMkithtQyKrQVXTyoCZJ+LBi6EzJ+weEdWx3dg8k7JdvHRn6zPQGoeSI0NuV3ZWk1CtdqUNGUrJ8WcvpGrPRDijpa+sD3nBekcImPuxz7RMYsNOAWMlSo8//o7l+vU3/NKaY/3WK/2/STtVtwkL2XM8+W97qa248MQkbfMPKSyF5x+AZ/KXmF8xWnaHEaZihGUsVrSaMLTZH2EMv/BR/NzPBtL+RCSQphX81mTAk+gAx0sYXqCoSlApGX3V9cS049Z9l4kscOsWhfXxEQz304Wjxe+mHq65q8v2Vx9+eHn8sceXJ5989/KQvsJCunXr5nJy68R9dOvmLT8te+vmieiSEdyJ+oErCUxlnhoh6uP3iSunneRbA4rI3bv6cQPRNzaOqxflF3F2sQ72JM+Beu+CkSUOxER+GJfxIF1mwgaKscUGeBN874qOBWokF/JgY5EnRZ9sdrzRYm5tScJWWkVrMjdlpZqpuRAxaLdDCM6MhEz3MeVtav4tNTXi2+3K7ZjyGi+7Erai+U/h2ZVJvXSAn/8tW5uAAsrGdmHlq2pCy2F+bJ+vDsGcn+wUM/xK2edSKRKSaXF/g2NW02yf44AxbZAY+Lft0EiSq7p7WSC9X5uDjYx1fCtWqGnpssy49N26UIM9J2kZnStGyv7rsvIEjLYIojTFbNdOVvvqbTMPbY6DHYEUp0FAxGIajI2FDXGZxlI8kFKA1xNm0LyFZgzn1pLARZ0JKr7lNGLWSHZAlQ5S0w/ke7IHeE4nMRl0/FFHbPbjgznpuvQnEsSTLcn9LAYfUZpxpbm9guTQd8AmNaA2DjnYTs7oA2qZuNKgrUQshV6I6OVyL7nrbHKEa1KYjN0mwHH79k2LXrhwQT/KfkGUbpVAQcHnNOyJ53d0n4mdOAtAM3XewpVLlsugvC73WC87wDYOCPnjTL61RhqZlqc4lWEY9ZIiQN1JXLbGLv25P7TQumng0U/C08cwEh1H4YOn1ceOsCPDPzTS6CWHrPe1tJ2yLXP5zflzejnGLcX++o3ry3ve+/7lD37Hv7V80zd+Yvnwh96zXL5wfrl46fJynjihTg5wJotf/KCJf+Kv3gboJ+GxhcVHhlqFZRATXZ/bJ7e9uN+8cVP5Tem9rZdNsL8LT/mNG1r8tejf1Oe26rd00H5bPCzwJyfnbONttd3QQcKtW7cXDhbgoXzjOpg3lF9fbt4EFxlk1a6DiRPrB09l2c4ck6f3ZZ/w7/JebBZ3fRIe9iv96TfNcV4e2K/et/rJfvqQOHLA5/vV6aT0LZJ+QcZt97FMkA46L5jZT+Y+YiwwTmLB3PLg5VMwDpHpJ+wmxchRtz0VkTDsbvFnl6b6Di3wEPERNYlvS6LHDxG3KDHSp8eO923JdGx23Wh19NM6DwhTf73UoCOGNTfapzK+VzW3vdTcilp3t4Mcp0rEmgBcU8mcvlBbVIg4X59VukttIHmsYdvU5jqUt+3bNlE3DVR2aVuJQzUCPR8NuzwYq42ANjRq7pHux6dDEEC/WdlDeIdoo7OtqLV1vi8xBurk95g86GstCH5nu3KwWXyONYlwz6QP4COqrR1cdYldKXKz5t5ZQlv5i9tBklRyQOaF2kxuHeJtetSXPsmxSB9pUfACyiCPBMPYqVFoYZLtt9GdaIf2wZ0E8vAO42SWDwDDhv2fhYfY7P2WrGjmBMfaESgjlLX+QTEfky73RsWoe9K3tACxQBD3S5evLneOLtbZGMzgAagPZUrG98YV0JjC5lf6mrNE3P/lm3VCB4jNjAVtL8HAhzPSYy+SJzevL9/wDZ9Y/v0//ceV/57lsUeuLA9dvrBc4GlYLXYAs7jY9MLLxAddr2cVHL72DeG4h2X6sz0RavN8OZ2+86JIW2OLGb+8UJbO0s3YxYacsXMWnoMqMG7d1qEQC60U9OIbVJQLW1sWbTD4+hxfx+GJX64CcKBw88YdfU50cFALvQ8i1C4ZcFn0b+v3x33AoIMHbACDqwvXdWBx7Y3rOkDIAcgb17nKcF1XBW9JVgcaHHDoIAjeG3zUfv2NaxofeuHGxavL0fmHZJ1i5x2TgwRiEOurQOVtTlawgzl1VHVaz0vuYJoJ8CnJ4/BgW3A3W1Xoy3lsIOq5ysTWA0/FRrrZL9ivNnYArA/6I6Ut/+Jf8aMdHU5dbTVNVw4JLOO5T6bGUdTYVN/SVRygOUkZCzs6A7vd6g1opRUppQ6ujRRpNXY1AB4+3uElE+MsDMSoz3ZGrZvvY9PcygHp6iRJn8e2OGcmnKRB45UdzouPhHtiUoF/f8BULdZWCCoC4UdX0cM3EShWKpbY2UTl87EeWgaYy1XHgTgxqClEwmUrGFpWfuTE1uLpR4YimlseuUk24N76qHxTLysF6D8t0hcvXlou6sz0SGcEx7r3y4dEPOHusWJi0Smj0RMv5TIQfstZzdam5tnPOauWIBaxw+2m1flNi890denb/a4WLVk2Kk9cRzdnQJyd3dYkzW/Damm0f8gwKdtDxwLoNaLn9WIOjEKGxHjaSwkOVrtpsJTb0MHPhU8u0cs+LRgnJzeWD37o/ct3/pE/vHzNx75q+fKXXli+73t/aPnZn//F5aGHHxFPYmBZ68AUodW+izLI9lv7jfUWH22eCMglY7vdjz1S4S/mA06V6cDYXlhuXn91+aqPfGT56//pX1u+4es/ujx8VWNEl7wdPy3AJ7fMTrgqSYNtxX/FWHRy1N7VwqNRVnw0tD0tysIsW1cw2cFBpHjB7/lLxT7odBzAFjIsmbPRUXGEaOUcTKiiM9eMGYSK7xxnssQrutOuy/h8dc6oYOCD+k8fnEWf+ZiErb9ijD7sLTkOFlhwOVPHJs3dbuGMHWOh2l8w6Hvdz+Os/eWXX15+4Zd+ZfnBH/6x5Yd/5MeW165dXy5e0QGdxvQRfNaB9H6K/TPdQZgIh+UmhrU4T/Cydu4bMwk6MUp8HwB51aHSwO3+FxAuZiyp0nbIdV+lwCUWQvFzIJiDMMZPXenYjKFSRb8pfnTYfoyko41HtvwSp8sgpLn6GQJ49Kv7ljpM3oikqDAYEfLTikKSD6aJfo53N1g0qOJazj32jidAl5AEIVAmvG2QjiIp+2M6PKmjECjzTnkQtF31qDhV1OSnsWHsRFDhMVuZBMUWQ468NMup6OdSEYuHd9ayLXG5qzOri7r8eX68LSadBp6w0JWCjA8uZpg257T530Iqx194h89USI1D3EjulBSbN7WV1nGEwmBa02pTaIWpyorVtO4bRik0ZCPfE5YaDNP+ubK3kYzkORMlphcuXlguXdJCrcX60uXLyyXF84LiqVPrYGlrPO0QqMV9psP2qc/m7oqf3aN2Eckg2LbHiPbJOVgVQ/q6U9NmWbdidjMpB58DC854sc82FqbxVIZ2wuVOnbVwtsOZ0PWbN3Smct1nSDnz0WVM9QnmooEJgIMPDgB9NGz64Q02DHt7XARGyrM/2a4SF+RyRTH+C3/5u5e/8h/95eWJxx9dLhypH+6cl513lu/9Zz+6/NW/+p8vFx561Ps12P7TbBU95PHduPjN4jEHRrraFMiWM44rEMoacFKebexmMGi9ef328qd1Bv2f/NW/tDz6yCPL7es3RFXcGR4EgEWrUmQlZbuamny92tW+lG1bNvfZDsnVEeep0fGJuo1c5omJUUWbqs0qkzli5kKOs1vG9O68lUhN3HY2GLQxfjqO5G1vY06Swwbr8mJLa8dFgVW/AH9Hi88Rz2AcXVhef+PG8o//yfcuf+d/+J+XV/V8xsVLF6STMaYDiQR+VlG2YFWSF4cqx861rXlGXmvEqNe72lcbq0V6Oy7D90EZ0lOhfZxIFA2ytjl+zdI64PGg1NylfZQDHBK81s3+mk52X3Aw1Ml0UdOcNQedoQuKRdNG1LwPo+pefxRjl5EHsBxuz/u9CZ5DvC+IS/I9z7tvRCJf9enAU3NXP0siAR/0kp97/IknrYedTEOgOpfgqC7lvuZfHY4RFDkDoL3nW9zhiAA/bC9MdgoPDqfdAQ+/XbY1CVrX25GBpAmTdGihho7q815sLu4t1BidS2PFaK3YnjCQd5kBEHPSlhihYfIzVRGapwgdHHgrfs1KDi3xdEBHB4ZnBytRddOKRaQdbS8gPisDc9JF6y7S8I228jnAxDP3XLl8fOnyJT0AdHV54p3vXB566CHdZ9NCRTww1zrSB5YVDu4zDjrZP/iYcOgv5bYFnfQBR7xlHXHw/2R748hI6WO84Ys2s44d52yX+HnyuxfqcXnUKrAB/Ux2WkiUc/ZyU/cpn3/hOb9l6LoWnNuqc7bNZXEUM87wgZ2OSXSbhChSTMc+wc4su+OC/cxs6X8W1CuXHlr+4p/5nuVv/I3/eLnIiRyRvMMZFby6Jyqdn/n5zy9/6k//+eXSlUdrR5ak4jjrRRLlUZ+FGvU9FBO92AjrKAGiD/FjDPRCDQ/J+4RQ8f9YPOc1Yf+Vv/Lnlz/3PX9CB3JMPlxd4BJszqiZR+4nbcbfJJDxNREesJix94BCbwN79zvhnBNjJjTmnnlwrFxn25y+occsrg0jOU+c310uPXRpeePmneVv/lf/3fJP/o8fXc5ffkg9cEu7XO2jticY0b/a4Hm+zNhtW61rhsLrBg2u7qtVFmU9Lhk7FYydmDTENm8/t9QEj4FcdAUzLsEvolWG5n1GbLYLEY/NFa933+4Hcsa1U9kIzf0RYNAGQCIPhVioF1rG+wetSYTeVxWNr4OFNp66Pvi0NzVI2PJuSKXxdu5RQw5D6RtZCwyCFYeKEegmOVNlnz/tve32iJVwNzoXrckwz+UN336FIMPuYGcP2TJVkGJ3Akc5/61I1XIqeQ0KI7X1W9hDNQ+YQw2i3R/KaVzYAzC5PqCRhyh6/DAdNtW7j9KWSRni6l9ox7q8yxWJq1ev+sldFjVekXeiI3nHSWgeqFK5RmvVZHXm0VHuBa56nPeBEyZ6kZbQ/BBRfMD89Bvydg128bZLGVXdwnLQ1iAReXJels9ijV8+ooVIWVniBCE70qULl5eHHn14uXz9dS/YnGnzOadLUv1VLx8FY4gStlRRNdGwLy2jjbpjamaEzBAul7VBlEtcuvT5yU9+YvkP/4M/s1w6zgNw3Aft7+9yH1iuLJ/+1IeXP/8X/uzy9//BP/GVDiuzIm2MKf9Ww6IwJntCcNF8qy2UTEdOH3TmiJ9xlEm5xxP3Z490BndBPH/pL/zJ5c98z3ctly5y8JJbTHqeW2g8uY0S9VTfe0PJA6QDJj6A9O8E666FRDC0HqcV1WFMtbrLzLvbT4PzrAJ6OJHKOObthCxKUG/ratD5O5eX//pv/hfLN3/LP1/+1t/+24tuZSfRH3zI3pTewrlH5n0XY5wYixTieWiMKe3f05WW0LfbeLelzSjblnvUJOjFUmy9Px4pFpkThrEyEw1TvfixhfkiW/GsHbzGsmklHj14Lv4BuY8PZTdZZgh1DIN1Pp1HELFDOyc5prGqi5ijNmDTZqNFtw2j41ExhbjbJ0sOGVYg4hKasJoHpAGtVjvQjeGekHeKnijETIfokwknZ0/2tRcbVPqv5Kvump1LO/WerKCM1PZ0br2jNb4QVKVVHl+mRHxVTeRW7FCLr/2ZxXxZbMVmMPLJJEvf4Tt44UkZAHZ06XMbMWYyFl/YlGlxEsOxJtkLWlw5swbl1WuvLC+/9JLOMvPgD3p6BwDV9oKBPygwYGy4KAwWarBo40oK6rm8zMf8yAF0INkX6LaZXB8xk236zyxBQcZmmAvRCFlXHQmLfTmv8f6wXqr/znc8oTND3Sq5eH45uqmrCnpyg4Ns7l8javHSW94ibiNsH/aIKeNNUdZkhG38W2f1oe2q2NhALdSXHrq4fPITH1s++IF3N6Rz7Lc3YIty4fyJLzX/vf/lHy0X71zU7kirFaDcZSZBy6hWrRigWmF1AXalylIR29oLtHCW4Wtl8kc17iHrq1D/9r/zh5Z/70/90eWhSyzSnElLyuOoNSLLWXnQE/Poh2JrYlJiI1qxtqmi/OuaGFdlvE2sPqc80eNP/HeT+8oCYZt4Q73XFj3wrJjMb1jSfXbnrp6yuH1u+e4/9m3LY1f/s+W//Fv/0/LSqy+rK9jntZ9L9IHV7ppVl7r7IK56M8AykNjEzoqRK1E862ZsbOPYisQ7udjUoWcl3Fdp7qnMV3q2RLq9b94XAmMT+zEqMcRAcL3FKV35clJx45P6Z7hCG1IiMBXo3+UIqug4Vc2N3ZIce/2diY0C2uaoBnZXMtrKkuF4bEFzpKy0NJt3mL7Fe9tq6Io+JksWlBEgR6ksJWDorM2wahTu36DyrtSqBsYgqriJ5f3jns0pr4TL4OuHvKj7iVYtpvZ76G2nOg9yBkfR6K8ab7T64TGdVYMNln8ZRve/OKvivj9nw7du3sS5xNeQYxSoRhywkQn+JAs+i4iUoJGvtvAVmbFQRyIoFTvvGypbRvZ55zZHdZvKth4eylVJHr/6YDOycOEkefh9e6TuZV/kmQbuC3P6KnH85hP+yFgQCn6372rCcy6h+2wHkUpEB3nikHySE53v1/L94qfe856SCF9XVq2A3l3e/76n/Gs9d3UAYSPBx+EoKDH2PdGhqW3FULP5aJNMQlQyB2Bo4YyfmaX0fOyrP7r8yT/xR5Ynn3hM/aqDrCFNIYDrGXVava1N83c8WiZ5YhNIsJo7lO32rPaz2rYob73WffvWke4PYY3JWipJHoSjT3Qw9ft//zcsf/2v/cXlv/lv/+7ymp4QH8/owfqWwrOnNcqz05Uh2yyjMYuW+x39B/rW5E3LKbo28Oucwwllvp8edEtLofeFjcx+Bd7sKW3FDg/YBE6MGzzYTzNTbch4DoJNtpjdsaJM7fS0C+uFOtqqqZXbydOBfGjgi4+SxijEJ92pM5BD9JbNrgVnqHiwJgFbaZmhxcCXWRygMkxlT2wFPGxqw3d8OKwfn2jRxvm0wkEVrbQdFj+FCtQ95WCSgsrGIs2CzUCY7/vPR2nZj0CPhrkNc0x1c9qhgefLx+o/cC/oobJHdIm4v870wvMv2tfIS47BHEUiEROwEgywKLPo+oxdTxzZXi+EcCKvf7GNsSQJEnx9wMAlbc7q/RUL0UG1DvNJHpUup8WgENSQJTdbFKGzX80JN09zX9B3fkks0F7c1bDBVN1xwRfZEp51EmpeMODj02XbGTet27ZJgIfF3tBDbCTb5BKbwnWJ8rFe5nJD/CyQwuU0l6OrqBBXnMeGfhhlNG3sgDX+q3RqwpY8TR6jH9J3of/At37j8o1f9/Hljh6+C+TQIJzsB6XKuPZfhI7DrAxajxfKqct208nhZhO/ItsyjUkfMhnCF1vs/5CN1Gnbmpp62jiNbUOPrpW06pelKP9dTOf0PAPx4mtx3/kdn1o++8x3Lv/gf/s/9YwDB5EYlhjJ0FF8UHN3/b+3PDr1mWITW1bJNCV2eVArIh7nK9umxPjsoYEGywkIbNuoAvTdRNuuD2j2HhETdkWshvax3xg4+15riT0zQMpuL0N8IO81aubbU3eQoKt/QrEcgx4nxWcw5a603C64TXNjsxdQBCDuzrrlcjEQHYkEdxcdrJnWAYlsb+HQh0tv7QZNwvRfdVzrMG+LnpGvmjFwJ5kUOjZ1aeYaUqOQVlcxedDR5CGw8XXGcrn4ewCmXzJpJUaUcTu1ocBxKDTrDRDdGtb2NHKpUc7klwEdGR4oI13XyyBchizWlgkCHIpJ7QwszD5DbR+llPveH/rAh5bnvvwl+3xNZ+o3dI+NB1+u62UTnLFzgPCh939w+ZVf/WX79NGv/url+eee02Xqq8srr73mp7T5rvEbkrURdWAQvaJ0HIRp61nQVgMtA++xxj66cqbPZdww9bCnFnn5JN7hFz7S4kZ7bIwhR9zrEyYh+XK4arWzEDfwbuje/zOf/exy7fUb+gH6fmQkwD02wOAQ4yd+6jO6uvHaclnfrTauMMdBUdkigs2Kmh3iMFjImATzPRO+LMv7P/CB5Q/+/m/VlVQ9p+AVLgvzIXFrlW+tPXFRTf/ohA6tF0ofdEDTwQ+ttJshJQlJykIpurk2A6N4LUvbfaTYdR+MzYJPG6F4Y5KK1H43U16MwgHksjzxyNXlu//47/PXuH7ip39B+6HGlgbFGp9YO/aV+zQc/m0M7iXYUclMcZAb77n0kwAAQABJREFUo2q/cFHV5C3b1EhTc3Jz84jCfj4GCsXBafbetP3te9ATG9Baqi1OS1EJLhwaeJo9VI5+t0rfKs8VRNVh5U95i7Ydaw6WGdkeTJp+dO9J+jIRRSnK+y9S0PPxJYZq3UNkr+kP/BYhFxofjC0kSvzBDw13+GAyDpnWhTCYKxsGi2FXXjcgWLgq9tOWOZ9iUjslIYZG/TuR64MOPp0IvAPKdhoUzbeXSzBeJR/4opcK5SrxD2FwT2UOpNC784HDl2d1Roaf/ILLHZdpIbXhpYl+cYKeAe0n9X1VhHuqnEUSo8S2pSOjBVo/is7lap4Gv6nL3nlSUtYT71Kx6oxUYuTBpTGmBVHFxx59dPmmr//65V26L/zJj35seVoLwOO6T/yt3/R7l6v6AfZPferTy8OPPbp813f9sdw3ltzTT394uXzpoi65vnP58NMfkswHdV/348ujekWlX1JCAKc0YmU/42vTCCdfjWGRjo94jv943jhqoTNNS9FyqjNCO4EAbsctdLVXQBKb9E/uzSde8PVVkBPd5/2lX/zF5Yd/9MdkBQm92Lwm6C+8/Nry9/7u39f9c752tvaVXxhCv+kqAPtmrEYWH8hkn4lsyvbVBRhPTRZTKwdPH/2qp5ePf/wjum3BWVtimpzy1l50lmo971AeKXcMqXssyggNCE92fvAMDB55Vz7qoCjRFy7quoLKfLiJwoNBlLofzIsS8+/muYpDfxlfOu5uPkLkKkl9sM2v/pywMGGqUrNK5zSclWpYMDR2P2eJPXgbY4DxsSxf8/T7ln/3D/++5REt2h5/gIk+p4xRiP2ZW3fLp/Cc4bv3F88rqGh58jXNcW0q+2L/dZhTB4aScofcvW8W4zi41TPW14hTbnslpzzjYc7FN3elQSPbel3DBtuhfa/WPOa3QMs6Cq7A3SCM8aI3yVU2/EM8nM4z2XsSRZmPaLeMhGQfIBNCJpaJf4q/VdqRasdo2suWZk0sE/gJycWJfbfJ9X23RMEP/gXM10aO9SRt67B+bVZtc/mgiom4anPnqsUd3UcfgA+WKpDhRKXuN0iDVWXsG5jVEl5xuVA90ACFh4++L60FFEXzV4e8gyA+afL9wwTD/LZNukd8CteZdMVGxUgMLM4nd275fjOXYLMIw9kOtkfJafdHEydnrSxMXPbm/vazzz+ndzccLTf1YB9n3I9eeXj5PV/7dctP/fRPLe99z3uX/+fHfpQb2f5q3QW9cIV75Jd1Rs9XprgEe+vO9eW9T713efbZZ5cXX3xBO2wiuobHjtt+bCe5r7wwYHJ84jkG4keM23q7owr2ZnG1uNr1J18Mpw1Le2PneQj2CekCiE+HJeLWSTy4/99tjD5uJfzm535r+Yf/+H9fPvyRDy4feP/7ZE6+XnbumF/PYkm6u/z3f+d/XH72M/+fnqK/5LphyzeXpTNjyFaU1rmMvcOYLpyZw45Xjz96dfmm3/MxLdj6/vQtUb1AIqrWEXScJkUJ8TpCoeKr59D8lq7b6lMbof7iYCljBLvECw794L6oABoSJNoaN1pC1WJLq5rvHnEAUSmsSE0J3jy8eEvxZYFn14VnPvlwHanSd74On+hrwxZ2A6/+z7GIT8RijXlLbPOtjdu2N1+Lrczrv/ebPr18+pOfWX7sx39aR1y9krxZ5FOsvZeTUtcs9JWDrjgSyiAewG0BZBN5lfZT8EpeMuFlZeIATukA9D7KTPFoy9iY+tpjZTW4bF8JPQ5sz6S06asp7JMT8Kx6LosF082pgp/6ZqJhXPZRPuANFbNnhKncTE2agsLAPizbQsqnYkOMvNsG4UAhURk9PhwTK8HIw0ByGH+4Zw1E45LX57TAERM6iNSq5sCnxa3aNHCNDctp4xygHe7CDXXbSJNjVzyjlcGLL8S2DBpfP2p40+VRCbXdraexaM9336HwaYOUFxOyVVTOe5TzikSwPNE5OLLUouQ5a4Hgr0hpouAlBEzCXNbk8vZtTdxf1kL9gp4if/nVV7xQXtX3Pn/mF37Wi/cXv/AFv0LzR37k//ZXw1558aXlV3/5l5d3PfWu5Tld/r6qhfpdT75r+eyvPbO8+NKLGrSJBzZhLXGJPYSKiYlxiL020lcCfAZsl+Ht1pR5wCwHFdirMVSBZB/Ry8scewaFJ+5q6zGSKHLU3FFrW5TLf1J/fxx5+PjjSsXnv/Cl5be++NzymH5YhNcKXpKfFy8onpe4O328/OAP/Ijs0tPelsNmJJmQUqY/7KWqoSinoIQI3EnJZVHVz8jEwtPeV/Rk+ie++gN6jSUvNQGvMAzROJ1LE/rkL33NKy+fe/na8tK1N5brOijBEt9yELvHiyiKpvsBm+gPX+2QPPanPxM7yky/dCsL/dE5fZMAefXT0Tk93Ggf6W/+wE1+onhqqlMrlyP1NL++ZjZ0g6kPdD70/Xn3VWy6cJfvI4OWhN41WaC0yGlVmTOwQ66rqljwLIFy26yNx5sCZDb0Opaxs3Hd1pXKuQcLfdWeEkhd2m1lnD+tbxN886c/vvzcZ35RX9nix1JmLpVXwB2Nh6u2/3DTmdTMWWHBW/u4dciGpU0NZmjITcVGO2Jle+9LAUj/G2DHuR632Yd2MKWqfXNMMWGKDbes5jqW0XVmmfjaYvLGG80q2L991bPYwfJ5BmwcqOAVWwwYKkSN5UzuNtp8Oxo3VbnrQdh6HVpVZszAgp0BHt4axq5kIGJbd4AQKmL0Q+xEMSV9dmwAhJ2PBypoB6ftchkGkuQy8aWabeFFyRjUroqhyBFOzWKYN3uL5VOzebC9TXXky4X0gmaiAV5IO4POINbcKBKxDC14pro2a6vKrqwU2hlMGXAt3FHB6rWsGScAZXg0IM/ko0VNMeZjPBsvu5nUxA+NCZaz0FdeeVWT9zPLq1qkeTMY7byc5FefecY/pvBzr37Gi/tP/fRP+scMeCfy537zN5YXdOb8uu7ncu+aM7PP/9ZvLa+9/rq8zPjFrE49nplvuTfHwcx4LSg+c4mVEGO7baWsV6bqyW9XxdOXl8GahzF0vHGfOnBSTEitfzUCOfuNEUrBAQtmUvHacBYnvapVZfy9qK+HWYPqlFhmLly8jJHuEfoCvy7qzXH8qIQPtA1HHyXuhm0dkmJJ77Ra2ZTTcnHq/+GHH1o+8N4nfTXk/LncR3fcpKvHgZZ0gziiiisBfu7Fl5d/+RM/vfzmF7+0vPDa68ur6j9uMxAwDto4ICEefE2OAxmPEnyWziNdM88BHppU1lhiPHHQcqQH/9K3oXMp++josnnUqNjwdTa9H11nkMfCvsJ3+fX1tuOjq8t5fRGcA7Dj85ccQw4oz/MVJll16fJF3WK5JJyM5ddf1zMQGjvcbvDrdPW2Pt69faJ3b3P1qsc7PwBzUV/tO9aT1/xyHwc3/haAJwKPFNt2LJ/8V+Oln1L2wXaPF9nGuCEIxkdC9nDgQ0wuqt8vSd8FDuLES8/mYEB8OOGUMUf9kmLwjZ/+6uV73/PU8tlf/5wwGCLSMcZsyzx4zkGsVaKoh3UoAVsNkj4xWGfmG8qWNY2NUo2neVQ5Fg0OhhK0pnt/go4u6MYz27Svpc62IFRC+4qXtqqrrboOspPrXQmlpa1Hmk1lTgF33S9aKO2wwbva0e3Ki6UpsSY1XjSspwTrl4ZwVgh9luadp4PSUsrd0VbXkPt5s68tUIK/0uZwzdQD5RLvFpzFr3QYVLo3OROZg0V0lczT8mGiOR8KTYNZ/keKCpMHNH2IjQpsXVROat5SNRbHpsNsmbALYe3CwTMDTZgWMdOG0+R1wne1NvAJv0aBzfZm4qm2RtxthhNaEv7OmJGyB3K440B8uczGi1KSWGYUG00uiFuKXMTbegH0Dd3v9o8N6OCJxfv63Ru2mXF37dpry0c+8lXLFz7/+eWu3rZE4nL5yzqzRu/nP/e55be/8MXldf0QhM9ysRBsbfC7x2yf0Vs5iwKmYRQHD8rNywLBn+osAu//4Af14wq3dDDxilkJFSIRcEGbHmcU7Zl5UgoPtnBJn3zcjjBY0BoJLND4A+oc3/HnKzbch9ZtmzsniqNniHP1AF8Wpkf105Ef+/gnfEvgl//VL+iAB7+D6r6xMcSl7Ks+X/Xef4nF4rHHH1ueeMc79H366z54csBkOfYnQvjVvmUh55mJX/+Nzy0/87M/rwnm0vKiHgJ86ZWXffsCVmzzFRb56x8mUD3WBpdFCPONWmPNMlqIe1wtutzt3tBCfW657PJdDnj0FaVFMTnS6zQf1jvSb73+mqqvKaY62OGd7mo/4nv9vK9b/X5eT0tzIPDEE0/kfq6G3QUt5C/pQONLr7y0PPnUe5ZXX3rVPI/r2Qq+dcD7tn2AqoXzIT1b8cgjD6t+Z3ld4/f6Gyfqm/zKlp0QNrd/Lmkx50oJ9/yhE1tey3u+3jFwiXfri4czerDJc+VAfFqYH7mibyZojDzy0OXlg+99yg8f0u25DUN/q7KTOLP/5Mc/rFsqT+lg+Dc4ck1QD/DuiJ5ZTW975KbfwGN3PQV3kHuYzOiimUyfF52x4SRC+zVeoqPxwP7rjyR75MBvnHlfa+GgNYcxYWNMZfdgvAWXRt8OaWMkxRzBujcSYzLaikSbBJwhOPEWR0yhn9iv1WtRXK0l6ghIdtINw3kmQQQYNExuHnwaWEyCHKkRL2has4zko3cCpb9WPDT9bhQS7RhX+jsA5PlxjvJ6JzD3ZW6JktE1dGaSaxVQaOkYhWYvWbZ2OmLKfVFPqEjJJkuTD+w9iPsigGU8AQ5XDY74KJSl0OAnT+u+/pz/rAwuOQ7tJzKWK51Epf6LGb1KJcAOeFkPgT2qh8pe1OVvfinoiSefXL6oM+T3vO99y28+88zyzieeXH5D+QefftovWuFJ8/e97/2aqB72ovEvf/L/1T3PfOVk2Izv/Cm+HDBwFuTnLxi4TJT6809Gmi8mORBlHj+J+DktLK9poqUbiCPxuZ8EP7pYnI95t7lsYEfMIg1GKVFWpQmWgwUtFIoL+1/6UJq10N091oJzS/uazoq4R++4Shll/P7iFz7vAx7oUjf21XUMxH730eTKvg2TOTtFFhheCsMtAf8SFj+5iMNnJMbAbS2UX/7y81rU9HWhSyyI6gHJcfZsUwQBTHxWQfFW2CZoelOJ/vLYYWFDL9RMcpyh8gKL88pZiK7oVZq/8bkvLI89/OjykQ88vXzphec1fl5YHhZdd22WT3/9p5fPfObnl1defE0LdVaVxIaFWpOhXuV6TrcXbsnm4/N3dcn+teVFXbZfjl9ZvvTbv+058kvPvax4XFlee+1VPbdxw/Zf0UL9mh7YOlJsXnv11eXaq9eXN67pPfK6OpKX5uCsndHGBfczFFL6PPs/T27bb+j+I16ZIy4//M7lD/2hP7B841c9tlx4/s7yoQvvWy7r6gtf2LtLvxQ2mCMpPk88cXV533veocVe70UYDW+ukLEVH8a+11DTuBhtMsseTW3NPudrc8XKKjK3cNCWb48gIV+Fybrlwux2lbFxNwUuds8+GLF0beRk0M66vKl7oJaafW272lPHLHxhMeUtf3f0zA/J8mqMPpggxtZW6sNfDPR7jcXDgO2juCO9ItBJ9BwB0MZizpkCOwut3oTvK7jtjkyeo1HsQHu2GLm1Br/o0LWTy8AHMLkHnPOK3dZNL033jEJEtaXA54ANg8cKgkvxAKs5etM2UqfcfcRZawt7p0+HeYxFNpMf/PMgjR3ikOIZOzIo4b/+pI8DuebD1paH1nTAmHC5JPiBDz61fOLjn1x+/dee8VPev/pLv7R8y6e/YfmZz/zM8j3f8+d0ifuN5VWdsXzt1316+chHvmr5qZ/8SS/kH9TT3rd4G5ZwbUPhswD4QFOXBFlYfKlb49PPKGCMDdIoQUy2sjQy3pEDCxu5hHhTZ+mMF/sznEUcvomwqQSD72CDw9lWYonAHA3kNyAFyCTMpWBMQZPipCsNCpNe8y07dbVLJmvhkNX0k+z88peeXb707BfDX/tjdsZD+KUG7W5mI7sw7T4SFrH/cNCRAxBRHMjDwsDyalSeDn9D/UjyfX7Gng0oH+2pGqENWxgjkA75YeTEtvgZT3d0QHBB3wj4uq/9muVzn/t1fTPgUf3E5iVdcdG3FPRK08fe+ejytV/zieUzP/1zOkPVma5eFavfh9RExtSnwFr9sc6473hRvnt0SV9/08L7Kov0S/4mBZeaeTDunMbeiXBBZoxxWZ2rAT6RoZPg0VdFeS2sf6ZSY+GOvveOT2W9cnxDKXukEnmXXWX8qV0Dgtw8HMHo/9obzy7f/0//r+XJv/Rn9c73O7rC8dpy6fFH3B+FBuKaFB/kORB83/uf0DMfl5dXXtWLizDhTSVbI8kG6Pw0MNpbRlL4QzB20wyjMiPEZ9Ti50odB0At2+Kes4Tjfbzw4msqraWhu631d75ryqY+BwrFDQZTKxiHPnXJrt7etsFxJWMbOYYK0Pgw7IcwMPeldTymVozw0SqTG1UJSSHfnwfMk5tyFnDOqPPbrPCIl0F0IHng7DQZtmgejDuW0e40ydFpSRm4VVnZsN38dKYK2G8CcgQnnZyOppFjypJBVvhta2Akp6Ah7ctvyjtp2LhIK7ZaunMRkPEAkLx9JfjQ9OEn8M4pVlZJ2VQ3iyED0o2ItBy5jSo+NwVzpXTJ1uiM8/HlSZ2hfkFnqCzU+OYQOQ7hpY9JwHuB80Scs5SEhJGEr/GXPP0lkiYix1Ie8ItS/FiHryvbZgEqt8kC8kTKpCWaMoT9rMDrurfM96LJZcDyi7/yS8u79Nat3/7ys5okLy6/9YXP6envp5YX9dDZL/zcZ5Zv+OZvWX78x//FcvnKQzoTf0z3ZXMmgx35Azs7LZcR/apTO01oZYfi7t5x6IiIEmcg+oz7oMLyWFfTuhMjZW4kdlL6ARs4OODKTc6gxSadkQuPCDuyqTJGOvlAWBV2J85CffZo1aWfsSMdTpJzf1i+2mXHnKC6n9wP2IMVssodPHOeXXaMhe3bDKWKPqYvDybNG/jFLzzR5/hz7L6QDSrbSsnbftFv6+OhBhiQto8C5bLaQkXSosOBgvuNbw2I/C69Ke2GDrK4v/zJj71X37//VV1Svrxc1e81X9GY+exnf235+Nd+annlZT2s99g7luf0sp7EgXj22D7n34b+whe/aDOkwQq5NP7Sy88vT3/oQ+7jjK+by2t61oIDEd831xjmioMmRvvFPevjCyoz7vTkPuPPboGZwoieRyOBIQ6OCx7JYccKPzGRdizSNyF0Bepn/tWzywff/TXLDR0E3JJO3zpIZG2zN8gLEz/Z3z/6kffpV84uyxddwsdWtZPcDynecxvTEWQCqT5EyuPBJPsBKQ7I+PzbfsccEPxseZWJQfqjjBI+dnGA6Dm9X1GbxUnYmcN1GmbZ+AIiWsFYbQuuzXBL18V0MO3GY9gcJZMMfujDfEhRNuWZA6yIPkR6HIUWGRZn69G4kLTYmHtbSvIe99SVXNZVI9rtoAPoJlqLqpCwpykgHCFzlMP9lXNe3hNcHnAID/WWf/vzMRYch5oGq9PP0kagR/Bt330aaYWSJTr+L52OVnWEeRgUWCBc/beuWUsPjs5hD5+6MXuiMbiv51TOGlbl+4trBjYvFOHAitdztr7Op24dbQwavnpFYqGKH+pLJhdTbYXtxWbTRGIswO9708ipLZwSwn7994D0ZSoRICPPgzkf/vCH9eakX11+9F/8yPLoOx5ffuD7vm/5tm//9uUf/cP/dfn2P/Adyw/9wPcv3/lHv0sT7oXlh//ZDy7f/h3fsTyjCfiGbH3inU8uL2gRz71KgZJqLOB3p+4LN4tt1IvXde1lmM+7yLlkDiaTrxdt+KpLGjM5OqMXPuIbXxO/smgrslMjFokGEWFHjSKw2NfO67eHSYm5eLQAnq83p7nB8SSm9RERpE5zGV3uHWHbZ+Vze8ucmsOsD3Fxkny5vyfi+3iKKZdizaZx4n6yvRKTMT0eY8sOBCoOGceZioNGjJNONImh73NaXD//289qTNpRH+jcXX7LcxVh5T3uP//LvyS9/MY6X7iq/RoYu5S4ePxLt9VjfKXXr72+PHvrWY8RdFzRPnbpIb10RgeqvF8ACfeDxoL3By0wLNbnebDMODogALcgyeymCB0P6wZpnqRdj9vI3FH8j3VV4Bn5cvPbPuqDXi79K8RnJubnxx97xL537IdA2TTqjseo3V9hF6Ol2lHV2cd85cFlDkaSGIlZf0uxMmLBvuhFTB2IzW0WXUzdz1GxNp2muxUMPSowGGb+Bt3hPVxt5gnARcYlEvgEQXUTml/VOZX47BPs3j+13eufktVTK5K091JD2coQUzCgl2ccxXKUfOvWfLSjgGpQ6nkKPQnJwxNcc7dWK6YTvhIJ1Nzsly5s9uAuXUwMKvoeu3IWvwQF+8+2yMGK+XiRnc8xqLJ9o6VUUkg1BcodT+KHPptVtsFPZITJAs3AzY7qBkPBGUi2VUoWJuMWv3A8QZSNquhp6lf13eIX/QYxuGJD6QdHsUo/B6MXiNaFvZFhUDORqMX4RCcLGDODF7Syv8wcve0nPCXHzlTngGPR1myqsn628Wc+o7N+3WPVpWb/ApPM+b7v/ac643ncEytPgv/QD/6A9bAI/vPv/37bwQs+HDf6nH3EJyCyjJmAHZf4YDN+YFFI5d5ap40mHHQ8PFsUG3R7qzZhEYcAUVmTa7ShTziJE+xbvlUCnLQRyyTdf0PXhMFiwIGQfwMbBzXBXNbvVfMaVz85jC79MX3xtyadoSqeec3rSo0venpbVyMe10Nhv/kbvz43pjzD7Lc+IEWxVTz5ZLwlPgScWNM3bfastuM3GmetdVYFjxfkgiDWJ7r87bNOBzHegsucRO0NPePAospl6Vt6KVAv6Iqw/1Y1qgvD40EA2GmbNL8xx3OFClnuQ1/1ffvc7uAMlcXFZ/rk2Kic78wf8XOl+NzjzWXhYRn2usBKS6FoLmWTxY39UDGVLPvOtdeuaSzwEJvuqXOWrm3LT6Iu0kIfXNTlfs3Wxoh/8d3lFpI95u/6To656OoFd22O7TLPKXwURdA//Jf1AJwPRtAxGDQXaH7mzYS+9Yp2xr0kqfMzrpFXVuDMVxzIUg/NRlnvvNmd19JW+3wz2rbD8s3iHJuLEDNqDE80kMv9EmmJYgp18GDf4CBMHbyZfSqPM2poqGJAuawgpSw4I9orNYXKhKAw+ys2PtPW0T5PNPrSuHZQOiCIhhNvm1X4Rkqbt908kU4vxtJhXzMamk10QPaEoSCwMMrkpLUZjomdHSIDyTtbDyhC4LILRre5VPW37SLBEXQYrCfKuiOAyUA3whhs7id028J5O5lXbfHblU0Hcz/sFd3bjS5ZFdVhHNuVuNoUfQU/OLvgWHBgwVGj78mpzMTnhTo7Frwgx3d4wcyZJm0dSgq/ojMCruY9dPWh5TFdmuTVoJd0n9G/1qVx82vPPLN88lOf8pkPgWShvqazmlf01PB1vTa0z/aHLuLmTyZMDjCZUH1gxo5dVxcY3ZOnmDXit8aqbJc8tvoPYydezfo7dXHBK5EVxyzTRhjAeJUKHxP5ZX2H/PxV7TtahHscGUvx7hRsLJFmxZwEjdi4jJWtXwQmOY9KGYM9cKGa+PEhbpFvHDU2k4pOCExpp6qWfcrE7taOhXWt5uZAqhBoa75V/hB2fMVQv6OdOOIHhzlqysSnOHDw5liozETvlPjA3X3nYvHZeccEnIqN4MElGU8Criv+jMdX9TAZ+rnC6I8Wa1Zzn7j4jFoHYLd1EsOC4wMWfFr9EppqWBRcP9Hsxdiw1tu64ZOqId5yLHxBXHGHYBfsY1cqFxh/OQrdabNFonXodpsP1G1bWUJz6hUv1YkbcaFwU5fuu3/G1Qe13SJGUkr8+2FbHeaINwc6OE/b+Ez60Bl3Es9UTBXk6bG5Hxfh2UcQ1eOvEJQxJ9lRmItcFuxkMDdTI4tmvB3WqeoXnjCeGTBJDKDoTF01/xfHxOvOFhMD8aYeq2Tg+JIFEziXx/UDt5ksE8AEedViKgMpJG1b1yBMhXQ8tqHXR5hYXfJrf4ChTlcwOLPzpScCIz7rV956GBqonBOtfHLUHnxkOWOD1e0FgRz66SPHQnoMhz4Xwm97i4AoCRYnWGW8bRNBmsaflRVbZ/Bhz5xME8EYA3jmcKMs2Mqp58oO/KwFADEHMzsOjuCj3/AmOhOK78lO/hmWuuDJxpP2pU5aDHlespwZPsxT3488ou+tXrbvnsg4PRafF6/jfGfY5wrC4Mngx/Va0XfoEjkPDrHw8vWY11+/5nHH5Ju4MGlLoPRiDEffN9RBXH6nH2y2eOBL3RQPmUxcCINnc+LQcFC0SnCB4TN55Z5n3IZgYlmsyYyXWHLpnye336lL+I8++sjy6ouv1HjTUTYHRBJntAlVStIPXJs40Vfb6LPG937LAbUEzvOwmXLGbcaDFPKfnTv+YAnhUTxHnOwoGGrbGTuQSEAwRv0byIyBUAWEU/dKCBcPgpYRAYXYTtuOXgQsEkUlrKDgm/yHnMUaXzm7akbiG9/cN+LkDzx/yKQwWWRSU0yLxaNC9lBFX7iU66DKMaMFujIOCB1rjS/XLUQzB4oayxLmwytP4fVVPvWnfxaUNtntfd9dLD+izPI+m1Qdf6XE9rHv+UqirDIv7SWDuXtJOsMQebAKquyP3fhD8pUw5dh6FqyZNxscL+eHJHWhKA6G14aTJq66EjNoF/S1Pb6dgazjiJl8jC1+dTk9gS2jvdqKySpMglCys/XBCgfbuW2lnlGqWFg/8nambHSna1wg7rLQ2XlRaiK5Z7+JoHZqcpS+9xxs5skyZNyxq/Vc1AnRigSgHJHWY1Qjj9J+QcxIENTbt7hHKAwWbZ11aXw7yB1ogCnTIfiMzAFtWx0Yw+e+0uqc2dHFjoQyMKp5h8usVsGmP7ZR1lXnMAl6IhVD5Nlqp9SBAccG46DAaKdv0unCIAhCyj3+KI2ZKqPLreBEGyXaHTsqSmsL9NQ6vptW8CwLD8j7iXanwklF/tGXuhR9x983zf03fqoyC2zptWz0J9ZWFvvEy+L+5LvetbxD31XtM+fYqZ1XT8eeaAf2S0nEi1AOlPCXmDOWjnRfkLd16Qlc3XO8euWqruboCoLOEF979Zov9SOavooj7Ai8oOO2dLNgk2gZ9tlh+sFNm00QQsLOuY6Az9plE1iIA0X5ji51+gEY0dwfamz4R/SVtCu6isD3dS/qBSbE1Zf4uJSnv9gWnGFjWeWfGr12zS/7UI+0QoP74aVjvrJFNdp8hF+yTNa2Xwy5/54DmtweYt8oxlFIHRv8URUE20dT84ft4Db61I9aqTib4iEsPr7lUxIsthkDHaGG6mioXrrwmUkwlzTbEmznKkrZ2faOPJMiINbD0ZREvRARQuJinyHqn/1YKjlIIqeNcZjxr5hpPgsjsuJhXDA2uZ8qH3nRSdsrRgCM4TlDTRnT2C5ZDVbrUvUcX5uqy7mI2VYXUkbCzOTIJgvNFTecsQFBn9NWdflBIi4kRnQf/BTJ9N5g335CNvTEVFX8d0AK12ChoMVX5dAmPOaStKTP7KVO9BDR9dmhzjEftX+DCwkJQbIT2RI/ffRfs4oK0PS1RnMpUJkm4IFrFoaPEIoGOU0WS2BdND086WQG4m29WMA7eskzYJ3c0R4O7qQiFlBUMKZso6ij4wfH6QXcMrx9Ch+TdDDQbw9LSeGUWcPW4W81iG3YIAU+CkYRdOKlbYUsuDRUO8U5eSfUhBC5tNhXq9IGoPyrcZ30GyO+MeFYoMkjDz5Glp+jxSTVDss1G2bPpndMmAw5xOVyVSPT5h2nbME2m89RJVzYUJ9j3SN717vfXXXd79PCzHeomaB4Ip77ib58qWBc0W80n/ekiFVMxty2OFmu6/I3kyiXi494slY2sfA/rO/NvvDCC8urehKXh3uOdFCRt1dlp2eiHUlYtrsIWQA00WqwwcfHE6vPzLCfSaI9bqFgeLyLBL9O7MRb7R4PGRP4TwM6n/7w0z7z5VkPnuDl6M77hHRbFNsaAtypDI6vVCDGjqE4YbsDbnwEIq+MFVJqpdd8NK0jrs+ofbLeoRGk5dApua4g58XKjQJuozqHf0qYxgeHYoYOsPR1qau6fXAiv30vErssoyio7HvZrkMl5lM8hh4MzXgzuPjoVhaULP4spDArBvTHkAMydPeljaOfvXcpJ07qc7GBiz1ZroUkn6Ez5uH32RIU8eCfFxfx5K1lF/2SE7fRqLSGjP4PAfX8pKoPrpRf4nfQddvw+eef13vU6xkfs6KHgj7KLU+xFngVKxlY5ehs6m6+14rYbsIv1DJmHKdDTLQHLTbB2/0yAYoWaW1Vpt+Rgpc6iX7n4Nr6TIGe/ndOTbrCDh2mzin/7qeORSzBQHt5pmEdmY5DZGpbPprHYUp8vVAHOgHgKJtdgl2JAe/BagZToB42Qjw5lafZ2iAQVldp8z0jifcOoJLLBmRnUk/0buLOn6AM06oNX7ZZeHcT/bBjNZO83wZELUTrslRjqoJvtk1M8CHrgioZMMlrnNKKWQgOPo9v6F2g3Uza5N9Y4EYfDACsyexUUe+2UDwoUB7jBOfoDkGfEZRwSYy2LgybTWi9yQ0tenRqK3IWLyYqRkUmRXOorc/IgLI+AYCEHFcJfMaNn/pwsPSSLldf0ldoeFEEEw4LAEfVV/SiCegszu/Q18ve/dRTBkQnfXdLT3r3pW585Mz7tWsv+zL5BZ1dc6LE17Y4c3tOl4d52Ia3RR2rbe4H/OIPP7EXWz3JM7EzydvW0DnWoAs9hWsi76sHElHCT8no75g3ZembD55AZVsWdnhY4IhZElcE0Ec7qvjwLmz8J6dv4eGD3yymzmVTsIh9+qEXDN/XFCp+4wcHLqp4rONjJkdh2S9wgMKulJ3rjNQBEQk+dPVYh50+4SUufrjNOPD1uCtMGHeSkdClEPAAHN8DZx+8o5hwwDFi4wlc0SzdrX8d2yrJl263L/SebKBMm5P3N+EoBuGll2iEl0z8aovv2EUPJjcPTJ6Dwp4tWDkgIOaNS5vHtzDBQw+LOwdglIKHVdEhwSphw9HysG77PKFfgiMexOGWft+bA00POGwglV+u2f6Qs2X8VbLfHYQmrjnWkZIj13/hcdhTbJWpISYliT2koVFlGouB0toJqlUaguLjX3X8VMQjrf2Ag/Nz53IpvMXI427pk1z6kRZ0Ks2mhHL6tkSG2D1kM6YmoULepbeNxG/rv2StY1UU3gJyrMBvHTt8jOseA+Kit9jmjNpCDcfgL5AZawiLKNYAlPLKVjkEYVLu/+Q423Ko6IFPR1BmYuK+Njhz57BTWG7oxVZS8p6MG9tNwrcJYqHIzpIEVocp5TDCw7/+Bi80EyM6b7HRkKvWFTc4sFs32/wHQZhDB2W1GcoC5bnprUPiBIyPUvSozXEyyW3VHD4q3omrvdk21SwkZrVNElHuBUFnpSwAXPI+1tkrl/ZIw250q1+wwQu22rIUSb0Wnsf0dDGLL9+X5itT7JRffPYLuvz9bl22vuKHp67oKy7Bzdkl/czZsO/FyUnOPPKe5Yt68EzvadZkz1r00kuv6Ac6ntf3Yb+sh3pe0+sbH/PYefjhq35i/Mtf+lK9bCPxSsQSYY8kdZzclL2sxtw7LD+0gLAg54BHuerI4jO3ccRFCETnIEVlfc7xsoHqEV8GFe+Ii+UtAqul+c4rixcT/w29S5ofJnlZr6d89zuf8DvPubTP8wAX9F5pbhFkQbujMu+b5itkRDm7rRds6YPPcmo71vd2WTyIpb+q9v8z9+4/nl/nfd9nd2Z2Z/Z+X+6N3CUpkZQoURIl2bJsx5Lt+KI4tQM7CZo2SB2gvxQo0BQI0DYoivSGokD/gaItWqBoACNBkiZO7MRNYjuRLYu62ZFEUuKS3CWXy71f57az09fr/Zzz+X5ndkhTTgP0zHw/l3Oe89zOc+6XTyoYKxn5mNhdlyXcwduYrsJFLh+gJF3SIX5K8MicWzA8eiG6jY6koY2HtWpkaC9oMxWWlUeGfLlHP+GjpQUe+cNPJ6xCVD7QoxZu5Z1QIZRxuzbJ3Wj6luCFRBnd099SIvfMBYe+dI2AEwFw/pmHpGHFXpW8sWsLnVM22zmG1IW1fq7UfFC4jdOfbZQV3WBEJzt2+G337TQ+7+QDNK56frDqkEw4loPiffqpBSWdfB7zdmc6wJsuPYw78Ioe26aMjWjYRt2DsMIbBn2MXXZBipGGNnT0zCgYMsclnepR2IKvd6/dz7LdX+SEaDhr8NKaEI/W9YkLHNCmjfz/oO6DRqm0LuybZdA3djvFgHyJW1vod+HK13txnvfwDlQMzBfD/FXMoicmg/CbSlux+9oqaiA2OXkSzcQVoiK2MbCrVniJbY4ZLy6VycAD8hRAREihRqwoQor+Ex6c2JH+mcfD8GU480sWsHFmBpEA7U3qUUYLbrdRyQEqDicQISiWoivMBie89Er+BFsYhJZ0Dd8cp6AjQwvN/E/jrUN3IwakXA+YfidOUZaKBq6MAHibkjVQU+9RSPAI/N4uJBGqjKXuPps+VqI5eSmU1UEVPpKpCg2qvoQEzyLj2bloF0pZsVhZv/b972fh2NFjx9OT8MhF8Zv2rvBc4atMy4tLDB0uD5epZC9fvZLz59W1lZAV8F4XoLGgzGHUY8dYLX7Ac5n3DVeuvju8c+kdwg5AazbfrT7O2cweBXqXSjzDqvAoazXkW8Ot4bnxmwI2AFy86yKTOi4bS48KAR0ZcH75IGc+Oz+uju4xdyxc73WlwQlNdTP+QDg3N8+hGvci5x3OE/fAl0VWsa+yrkPdWSnOMgrg2fvKbeGoAzOf99yRwzuqbMW/pZlp5batBebv6/hStrts9+x0/B/27F1yJV0pLGMb8hbsXHwISBO+wOPpvPJOzsw2pGzEAp+3MTIBUy5wvJu+1dhwByjp7Mp7C3d70MzlujDNytbRknzfPLoydumsGk8i7sxJ03AcN6o+5PWY2IkcqUjhDVQyW3x6b8zKd8ngXT34L07j2EATeS4+BIc4Pcwk86lWVDoAUznT+LQCp4aO7Xn3VXqWC6GHh4vHanEZIZjTnVu3h3u372ZkycNt7IlbxgQ+eax4Cq2pi5z1clNaur4ALC/vdwnryk0ceQps6VqODcg0iQB5zzU8ac/ao/lH5+l7Pf8XHqOLu71N33lOCnG3wb+6zBqmmCBljOULDeBtObO9Ja920NNgKikaw6H/b+MizT7i+4Pin2ZzElffrstNeunyBdiwrTF0XIb2nNz9/th7yHOJYC1BR8X22J0v3jezkHcSQ+PshpEEbjjNxLoypkp8M+Q2M1IzTsOTqTbQUdGP0itYA2wVU0iTuYpCXQ2PR4wLhPUf70lYh9FHnogiL+9RSfd46iUVWeAAb/zC6WjYo3En0vTFuC2C3jFg7z42vFFCvJpM0/Enz9M0pp+VpaEoxC2KMP7ksxB3XUnXcqnRL4gIFnj8Dx0+PByl15yecuN1Hx9GOPv0U8MCPWkzpnQ9SvQuQ9S379zKPlc/9WgP0EqByOmNWRgLf4sK0eMad1NhHzt2dDh+9DF6ecx5Q2cX5y572tT5116j0N9Ghc05yFR41VDYMVy9cjUVnj1z9ZbefxdnSl556n+KnZ/hPjc5fD1GI+DgwcOs2va8Zz72QCVrhVp7PtWL825VOGlv2nhsgLgXLr6ZleoWctlmBt5KD/XtaMIMX8RizpLh9FlXYZbyuW9j3+7urHwvvqpQr/ZjzZHWPlU0xrRATskaBSA6TlOyoJWn8qi07DZZfAgonEIX9VnWFrhwz3ToIyyp5DbhTwQvyGZ0h7td2W6az9JYc7+8FfIDhjod/DQJ+uE00Rn5iahpWHX7Eqp0Jz9lk/LpL8PMpGfv2Em6lxniFh7APCnJWHFaQbdKsZRSqR6OtGs5496dowIDJukHNyKYAaHrKnyHbv2whl/Uwg4Q3IpU/c8yspEDWYBd9VOZVNYzJIJp78LJNXkDNdUUNxteNsigy2LEcv3eXr3JH3bSF32F/6ng93tUE5kegbeUp3iUmPbkCcy7sucxqPQuR2DTpbrPp2vBk0Yw751T02q0IyJKUyLKHGJFMCij9QKoOOCxmAzN3H0KQIPP7f+XF7kM3+/BnbJGf104ZJ2o4v1idsQsin2UREX0WnosNlK5NHaS6QHIkDP3SeIAm+jxfA+2y1uwJKx0BE8rj/ikuv7V0yaB4cLMUwmLUZhxgK0MHCTEr3DewnMMOczLY1XwaRg09sKieH3AL/xrKC2OeKZdVnjiEYOUN+mpbPzEYTx5VC+FuwKqUigiPbHM2FY6ocvFuFPtj0JgZgRZCocg5JJ/qRQtr2onLkz0l7rLX/0KpYxGToJH3UkfPMEJE/1gf3lMegSH+OhJEl8tGze9GBtORjQUODNjHV96NHNv+rmne5nDJj7Cud5z2YpVOrPivUIFukQP2kLZXtsMe/BndjrXvJvfvuAVp70wt3SsOHwunXevcLToLc50Ppwe9i7OZd55lB4l8b/78reHG8z1HTp0JJXKEXr18vouvXQLlZJbpiuhuzbrLSRzUSvVczFBm5At2AND9jLH6OEXy8t1lnXwBQx4eKz3qnhim/HezteYbtAjB7C9Jz2Ap5rHromGXWeqweHxAAEKuPso9u3bQ+PjYNixd5d0IA1EZlp5hoE9az+c4eImcYk/hZ8s6Xgfh2+Vi19klThhKXgD1iIIT0XtNjrZyQEe4M2LHls5cAni+cxzVNDOx7qwz5W75kEbNjbSTNvlFVLAhg0jCPjiV8OpYjYvScftfB6C40E+i4xAyHGUAPugKFZ41ilLZOZZr1gbMhQQMuqZAHHgG+X0e9mmOPy3/LHh5NB976knDBRYkiBJI+mZVuYZYddZHLbGN8TnnMJjWiRwhNko8UMfscFmU2GH5/zlLmkNAfoGjs549bIGz9tszNEQ8gMeyasoq0//jVE2PShLpkgYsZHP7tKoRNYamSheSr+xwAlvpJO05MNRpW4resha9K4uYsjqEl/D+KmD2mtVQpi3AhYmEhq5C1PBJCiY62nDdRqkom8I/oFewBUTIVKlTckSHFO4Tfvir7BPBaF7Qkee6qH3zgPXA0OoYnaaprh5oJxxCadR5y0UBcf7fXrUstXZm75PUNaTVzAVf1NeJZYx/Z92HVv8EhVYjEV/Cx0zRlrV+CmEChS9v21kAI1Bw7OFH8NAzsB0oxExeEZjIqYFg7AdVysJxCh0bj2Tl8fUVa3CS6VouCCW9yZ2eY0RipdeMTQg+BF/eMZQyymfrCpvJVYkTSVdYYETKOT0C0SLX9z3Qk02pdFdCiJfjJ9b3SfPk3f9KrNZ0JoGZNQgTEh6D337ST/MpuORJ09JctuRla7xHNp1SPjsE2eHOXDZm3J+8PK7l9NDXsdvljh9iJdiUXQ0CFgRjq7Vkwu83Pqyg96rNKS74ocq+B7whQsXhvkrO4fH+cKWw+tW7i984hPD17/2Unq6rjA3va1YbznMzIrxJHXU0+TuGYjXkj0soOr600/VCS2ovksM0V/hS0oOW9szmkHeNCoBDGzDJbHoD7FM2xUqdW0QA0+hLW8uRIu+GmPr9KZm2E6mJjawyftuKjzn6VP0g6M4tOdaw4ezTDPkC1sYwzyVQjK5OkttVvim01V9+l48QrHlF2WdOO11RxpgmTaAZwvrwjaxswl86Qi0wSvte3yDeoYRDp/nXOHMSEjnaXZpFh3SM52Z9E5tWKtIOIP29qSrunL6S7zRcQgWH3KhLrzqIk+eWgURf2EnLsk+sm+8wlJehccRmJ0scnRdhPjlOY29hkb+pNV1aH5RPs/3TqXnNr3t9KSpTE2jOezYCj78h93Odd3Lvmio0EgzbTY4XsuP3jmA2/kaWBb4oZeMUG0C3xC3vcinjZ6F3TTo4KWXq2sP2L6IvcizMmqrPkdtXrAn9++vL9eaABPBNOuu89rL1j5KEt3IH3qpMg9dMfS9a3c1fKBWFRx67LTFKb5oRB2MadSp/du6F6HkmfciAYhp3uWNMTbYdORGXnti4NFkMF6XJV6BrQgjvirEN1KPwZcXnzx1FWZVEkGIv4pKi6CeiiciFeppXMWUxHXJAPU4XjvbCQfDJCONIPUAYFqFGEniSC+FAu9ZTVmKMuENT8aBsEdNzvqFIZiryl1jIw4Zuye6d4epUvgbuytFgfjJk78MNfuMEXWXMF6MEr0YJc9e0FOefZTPyc/4W8pqBF1gKx7XvBczFTxeFTbB9eA1HnDZM0dhlO8KEXegvDdyvnd+5LPkDVhdlNufDQpswl4bp9aEL+FVgOkgLy0C8AZTcADvNimHSHXOO9p7fOa552x+o03SDHzfP//acJ8e9k4q3nmGrF04plPb4R58q+C/dfc+5ZUFIz0avy88s8qQsHPVe4YFDklYpfB3PnvJub5vf2f4yEc/mvndHes7hx/6oc8Pv/d7X2ahzs3Mh8vTYYaqnRd08c+0K3uFf1dtqypsy16jPTjnzt+59Hb8LeS6ct9i+LqnswpIo6XZqar295CFRatsPVMvx/m4yLPPPTucPXt2eOz4IT7heQB+Dgz7OYLyACvc55lzdyHYLu579++p3nXwTXEKb3/53/2V4fbdWzkC01Xz9+4v0VhYyv36zVt80OTKcJXPOr7LIjuPkJ1H7upZk45JPxMOLUdOH+EUf/Vujxdmq6ekn2GRhMqHStQPQZh//K2jK4D5vY+DhnO4d/lS1RU+M2ljTJ2ZL43rN5htVMzzZy/ZrXqugE6FINrQR4/YzjVGUIwlr+m5+GYZ4Lv4sEs56nHi53ti9YLVOMAFMIEbL+Frygs4+fGMcNSSCtoGJNXZFJAoC6F3cgxbrXamUerz9mGJEY5ZRl5opER32DM4WkES7iJDw2hQ8VweEzmar/IStEpDZttOphOw01q53vjYLBysdfs2uZRnD9/Mdr3HrIdRgS9pypGqq6uuPHdIHgkfbCMPcreDFI6gh9jOpQs/LbPPKSuQt/iH1yldWgFTnKSsNr/2Ctszy+OI72iZDV6jpWfZ42+Wp2L8m19H/KIqmyhSJYOcdRm7TNNEwzk4SjcNQgQd7wZg8dcvVY62GmIotKsgD4WP0A36m0ZF+rW5OzNhQsRQT14bvuk4Wz8DXLE2Bk/Hl52ekF0ZG6EbDnG1HqaFnXN2FpzTTv8UoHhqQDr9YgzEdxtIDdH0SqlzN81RkqoJ2ZUYVPgB16J0niukx294G3iH6ffmveFmWDKDieefBU6HCD3fCn9PYAGiC8TXFrRxi1evRcu7SKLdPAdDULVCd6QnnKJZ0FXBIVlpqrux16RufTcesIEIf3lsHEqxuLXC2X9gPy9mzG3DxQtvDU9/+JnqaVYUvpD1XQqA9WEXC8Jq2xQ9jDaEa09F9H0e1AI5LXv80uiiBb/McNvSCp8tZL57XpvFJkj5zH1+7aWvDj/8uR9Jj/Mep5V9/IUXht/9nd/OFi0rib0MG8vfVVagb2V38dtu5qlGh9+/9mevyqHa3pBVFJ/HtIlsagE/qlhSl4JncTh14rHhL/6FXx6+9KWfG86cPhWbdHRjne/PztDwcNjShBp56YoE0yP2A6gDlSePHRoeO1Kr2x1CjsIogVOgEh8w6oDtfN5xfXjt9QvDP/9nvzX89u/8y+HO4oNhjnniqiQLDtAJbZ7NM/JiT0kr6nxto6Emv7do5FRBo60ZLob3d+bJu6SFP+dsjZeeE7y6d1ia6jfTHitWZsyt8/5wxQoCGqCXD+mmwglRFYW2YzcE0FuF6ayet3G03RXq9Bqza8D4pJV0MhXGu7HFK3b6uXz4hAVu/KX00M5DAwh4texYY+RmO/ZjXqiv31VY8oTpKa7kE/QHnR0s6BvWkQ05tjNy4MjQ/EOmd7jngztEADXy2BUoXYJiS2e6ji7xpEZjwYbDzlpUmblm6ffOzRih5PTVBd7m4FTU5IN9B1nDkYq6tketmrfur2bNxMoKoz2sIXC/+zrnp8vrxMlEvZku3UYEiiYM3hgB4IpgnllbW56gMqTFK3uyvKmRoWkUIz4TzTjimwYo7z/ZVdYa3qmHDbhiDht8mkQlVtnnFD+9rGxit5hFJNeRXsMzhdughnbKd/I4a0FkL0Ljyr7LQJMQ9qySxIUhSgNbEkjmTCwM7v2QSyYZnPsUj3q/p5NqgEEcE2hGaM9ZfzO0K5Gd563WHKiaRq18HtDy67Qctpp5yEoQXFqD3DXaznM3uNDUH7mq99QwgNcCzrfIbdPSN+mJpCGKsckt9LtGfOouT8AWnRYXHMo3GvwEnYykcGpihYxwwleBK62O3TsvydfiawEhWjxMHnnKv7jgpkpA7miFjFLbogom6aYNQDe0IThmHEnqz21Hhp35Mo/2Q4Z8h+8knzh5UgjeQQveV/ne9ArbTxaoLGfoOcp8yVKV3ixDeTt37q45VgqJ0GQFz8P1Fea4V6jg2H8JQ/rfpzd9H3Znd/NNYQrHWQr2WebsvvGNrw2f/uwPZRjcbVUf+/jHhu+9+spw5vGzcLKexVjOc66wl3PayXO2CHGvxos9Rwor7Myy0i91nTp1ZrjAhyxu3LgemSO76TEmAs/ocBYef/xHfmz4L/+rvz489bR0daQHlZaH/9gsW+f+YE0rtCFkeMnrcZI6cbbHssX4lt0mneCJ6jNoASAdeE46mu5ryD8MLz5zavjEM786/Id/+a8Mf+O//u+Hb7z8ChUO+uq20XD6qk51jlQ9iMyVJvEEYH2OxoDGBV9WOA7zp4vV4gVu00V481v10GjoUJkol3PWe9nv/oAGl4vLPPRjzhExevQbkgXc4UrxfHLOjvjbsQ1Xi/vtaIdYD1DxfOaFTwyf+vjz9NrnhwtvXxq+/JXfG96+9C68bhuOnTjJ9MtdKqHl2BZspIxbXqGCxi5t/Ftl7qD8O3bsyHCYz8PaQHvnnXeIR2ONkQR13O0fY4aP0kX8TVsbjFTKyjCPrmx4LM4y1UHDYQfBDxhadhEZTBNVW9POgnaD1kyLnu4G2DjTJX3QR02vYOtEXqVBIqz2yhVZmr4SY+pCPO3KFec6edvBcP7cjO8gmCceMq3tWxuuX7kOb7c1VYkmOIUK9FJWCD/lYvsJK08bMzqjTrusyVBPzclpvcm7utWWsa0Q7kCFRNnrN4ktgdghcXSTPFgwxpTj7sbKs3tsuAMZpTdcU/EEk9dNXuVnvpMKPCR9grNsNJgaeSVNGllXiav/lCtxmhfTJJWW3XP6DjLSbzYtcio3F8c4BCey+JEhVboo+7xxN5qOpsg1rrrieuCf5A4qh79DM8KUOCpEAycgvPRDIaZJGEdOohyf+F+jcihFscXCVi7GtM5CGzN52BV9++WmwPGoBGgihUwSX48pJUsvhPDP33SEhL3XBW7FkwT3uaFpGUreTYNtzMduNkQxfmAywJahFz3jloNAmMe/KSBwFFgpjDQs+Wu/aR66zLJqT8XhaI/GVAZXMrsi1G8AK5rxX3/z9eHuyuKwj9XgLhpK9iTMimGW3s+ONk9t7610b8WjQijguO+iEHTQcY3CdRsV8EHOxi5anFJGobO2tkjB70EKw/DSV/9g+PRnPkMFMZdhZVeg2zOyseCw3647C8PyDVr2IihBMmROVHRqCZVUjq1lYRNg9sitoJ2TVp7i0Xu5yqwUwOShs0+dG/7af/ofD089eZaeuJVVr/B5puAWvw0tG4MWINUYdjSj3jffHSIMxcartPooEhocZYg8LR27DHK3Z9f24b/9m//F8Nf+xt8cXjn/OhCdfwJ5TBkFT+oo53irFAvcyEk4r+n58YyeV5wAAEAASURBVN4biOKNazz11/E+Uc3oVQ/O7y+ybe5eetQHWTsgD+o0C+hodK2QxqPDvzeaZSd1kvmBHvTOnduHP/vzPz38+S/97LCA2Zh2M1TMP/z8U8OXvvijwzeYDnnpG3803GAL1PyZU5Rrs3wW9Zq1NKvQF7C5HcObFy8N1+8sDj/1wx8ffuZPfX44duRgtKPEd5ceDL/15W8N/+i3fhuelzM1IrPyoYseefHMB21yz7654VMvPDN8+rkPDYeP14K/azdvDt/81svD7/6rl+gEcaY9NnzbXQIMNZfgdRNfMG7K1L5advWKveCwTwLWaaS693qd3ruLPGc7YwW04WqPWrbdVXGDaYhr19j6SI86towNultg727O3WdqaXGRtKcdOzb2N2CavKQ8mOZXXRTDEyDTbISZGIsjGRP/4m0SiacuC3FT5uvlyMno1H6NAOmVirili9gm65LGCHmonC2EbozAc8ctwwmsi6+8T0NOheZRToK3x4N34et165iK18En+PDcOgBvdWtpKGKe9PDsZDNNzQOXUYRVKm0zskqpfDxBPBYcVoJibD+r2y4lT486ud0qQBSh1QLFFwc/zcblBZMqX4OBgcOmgHjg53/FtTXqHEmG1oKkhvtUTngOq6XkRBQzOCshmk+Xyzki4PvWqWKvdCXH0myg0amopp16zi+Fc2s3w1N4LXbHZ3sm3UUbLVw/edAV/XreeG3yGKfB9vDK/AZYKPMPL1V5GMfWn9otA1E/408EEmz4rMRc1WsDz+HYuxzh6bYoK2sbGneYJ7527fqw5/hRelWYWuJBg4LLeWoraVv0NWphoPQbcm7hRRa1OwrXHfB5/MSJ4QQ9nwcUVBcvXBhurt8Ylp0/oyG3TCXw1ltvs23rSBa3PXnuSVaCvzLsYcuWjbQ9zNu6Jcx9y5JxFOn0mceHJVcTR5FYET0fK92aV1xjnvrSqGQ5qwZ4GaJxkpFAtmPHzPCRjzw5PP+xp1OILvORmtpvCi57UvQYMmStDnHqXD3VoqC6qwvznrz2Sls+ezklrVCODZV+gsskkTl/uZQWfZ1Hf7/0C18a/pv/8X+gYbSLxnkVcgEVOrjQNPxMehfdaIiMwB111q0QFBuX1BauyoOOvQDKfqrxSeSyJ4Lir4e9dP6nXWjipy78stoDGj1MydN4Wxv+6l/888NP/fhn0IXaoJKGQz/fTR+edNg2fPoTzw0PqZj+yf/zO8PFqzdYtb4wXGdvvpX0ypV3h5NnTtPA3DH87M/99PDFzzxPj7fIy4J0d83PDT/3hU8PTz/1+PC//a//+3CDNRO0CiN3GqgCQtq0+tAzZ4dfodHwoZNH4VV++IFk16G9w8mf+OzwsWeeHX79n/6L4QaLGa2kLl++EnsvpcI3MfKMDsoGSy9yFJM0PK6/c3fNgNMUjICoO3drmI7v5xzhWMIm7xN3jnnoDm5Zu0C+UMeOCijTNK4x9bWTMBrOOkvFu0JMMysr+HUa03xFxsAKhPwNqMNKA4kSFr9cMjkRP3F1PfkculM4wjuop/EEJooGvshWeOO5gqTagcRb/OvT5eZxdGUHk5gGOM1SDhkSVPcJvwUfHgTM6u6yl/DbghuSyQ1kqai7j0JaqZkBqrCoAluqRdh7U2R5ZDRN/BFGBak0fupDV7Sr0vNd/2J84qe/ShpjEUkY/3QVpzDqn0IvhZn8Uck1I+94e7wwHX4AA1VaaNwt1GU/K8cxzsjNe+iAK0N7EtY1OftjeuiA5L1uBVPsjeDRA+He89fu6iZx5TmnWuWtYCgsi5cq3CN+o5+qHLqjbOG24gahwI2Hem+wNkw0CFx6ReqPn6BpOZMxjejisUczqbHEo+5qS03k0YNorra2R61zNbSLb8aFQ+j4wsULrPLcw5DnfOkcOvZuXUiU+Twrh/ANN9FLk5/XHOkpkSa/FYCV5CI9nKXFe8NuekkvfPT54dXXzw9vvvb9YZUhSxdPebiKc+YOq7pl6RA9t7sMl1vZ72Z+eydbxlYYejVNtJt3WcG9n4NT4pptl+2VOhW1O5/7Vj3ZrrRQk3yyc9dOFo19iCf3SC9nhKoqZ3vWNRRsZhHaeNKoitotQE4bYIdj5U1Dx96aUy3azZhebaQDHLU1p/KMlWzpL8jNEe2VDE4++dhHPszXyvYMS363WZ3KhFFykU7ZQFXWE4nz1GFb+vTIeQXNe7lu/4Wt5IWt8NVQJuoEzkC8/PGYNICIw9GHOLXtIrZ0697t4Uc+97nh85/7TIAsvNapobMnmWcbNEZXms988vnhW//628P3vvqtYckjtHG37i+jt+3Dve+/Nvy5P/unqaSfpSdOj9nhVypRnRbpj0mz4enHjw1/7pf+zPC//B//V9OnurLQZJoA8NOPnx5+8Wd+cvjwqaPEdDRAyriW31znffrE7uFnfvJzwz/4zd/lzIDlHEwjkzXoLqVEUJCRBi+RP0GiC4h+BfuQBpf5TFmisvdJDMN1Dnt75sAudg5kaxdYTfcsMKOxfQcl9ZENy35tL1ObIoBuVrxLRx64lzc4zJTNuwUmTJobnHC6EqKem1e9BDG4xAmYYV4avYLhKu0mb+VTgUs3zXvkL3Ytvh5npFcPgR/xi6fwj7R8zV8FTfsLGkEjT+nSx5EHw/UIIPxhG32qsegIUC6i5pGn8aXFDULKzS7EKLwRgHEuOIt8eMkQXWQL1caAiCYGFaXxbiWQP3uJDidSwBfDLa5K0xBiDDJfwnX6Eu9/PPjaouPb6FlZirt+FGaaveVPyycRIXxUfN/Fb3w1kT/e7fXV8X/ggw9Da6/o5BjL8i1G0ETie9dHuuGlvenT9dmfvUfIFmcig/JU/FSgrbAtSonFhfD2Fz60YGnlngSp99GvuKrYxmzcI3d60WmglFE5J02tGX7r2M5SoMadnqyyqsM0guRTXL4XT+ra4bKdVM6yc+8Ow4xUjL5bqd5kJbIL+nbSWkcMzNQ0Z46MQiaVtOkho9yT9t6tuPV3CB721uZ8b9LYewDHPUZGbF8fOLhnmGdV7XHOBZ/dw2KpTG24IGV7esE7OT1sAVp+HnOZHrPD6Dkpjco8vb7IxkIaKn6FK/vrOp2kI9E2uPBsXLnPf8nhKtzjnLxmQzYVqzgFFoZ01kUHrq+AR39F05EobBEQs0oWXPncfxktoBrgfRUdOI+c06z05zm9dWiZKrYxvUtUHxIrdGdJhz00mKS3g1a/i7uyF5s0rpED8RjfuApcP2V3htoCJmpIYhTf4trqF4INQ8oCdRUbKhzESjytLPKDR7TF9eSuHC7gunHzxvC97706XGclu7b5o5//PJWUVIzR0sl7nn2v3xx7lj/72U/SaGORY8Lk29EbP5m6f/ipz72YXso2RnpSoAfKi4WI1TT2DY0XX3huOH3yVMqKzrPpu4fG5qeef5bKnHPpU0lzCxfmo3qMxIxgHD24a3j69AH2+L9DWjsdUquqI4M6Tzo1DWQdzGZtgEm5MrTic9NdSErsvZ02aLQq+7CHxpsPwYOMpq/FT/8FCF3Jv2kXG8MgU4aYnvAb+4ds3Tu/78dLEe5pHoGIb+6pHKSt+uuYE1j8tjTpaRN7ER0MV9p55707dYoLpib75nIXIQq6xRNPOqfeQZZOS0HAQ9N3iVA8qdj2U3+lX+9FWVlc4NjLeIY/TIQGh42kNy1s2VulaSwMckVIzSAErh8a7PPoZKBe+ly1Lf9qvRkQ8RtIvQdZixNmGoEOXXeEFW0k4ale8MhDrtmeRSqUD3R8CKOJOD5G6SlYqiCSI0ETkwfvFlRGrWee6j+VgYpImAlQqGs7F88uCjKhemvVYCP3dE1BbALpK68gSCKZCPGtS8Pc8E+HEG4koDUOW7oOy4enlpA90ae4N1LhMjd1ZuLLBVcaqGffuouugK/E776FzQo5X5pqlcY0TI+noVUBTtyOlvsMFY4Vs7yYgTVyW/ndXWded4bhNFfNuqAksjJH7Zev1G3p2cITedrPzJG05N0/RxLtWcMldq+hbxuWmZ65yTDiwRV6zetU2gxxHuY40exrXlxJr8DtSfJqZSg9j7J06M8Fie73lk/XKfQRBHnofMinRx3uoUJfZHvRMr1jFd/1USkny9gQusndpgPPWc1MwW+DQPcQAfwEauRFB2kEKislJ94R24yql0TCg8TezxFsMpg3hFRfVrKI2uJXeL51THjIAbiL9QD3WZj32NGTw1XmKncz9XDrLqu57ZGSfjaS5pDbrXW7FvZke5sLvfbS0LKwFqu4TJeJ0/99nHbq/wg2Hbf4V2Z9SwfTuPAl4iLz2upZRAfYZnfs6CGtIe+FIS/jRVKd3OnTzE9jg5YFVQTKzLbBKZF9C66XkHJVSB1Bj+u7pYTxPs6CtfO//pusGSNdtXfCDh44PDz39BPMDwsJVJM1KPVqTl49lOcM+/3XZ7+K3ncPhzhJ7zYLG+dIA7en3b59MyMH169dyRC00yaObjjSos3GXqncnWdeZd0NY1upIzKCAMNhYUqBVX50DjbezadZCU9+KNtVJEuPVjmBTHyx91Y5b8TQ3qYU5WPZ7lRYMdVwN//GY4Ka1+Q28RVMdW7pxgCA/Be4w49hLSbv5pPRRVemav310YCAeIkgQldeFN109NFICZiW1/ynK71XflQA41fjo2HhVk8NXjqCjM43gQgvkH7bOPQ9wk8/ECELcqDqsGUqsOAxccUm8n5vEYvDvCiQ8SwUFbQMQCFUlrHr3mJuuEUIE6K7RibiNe/Exr/w+caQIj2G7SxOKsXBP/M5GqiFtPNVrnR3RacL6IISXFYHDX0qHiLDrj46ZZAgMuCfBkwKj6IrhJCdnu9JSPUwzb8BU26Wlbie0ey+2OoZWTMVzVFq4hcbSKZnCy+KctYgAdqgl248jV7nTb46W1ZKSRfRTvHlW/4ADLmIAZ0WUVw2ZjyzW78VChaHnR0KF7+HXKxQEOzYtYdhSUG44J9KmoIntHhHqXhXsQtCYCzwLIQ4MpOFYvv42IY9+Ks3rw2sDxvWgNmBLd25vzKcf/vqsJdScjsV7sF9B4ZL194dtlER2ahwy4kLwI4w7C1Pu6hsXPE9M89CN3jWPvrBDIqdtGryT+tJfcpmdwWHHzSUwT2gfmBEuNOnTg77WVTn0ZnO99m4zZA38mTUhh5w2ZMxafwQZ9qJW1q5Twds8Rz9bfDHJzrWU266qxw6g23snp8dFll59dwzT6eiNk96II0VhbbtdMQdpgVOnjrFSW7X+KLZ3HCKnqS0/JCKD2KWRy0tHp3Me96hT5oKj8pMXobiW1lAHNM+8sYOJlyLrvQuRfXm6Jc8clhHOxf6PUmOAdiKc67glvOwDC6b74cOH+W16G2kOkYeHwy3Vy7/FQWOSOOFeY503cc3xTO+A40oZiM2+dYpg/v5jxw4mhPmFqjwdzIa9Njp08M19r9fQqanzz0+fP/hEg2Ag3z9jdEp7GqVKZp8IpTppevXrtYUCaMod9YPssKcE+P4zaFPlBr+qkETkuOl5WSSy/KbxjS057R/81njT7m0TRtrOkUVV/JCEm4il/gqVYQqZ/kkrtFnAj6hYazQM9ByZYSeghkxBkae4zqfPTh3cNhiKuIT+j1Oh93wDu38TzEIieiI/Dm6KRhH+JLf42c6l6zeS2DrBvWlh/eNsok1jTgjGFaR9BWRMfiViw6nvQIfyA9QUYsDXBYtKoaqOkqxoLZQFG+h8j4h6pv++WsZUsb8c/HDOIzS4oAKNx0fuCDvNKbwYVCjkY1RSgVdUdUwKA6k5wpgT86aYxWxfLttw321fhQhXIlTEl7LAvImT/JmhRGjiC88RcnGSCAwWo3+1SPvXHc+u2HWO3GI7zaiJSo1XX2pqYQJP7IB4fRmwpgeARU6D+JSTt/MJoL1zGa7OzTHOEESyL5q3grL5xgjweIoGZW5fr1RUr0qyUIHMId6XU3r3PUSp27Z+rflbwXggi0LBUcLcnQxCbmd8BkKCdNUTlNIa+HqsfGYqQzsbAdbuI4fPTDcpnf3+OFT+cDGLRpVjkcKukSFfPvupeH4Xg4zoeK1otlDJXmHr1Apk0DXGTI9cfQ4BROL0KisV+llL0DLXlEV3oWrF27JaJGZihVanuNtAxVF8G/xzlCsXzjivpNGyWm2oJ1hjvLZ557h/O9jw5NPnBme/+izSQN1IY01xqsfiMNCMBjK7tMD68mhSnGqgWvdeel2o+8Hc5X+da0YTa00BneyoOznh7evsI+cbW/vXmP7EY0dT407f/78cJSKaxdz2H9w8Y3hk8/8xPBrL39/ePpDHxo++tGPDf/qy/8qW3pkrLQg1o75/TnrUK0MY0TB+Xj0HzmVEW6Re7Rd0OU5+prg1hbVx31612urS1CvxtEEYvIUG+bVvrAVnVvEio+yZwkusp7CNJCPaX1NsEyespNpzf3vdlKAb+L3o4k79+aJuH73JaYtBfZzM/TpIrWZuZnhtQtvDh5v65bGRdZbPMb59XtZ6Pb8h54drnOozTyN2X3MzX+bOfZ5Gqz5PgF2tGfX3pwSd21lL6M+Ds6DW55MG+2suQkLWi1Q2hYw5o0clEJDo+zLMqvCvCXPGyNC6vMerhNI2uUSWcGaCIW7AxWOXp6Mdp3ykjD4MnJVdOpKfN7hvdAFd2GZuoLeYFkNmNHAFaobSHckFVc+RteCyguaxA99QKI53wnsOHNqnpHlOXG9GA/b4LHbaeoKACqmAUbiDZmtN8uFSPwrcsdlvHquaLl+wIq6oZagBhGBKIgs5CXifLaus+BzoZ8oTqWXMRfDBdGU0COPKaM/GApJvzXRKfQZ3+8VWDcAUeg6D1YwNgaMvIvW6WOPPZaKRIOQf3ta8n2F1aB1YlXFLHxikn7xl8RNYW0rU5E7Fe/gMxPzZwHtHmLpwqWABUskv7TkN5UTs0V3rsotKceY23T1NEJVHMkT155qGhNkZrckyJNRo0sy6HMf+Qi+0NEvjFWr+SaVlF+UstdYC+fkrtLC7zTbe0pFyvGQZt6udk+IqkpJOWvIe0Yd0Dt/jtO1QqPpZWHXPId5nMmwvY0eVdIrwAzdgdf39KgInKVyczTGufGMyhAu62pYPXiojaeP7d69kIM97t9ZJb2G4cqNqxnqK9olOwoWzbBs5b1bO2Qe8MjR4d5b76QykHenE8wUrkh3NavzncrpSm9/pmGXZ8SNHqMpwtKQgLcHDxztWOO0sv3D009beT03PHXuSWQ/Pjx++iRz5EdYVb4vqbBhZaZpYtUmXf5MOHF3HdVcf1LOC06apm6/x/ODXyARMqBoj4krxp3o4Auf/xEOjHnAKnx6zYeO0tC5N5y//BZTGANbld4ZDlJxPORTlG+8dRl9M8VAo+Qb3/pWKunr12+0dDSf+yubC4EtLtLUIBRHXnTKZr5wH/tOt9wZjr+YhPOHSdczkVLYcU9Yw3L71vXh9cu3aYAdAFbM03x0StIU8zC8fvEyjUgqWRdG8Zd8Q9CFt97i8B3spsAC+14X6X//e9/HZqRVvdAZ0nRt9Q5TB0ucMsdZ5oSEzwkLeMhHeTgvfte8zMlxhwF88uyTw7Ub1/js66Vsjbp05VI+MHPp3XfYJnZ8eO3d85zct3/Yv7CPcoPPuLK+wONMHS7X5u9gjy5YpEmLfZWOzVM1RdWpdokmZUpGdKwE4S2n8RE0qTiAD7IpIdSPwFOuUk1//3PJi1HLNoT3pe5jWVkAApWDj3hxqUpaeF3Rjz7Lo/m0lwlIPIo94iRxO0+FQ4CRPs/RzBQfeZRsJ22ETa5jmgZJeWHA6NmhoEFZWW8TP3kIn4FXXtOAF+yoq3AC3RkoTVuG6DaXLR3q0TuYMocsZrFCzLH5fBTewt6/qVbdqCBgU3GhSP0CR9wS9lH2HiU88RHa/Gncrqw8y1BQ4a8CbDhED/LI3kkqJlck94pbUCsoK3CHbNeXqlLSn2ijG9+j5V4oTNEOpJmXCokW8ymGso7QEpYOxUB4jOyUQA6HWkgtssfElnz+uTkcfIYtQs5fKoQZJ3pCRud2rWzrS0utkgbGBUBnH398OMlWpVqxWjpJfNDspXfk3Oo19o7CLfyIsxpWfjhDme2JW2FrWFbmeNBo8JODtbhKIzI911gpfITRCId2lTH6QTHKc5zPWTq869nXi3xbeYGecL6QhJw5yABJ7e26RzpfFKI35UlOppH5qtT3cDjCquvTfBFrJ6tS79y6wrDeXg40uUvhuGe4zKlYd22oYKmJQlx15aIoG1iete1Q3t4dpCWNLytCdW5DzZ6xtgAHIWV6yo9botRxZwEVJa1qiMrKtXS8B/v46EdfZFHSp4cPPf308PiZk8PJx44NB/f7NamoTIxGD64RH+/dRr2HVioW/QnUof/YcoZOeSVywTVe9PgBXNFT1z1SPZgVZM6G4y7SbA/biB6nB7d6/8Fw4co7w3kqia+89K+H79CLvsGIxO/93teHu6v3h5dffSV69ICSw0cOBGkV9D52ieP9yKVE5NplNYav2hTPO1jopVPe4k1d2oiRf4a4ScdDfHTlPg3Amzduho9tzPe7zuof//ZXh499+InhIB++mDif671hZhvSg+FffuVbnPPO6M6oFNICG3777XeGb79+bfjo2cOa/Xs6e+VXby0PX//D7wBDgoO8jz7duMMitzcu0lg76rkhSf/ioSMkXxFhlkqag7+G77zJ+fCsrXi4fo1pGA5hYertpvPUyLpGJb7I3u3XOLDlzs3F4Sqr228vfZ/FmJwWRz5eenCRfMjBP+pv/fawNOsBOvzInw/An11h4aGkb6qAV8tDSwB5ql9dzZdOQVlOVj6Y5AYh9G7w9QpdcVv2JYqK8K2JbBiAebXXiG2rLr31HOn7vtklUkNKmPyAyl+iCz4+bI7bwhKhqFS50pg2uJhoEYv/EcsErLzCyoTYdLB4za+jk+ZmZ7hw/FV+jIZgX7szzPKdh95ZSXzlFZcAdsZ0PlfcpAsypKIWaQEH6v0vIRh+gspCPpnMyhp6FpJRjgoSFjcqq8nWbj24gD7wtZRdYhTu/hwU0PUIvIgOfRsT7g9XPlnSVRhmKqy9ziyswLIM2CIBAi+3LX4hseijl6A3GWg3rV63BVmxKu+duw7DcqYxi3hcpLOXgzr2391PL9leayGSt9P0Sp03qpYYq5CpKJ033M9clTy7L/kuGfo2H5aoUsVKf344d+5c9N5x1d1KmREEtmC4rcWPUbDIlExpxbQ932+20eL8vZWaz6aX8tubnuE9ehrTkLTFqM49dQ5Fuv2EwhLWhbFydOuPmdIRAXEc40MYznu+8tp5Rj2oEIn7kErRjxXkgwXAqq/uTLdZhgIPU+Ef2XeQAmmZuWkqQYYI37l0dTi4h32nDNO6CtxiwRGQWb45ffTIsQy332bebtWGGIUV/eYU9GOPFTpZJAWxGoqS6hRx35Le1cjMC+nykKMOTz52ZPjCF744fO6HPjucOXWCBUyHGXbk616YiM4iWGPRAkS52WTSUOg6BDIVBTWCyZ4tVyIhtpGrN2Ea1QiEuvVXzvD2+D63ghGw54QeP+zJYsSTfYsCSA079s4OT+05zTzpMRZFfYgztW9yzOv54fdfemn41ivfzgKnnSx8WmXuzq9diSOFRvjm5Y9zje+oGNj2+r6x1IGjUtrSbfbgO8WgnXpamDI6bPvyH32dg0gOD3/+57+4ZS9DO1mlofib/+IrbM/6Tk5AE69rH5A88i8y3fS3/+FvDI//lT837NvDkaNbcKWfsv/a3/t1jmVljQvrIVK2NU3cpjf9h999efjQU08MHz5xCGinOJqBBJ/awg/bvPjOzeFffvUbaVRaPtyyMUwae3jLIpW0nYY//M7LNETmhsucRaBNPFhfIreRntj80l1PtQM3ceSBEisHnViuOVo0m4b4VlJ0wdRK2VVsy8Tgt8G2Er3h6KgA6OWLESZ2JgAImp32RVmdmvcJ7o6sQoMPr4mvL/WWqzRHWg1j16tw8u6lE9Av/4ndUY1w4uqunibv01wUzHTYNImim/KiIVOjj8Qf+ZAXUs93wJS5Q1PCEEQ6GrvJLUrLZ+2z7mWrEULSpDmTjJITcbnJE+++SKm5KkREqj+/pqxUVhiPrVMLJWNYCXUlBb/wzU0wdp8Pflfo4ANJUWjYRmVAiP+RBs85RpDMsYMKQ15VhpW085C2bDX+qE4ejdvkarcwF78pmUJ9CuAkQ95WEsLd5FSiA3sP0IOubyxbkbuH8QjDs86PWekK6+cSj3A4h/I4d7VOpnbFsnO9Zl71PcsxiUc43tCK1MVvNiz8yIMjBJJ3mNvMX5Ux+gevw/pWnh42cpVetZVpVjLT084zc8t+iCFHJCKdhaOfMhS/cVcYNkYpWXT3xLknMxx9n4aHHzp5h96zQ8d79uznu8yHAn+Efa7pDdFKz/eH4X0NY7QBYkVd+sZwqVRjiOo4tmih+nD47iscSvIMlfkOtjgxLPuPv/o7ww9/4rPDS9/8Jmcbox1kMoKNGbdT3aaX7UlfaywKjLVhox7N6SIyp+5MTxsKytP3xFdRpe2wtYaGjL3xFXpdHkKxbXbfsL5yG3kODH/pL/3y8JlPf5LV0ceGvSzicXh0uvjVsGq0AMU1IyszqMau6S99fz5XZW7frOUGZeGZ4PiY9pWvgFRWbbAjJsxEbmQM2OAmBYcQVAt4zGBDRus45N+eWcdRvBIaGGYOsKNdR3YMp/hYyLNPnh5+7Mc+OVy+eXv4yh98Y/hHv/lbw3V6pNSc6L4Kl8gkviDsWNVJQzjNoV6bvC1OMkRrRmy/0plpWHlb3Xk4xzKN2mVGeUTS+d3Geel/7//+jeHa7bXhP/iFz9OAsq/BWgsQryD79Tv3h3/KqWK/+9LLw9rCfkbN9oeFZUZ8PKc0h4QwBfDyd88P//Pf+gfDv/fLPz+cOOCiSBqisU/E3TZHr/bh8H/+2t/PXmzP8ZY3t8apSadztOPvnX9z+Cf//LeHXT/9heHkYY7HbbKatjbqWKUxvHX19vBrf/fv0fhmKsYpF/7Mg6izGr28O+K15DnwqGQdA55BL2YPjwv1tFmnt7Qg09S4zvU7N60e5UvX7xueE1RMOU1pw7nOmqc3bZoCbAMAq8lTGV+lbexXZKObJKTxJm8jQHtQsHrsdj3NW0JAENb6S7sX3o65QySHFMIYQcsPzd7qpt3gvAQmD/GoUWD9JVoUeCsXv05vmqcKzggSjz1aqsJGKH5cRrsf0YwPUWdkN2ITJ/F8sTzDXit+j1OdPKl3OMs8XetRj7qdekh4LiJLRYAmNFCNRGfLb+ytgNBvpXZDsjxyWDRqbUwm0p/wMiokPMBmWOCCRAq1FQnjuI3IVd9vvvkmZzafzrDvCsNIfrf4GnNGKjK4xcNfEqNj66VDhG2Mb0HIhSH2nHsB7bYl56M9DMTesSs3rRisuPwco8PD9hrOnDmTOMLc4+c0QngmI156+61UoM4pH2bo2SFAv+18gMrkKD1Qe+sXkMneg590tHcsTunaq3XhnPPl4vUwkr0c9mEcnZWyxzl22c3w9l7MEjYASgesbAWnDZDFlbvwMje8xZzaYYZNC5ZhQRbj7fZrPOB1jt2elw0KbcVEkR+HoEWorcwxzwaJ0jN8ONQsrpNPnBvm99GbJ67fJX7m8Q8NT+x/bPjd1d+nd+0+bAvIskEbgPeRzznDVQpy5ViwhGSUYInG2E54CV1sVJ1rqrFJCimPOrU3vo+vY33/tdc4reo6hSGnJt69Ofwwvedf+ZV/h+9cc9QoDQai5accedKjPVYA790Fpr8oehnJxGarkEWQwgECq72gw0aF6w0tcRuq24R2QsAwfoEq0DGsaOspREHZ42lZNjhd4Goam4fIznHW73OsDD86v3c4dnD38OzpE8PPffEnht/9yteG255x7oIZ40wob+BPXBtck0ndTztlnfymQ7SRZjOksY1b85My9MZdPdMgwf9f/PY/HP7g678/vPCxF4ZnnnxiWMdW3+bjHheXaIDuODfs+5GnBppf4Xl4yOl1rBFZvH5zuHnp8rCd9B7u3x1eeuk7w6uvXeYQlU8Mn3ju3LB/J8eHUqF+7Y9eHf7gm99mDtptk1TS2FFpUn50FrD8+NTbS19/Zbh268Hw05yU9okPPc7X3UhZdHHp8nWOMf328Bu/+c+GxVX8sMt1h+9RolNaaayAtUZUVB6/ECmelb+c90m48R4gY77RQD7rttKAH701nK4b8fvwN0lL86tnCzgtuLLMHLsjDsljUEpCGqlcvfc3+O2P3vPCRdaxscZl/IXcGLciTvLGBkyJGwiNrB4SXxylI3mTTgueuklXBOEg/FdjQ0YSxn0T51Oxt0DYQouW9gqMdYHIBC+kUzgmj53HLrsNhYq+RcROOng7j9z155K/vNCjLoSl1I68k50Adp8pZvUqSXzIo/RctNPPV7ZiGDMcElgYpaU2xhPJB3MmQhItmjJOkgX9RcpSRkNVIUAQlmBA3PLw6isvp8LRWDR0K5HIHB0WnpK5EPnsvyEVWjgnxmYBuC3z0somvHcriOAlzN7uDMcYOWxrJePw+HUaCXuoOHfbY6NSnuHZFa37mQ+s1ZzVy11kwY9DW+rx8BE+1Xjn9vDkU08Ft3pVz08xbHmJzzH6GUdLY89QtnK3sjrBHPZlesCuPrbX3NPJOW57qRahJb+9BapIeBVujh63+5PPnD7J83YWsGxPo+AQX95xS4iJbWV/5vEz6PVetj6dOnUq/LhlybO+79MTG5MZuQlkuJyvUeGZngAKNe2W1laGN965MOxFD/PMoV64dHE4d/TM8PVXXmVYnAV/VP5xwMqr3zZ2W5uHCaSwJGUQhUraeXHk4cX+gSvSXfG9Dj+mi2ltI8QKPr0RKwP0sGth2/Cf//X/aPgUi8SsU8Sxwemhffh7DxcdEqZdTP/Kv9kp4fTz4bYVwOofnrqOqlKSfxnoxDZWcu9BfvSWdrBznwyxi0vfaqQJ7PnQ0pUz9+LGDnynROmLE3eS7ieP7B1+5ed+Inbr4qXeQBfHH+eUonpw5IuoEAL8T7tUwHiop1SIzNMoQ9dA6Q/uRND0lvQloR7MMhK15+BwnhXgl1f3sVOAA12AWmOL07ByDzvzmNgqJNOQZP/43tNPDPs+hp3fGoY7r3xtWHn7At9Nvzn8g7//d4e/87fr+ORtdIVdw+GokQbhwlXbC3W4Ui8nWxpSic+SZy5ffH34O//w1vCbTH9tx6ZcOHqNRqwdFXursXca1Om2tBZTVBHFlM3IvLJry7r0/BWIWLEgjZNI5mtP2OvrMSK0+WvaYVc6ff25tc0ywKNzHzCaYIL7bJlkp8Eh9Dn13ow/dgFiKRcGbt3FcKq5ljDf41rDM3EMIT74HSXS2JCsY9h0N+318m4F27kusLwhjzzVM9fGQ/Grb2J7CVwemq+cBGLkMwE/wKXySkUAk7ZaJONV2CPAe+M0WBsqTuCRMo3WnDrSee1S1F1d6lu6saGS71GXcozyqOvK00CcCCdrV4KCcSK7hWWRU+kirgpZ4695p1G2AniU0B/jEyFBYoE7ttKhlfkRxBrxB49vBnorA9BbGTzVqbtumGp+1MEYzIMZqbnR23dxtrsqvc2w8GFWLFuQiVPjP7j/UCo+e3EWn8aXyzs0GKwQ3ee7vHQqC9rk6yRf+rl8mXOq6R07J2ev0ZXGRZfhdIbEXRz17rvvprK30lfH/lzA5qjBLJWTboWCSmr2rl3A4gKxkm+iC/mvHraVmLLyj26txO2lu+DqKg2Koy4iExsw9uwznIz0pqsZUadcmUIAxoJUPizY0Dj6oNq04ODnYRrbGo+JGC2SgRnf+/abb2Qef5HGyInHzgwvv/MGQ3ys0KYxYskifX/KmzUI6Hk/B0fY4z9+aN/w8vnz0b3hLlyzIJMXi0flswHi6M+tWzTYvvsKPZ5Lw0c4h/l/+u/+5nDikPtkO6+QmyR7sfkBrqXf9wAUXxIylw1AiLHRCbLZbyPE+75t4GMKTx/50qRTcfAQP5MQv86HNkzTMO8Wram8Cc8CwPcsbAGc4luyPS/YkLWHKS6H4EsPvOBqFEGbrDJlzI8VXDyB1/g6SZiuu9lfP3f248O+pz6Z9Qyrdy8Oi6zwfsAnNR+y8NDpkZiNgiGPX8ry06o7Gf3ZybTHTtZ/LLz4uWHlqeeG66/+0bD8xmvD3P1bfEvaBqz8UjFY0RPfOjDk1ZdMNEeIoQTS4+Y3D41ZiHpIzkMah3M0sJM/wRV9E898UkiaQMaPq/dp/HrHF52lQSN9yint2DUoVd6CznzB30bddfxiaVg7Hu6rjhDgbZz+G+GMssl1mwr/02EiwXnNQkzw5X3KnywHDX9AyauHsrsqUEPUT+4LTZ6DYPqSQGS3DCmNTIfGL2RF90j4iHhTnD/Jq3xKgXuJGSQjTUnpP0XSMPWrCPLYRwbek3rT0UZEhTQlu4ZQilB/YFWhHZtc8dNg3Ufmt09lKAmc7OdLUzZ3K05Rx4HHOVWsi8LTniZDoexJtKIFskN9oPtokFPQ3S9eaKJjlPc8jw94wMsEwhgGtqua5D03PZVR1zy6Nvo9QSHgZVsqz8PM06bywjI9tOA+PU0XkN2jonQVtnHl9xbz11aExrv87uVUNLb4rZxl6SZbYdJq5oAEK3QLJnvgzmub4d94/fXEOcz88Dwt/7suMmvOuWU5N75HaL558QIndrFPnGFh7/MsDpJuz3g85t1MpiFpB8Z1/yld0nxxyGF0V1yfPnV6+O53v5PKvZ+jLcO7GfJ22PtdDm6wEHHv9KFDB4fLDCvbY1Un4nXuOtuwKMAyshJO4RZ9ybP93hsMTWqH//z3vsz4PMPkpEMyh7wBJJ8P/PSldshXs44cUQf0+CmYr/OxBXvsIrMxl6kIXrQ5CyYLtnzmctnGy9rwp3/o08N/9tf/E0Yg9oam9kxMiGzR8o+e1NWjLjYIX6NOp0DKT+lwyVdV2FQcn7urDC3z/gGcpAkcbx13ZXrTqqUhdBGsJ2OQTWgiRyNdVOqlKunC6RBsp2ho9tfDlnvwTSPnTHNsZUom8w+VjpV4k3cafaTBo1cg0taW+vSXdB1q1X8blaZdec+6z37kFMLyVDpRhkoPi0Vc3rEbDmyZPXVu2P083x4/vn+4e5Wtle/wVay7N4aZtXv5aMssOBZmWA2dtCy9PrRickj83q1hdWbnMHf91jCz/8gwR8PzyAs/OizuOjTcvvDdYYVV79tY0EhVlsN1qoEBDphQBZUqsqMuNAqv/BmuHUM7OzXQ65oNVOwUqQNHlNz7NSZlOvJnJVY47VGjmwCVrgyXDhSiEyt/Dz9x6+b6eh0wVLpKrFz6u7Gk7thZOjd4mDds1HuPHRFesvkApfDJ8xauw49ByTPFHcjKe0rO8pCOT146DLYZQtPE1AG6bCAyo84iSykvOgqmCVCFqxtxJ6441RXXxGsdhUTEr5XtUygM+UDOulHsj+qoyzEyX7zIf3GWeBIJd12efOvBOPXb5px1nqeJGEYDzQxEGYZgk8qakLjCF9Z4L8W1IG6FoBvFxP/Rp6ysZptPDau6CApjmerZPhrjUR+pxU1puPuZTKWCBtNZ7q8IIp+VeM0zNwGJmRZeHrl0rP39/e9icF72El9ZOn36dICdi3Zo2EVP++wVq0jQOi/uArZO4yqVi3PJu2khawIOGzs0bmZ0QZrbx6z4PI4zQ+j2Ygl75eWXh0996kWGtk/SQ2S+TYxNLy402ct2J+Nfu3otheWsn5cknj1rh8VL6ipILWAMS4VGj70+GVkLweYYir741sXh7JNnc1DI53/sx4NPvA5ryrut+2vI5Z5QV5rvpkF2goVsr7z8vcx77WUR3fHHTjKUuJNPXl6kpKheS7enYpvM3LjK6mf22VYmQzCZNf0UEmcmWaOhcxDdHETOO2zhucOeX0940sjVo/LIi71/561tBLnyPngYMv8zfEjhL/+FX0DXfoyjtJEKSPwS+QHcyOcPEOf9QKXfeeiFVE+vzfHij26827zoNvAIXAplG8f8AVy/wmq5ZfXr2xoL+ywHxp4iFe128sZOpiAMNxUmQ5gVfzMt3w3RnrRZ97NX48CKrE4NdAdAGoQMv+rnzzTLAlSZwyg6dnk2XWd27Rv2PHFuOPj8i5zGdXi49cZ3hpXrfLKRtF3AFh/y1ayl+yw2XEJO5qpXmGu23HEkYJbG7sIeFjru8Z356htXhuU7l4Yd984Muw6fGPY988wws3dmuPUKlfV1vmVNHamdRadUHlZkUZrCbXLyFrsDJlYKPbVplIwEGD9vFdFKudK3S1hvVqQTqSdE1E1BqBYXhCEnI1N1mqGL4LDrDjCJ9ugTMMbPQjQieDIZjKnqqYqneAq6wJfYvnduH0WsT9MBUP6pK/HqXHezwNkIjt4t3uOTtB5aH4bfH2Mic1H+SonCG8TNRjrMB75/MJJbokvUFj8ybgXV+UL4RyvzrSJs8ks9pOKa8sZgbFilptVFmBk9TIQQXAW+R+p3vf0TX/m1txHtVg/KaMbVUPo+VodZSwFNA8BMnjZhabRGX0hP6BKrclNkcJ5cV3y2q7Ih63RhJq0akqm+wgRfoo+XacnjiUf4DA+YEQXFVVr3ziPnIBUKHe8LVNbC2ctYXl3OIi97lXKms2DyU43PPvtczs0+Ra9VHv251cnCzJ7qzRu3TCbwMKxMr7Uq4assjjs17MtHB+Ac+ZMFkFMazk27DSXDi/a68HfRmgvE7DHbmJAL54zlx964DYUVP4NHpWbB6Rz4LRobb5x/Y/gwc+E75uaHB9sc1nOO2K1kHB3KfPRdhhzfeeed7Mt2pfQ+5tAO0+DYRq/YYWj3xV6jt7wKbntYCxwQYuFN8zb7qtVFmFGfsoNeLCR9TBvTB5y2aSNvxoqYgnsHx55ZGfsFLIfht1EyagbOT2cvOfP+7kF3/t/FdPM0en76x39s+Nkv/gRTE/SkHZoP4aIlmUoZqeH0gM+QJ2Cz/QQk+quw/i7cZreV32aYeocjbdWXR9HEr3EUONMpoMRRZzoeZah0rIcyWAjgnK8MLwmncvaeXkbd89UkMJkzHRFx37E68g/QuKDPpd4fvRag8BVHYHo2YJVfd2HMucthnoWL+DpFoVNufxlxI669Prfm+d3yvSwwPPj8C3DG0aeXvztsu/f2sJth5vWHCxyJCp3FO8PDpdvsaeZztuCwQaxteM7AGg3Vpavzwx3mtHfuPTjs38MJZw+WhiVGtNaX2QZ2/Klh56mzwz6GZW+/8s1h6ea7rG1AblQWO2xypAKOcsNuLk1SnnmyElYgnHKUq/vkHd8oxTQGXtyA9DRtkXJzGN45cl3yMdrSzh2B82c+6aMboV+xpmjHI/hN/ZQf5MesPicdZEM80bspDM/+7IG7CFd5p51vXapp/4hKQJ+GjFDiY9TE0bYjRw9Rbu1IOWYjv5lsQ9Exdlr9vd/xzyP4iCFU+ID53DvYiA0P/pNXeRBm4npswye+H/TJdHrEdTw9LO9eykOu5bRxG98e5RFcGzwUQhyFK4vJFMqE1FvjSEY20YB5L6QS1khiySFQjOVxi0tCuVjQPrB3TeZxCNXMaOYNTem3BHgERfFbPMqbTxtIymx5ZN+qCATR8FpFlYwfxCWVYfWELB1ZUrB8pwnEZwO9KQ6JIw2/XexKa5Fq7tP0b99hyJWK0kpdHeikb4FyjaEsF5dVVUtx1vRhb8RDSyxwhNWfh1Syrlp2/tsKT95lWx3K50162W7zSu/IljppamEorIuCnENepacpXns+4nbYs1rpaxSiFKDxY96NjHyBxoRnZN++w+ET4PC70y7MWqEws3Xv0LyfjvQghxyNCP5z554c3rjwVg5zuG5jgyH0B/Rm9zAkf/jAXuaOmXdnf7iLXCq9TKwoJXJIP694wT4OG6WQ8qS0Ywz77+ZDBzZkPKnJLWPROcJbrOUrVkyxrFIY31+6l4bLThomP/Tii8NPUlEfZMsbpRz4qxBM5JAw4UIsPASn/jxAtp76Q72WzvGL7tvdoG7PLZqo+BXuFvXRm/bLf5FoaboJKvgaD43VYNbLfKTeRKIldB6CojEyzWfCKey7X5jkonU64IV6+a7zMlXjOlMJbZhVBus/dPMiRegGH/FCquuClypTxApu/G2wm3bhFLtzdKZs1bzqkDEhgNP/HbZjZ7towB7gFL5tDPXe5dSu2duvYwd7hpt3mTKid7x9yZraqSO+rgbPD1iguMZ2J/mwQfnwIVNN26icaSwOi+8MV+8eGHbvO8ZecgbIyZOLb7/OkPcTw07WRuxZY7vmy+QN8ut2lGDlU8VK5TN5Bln+86ic/MlybJaHwJjveO6NoMBWSODrvaMqrOIp7flefmILXu6WMYL0jo7+IRxkBZ/HLS6CGt+fed2y1/TKdJVTVtjBDGVyndxHZwrZTSvLKm44nqdIJK3xFV9pJhDFfvKWYZzZv2d3Rt3sUZvXXXme78EjT+GbQqqs/HUXGjLeXNjoL9ynYSXcy9yAABx9GmlDRPC1NJtC9QEfJ7z0CJVmE158l69MIXMP8ZEHQn3uMm3gS4wT/InZohvCVr1GqlJjg1AVMok8CcQPIpmzJnM4vDQNJeJymzgxDgHyma0zJLLGlsSWDyuoJlyP2fHKS6hISwQtoIfrUcrhCby6KgAm8IkXDghsBCK2FuN7flDqxPVoQeLTWxzSDF35GB2FBEM7b118Oz5FiziAGCOFU+u5RAFABRc43uJIQ4e5K071iNWP+7Dt6WZBTmPKutqi1NXW3/jGN5PROq3coWfltcKwIoqFihV1VdYWgp7LPSyCAV7sQadHRhwXv7gKfdcuPqTRWu3uuXSO2Tneb33rG+iFSpUejnTM1PbOj7Hf2PRzJeqVK1eZNz7GZwTnhqN8fvIy7/fZGrbCzyFye0cnjh0eTrHn1NOW5ymEb/A5zHwfWvlQlueyl3JJb/Wb4SCAKdjneT/MwSh+fWgbE6juG77MdpuHFADO7+jmqZCPMxqxzJay5eV7zPlzcAprBD7x/EeHL/ypP0VD4kDgJhdohqTpXoXTJKzSvBdK/d7Dozte4i/7sZB6735ZQIVAEY/LZhyFq9mc8mowpYDATsP350pv01Abahga7pojnsYhzhHliFNcqUSUXd7DIHyC07277oNfoUG95ugL767Ip4sNInvG4u8RGwP46DL3GU2UrOqkcoyh/Qk6vuKUJTalnZKGfo7UUsC/GXphO/YfHfaco5Jmy+NdtizOcBb2sH3ncPMyoyX0fLex/31IRawyGCAE50P4DB9UlmOZEDuik7BCxwBbesB0ye6HjLLQ47Mnvnj1LaarOK3vzLlhlcrk4cqr5JP6clo6JCPvSN5UGjVEfBUI4ejQBqDOq+lenZAMeffEgq8NzrTDw3xeILz50G6V3zz6liYTdr9OpWeey1A2cKa5pLdypq2cCO9xup4lkYpemvxscHvKILvKMgrou6vAxWeP2ONP4/SAjhVurTuRplMN5mRgwi4wwpmWMC/NhzbK0Dk1PzpfoZyhB4+/jaqeNsYxmvhih8TNveUFMY5OQHWTn75KB3x70kcXH3H6Zxyc1hdooxvmS4vv02bX443+Dc/4zkO3aCmVU/Ju8zyFRoV02cxDPo8idJkEzn/HJY/qnwZVw55bghuM+NNCEQxEU1EhUG9O/ju/VckiCvxHxiYiGFL+U36AZn6UoDI6IpqAVtaN2IiqRZ9+F6VO0AYOiQlE5nzQhK350fk4AR7pjOHTDy1ax2m0LncqPsKjX2lKp9GO4cZLBD7wH8OshBllw6/HkawrxdWDzkq9ertmmJbsDV0yPpWscR1CTA/ESPBgSzm0eO6FX/ypbNNjASyjF1TEmTt0Mk5MwO+i0nUFtRWtFa7h+iu3w2D3lu4yJ31gMqQ4s9JGCOpkMrdC1Wr1u+wV59xy8J7l037f/Oa3ajEhPrtZ/EanmuFGCgi2SZ2wYcBXhO6w0G2JQtEK215U2jPSppBz6NW90bt3LDBkuS/z7xZoayz6uWpPncV3ak3ZHdI/febJxNM273D4xQP2Wv/Ii58dfvYnvzicPH4o6d9NoGcWopeeW+LoP+36e9JiKmzyOIEXJjrmHvhWiHV8E1zdp+6ItLUTzyMh+vQI/S69ZB+THKe9qcOSrSPRcsqJo+FuvJKVY0fGsTe9SgPIbYzLRHm4y3UlDIi7wixmWvHFoZvIxTvlg/YpH/KQCiVZu8dJhPBm+Jj/G3xQkp6z7One/fiTw8KhI8MKU0vb717guMw5zsnmy3c33mW0ZpF3es7QSxkE41331XATYeMPkuYNy6t1RlpW7rPYka1c62sLTMXQGL3Heo4rc8N+jubd+8TZYY0G5OrKZezUj4HUQk9VFwkKpUJnhbg00zjI3WZGk09DVpn+VAZOvfTneke38bdiM58KZxz/8ePditG1Kn55DO9hnbxm+TbDL/oNTkO2ctIjf1BB2rD2a29W1Cv8zF+e2b+wQEXtXPIKhx09II+SC50Ln30gjFzIjB82OgLsLkbc6sM27s2+8MZ5yhoPcglIg+0i2kFZyyJOZbOMsyEw13TROZaGOqzvrNf0SBYeAtdhRsla3PG9KLaKF7vrNaN882vGGnDfjN7TwOfg59LttwPGPy/vczFe4zA4BdXe6j/E1Eu5D4SxA2+6O0eNmyBrjMdT0mb0RwnoVXEM44n/SkwjViatDFJQMb56LPhAtbg+WzmDJErE+NwGVsMu+jZXgXmXVsUJog7xyF24rkDleFSW7veojD1eZ0A+prgBF+/RTRU0063a7h9D4BIZuEdvTaC0nuWOdwuq/lMI907Luy3YzOOPtAzlBf1UA4TIhRw8lIShUfRSAJIZHbrOcBbPwqSwJU4NnxnFofQdWSXtFqu7bDWzoZCFf7Z+iV+NHirk4ycotM7bkggt4fxS1v4DnPoGDg948WAZe+b7WOjlqveTJ09whCIfy6DQ2oGcroK/PntnOMCWKovNA2T6/Qc4gGVhmZEAzjWn1d2H+OXNM70XgPGzl7bGtRRb5i4ec8pA/aWS5pQxzz73AwarK4spFC5denf4JPOaP/uTPzWcPXF8Q/pP20N/rnSrdO3Pary77hd71rO1gE2THtYriv5eYUmkhob0M2psp7xGfPU6XoVp0KOfDzZCdBZjFZ7XXKbx5tmeywhlvOkYvEtDXnIvPI6QWXk4GkA5O06PhJ80nqZxim8i3ygLcX32R7JTEMdkRt4bpRHGhPRv7GWRB2ZZlb3AcLQd5occ+DO3nW+R32IlOb3fbcxPe0iHlU3yCTpxzYHrKlzZu2295SHySqmr8ZkeIhWiQ+L0Bpc4W37HTtaW7GYE6x6LNm/wCUlOC5w7cXp4wJnb66s0BqzgxQvToae8pTre42tIiTR1NY/OyAc8xlSaPiYg6gdUDDOnpBrDC7/tIfOpay7Mw8mH+G2nYtXmZcJ6Qfmju/DC+5QTv7x6VK/D0HuYn7cSXkW/jjq4jmY3lfUcXeqVBx7aRIcBpMtzNJrJ3902RHnisePpkdd3scmnjFLsZ7SqtnmWBjoL2pDO93q09865/OTlbN5H4ipPsTXS0Qo9P0Y61hjpc3rU6ZeaCi3dFsagHS/yF3+IVFqEap4r1uarOueH/rwbJ2kbsA7L3cetCDbKE1ojK/VAPPH+f+lM2w096mnkpXCpdnUSmszQ+J9iZqIsMZhhiCNsrEjFlH8Ejw6aFloq+qZmsnQeYAW1tZjWbxJiInhiqtzESbT+1BiT5eJBZYtTPrpik0jyCI74FfFKGCM0R2ieVNKjbuInnPL1xLEBAeJEKc1Jh9dEKR8DxWvlbiFgi7m3UmXE4ab4M+TsF42KV0NAJN/8FV8hHFpY/wY+fBFv/WqtlSdwAABAAElEQVReyorazOJq2IdkfjOIi/ucr5Kee64t96ykF9jKtcAisBV055d25NUV4NM9f3lwwdod5qxdZW3fwL3S3//e94aPv/ACLKwP586d5dvUfDaSHor7TP1M4fU77CGnN7N3HwXHTlr4+O9zaBV6D9bnaUzAhKJFNxZQvCg3BcN95vSvvnsl55+rUhsizrcfPHyQVfcnhzV7PwzZvfH2xeE42+R+4UtfGs6dPVP6R302AI2nTpXfdIsd4Oe7rr/7PKYr8IVEKcUAXNKj4Hsch5PrGe0ANknxRDE7xRUGw3HKVt4f+BoaEKhh2RZNgrjOS/mWTPXc6ECsw+iTtRvwnaFw9UGFJ/Pq3YaR8mIFoBC/z7ouQb8bRYuIOMFfNKxMhedCoBCBA1bnM5abikd4F4K6WnqGcwkW+ADKDJXL8pXL2M7isEhFsnL7LaajtVPXVgRD8MulD0UTfBRtWFvRaNeiXflpm1tjXHy4yrD3HYbY5/YP88O9YYW1HTv4IMg8Z7wvXzw/LFNZW+HKpXpSgsgTcWDAGji6QT/4pREVANde4McIRIoEeSDxm9iB1b7NV+ZLK3PzoNi6flwxbSW9g1En86QVolst19i66aFEwomoRvoSUypTTsXLKPqgYt6DLvfvd4Edel7lgzyOVlEe7GNaahsfjs/5BPDjGpWlJbaoUf4EA7bhg3nfn4exuNPFsAPs/IicPLfcU/qBprbV7UwetCffJ/5isKJm9IbpOtfPrNAYe4DcElQnyZLRO17Rjnfj6Sp+noTJq3F5TBroxXt7rvCKO9F70anIiVqXQjPlsfGxdD/xU6ZyLSI08xT7mMDlSR0YKAw6UTfeRteetTphrL+2rqihGcJGADAFZbDokegjznoAuvGZUPELmUvFGPkNzk3RfQ1N7+IqAWIA4oofCdGk6bjD4xi3Iyh6Mfp4lf8GWBhLQhIkO4mRBwxJpmNxyfoJLYh67F+e8uMZyqqixWVPtWMTKVgiy6iIrgDCzJhWoKmMyYD2Rt33mwIB+lYYVqZmhoc2K0ECiRF9IbfgLL+iVZLEKwlPxiDTSacKBIaa6XG6aM0V6u7LznyRhUmDz8ISCgCHt3bt2ZVhsYcctyoOe/me7qa8JXOoJ4N5eItnmS/wJTC3o3m06MWLF7P3egcre5968lwW2t2kQrcX9GCROXZb0PSMl+YXh93Qc1jO4bFZ5sUdhjO9pGNS2OLNCWjMHd69dyd7SJXW2dJVht+OUEmf5GCWVRoBs8S9yQK8pft3hl/99//q8PRT56I38XhWsy2Rrqmyq5ZZCNfFLuox6Rs/K1//UHR+rUiy0u9ujCdM8zQYEeJ6eKfd84aw/sq/aHSbqphbXStGxzlFZAO2whNjHpEYU4LeLQS1tTRmI0srSNE3RhNAv3a2Ys/KeKrPhym5C5OBOP2teLiP8hBJOxfB9qzK137UC2kLnPRzcA7PViYP7F0SPoMtzXPK3hqL2VbvXmOFPx+w4MtSa4t3i18phKkiHYsBp38SOHL4MaZr7jCtcgOA+MaOOm0rV2mn18hhJ0uM2Hhoyer92zQG7nD++YFh6QAH/Nyklw0PPf3FFXFoTEMpcijL6OCpKmshS5ai35gF1HIt5RNTSsZ1pb3nfeu89t7yLNNDngy4k0aL5YP5c319x7BMo9aedk5+424kVd+d7EzeCcDYrMyNM0elX+mD7lG0leI9yrIHbM3zcCBqbqaaaOAvuOvDkQBtAhTibATUpjsvwjt+dQdAeIEDX428jEAQxD9w2gEw4mnIKmW0BdbW8J15F6beY1RvjWF3RxrEGXDwFixvyTz6itWU4T4R2IC4eNUlkM23+A1D+owPFfxvfIXnJpuofFR3006OY+TdH4B8Kjl5To6AkG9/ysr/oxV1q1AELtcSanyrhyBqHISw3sQttUlYD+4wE0NuTI2Fi8HdhRcvUzTBZAu2KjPP6yY4iVY4ZZMnMAAnry2uxiBN6dQQYccJqP6BrXAf9Qt/eRQjMtgKtlAPADedcPyZWWJwzOHqJ39FS8zyW4ttmmoqbrt2wzaOFZ892RlatGZCPznpVqZwiNxW1BYiFiYSCg2fQFy4lTPMT8lahPRPQVCvefb9BJWZtKpAfECeZHU3/NbcmDx5fKj87GJbxW6GxOjN0KMwrq7oIiUsyU94424F7irzmSM0OojvCWb2qj3k5LHjfL4SGZ94gu0v7O0+f/48enJIleGtlSUKncU65xx92CCYp9K24SIRW9hLrMp94Nw1Rx9asVtp94pgDRxnGFo/zsI1bcNtJ9coWF99+bvDL/7inx1e/OQn+fYxuoB3k1N+s+UItU276KqEG71L36SpFYd20EwsUzINtplc00uLalgzOXHUS6VfISm4Cmuh4WcTUyMnWz903L34KpbEMcETGTqThChHNS7kR7wFW1wSyoPP5idtWcEo3mkAMfbMk9DUw+X6vb32W3CQBwuarURW3ODpeutlrHv950gbsjXpwpxzaPCC7ZOQw9w+PsfKbwUbmN/mKnFSkQp1F+scZjkU5OZdpz1Kr+YVTVSWHMpdWNhLus+zZpIT+pRJpiBcMoOf4egZKqy9ew4MdxZvpSJe5Ozv2d1855pV3yscAbqbLUU72V1w9y1GoJgLF4f2qf1VIaumcPAgH1aalY8qf+IVhjwgSi0KrZ35MRzhyyrlH34EBT58gsePgEAIGKAISFlBA9rOwCq8LKKLLARlFbyVrUmlc0REsiZS0iFU8cN/jSFlp6nyQSBAPDAl6Yxe5MtzBGyw2YvOqJBqgrfwBJ7gbdfuF7USIJ86/UO3ySRrsSPjK7NlswA436MggGy4+Llf58t3upLftISvDhIxgDZmUeIBV3z4kDcvoyteCJCJ7nj0bQN4+IlPh2q8TeEfQyYPkXkKdROrAEKnB6oTZZ/EnRZEPg0yvMMEVNbHKO8z9D2tkTCh4qY8S9GFqTK/9jHFDVSmX41b5jpSL34LefM0/oQ9hdBwXIFa+/3qG8RCFGQJaULXnK2JSwi/DKM3isXVxuvIC8h8Dn8xjoqbYa5pAZrs7ss1kxUdMgc8llFUxupRFKue7dUKX8Nb+psxrKRTadLj3EWFaI/S/cYpUMikztck06TB0ATuyCN88VDDcarN6kiayp/HZIBU/vjJ4016pAu0nlfoqR9iqNr06pW0vW4rakcM7FE7TLaXIbGb9GA6vsLq1RQouSWlPB5x6hz1woKfg9yeY03/8FvfHOY/O88q8AMZTrPSNq3Oc7qai9VcIOM3dVepjC0EraCXbnPEKmnuAjZ5VkeL9uSb3hz+c9jTjsTj555icRmHPtDbsqK+eeceX336/eFzn3px+KWf/zMU2jSqZLc5dW96paJH9m7D0kklLgBu83uLDo2SvCUsLw27zG1y4vCn8mpo0nfe+JW/EQzjlgDffzCXaGFB3EH0CIJeERjQuQxbxVrgOwuxJf1jr/BGOnpEpnyGx0Dzpj215y1vLVydWrk4jQWHyZOhTSTXQuzhIIw09oB39OchvTp1I/4Zdh/wlZDhAaeI7SAv3GMoljFqWCv7Es7Grb3NHWz520HPc5H98jv5iMse9ksv3rBCpfIc2PPP3n+aauCtSjL6t/C0EUEVBZuMXlFx2YNjodlD6KzRMJynR72NbWnb75t/VIG8VcO89KHdWEGCQ4ANDlnwd5g40waxkcqHdgLsRZtm4aVp02enfRCfRoxbpWjMk0fMl8bxWOFFviO+tIOPadB4zUgINLY5AtVsMVw0VqJzqYPX8uQ2x/PaYxW/p5Ol1COJ68tolcbFD1oBr+VP7FW5wFFhpYfyKkITGXyHF69E9K79Sa+xl0aDIcl7pgEpZBklPcsdZbWsT7kkhui7zZX3eMEr9nLB3/Qvnp6vi2dgoC+lcsSbRI3Xptfya/hapHabwtEfO8Dm9+6/1V2Gp5z6q582G3Y3s1jbs6biRKl57/KYUuAtYZK0vOuhuuuvx/etk5kopoe2EEEKWQI63ryE/41C6K9Besi+K5kt0I0/VlAmARnOCkD6oQsKjTctRRJu2hX54rQz0ue0pw1RPJ3NrleNatoou4KFDV0IdSOpMCsxDuCgAtLw7CE7nOSHJfxqlFuWzjz1pBIGJgstmmz2OJPRi2ExB3eX0ewfXtCNrj69V7rTxnJOtnrhl3D8lEP+djEHlYIA5nzvPMujvGZ1KLztZ5j8nWuc/kRh4WIWTzOyR9pdj6eQcnHlypWcsrbHXjEFzRNnzw5f+/rXho9+5KN81/k0YNuHw8xpeSDKuxw28Tb7zo3nYjaSjz3ZruJteoevk8SR9hLD3RZ4K4SrKxeNnThhpc+iGObMdFcp0F/62kvDmSfODL/6q38FGhxB2pz6yIKRzL2KoXSiDStDT8f3vMucrkUzXr23+xjQvMGpa7fybNcsSSJYWhni5B4sKdBaA7DBFj8W6BtQbHgpmJ624i3cG4B46QWl8DqvNjxSf8THd3jBXhIGXHprCGHllMawjaSthGrxU6hH9JaG2Lp6385BIuRcoJCe8BQpEMk58FSUmEWlg5UXgdKa9QhZ7ZOe9vpD4lIJL9PA3MWBJbupmF/87Bc56e5r4GflNn+StfK/c+see+w51MTGIcO4x7YfH157/dsF03mDCb9g7p7/O3dYTY5Jb6eH6bDLdir8h0yhPGBh5Y49HAq0wKlsykwY9X6VM+SB9Azxj17g2QrJP2qiaCN5g3BiEeZwoMTpcCgsurWxyUN0q78VvTHtmfuVuXkaII44ZH4avTt379SNX/5b9ehVgJU7FXRrpPc07uaolNJN44K0sHK/T0ejRgao0OTIhpj2Lb6kebCKXDYJo/EArzYUeg97tKEAACOdOCP5b0Rdw1We5dWu6ifJAejDh6wzIW0XwGe5ZGXtgrfIExqUL/CQ42ybcIk7YpzQ06saB1MQBueVi0hNTz2CGz1wN6WKoN5lT6M+hZbfTibIxENAc+4qfU8nKQMDXy+xj6R44TU9Q9/yOvw1bA3vo0PfLfyPvQUZWKYYbKpP1PJW4HC3AZ0+YzSVohIwYAtyn62gHH7plXHxzTsZRIOxpZlK2Hfi22JXi6E0RU7awQdMd52v/l42hC/xhDeRrAACp18RH8GFwbPep/DGo/vz0vGYSaygt7eUdBjLyseTwayoPUjC/dKenrVOz9J4yfT2EhsT3tVFDCh+5iv1k4DixSEznqxs/els1VouyEONOPBifADVX0YpMIzoH96Fk7dlCkd5ckjRxSPjEDz0kuljVSGx4SKsc9NPnj2XCt94j7NF63uvvMKnEm8OH3n++cB7atvp02eGDz/zTAqgV773air5dVZ9Zx4ZqGXivsOCsFV6NvbK5ikwz519ghPbXLRmub0YG3FRzcvffZnV5hfY0310+OVf/KXhxPFjpStkUkUetGBh0xSa+JsvtsR1pf9NoU1nE189umu20F9/gHuZS9nce0abJgVQbKAibojS+fa+ldvKN7BbBMTWEKvKNHuhVF6kgdvfrEDSW9oi3jRd7dxjdLW39HIwOu+yZ4XXC3PzU7e/ik9v2t4kjUm3hmHkwLJSGCe/Nsxuslr76rXzvK9SqDP8S0HPMnC+PneQkZrt7AZgJfcMn7WksiUzD4+xcvzdK5eI657fh4zCHMQ+93Hu/m2OR2WlM3t8Xd+g7TEBRflD73qZofB9nG3AMPs6+OXThkacMvCnX1dDL2dqJK94VV5td+xIwL95wgZalXXCVSUtXnGYd13MZWU647QNuhdWvdlR6YugTBOJq5P3t8AKLf4K3nQVpwtJ7U1XBVzlS55LypQTymdcRwXdPjVtX/rHNSXIYx7bexjT8z2cQWIQp3++iTMjOdNxDBfY/y3K+WnQD/oc2o39reJ0fgyTJ/UV+uFDXn9AN0WrbGkSP2ko3vdJyR+wou4J05DyqhA98RTOVkdCo1CE++Ocic3PllQ+3cazhWr2+TIUFmQNR9Fxe44VkIam8kql0V/oT3hz6Ebc3Rnf0K1choExXOWxMZBCpUEHxXTzKv4dE/eQoDIEsXyISydEMmLqAD9Q4ZCOQ8x18IC91wdkZr++lYVaRiCumcUM7k+vyMiD3MdgoBRZWuUtTTNuqCa+FaoFHvTM3ASk5Q/tyuAUfVTIttJrmMm4ZhDnw+ZyyIpbMGwwrVBpewBCVdiekNbowJZymqnSyIKOd8/Wfv3im8Pjjz/B/PGp4RArrw/s3ju8zaEuX/nyl4dnnn02vW7FmtnucaP7+YrVc8Mi8IsejuKKXtOJny1rK2KHxEwPiKdxcp8jSw13lboHsWxDjtMnjw9n2D7yM1/40RTr3S7VoQWwsiRFSkmS39IZj3/wV3DwqO/S7pZxtvI0noYhn9KN3vCqyqrSJ6vbhcI/6WIaJF5hzLP6rdfgsbDsMIV7DPzBH+CtBmRK30EAu+bamCzPyq0I5qWs+H1I5atBvY+zJ+6IzkGOt7VyXKDiiRqaYrXjGrZVN+Wsd5TLsRl1UXtzhaMxzs/1ClZyyjzPTgHxuT3Pg0scDnbB165de6F5OtuGnPP0k5XbZ3ZgR2w/2sZwtjPifBN6nR7o/E7P4OfzjnMcxrNrLgvPtPlhjdEmuPBUsoPMkd89cjRH6M78v8S92ZNfx5Xnl4WqQlUBqMK+L8TGfRMpURJJNbV1S6NujSc83XbMkz0OPzjmzU/+TxzhV9vz4omYiWn3tJZuTS+Suoek1JK4EwSIfSf2KqBQqAX+fL7n3l8VIFItRYdjsur+7r15M0+ePHny5MmTm3VNZZusxxSNIq2TM3on/ubNMvbZbVJVasRRmRYlmhh+K8W56BA4+vFgvTSPylE3f+k7JebXxjumYeqoAYBMjH4W+3KZGFdgwUxv4KRU6T1bnlYFuYos5ZO9ajtGOrF4mK8CAj60Ye/5l0Aln0QscbpkeK6U8fdRS0qCkBh3lUDTSGMsovkmS+HHO9jlMqZppMMm1n4nrDQRsGP04hOHV7zxH7jBUODAZ8VDF854wBR2NcT6d/nPY4VL2iZA2MxRINQDzcEKyL/L4zKdKcvQwXK3BlA6laEBuGwh6ttypMG3wUMfqbLRF6SQy/k98ZNY7/vpd2FoSvIvDgwtJLe17M20PUMqZNXkH3QVzwJ3RyrHNyRyz0DVePTQK+wAPwAl/Ur4AbCD3HR5kE7B0gddbt2z76Es3ubFywDdc+6GwYmPlY8IefenQNko1hKpeSqxY7VZrM9HT/uREQcNdWJ28Aknk0jvCDvx4D+CPnhUMtJSc7F7BQc7KxrfgyaV53G2ZHTClyan3gljBHorRDQbuqzKxqSYU/y7cSulKsxkr0lBokKQiicg0nDjk3PsIvXYocMpF8vn8aeezJ7c7773bsad9+zdGzOcOyU5+zx0UlHodmizAhEtjcMMk3tUKiLA6XHMsFXp8Y8/Zs/zm+lhZ8ISYvh/+p//R7ASz+JH6RcaEldNvJNFfu34vcKV8iPy/3+54hGhV4+orB8qQCkS6NnzUY8BJVU5MUDnFPT9OdN9fe3vfZjf9Z50IFl60US2Hi1Aq0UaMReFZNYvT9U2K2wVpAr8z3Y2Ic632PfInphu3c5ziAli4VkLlu+Jv5y1ZWDk17Lyr0QWITEnOwN6jN3J7KWvphc9d3eEXe3YynZ0sU1i5p6+OcSBa8yRYB291txx5n0sMrdBAq+Z2MzxsQssJTrY3nnrjey+p5JswLv0wN3a9w496DXrtkdQlilUmkAHNsxxeSLz2apAbIQhhn9FC+mhgO0pUr1PmlwmcNUmRkMoB9YYl0ZWL1ZlwauyHbrwaK81z6SxBM0WtRQ4bAB/RAqm/LEguo0YNIqVzoLhCqge3gN0JR1gz8P8cFvyJK6Rl6QjP7rLoCZ2qnoUilqfXsAKx2ooVXZLhlR6wdUAxDMVY1i8ifkADvghtDTl79q1r23fuQ/SLbRTJ4/l5EF5/zc505Hv3b3xwAFkCu/nWSp68yYz+omrercMI1h8Ojjiyc8hGT+lLJm2dPFestKy0S+F1kEyld5a0nn9Tjfj60Kb3ylmBR4JfhI3cHpwvw5p0BgRULoWOSrxCl0oWFwZ85UoPhO4CN2FDWFNkFh+M7IAo0nxlvDeTAQI5WWouAQ10/kM8yHsnCzRL2kwPFSvhkOwKwDkFa/euxIP2OAo80qB0voeKKcK5Bhaj4+NVRITGq4Qw493nzvhK0x7IvHiZxRTmgxipbSBCF3xVznR5Rxn84BfaACS0i9IA9ZPOr1CYR4Kg2IuG7Nq0GyYfTaqd+D7jMdahJnjeZ7U9QkneIlLfTMd4UCHxDM8VxKrCh+c8OsrrPkkI6G3QxBW/GjelMvx48czwUx8b3tACHncinn6Fnt8v/fuu2x0siHmb+lh4558dhmMUABu9aLKwnKTJWVX2NRfs/d6ejs7d++OMrLAphTf+c63srmK81f7MrQXYwMvsSJIeuKFfvKmmPlZodcJSZ4NhkWwMu+NMl1VFYQ3wvNtBaj4xV86PeSqDFd6VqKm0pe5Xw33QFjf8Q9Nuu/9c4X3V1f1yzz+euoVIqFWfOwf+/Qy4Yk6oyLjHIpwgLxOD1K+mad3OcsYrkXtpKux4eXx/+UUOrpIGxNgje7B3Xvayy+91H7+1luN81NCUzgkSvkIDeWwVh1mMGfskR64/LNEgz5ET1QeHGNtL81kVSnW145PbMhxrbNLdxieYdUFYe5pdbvjDGZ61lhkbty4CFxM2RTg6PhQFIbxcZZSDrPkkMlnnuLm4TT377NNKI3hPXiHwmU29kbWanP2AK2VczGGweESEx6v33J5F7SFl6RM/lBOiZyykXelmZaxEa7if3t8WgIIzRVTd3r3VaY9nS3PYk8JhgyAJhPjbs3Lum4UnbVrx9oGduNTmb12Azw4ynNxaXXbs2NH5mB4SI4z5MtZZ4u3Og9uygZg03rOUP/GaOA3bViHgsxQ0qr5NnuPMXC5LHi7l4JWLDo+KM4z7Hpo47oK+EtYGqYmN7RbrKhQVtzFSmJj6QqPDEcC33TSSPsTPDr+FTwK8+j4+va//uvvtlPvXmjHL37SHsEC9uo//0b7/k/faKeOn19G+aEnKWM5q7Rty+oONmOirm7bthX8atezBOnqZ6WaEqvy6WniPYwpnWBG6QLWfb0zXoJaJvnGbyUe8IZd+V7PywFW1k0jrCwLS0X5ojwOT5Af0yjUgGEvugPeo9slOrih5lamkkEg5t5/XomZfsGrQ45vmWTRhyUFEYrzwWDdXeaO1WiAhUSRWJW2FLDnNsyyKKP4rIAuc0wB8jdPwDDDBswEB/2NH2YrYvgthAi0vBCq4uf+cL7yle/UIP/iRIT4g1x1YMxCFYIB9CR8ovDTh/E93vnQfe/jVaFlfFjoVHSdYHrYYZ6Ol8Qp2eWj1EnlTozln1gopIvM0DFEjWcJpMsDyVQjTs8DIXDh/IVMGguDhB6EI4wNcIQNiXbYB6aTXBYdN6fKBDaNrmZyL9MUZy0HCpUJTtRyE5RTp04y9jfP6TlbOepyB1o7JlDy67ItL+N46pZHdXo4iT2mrO0Gaxla55ass5jD5QlngLusxwZe3nCDBifdHdy7r33z69+gD9OXVtdj4HtKNBIk4KpczCjO/PVPn8ESCfe7/fRUK8h93OIZ3/wOVtw6NHiX9g+GN6TuYX/fwwN9MhXst/pNWROyMBB4CYgBz/ffaD1UeBSElvs9lMu7OaaW+Qv3FmlEfnNywrNXtoFe7b/8Z99pTxw61I4z9HGbslTAj2COXoeyOMb8DHFym1ePK73HOlr3ladFblO72a5y49p2Z9U2JiSsa7PM51hi97kh+ECNYobhr+k7F+ELVzGgPDABy9725Mb1rOW3kVufPea1Bo3zzV6SPVrN3qs8EGiU4RSsBvNsRetkxnXgsnEbjSKrMJbYQ2B8ktFqxsBnp1iVsWkNpnAVF5OmBoRu8mcp2B5YM8VpbC53nJ9n8uMdjtlkboWny4mudd3ylp7h287SIxVtDC0QlbZJYHigzDDWA3u46u5rVq+Ngmuvfy31Y+P6Te21F59qu9nOd4hJdqqgqE8KFStNV7Ymhlcw9NEVEVfa5585DOwn21+/8XZ78onH2uv/5fWcJz9JT3eejZUeO3iovX/8GEszp1AMUKJo3B8/eKCdYz/9rWwt/M78Deo3y6iWmCwKcvPwwvUbnAdOndailp4o+elrYc/RlvF3Xn6pPfsI28FOr23PPvX5NstGM9fvXG7PPX0QWQ9+16clB67o4RNZ4Ce/4ZUJ5qm4WQtT82GR1WxpuolhOobLHLIwXi5uvesQELe+HlnNMofHB2BXi0MEwcar0utBPHivbyt/H/z+2W+ps+Lj1SfR3z872uBLp47ZCDwIQ3iV9zyRpw7qSuC9Xw+OzEuQXBReCBJiCKr8KyhAAgcyEd7HTFwySSqB5sqMkQ5yxAfhUEFV28KcRgK1NBJBtL4vYWZSuOhvdJUEY/hft+6Z14EDjvjVv3jKdBibzLoXzqwGTt6qMcsn0wlwP+Df5T/BjDNoJApYzzCis5xeTxtSMI4/uNUcSmBtc7kSkLnT8PitwymBuvSq91xprPw+CBqQKjSL9Dqup4G1Z0Fmo/Ha203PkQg21HgnLRtij+9UcRq+a4VGiPPR8KExSBROlYc62GMNDaync2H6w3TnaV5Wpi0sCSNU4vVxPXQkayjp7eicsFTkNK+au1huw8EJplFiyF4d66qhxSxxrajf/Nf/Q3ZXUhmUP5aFYZV+ACJAOrJ28E1NWiajK/w6fwJHiEpMgi2X/UNBDd458e3TEGwP2s/ij1cEve/17JMuhVOPv8Nv1bWKYAMizKCbbPFmHjp4KaPuLQobAc1fat9KpIUD698frgYxjRIN6zSN5IYxzhSG3mu7tHpe7pIY3OQP056/z97OLJF76YXn25de+FyfesJRxaCPNFYpsJ6qApK2pgzqL93rslwMba+vwDSPouV2tP/Hn/5Nm7y0AyBz7eb0OWZ5b6RhY1w69ZGwygogmoY0iUyBh3XKiCWmeo8yMW5y4/Z2YPfe9vih3e3gvq1tnB7jPRBanKBnD4z5/b/PwVucbQ3/LtKRcPKVOMbywHf/HE9XSTVtFcwcagGezlK33ur65ZYOafncl4fhxU0ecBLZWsz3Vf+qbEYZX18iDzu2bYjCcXDX1rZ+gnkk7NTWljjRjHxIMumdG/BWOuO6kuI6E+fOXmY/c0wb4ygCB7eta8c2rGVv/P3tpScfaX/6Vz9jFjyTWy+MsqpiW9tLj/XS5cuku6ldvTnDRM1N7cmh/Sn/EXrZzkGZu7XU/vqnf8MsdNKkfDxSVGKDSlzNC7EsWnv5mQMQARrSKF8/f6ZNTI63TWun2Ghmru3eualdv3rD0ifu8kWBSxauRfZmYBKp9cs/08JvLUtBPc7WPRykZygg73VOCurkd2laz/lNWyI0gxtXK6p0Kr6pDIDKwEUWkI+Umxlc8W0Q6DMegpuyO2VD/vgzfu7EWQnKsCuyIIaBCjeuCBj8CskKbaDuPYTwlewPIHffAqoQsPL2Y8wxgXaNS1UgA/bCrEczkYvxFdI46WCl7JOuEOBJukXUSrcEVSET4eN341vAenNRRIlTDWbF6+Et3wuGEcTZu711gS1/8VUmKkKmGlEJ1NgVNgPhl0ZOASGYYpXgSSVOTzUMUzQs/wTjG+GhrWYne5Wm5prm1YwVu9OXR1CKTQo9meQVVwzYmc5NlP819EjcwP82QtVep/kQlsrQRpZHOXHN07IcI9ckvYmNHa7TeJuHwKfM0qMlr1topFvblIlbjjVi4xukaRH1LuKId03q9o6nOILTdZ/z8zMIIkzbmKvtxUur2tyAvbsRbuKZRr8DJE36CRvVE0HwqTHjb2/LYQRn/nq/fPVy+3160k8/9ng0/L6RjlBUiHYIBk1++nv3lLKNH08Wl89lVSn+Cy3kJVyFyGMakHp66Jf0DG0edJW8eOQ1/oWTClNfIfuwSb0CfuZv8Y2Np/QwHRWeXthLR5P2XROl320EfJfuOpVne5Zmy+MG9RdrGzTN+5ZjfOBrJC8NAeVBV3KW3u5mejSZ/U08N7F52PX01j/0Ig3L8i69y6LrMn0iI8DFOMEPHLzThiZP1oP78OgS+RuC5xbNK5itopG7jan7yIcfZyMc51Wt37gbxRBFcnieawTTLulyrOWdWXu01KM5TKTsIbAaHtzEWv454OzczW52W6faU4/uaU8f4ohLz1inzjsx8f4ouEDLRfK5xCYcIzQI9sS1BoFdrIPJOzST3tLI0nOIyPIoBY/G3vyIP4H6PCZefrry55tQpYNPKVth6SlUpsjbYIAR7RV84zAE9cFhidGh2rTE8jFt00kZgJdR3audGSdYLBbaleuz7eKVm+3l559p55k/cvNWTQzd5jI24t/hVLI7s7exHDDYgIVCBlES3mAewF1khI3jGMMGd+GD8xcutjWsMd/ByWbWuZK9He4mLb7cw0zeeb83f6fduDPGjnPU+btOLkRZYuB/AkXkDpu4qFDEmW/Sys1HJ/zBC5Mo60VlwZlIDXe6d4Nm+jl4jGh+Sdz+V5/e3zj5jkwUv75O9HxrDUkIA/ksEp0r9Eyg+9h/GNyXAy8/DT6ueOiBi2GkZr7pmzQSGSz6ZLo7Rg++8N8juwJiMrwyfCFbQGSKLip3AfhP0jCmAtielSZWBbRjij38gmdcmJrwxdT64te7+twRSn89uBEsDTjp+Wq6xZh+rnCiorPnKI65rGCUQkRVIVDwDNi/G5/wLg3RWfn8cxILvglfQa2MtcTKgrYBVRiaj9wBqHaWWZ7ixyUEAlBZwYEKUILTVKx+CgdpCnSuzZu2pWESb3ultQyJSupn/wwrfkbHOYbY9+Kd5erErsP7DzIetbq9feT9tnnrjozT2UC7KYm7eJ1mw5GdzMi+QwVU+9/JsZBXOA5yijJTO52ackZspbGBLUFv3LJHzHrWcK44VKW0vegbDUNLMxtQN2m4du2qPoEj5vbItQzY6E4zRm2jYiV7/NHHELQcPYkwNv4s5lH55hImcbckvcFuZpvA/d333wtN7zIOmY0YyOsWTF//zXe+0zbktC7xgr4RZlCVFyCadJzfuqfei2/BUCKGN6StDZiOIgwM/aR1sp4vvvQPdbesUi7LiXSB+lKqcBFOfQIAeSD4w0AfTII3cCUdL/EdlHnnp7+KF6I8/OXYonXRMWXpWmu2BSoMfs2rZmacPO7WnTZUPnvNKvgwMToBaM04DSaTt2zM3aLVvdUnNFurAARCmW6Lr80Xvg9mvQuV1MUg+Pf5H9COaIHIh/Q+XMclsgo0vtF0wt+t/fK997Gy0MCso2bxeYm1z9PMX1jDjnrm+S6WlmE2BZml0aGNamtHx9o1+GYX55C/cPjptn3r9vbs4wfa1nVsrgFMaebyrJ6/h91fn7y5KQiaLpYB8SYcPJEedZ8b0s6ELu7JE2mXLCAAcciF0XPPr1n5DBcZkW/QBji6lHU407dO4aqUKD/UlsAzZdMvV/zalwvfYNzT5y+3C5eu0rAPt3dRcG6yqdDR4yx9pHd9jGWN585fRAlebKfPXsVCdZ+lbNdTj6+xNfC16TWEW2gnzp7lSNmLTATbxY6F69vNqzfbhXOXWHfO0BdxH8AiBWvuCzEn473xFrsFfufrDFvdaRcucNgJGtkiG9GcxKx+4Ty7GrKHOWzaXcUfmrnlwa1bduFf9bDPp5XHzlfOu56eQD6xPTEACg/Staw6PErxJ6ZxglJB6Rtq0dQ9UMfjEe/8JF7gLfutfAqbrvT4Dc+DPHSlFjrxkxx6R0akjq6A0fWoETR6CsGHHlJ/16vHROH2sD8evQBRU/ZyPNJLwS0887giWsIr5EWu17ZJBn9ZtgRmxGeHjwxnw5DK1AEyTZna1zyLmLjo04URps7vEWRdQ1me+a24NL5OcLGRUCuXEDHxpvDFswrZwjdNG0TDVO+EbzCGjZHpGGaO3mwOSOfZxpqgCe+3MFDuNCgIxygVpDOGQHEp0uLiNOO2N4OHjXXWk5J/qCIQsziozDHz4yHddOtpWPfs2RM8DjHhJgoT+dq/f387e+YMB2FMtRufXG2vfvnlduLMqXb2wnkmZmxjrAoTM2k73mb8o8c+ptLeY63pdTTo8xGEVn/z5xUSm6aP3dXTJvMLBpVXhEsA32ecUzrp7Jl5TGfO4sbsLZ88xtKtDz/4oB08eJBe/+1MVnFW/1V2U7p8CaHAs5VRRdDcfucPvtWeOnR4cGzeApqyykDMkkVwfjt6J1V+KIfQ33fw8kf8+3AUiwG6RtpnM2e438WZZsHtYy03amGE3pv7w+8rPj30KJ69Mw/SUBfehja1ioDeC+uAbZilqRvUrEbhUSjJ15oezaONqvFiveHuwShDNM7y/xyt2xh8cIuhEXvma9evadM02EtMRlo/OZylk+EBykL0TVdnvbCh8lrpoERoWOh3dCGek8hCbwJX3gxhWOsQN36QxeXFXVmxMDzWXkfoL9BQDXPZKM8Dx8mIi4v0MKnfKs/2Dt2PXxptnDzUXn3p2fbk/p1tFybkPRsnwyML7EKmcdq6I28L33z5p0yylbUnbR6xd/MjapWLeuni1Evii7sR/Ou8O563/n62q7T5Tno+J9O593H01/mVp/rPe/i5p1nSNwflHMU+dvJUO3P2Qrt5G9MzOWakt7117Cin2Y0wmfQGSVmbhto7Rz42g+3c5RvJhsru4nWXQrZ25hwNPVaH6zeP01BPttNnLhJnMUp5n1blvNKV3zPsAFwnqL3+9tttFWP/rk9/5qnH21Hweeu9j+g83GZTm9bWsRPdGOHcVV1Tt/zqzHCVeY/XVYLYBpQrWvqmPJiaXI8scR08tOF9QHthBV5+E3VQ9/O2EuN4/Ff+AXNRjuOBsqjjWqljYUs8rHO6qhhV0GZ4JWMuE6rCqtH0pPPBWDK4Y4gz9Jo8WUlhYcUtOF1osLEeaEPSP4QdYCiCIiIuAZrEKi1SMLzeZkIQ3rurenf1LZECpoNP4JizubukaCCoEPpORHFCiT3lMk9XD5pAQJB4wAC//IV+ZcqSeWw8+rV9NiAKQ9CJwLPBcpw22/0RP3hCaHE2kO8KOS8nTTku7xhWZkBDIERe0hVXItS/cTu3spGONz+bN29mD+NJlI7R9iJm68vsFnb96rU6FIPe6UZMXebr4rnzacQv0Ag/TmN39ugRGmp2RGJCjrTQ1DQ/vpBG+iqHXJQQduMWezHLNBcb33Xmw2JdQHiW8OBlGd28+L3Ku5ZeHT36UXv0wKH2EfftOzixSOsLeX+LHc02YpL/6mtfbdOY0t045cLFC6G3MB577LH2ja+81jbT+9cJ016By9wKvqFIXLr73Ve/WJY+8luodfzR+VW4vHQ/QhOOrz4tx+7znUpjXQBv4w8a6Q6YMXL9OnDZ4Ld01Jm0FaVABosucs9H8ok8bDnAZdnf2e019XMtuUKsy3QaKnlV688863y1xjjBz721Z1mfvn7TRszbfIee65gqcfUmW1guMF9hw2SbPoc5FH51OEXrSShI3kxXnv9s12dW/jGUP8nJ8jNeRW/8wdlB6SjMwCfn7dKV6XbpJpPSGjts3SNP4I2GS7pa7TAJE+0uCqZWl13bt7Znnzjc9h/Yxxr7LUzGQqEggHs0pD5bZjRSSc9ckLZDdN7tTS9x9eUttnGi/GnuUwpSXKphMI+fFfFTgX2a5wN+QkwepMsK0PKC33p3nt7xe0fPUoc8rpNeKzYEaTBKPmUoeWJpBEsKxcZ5H1TeRZaprc0EUDsaV1gVcofz4jN0ibJi/cc2FrpTiuGfPi0gVC4J53IqO2xrmDTofIMZrHJ/8bc/J/WFdhV4N27cYbvgpbaR3rlGzEkm/61j+9cJlukuYQmxoXaWvh0NxDXlYflDxT5z5Dn5h0ecx7KWyYY3btJTV7nq6eG9C7/iES/xXOmznIP/ek99xgoDeScuD7QT5tzCDeLe+1ySjypyYvTfjdkBCAPKFAonPS10YNk7tFdjAy1cnQ2ohSboAQLESWNJlYs524DCFh8fCZjXztt3teXgCnMVvoTDD+7Le18A/Z2opMl3AeGeevrpKA3H0Cb7Bikzl7OGG24wTa7CuuAKuRA3Rb8XrACVLt2VcOJFcBtvG20tCouLY1mnaQ/bsFEsunDBGto4ozkz3RGY7lDmmvK1IyyjQGC6WcKo48s0QlF4xCc0AhZCynXShhfv1cwKlWFPXTiXCWOO5dq7dILWSXrPNsA3OXzgHssr/v6Xb6YxdtOIn/z0xzGx7969u23ftaudZQzrElt8bty4GRP5LjoWnHbFeLOKwSAPauHmvSOHE2EOHDwYAX7m9GnMZQjZnpcIU+Vnb67KPaZF8u1s8DkqprN+N9I4fPQhp2FxzOD5s2fbiy9+vh37+FiWZazxVC4UjtUIZWn41dd+jwb+QMhuWYQ+NBKDnmtXjsEQPOSJlF3Kr8OaW8obvypWy8+nuvzmk41eKVfiD5/jWRDIi/npouhn+cf1d1/83qXgU+96+MGB79JWyN700/X3ns8SpoNtj9N6ZwNpPHuSmiJdZ6xyKCD5MPChwZz7ZZMXj0+Uy1VKF2jsHI4YZgbxBArrDWbY00dtC5gmVTxUQucR3quWaNzojV++QcyxScAwExxBPgnPDUMQFcwHlXKx/+1dn0+QBbNoJD4ioaEHCkWtGV7djpw50lZv2N/u3TyVIyqHsB4sMvttiXws0AMbptf3zKED7UvPP8rpbbvbZoZVRjHlK2sccxYozY3k4t+/uhc9ah5JlmINFI4qh0RIdvr3Lm/AM65llrLJe32zl16u+9699X5JvMMgAPxQgMrX586ZBkwYNur0tapehFkZyiRHsYnfG6o5Ke98cLJ9+PHZNgQN0lO1WoqxqOUHsAFY5W3v1x7sFPuwC2s1Yc4hT2bhreAGH9mAIwogZdUFPuSb6CbH0NrNXlxO5Qxy480za/zyxUvMFbjV3genncwV2ELZrHKlD7Dcs91riGEsy0qlcQ4e9nkBOVaQ5VvAyRj5B3HzT9Y20UG5jQVIBXJ5KSofdBLIOHmse14e+ikpscJzhfxapvGK7//kxx6njm4dPNtgv5T0Sckzl8eMigU/6S0ZSGZLxvgQDOves0TAD4hFWCp0gFJwul6oGDnMK72kqcBMpxL0kYIolIrwfDbt/rtQK7HEdf9ue8WmZ+GEU3PvM2Xq5YKPj6Rrr+G5555vX//6N2g0b8c8fOTIhwh9D8EAJsywLCisDyTqP/iVP4mIV64uAW4KdfFIDgzPd02O3jORBNh57sYCiWGs+ksGTJuwnTlSOG6arwC1ErjEo9YB84GPKjyhLYztPb0njoWUXNthfJennDx+IhYN6aTZL6Yg4pryOEdR3mLfbMcYv/bNb2Qc++yZ02w8cDImcWHK6C6ZUmGYWDuXiWHS55nnn2OHphNZdpUEAVjlWPlWSDuurFKgQJSEKftCPbiEzsBKGYaW9G6I94tf/TIWmO9/78+zvOv//rf/V/Dx8A5nqG+hwt9iuZfj7nLY85/7XHvli19C2arlPSqHNjZppElX2gFeRT504zHlwC1l5V2KRNAQxh5wOcpTxOPk3eLPFBVKUfDXM/+umy0aKBjs2VVdIp7wCOdfOcoYv14hzecujf57eC6wC758Ex6UTgQStk9O+AoPGJEP8ttqGmonCjohZ0QrVceD3m2U55y1DI/Zg5a3TGYYuELU6DuGoicwey4jwJj0ZCmu8zfYux2LxR1M4a5dHYH+pz65xaxjpTSmZXhlHUvx7jncAK8pP/6pzrz2VEshaiEB51F6gwv00j44ew5+GG23Rna2UWYNX792gTXCLLFinfTnnz/cvvzcY23fdvYDZwKYJ8MtORyi0iKxbBE61w8VKWvcJ1/6lvyr3rS8ESYWoQfcgx49vikTEM/XLoh+vRxKuM4/4AaZ9KG/uoR8JWzPP+ls+ClA+BieWAmsi5cbo+nkE1NpO37+Svvxm28zua46CebHM93NWqCDX1LWvI/TTO5BJ1M0rvKfVcF9+ReRLWfOnS7TcnCreHKQ8iX8r78IIs+cxOY65800+Moo0xqnszHOBjinT55Og5zlmfCedRbuNjJpWm9rIqQ7EmZ5m3wND6x0fT1KknxQvrumexediotY3ZwX5VyCMHqPl/fQLz+hoXg97Cyxcr/+7eGw//T3Pq2UxiDlQlTohYOh6FHzkgLjjs9y1OVng8t0sDPfDaRWqhCDsA/EwBMXIWMhds8yWvnFIwWpELGy1E5Lhqxv9WDalU7eSdveXAFMwODch03sIFl4dvnLZ+HYMLi5hydCqTFqUjWfzg6W0RynK7OdplMbGdOSaWQC2bFc8otfKqD+crJfpaHSF2cY2c6xXplNU6BCzNnQJSQrnLNLM8NUQQSs3mRoz0RwoQDgxYGgCRNhAL4jNAr2jqWwuwodPHyIHui5NPLG7BnbHncJZzFi7I4JNXPMsPxnf/iH7H/MumZsTt/+g2+3N17/L2zHyHpIErvFbl+LbCLhRK6s9SZ9G+Hjxz7OjHF7wMc+OhrTunSVfq5/3szSK5Ug13tKkihg5K0X3qmEobrJUB3MGM6Z4ZJOgXmBXjxNXr6NImgvXbmcMJcwv0kDDzNZx8zjV174fDu855GOTsIr/lI54mXwXrsNFb0FlBRNO0/+2lBV8SWhwY9C28slM36HzlyeBayw98TFy1c/YV3wQjuD9cEMuG58ZsZZ9jSM0M9eqD0CLSmW7RxrhTXKywviIeuYfupVh2KEHun6faD8GrYYIvdRytsdmjbCz26763DJJObBmembbCRzs+3WAkIaKkwO8YwR/tDhg/G7yeSgCVYRyJs2TDnnGHOwPc7V3EfAcxvDD/LwDXeDG2LdNEL81l1mA9NQOqnKTTmucJ74FLOhb06zAQYz+Xft3N7NR6FHL/5m4Hd05tFyTF67+FHalTHkx1ngx2+xg9gYm55Mn6b8x9vMvb05ivIL2yeYzfwkY9Gs8aWFGqaxkMecWAhEMLGUy/W0zBu4Qt2kKe0tEWlX9UcYIPIpeUlxdWVSUJd/rZODT59KiErTdD/NyZFl1VTC/hYujFSwTM7OzByK8tXrV9v3/van7TSTyGwsDaEsi0JCeWvhLJkjjVSenTg4yjrubYQxMBfhzb4rOHYu7Wa2+PnIUvOnfymPPOCqwaVB5cNWZMFmzhJXWYCY9R15OgZu+3Zvj1Id+ecXwgjHcqkLP9M1M5Sj8Hxc6QZlSBlbkVJjSGeC4b49u/cQ3nZpuB0/+hHAVRQAIPwAqV+j6p904p/XPHUhKt1BvD7Qb38PP5tqAfztIobmhW8EY6Jr+u5cisTvvC/TpcsInrBPCGlwvw/S7gKHDAPP7nsPLHCXP1YFqIhFdCpSCF6VVQSDj4l1zkYnZu4BzKrUiQ8xdVXQD8a14o3TkMikly9/wozHm9kf2gakz7NmZzob3dh1MZv5yfhXGM20u4oTQppa0SZMxE9plYW/2qITwFQE9rLeUDP7+++9m+3y6JRQcawoULQTDoElUwajUhB6KgvfLyo1CsFymjHvYrqeAv7+9gGzYP2msiHsOoS+8NNs5DiikzImt062p556ou3dsyfCmLrTNtFj+v1vfLMdP3GiHTt6tF1cYLY1gtyZ2KGnaYKAY35XutOxnqNH+9GRo1Qwhy00c3HIiC0aTiGnoHemtlt8Glf8wxEd7cy7OEozn1PfKMMa73S/Y/ZA1wpB0tXQ+0BPgYbkGfYFf/lLX055BSyBLGOv9KjxjMWlSzJhRKAn3cCj8HIeAN1LZq4OqgIhivus7rOYi+cwq7719oftxCkm1dngko8zZ08zjruJHuUkz2foiaxlhv22dvSjI+EbabAeYeWs/RmOF7ThsPGUTk5yUigW/9mTlf9RGFW+JDfwVYJ0qewr+Nv4a+nlzICHE+3cjWtmBnO1S/Ggwbsfna148gPftaoMv/ELyn8qO3KpGImb80is0/bI7XV7jbPZh7xq+W9in+5H9u5rju9mzgPpOqSzdWqIZTbz7e2zt9vhbbva5XNH2g2sQHv27s7YZhG6SjyI/BN/LEvLaO7+rfbODMSZ2tPu3V5oZ5ml/ScvP94OMTnMnLAyix20GG6jrGKRswGLKWQZgcgK8oz+FX6SwtbBashspOm9QS8Z1rDynmB6JwuFjfArDvFLJF/8ExR44qy8ka9XRO/B5C6clbvdFeAHggxeehxUNwBLG0oadnLUXklBq8j9IXmHjgcbwKi0/Ye/eL394oPjJEIjDT7isWXrFuYgzMJ7nCpGL/ljGjLlSMaSGed1pz8n1KaB7FMnorRwCaewzp85A/+U7B0EMa/wlFahrdQB90uAdLjiYZ8ya55wa5GN1u/r19hpDVrlD/imkfLh3rv4kbtPd4QzKPj1ZaHkH7UumedYT0Kx5egD0KZKMMvX9Ey7C9W3TdI5KoB5y4sU/G1d8Y6hy0rw28dNWklGeiynF+m0LAxgMAqhd/r75m/iyOH8+5wM6k/h9DFAj+flN+H4tuynz0pnfL5LiM7FJIVfTcwphheu2l8qEakvZ8DIFTF+PCctvcmHvdNt7PTzBbYxtFf4EUK0xjAUUTjCG0/BdY81lzbMw2zu4Af9hulFeJKOsw/Vco0j/L7ixGwGboHlt65QZXxxdeccBaP7UmvGccxa5oU/k3Dgrci7aSYFK2A+ynrSiLRlKiIGNuG2bt+ZXuw777ydHcaIiDUAnAnrjk9OhLHntZtGWXxPnzrRDhzgoAzeHavSPG3SCup1NDKff+HFdvDgQSZsXcy6xFnMidLG7wZMw8G7B89/fOxYe5TJXB8dOZLGR79bKEBVsaQT1ZIGe5GxZ5/jOqL5rgDrFZXM5OY9aUE3hasNYQKZbyqcXOXOUJOMU3/ucy/Qg9taUAl3j52l7iGcTK8UlErONLR+Sc/lApOf6nusOT4rLIAjazvRRivITWaQHj37STtz8Xw7z2xz17Jeuz3bPvj4KJYG5gGgra/nMJH77Mx04Kn9obmVfhuHggwtOp7mxDonODHDFrO9PX1nuO+gt/rmeyfbdz9/oN2YG24nT5zAXLe93WRJ3Fom7x0/eRyLBBN3opTZE6ihkeSBN+um5eqWjry0MWbKusvWXfC4x2QbBfYSypMNto3PKlYRLLL15iwN2OK0s2IZ7yMvMcOTbwX+goRCJ4J50vgPz1DPGseKnjjffvYP75IfzN70wDZv2cgcj2fY8vUJelgcI8kMs7eOnWrP7j3Yrt263H51/GQ7tBue5Hxwe+2FjdwO9qaRYpDgXr/uehmQu8zQOXtbuis3htov/vrv274nn2//6psvtMNbJlGGgQ89NONr9h+Cf2L1I4nqVclXlK88jBOnekitSmNSiiANHfS8r3KYxk9eEGfgVoywkJiLTmQfLz2/6xm/Lh0BW5eX87RC3giju3yo3jN1Ahq5zapOmwt6U+6BG195AbjmjT9haPXLG3gi7ViixGZGt2bb//7//IjVGixr3LiOJVQXIBIKPDiO0RvZumt34Qq9tmcbTpavMa9Fq2LNlUFRCe7ABq7VVlO2sm7D+inGrp/AenchBwlJM5UF5dkkY8tb4X+PyM2yP+pj8JRoOEnjGvA1bIuqef0eCkLNaQA2+fKbO5Qpt4vq5o1IKh/IgJ6WAZYfAXfAeSrxIkfbqeILFbpPX9yt45ZT71y1o8Jg+fdDin4zncyzor3Jahs9i9gDHHwteCvSRyaU4ytom1/ldVhqOVgX5tNuBBJF/lK61hkB4czH4FAOPaIFSqgANlYwXL4TRq98778ZsXMriSnw+udJBoOpZDp7YCIT4WgJ89wFfSC5VAJya69As7en5xStL+Y78AAAQABJREFUxY84/Bs94bjHo8PDm+l4jOKhQ4fDEPpZKB4tqWbpUiXjVl78ar5Kq7Zi24BoVowZrAuUm7RJeoky+DGu8GRCP8sIjpUIS9ORY633gKnpPT3pAKvoPd28F91SAKFLHVYC/WBk6eaSKSd4raYxfv/dd6uRNh9UGhWBXbt3sYsQuzkB6yLnPR9huZMzeV/7va+0Zzlm0jXMCqTQDeaKQAdH01Zrdh2za6mdCCLeH2PKlm5aJcaZYPIJVgnDHkMbdxmXs8btNVqGMrjfbNTvXmIPcfPqH/gVTahw4S8C4xE6AzuRzTlxpY/jzYa38uXi2UrzCNaJ137vtZS7FLJX6PIclSJ5N0D5/W2cghy0OIQEHGnkGvtCv3fyTPvJG++0j06cpHfI6U8s+xin96HIOLhnRyYpnWQM7DJ7FTvR7xrL3B5/co4JM2sJQSgUhv17d+SoT81wQzZYSYfeLZN77jMz+Vuf297+3V++2f74u7/fvvTc4fbxx8cY811LOM5aRkm4S3iPeLRc0jBTrhlikIbQas+e3dBwMdtVWo6z9pBVyhiq0IJTezTb6DhRjCNKlRTAWODcZhsP60ysU2k8KSvoJt0tA+9OLtNZ5pPs9jXv+cVEuolp/yd/++P2Yy6HPz7HRL9Dhw+3TxCum9bvaIfWj7crM2wHe+2TNsSJaSqUKXd7tRKaEjWVOASvqfSiLX6kvYxLFyVcgIWF8XIWjbX/7Q+/zB7v65ElbKJCupnJbmSYJH/gGT6I1Fa9w+Fn6uZNNKKgYZMtnhQL0oUnM8YPH/XlZWD/AoN4kZu8BHRXpgROXZamhnPXNJ1hnHhXiiIeAYJ/vtZP4PGhlH0jhYMGISqsEa33uEHDV++ONdtIukxtHv6duzvTfvqzd9q//fc/YGJmHQaSBgjkhpktpnxwo6MRlti55Ef+GtWMiJNP3HlNGskjyjzpoEvalKGpAgUeW2hbaODdj+Ee9FKhUEZbb6fYf198rzCE1eem6rsw2egIGeIkRxtlr5tY3EiSiW5wAulZ14pn8IP+aUThQ59XuuLX8km5CyOvD4bTq6iFfz51oaIIS4OCXUMdhA2PVLqJK3K/szNOhweP4uevfj38zwTZhx/kt+IZvtbTAHc587yE0zo/Xwno9z6MRI+pMVTuku0T6WDL5HG8U0wpNxlH10+OsILI5AbtQvuVdIiNh+OrmkMjtEgrvWrS1pWm3UXsMlZEIR6C4FH2st29e3eEfiLw0xe4+wxvQJjYeJafcAqD5BMmshetnzhk44MOSBcsBZCeDx7G0WypcNKU5LIC1z9vYCnUFD0lzc7X2UbThvM6G9tbaax4RAypzb24V2NT+eMVV0LEBlhFx/yn1wbRTp04QcNMzzkwNJ8OZ2OTLZu38ryKU4LebjOMGTvB7JUXv5AlUDM33U+XWeRUCBtkJmZSiUurTGrgpbnTMaajHx5tN69cY8xzd3ZGs+FWwXPm5n0Y3ErvDkdupDKH8pAZxxIHfFIOeXSduVaEalST744/Ivl4Dk9FlqvAjCRPzio1736L4KAST6HNv/TSF9q2zWwnGogVN2GEA9n6suk+dzcRsWwJxA3UE1YY8t9tlEjXC//kh3/d3nofU2Bz5vyGdnDHxtrhjbjHLpxtH6KYeFznXZSDm9Pz5B+LA/tFX2Jy1ZUrF4nDRL0Z1/HSI+Vwh3mOXrR8dPKYh0LM0gO8fv1m++oXn0cvWGhv/upDeGR9uz4929ahFNEFZqyYfaYxQ7otpY2HSlBmPAsIelxhW0c3efB0KmmTPFHeKnCa1k1LXjS70sZ3x3eNq4CWZ/0Y4QQ90ikTduf6ISaVgliBUDbc5tWeyjBpWu9U5H74vf+EMrOufY31yaPPPtsuX7jTNq7b01ZN3mnn2XJyiMWxNvAqFQ7LaJmpem+dZ793TexRgihnFS3KovAVEcur8FeYjkLPDWs38p35HhyiscQkgbtFWrCquoPoJ1eWqnCMbeZ4A27vbGogFXGIhVJjHZdmaZSMhNwztIoRIiDuPhYIuxZFKPMAJXj1UjZIUxUOjA5AJRL/S5SbS96osQWEOPkjjYBFPgkSInVXolVYvQFuKeW7LSHv0lGZC6GoTFhQmOB3FzxnqMfHUTC//1evtxs00PeoO+45Li3LWmXKhbfyKTIYkO4lrsxwKEUeSd0kSWWdPGcnRSfG4mwY1W7nKLjWW+eYMxGhF+sEUAyvX2WjGcpLi4rhheFmKVq6nAiq3M0cBspkAl6y9z2LnDRO4UYPNNm1hMg2+S4ZaxmoPIR6gR0EVv503+IVprZUdEJKDlbE451/yW99VVGxLtVQHEqHinIKKAAGPwT/R10wBJZWwTwHr+WYfZ38VEAEs7QSjwDJry/4j0SD7JAaAOFjH9gHkzQjFqb+hsvFm4D1TPjB3RjxSSqiaYVJr1rir0ivD0WQuIKD5k/hyWjRegjfmymi+QJLRvCS8fq0xMnwBw8dTK9TnH3Xf6VztrfrjWVI11SCEikIpWD2+SMiH5zJXaYXt+NMKNKtpUqVtkLNXp24ESC91l0oCTsxBSmUZumV7GUMT9OyS8NssAUtTew99pcN8YpiCspuYLJr954sV7J3bbouXVJgaDqq2ZMM3RHOPF1nwtAtzF4m4OSr/QcOtAP796fsVAHs9boNYBCgoltRa3lP4WODO0YD89zzz7dTzLr++MSJDB+Yh9NnTkdx6sfCXealwH/pS19IniyvW2zUcoudj/qKL2UV/lWW0pHKEdFHVYButhtlYdAEty550mSvrkhUyQksTMyPHmpfe+0rg0kVoV8+Ft4h1qf8BM4K/0H5ISzPo9H/+Oe/zO5M4431mqNTbMhA/ilnG8obbLqi4LgJn9xgMuA1etHbp7aRB0qJnZSG6J288/6HNIyj7SI7NQUdfixXiqd4lzxarjr50XHgx1nb/PdvX2eW/FVM61cjGBbOXsrSMxtZt720YRCeAsx4ugHPA1OaWnZjlKEnSCkMo7SheBgvvE8YJ0Yar5QkBL1EHTj5vX/hQW1HR5lESFpSCGVPqkqDa56sb4TzpCsPjzh++Vr7+Ic/as8982KbwjJwgfXWS5xZ7QRDhzduz063OZYEei71mrUoH/O3GWoZb7spY5uyyAXyIGPIB1WuHR6gIu4LDCfcZStarPhRwhc5HevuPZYP4ZyNngaJe8YvpH/yOMgY71IEB6x5E0DZAqE0eI5Lq0AYWmXhFmV8CUvJXeYmSM/7NqrCllBc1ueiTVDGy9nwnJlOuY2pEOHc41tlcx4LihsizTOfQBxVTuxJxpQbeIYuPEf5rmJTZl4aDYY0tMrdZ9c1/rO/gI2a+wzcQbG7cv0GG5mcbqcvXmbTIOUJpmmWU6pEb2GYQt7Q3SDcXZRG+WgEzTxZoUydJW2POqsNOgqVTAeHKoSUhdQ037kLMKSUj3igmPwE1NDA+Q0eymOZGVl6OvyjfBMf+aEilWLjPt2eAeDs/MgIyx8+tuFWbntIU2gt+fHvsXhQnve+3r108BV12PJTtv8mJyzrSsE0Q86vrnrhPXXvs2CkA1DQVzwO6CYZdZLjH3emaUDqbNKF9wSAl74jwtKjEPWFq3MD+PhZOW0celoEqJqV37pIZLmPyn0Q+8FnwhdCVkpj9AkaPsAMwLOFKvKFuMww1BFRwafgSSNuSRgNWL7vf2R/xgKTOnAG+QLawBHWxqA/5jH+VtZE8t6lDVxNzhEAfFuFYDJdG8vVVjq0T5nQaH06wQla7d2zW9+E3cD6YP29nqX34czKi2fPJef2wN1Ld5axSYXGwAFDuG4+cZ0Z2Y51awU4yek2bvvpGKjKy12+e5qU+Tl29Fi0bs9v1iz65FNPc/qNM37nOQnQ5pEdnGiIor2Cywj51IRrfvsGIY0ndVxT1uPsFObY6es/eyNrFA8ePJTlD+KsM8/SzN2s9u7b106eOpWK5zivlc9y9ooiQDn555CELuVqGZtJw0HmmNCYyCTdfA/z891Tc7766ittmxPc8pVySQ+jxtnx6hyREqL4sp77X/H1QmuHb08zW/lPf/jDdoOx+C0MFQwxpXmY4//QFDAncugBJnFWx1HG820zE7HW0rhu2LK9XaRhvX2HGfzQXzdKw6slIDt8WaLwx1C6Y+ShE0COWiffCCobpreY5BNlR6HGN4WyM/AV1GbanlMEhNkxhPTJHaGI8NbCVGXmOJv0ZPtL/mwMDGtcaRlrEJ99txxqr2pCCpJY4VmVAustt6xi8M6Ll45oSdPOnIH0tTGxgFz6ZMPlmvnX3/gb5i5saa+88goTivbTIEI/Aq9ajYVgZGtbYOb49p309OaYKU4T7ZIyy1gLj2mYoikHkf6XV/d3X0BIW25x1osF8mYvCA/3AoeYGZ+Wdwu/LqwRKPS+bt73jOf0SqUvuAsXJOaox59cv9VOnb3MRNP32gcfHsnqhezHTq+4+BZQgJWm4/Co6bhPwShlpjXEg2u2bt4I/AXGiWeIP08Pd7Zt1iJ1+mxbs35dxoKRWm01m3xgNAYWSjLwLNM1axgaIa3JNRvZlfBaW8thJutpyMZXM37LHIRLKPen2GHMrX4dUosMjBKB8jvEpjb0bt3NUBoqFyxzN1syv/KLdMg8E0OQD482tZfqBkGWg7t6SSf/FuAJ60jvQs0QtvjCsgivAMi71h2H/GxUgQwcS4ayB4T7Hth7D2Tgr2FehWFMVJBjKG0OYURuEr7nO5/ES/h+S/uDn/lI68vNx6RlwLQXQrbRJX3hQ4MCIk7CIr4XztRjxQmq5lUYKpnKFPAlQs1MN5FlrIxbruD0bz2PLb+v+C7jrHjtw/z6nTyHhgYWH29iigxVcJTnMqSHE02E7gdQYe7ASabNUCGi8BjENX+EXYbqe5e4sKRcXBeiDygo4Fo4Nh7Vc+3SlKjCRdOyGTO9vEtU/nbu3JmetPGCB3B6sF1ig5tp2Fv1BCnH9ZYL2iDithxTBg+5qAzC1hzvmGkJQBWIihGiwiSbMD+7fMYGUk0y4/Kgap4Mc+DAgbZ9y1bWJp5jXK9mRi/Tw/R1po9pFtxc9uRRke57LWqlndJQEMRlUY4lH6eR1kIgTrLd4cOPts89/znMt8x4B/9MkABnKdL/SSMrvPHGMFcJUG1aIZ+E4I2DBw/QaM23n//855i9L2AW38o49WXisKyKv5mZW2z7+V52ELrN+Le9fPFLxaKyS6+VLpXFlCCaVC42LLrasGmZMG7qHl+NvwXz+ldefCn5MrzfY4UA92rUKP/A+3UN2jR01UtAIAHlA3oif/6X/5mzhqeZHDPVhmmQ7TnaSx4ZW4uJ+n57+70job0N6uSUB4ggTFF2LnxyJb0WJy7pmOSRBlmhZ4kt0QX3uSw99KYpj+RRJuHf8eQoLomtaIDXeU7dsf5w9bQxvI3rKpZJ6Wxc7jvBsRPQ9s6kt5Vbxc2JN0soFsKyt7SWvN1hYpzlN0Sj6lJIeTF050d4SZwGKy712LoFRqRhrYKiIGF9JF3T94+82GB5EMYnnA+ucNvIDPf3GC45d/FW+/YffoNJco8Qj3kNE5jloe1mlk6tW82xkWxjOa5pVuEMDe0BeiSmvCjvhiNEUHp1biBT+veEI4jvZGGJCZ+G968akS5ghQi/xIe8Y/sKHXzXPH2RTXSOHD/TfvarD9r7H50ohZhhFifnxRJSjAjdwM/40NCzrmMJAA9xWOQAkIl10lK54P4HSzSazGGgob54/QhzD8ba/Aiz8ymLCfYoX82wwDzlMcoe6hiec6CM80jmWPY2soZDL7DOjHLW9AQ7sD2ybQuzuO+0i59MY9WZQ9GGh1Ekh4CpkmS9dgKpPGMxSsNLFy7n3Zn8NkYqD8pRadQ7z5SO3IbWloONZa8gktXwYR/WMklUPqSzFh6yAWVqB/JFS4HpG87/5VR48p1vtj/ykxuh2Ou+x6x9e/gTNNQzWK76OMpI6455E2RdffrQvSuPABa43EoglxqOoPhYRrMohSqRhjEvidInoEfnpJV57vlLWlmHsitdx2N92NxFpncr4MTr4fcVQfso/T3pdbAeDEb6wJFOy85nZHJlWO/62CO9HLCeUhChmiFXABJ2QBfAUNbECFuhiomMWkpBhQ8UA3AlZAIbqN4rKT8mADcFGoIMYhq+GKPDjXfHSvfs2Yv2VuMzyYfEM77JdPeKUb8uQ9mAgLGXWb3ZSr++Ehe3Mp69a2c0WmnVhIWtKEtI0zI8f488sj8MYFyZISaYhBIfKhoNjA3vWhSFtz94n03xz4dZQh/RrWDIyhp7NG/6qSFm/DFZcmLcmjSQzr622XBszErw6KOPts9//sWsr7WRtvGzF25lSSWAjqVcFc6OJcnsavbsgAMg/MOoxCXewQP7mTC1rr35xuss0bqacdU5drDyyEvX4DqT3oy53Z/HT/b5tsFIxbNGB+cqt6KpPUdoB93SQSOss06jBSezZplJUwi/LzzzXHYxkol7+vW9hcSpbCBwQiaCGC4JBi8/m46NzdHjp9u//7Pvt4vXbjFuhomWXUuwTCLwaPRtULB23MbKMDvLGm4bPEy4GzZySD0w3j12DLKQB8rFnoguFgjEbdUb8qAQQzLcJ0zEMJPE1My1OkgLD48oZ94V8sCjIZS7bUZsOTX/yVX2JmwKViOUDbvEsEQpFPSooYsm91Ea5lV0/Zc82QynEhCakld3D6MpBxd6bRlrpSGHxkACtldHIwuABKS3dFuKoFRp8Du8YlooKloX5tkfW2dv03xevXYDf/ZknmKFg3gwd+H7P/hR+9a3/6AdPngIvDSdL7B9J/y3eJt6Q05pGJIyaXqXtsElOPQ+8TWpf9wZ1Li5hIdHD8bYkdTey9v17SfOXGpHTpxr7330cTv68fGMu8uIKoaxSBncsqEULWNXgKwCviZadwBMowav64ags2PVd9im09SH2RluZA1HMzJx9faV621iy3qOhLzddh08THmrnLCWnXkIjmNKu7tzd6jLDBWsdvz/RkzXzn+4zlr9izfYsW+SchymXjkJzsXJxFM5Sh6DgJmFrrCPDfKYe7tTfz1ru/jSQKGKlMFvkUl5KAwo1Jq+V1O2TkRU6UtbFULJiwkcGNbla/TmbdDlEV5Rwjh7nqtC4p8iAxdZDBf2MWwebFDLQjjb3D/cdxttLUldxyoZKmhSvsrNelAwqj/Id8s5ZVqdCvcF0Ixey3BZmcJySIcATTZJi4xxuHQ9r/G5nn2oT7n3cXqvxPFnhVv5bYX3pz5Keet4lUAFCfqkK5yiT1DswhQBe39j2Nrkv6Lz+xAGA0Ad9iaQIMl0JZ3fjggFx5yXs3DU+G0gEPsdIhLeZKsAvPuvC+zBs5q2AqUrPCL5vc9wT3gn1zzCXtDuT22j2EUfFEwAf+rP/Yztuj2my4tsm/q4Imjvx1mzvaYZ7BHQVlwbak1KMWF2gkcSrGOZgmawHjeT9dlv4h3cqQ021pren3jicU6tOY0GznmsaoGEM78eb5mGGUZ2p6D0lqGF4zzSwB6UO/G49CvKg404QvrZ555tr77yKhVxMkt93GjFiUaWQU/vZNKCHNCzlAcbkixP45sNjg38EIqPtXcdguXll1+m93wkO5C5VtJ16VJMms9Ms/wIE7HKz13W9I4gUMbRclWCVg1zTKAFnvHTooWZkCbSsK+o0W5tAPmQXgI4r0MZ+Sr5MXrSAietGdnNTdkADMtNPgPl9EDNX3GKcXzGg7xdoxH5jz/4K9ZDX2CzEiY7ISjuTLFsibsN/9wdJ8XcZ9bsXcaOHWu/xTj/zXbxJrP3+XPlgWPWIlMmOdMHVxoylY4snxEHEBIfT56yLN1EZ4x900cQ5tPQKb1akQ1uWg1sCBw/tFEs5SZczOQpFT1hkM24cRpnJwxJN3sjt1lWeP2WG9lg1qWcDF/ZJb/4W9lXMYzhEMc9wthr0ESptUfFULiZOGl50xCnDPAN/uAlT2nidahnnrJ0vbb4rmUFwGp6RLdoWLT6TNPrcxnazZu32UeevZ2nb7d/9d//cTuw/3CbYNbxJAA9fMGzjB3flp4pvD5j4gGuqTehb+XXX8s4mfL2GS7HJAIyCqhhiCTPR7Gnl8QLkwA5ahWLyAcfnsRi8kE7y/iu+4JDpNSnUhSrfmsVknalCEJX6FU8S9NNXeATh58QlqR8zg9KiPi7qZDL9OawOo3Ta95MIzJHHR5BkV3CCuG2wLfpcc/T+ybTKfP7yINFtmm9w3jBcy/sb9fhwR0MtSzdm2V4C2UvCpOmd8bsHSFDJKpUiKeKtjRySEJFTCW6ZE7Jm8hPkMwfuJqnrVs3ts3M6h9CwdPa4nwWeaMUe3hhUC42jNZxjrC9dT2KBdyRTXMm1miFMw8VONYMiRSC8IlnH70KHzBAtigvEoO7CuDAmhdqGs9IRvfHS2dcnq033BRfAraBVo5m4iLfbPwdIuxxKkVamUMEL2HEAQ/+kBOtMnwMfJXIjJerkJtcBa5f43+W6+E+HKaLMrAE+B64pGf+fMbP6Mvp/Xo61VAncRDjHtp0ifXBO7Ly3RAPO0N5+bUTjz2yXWNQeShoXSoJH0h6W4nzUt71TKpQMJoj+kQaegULfiE6gSw4mdW10k6kiqAjbb/LDF0J9JAfvBdSNLhUJOLeZbKUa4fNio2zjYHC2x5i8FCQcflcwtRxwhp/dUyoN2cefuzRUFyadUlUpsxnrsJPHJ1osZnx68997nkavwtUILVklZoKq3lwatNUGnXHpZy04nfNvrt27WwXmXU9B97CUpV5lLRfe+01Gje0dXoNUSIU/tJKCvMgaOGLihziXT/N+dIsZjJMSH7DI8s2bHgV1jLW008/lbGzy1euQK+7NBQezsCMdwSSa4CdRLQ0ySHvKDJj9LYXPzlLQ0ietMsBMukWNqkkVhW1ebd5tJFJoyE+VYXa0195te1g3XQiEtn13wuM2UWghD+kp3wnfHnDbJYfYPDVg0/g8Lev/4LtSt8lj2j2CMsIMPI67o5i9D5mMIVfogd0j6U1NzEzzpJvTdHTTNcWT4V9KrflwLvKmkrS2jVDWbK0FT7SBCev3uFQ5NNnz9BoXcP0rDhjboD8S691gaMnncEssiP0uBUMzglI+aS8qjd7n8Zh0bD2sMmD5emMXtebyuurOd/3Fmcz32THrmGsA/b+pxmKKAsJPdmFOlxjG8c7jqJATRBGxekiS+csP/cqiCCjIZNO6kizDLMMg5uToNw8YpGJZC4BcybsPD1my8rlaGtprFzZcOEcPEi9ufbJtezr7ARDe4kXyfsahhH+zb/5X9oU8hzjaMb9s7ezBWNBpWC8+1rllBd+SijnS++l74rnepSjwTy/+lQ8wuXfhnaxnWf1wi/ffpeJfx+1EY7CfOdtTobDOiHd5RsVDGeSh4eEBiqeky5KWlrigi9gsUxYfsqdNWyfqgIN9pQqZclcihF2eNtiTxrFaMx90ymrtWum2moalGF2tlNxdpWECvEYM/zlQfNgfV1CiRlFIbrOiVIOLbmCg1rMMAEKl+zHXyluPMkn/C1bGMVCJYwOEfnxTX5SLjh8Yng+ckdmdnG1kKyikV4N78VCCAsu0XO3LDzf2c5E0RZrCuD4z9VvigNiRW+LJQ0H94RI0jyT7kNFFjIKqPuggqr8kGcsyd4FXGhjDlRWQa531HPL2dU1U3RIUnfs5BifBJRjdlRMS3kNYL5YusvIpB53OAT9wK4Q4SE9+d7HCH/2+AXN/ksh1b8t56D8K12eydDDYXqcggYfByFMt7JSQPhV4piLZCbP3U8IKuRAryTqUSAmUd8CMHEKiGEUij3RzWAxDl8IIoH86xOsWD3KNiJ8FXMufSO8KQQ1EhtKrx6OTOk4s2PTEbriYVzSNIXgqN+nOTNoWJwL/jdxEMTZM2czaSo9NhtNXBWQsPgz38bL3UYF4cP4mMJLXLxOHD+ecRh36Clzuv4mRX6MqrDmIXmRiUhmO2GfeeaZ9rOfvYmwreVSMq69apdXVS8HGOBjL1czqn6fsFOY7zYMe1hj/Owzz4YxPblsjB63+KhxuwTFHASCeRYX0o4PuAzRACiY7XnbM3bsaJLxTdMZTNpCioM18VqWbE2yntVxynfffz/Kjkstrl11/fWO9DRMY4Gx1fG9T7c7N660e5xPjYGNsbUSMGUK0jyHOVWTG3QR15HOzDtEvmwovvXNb4J3OXnBRkgB4jhSP/5rQ61E6gyqBK5y7ctLIXXi5Ln2479jT3GWDimosDMypIj2DO3snQ5hrlw1Qo+ZhsyNIzyXnCURCF7Hp928RH5A8CGgV9OTGB1ZTw9xkXkAB9sLLzxGD2ULY9lrKTP4F/hzTEy7ceWT9t47J9t/+v5P2jTvcEt4R8EiL9jID7Gj1BqEuISNMmTjIZ/w4xaomuOLmxHS5HAJgVVqmQ17hbWczTJFQ/oc00peJmlMX3rpMFs2bm7rxykrJr2Ncdkg3GBXqF9+cLT99PV32gzLBVePaCplBQJKwwhLphzstOEHFXBUWQZzzdqEMW/yzQyNN614Gps5lAU9VSblCc3qNuJvvfte+wd6rt9++Wk+0+vjT3ob/7Oc+U79TxlKiCrLvkwfjmdjKx0yBh9lqgS6Qz3y8kcfHWWTmWMsj5ymfl9qBw4eprEebdNMCBzCPCKtbc7Si0qaLl2CTvZSSaxkl2EoC2AOM/1WXogyBC0sM+tJ6Eee51Hu5B/Pa57D2rHIt7O3r7CJP71czTHQx41oHE6IgkkimdmMfFM52MBGMqML7HUwsY4VFDeYVDYBTcfAycuhDMNb7vAH9UGcUv74p07jb5je1TN+1nfqlPEsrAtMTmPFO/WcE/OwzKS+8j2KA/Ap6lhunGle1iI31VnMKpNsQZvNr4RV8jpP9PYdepMewpO4KjKDYcUeqcG9ytrJaBkSUCFNeVMilikwcpGGnQvT8rNZMA13TxyjbiZP+FWQlCYvpZQkuzb0/hWQwm2AQ6XRvxbvFSzj+B+e7J4lrm2R38zzwJHQg5QffKkHv5sf3xKxiy2dcH4ppU34otgrXPncNdT1vCJhIy0nK6guiSSUJJIAT13i+d6nTfjlMDyDpN+XG2nhLbv6LoKE6S6/xhQTU6jaUsVIQ+1HElCA2iBmNxzDdbgIr0PFkIGZh+7HNFZ+L5PdTbTdmVTCUg4IQThdwetidPgVjO67FYY0jXeSJU2O5TgL+umnnqZeFsMVIJWMFTn3UdoA8wV2BrvMntYeiFFLHJztrMaNyVWtnXDVy59vB/fuZavKj5JvJ3dpht62eUso5IzsKUxsNgYxMVHjUpGJrwve4Jl752f+7tIzttHMek3Haxc5kxbGdljBcWtlDNGShsLayXIuDUOKtA8YZ3eva8m1wJpKN+64xzKcBXp0dMfaBLOAt09ubjNXz7P7FWO0pCduXuZJoB6wIc7WJYzBzOxdaI8e3NsOPLI3eBvHCp9ZwAgULR2qGgRPuvKrzG1eVGLiTIOuwKrVw+3dIycQ1BfI0wTrP+kxgGwJA8399GiZmTo3P0FjRS/Z2biU0+r7rGd2Ewbyq/XD2b6O/01wPvO96fvt5ZeeaV/76qPQ3zkEvQlN/NmpCdLsYMvWg/vYBxvz/f/7vb9Ovu8vTaIQMdYMv6YXgcDLBifgM4IwLgLAv+DOf/KioDST8rtmQg/KGGcpm709y9ZyuI9StATxVCR27tzYvvtHr7WD+9kpitnDKtaKqmDG8+69W9u+Q5TJzh3tz/78LzmfvI4HzBilEpp/BfQ8NM0e5ygH1kVxUJF204rrHh5DwCiUKGlOanSrVOntaW9T7CHgYRm/ev+D9rXPP0JPkVnBCHIyBB7iYlZVPnzrcItv/ViDq0PgtwrvF+mS8OTV5+AEDdLoAU+8PcDlNtYd9wqYJ817TA70FKeXv/xFJm6hhIwssqSJBpNGM/WR/NlDLvjsGU15WUZaU86ePpshD2c1yzOGyyxm0rY3aI+u5o2QE3vF8Mk98r3Atq6zmLmXUHjWMvN9bg68ocso49OkRt5sDJV3pEpeXDngyV++rkMRvMSSKogJyDlwpvx8RimQKaK4m3dlCf/VeZHXq15br3SBHW5UhZWfqDF8s47fYC38FPsC3EE+afEao8Ee8UhU8idY0xlj0toIO4mZnmPJe/bvioy8w5CQvXHzEYRNi0va2Omxc6FiIB61173gepy6PBtBrPB2jNxT3zyiMnNpKE/lU99pM6jvCc+v9N7IgR92LvQNaL73d/lDWVAKjG+lyBaW9Ss863Xm5PRATBO/uqCZ8zj4kx7STlKai0FwnnvX5a5PgrjGUSb5QCjq0sAJIFB6HzwMp/OxfsqvS1BOrQCJ2D/39+7TZ9wCMLADnQwRr4uaDK6M1+FRn+s38Yu6XdwSrJkJCqGlvI1fhISAO0KGyMB2QoaHSwgiENOS9Al1ROpwqIJeRshQFpQa8cfHjzOT+RLCv8RGiNaDkS6FLjEKZn0qRpKxdSlIwiq4nBCiMLvNbMbnMWs7yUEw6b0ZmXyYNuwY0FYCGfSVl19tP/jhD9LjUyg/sn9/NFIrlYxv42QlsJH81h98KyZwG3UbGmHNd+tdszyKZG4zTlhmUBLtaJe0ee4rvTm2AYTSgTNET1InzW9jBo1ZkK/2Op3U5LtCVKLbaDz+2GFMUOPtyIcfsuHHDBM5ppl5v5ueqzuYaeLDNL/qRNty+PP0uN2OM/902hA4ms7wsKcQIR4/Egf2PAL361/9Kg1FSEe6+NFTqTZYzuHPykN8K2JYr+OXqlR+lyoqOnPMRr7EOC3WAoTyBhqV65SNylWKA5xc3naH9eXuIOt2pfbYje3Qi5Ve4b3WcUboMzW+rk1sXt/++NsvtHnMnQsAsYMBWeO8SSMm/7YhBPx3vvlMu3bjEhtTnCUfa9o1etqe1V5KHGFsYOGHftlTwAAM9FAQwMOGmjDyhAqF44kRqKTjWer4wD/MYkbJGFsz2v7FH32tPfHoFpQrFCbx6uSUVgyFp/RZu3a4vfalpzjO9GL7m//8JmttaZiAl/bYXjzlvAhRsyQxVKKBxU/rCxDpcTpB0eU/8A6RNOeCZPLtBMPR8UlQnmgb6MVv8oQtaOFX07cuRohyTw3oCQcEYafRlXZ563/8ph/f+dCPdc7T6DgU5Bj8FeqJ+8u7UUuUfDME7CcfeyQTHj1i8RzbX95pbL6xYRO8RZ4igItPhO2/Dc4o5WZD3o99uoRS3EdHJ9jXfF8aRceVPbyGjiAnjHVHLFru5pH4W9nBa+auyznvo8hwENDQuuCq0menxF68ciA1ivzeZw7BCCsMJhnKO/n+GYY5tJ74FWuLQz6kJ20sI5IQ1dTJ9JYJ48EqDuG5j7yNmWPlNvCGi5maMEMcu3tgx1Zosr+dvDyDRRL5QYMX/oPHkLakF8JVAkS1V+ymOeMMG7QRLGB0BIavMCw0Vz30vhFWVtvZ8WCeUh7kX/IKjYMvee4bL+urbpU8RXpj0pu/6Vgy/Ci3FAqyh7Cthw65uGfEiIvLwdVAyV9+heQb/jh5xNeUazzinZ/esqk1Q3qJoMqSd3EVjjQpHPR7sIcrToZbdqSihx/igNCH8R4slr8txxMOX7ks5w7hAE/owEOJF4TOItIJ8EHHu165+dNlW8DWmIHrsNarQzghg3siV1IpoSowmaLXOHpi6ocEBQj3pMFjD9O0Aq+0qp30COxNu2nJb3K/1khT4FYSe6pHjx7FhHw5ldCEQtwA6/NWBI9Xl8XQQDoAx/EaC9QKksIHQbPveO2ZM6czseoLX/hClAqLogcd6IEhS9LIIug8yOKFF16IoMkEC4J7gINpOGFi9549maWuIJGMMeEKkprrhCEbPPG4dOkCQrJ61Ar0mHZJQzyzTItxM9NX8OhsfPWwUtvoa2azs2Hro3LgeJu4uwzMrUutNDKXmrY0OHjoYPY1/+Wv3sqpS54N67IwJ1m5lOs2vWpN9OOTm5gcg9JBWquYWOaEs1EaGhVzhX4qPB9Na5Jx1S9/8SU+SU9N5JxAhSLivegse1g2/QXnwDfOL7C8B3/gd+nSJ+3UKRpJhIYV/BoCfVU3ryBCjYqqolCwyDf4CTuNGi/S0vWejhEL+yYC/0/+xbfa0CTmcknHpVtZHUJZykU/14F/8+uvtjP/539AKI5lbbpjpCQySDPKBTCSe3BONeE7VCZM3yPgO4JlGJN91lPj75Kyu7SCTkSUV1559QU219lOPMBzqUD4ABrJEzfghWVSlt/82lfar35xpJ26fppg0roCKwad3eycAdMcXT1B425P0/kKtW676AM8eOYODZmKhG7T+k1sEjPftu5/pD3/5ME2Cp5zrumFbyLAodewDYj5CpaJNvjpUOAT1ADX4M5XaR8TNR4K+LuMpd9CmTzNqgmVY/kiZtpEAjZZsR1WQfYwiH17PGBkffs5h9i4vW3ZXYRuGv5Vgy0NjKeWmIbR+sFXBamNZRoA6L1I+rdnZ9KQuc3pInWjSozVEygnC/eZFzDhmL1HbrqCg7kOlJ07B0pT4RkeTdbK1yY3sP3w6P32zgdn6wv5VR4uZEa/2BKWd29i69sWhprcWes2cxM8VMN5K9n1jfxe+eQSODKfATHvErgp6tTUhjXtD157pR3YxylZx1yOxtJUGQInzCzB4Dl8IB3wmgU9z4ufxuq2FuX8Mc4wuHz9fLs0fyMyRYRcWmlgZUIpFGCuRoGzMVRmZEiB+qnyqTNVryhmlIbKsmVoB0EFeZEJeVroBKNc2oCp2zCyzcr6YmWRZwqaN+uVkHmE7vWU19DMoMpBj/u939XpfFVJAE9LxXx4F7CwA44fqQ70+HdJDAD3FuGBB+H68H298lvoXIG6X9MoHvNrMT2hKtGERxybjeQykVa+9ZmtMH5ZDl3fKl4VKt8qSPcginhIROPxk9BS3XB9WB+JWBkxC8bhnXC9nyaQsu8X8hJOLfr06TMB5L6zNkI2BomDb3/vYS/npdK2J33i+HGE+MVKD6AVlldxBY0eBjHyLP5BvcuoDGijadolTBWYwqlGb3aWYxBPnYmg//IrX87aVoWbTJueqUzB5diwCofmNserf/KTHwfuZjRyx4NefvXVbEXqmm9nbHoQRbi3w8dxScd54N+C7dgbz/GoH9/CfPHnqxq3NLRHJCs7g1jmtDFy9nyWjsDM/BMa0zhmRBUiTYBuwJ9ee6cMuGZ3+zb2f35hVfvo2NFYKS5euEicucC7z5jptctu+sBucNePg2RVglEmG01MrKfXXz3/8Cq4WImee+5zHKXIcYx4uhmDeIZuCMosDQInaek6Zl3oSuYUyhaAZamWSuezXeBc3iuXbkBLtx/lj/JSMVK5cSxSK4iHshA8ZWd5OrnOyVYuVdLcbU+6S4q1sGvagT1TNBRO8kBJkramF0zqJ7xv448wn6M89u3agsl6A2OlnuPs/umEo+dpnoMrryoLNV4pP3VluIByRRmYP/16J45KLOljI63Qd3nPE4c9lxxzJgENHpra5euiFtx6MczunetzNObZUxejyOR72gJxUaHFxEA+nedwC8EskYIZd+nl7Pspt+O9eqXGxxk2OHXqRBuhrA9tXtuef3Rf4Q6fKwSTB/HqaF154uUznampkJCeaFs2lIU9t7/56d+19z/+GH5c36ZQ+NZwuf2qExoXSCCNqnCNx+WueTZWTz16qP3Z9/48lhDN25pcrfPmM3WZem0EfzWyaelwu9RHDuwPHzrxU1iOwzsmby9vO8stVWq0YqxiaVUbZgWKjfEQQ1Pbx2hIsRxN0GBRINYzk9PUrbxYokFat45JmPOrORSHFROEc39u5tWH57VqlJPm4lq8oEy8dpU10wBzXfTx48dC47soxi5PMv/Vo5ZPiMv7ZjZeuXiPFQC3rrKD4SeULysWAB9ZB5wHO18hCevGUUogxhiN8XasUY+s39Im7oy0Oycwx7OVqeP2oZc9UsKVIi2wkkfVAWjZ48LliZ430DvzUvvRgx/8oVK7BUVA+XKHZy2TyljnTqTOoBXL0ykiE0vBCc3S8r3uafhUgHBiF0daddePdJVDVi6c+Q9ncy+e1C9fuu+5/dpP6Bbf5fpffn2qwO0fu9g9/AeBER/UE5QHw5iT+uknkxnCK/4VKC/8pHLo38fqAIiMwLzL3N77sIlril2YJLYCWR+lr6QRk9xFIc942Uhz00cYEjBCIyWFb6EK88+09959tx058iG9iH1tH+PCNjRWhMQW1z5wfOpHhjjHbNVzaJ/2OG0Aepfg4ma6XDoZT80sy6f6gNyrR+DdComHFbOSjnAScyGcPHmCccTx9sUvfrHyYwMAbHHVLO5MXJeIyZD2Wp/nGMn30fodb3b51TUq3ZNPPFmzjOVSgEZ5AY4TzmzkpZPkGriVzwNPgykYEOpjNFY8l4KhJqwAkQ41FmZ+1YCXUJRrKVpqM+Nujv3Ntg2MEW1mfHwVDZ1jclpB3v/gAxrFc1keoeYbcyiVxR79lSvn2+hGt1P0zGJ65Y1KeP+LNHQ2Wu+mHMpUxX7p9FK+8fvfiObNxkxRKDTVK3hKwQkBgp+NvgSxsqfvQFoqHpaxtF9gst8VZjg7UXAV+VGpqbFdej00xjEnc5e/aiIU8BDMzsquImXZW9eD1TSGCKXBZyzRzSoo7PCxvYlgkVv3I/8Aiku8bFA1yWZLR3omxXJgSv7k++qlpWjDTzkJKh/NS80MH8YC4Ti+Yd3QYZxebnpbliONvGN2kxM0hhbVg6g8wBvmS9wwanAoCcsE19c4q8qQLnUGVlCZ9Qz3qpfFyz4b2XpjuB2797LP9/koM84YH4Heq9Zh3dk4lXOq921j0xWXjtEzCj1W1MeSG8t1L4mv+Emd6sKbHzG4wBDGn33vB+2Nn/2SfdddVjSeeiJw65Nbiq6lrh08eLA99cQTjPeytl9rDaWQ4R4E/RYaq+/+0R+1f/en/1F7BWXk4IH9aes4CVEPrCfmz+RV1u5QZsePHYmskIfuYSEQP4W9yuteeuurVnMQDqsGVnP06TxnrM3PQ2Bm+1+44BaejGlrYrVwdKTTyxh3wrrJqWWc0clFj/SOljqGLejxrZ7QSiF/kx6KABhGzlg/sxwPWadFQ2f9kKYlzyxleKcSSn3YzITHfc881a6z696tS3cau722uzNXK5+GBjdynSvljJ+yL2oFPL4apURLwO49O9sn8Ns4loy7dEbqpENohgzQhW7Vkia8a9D1u8YOi+LnTorKLzsKbokq/kVrcSZ7wnZ9NmG1Ejlp9wGXV9Pq/b2Lebl8SdlZfvjiUdzbBejDmTfqeeAksj/mH7f849tvdA8oBWEgeYcUOxje89hB6duVh4EGV3Mh7YhUndOKmQ5JXyi5mzGckSpI/fZhutRzswgJyDMlnrvZ5E8Y8I5CSieRHkBOJPAvIopQxQtQ4/Yuj+JR8WVATSCG1ukv4zgh6WN6cmdOn2Zf7N1psDUXR6h3oZOfLl0nwth4Fs4S1UfFOw8go/buWbHiqLivsfcuMya8wiUPvLvMS8YTM5m7I1BhiqcN7iY2V3nu2ecQavZ+EbrgvmYdevM0E5kY6LRwnb06wbie9dnGXNPzSSaoOR5/4MABwgTLCJYFwnpusOFMu3pjyUzRlAbHhiW9TPEy/x0NplFy7FE641MFwWPxNKW7btZGRP9RJpc40UP69A1f8sa741YLS8xQpecwOnSVSUPvsMSMAztomGcZ73SDFMkwjGCMyZmlKAscqKAZ2Y1HbLzvoqZ7ROMEzx6lKMEVFRP0fF88/HiEW2iAQNakGbOm5UGpSAVpURNyUDTgwWz5p80ef/GV/xbYYUpTmkLP03midPndC/adh77V82DjCRSQ26xfnSe9TZsdVlkXJekeM7aHWbayhNl8lOvubXCmft8ZZdnMIj2hFfzQP0LmOHm7rlXtKrP0b91w4hbme9PvAplnaW/5pesC4tgRJHoEtO2n5u6JEY4jpEx0WlrsObqDlr1IZ8lvpMe+cZTxO9LOYFBw4EdCQK/e+bTKZThOUuJwEHt5jue7A5r5tIyGVzlGz05Z8Ihm4vuY15cyZEIcGqchBr898esUjdf2nXvo4U4zwWdLJmstImifeuyJ9p1nHokCZQOp8iwfkuugYb2qukPuFZbSCXpo3XCtdfgcPIjG6W/z7diVC+0HP/oRZ6+/h/CW15knwKQrx/pXo7D0Crr15dbtOY7o/FU7cuxke/TxJ9oLhxiPZuLUBNtzavAeYXLZBGv+/+Rf/rftQ+Btn9rM+upPOByFjTiidNUEzju3mSBp/mm4F2iY78JTFpljtYo8TbjOEbEuHD99qm1gC9HVLMWidSUPDv0wnkujKG7KyFXUJZVhYaRR5CH1EV7w6K1hGPLJQ/uyuc/1q7fIJzxHmhs3YglanG3boO89htTc9OYuND118kT12qFlTtMCjmWrBaLkBOUKnq6Z3/74obbr2ccz9OMyQRWCHds2s4sZ59UHP3lO+SM38n0gw/CnDMR5js1u7rF969/Ri/f49sVXXm0Tb/68zVw61+bZiH3kfjch1DqIc35MrAfE1blCJ9a60LF21bO3boOsciz2oVPyofKL4oH/AjyqZECV5i4wa1zlNA2N8fTHS9865xseDd/bXpQs4CH58B6nkDVCvax4xqMD39dRgxS/JnDKTVykS+/yaJmKS9d+5LF+HoTfR+rvpNeDcpgiDUCHg7jEVtEjUHe//gYnU63AToEYl1T45meT7L0HiHcwO2b6DSnkU2FR8FaGNZlUdh5EQ5wtaBsb07Wx9lQnZ4Pbw05v0zS7S/PyeTRBhbNaablKzWcb/lo61BM8vpWnPHZhSTz0gqFdzrSein+VJUgySSYpiZt/wFMA2zs5d/Zc27//QNtHgy3yMoGbaijIfDa8Y3AeTuF49Q2/pQe6ikp5Muu9PW2pMg4ypOH2p/bK+0Y6OIln5whisMGv31UY7MV7upb7A+vn0pDlUHkMTqAkkam3vWA1XwgrxloV5DYoZzF7HjtzMuZxBdC9IU3ebKZAQFQNFAJ2AFvHsXh30d41KeM7zMEKYyNs+nCffbaHWSI07DaChEWg7eZISeRjzFKapvrKnhLhe/LTCRK1ccsy2gVpp7HrMuL48Swm7iHG5TY8srvNYv5WeHi+rr0AEXStvGVjr8tlbbfZXSoT5xDo8xwdeJsDJWYx7y3Q/czezIxFThP30vTNto6yWGIXD3vM8oz5FTnxS3lCM4mlwDh/YaZdOHsxM4HVEFQwFErSAuoi1MtyQeLprWb2PQ2BPbZFFBrH1Gc4a/gOO1xt3MBcgVVXIvjuIcydZEcbmrK8cGOOiW4MGdgQK4hwK3lCHosf9xGUn3nW9l6+dC1Kio2kk3/cbUrlaggCmg+vlIN1RtpxZekgQxcz0zcy29swN1nqtXfXNnpqa6DNuvbSs4/B204mKlqbbsgeDKRTz1PgYg89SrgNCy0DGXJy38mLN9vP3/mwvfn225izl9q2g88yDksPnkbPSUVaaNZTV1RUL7oXAQlIf+0qzkv+1ZGP23k25vnu773U1mzhGydxLXJhg2ovbHyy/eFXX6MuzDAufKT95O/eyHg/rTMNBL1NxuPlti++9GK7ilXmvQ8+QmEmJvm3zqaBMQ/KDBqnyY072rpNOxqHWDGmy5wVymWcclu/YQum8uuUMY0O5ekwUjoGwJFf3XMfDqChY2McnrYyIfDc+RnooIxiJns3A9yVEZ5Clbo7eyu8u4H5ILcZEpOf5U+ITc6KBrmTj837drf9Lz6b8d15aOi8hUfAaRPL1A5s2h7+t0UvziDHFhJwbOdS3jTefrsNPX6+gJXtNssJx1SQqMu/92wb/xXK44nTRHEHPma5M0xgfBXk7FrIszzgcIXvmafAuxPknGuhE37S6rCIX3hNpaNkUwq2QvLZfK5wAhDfeNWv9TgTkw1KerrwYj0sg8uXDkCe+SFtr0zy6uL2n5bvy3EGcJc/Dp6sc32J6Jnnh9DvA0sDERtMzKYQLAf3TgrCAYVHAvaxuPu9d3kaIL2cdNLsCWHg8ujuFXsQ2m8pgPJfAd7EyuXep8xL599not6X/SshwgPXTUGMacXyUoNzqVQOR6eRuMkOZE4eW5nPDnziWaC+I0fzXt+CdIcc38wraXmvfNHEIFysuOql1K5UysonEAjnjkKXmFl+7uxZFuNPBS83InCLTuPlbFjeNcV6urG7jl1jgoxmap0zv+2VP/P00xFqomDaCqhxxlBTqcBYhcXJYGrJ5jETNToNzWaV2h8zu4JGS4Q9OeMktwU0+c878RWazoDW9UMEarkTLDmZZ6brPBPGztAbd9evfnzYRt30nTXrJJPxdYw5sdfz0DS7gGGqFCfXhm7aQcMzu63NscHD0uhRkuSAEjYKef551oPzJ90U9PZCbIwHDbZ44rSYaJ53yZZekC/39P55dmnOInmbm8K6MsYQh70ZaULA7HtNfIWSAsb89uNzwp2mh2jPxB2pqgFTqJQgdKLLT9/8qH3nGy+1BXubJK6ClolbQCqe6Hoo0Nwzr//yR2+Sh+ImChzkzQPv4KPC6HKmqXWTNHZX6fk5ds8EJOC6ZOYka8DvgkdmCRNF4a5lqR+3F3/NgzdYHvUP7x5vu/a8iPkXZaBrqCuZSrt4FlxVPBDO739whtPYLpLPahSqXsApHU0TK/ShXgDPumXz70lNU+vXMhlpOj1se9s7d+2NBWLd/n3tqf172BZzgkmV0ym3gpMcV54tB3mb+0rnPAjL+eK16faLD060ExyUcfHqdBtmEhiDrO0W/LAaU/0I5UbJtG379hRQFLI17NFtSbp9a9agE2Y1NJyBff/inbfbf7f5K0zkG22350mTgK628BxvJzI6BroGBXl+kSWF8Lfy4g495SkmMB089Ci9Zo6FRbbI19I9m93AJ1p53N9bK8nC7RvgN8MEyqtRCJ1gpxI4S4/du1YHe+Nar0RaWlv3vTSnb9qyrf38jVPtb1G+R6nQ4zSk2eKYAzukyy0mjLkboMpU6gLprl61NWeYl7Wi6oQyRfhO5hpHqdv77BO5z6EgjsKknpttHZWvV3MCnA2n+OnkyvAI39Ng6xk+ohfPZi+rpta00Xnu80xiXA1vc1LaJEMMqzDfz544TnnfjnwRhtDMm3yj0xKjYmkikSUUQ4qfu6HLKX/rKl+e87GUhYJrSD3lnYrpk6+5w6HWvmItYfWhDNQ5PlZY3nlYAaUPgWfnW4AeSHEQl9Di1LcnwaqiLcMxCWH0aSbQA5/zonfyR4Yrz+JVwOD3MgskrginUspEHaDBQxWuyA8ACthg/CT+/0famz3ZnVx3fr/aABQKhR1orI21m72ymy02SUkUpZFkWzN0hD12ODwT4Se/zJ/iFz/4wTEx4Qgv4QiHxrKlCYc0pkiR4iJyyCbZ7GZvBBpo7GhsBRSWKtSKgj+f7/nlrQt0SzMRzqp77++Xy8mTJ0+ek3lyy3NCeWoA9Bx2FTnkkxDUYUhmOUxjsmhJmFjBkPwhO0ynq+96Mn5hU/gad/1TDcD51FNsHVLweQLZHczew4QNUNM14Dyvh8Noyb8fbUqrvIMmuNlox2jsNFNGp6yeDFMqBBnNSCdwtkEU1vV+7dq17uixY5iGWbBFQ7fxt5XjwnGe1BRZYY0SaiWW4Z2Tn+UObUfEKljLXo2pFodppnTvtWU1/4w0AVaXXXBxPI3IBrlEmPBi1kSRGVdnD9Qerorbj6McOyC5XpNnhYN1YmdiL2diL3C84ZmPz3R3Hsx1WzjucNGL4Ok4aLocZxQ9soF9yHRKNrPYaOnWVRAhH0dNwFnlCsA71y9AR+bnOw7EQGhw8SRzXje7E8eP4k90/hyBeLCJx3CmXoKpYfAjHY1V8FLRWS+G2wFxnlKtrf8qyhqCc7kAAEAASURBVOje6cvd4oXrGfWYUPaSzyPsgF28VemF4Ql1N5dvZ5/xM8zrXb1+C8sGJ7CxHkDTPtKp++EPP+q+cOJgd/D4HhQeHRJJGLgiyIONjRGpCuzD31zqfvDDf5cFTo5y7VBQzdUBQniOmh6/VZSxI1frz3vMPZxklI5QtnEhXMeQsBsn7fxICxcK9TQhrc7Dcn79/ofd8yc47e7VA8RzrA4q0MBpvr6aU35KgcJ40H3r299n4dFspmOkB1qO/KAFnQs5TD5IO4SWLkhK2YA6e+cmB6dIQ/Cw08G/285cSMWJsd3XXzrePdCaEfoyiqOA/glBV7/yLx1B4D5wu1wUzGOsSdu7Beg2c/PT7uqFT7K9ru1WMC/b3hIFENptLlipzmzVt23Cdih801ifbJvurtIx+R8+ONv95//4D7qd8K50vg+/W1WLHObyy7ff637z0Rn4TPgj3S4Wh0m92+yg+LM/+79CvElOnfOktgmmIFJhxCsZZXncZsgit/t3Gf24Q4GzD+zkcfnE4sO76VC73er+vRvh0VDDStf5ywrxmZsLsQLOzd6mkwm92de/sAhvj05BJ7doYX6HD1NP4knlznDKnAf3eNxxFhVaR3yUJU5t7Tt+pNt5+ICakXq31gmDL+6yIJXaYQqDuoEO17lydc0DWug8Za1KgUm57MA6hTayg737bLnsthFnlTaOsn7EdAlCsNt87ARmhPvdPIMR6SfvkVjygg55Uxc666P5Gxp/44IxUOtDmyj+tm3aqzBlvoTAv8/8Bjo/AWidm6c1gVwgjqfg2dYrqQ9PuvBKDyMoDAWLZ+AFdsFtEPy1w29e5VrIEIA8tvCn/T/nvQcxgDRIygOe0QrNL0QUsSEXIdgTvYhMAVKIFqlA51tp1cIsRBjRSl53VmJlYTiMYxKFWpTzUDwejWqFB5QN0wbY4PdRA4+IhtFqTJXn+PPunxcB2CO9cP5CmFwlpWvCVSRSKcOIxg/kjCd8PhHSvEeRMbpSYTmn66Ik9w7aPIbnoKpw0ksgQupyqIkm50P0oO3RB+8UlAhEjFkIvF2g4pYSwxu+InzmzGlWRH+RYzwZPdj48scBGwh2t3QpxMRBfDxswLTu9Sw60lhs3aWpIjwzl0uaoFAo5tvRnALQPMzFj2UID/C7zCjkEgvyzvzmQ4QKc3KbmJ/bjckL4ewZ2iMcI7qJAx/EaZHVpWus7LZ+XHASqgJDvdCNXSJvDlBYegmlisIePdjtZWVp+AGlnxFLP7oboAdurZfuSnjLaF2kjIJEuVhEOzOLLGC5c5VtKnYE+n2pFqTqpMx9VbfgJT1Bzj4hKhBhywIk5gbt8FheFbVxRxHIS0tr3f/xpz/svvmfvsyI6yT1gbk59BHLmk/3BLDTpy52f/lXP+IkLOY/gWpYu651jXlC84zSYJT1wHYADI8u9VjaVUZxk8ytOrXiRmRNm1nfoIIBjvPuWFcpaK2IDf7g+a3v/IScfqd75QW2I7kYCWJYLunur1aKC1dvdX/9vR93b79H/aEU7XQ6YvWzcYJ9smKLmVInfye9HQ/wtTPpunLL6yEe7lOPmdbpEEZ/x1AMx4/u4lxr5lNJE5qlAdiOHOkXb63AJ4/oQdxmbpiK54CYvdCRk7hAxW1X1lnOZKc+tUBYn9X16IW2+aOMsq2HcombFibxA6B6Ep4gD5B3QaBnr//4F7/u/uk3/+Pcue4I79q1K9n/v8ACRuks78ofDxn9xjIFrHGnIOQBVku74tyFdHZyH2EhyfZH45DPHNMhTq0scNiJ0xH377tL4xHK1ukl69Z6QIGSvrXd4mPORqe8owuPWfjIccSMcr0z3kVYj+DBas9MU7kFTYUcpVd1ukIhx4AtLzQ5wWva2g72Y+87cSz0pkWycAseR0FLvTscmyuNfLml1eLsORaxIS/oIKSNWuEEir9162BiYY1bwnbv66Zfea2bfv45OpLESGawIPvmlw8d72YvMq0Inmz+pw2rLJUtTDGlIyFaJXuhAvBJBx0dHCgLp6fo9NH5nof2mvMXOfHOm8hi9TKy7SuSSBnS84CeCZAZEiHv3gmuelP+G7vmqyuuJfMJ74Ez3tMu5ufP8TeesVtys9Un76GbYbzlv34rRp8mNEtsvYlWtMgLbzkfoqdTg8G6EwG1bHtk+YkPmcpQwv1MQUSoMBRCsjNePVeWT34XhBCOiJ+B10eOf+DSJMkjE+sAVfgO5iOfBBxGkBnyEbLPadSiWGUa+FGeIIn3etkBmPIUYIW+DV5nw5IGLVHgANORo6ZjG7BCTiGpMzwrsk2Rnl+88yUsF554tKHlzKgYPFTOUYD4ST8xrnNsuYIRAWCPt0pBXJTnJ+c+YcT0apjeqnNvsfg6EnOBi50Se98WXQZ15aRzRwp/G/0AR/BJfgGeyMlH/NvcUY7qpJzOSXvSkymsi+v0nN9n3vAhwngzh2c8uHOZbSXgu4ljNDHXMkjExIaiZfGUPds1ypDM6C0HMesUummenVi5jxD9CabMbd3G6aOsyuVSE0aNS1xSkMtB1Jw4v83fX3lDQWt4Gzm5HkGYlttRskJtDEUwBU6e3jWGhUKhne1ZjKLke//UzNI/8FVqKnjoeYW1DnKq9Neq4LYqMRhfYvU4Zr+ZmfnuT//0R93Lr1zjPHI6Jqykf8yqZwXbIvcRX7p4lcVPZ1jcJG8gtBR85DWC+TEkB1bylU9QELWS2m1Ed7kghNX1CKttO91/7KjVo1YfM4q9wwLC7eFJ68G5dQ8feZQzqEuoztxa7v7iL77fffLaie4Ee6onszpcheEWu8WsPH/n/XPw0SX24CLOUD52qBZ8UQDCM1FEsgQ+buXzGsZWA/KUHVT3DrvIyu2FrqjfhuVkhAVP/+Srr6VLMkGncJnyaqpv9AXxdBSW2E4wBl6wI3Ew8TLf7DanKH/oYtvQvN/aRTq01NFGeGuFUaptkii5BWonHTtH2q73cLprgCfAzNsV9N6L/PwJlBbK9h48+RwH9VhWFf8uFoFZ0mmmH1JLsgbwp5iKeAjNPjn7MfWJIkUhq1ile23Xc5EhSpp3FU6OzlQOEMd2GSVF/sZ3btt294BRJ/o35bKDZnst+VJYe0XuVo6ifY8zCSAD8YDHg/nKH+Yz4rnkeJM6naiixbqwl481b7t6OoMgF6WR981HnANPwsfwysQIHQKSXP/kQnfu7feBCW/2dFeZVsekOmA+u5h1wQNUPrjajf3ik+7QP/3jbssLL2ckHy6Bp1cZfNzEnHLv7BWsL3Z1q2NqeJWj2pv4WTYbqlNXjvw3Il92ss1ujXbn1jfns+dZFOj2L2lUStNk/hVNwpxRchA7QOtXntWCxCZpswh6Fc7z8CuBBj/h4LF/n/tsjHUoyZavpweexcefD/lzsKiIoVE9lp01hQ85e0h9xiklXiRIhQ8VS6aTGeMIz6NfrRQtzAg807b7SP7o0b/mt3/hpznhJ47E5FEG9SH+LRK/TxAgeFagoIzb4getCGOFZJ9ReeZdZlf46+W1kvcwMWvy0d9epb/CUoDonHOW+VzspYs5it8IJOAYt5nr14lSODnf7GZ7VIgpBvikLD2jKABs+DG9k4+4uYXLRWZXLl3m4IFN3UsvvxTQjjzMX2Xd8hRWTNngqewQf3vFdVIQjR78dJY3wkxBYPkQBnZUvPyBQkTY2JgUXMsuMMJvE0LHqzmdRnAxi5cReNThJq4xRKKxuhqBy01F41wmYJgjWS/TIKcoVXFR0Ng43Wa0zOpYxc4k9/pun56JiZUYmDe93tE5w6CSvDOPDDPZVNEB+DnKqhfz8GYmt2oVGVE4KNgpVqC74lbhapdHoeUITpoWIOnAs+8RZI5aeAbfmmfnkSQqpXTM8F+iTI5k5x6udT/4259BO6YSyMO5XVfZNjOuo+ACC85uWLXsZmrjSV7kTITEIUvpK20yTUF9Xr9OZwFc3UubcoqWfKllAhTsSM2jTJYZeWVRGbwgPAYl3bf/+nrOXt/ISHGRaQo7iG7587hYcczohg6C0xscUR4esiPoaBL9knnXlIVya2a33iT6I/JHRUEPOm4gm/lt3jdgudnAjUx/8PqJbpkR2zidGcuC2o1Zf56TrBagl/PpY+z15sTrKLlpzreWv7x3eXqaDiV521G14wU1Um6rzA6xe/jvzvYdCsKk8xwK2lMFLZtHnpqjdDR9+Agkxtnnt2fPTq4EReHQCbLDFouVl6LAT4cPcEY9tHzAYsLcgkY9TrLNajPt+/Rv6IjYaQhkvvLkr3mVkw8nmOdeZNRp3rZFDzbRMmYH2c6OnR9N1y4Gc12J5XE6SwuHzi2cdnpWVjy2s8rQZIId9mnXtrCy3wGC1hoXme1mi6TTYXbGm3PbnQx19+ZMd/qtX3Z79x/o9nAwygaOvs1WKPhpClxvXbnU3fj1B90Wthp62YjFipynLIucqLaCRWyEzrCL3RaRPVmEiVVidWG2u/GX32YlPTsjDtFJ4g9DCYvdJ7ttJ090S+cudmtMjUiTwl+4vSyGfxyYhJcgn9sKicYD5fUZ3hqxB+GzIt8PPBRG6smtLrEufE11yyW+4Ol7Res9+php34lfofHmvVy1QWnWA4x3H7OiVkbkYc59Hs2Pd7k08fVLnIqXmHgZNgi3/fcIJGrS4NW7Fq/PKr7Zqu6TzJXffNdXJShfn9fx4q2i97FFSkT7gpKDiJdfHyVJKl1fJCqI91YeoxWYgm1UMvRPk0728sL4JQCHkplln0WybzmTNoJoKINg1cNMdn2Nq5z2ccqZo057rW7fEmbypzEdPHAwDU0FYJjzoOZqI3FPoIrswvnzEeJWkidzeWHGQBnCidKumWhdZCKjWrbog4Y/uCrYdI8xGTqicN5LxnYkvISA1cQ9w1zgxQsXk7+XYNgYhC++KmJx4D95+CuuKQtxEtd8TANds4hNmuRDTPJ0sZWCTBooYCYQ1B7R6CleLqhye8wF8vc4U+fEnRtdZnHZBsLcd72NhUYrzHfZMajRDAu+UMbWh4rFToV572AEpsnOs5ndz+jlD9u2sxWFOb5Rtn453BLPKoNKXlO4Cr/KKoLiXdcmUjbq09F1cLfh8xcBycjPOnP1qIredQWbJ6fS8dCsqxD0EBnNb+MTrFgnizVWWlv+7BFFUjhyFf/M9xOySkFHKZPz0ECk6bHaHdzSCaHzYX/ObWjUMB9pDTzKl8VsfaWrnKp8KnEkHfWchW500pQ89WeeALN++CMgaVSorjdwFe0SZtKyqvQjNOmW+CgG1k484DCMZZSqB3SYD8HhM/eYJ39oNsc+Z/e0qnRdSa35DZncLbFV8EGuN7TzQlmAu9mRJ3ZPlZGKE63d3eXSizV45fhRLifBfH2X0+AWuTPLjuPM3N3uniuXGW09ZiTn/m+vQPXcbTuJdkEwuliyKCrp6banSdsjZbcDtBGTuvR3h8NWRl6zTGnsO7ifzutCFLR3EE+yUMt73sVRPplm9bGLtC59yg1u8PDt23fIpKwO4x+f5Sz+F1AwTtVYexzqA49/+ul18qnxy+MR7zS2TfWC1TZlHVl/MqVthHBxlAe1MkShJwiegda1ndT1AJyNTtuSvpW2KqGOAGbBZRT3WDoRKm+3R6rYs4ANmQS1U3e2b+meswBQaIuOcgOz6oasU/eOKFeQF7PnLlM5yBvutd7I3vYpOiuTrHHR1H/mnXfZdrdCx4jOZN+mNKvbedYyRGnrkzLyZpuizKPw/AoL527/6G+6I//1P8cfBoDXmcHnHHm2px3c3s3cw7IBDlHIQAGr1DWQoTmfeMHR8jk9i4xA1bZmiUuHvGLZFExVAX6Djz7JQH/eFeXN2U60XulvOqNTay24fhs4vBPiV+9nncYNkgwe+kh9ZKIZcyhppfO7h9F0QHn1cPuMbHu6DBgGUMQeN4hacdhHHfU6COijPVUsmxCOL2MHPs+ZUO/9DexjBclhwpku0fBkbED63qNVChFchfoY84l/7uUL5fkJTOKpJDE4FSC+bdyBaQzgmV+jbx9Aw6gqE4YCQ4GsT2D2KBh3InOOmotrK4nbuj74AHMQf5rkHGG6dceRpAvSrt+4gRCgt83KUBlRxeMq7cuXL2eFuYtzNMvqaoQLfqArra0UV5NmJTU4iIbpbdRlHkqyMKeNvOFmI8dulUDLYfrffPSb7BtPekYWwm9meM1xKq1QirwdnVs+e+MR/EJiji17FEknNfXXdGwuI6OMiFAYLpQyr6ZUPMTk9Menc3uScXP7FXAdzUGKlHOCBVA3795MfnZaPOJQRULhCwfgKXSd1/PgCA/KUDi4mMqx2j1ovWv7LuhSI9haCdz3wm1ywLGsCvlkaL3ynilWkOexHL8qao9UzFQAHOToxpG8I2VHxwpYzakvvHik+/7f/RjYjkgR3NDPhWCmg3GgB0oePznIynFVsb8KGbwZsXkvsDeeeQuZdSnPQRAFO9g4Alag2tHMAQ4gqTIxHlEin8Kb4GN9xrqB8LOICl0YHhwoM3k5lbBhakOu1tyKcrnvnChp5DU7dP5qvicJnak6YjfCPThUPLIlX/jDzHEZMQMjjAc27svehKLYxgrr3Qf2E83yrParn5n3pp4mKKvXej7yqk1W9G979nD3X/7hb2MuZjTJnP1dcPn4/KfdhWu3u6OHnu2O7EfBky9FoIMIr1om65H8orDBWbLqtAZlugYeA6nQylupXAU9y6U3dq6VAQ8Z6UVRktY1BHb8VHqbOe50LycWavFiVhn/VW7SOhtls4YSmmH19N7dWIPIT54z29vc/nbu/OUoVxeV2YYdocsDqW7ipI74rQ4nnel01MSX7kWvWF38BzrQbA16PYQvsBphcbKsOuvIaY3Md1un1Lk859ZA+UF540ermm3d8kkD09ipVRZWi3U3SHUmzAsEAr/2EdtF9I56Op/AWODY20UsKss3Zrs5FPZd2tjcTTou0HFcPrBiwqn+lkySc1u5bVRZTGgRkM/K6sUrLPQ7+0m36/l93dbuTjcJXaeYZ17ZvbG7TefK9iDF4iiXHZ5MVylPyEZy2EbSAa5sB3HFxb/CqXi0Aus75QdAkgGs6RvhircdKuEPb1GUtvJ70gRy4ZZ3IjeaDnIwvbBbGZKmf6+kgZXH/r3S9t+Bue4jPjohDByZpxTGzcdGIfOIqjVYZa8TGHvMhxFqgAo4oEA4HyAE+QSQoQD9GnJDaAx8TaMzbp6Ex595+lcMwTsPZWYPYFLUuyMINEvFLQgG5b0KmJe8ly/f4CgTGC/MwHspNXunfeUT5vGIjjbER8bZy3GYbs9wtOLtUZp477OtaxqlraLWuVfQs8JVuhL05VdeydVx+p89i0DAT1e/lrjK73sOC0G5hbn4UnnLwOs0Ih3C3kaqgr3rYSQKJhrsbUYSW8hjjoanv6MLfzXnbWF7iYpJoeyio5a/jd78nZ9Uedsr1lWvNeQpWqlxoJG0UYmp0BpOkClxXKR2ixG921m8JWkc0657sR0BmL+dFEevfqShI7jWAbLz8BChngZLHtaFeKrsHfEoEI1zlVHNAqZzYgaP2otrHcIpJbMKaQRwG5FIV+vBrom0qmM1ic8oWtMvBLYEEX7bMc/eQ+BZD6PcZuSCnW/+0e+w0O9G9+NfMspAobnbeytKQR6aZ0Q6guDZwhahu3e4cIXOSvIDF+tEcjIWHNS1Qtd0/obPJB75V+cN4Q7tXKj04J6mY4IM50GVRTJgoZj0k3XJ14shsjgH4ejpVyOYlDdtY9HWKycyOnbRjaZfS6i8leZOzUTQQwvNopp1NUEHV6u/PURwkSMdpfCFVgcRgk82c8nDJj4qQ8nnyvvMF5LcNmWnUHwxYYAj25u4W/33wenq7MPuk/uY7VkktsDK5W1HjnVH2bK1f4r5S0bnq5xUZmfOe5CFI/DULW3BzqImUxd1pSMGnm7j8lYshYSd1ym2fXmt6PYddKLpZF2hgywuLpp0NGo6d0b4a0cwZzqTR/bwQoU1LDOzq2wpZNHTti2Yg6FBHewDrex0ck65awmsCWlfLVlErRn8xUm68VFp2vly3t645qkpPdYf6PWQtQp2nGIxAYRlE4T1pSIzF9u5hLAMmu8fo1zlBYlbK7nBABitgxp5KSY9HvJ4ZGCgAT4IF57pxNhxIIdRYKxSl4uMpu9hgdjI6Wc1724+LDZj2koFp0tnT/i+CCpfeUuViS9k7Obe/Vn3tZd/uxvjEBkvj3lM53965xSzQhx8xJ3u4qUTZzumzRxecgUY1ItKP3H4kQchX33i27705Dk/0qb3573HskUcvAMqgBpPWQcpl0AGrsdPPM27x3cg9/r3QfT+IRAaDsOBybM8EvxEeqmgK4wr3Pd1QNZXWf7gIQugYiQ+27Macj2IlM7EBgtC5rPPSwUmDB8y14+vELrn5EpBWCFA5a8DGRDAQCsCbjZ0AD+mwQTiZ+H6j9Bafv4mLCkrbc2p9PFDAIhA5StrCk6hLeFjhkBwWWGmi+OnRp49PJkZodZGqZqwPZ7UxSDe8JLRHQ1TASx881IR2jt+8aWXu1+/+07mxlwMYaO1lOYU3M0QPExTDR08IGNfF8YyRr6lnkycd/Jpzx7DZ6fgDIp6GaHiKH8PDVyTvAJ1ijxV7pZXAeIVj5IynYMIFBXLetmFX2bSPPX4Fk84inekH9drSFckO5LWfOwCLUfdji4UNvq/+NJLuexBhX7s+PHu3LlzoaX410lF1I1KBUUg3Q4wrbDKaCN3GSNQntn3DKbOWvQ2mpPAanRhnUj7JqyKucpS4LoB4Zu/NLcxeq915pM5Z/wIV2Xu27eXTk6NbjxvWHmk+PJawnn2Ah/gQoRv/skfdm+9+wHbzrSsuCCMRW7Qcgoay0+rLETy5C7pZ7t5/NhFTTQsyl5KmDiUpWpcYWc9F601oaczJh0wo7vXNcIbimdFqmVA0JEgc8+pDXD0FKmsz3AVrSZGoWOqZZ0MK6ypWx42MVcuv7rdrzl5TKvABHQYX+V6RfILJjJDsiGuHpo5IQbYpV06AnFhmos4N8M7rpbmMCriMI2AXytPAROQKmCN1drcloXnDz650d25z7y59IOOmya2dvt2cS3hDtYIgP8GtraNYBkaI0/347uwzvrKlYLQUbFgq4niFj3iudDN6aX9+w+gpLdEUecSHGjlIifN3Z6NID+dOPkcdKxVyqbxc/jIke7CuXPdqHvpgf14DXrA27Yf06iobTPeb7yBNRWLdDLSaCieFM10BM+ZqiN9uf5XEgz+OB2OzsMm5poPnzjBwSw36MTe7S5dOB/54DSZHVinKuL6strGPP96m/vAgTfHfulVOiDC9fTCOi1wiPamU2jw37NX6CbtPBRl3/6DBMhndKwoo7LHnS/C03y9jEn8jZde5GSyvfBzdZZcNPe9732PY33lBwBJJ3nRDPjXtbqPXMVPfl68cw3+ol2SzhWkj7gac8sOFDX8ad52PpK2hxdeB5+Sh/WbCO2rzytp+sKJTd773yAkWn1cWfpp1/yMIj8NytIK83QC4/V4tXJ+TpTEGfaXpp/ngpLw+GtOnOLDQ3CnLqoMw3VbulWowTltjk4xYiZ/g+yERuoBsgJLTnwbhmuj02Rrpg1Zngdo9UjFoweeCib9YMTMs34K18BOPJ77+EnbA4wpg2HGIC/Sxs9IxrfEPvLr0ZrwZXokEZA0hBq11rzvQID2sE2PqIhgdQ52Dw3/9OlTyZ4VL9nT7EjRRq3yswF4mYdC4eix45nbdI7MVaevf+lL3XmEwvHjJ7oP3n8vCkyzrqQrSkM/kIspu+Xf0yFlsCjGJYFbNhS+OXwBJVzFZHUreW1n9LLGPlbPOv+tN36LSxHuRBlrYlaBKnhSThSRpjZHq63c0ls6KSBFrNAIdN4VTW7XcfQFVRSejJrdu+uIQQWsQhxHeG4iH0fTSglFvcrC/d+3WHlr/h4S4Zy60waVH7GGhL2jZ8s8AfzNO1gBjHDZwIEo4uezI0L3h7ooRzqk7omvq54np08hlFFnvPf4oi7cRx2FriIm3aGDB7qjzx7H3Plh9lU7OotpmxGPStC6ecyRj0d27OyOHTzWvfP+R1xEwNWJjLglEWBSX845p6zMT1tHKlatCkgkIsnHKmw6R+ArTBe3qWgMy0gCweYVlTt37c7agGVWzGvGdYTu0ZWlCBxdkSEAMhXk1iku23juObbDUNZRbLVeuTnO6hL39JrGHOx9SyFxzDQKiHsIRw7+oF4UmuK+XtcIVsomTa2b4JmyyhsIaztGRBkd5WAbeCrxgFltv+hLRCIUvzxyDh++PndrFnydm1YlOi2w1u1E2e9EIWtOdkS8RryRTEqTgcmBXqPo6kxLO/uF1vEUayCkaaa+SGunyg5pzL9EXAFJF96pEK5eudzdYlrq6PFj3Y5JTeR34L37dNoYvbNOofawS4MJOhDSuW4Ie4TFwaLbTt3q5daoWIHwi5XBQJz1a7tMRxV4Th3V2hnqnTgUmU567SxwoaHWLafHZBY7mra3LPijPYZHoI/1kUEKcOXLQ3Rc96BA3/nVL+WCojd0CD9EFqerQUCNxD1UprZhUq7UL/zAFFKQASG3bol32jztxA7nIxZ9boZvt9GhmCLsMZaI6+z/hlvCR+JrecK6jWOs6/zzNXCUi5H0IhaIDex4eMSaDdNYbq/OdCSb2KZNHZfcyYAJn0y19TRtIOUz48rN4Q0bWo8DReldezCeMJt/izn0TlhkjnCNJ3P5k2+/hND/9mFmbD0Px6rEQxkFL6uhTx0ZDy6Bh99T+QQefontLw9lvTD/okvQEElksH52YqkQykeHjfeBq0cjrHsKLI0uwPEnre86cV1X2nisJ+tfykOkmqui6iFC9VsKt7oMLV7CjdwnjjCRCEPvxk1hC50KM1wOx5nGHFTS1mYJzWKeEJQC+Jtgfi3X733j97uf//yt9DRVyq+88mr31s9+Fpp4OYamb+dd7zOivcixnjcQDObzHEp7N9tE3vrpT9OQHVEfP3GiO3vmDDRq5Q1WMfdm/tzGRlcpro9SL4WzClk6uCjLu3TdxiAoF5J9mSsgvVTk0uVL3Ve+/GbweoA51wjznGxUZl3GjLxLRssmwwrPO4xVqkvMAZutnwAmTPoq9BRACk9rJWZ3lKqN/P4cK4LBI4IGPlFx6zS/u8/TuNfpxChML128GNprqh/wDHFTlyB1G0E6w7Gr5q0sqhHnanfy0OGY6UbnGaUr2FGE4qVyVfg3HrDuM/eauTBoSVznoAGUNi4ujCs48WlHd+zYwe7dX/8GAY/gomw1j0j5yNdevk3B0ePePSzOe/QBeFdnYQO038yUh6u355j+sBOk4HNRjwvSwrvg5vYl50Ytg4vsHP17haBzpCo+F/+4AtgFawdZuOhq2oWHbIl6cIf9qI/ZhoWpFrzucdhFqgmY1pWjZ4Vh5h2Rni7EofJQpAhjOynAdhGeeMS0h7/0Vcnlak5gqBhXgBeI5Gv7djQbYYivfG5nbjNmYHEQ91XnmQmbomPwKKdXwQd0AuQlFxPa2c4aFU3UwPbKUqdKHjBfvkoHxJGsYmQrq7t3cjOUnCSni4WmYUgIHvXuPPC6EIZHCbCjpTJ2O5FtTkvLtSwK4xASjqwVEU/B0mJw+NkjaQeWWSUh/nYOJaHtYCd1pvk/igPYmhbHydDFeHZ+QCkfrWZ2Cq0A+V4A1l3jN0fD8pg85+1rdoge0eGYhKY6rWpavK5zCMkqloYb12+mLU2irJ1ek8by5MoKCzOdXLH81gV4S3frPfdeA28TI/sKk17Qh3i2S+kaCyDlT5sgrdM/S8C2GB6raqfARaLyuDfG2Y5tp8KwA7YJ5b6FQ2UekXaRUfDVC5e7OwvOfcMR8L1wpb91/Rk35OkUlseA2gFRhsaFeddTyYsGNhq2EL2tc3NJnD6gxbMsae9Zl+Nby6BBqPLzXSEDBNbDfZIHTJsfy6VfiytdDW6/PuOkV2SUoUNxB+VIfFMmddJEGfLUygKH5zmxiG9c6e+THWpd3kKD/o1Ayx9/I+JaqWlePRA8Ay+/+PIiER1gNVxbqoThadoUqI/Q0puBUFsm7Vf/5lIgA4xIRafWgpye1aQDYZC5KZs/RX3C3zDxrJyykrBHJgqKxi4yNpRcAEC8xE1+JOR3lYb0B//oDzFdv4tgrNGGaW34zm25UEWFr4JzZN3yUhCrzD/66MPut7h32tG2AsHGnO0hwKgODdRyJAFe25lXVqHYKJwP1U8n/DzxLq7m5dyzysFRlMI4JSTembNnuiPHjyOgLqfiXd3KGSjZ+qEZupRawbSDornZ+jSPKFvyYLxD2QunKGXSOfesIFNUKU0tp0p5F52QGYSQF26MIRxdqHP54qUImaLxYwTq7hyTKA0cdViuMnyt1w0Ai2EpSESLBeaj4M9oMA0dzMi+TLn2biuOZXBk0Jy4pR7SABqgoqfCv9HLvtCRZ3d2u5g7u3HLRTyUk5GtAtK69ffmDEd3To7RebhV+Ulo4Du/+RCh78jZhWeWVdP1CouTXIE8T5hTIp5cJgaWW57QgqECTBsCF7uH1jlZRYFFCKdg0IF6vofysfZdJT9qT9o2EX5FUXAaWRY0gQ/Ec7oaPBTujsKpQxQ5iVO3dXyktKwtT94fLh+pYDKycNEmcCyzfCEKCetp6XYsBfwGlVaw9pIUO3byD3wJXqNe5GE9RDbQJvhbYFHbAp1TVFFwNA9HrVsnVpkHxroj3pSL4odOFtGPjpDwit0w603FpHz2uEnb8oQ0gScJpR6Yi2aUrQJ+9bXXw48XL14gPTyLghNXFZed1t17drGF8ZXug/fepxNBHWGi9S7tXO4C/prInRMOTuT3gDl100mvkFpcrDCKquJSUdoWbP/KhZHWgZT/5A3o6YhZ5XWHU98eet43frYH6XF31mkRZSbyBj9hZ9oEZT+Gp/xxm8GAayW81MY8swixp7O8Vx0yZYPzveRL3jXHDWTed+7kDALxDtLVybdOR1jUlnIi8e38/NW3/xqZJyNRVsoLpakIy1rlFQIMqC8fvoGZF97T5vjV2fFo1jf5QWFnuOnkN2WhLn7iy8dy6C/u8m2BN0XFK0+fU/D4P/0lnIELjPX39acWo/IVbjoHRGhxgod4DXwqjfjaBHv0UnzlYeIlvXTioeWtkMdFxlI+UTe44PJdwYlj3YSGppUGibseQW8iFOykoBMosQSaLFqYkeL8jfhIMRpxkokhg3gVW+CDlEPPfejgZ72wEWODQpi2CGmevlUl57GVA+/1XBpIPFs4vw1PQ0sgQXSIp0AaIDhIQCSSf/33vtGdP38+PW/T2SBsmM5tvfDii523bamcvAHmHH4mskH77oIVG87VK1e6Q4cP51pFV4F7+YcjU3InuuVx/hvBxfYW8coI0oYx5IwlDRTM7nt1IdsJRlsyraPWMq8yqkCx7D9wMKY+zfJTjJK1blQdQD/oUMq+hIRlfKrIeW+8VljU9hiVzbBCFE4tnKuTlrZylGCdVwxQ/iW9NNfc7WEFKp74pVwyKbWpB87fkIJfvTJaCA3kVsxo9PzTSIKw9SYXtExMS+33nwg6YKfcwBLeoJiBX3lbT7/7u29SLwvdn//FD+iIsRIYRR0THYJGATkLbd/+1Rn2zH6EsoQaCDcFlWVBtmfrkvmOLqgcC/lbMyhncF9EOFtGj41UGaW+SauLoCKO+1SlDRG7d955B5WDqRBBr9LXz2NShaG/JfHZbMZYVe2+5/feezfwnHJw+9vxF45F4NqlqnZi85fOdq7gX/J8QCdvjm1ylkHcA1/FDoZ17WQp7Ky3MLOEFI21aDvycGT3AMuAxBW+nZWMxs0EOHV4i50ARuXwaLU3FAllm+Jc6GMHdnWb1MhIvaaExUMn7fIUWPEafNnRXaIN3GWOd4HR3rnz5yoMUI4obZu/oXPMY9wYdajT3D2LVcJ57U8ZgadzQhoXblnn6cjAZz674Ewlk/UCjJy1RLlqXCeKxWcIXfDzI7J1cpkxinaOolVWurIs2KmQUtQfNF3CMpFpG+s3ilDY1BPwlEmAyWDILp1WqP379nWvfPFr3S9+9hPWINR+bGWBckM+bnWZDE0rDYHX2oLTb1E+iYAcoR6cCkq4OPFRJm1kYd9G9q97tJ1XyWbrFbxjIZW+dhDEW1mUj/AyzcEvdenf7XtYkRhEaEGSn7RjSbc5DpTRqvEPOes9VJJWJoorHjWkvT/523vzk/rwdxB3PWz4qWAXvfVvtDe9zwMchCMe1jV/cUM/DaOKJs7VTtezl244+USoBWrwrEflZ6QhJ2A+1W4sjR5g0OfdYrJWAYGhQGoh/FbhWhSSUtE5KpPGYTznu2Sc5j5bsJaLmX7WGT+ruw1KucQ0+OYryPYFq4BinhCZJIqzgQOf5A+cwruY0cYS0dVQ4L2N8hQogy4PgKbZgjJz+1b2hG5hX6gN7/SpU1GWly5f6fawX/rFF1+mt3ubLR4fJx/pJg0U2pcunoewa6z2/rg7cvRo98qrL8fs637nzGuinaxXSawJdddO5ijpkdeCNseuMrgNn8ZrJHB1W4cXQziSv8uBBnYItoLn6Mg0c3KcI8ypXe/+8n1M4F+KMp9CaWfMTHlt0M7v6nxOHYPfGPNmrszWLJj7dBXOGbVJJPJnxG+6zQ7NZRhpC+4qV+cGnY+exNzrCP86dxArtCZYOeo8socxZB6Uxr2ReeYsQiP9KDwjjA1cwpF6okevgCoBauWXs86tP82RTSj6WwKo6rbhIj4UKmGG+2xa/3SDxXH46VQ4a6w0/i+++YfcPvWAOegz3EzGMZ2Y/Ty1a4SR1iw3U/34p+9kPjaL3RQ74ml1cCiGdbJ583S3hWtFZzHXu3UsefbCtxZGVX4mMm3hXljF3MsI0zLJK35cQOU2JTtfjp5sZ67Wdv7WVcg7Ucgbplj1P88K/3uYxMGhttvQKSLeptjDaL0s0jJnKBuY0iOLtfgNTzBCBp16pq0bN+0DpnROVqWoWdeKtrxNiCm8VfjjjM7tVFpeLS4qtowwwcHtg45UN3GT1kP29Ery7ex53gpfvHBkT3fIkSFwo7xCS/Hkz4jBOcgQXgonnoQvcSLVQ460hCy8YcanHdT8sadV2blxISFXp4KXlouMdjkgR7DyvIsANU9v5ghWrSYuOvuT/+RPUN5XCdcasoFFhkfp6F4LLs6fO88/iuItfVR1GOYHB4gXZ72qLNuWxTHm4z2X3UVcXziyr9ux7SRrqjZ217im8jvf/X537cq1dKycDvKCj4d0vl0IZwEUy7H6KI74c+pFdpq5fZP60CJHtj0Ppl7Mm7YmOhLGv03IEcur28A+cg8iktY6ecyDYxxle7KglWu92W/66suvIlM2mwF1zHw6SWoxI/WQziYdg4SRTHjhn1Lk1of4fevbf9PtObKbw4Rot8gRS+HofmUGHJkRax2YIMNX2guw/LVczOMU74uXBUzJ5FjLSJn0l18NS7hAKtYAZnv4e34rWaVXbphLc+aZXTCgYhsUL/2sk8qPytDp1/8aJzIHSIDjW9iSJzGSPu3beUIDhMmTb+uOtPGotPonjn58zEMP242dJJ/HreRiBn3K+dQqWx8X/WTOSYEC0o3QNpJhF6QHHsFk8Pa5DyLVFyEVNfRe/n7Hs5AHiFD96AYY82DefexEyHNRI2mTrn83bYjhA86e9LlzmO1i3gMSZaytLSzMYVHRTVaUungM/hwwX/ImXo4sVKCR1gp0XvaTs2cTzzxCr4YbgtN57O2s/hR+wsl/GJcUCmQ17d3nkgt75fNcWLB//+Fu63bm6S7P0cC4cWryWvf47jKLyd7rTh47CgyZquojwsSG0Du3griISWF6d/Z+5rwfcj7zg3ngM3rUlLgdBeQ8apQhhXMBURQHI5UJrkIc3Vyr248eO95dZqTiojEbkOWb3MY8LvNw8wghBaLTqAp/wxSgrYPku3O7zmlZFeIs/4VGciR+CuzmpKcfV6w6/+kqXZImjvE0/cqbGUEA0NGewsGGUnlY67j8YJJ8PN/9s3/+ze5rX7vWff8Hv+ouXroS3KY4oOOnP/1J9+nV66xeZosbZu0VVgbXgiX4H9pp7rSMzrcfPbiPedKbSau/jVxFXWe3K2yZWydPla70tQ6jqC0aNLC+Xc3r8xb24+/bt5+rJr3BqnXYCtb09BRm9Y3dHIL9DgdMWKOWz7nxg5wIdXIXdUBeK8uMyLkRyru32zWP0lTajtAx9LnmEau+bCsKI8nieoNl0i+zYM0ObAQo/nYYaQWUnS1LHPHZsZpXmisH7Ew5ynOErKJYQOBuAY5GiHHOCT+4e7p7fv8W7nlm5XLmGKk0OwGpdID3Lp0FsIiyCuNXVckKtknXeYiP51lLR1frq3i18Ohy/jS0mWBEp1WETMJTjua07nglpGdM22n0SuNr1z+t0TNyK+cj2IFhJG2H0xG3edXpfShilHlz1peog1b/1UI0z9Nx4ONphm9wS9Wz+3dx8A2Ki4mD/+wbX+m+/6tfd//6z//fGsXCwysbjF9WFEgcxSm/Sgv3iDv/7qDBRZWtLip/a6t3JsTZNjzwSEubcT2A6bIWKZ6tc2PZIbej4py1LJcCECbfPJijs0kk+iZsLiTENDQw+UZeUIlVTiZcz3+cjojte5QFmK99hZvFOG2Orjg0cj3G41zO4ja5z3PCK5h2DMDTRYVDsCV0K2/7TfBT0YRtONnl4/vnuz43yzYUQTzj9BcO9T3wo6jqj3VMfSR+vGxL8J/p4lcxS1ETp/4Ttc+AH+DnW5+el0zrW8ja51ZeBSPw7bTkFUWdTJPErz6heFQqmaEJwgpHIPYCNOdwJ1X/lUz75yQf9hiOWM8SOvDFdgjJKmXvQVAqLEmq150l/uJnYeJfRKvV5Oa5nm+ZcFGKMJ6Fe8J0VGhAeKFArAhP01oZNO74IWjNh7RZQNPTpRpXzUUH/d5fkCqn5mR8obe0z7JVxNGxlU1zsQhKxXykeYPl6WUekhBBz8jvzuwc2y72Ympi3/KDWwiGAzQkF47d6H793ntZzKZwUUApdCy38KrDgYBHkM7emc8+0Qfsb5zmPGHPiPamJOugeE/6OteHqZBGNKpAZNWuZsKN3ITljV+fXrvFXDQ3RqF0QlNQ93Qqle626e38jrAq/UFMX9Jai4AnlomL782Ep7nMrTY515qRDyigiBhVQH5pk/3D4Gw5XG1uB8I928M849GGmY+33nDrYVo7EDIDNrDuTAt9qdcXv/Bs9/LLz0HTWYQi29qwUFxjAdCxZ/ehuFzNjlmQkeKkozjWBkzx2QRdVUxe7LDJFb+MhlWa0o4fYEO7bFWSnqW4U/HkmXqFTgN0gm0JQatfPI2jswx85dfGrwAPr0AfZ8hg0igWuYpH8jQxH97T6SaO+fsubvKYDij5xqPyMDvz4lehnAVv/Ib2euMPBMcz8IIdgJoz9nIS9xqbXAU3xha61dEd3RYUweLqju7ANOsv4H/bz/ID64AOX/7kLWDC6zyF3/kuJzAgVjzqir9ZFk9qxjWqzk7C9t270oG1btxRMIfFyfPL5aP5ee57tiJw0tK24Kh33A6efIdCvskaixF+pcrO7V/IugLnv5Vvd7EW3Z31Ug1wHq6LQORLPPC3Pqwj+c71BAAMzexYO9VwmS1ZdzkKlW0R3SHuBf8GyvuZrTu6//5f/qvuUzpjygZH1NaRyrI6lY9yLoPHFiuDNE3XbgTrkmf4fpQyPO2s76tXLgc5rVmXL10oHlAB8idfWJ/SyEN/lNtu8eOH6YF7WRDrdku3c3kCooXUVD7DllSVe2BQ1qqeQW0RzQ42HQPW5jymzT8epbNEsB27OSxWWpxs5/Kfld5SStfQdkBfg4uew79VTlL5T15pE4AKIj0wQSjSg1v/Xek++53szLsPWk9DPUJr8wnfE76BdSfiaEd0kOApkCmRdAkSPdy8E7Fl0vJK5pZDDwv0mSiJmTImRk/vxMcj6V3qKuSCIozBc0UooPbQ7GGPurIMF5OIVMKt48VT//IEnCcjJU2+iGTjK0Frz7aERIGowotWKhDMnq7I4XxjIgj2SdCXozJO80/5irARepRFgWHEARvhF2L1eVp+K8KGmQrhN2AAGwEN7uJgWNJJD9L2X/GvdM2niwnq8OFDMZO1vByF2WgBk7Tm4Yjgxs2bkb/G27Z9JybrHRy2wYldCCuvmpu5eZ3FMgfAYZme8VxMgM6Xedf1kiMeV5lSb27jUZA5qtB8OK9A4Zaf+/fp8bKwSLPlZvbjuipUATGJqVVhkfpAqFkToS8CZo4FQ7votStgHC16YIWMriBQMO9gRMBDTJNZSEVD1fS2jVGjgtN5bg+W8QrDNUaty5zt/QiT9GNHMzRESfAQRXAHgbWbEf4Yik+Bpcn3EbwnLcRNnklnCFpJ4+BnGOkVDumk8Fx1LVkJ4WNc27s9+WXuDd7Mfb9HD+8n3mOU9/Gk9XCNNiKX54VhWvNudV0nelH/xFVgrbFNJ9YMClBTFwoowlOnfsEjCE1jSc84AtMx9EX8cObLC6+mF1ZZaUwpz2VEillSWmTEa/2AX/iMlNZ3HXcpyJ4vA9ERDwD5b7QSCxWAznnytrq5RyX+dtpMVPPVbLshcMqLR+Aj6TxhR4qPSnCCClxCya0sMT/JCItuDPgS1zyhLz+xSrhOxA/UhLbVGQ5dqVMrx/haDe+hhFXE8uwWVinvf2ZP7o5+/HhHFkxqOVDZaGXJyA96qhwKFgCoE3F065I094awU6dPZe785OEDKORFzrJmkVWqaiwdtuvXrjPC8yAWV76r0DxHoBZtSQdpYxtx+sHFm04VrdCZNo4K7vS5q90NrE2nz3ySS0r+ye/9bvf6Gy92Rw5u7f7ZP/6D7r/7n/6MfD2MyMWHy91G8tnF+pNNHNPqca73UfS2Qw9yWWAhmm0nN3pJM3Bp1qnGh3Z85WXbSJCj/o0nT6SzBk18lgZayEahZdoQ9XqPHQyOtrUIumI8xwNDDDtt3kVgmeQJLRLLWEVceOcgQOvY0vxyN81Jcy+8+UfdtZkH1M94t2PjItafte7G5Vvd7Vvs/hCnsDpEG3Y2ijBZ3w7gUzs79WcS/avuEi18bFuqjorJEzfJhZ2HPof195aNoQXThIT772Pq0zZNm0ukGtS0VfWx/OnfOyETuaLC3WDYguLnl22sxTD/5ipthVVbbW1Tvz77AhCZULJGWYYc5mMfW/tr4AkgyPNbPg1/mJxKQqqmgSk8MiqikQ3h0nAqWHxLjH/IpVDJk3xTKhuCvuQOs2UUz6+NJb5Byji2LDDnvwSdSq6KqwKxcI5ChaUrNGS06ikrXEtMGE5c4iUOYEthNiIi+EgTGIGFP7CF68pSleIiSkeFhCdSr8+Jn+QNTgrOKlOFuafYXMXRfZ0qHEfXSygrYYmJ4Q85OejO3UVGsLsxkY51hw49hwLe2128eCVz13tYzbqKgr3D9ZE7dzzLyHiGBj7fbd+ylfOzOTENWB5gsLrCiB/0mPFE8HFXLHHucSbzrVszaYye6vTo8f2sjt3APOQWThfbCQLjjCg3ONKwJ88JUir5pQUUK6ZN5yQXmDt0IY6nQ2mivMZ9zc5raXr2DmUFrBcPKDRWOdmqbn9C4EEG/dw/bP0usHjGTknolXqQTmvdlStXUO6M+BnJjXHahmkygpH+PGNgYMDCQR7QRnpZ/w2G9TlcrwnDp+q8qkoBuxErQZiIzoBbdxxJxVxeEAMjDRvqyV4KHk3t8n64qs+Hl4T7q0t9g0Jak78kLvwqfBAZHIjce7afElBRyqSroyDlF0dV1RbS8yedSnKEutGZlzJIfpuAv20vrQE6H2kMPHzANQHjfHNZOh494jfCp/CveBW3khPKQ6AARlpaTvlYxxPTjc6bM1WEfKhawa/PUmXhticVjSZTt9sJrRR2b72hXlMS0tghcZGSJ5CNwG9uz9rKNMA0PEFN5PS7Reaws52OqxzdEXH18uV0qnLpBOlVKCpVzfQTwLZT4EJPF2x9/be/ylTPVviQM9CpT++jpnJRkNu7Hbt2h4/vMCr0Frg54qcDYGEggKN0110wORX54G6AXEkLbrOs9PYsc+/kXmIl/g9+8W43RYfzyy8d6V596fnuhRdezBSHpxeu0AZefv757iu/9Xq3dbM3l813py/f6K5cm8FM3XWnPjyFWXtPLAdIEuSUHR3KRMde/vBkO4/e1eQvHeVRgoKT9dLqVrO8HZlFfrViKSNdBb5r13asRZu6QyyQnUe+Kx9p7d0iYZu4pMPO/QasR9dv3u6u3GALJYshnz1wGOvZlo4Zt276ta8Qh449++yvz7IdcZJ1BA9nu6tnbnAOOJa0zJ3TiZRxcNU+eQgT6YMAx0W+W/UKhyIxv/C6nUS8VKR+wtPWI3j2IIFZsAPoqS9A4fj2wTZI/fk4aBvpQcrXBUP8bEeOpNM5138IvGEDD8MAFmmdeIT2baHyM99KQaJKRxtoDSL9hadhC5LyhR7CJlKsqfRa7TzVxkhLkBz8LXTi5TOIuMhgmVHcKL1Us08vPjGN1WLGwxTSJb8GSZiGkzHbc8UjLr21zDeCZAk5E5HKhpH4fQpLh8u8aO8P/im7OKYyqPxUaaJSQIQWVE86ie9H3JNIGPqZj8ofPKOYgaVCDkjj9/HE17Kkl03jlpBFB/NuIMXb8punMFTUNVouc91DtnF9FP+Tz53MZRbzmLjtjRM9+Jr05q37NFAX6uxKn2T2tpfPzwT/eUx0Mp3zmrcRJnfvPESIbUG5r3TP7NKsxm1C84s5InBhAUW5wrnbM5e6yyz+cjHYMprb7SM27g2bbMT3utt3EUpcmLCDRriK/xqdCE3H7pudnOQkqM21IOgWeC0vG2ZjxuzGGc6evHTPs6ZXF2NKW6H3rnCwp69gVshsQOG7Cng5B0lgOiWOHS5p7Igo5kTqH8qR50h3+crV7uTx44gNOlXgkxE0QjeC3eoi4coSsKmfMDNpFSTyjMpKF9MnONiwCYhSUXh5FagLf8zTYx7HUXYrywjkhfmYwBUCxYdWKy9+85ORM4FV58YxLIxmdjje6z/xfSGL+FUs46+7dQU+DIPoZBZBQVSfxcXRRM0xy0/Gp9zQr83Py6VCh9NK/rWM8WuKOm0EfGuUTEBc5T3u/rVA6L0HP/qXM4cm7PQJjayznt6j0F+XCxr4bXe3i4q5pI55KPO8MXtneI+vNSe+nrE+Dd89f+IEo9TzzE3fo464vIW1GnVk7V34Cc5CLq2yqM/209p38lPQW1cAU3ErjM3/0DO7md74YnfAE7ngzYyM4Y+FmTuUbiTn5ttON6EQD+zbE2U4j0KtdSjwMHHt5DotlfqTJioO+MyOqefg5wxveNXFbFuYXvolCxfffOloN4mJ+Ktffr37zvd+wFabte7Lb7zcfeWNNzgQiLbLKHrL2Jbud17d191/bqX79ne/F8uTljLpu2FFpUXd9TJQPFxsaqdHC5edDxWMssmOhAT3aF4HEXZyVQBWrx1NLQGrdH73sC99mv3tU4c4C58OigvvlmjHHpXsXdAudp2Afk4N3Ls/z4La3d2bX3yt27Fvd7fADV5n77Mgj2mxlX5r4IOFjZxIRwdljKkPz39n8CHOOmlPJVc9l5eUkxt7vuhlP22/FDc8b0KT+cWLMlnlnbZBfer6nzzXV/mbXeXX+5o3kYVlmLI7QPk2P50phZ21Cgjh1l4SOPgyXbnKu8cDL2E/iU+FJTaPlrdgJnLyK0i+i9fQh7KCDLj15WYwMXQftfGJPJRb0OpxMxM1+7ATOf8HLrg1v0YYI4hki9U/9JWYAqT3UfFTGCJXoeo3WeRLIYZfhKRhRdwGPELDkQ/lICb4EoFCC6s15BIsAtNf5U2+1hVpaBXRcVSaAABAAElEQVQhYDWIHgdAmIY3ixFXo0AXU8BgPQHMqspZ5lDB2RNHHdAL5qACGoh5emjKR7/5KObiF15+MfO+mo7bIiDvfP34zMeEOxcIc3I14hKrfscn2MvLEYji6kH83t27ldXZ42MIEuaUPv2UBsb52Hduz2dVuFtbHs5jVuYULS0iyDRwcNTAAqQeZ0fLk1M7c0fuOCtmx5hoeoAAuM+COEf55E6v2lWjuzE7cjE8PenbM3eZH9/VfXp9BmGxgJBkQcqEi29Y/EaaJUbYLsyQl1zMM84c5vIUplX8nPdy36p1oSLtSZbfVAG9fbf53GURnftZvWHJ6x1VSHYW3UqjImd8wdWYdgZ4cpRBOMMBhDxCWUsPdarpTgGqUDMfOw1TXGThcaDWvv6eHGbNeqXnhkdlFnQvbQSMdUsZ/Kw7IPmehmxYSkBwNVL5rPi2hJMc3VzxR3uTbwldDx4EDMPwORYEQiOg+C1BJrVQzJQ7PMxzw0RcfAm/+p3nFsH39TZc5SNuEvP1ND7DSBvGu8o6zjS2C/14tMU151OjQ/lVqH6hO3WkArFMjcYxvXsuKnFcbLWAUj5MZ1Tz+YenT2Gano3inMZq5B5lzdPT8P9D2oLtTCWUbXVkKF3kFWFb786pb6Henz96qDu0d2v4xzbtyFgeuM2VkW6P8/AUZZzb7TRWeFKYOGpBg4OSj7ymfMlWL2FQFcLyqs17KPk5OsMehvSQUfr9+5Pd3NJa9y/+qz+iA8NiRGAuofh3cmb8CyePpbPwU86W//js+W7Tlh3dH3/jTUaoj7ovvnCi++Xbv+hucue7liuPFl3EFD9Lp1j6aOGqznCdOKc8UmnrWsfUqa95LFvSolmCYDngbTcWyvc+o3ra4qED3UNgjjAcX5FWWBGW6Sg9VHZxDOwKt+JtP3C423twf3fw+LPdNhYwnuds+T2bsAp0HCyDZYPkTMdA8w3bu50v/FY3Mb2nm/nw/e7h7RvBKTwCzQZtCRYKF/Ws1HhAaWqjkL7888GH9m64eSCt8zxQrngWn8lx625YERtS6XveV+9UNnCscPu0Zshzm0YpaPgN+Nrnz3N9ubQAgF9FrzbxebH1S5ZD4IYeg2vepQF/dsjVd9pwBs4IKdTAJ2XqUU2RCamCGU8XcCGkqlFCIkxCgGqcgck7td4nrXRJ3NIbbjBxAs8s+JiHf4VFS6G/4YZAEF6a+SLJrDz+FMBJKe0SQPxUUgm5nAxGhFL8Pcyk6HMDbtIJJ61RhOiZ8yzzG8vn1ls0rgJDk5RmH++Otnc2hh1rM6uqnYvOCJt0HpbxKSNczSV76dlq2kvWtKRr166w3/c6R/DtJmdoqaJC6Gg61KSVeUtw8wJ6F6VsxuR2/PgJzhNmZfpNtp7EVPKYrVzbSee2Gi+X98Yo5sFW2VfLZew5uAMlxtQYPWb8l+iJjy8jzByZYzJHEGjSk64K1tsz3D+7Oks+JzOC9sCUBwhSR5nSepQOxQimc+frcgJUE8TQx2ov5YIy3FijW0e25mEBW0OxNu3QMBboRpYeIqRuYfLnBC/qLPWJ0Ig5CAnqKFqC9W1OMFVX1hnPqqIcqQn+/uFdi8NcUMNLzY3C/NRjHemY+YHU0wL7jrUYpAcu/iaOEzJY8upITlf8EUzy7pfh+ltPQQSP8PEATpU5mPZlGyROekIaYHC3/qSN/xbYOnERnzxY5TfAsMIpBIiH/kWPwWse6kt0+pR5oBbX31u8IZwNDB6hqBGgLFn2uVJUqa5386nXeBELyZAw+clOFyVh/s32VHiET0hqfXuEpyZpd0dMcxXqbszRp8+eZUvdHKPgcRYt0kHlV5PzNuasA1N6k7e52wkwnnzn3Oo2FOOLz5/A4rQ3POqk+yPKZh6Xr15jISHmWlhAHCM3xGEZMzYKOL7E9aAkrUwbaTTjG3Z0k3QmbM+2SS/GcbEh4OA7r0z14CHmepfvd3tZ+e6Kai1Os2zX1HhxcP9+FOZuLFkPup/+CkVNx5gjzrr9LD77ystHuhOHn8k8ttl72t0J2vcnXFepPFEhy09aA1wkp4leZ12qkHXiLQ+7HiQdPeJnbhnFvMzFGzuQDVcufdpN7d9DB2Oue8TNZxLOViVvLztydWqGsqxNcYwrSnkVWn90g3MhZq52j3fs6+Zp827dszvPD84v2vAkdXZwpLt7/my3NlOKNY3CDAApnn6DUq+QHQ6UQgquaXMFq7Ub/bVcRH4mXao6kD6H3eLf5LI8EabA145K5EFhEByqrTXOJoD4hWMi5Wu9PfKqj8jHVTlawQAf+MlzHQrB6zj0ySr5U99CFZMG3eD4QeDsxBwQsk84iJiHltBGLypPuhIchWIo4iPMG2fD8d3XPukAdsXooxFIQMupnnskh+J99tEUEnYdNxut6V2pnYqm0ZWZtRCouD3sMAVChLgpBxlYB+JsvHWkVcrCqd56FA8vwg9DEFPZffDgwQgPTWVelelhJTYsF2EEXL5MB+MRX2XryPfcuXPd0WNHaeybcjKagW1U7zFUXlnoaCEMEnmEgCNvTy3zPOpDrz/LqBrztduv6HVPIcg20MB13gzl9pYVesGmdyuWF2o8QtAsIllGMCFv2bqTAQOmMzoEppMxXfTidY3jzDEvYU7fteuZUsLg4hYSD9YQz9CORuuiH2Wl5dXg7chXZaLAVKg6l+acofsvXVEeE51M0dNQ83ZM0vw6/74K7AnM1JpC7aQofFXkmaPjV2WdU7zIw3z8CIvo4IQSQFj5a1ls9m00rr+CrDpNUggaaS4knnm4PWdurlY1h5cIlxP8cg2DdPfdfFoD9jm8QHr9hK1LffHb4sUzX6QwUV9+4/kpL9MX7wonz8CtQHImTGRU0vkNlHWcAJO4gVWPfD/pklQ8eeijA96n3uPJ6HkztEfiqae8kr7lWO8RTn2KStv7E6+sCcQ3OwNDswpXmC7Am9a/N7KJ15FDh1DWO9kjfI11GpeZLquTwdZQnltQIKF3SeECAkxHIptZa/EsaZ/B1L2VrXVedZlpNjqS7hq7iRn77CfnYraGJYHT5EgpDktEjYaXPMrVazc9y0DTrqN+cZev3Droquo51n8scDqO58TffXAXvh3p/tt/8d+gpL3Fi3u5uXltL6Zqz3p3v7a8+PChR3eiyjlGdg2+lwdhND41EnbXxDY6Aqsr56OoPfVOxRUrEvg5gs58PPCsAzuhLvDMmg5okEVltEV/5THXr9ztuCuAdS6bWDNzf9nT01SE1gfKFzqmjfDKE9Qv64fTVZ8yBccegG70AR2UrYfoW9BpRg7kspgwpGWa625+9HZ379olq7WvY/lTnuZVuLYPcAvfG0V/vtonbWzwbrziriwoC168W1fCB+7TDnDlG75q4cIfipnnkuvkPghobbVAt7SDYB6IK269lziXW4/rU/M1zPeQx5fetdjD8VrY07/mkZPJAralbLEaAkBaJ0hFaoVpUZ9ISrrhcMOsnH/IWQ0peiL3MT+nBI0oqTbCK4rEhmFhMPOVubymTwVSBHXUOwSzvItwPKtEv/K130b53O4+/PCD9M6N3cpQKPEtpYUzgFWM1SrNxWHug7zI+d9uY3I++NChw9l/LWMWE4pSAbC8YE4jXsu1kR5UoGCaZcXzKPNVLb8N3n6E+dj5JqqrymjZNPOiYI6dPNGd4oQmhZDXcL7y6mvdPD1nTcdSQzOw1gPLYYNWGWve8wxrR9nCHudoIs2DChuVpXOEaeg00mf2HWS1tgfcrLH94xJXgO6NwFpAYAg7FAd4FtmA3zjz2hNMqJhe5enhKNJFt7RID51frzkcIY4dlsyVi0c/AgpVsEI4jz7HcaXua/boVemuBcK9+8jnjHxcJOTBHtLKrYL5QF8VbEZZ+EEwpS38UVvDVPwgDrzKH0YBbhNO4E0HoOpeTHXmXbUlDEVXfPt6zItUkPfML3FNVsI0HRlxFg/irdd/0E5y/ez86cTb9xKWhUPjRdPHpf4LXvDTk9ces4qWlz5+pRp8W2fhyaQogaefuDcog8j9w+dDejpWvSfrwHoyXP8oAuiPGurLjC/v7mfWCvKAvfhnz1+MsnJ1vZ07KbOFQ1ROHD3cPYOC8SxtO4vuDnBhVHALfVWcHBTDnub9zzBqZeS4BQUtab3rXHO5h8zYHmbp2H6CklZxb8qiSjIBkHS3DrzhyvUOqRbKIn0mN4FrqsmObB0Tq6IWz23MR3/jd97MhTwuwPrSl17tfveN17vnjuznIJjH3Xf/7lfdh7/5uFvCvL956kp3EjP8Nm5s++N/9PvdW2+/0+1ly+Mbr38xnWrXfDjfPYq1i4ri42QPOICPn/CHNIN3Yx6W1paRTrDhXtySUWhPE0IDJnvqYal77N74nf/oD7rDxw5zDanlJIItEzi241jt8PFCI6fHbt1F+XraGHJ1TAWJRW10ZLbrNrMdUwKRjziNrLFO5dS73d2zHxKOxYpOhi0n/ypb8aUNp52YZUKrbYmjH8up8zcfy/aUq2KZZx8wpAWtp8h+IrV2U4MsI5N3T5NKaRz9i7tN+2R4y8DY7Vn8fe3TBF4Lezq96Z5y4jXsNSgEnlY14dJS16D6nJPJfGilXg/0qQHtf81hPYKpeAXxPutUFn5GqwI/FdkEQ64hNOSVx/Wqezrk73s3n8LX32pgPQNJGFeJU/jCj3j1T7xH3fNfeL579YuvMOLzirzj3d9+77s5AtT3viSBbRllHQvX5k1aecVKM91Ntkx5YcexY8e4I/cKja0uavCgfV3qNE+i0OPMj+Z755w0ZavkV1ZqRsJOrma1vayu/vTqFUa4/fGGwNDM7ih1CTOxRzyqtJ313eBiKUYZz33hBeaoaWDglJOQyMcGOTrqylkqnlHpiELGBg4dbHAZMaJgt7MidJrFL6h2jlC9DBzPR1aJeGvYDRQ+ClcPy8C/6RyBu92pRs82NFaBovRd1e58ugtmrJcV8lpGaLayWIa6AavoEwsFhHLv9ZVrnBo1diDmwgkauCOa8Azhjig809l6qtuRJrqNj7m+cAIhCm0UuH5ArxoWT62+NCFah47IltmiI81sd1GOEMl6qgZD8QZ8Qzj+EWjAag0q+AS2Ycbny3j8toVtJUx7TwN0iVdCJfmSabWZytMoLQ8FZ+XTJyOsFF4QJbsgVvmaMK73a69P/bbQ2t/f42QcC///0w0vOgs0wKe40hxcXTvwGGVpue2gKMB1S/DFpStXur/52+9zW9gJFn49S11qOMapYAGyjZXKk88eIOxA+MYTzOx0VF1rEsYkDt9lVXzaK52kaCK3Kbrfv6NjfJMLPjD9slp88xS8DB4RvghtO2Mb6Vx6TrcWMdeMSHv6qcxZe7GGvMMlF4TbZuWH6WmmmtihcZyrVL/y3FHKgS9TQeNsV7ID8pO3T3X/57/9VrcdvObYY/3RKU4w5MCaN7/0cvcc877Hjx9zxMT2tzXa/47uz7/9F9Wppl25iO7atauM4ln0Bb62H9dfpOMOXo645S/Pmnck7dRbrE2EyRfFQ6g8iOfOjDUWku0/crR7hmmlZ7a5XoMrKU0XpepeedYHKK/gA6d/vBvbvfMz91TgdpqAQ5lWHmIxmNwmI6Z6Hj1iuurUO931X72VuqYmoEyFST8XLDoNaPoBh5mHlrHInrKaaU4Pr1NPlmOMKYExdtRYx5rl00bCTA0KAsz35uLdwtqv7dUI7b2xue/rflHw+LS2Zop11+LVb8FroS2svf/7f1vbHsQExPDaq4F//0DfqxALAfLsuwWBKMOxh16ezqSUThFxKNpw6ieenyBEiFyVZ1pz7Vms3qSI+PDVqjhJCC02qDRJZ4ULQdx7IWDGISrMlZYeYKXMn+FUn5deeinzS8Z77uTJ7uSJE92ZM2e6n/z476KUVLYqHz/mm7xFFPjm76KNKAvCX//S69mCcQWl+uGH73f7gO+eZRuIZc7iIxpj7hMmtTiLXPDtfzfSu/ezssqWDUetQZ5oCLNHSgucjG0nQ2V37ep8FqpMbBzptmzbidnWxWT2yLlIhEZrGffwkdHdSuU8lo0xIzgar7+TKNidu6YRNmyzQDB4xvj169fw58hSwqvXWfOiKmjL4olIzsO7LSz8AOXLnI2wQ5BoHtRkJw6OrO0QqLginGUwa1MBy2cF87z+0lilnzLTSI1/mxu5plkIJKPWCvFqyMZ1jnHjGgJM7iDc7Vr2nmtEDX2BHbqDmxaBZYS6g3PNdaEntDV/F7g5WvdiBGnu/LkdhnQaFG7EMQOr3S+Fr06rgR6pIr+ALZdS1MQ1f9Pkk0i84Br/W2Zd6oLfVteG17O0N6BgmJ2v8SSv4mf9+gj2NiS0UQzH9R3/ehl8y4vQoI8ThAkL7EGc/7CHKksDtJ7m82AZq5UZasMn5gkNoINwHqLEfv72r9gCPdqdOX+JxU5LKOyT4R95IdMoWF/GmH91twirQZg/NSc/8jJQSWt9Za87GQrXvPz1dD5vm7tOZ3MUC9hmrD9VLe4gsB5RBnrwWePY2ElG8dJ82TULnjbGKNf2YV4ebrKMmRuw0JFz3BmlekPZJB3tLVTBKotAb2A5+n/+8tvdn/3ff4Hy5ywBMUFhuYr9O3/zQ6Z1RrqvvvFFyoWy5Yjd21gI3vq7t7qD+450v/zgNB0OLh95uMrI/ypUIi0K1XLYmZDH5Rvbl892TjMFZOcb/MN78i0plYquzZDOW1hMt+P5A900MsbjT8e4mEPZaltSUUnJCY5mlds1aT8GN+mm/0baKQGYvGmD3sXOGexjU0co7EL36c9/1N04/R45gR9xR0lr5HQQ+BW/DATAQ/kljqI0zpflqDZQ8bWiuLp/jKt1H9H+EtGMcUmHl/jwElkapHzHpQyBTXzzwi9p/K1URsMRRrgd3h5afP0yfrn2278O/Zj2SWepm4N6Q+GZxhzAlLKWfb081pFujTUBjziPQDpZtlzaZAloxFn1XT3aFKmA2IIDJ1+AqLBA4yvzKPyWAG++fRzL9kTaFv45v0OFSSjpqgASuP+jEkNww3qJgsoaAGsgInSSHiZQAlD2CH8qXGd9pALEDSJ4Es8LLzzPFXnMtah8EqtGqicZWb/22qso2Qc0kk+6Mx9/jOK6jkJhkZXKBMWjyVwz8IkTJ7qjx45hxtrKOeCnOe/7bI4JPYnSTxoaeRqJGbRM+rz8+TxWsKKmPO3roXO7KLyYjkdinreR24M+evwER/Vd4zao67xjonIOmDI5n+yEOdnGPDf34Bqj6jvgi0JjfnoTwmdiQwkuKWzj1WR2H9PW9U8vpbGbvwviVOiOzsc4KtDLDsLoJJGOflSWjnJdtW7hajaYJ+pMS4BnM7f6saBuoxGmi9Ayp6wBtI/g3lKPJVUYut/cueLZe3ey/1Ml7b7uNXrXmi1N00bNJtd8Ge4gjvPWTXCJYylbDnRhlKDpfyOCrObPHR0Aj3fN/iMuwqOD47GVTg0o8FXeUXuD9lBKVUHSnHjIs36qLl056lM1xvjzKp66Rjv9df7Kp+KcSOA87Cp9wTKtZbDhm2YtlgHwBJQ4q8ys05jvafCmVc7FqYh8SLYlLHzVr0fN19BrMLLQAxjmm8d8V5r+sZcFxQ8N1xZmKnFTeCcfYImjI8IxFJl+kcPw6wrlf/ejj9gR8XH32M4d9P+QgzeustjL2+n2ctDPsrwNvZ0u8k/YzamkXbWtW2KfP6vF4AXrxd0OG5mPvtX94Cdv5XwBedsulFu8/AveyIuUE961Lur0MDt4j6Oc7ZtltTWmYtufcXJPN3SX51yh/S//93/D/dmb0mG8zqLQq1cvZc/3lh0uYuN+czq2KiTb6RwK8l//m3/b/fV3f8j907uY5mEOmDl44W7BCuWZ+lLaP7dUug/as//tGNuOlEEUOduplBHhB2jrwMJ3221TgJavao3OKgOHBSx3P+NMhkfnpGKtKUk9yLfyCfWtordyNEas0u7WOEL28RiKG1D5SLfVO93yneXu7Hd/wOr7qyj+vpNNbtazxLeTYD1UO7c0pFc++8tL3XWuTqk27cmByduSN74TDnRDrcNJfVrCLXMAEm7U6pyYw2dd5fxZf0nTZzMIXM934MVDMB/yKJkz5PEf/NhqoyUoekNPEIHDIZsdV3K0Pvi1TY+vI1kFjLmDWLWYyVQFzsh59p2oFvzvK7wZm9EgcYEYfDdCDCgUmDTcHpkyxzUYJhO3dYGxjpNhPUI8pXdEIRtcC7qKeVOlIP7B2Dz4P3bsWPfa66/HZJuykV4GLAXiWcPzlGGk+8IXvpBRd+ZsUWBZjEKPUlw14SmohasiOIypbn5uIduWnifdx6dPwWCig1hgpNPK17C2cRTb6VPOkjpiUzB4Ipk9/F++/cv0up3D3oppfTsrYT8+dSoj6p2cYiTDjk9x+AhbLtw2kkZMxjZWD3xI77RXYNkixZyZwtIR6BRzeNObt9JQnK9n8RZllm4THIG4xtauNQSVSnMbpv0c6Qh+KmjpnoZC2a3rKEtgeoymB1W4Crb2t9rYawSgeVxBZPtSmUySn7D084CFLZjI5yGA22FU3NljDv5LLgLCYiCx3IJlXYySV410xaRqMCMqyu2oX1r7kX6hqds6EXReSuK2L5KkfikoStqTyrzO8j4mzlLuWmQUUjkRTYkIXL6L1ghCy9LyUIi0ujWOGVYYACSOn97VvKLgbOiJGmXnu7ykawqvBGy8errZgBV+4IHwXmBLnPvTtWTo3wR2tu4oIFEojmjER0Wua3hSYSmP383PEvocHkjcOrEqK/RDRdM3GNY7qc2jL5+llNYFj/bRvycjng0X15z+Bp03TcJDns2A0rrDmo6/+u73Me2iGNiZkFX3ZPZg/mZ36erf5BzrF7F+7d29l/wc+Wo2F6ajEDtLrLR2dGhZge2NUfLxDLfMfXTqAzqhXFZBB8uRjjiKTJ1xUHxS2OFJGvH3MBUVqmslnLp6pOKnQ5yyAVtF7sle4qA5fCtbqA6ySMyDetYwFXsx1UEGAb/4+S/oHNQZ9Wk3wLY7Zad2w+Zt3YFnj0Fv0lOuBfjWG9Y20SblE1d2ZxEmHQvN4nawxUuObnRugybLYxsUv+rEGqPqUz/binGd5rrwo190d7Zd7Ha8eLLbuo9rMWlP7gNX5hs3uzn4hXmKUPjn6lXeVJUQv1vkkp5LH77dzVy7SU/IDrBl6mW2tDWe8ekI2y51oV2e1r9SFtpa6kQIPGRbJW1BueDq9eIXZWjFanyXkadlTF7i7YCLOPkXVoWUnDJP61A8fC5YPukCu/Fx/1sh//B3w+lJeJZK2vXuyazwLDwMTVnEv0iU93RqwMHLedqIv9l+eohJmTxVWn3a9bD+STQsfImMoWATJN3fl3I9rjAGjsxsmAPHc/781d9/Ggmx4p96H4peoKrwg/jlGTyFJZOWQHmcEe+bb76ZLVNWbhE5VZxUTfBIMMtZDGDB6B/6sXW2Ig7wIBdwVMnUwf4r3cuvvNy9y5WGbkfSif96wnjlqwltXxKDAo7b66fsD2gQLsoYxTIgpg8REOMLG7ovvPJKd5aR/rETz3Xf+P3f6/7Hf/U/lwIShrRiC8rk5AR7nrfS4OvWM6FbrzqFhjfq2IhSPhqUI5IVzHUK/CbEjCtNHYV48YCH7auAVbTSxobks4vIPNhkmn3ZE+yrVlgolBViDUYzrZmn88t2EszLUUCbb/Y9nwgp6AZ9vWHKbSrOO3qwg/imM0cnImZ8yuVlGfbiFazO3/nRSdsISOrSc40VSJ5yNYVAFfgy5fX0KY83LQGgIMT1dPInjaU3dxtk2RqP+NsEgc/Ff+sNzPcBi5gYF5b2C2caD8fw108zb6bgCde8OZGOo+U2L2GKV+jAc/zweIwySQcDPzuHmWop/WxWT+AxAu0ChDyDkOE+45kOEMH+1r7SpuSNRH74C0x8nTtWIQanpO/9+/zkN+tAHml1QxAdLs+Vpo7ghRXq5K+/891uFguW7BJLR9qY+IhR113keM9zV66EZ/Y8s7c7wOppj6y1U1rnVJeS9g5r9whfvXqVjuUcOKK8+HOfr2jDkXTexV95YHGgJQ+2kSgoR3uWXd6mXNa10yZ+8E1cR9DF33TSwd/4rqZexDI1STzvbH+Wdvn9H/2I7Zf7uguMXt2euZWRstMsWqc4N9cKZPfFfLZYLlD2gxyysoVLWL705a923/nWt7pJ1294RKnKCjzTGSa70F28pUyjuW8+V6EkW/9O+fs44um2NE/227iBqbMLp7t7N7d3e9kutpujTO2YWB/hZ+Iq7/yR9e3wLtJ+Ln1yvrt6/nzuHt/A3nBveRMPj7okd9L4Lz/4Av3SmYHW1OewnLM8OjvVmZfm2bpy61zmpulUOWiiWih/uzKzeE9+C2ICoDwFyc6EGkkYBvSOuIHbEhA53YI+/yA8eG6Jhn8L+rpPK5s+T4e1WKFET4+eLi2o/01d8SxNLHZ1eA00baW3LdfRqegDNGTlZ2ycWSea3hW/9y+kMuLuCwbZEta+PovSeuUZp1VOi/+Z3wFciAFexhdZMQr/9Q0FSdEnBcE0uhJcFdcwkW/QhQGmRHUkpsn6lVdf6Q4dPIiQtkdsIQt+w79GwPg2Bje/0IJfyWS2rXIN4j0XMvDs/JE0FezJEye7i+cvZCVrEgWIgACCoNBPGiskzCvl9R2hpmKcxcxtyTxC0oqsHiQH3zMy9BhPb3OaZXX3//q//G9ZfCVdPOJzgh6uvy4Y01Q87rvKl9GHyKJi03B8FhvFl0JjjDzHEBSeSBYlAO3D5JTVeCo8hY3KcZGTvITjecQ2QpoUJxmh9Nnu4ZYw+u40cGCCt0YOOz3Gc/GII3yV9C4OTrExKlizIl04Nvz0wllcQ7wRDmHRbL97D2eMk58N37l2hYll2uDomGcXuI0hgcTXEXhoCW84+pLG2AZS15bjHiNnzzpWsTtCF69WsYN6BV8d3JPf9lMvn/0e8ArpksIqzgP0BpRwxa2Z5wo/q4OjVLnJrPgDhaJQFgL/UXCUyy1t1v1GtsqpIJoTQ7OwfJblEQqvueTV860dJEqZoMS3zUAPXeFtKH+JQu5adIhj3DQc68+6oyC2eZWsf0UrzMD8iZ+8H3hV8OBkGg8T8QSr4XaVjjftxLr6ya/f7z68cCl5uNCQ3JHXSOjQsnjPkprfHBar2XtnulPvfUgHR/52ASOdTPjc+GQV/qwDTFh4llP16EAzDfP8c8/TFjlJj/q3vusK2hL+FlZF2Kg0j+INj6D4B3vtCc0WQenAKF7ZMwrPeTOVfA6BunOUY4kR9Yfnz3EC2jPdu+++SxuZojPIbWDwedaZKIyA5cKwG6zBuMBiMTuaER0Eff9736NMdu6lNx8bkAjiCkfaK/7SWplWvATvpEqNLy1KyZqmrBM8yAeiTf25GNMjg6XTzOXL3a0r0J+2t4EFb7ZFZYB5uIDLdTg5lpjO7OWLF4LDhB0feEEuUYWETyyWzEi6YSevhD7EG4TwLN6iKtV7lhlKZhiB/lcGhPV0wD9tBJ+EBZadKRHxo785+QF6nnmsoOLlHkbytYFCB7NJFD1N6luPWIqFj7AKXIitT1+OJCCFNVZ/QiiAFZZ3vsQ+jAqgrPmBH6qMBdu2oXOAkKZKfLaoOv8AuW3UvbOiB6Dj3cIaeSrigAAt4T/020B8ThwLPsixjxfmA0F/C5lBjAFhEpY40pMyhKhPZWRB8FLxiO/hw4e7Nzi6r4SfjVUB1BqocIrhB4JKfEUwPwrdeq5fEV+nSZ4MBxdjTdP4NNf9/K23xBLYAfOZr4w0wK85TWruh7YR2XsXWGgt0MCgkaMsNb/euK6JPqye5K7edESvgFQJ2jGxjHGkj2Wh3gpuKI/KBWdHFI6qXRXtczFlCQIjO0o1ewWjpmrfM7qizHZURpE0thWzS1oeXA1vD1kc7HwQQMekcHRFuPRWiCkAVbzjKCpN8uLuKKwdRSnthKEQ2ca2G+f83IZzmysBd2FyNNy5bfeVO0LXWYepJ/DKBRLAc4vOJHgIKyPRvgXmCk3pjX/S5rv/eqriLJt4F79VnNQPj+13PbkUs+KqPqzmdOZaBODkHuD2blSc3O70hIpZ3rGTpIAV55aHkEXNXx8G/sJs7TnZi6+RdIOHeksAaeGXUs2KEeK0MoKPIkm+yfx4QgsH6aygcZ5fMAp1ZZ78qIe84Va/zHn32QIW55dWmjEO/rnRvfXTX+FDp4z4G+mYzbGi+jEjTuVQOnj97yRTI45M73N8JZILnJk3BS9HvtZ1wSVv+MciLNIRn+foXcMOHzoArLWYpnewlcq4rQ6lrZYMtzia0Hxv3JrNGpVlLsvI1A15KEyVI16UYRlVmpqmPcbTjqTHbmpBuuMtXXSUf/GLn9Ox3cFWzQcpsfHnOcdf2pq/9eXVndLb1eCu6TCtStqtk2lbFgTns3jaOZ/YwLQHi9lM55/Aq+7hd3jctSiTLMB8RIdBfql2C+5GtaL4X8SSZPdNPnGwkvQqZLaGZVV+ogEY+qp6zMfz8LWciUtTJuJG1MCVJk63SZPmnJfXJU7v6bOfOGhQ9aD8pg7BLxYa8Ar/IIfSzvQXd1z9tud4DX0Vbw3iEC0qdZAeD/L0z/88U8bISIPKy+/ATFXhr5jgJ/jlp382n6K9oULt5ccTuJpNwatkxrWcvlVYC0+0Pq8Klz6wuwGlpAtQsrNQBaLhm7d16j6ZsSkrfkUb/i545WMxGmR9Qqw+sv6ZI0lvglTBAV9+U4j+PdEHGfZY8p4evQwEYz6BDRQOU+HtkZtf//rXRV5pWb88C64RyhdHDFn92eNW8IwlWn1JTYeXqSvEUJ5E3Xh8HOUdOLA/i86yrQnlM5TcBHFWiPgrEDySU9PypknKjV8xkBkpfJJhfoVjHqYrIIWPc9Cah3fs2IlAcX8yjYbIqInE1VRY6w8KFt8B5GIOAWbrEsymoqzy9HkmGogCy9Fbyz9xqDMFqo3YhUBuxfCeYjsMKmcVsB2GKQTRJAlzyQTxzWOam7Wci87olnd73uk2ma0ENl/SaLZ2NbkjcXv4nu7m6Wje6LWZ1bH6a8KWXlFu8gLpsjqBZ+ehnZv2gAxPZlLQxXwJTTczp+6zK/SXyUNTXLnKv0cj8PRPnfQx2o/0kBNq9FO4G88yKCxlNxWBOBl33RGAS06WOXVsO+kFFGHGt140v0oz4QpTBswKYHBXgcThJyxS1zvf4mCJSnnr3z4VJXkDUyyK5oWzuJomwh6zuoABlfSGxeoCvpquC6dafxAYRNS0LU8Lo9p35afCwYsTwW53Fy58yja+zaw6XqC9uE5inHqtuhHLpkRUcu5kcDolONExpFbpHRQ+OeUs9YZCQbiXGbvKLtJ37swwGudIUg4jsQyhgF84cU876t/9sSOY8hOz1ZDWKdu07crV1qvwe+QOEayftb4tul3wAXxJYJS9ik/lpSUsHUEykIwej6qzxqTxPe6Vzi1WEgIkTWd84S2yTcz1JyphF5c50NCM3nZ3BBC42iE9fOhg2tt2FqR6fefMzExykZHkCz/eE+CiLsuYjr5ESWspfgvT6ScexDEe//mVXr43p8j2XVpMc83pNItCdfLBVVbZ27ZS3qE0AdYDMG2UskxhW6G91ru/1re/6/n3yT7zkyLg+8QiZ4tgTANFuZehjc/ly+iMPlx/0fS14pg2/yYmeaClY9IGtMO0SBHFldjD7sk4FSoddYN8fFYO96nrWd6go66ALH8Tt0jtF68qpg+JZkiJgnj1vuspm6+/9kAbEhYghRhEANJwNoanxo2gYrGwCiuiJSzsLNT+gyfOWCoC54btObqoSwavkP6bqCqMr37ta2wr2hsm7+sl6QPJLzxTtr4yGnwiISBpzDSgzIcRbkNu0Yoe4JUKInLggBnvnkd88rnnsvpTeGKUT4pR+WV1KvA162rS7kZY1MW51AxjyLN6vNkXSiXKtMK154pBj8Un7GdE8FHDgSvlxFMlr3i2eqvxowT1C3MUDo2d6h5l30ytIiB9w5S8wrwAEk4WA9mgUg7wJ6LCdAOjjA3iy5nhKtqtzB9uY4SrsHZhmArZxmYDzMgDgesFGTs4e3iGS0FcOR5qCJCPMMxXIaJCyJGspLnF4iBxc3rAo0w98OI69/wK31GEp0TZ0VGZi6Onmj1m/6ensW0jr92a7lEs85i+FegKvPt3R7sjRw8Cd7K7dRtLBtskpFNTEiAUXBrtLUdrZGQyqE5lgDyga3Tx1YamydN6aw3WWMYR9uBbj/wX91dzMA0wjMbHdOl8WLE4FVJTTPEgRqFggnLSUXxLsVrHOL7W83e0VfVsHaiQvN4w0RiFms4yjCpwYbPUY6+AFXyOIsMjIFdz2jwAPM9m1ecvf2s9GuG2LncifPLJJeoF8yt52dY1Md/jnHdlknmYLoiCk++eLc/ZWuBn/YCnCh/cLK94l2DjWf5U9oCrcOUl6/mTc+eA7agZ+tLxVbGYR/AzLwEZSlpxausrDBKW8R15l7WnRuHSxjaofF2kw6fiVDGZ3ioC8/BlRu0oUddCGF45kVn/kLPOyUgT+JFjx7szp0+lPI12oubo210Jdthsq0L3o6IRD/FULjkoSMeVeW+tc2bS4lv7du68DMQLN5wiy5WhnJrmveOBGZyEjRs880AGhQ9WWOnOX+hO1NAeJL1T2zPGEw/4thl5z3ef/X3CkSa4JR++eK/1SvpWOW1Xln/g2rOg+ueC2n8bvwVQ++uOyDaqvhz6Z3A4iGs+1a4qv2qHZr6ef6VP2pTl/yPuzZosS447v5P7WpVVWfvSVV3VjW4s3c3GRoKgDBTHNNLY2IwZP4i+i170GfSk0dg8yEYmM41IDjjEjECCgIEAutG173tVZuW+lH6/v5+492Z2NQiOHnSq8p5z4kR4eHh4uHt4bNKk8ggqRiQ8IYfKOmz/xhR2GYnSpDBPcH58L3kifOQY76apAsvclRsfC1AB6MHUR0uTZPkZeRwAF2Sf+aBiiCfhvRpa3lslDZW04OVwhQsNtpLwTNyeIJWu0DZPv2ltkqQb37Rp9Je48WeD++jjj7tP/uAPaEi1lWZ9sgIKq6QdkisAGoP4LZYUdxWky3NW6H21Sg2lwC0uo5Df5BKYXmZ61ec5nP0ch7yzTy5lSzruoQPpFAA2sGwKQgOYYrewvW0scgTmm33cuJRvl20Tja+Q2kXRzHKCjUJhf4fN9Xdx6eruLkRjKY+xYT5zU7tpYDt+517Fso+kVVkGTcdvKX9TiuIf9xhpUgLK2xqaRpAEVmCTKGWQhrpEp/o8eEyvyD2CF1CcTvZRwDZDKoeDAGeejRs22FM8k9BQpNLIXoNj9elRA8geug3cP5fu2EOJooQhMk6Ngs5Z3ioVhgFcB3o0tPN4T2mJyw38NXB24Y2lxflsIylDucRNF/gixwsq9FZwve+wJnaesfx5xuievlqPEjBteRYsujSEV0gvX2STGFRm6CQhuCR/XQZQZygecZBmjVfaEJOwFG7FA30yAQyBVFsk3uCyHkkRju3bQlPUxXtWDXmBY+COgJV//TZ6Waa0K4LfQD/fLYJGSvDjeZwTkgo2gtlyEMFv1isPycf21eAnb8rl98QRXvJGEZPHNrjdun6LbXNvcyLTuSg+e2CvmSSZckkT8eCeKwjVM8HJDyzyyR6hO2CJtOXQKySdpZDhidX/WAceiGPofm/1DCfuVVYpj3nwl7FoeMT5HvKpxtCQphonGghVh4VNyRmVYHPdmpdpxO0IvdtTc6ezR4E9YVdQZGVJn3W7aWzaHtzjHQKjaFmNIC9z2StXVji5SkPc7441KxNSbowP+eEFy9ocU9aAcM5HCgSukWGksi2fYfzcrVWVm06C+wXzBPaZK0H1ANUS8cutlY2AXMUjlqu9C74UsbGVY85h8TKuZW/fq5NQ4X4fwB488M0Pfsm4/DBO+C6CXYqaoMfAm4gevvog9Ur7bH35r5IQoX1oaQ3yuwzA5XPuxOtzI0mlqy9+rfLVk791te8NFkAj0wwv/pNnoZt/hBVOolQpW3qxIEUpaouuVAgOIso/PwffQOClvwrRAtzC3nZPPAEcyLiAFbHMY4iOj+298leJaJdoXXNzDDQq2LA+XU9QLdT1dScYKRxSm8SpvHx3/OhHf/qnIULGLPlahStIxvQy/6oHGqWoE9YInQZIgD21PdYTZhJABAOBRHattBZ+ZrImnVtm2utmRyRcvu79/ZKJI1aMvXvhNlq6QYluW3sbbBVHz1Tl+aJ6wG46oHUPp/rPCV97W2w08up1ZmALS+NjYupI8Ndynxqb4WxgNwnB9Y1wnwLfOgQDCJTLscBYt8Ary7jKaZh/XtXwy42sC9teqIylIFapSg/zSn5sdVgTVhgfw0J37DDHWoKXu5O1eN6tPWd4p6wIJJWzwkZl7nOYVyRl4AiAwq0pNatXYSWenvLjpBY9EqEPaSbo9euV2ERYSN9dvnVvcMED3yMMM4MWPtIzMIHR5bjr3D44IowdH/XM40fPV+nBUj+U0avhJDz/spsS3+WtUorSCz6gjqJsej4ybXjZNJTF84DJuWCAVl2N5+S+MpzkO69BlHqFxtR/2QbByWCVpII3wxF9/QVH8Gu82ycf3gAsXjKDQiO4k/tojuatAhiHTnoojFPxjDaCmTQgyPwN3kFRkCp8rvFjmsZXLp65de9h9+vPrgNjovuQbTNViC/g/UfPPdOcYPg/iscspGku7gLnpsD20XjC5bdiIB+k8TANJSSO7zTBGL2LnLwlTYrHNaKH+2Mbz+wCmx97mvOMictHr+mZ6oIFWnDTeDMvh5jk6eDFj/KnXP3KB9oyw067LPszjjO9nYjpEFDaDuUWjvwjjWzHurUd0zXuyVOnaddbcSM3WWGbSW9cOvS8KU95aRy0JXgaFiKbmunhK9VTOOIKQzk4bftLW+7TU3fSILSQdAEsUXxQ0dSj5WxX4oOLtZBnCdhfNEfKSjruQks78rGP03rOlVODWXzbZ1kZEt8kzYBs9B7lx8Gz8LkaNMPbN/GzlfkeFFqkSvKW34qQdsRjlayH15cheQUw4SNhoSEfKyitLS8lS0xlgZI6yH4ZFUL8D2zpfahHDSMmtRAEXvcULqkE/Ptfo0QqaAqykWvkxTxshQfLShgBVmgQJimqgl8JPRQwCqoNGoaXNAva3rns8f2rf/WvGZ9mZyCs4HBbfapfCcFTmCZpKq8CMhKRb+JQ2wYikGR2Ode04FITgsrdN4FycKLUK+LDpmmE7777bnqRThLTup6hV77PjFHP2F2jt6irrMpEQ8qkFo6LRJg5OyvjxuRhJXsCVnomLtuggeyglOy56DFXuSocFlVcbPTv/sZuLagwsG2Vu5zy0m02TFeXitrtR1U6GhXCyHNf9xFqwJd2EQCES2+FjFswOnPeNKk7yiqOTrYhIHkomBQGjjHqiZDW3u3NCLvci/aGULL8NUZO45C4g0tBQe3rBZCqTmqh/Nv0Wg2nFdcf32zQ0kjh5UzwKFPoF4mNZ8Hhizfs87jCjHndvNuUP71zDxwAjsKWpa0l6Mi/BHPVtTiDacJSRr6rCOx15qxnog34Xq2isJK2PEcxUG4ikMgWIQToDW3tidggTeJ3YtSf9UG46Hvms54R4Usn+c9vwhev1CV30womefBQORW8PphP1ofwrFth+qWuBt8JLNZ7aEmE1uZCSnPgoeoeRS0PcKlM3F3J/KtMGJnB8U137+GT7rNrtzgC0nOUl5lkRa+SyVWeaS5t/JuYwChIgwRfy8Sfl2Vw+ZB1ar377jd+67u48E2+Ct4oSA06cYVAiSP/G1Y0LD6UdikDMUwfg5BE7ingdsAegWnPVJ4ns9BAGP4ZkDoL+JJt4hVvEF93gGd7dDxbl7VnPdte9AjZQ69aFgxwgOFEyCh4xpWrHVBm6qhqzuE2hg6gnfhKI+vD86/Ds9RTwoWKctxjZ0NXXahCNaxtL1sxXuXTcbYkvh+e9WAgx3QdGrBdSS/x8l75Dt/lCz4RPzGDd2Lx7ieZ3fLXf5/4J0Pzl+ZJjLTrZFKlT48SPhYnv+W7oLwCsx75MHwXt/ZNfAqpPmJ/K4R4qXSV2zCKnwXzu66AIFLi+dPn2bI+kLYI1gcNcys0+rLyUvs69BCoJ8HWb580mRloaGUamdp/HkYfREhQ6BPiAbTn96LZANuqNF+TaQtvGQ4yqAAzb1H8NCxSvUVSqTCERsQo6XyqVOXKsIHyvc9jqGSJeIBggCDZA3YVu3TpcgS4Da4UEXFVtJEKySoM24McwDbrXMkOQiMkjG2jyCNvElLLdp0JSmao6FhjG06fnYVpr0E38Me432/cvJH8dRevcaSibtuUU6jgqlUWqxkajNFTVRjFAia+S428bCg+xXpPg9dKJiQAaJo8uv2cXgifnY2rQNnCtaUgUvEHjvFI7+ziNEIR6f9sOD66TMOTdY6z+YqTYYwhcTJWx7dJ9razBxRFy11hax4LLIu5DM0ncOM7Fq07LIoYZRPFCowI3UHe4Asdk6/f+KcoizhLplUz5Eb+IC6fEt9lMjUeqNJ3mRBh0MHdqJxwpnx1rbT02cd4mcBDoaB3rHACwT/BqUVH2POYmiWOhtheJq5FOVtOeh0Z7zc/6wZ83Ydc2NMI8yk2eiiFQX0ljr19aI7yr/WgCNoIUYpn7x6YiU/cKFrrCXqNy0/kn1JSBi/jZVIU5VGYiqO8a6T0oAlTORsncYUhDxBTGgurDEAeyC9k5Lt4uoEFOp90lLvnB2LVBVz1gwot+GrYmZq0MWJMD3zrRqWkQlYZuOOVY/HOQXBsdJ+euEv2bK23mN19594jwtkbmz23VcKv8YLpCVOBaLw5SWtKRU0Ti9IBtrwUvPm1zWeIjPB27cfrxjfgbTFDO3XAx/AzbUgPyz5DaALJRDROo/NZo9My6flp4FIvCk/yVCnas9XQHYyti4849DQsqlgnJROiXIFbSgf4GMpbwH/MmLFj48KU1qbnv2gEnk9+k27W30smlc2yesMhotevVzIbvJbMma7asmn0OHp4iLyqcS8+Ng/YoZumHjLPAKNpzwl0lNvyhS7k+uzJUzx8zAcAPz2B1HiUiIj5L14jQiVO8O1xlVaQNTzbasF2aLq6+ntFCj6KksAxgTRMQvIgHFLz3tr9CAjBCBO5Ja+APHd5ofjAmAEHvW1HGpvKOD4fvIJH8WnKPsBzGC3o5FVEzbaA9GgGX4OKMuY7TFEZ8qXlm8IGzJd/+mSD1H2illT4B/E3Zn11d8Y8Hiy+edgYIWQYT+EOmBSaQNPm2cRC+Krr7d9GQw8WuuAU/mRiVsmLWDz4mErrhbFpR2G9DQsb7l/9xV90n/3mN5nxfeXq1b6x2Hgtk0CFXJd0+KpLDGxQxo+SaGl4H4zHESaOuq1kSDeUdzxKRX6OceoVLNj79++xiQmHZ7TepsxGBe/R4E1rr9EJXlrdR9icw4lyL2hUWuOWR3SN5zImN3KwAQIB7MALOE4aaxuIaNHbkGm+MLNudCfKqMAQriih6i0WjDRIhH2bNWleKtfwAswQNx9huul89rvPcZHybBmEtw9vnDt7vrt8+TIzeF/GGOAkzMQXljhWj6TCajii6qB5Kaxsy5Oy8qNSF79SUBW38C3l4dm727P8gY+9Die+OVa+s81Rgnx7uYIn4jx0BY5jciq46fG5minujk+s2JliJza3aXRds6ehiatbXarkw2vQwnRKGGkpLsaRhzQAxSrcI+7QMdyZAGnDNCiEvpd488olLUrZ+s16qasXjokXKImHvswlvU1vvTukUbgUPo0mE/CQNM5SPSLb4zWv5Ee64gnwZja3z9K3GTkK7apbJxoBh3Fq6zkGY+99kcZ6dKwg5x6MwZu6yMXJskgZlY0zoe/Se7v/6BnxUCDwvRzlUINlsB2ZvxPV5B8NPUAELiaE4APTgmskSQ1x86qy8hx6w9t8M0E+86hXqWhsfTmr3/XTle74MjP/mXi6Tk83vVYSSQOBmSfIFC/z3PbYT3jSgyDxbT9m2aOTYZSz5853m8dxlzvvgRUczpd4zkQtVxToXdoOD/V5BHEByN+73dWrlzO+LA2cOKYxYVkdnpmc1KOlMQNftwzJXBpYR598/4/YF/9ZeNv2OzvDxkscFCKvDGhCOLmB12b36QcfsNsgTI/B5jpw83E5qLslPnux1n3GHIIdjFY7Dph/oY3DXxp21pMoaNDohROq4dLOK/xtaL7D+/BAGVzwim2vxSW6KcSpLoEO3yu8YBoKlVrEQfx0hORf+BskD8QQD8ueOTIMP9pGnQdU+Y+AGtCzDzucDcHiEnhGKcR8GlwNt7d8GsQZPhyMFR3kxzyMZi6f+N67votBfTWMXxAX91jxfeX6yctKESnvXk15+zaavXH8949dDU7iAeDAO7gIIUpanFokw/hLIUaJXAUIjAFRiWdv7u7dO92//bf/W46e/NGP/rS7cPF8lG71wsoFGPD5CfTh65eeEDU9dc1SAeqyqJQYZo8LGRA2NMe5xvn2+NGT7u9++jM2W3iVCSqwOuxfAnHCjT0QX7rbTp5k318auSdf2dudoFd96rQHYGykFzhUcKXs3F4vwo7G7IxRN3bQsrTh2eAVvl5Vn97LnSk1ffayx9/i5RQuGHp0ba/lWMc9bxwnp+hCdM2nSivCG2MhytpS0Cid1LMQgQwO9Lq3seibohUR5WH4D4oZ141NdhFU0kSh3Sx/67D9RUFD27wTzzKmJwks0OOd041QFlPT9B4QPJvgaz146tDOzkJ39+EjengsAwPmEU5gmsSbsfKK5V1slfr08ctu+s6TbhmcX7MTnPwSgURZNEg86k9hqrLV4HJPcgWp+y+Xsh4qE2kaY1LCppxqHXHEeEJQqxRi1IFHCbJS+uYpL8rZrY5KSSoU4ROFZSBVHUonMof+NXnHCXem0wiSLrpd9d/Lm+Ktb8LLOkzPw3x4F5fwounzreFbeNmDjwImnorSXimkSC/YAypiLCB4nbHtBKjwMvg6N2GHHtCde3c5h9lZwCzXoy4sBFUe/tEAddc9D7gI7mBkufTSpAepFwR0QtNgzw9pC3MDAMb3qit7hQI3+E3aQmY+U0/yjJvwbDGB0Wd3pZthtrkeDL1N0sHteU/g6p6ZdS30Xoxp78nfrMzViFzhZT5Yp5mtzbcYqfB6liTS7hz+sW7kEfnR9+yLT1nXOI2uAFlOIXtqFnsDENchmB/88L9hctfPGRt/FX7JBMsoxx4BcejLfuL0Sepiq7t78wZLC8GXKPbwtzgww7IqOxvecCHPeDtY6rXMEZvnzh7NvktR1OChtyT7pZPXm2vMAdkRT4xHeMDx9QXGze/dvTPwClQhzM86sKIIkQejoJVPcpZ0q6Ey47e2bQmUodE9MFTqLmHGMk2ABXg9G85lsv5fnsncY2pLLvCRtAcuXm3D0n53YjcdqIGiDvHJOTQaphPnt19f/aUQE7Nqw1/C4y0AzffAZZl7vRJ4+Vi40CTqasgeSEwcx0ziV29ACRsQzsT8Dd8bNGGawei7YW+5gpxA/G+aQ5ff+bNnl3x85xpA9qElM+rBr3lLOvB3tuX1a190N25c7y5cuND98Id/nKVTMlQJ5xJSBWWQQ0EcVKaZ9Bl67+kyoBthGi9ORjHf33BQx1/95V91t2/djvv77PmzWLJs9IEw1W2noguNEXL7CDtnbApWK1AGc8vOzz/7LL1pBazCUHaYRIEvMrNaxlegzHjgBoJP4eRsY3tANSFmMQreHn4bD5Z6scwV/uLP/1jJNLB5tuo0THexdz9nDTTCLWOOUEPBHwp4h3biKTx7+O4UlvLg9tO97PjjBMI47jU0alyaZsmf9FHwb2Z81jDyA7DwzcveiPXiHXJFAaa80EGhouIgMwSCHTf1BgAAQABJREFUE/DcipQd0yYZfuBKGfB+zCCAl5hMuL/Omk6WBE1MzzHb9Ww3sY8gY7b8XWi1yjnZcwjSlfsPs7Maq7mi4O3BAJQeOTPUKWerd3es8tkepbzjJV5eCm/x39PF2YdJrG028LD3G+HFd+9Hmaugh0ZLvzYPKWXsTFzh+WevrE2qFK75SrcoavJTmdsTar1xjWvdq0IynpOhTJfZ0cS33hSsEZJWPJfi1EfjSzdfrFOXQ1mvjlG7fC5wycvLLV1VSk4YU+HZs5nSOKP8Goyex37r1q1uAxpNMkY7Hg1i/vbcMXjgz1PMOpYmj3HDWn5pvIeingifl8HWDFPjyffBke/ykTScx42e1Q8yiIXjkjs1ilR6Khj50Dby7pVLpK+jY314gGer5+Tw23N6pLY7e7DSwbxU/PYqfWyXxksdv2mcUkj2ro1zn0NEPNd9lZ7b0yePUXY7nMe+TNIahvJELCeZhsrAsU1bZyuvmQmOArft/If/+y/CO0dZQuWQQOMx8xcnaR1K9rhtwUMXLr/LLn60PXDIbPjwJXmitIM74aQEFhNeORp3+cyZbpnDQBw5UFGDROSDO70t7091Z959hreh2pK8dOz4iRy0M8Yua7bH4IScK9x6TxNct8bEuwyRAc9vGuriG5UNIn7L+QMYM9LO71Hs4KFhDSKRAZLb9JZ3+CeaxmlXPRvW/lp9DmLwLW3rDW2WZ5W08A7CabH7u5m/7fqqcOOOopWX3xV5CFw8xGdwtcceXn2iw5Nes7FEnn+VKE9p0TJppekhjCCkld7y8J64PdEq41GykbAh4ceB5WDe/s/PCAH7XHOT4cCtohaOMriYBQFTV3pBezW8SBaYqRxTkM5BsFs3b7JE5DpHMR7tPvrkk+6Tj/+gO3P2DALN2ZyOaRJXYZBxxYiyShvglW8EMY9eMqO9CBXPk6dPup///c+6v//5z2BMjpYEprtxufmAwl339xF62vOLSxFMKUdKg1t207OrFXyOGUnfUmYKD5XxJdzJCp1nT55EGZwG5+xSRLwTKKQoNd2TCC5x0ThR2dX6TtYuI0QGOweRxn8R5BaCslh2AmrfX78S58Ovfz0CzNPAzuHae/DgfuI5fmtccVO5nDl1onvvylV6I2xiwXgjXxHE1AUyVD6zUsraLrjWp8FgSzwVDrym8kVwEBUFgDsXJaEyUg7XmLyu3mpwTuzTM3KUXdJWWX9LAgT3Qvfs6fPMPh5D6KwwV2B/7Gn2Kd+jZ7zJmN8G43mnWJ6ydPRE9wuGRfZYAvfgxip1roEDnTGy7KGqDKWNxohCo4SSurtm8vpd+9kr/CWPKvN4d7euubnFfJMHUg7wte68NKTOX7zQ3bl9OwaWWzeqlITjxiiApsAYYAg0J785zhmlQLiCrhlypsluco5JEt8ennWizAsegFEYwElJk3BoLM/1cpFvxkzE3OTl7IfNmysE3AQGiBg5zFgmb42QzFGg3t3cZh66rm7tc+LbMidXuT3rS9byPslEvgX4ANRS0cLwv8aMmw9phD7HMHXyJUFmBg308PDCygV35WsGixPEpI1zJjQg8O3kT89TwsFF+BQ99HLDHaJjTDhMgwFgb5+BPid22WvWsEmpSaARYOT1demHJ0alATplDPkESfUJe8HMLtk6h6HfDCwSpe4cY56eZJ03bcHesW3iJIdt5HQ2gFrnHroh/DLiqn1TUAJ6GQfvb7ENr8aO8kS5EWXW5KV04J8GlJi9ePY4Murm9d9QHgxhA4lTvAq9oKVyjAzMtOQocf6X29dDN9uj8imGHonlFCeZYlIGJ9MpQ6WIEli+UTalHctVpJX+0iLzZJCv2VkwhkuTXXhJqFjlRbwD0MU0okoTzV3IuazA5KPMLWNsnPbvXuJgFF5NcSp2fsXpqxWvRgRyFW+KVxkD3s1RiHVVGa3HCvsSPNEKppVXxe8T9zdhAjhvRfP2vS9TitiXczRNC2pAC0RLnDtihcsPRh65V4G+nCJRABhCWyieK5+Ka6XHHU5g+2IWX7r6vLSuPR+4XQrjKFMCUnDu6a0AL3lCCIlpWKwR04sH8DLDMMQqaH4PDubl9xRQlMGfNDKPbub/9OMfd3/9H/9jhPzFi+90V65cQWmfjYtTd13WL8Kcli04AMf8PVBdBrAX7PnNN2/c6O7cvZPehz0Sz57N8okQSCRUhKRBeS7QI1EQjCGIFVTNIh+UUSvU733Fq3SdmZktB8HfMdh1lmmpGD/4xtdx6/+7KM89FO0ye2h/85sfdS+YlPL82fMob3tDNm6FSbuaINIdKw3j0gNNnxWI5u0aV3tHzmJXeKhodHurfOxRKRl1zQrDXpZCcTICEQVCXvbqFR4aWkUG69s0RY80iPZOHIWZveDUFngYyzgqa13tPKYuMz4KjZxl7HrUy5ffJS5HBKK0nz5BUatQSOOY6MY6xwOureQQknnw+fzaF92PUXyvqQeVlOUW14z5I9A1VlSECtoIstCjCaeqe4cLpJ+9QBVPK0/r2Yqoz/KB9a0gS2EkPmUwj7/9279NeotkvPAlkax3hYttw81iXrKJhMpkAmUhHc1X/jNN3P9YMfKDOKQOJRJpc0ln3lXKCkmXsllXFc8eHUaQ8aulJIl4WCbrToVsnSsc9xxfFBa04dCrKPExDmY4wpr+ec5Tfv5iFV5h6ADX6hnmY3i2t4rRNe7yLllxoSxJrxHqvAJ5TeMxvR7ZaRulgZfDeNJeOkk7cXJYZ9qjLEHX+CUMjSfP1TCFPVLrsnhbW6eUSbxCGHEORVXaookc5v7iDs5miEF68V9jJQaadg/PHokpPlH09NbrCFf2aWe5xQbrnOUX54Vsc3dPb+tcHn306D44wGPgv42sEFbqAZGV84Ypi9+kh1ucqor0Nlh9+5R7bFb5Vu3FeLYB+RrmSv3PcPCOlXvu/BmmZBAO/p50t8gqF9vFczYI0khWoZKcP+uSvOBfy2k9e4TsqVPnYwA5jl+b89CaSGCe9tDbcrC8k87Lmz1062MbL4FzO1xKaoO3XmNYzmlI6hUgMrA2XOFCncoDTh4MueVLy6gYV1j0dWAOzRCIXmG+jzyuYW+e9V1+BgfIUB7D0g1+9RKePJ+yU46ECZ+LLwUmb6JX8PvXukmzxBKXFCH3wcdQoaUw/eE4fAuuLU5/73E4FFqvgXEwEWXslaThRIiVrWUr1bhkHQswyMzn/opCJsOMg6QmLLoF6gnQ4hoHADKpV/UqKm4RoQAmhArL9+DThLq9Ga1sGEPYfEvFhgELDp/y3TgJMU8qyH+DCuCbAipKHnzyVUajki2fwvHWzVvdjes3eLXh2Ft0YpYb1Zeidtcv4zpuZ2+1lgGFShFslt1GnKvPzzIaLs4K9tYb8r5LI4li5O5lPBAbhIWWFpjP1sljxlq93DbToyiPoJgUNp5s5TabRxBGJ0+e7K5cudJN3LmDYl8FX2iv4UAeTcibp25qskp5PPjCXb0yJonyI0fwrTLbI3e3I8dm7RHoci7lXuOuEYrUhYpDoWJvxrLZq7S8+/zpes0MciW+tLCcZg1uaUz0KCbomdmLmGfGuLSN4EMgi2TFpo5obOlRq5zo2awhJCcQvvfv3QtOKwvsfU69q+y2qaN8x2y3LGu48/dZK33qJGdl41a0l/6SvZWf4wFZZfbxNG5xyyAfKCD0FDhhmMTgCc7gyC3fUp9BjAD9hzxXk1GRllC05+dlUYVVF9wAcYU344EiPIcU/JQBo4AzQSllPSMe/KCSDs/zbRI6SSu4KW0PiWp04qGASSrK8rhwbDdx9xGaXlzKQ6RGUeL4Zn0TMXfbn/mqFOQbPTYRlKRNcowxZxtvkJleiKdMPkKPpe73MERnZjym0XHoUox62pzj4DwLYWvAeIqZbch38VSR0jTTPsMi8MwYM5bF0/LvMjHMjT9e79KD7nG3rOEf3s1PBTClcaxigN8sr3VivR2lXSzDv3p73GzHOnDdvlvtuo/BPBuNWPp4wKg/OyoaKc58d65HzUp3Z0K2DgV/+U0aKRvS3kFeOqpkNUz07ExsY+RMYqDRQm0XNa+iFKV5ZQZ/cCcsOoS9yJeOdF//6Jvdr375q0w2XcDVrAdgjT24bWca228op0aKxtv07GJogG3UjWNY2dF5iYdoa8PhPIePNGzsVVYdy0N7eO3+7Id/1J05wRAcDC6/2k5DLOgiv4yLkLP+GWL75ee3u1+zixzziUM3yx0epd4mwvvAQOkem13CCGG4hUl6GxgJKS+bs6jk7YzYpuy4ZJkcvFvGqfzgCXwlK2JEgKM0H2MFgJ4M83Iui2XjpfIGFwkeHjetFcqVm3hSf35D8oU+hFBWdYEc3F/CMi7//G98/yk75Ks2zGgYH1sq7oT0r023eFem+sFnfiq+ScHB34T71Mc5HM84g/RpaQXC30l7apWpOQtctEDdEvCUpmu+/EuQsUAif4aRLCilwakyLETBMtx4RQAYiUr1uww6KAdx/eeFaEh8GSHEM26+CBPrshBNYRpMAgs+9wg6G3gPcwZFJvFirQPTbMRHIdauMQd12tWnC8EJs/dgo1QYqeBLUBbRTWLK/FGxYh8DIx8KJ9O3gopTJl+BhzQXrr2FNr7oexNa4hjllzLZyBSaRZuUDYY3rTjZsxMvx4LtSTircoeeij1Ke9+7vKtUM6OTBtnK5n1g9FAKlfQJFLwC072BFV42LN3L6YXsse0mjW+OXrOXAkuGVpjZCxZ/i+tluWMMgR//Q6OQQhpKY2lBHbT4oTGTfXbpiesCt5FqAJm3NMmMboyHjJHyHlc4PLTNGPP+G/BxohB4KNAU3vaMpJ8TSHjhGcud8k7x94333u3ev3IRo4bJa0Q+hqGzgTv8//rJj7trGGnCBsPwifTV7TvDWdjh9x5h6RaeoNoVEBa7ysUdgVQT+sCJOsjX0KDajLQRFjHrn/TgTZg5gjBvBHAJk3nsslaUWvKgrtPbRdFpIFvfrgYobwOwiRse51vhZHtTWQAPoUdozwNVD8YRG+mUrIOf57EzG5p60Ju0xcQ76WezCf7jzhmgfNSJYfKgLtrspkV6DbsMh7yZATY7jgFbI9LtfdNDpg4z5gx9Nfqkpbykiz9thPcMexBPPtFItueuEM+ENvKglME7dZVGCG7GxSiTH8Nfhlsewu2xOj9FvicrwjSYOWoVBe356ZbHuRLz8IMKRCNLXPSyzDL5cAa4es52xlAqlFflPAGfrbAWfBveGztKvetRoo25WQ4V2k1t0dPn28ICk7bkJerKISjpI01st+KTcWrykmeXTxyPAeGhN3oa9C7p2ZA+qSvKEznUK6BjeLqePXucyWMnjp6pfb2BhXqKYaSXy3aUOSdWMKTb3WQo5g3G1ySzvlHIk+P2bNEDfEwe8EnkAxsBjSlDYcDdbZbRWd+SVEMW3GPMihdKN71ZaOg8Gw0mmUle0xtS9VL8Jh3kT2qBMvm9bfVbNBJBlWnVrm/Fn76n2oUM7dQVufo6No/UOfC9e+W312MmDo5NifF9qECHssiq65MTwzzTOoKTMPPawgzgEh+vkt8Vp4LkTvEvGIk0+BFP9EpgVfrA4dGwCm9ldjih4gyS1wPAA5uf9p3HIYB6llixtAVMQpkjT0krpL7i8x3iUonFZMIffjOPpOwrMQouiPSAgjxkH8C1HaCQZZYg2FssUMfeWXDhu+5AhYhKTmVtofxmkXjsc+CBAImUlH70r36SZ8qdsKGSNkZAWCMCy63KZNQQvdX4MLPELcu6GGfPdb0wvlEzjitgANhodQ85QUpXlEKjhcvIly5f6h4/eEAjZBcuBKDuRhmfDg1p3E9Y4Y1lPz/THeMQiqe4T2V/e6EKcy97ZlJEXJ1EYsPz0sJWQPlu2W1sTjIznopBQTiFotYAsAcxw9GYG+tSo2gveJvimAO2wqFOImAjQCxnKGdxYvxZPzK5+L54pZvXMdDpuA9tdBEaiQ2d+Cea9Jm6GYSsGMedh9BUmGloOGab87xDfxU1hwUg+L7+wfvd+VPL3fPHD7pf/uLz8MSV997pvva197o//+//Rfdv/s//o/vlP/yGGbHHgal7GjzA3zWqKlI0RvLeg+/ahD17GSmHZQExcdUQs4waIF4mFZUoOXhc6rQrfEeEyA/giqsQ5RF7w47xumxvC2+AF+BTNxpi++CnklYIa9jEALYN+Y97wTZ/4JuBiPAnjpYrXiLyE3+VsspVekd4YlQ7k9slTisYaDvwaGZ2wzzxnMAv1q2wPCRCwsR7Qt2Zn70415qr4FVa8qfuiXmUnkox/LC+wxg8x5xCL8RcyutywslJv+vqJ62uArkJGOXihB9pyxpkliG81vOou/B57KqHrBQ/2SvkP/npzfvga++nPEWfMngcnnJs/yWnV91jrbeGp7KFAtGu1sBlHFcySnOX8XjCy4Cl/qH/Bt8th3UdGsofYOTpbM61cPteJ7PV8AFb1WI4T6IcdfmmZxc2ABvSj2NUuv+2HrDVlwwrEWeOmenuHmY7s/6kdXqhjjuQU8ZupT3pjx07QVtfRNEr1J0zQnvGGHHug210dxaetFzE3d+e7V4xeW38ycu8x9MF3imHRi75yO8uZSRXDE7mHywc42S72tzI9cy5iJM6krehIb9sWsxwEgrItmCY8xpKVgflzCTXWLPL5mXbddjCIYoMcXC33W2ns1GrDDI7H4Wu/LLcMWxCc57Jw5aR+lbxgYvlaFeOIx2+8LG9cM9QA/fAqnDbjUDk24JjAsOqnsw/f9yiMfrwniJGK/73q+1AOiZFS28+6j/pLfd6VerkZ3YNWL7VT/PH8WaMt1zi2H9rMXIPAgWxGmafNvGDSjKsyieeBSJKKVKYRWLY2gJHRh9iF3gH8Gk5D/ELtEGwvSCZEAII0nxo2DK2b7HItyWOb6SUgMIfpB/CFY/CpI/jJ+MnrenfmgzYBUzcFbaj5a4yktLEyTtA/akGQViVucKN5nGVzure3nqeJDa8Y2yaYjxndr9z6Z1unsat0tS6txenS8mNVFyfbcll3osXLjJe/a3ur3/yN2wwgZtYBkw20qWq34akIDS+4wAquqUlXGYgYrHMw28KPBu9PQf/rMNS6iWkFZziZxEtg5d3mT7hPNsQmpUtHlEaCNGy1VVoNFSMgXFOUZKG6YHRcFUeCsBjx+z1O4b9Jko5+xrjyrTM0iA9fvCYRhgIyzwcE7z8zvnu/JmTmZX6kr287TmJ3Bo7w6nDnKzy3/7Jj7q7dx4imHYYSjiWiYbyVfBF8NoL0NM3gbHzHMNnDKEiHhlPttyIEn9Nb3kj7MxEIlAWcbH88ofjdvH02GD9J6FJMzFlrCaManlP6pKyCMN6yoYrKErnDruJTbmRpSC4WGZhcTlM0yZhqaickyEqxvGQktnp+Riy0puk9GLZ4Y4x15dMzMuMb4YCYBiEOr1LcaJx6dpUuSnANRZsucLWOHF+gFu5ZugDxa+7WlWqJ2OOoyWXORTlEnw7h/B2rsZTxk9fQP+f/t0vccdigoGchvX0Hvxmeem9SpMyUoFB/Vq23d3n5IkRg2vdCUzlMUMxwrfHMLJOnWaWP0K7eaHE06Gds068ZCe0TWY9RzYolIF/fJ6jWEn7gGElFaM8pJxYo56nZunlYwS59niRoYrxfb7BhysqE4wL99jXoHYVxybzNtwcxaECvQf2QJ8+eQbFayKfbajmFNjOuKwnq4q7bWyVSZDGcdzX/f7H5ogHjEk8RZbFetPYM458Jt8+Z+c02+uzR8+7lRdOnAQccY0DB5h1svBB5Wn9e/3kP/097/IZNctdo7Du1icGB8ClezxlpsU0JmdQ1TAADnwo4Bhi3C23nQPrxzDPnFehRmkTN4YiUIQptMIqhU8aZYtHotrW/NPLEoWN50teyaYyQb7yBSDZFy3SUxaUIeoAH992tWwPfwNW4RMI1MUMsvdoDZ0xS1182veW1Ko7HDb8xkdAppyJOMQpr7Z59V+freWoy4C3X8z6tnkPL6pp8GJ4gPDgs642rwE4crJy+4/5Vj991n38VF7PNMPecsGW2Qpqfwec8Kt32fIb5DiSh5H8XwBcS6fiKPd6w4LvNnivBqJlVqGHfvvMLVf/L9EpR4jaYBxKdRhkaDIo1WjkVF0ChJd49RD4vre0TlKzkYTRwUVF/eGHH8ZtpoDyXG3XCqu0Xf/57rtXsiRFIXiCpRROQhK01qpsorGiKy29EHpH7nrkxv2FkQUzD116nHdLwzc/G8oiy7Jc72pvQMVjj0UhdwKh69ITBZKuQHv95jcoQ0BKt8pBEeE/+U0eUECkAnvymDcfE6aQ0T1o70GPgmNcZ5nR/sF7V7urlNty2Hh1zz5gCcxjJ8yRZmZmPoaELuQg09e9W52eBN9pBMYTxknXcZXPQbeLF88zAc5tXFfj9j/C5ibf/fb3up/+4uf0opaZkMNez4yVOymqXIcIP5rHuPhRjrj4LEsvd4sV4UjCYpkrqKRsTwPkZNDSxTs3Md+tMLygkCkKUXzQlu56BaRx80LoBpbP046A5XjwDndpqFJwPD+u5J5+4qH7H1aIkaJQnVDJ0uO0DqXylGOThI1Bi9XVtdBbvSW9HTueoGf7xt6thhmFjiDle+EgrnhXwEtjL54HMpvHsHQ3L9NOMdvY9dBH6d1K++NLR8NL8k9WBOA4uHBmqVtjZ7gVDKdff3ETwwOawke6r+UpaR83MeV0/F3a6HXZ22EL3nhOVOicJAc/2E5UshqOKgP5zLJCSMZu8fqgqMXTNcfPnzPz2srIhYeA8r9eR+2SbgFYp47bCwb/6TPdi5UXuJbZavb8ZcpMuR7fihs8dEC5zdBWFlHsHs8p3TRwPEDGXQptg572BirFA2SpojatV+79MwUIz2hsnzp1jDyfBl+X9c1iHJQsoO1QfstqL1hmSl1qsJPOspY0lzc0pWh1tkPz4L9ltt6kzbGji9ANl3f/OYYL38po1xCrNqrB5DLS6mBh/KQHPM153Y+Cf7VpPCbIko0NYWu6eTb8UoypVy+f8xZUM8nN0+6k7RZ00hNonYie5YouAm95Lc98cBtkn1NQAbcHvln2ys+nutpT7v4kDXeezaelly7tc0VpETvk3UJ36szZbNyTnemo13/yFfyS4TBpITCoo3wwW6M1ZIaxDzxN2jgb4yhQ+uL3hToQN7AK4jC8z5uAYUGHX4dhgask6qEM4hAUZe2PV3+rlMP09XHkV7xHtHx66JiTbrPpHtnilTCFzBDJAt/nMQKtHs3OGrQs/h/gWwxopPTUiWNjUeEkuvBNNnr1QV+VVUX1a/sTd8AEDg2OitF1mHLAuHsw9mOWZNl7fnzzBstDzmdWt2WzMdnAFUIy+SL3NFL6M3FjkYtrJReX2e8c5a+Qu3T53e6zX/86M9TFoZQjPTganM/+CTtuKgSAAvMczKuwd+MIe/eOt+1kxiwuUA0C6qOUkmqZGm9joyls3/gsr4Xisn5cNuN2k+Jrvam4VECGz7MczQPuzyHQ/+R73+vOsrmD4caZom6OoAQWFq5wMtlZlr6tsiUrk4Ro0x7f5yQ9eyFa5h52oLFhz9FdybSPZxBa0mID96tLssRbRXCGMn7w4WYUjUJvbApBTtpxFFHceeE5DB96WvKHuOiWFmfbkgIvtIN+Pkv/zCgHHycvyT/WsWOZyyiFxptSzEul4770UdQIMQ0SyaVBlLgkNk6UE+WbXWDP9957YHp79yoDlZSGjruzSWcFtDA1gOUXe+Or4G259xhmmJjjD5pMzkNAcAk91PRcHgRjT960JVxrjJrCJK7Lj0xjT1w+cWeyqcn57tTyye7imeMoMydjwSPEkjY46qEX+CH0nYX/3/3oB6H3zz/7AjyYhDW5TS/VyY/l6lVJSfaUhzLtLzLei0GhIk8PivKJbxRxDI0S+rKaDGFb0ui5yRyEVxhlj+g5V4dEhYSVBXBIRg8KfoHO22x6M47reQIlvLHBKXnnvtFNffu7TKaa7xYfYsDdZ9MP+GoFnpsG38Ujc/DivFTDCKBnS8/afbs9KWzdCXTEtb70kuWYS9sWqHlZp/kjrgbpHAr0NHst3Lh1nXklejQwsKBfPAyJX81HfrOtT8OHrzfYZpRJazOcBpcJrozHWD6qLLwWRWd86sse9x7nBLxz4Sr1w2ZMtgOQkTe8rGd717Yj8ZIuObgFiIRE5k1jmNy595vMe4nBA495ytcWf4FB3O1d+N15BYyFZxIYeRxffic8ZjvbZjKi528/YsmnuyVm+I+qqPqU13juaVJhBvAHDlAk+YiR+VP1+eZX+VB+9/LdT7kSmSd42MD6plYaxMiT4U5ua3MJgjtfDsYqkL/zN8jkJ1mKewXxOwBW340QTHwVt4rY3ysXetSFtK8tQn0qIDYQKSHsZDXIxFgHXgz4yqvBDlEPxUoWEvCfeAkzqfwpdMNIRZRiqpr92X/s4accLYi0lq7gcLesPZLy7j5bLEZKtPhk6sxF969WMTrBCrUSoZ10CIVylQxxCm7JoEcg8M2nz9s7fzYSL3tDufND8wo+fr/NBhI2eF1LPjsu6ZiWy3ceMJvVfYX1eij0ncjkBDHjZ5kYz4usXd1hrNAzsk+eWO5u9WVI7wFBqiJT0Hi1MBur2+4pFLeO1wxOT/jx3fDX/Lm+29naeESLjtBKGjv+FP4BXlnIlIZGJCmFW8qtlPIm2xVOcpZ1jsJEkNlTc52tM3h/+Ed/2J2lR7a7ucaEKwUHgg46p6cItCMIDpe76WpUaTxnu1UbuUR1tqj1ojBaQZGvI8hddjLun4GRUsBEmHpIitufZp05AlJaLi5yOMPxUxFkla87NuGK0w1IFhvwgMLYHqDeCvkiHgMUg+5MDQTnSjhkoHtevC170cpeLgrMyhUVypWNOlBeeYcO5Uac4HAIjmgknWVR0OlujiFCee3JNZf6FsadCktcSYDQQQgAXlexylrjonrqGjx9r9P8U3PVSzefugiHHiRN/Sr8V6CLdR8PCuXV7aywXIe28sKUO35B+8vnTnYffe1qdwQDwD3A+1pnbJfdzJiMZo8bkwqHKoblzET3nY++1t1kJvXdJyhJM4+LVYFbfOKyQ/cYgCRR0m07y6DKT3DmrmHjSXQaRSp6i5UZ2xiSS0eXoAf1B59LR1uKStx/yZL0GiV6EV4xZv185QkzrF93J7//z3FDs6yrY2LXpavd3tP7GIYr2W5Wb43t1vPRHRt2CZu4SZdneHpS39BDF7nKWwVvuwGBaiv+8l+Dz42QPM/5p//PT+CpVZRaDXPszmPYUFeWUdpar9VRYOyYtuzWoXO4aheWMHLgxRp6kb7F+8YPHskLwwU3/gwT3OYWlgjBOAZkZA/xpEu5s6WpWZEXjS7P4smDZ4jPzi/RVpOQtLjq5zAUjmB0MxRj+ddQxGP+sR5+gSNm7UE/f8a2qvCOV3k95E9JAd9RF/qWrAmd4w6hyDPFAeDSC5KiWtWXz3GpgxePvlV8FH/J0opnfkT0/6CuDbJMhpguVyIg7/DUPWKvCNujk3ELeB+nYrbE7e1338nIrKpd8dTruspfDAwzuO6i03BrgGuQsiGaUCIfvsyIQuRLg544B5G3nHUNHur1QJqDcQaf+opo6Q9BaIkO3BPncETLqjIQ5/z5PixTq5RW8Q1gWWZWpgCrUv2WBm16wv0iJBWawtKwWPmE2VPIZVy568BlqpZzITygVV5bnofz552G6Vet3K9/8xvdK47KfIpbrHoTLOSnUbh+8fHjxwgDx1ZwadkDJINyD9qboWeH4DJMJS48rXyVxBF6b1qsCgqt9vTACVcg2GBOsOzLtdS//eKLKjxhlsYfXd+6PxfpedC6GbPVUBB+WfNxu6cXZ3QbH4TpFZUuS5dZedfgCImJ6/jzDEpXVziytfv2p9/uzrGDUp3PDRQias+oUIMG7zr3Xe9+HDw9TOAIhsMdGtr6uts3Ohms1rtrKavEUqdgpMGlUp1EUbiE7OXKevcS4yA9jwGe0kVe0i28SU5Y3C5/AabwbMwulVpic5Pj0P4YBsUsZQiVSKOANZ3KsXMclrKqtPdRqHFXQzeFSiYxgZMHKOwx29YejnXln4eJTKK4wsfA1MBwRQOYEaZ/ALj8k1dm0U2zuGFdulc9aMaSoTtmCHDLw7DPJKM3bxxXJSVhCgqKyC8Ep3eUHdfgFb/It9K7yM3wArjLNyq4GcqytT0THtQTY5g95299+H733Y/e704uLaYHNwU+bQ91FYZGRkf+KSOPzpI+cfxo94ff/qi79+//AvrXGKmKVuNnkgllOQlKw4V/ucSJb9sIfutTvFw/rBH5+PGz4BiFYzy+zzK+nPOXkXhzM5coL5D4lt6aMKlg60zvimOUE6zFf7nK/vDUz9rDu93Y1Q9s5N0r8N+dO5KNWlS6T2iLu2y1uY6SdSvcdYwJFdUOY6vUFPwGXUjnUFZ6kk78gwdTN8Dif4hrW7Udb7JM0OGnWYZx7O1Krwz/2HaMCqpejRdW6JXuYHyuPHvZra9KCwhKhdnm5a/yyFCTvUxSBuh1/OLXd7o7U/eps2rPTkQVJ2lVfKOChmvI3yx9XsTQ0YhVz0ywL77L5sxPHn1DeoQMvhLKzF2eyn9uruneYFnk3h4TzXDle5mrhvZReMR6dgMcl6bBpPAHxtU0soA14vOb5XWST9173HYUGgC3SAEcyxSoSc4SzPKw9EGDW4ycvFVsyyZ9NDpbsGWzTdcZ4MFyAHsA6L/qwYouORL8eRMLQ+vHh7qUNYevKOqW0ARviZM0YYwDytTgw7HJuv7L90HEykjGg9x7ovZYpkL/a0khjENX4EH3YmTxqxwGqPZpyq3dJxZnKxumK1p4r7Il3NrrAfiuNetWeI7XWCwFl0JfF6QWWPIWdA+3EaXyMJ+RPyKZZ+Vb4UlqgzNcOvJRhfrBBx+yExETcFgm0sojk2k4KBzs1YmQDKmQssF5VUm4w5gyp5cw/W6PW2GlSy5pKIsCpVzfHa7l+Wx2IoKmMbl/UtVea8ap6SHYg5hhAkxZ/pVn9fzoqdsYSKRgc6LLBAcM2Cvd2aHRW1d80yqXbipO7+fcOWx+trt6+SK4OMuXiDRg5yBYHZZRHL3rGrUnO4+Qda3kGRS7u1Ddun0fdzhuLOjzHLds8EW52muaQ7BuIiCkm1PvZgh/gtB7wVi8+20EF4SCvVWXthWN6Q2A2/Iys4Ch0RJLaU6fPNUtoKRVJPsYKrso5e3XtV2hvO+kmlny0YBI75kepmthhWNZ05umPlReKiXLZjxpLQOoxMVlbupY7q3eNBDtEVt2gOUbDz7mCtzQCbqDWww1LR/Kaj24lthesEaS3z3qU8NJnmsTi3STgiU8WLPBQSO84Qxx6S6/OYPZTWWmpxgyoV18/1tX8W64pzdGB7lZDGdOZ+gBBRWFTqXbviyz62TlUst85cLp7uql891vbz6IwkQNdG8Q2PLHHrRxPsEME9z0INne9Fg8YqMhJ11q4DlfY4ae7/5TlhcyTgyXhC7uIy+vzLFKYIvJcg6ZpKjytAXmksahrQjT9uzxpwowQjf/4Yvu6B//S9c1EZMJeMfPd3vwGhXO/AU8Vyjls/DANp4DeUU54qoA25o0s13FsAMHCkxZW/viu2WEtTdR0vGCQLUL71zGENPYwriGOGu442GO0FR4purRZhZ67czmjO8xNp2xPLO9we7QmZsVxdAkD6+2Ltkx4U3mB8iDXhMQRH617N7SLmlrrkt3XFm59t7lq6yIOEZkgfEn/UwCPjG4gSEdg2F/JzJxlBt6fXQrw6+kiXIXCvQyP+cuLFIGK8Zx/nVo6bCb/OnueJLuwYMn3e3bGE3hYxJ7FfqCTD6VO88+GNgi0LDMKxfhoTs4PtSgZ0KjkeUzkQlI8Q8D5FOla78pW3v5/3gHVqEaZEO/5A/Ylr05uP39oCyjWfZ6ahhUcIbveWogK7gqqUUhgTkRJY3B9Ebv4RimUPpSPkleyA8h9YlagPcWJPoDIAi2ENg2hJDFzTZBg5apXOMZC3uQ8DAwAfIHUiGQyB0oXuGULS6JYGxDLLPuIAWBwnMOxaayyklJhKsMtYxz9Vl4q4vwZOb3Fmr+GgrDdz8p3BVM5fqu/E11+dKlbB16ltOqLl65HHyWT5zsji0f7yY4tUgBnTyA5yYMe9DEfcKhFAJDQaDLu3ZzUikrME+yCYSu7Nt379NQGedGIJdwdycplXMJlbJIdzk8YI2x3rVuiclXuzC7Lr5ZTqRy+coaO4K5BjaNjoani3kMpaxg2mJZl8riCWPvLhXboFf8goMIthF8iyiAH3zvu3hAcTPTy6RgioY0ahWUikYvQDOuFNxNmCnTFinLcSz0nb1X3bOVtRgSNkF7ywol+qeKcQQIgoJe2UsEwgu8Fa9ZM5xxXhT4Gj2ATXqsW+zBPIXWunD2dHfl0oXu0vnzKGbCEZKOye5zt46mEe5zuPnE1Xp3BrPuUHs30jmKWqkk9a08n94iGFLztht5IC/9s/H9I1xBw49Z9ZcP7aV4sqWXW6K481l3L+2Bnr9yyYMcXkPLp5zwtAKdlGUxAqQLuNnjgmCkd6xbR2nlYR24/GcOxbm1Q93PjXUfvH9Jv3Tq3t2+1qGNE5YsspO5FphfEaONPN3pS+NOOqm0HQo4gmH2PobZb764rUWQcum2nlp0chqbfuCS1HDyciZ30YHxe4S6+13rafIAFQ0PeTPk40eFJ+UePuQEL5YzuizHtKU0ejqGorY9ozLe/spjaim3CwFf3ul2nt7pJo6c5ROI4vadOnICN+9D3m37b1CIK5E55itdIxfC7+UJSYuFftJehZBsKHuUOXnbUzSN9XTv7j0MEjZjYWmX7VA+Ndzhi2rPekTQaaSRf4X5+NED2H+4xNK6cwhOL4o4Z9yWuKpIaRFFmzu4ACv8Qfpxl+lhz+EQJw8NHMoDDDshP/7Pf423zrF45V7RMOUITN7TcZHuJZ8E7zOsAnzLR7a5qHNpxDdp5VGxR5m0usQENGnzmm1/VzPOjxvdenZOA4p6kzPknbOiMWHaYTmkZ6n+yoI60drmytLNZFx8Twj/WloM9bjie12U8CRL+Xwy5vCHN2Alj/6ekiaSEQ9d5hs8DS+atJx9b7jaPnqoFb0+GDi4IFHl0iIOvow8jMQfCf39Hg/APVQgX9WHXuLREK+Qf+S3R0pGGFwD4qmoXXvKWkEbg4KBmnbMp5V3kMYH0wFPt6rKXJgyTDM8zCLfiarSSiME5iisMLMNg3B7kk76ksnsxfktAikpCt/A4zFMLV7Jw3vl38pleMWRRv0zT6X8x8LQS0zssiE5M1u3WcNP5egkJMcIX9ALSYNFkC4sOoHLCRMe2VllU23Z8O1ZL7PuWhe61qxhCrQoWhsN1rSTRiynNFVg73HWbYQC8bJnN980Vkxjz1ni6QLMRDUELWInPZ5FJsJsIJxdm+qEkvkzp+MqtUp2EOLOYH/5mqU4cLL0KmQLrnkXDe3hnsiELcWQhIx1j/GxhBdimp72xDRbvLL3dOqVvBew3m3o0qXmA+x3D357E3cXioA1o+JtD3lnZx036UT38Tfe7z64+rXuGDRZX33RrT53yY3Ck54uCkglkpOx0DYqOYW3Ctj8sgrBOiVFhGz6mSLa1yX8lo8UxiIaLw/eRy7550sXPZ7BpeQbSVi0KAGcTy2iHok+nvgpznQ/nmKi3urKZnage8m8h2xegpKSxxXi6OQIVzEMH2qA0Hh1ox6hJ3TpwiV2eXtIXSzTO3KPczfcYJx14miWL5nGHq2K1rkHYitf2UYsm/xsT/0kvOyqA8Myz4Dc7I1roKrYXU4nf/snHIdqHE7Qm+GkvYvvXMqEKrfOdP6IPKIglE9/+avPUvbUDek0GnqKB1/pEW8BSqhWMejCxSicok3f/qJb+t5FhiyYXEh9z54+183gVTtz4QyKBkMUgb9HWWjq4X0Agr88qkJD7WGgOv+ierAglPpuMqY8TZnTAaxsQQovueRJl/DisSPAECLYpiwaIqUo9cLYrq9ceQ/jdb27feNGeK9i96UDhxgEEiO1F0gtSu6RO+N0bMjfzTVkLXv47u4nvwCi++F3v9GdP0cbhZbWjXVWaGG+EcHyCifQ+SCuMUSVpQSqIG3L0lkNrez3i253Xf/zHM0pAa1nPRDb0LqO9g25yIMEpCdp6Y1BcYQMHcxY/qacX3xxHYPnLrD1MvrfdIWHNPAdq6S7e5vdG9021fcAEEiSJFZlMfzge9WdD7/7GqDXR0u5fe7B2ZKCB3gliJ9U0VvAamomoZ7FpjRH4wmsAQ6Slrq/zFii/FOugdAYQbalryCRL5jG9WnYY24x614FtZCWsI9XSQMjswltLIGSWFVWCgrrBkiIx7u8Y69MhrH34KlFGyiQVC4wq4HxgOdGeK3cgQ0o03sZrgCKtc67PWE/ydxGilDCZJVhG2Hz1APQHVigxAlaOJ4o/n25QhNpzp+N4zVbC2ZsizFCd0ky3+OMJcUSJb0wNBwsl0qkhFOtjbaHp5KJ0gewwnB8bAOlQy8CJE5zytQiBocwHKc+woxUeyNuEOF2m7PTuJznj3SLuBun6KUv0EN2YxTXIM7hXnTMvPZdBu62wwOsM2W3Jte76h1w0xRPEzp65Dhjc8xezuxPecqlPTMYHpxlzb800J5auhSz+b9UAmcnxmkUeUk3x8FX2DDC83+nKPMRFPXCxdNsIDHR3XvImnTKrPvTrVDtoTkByjpTELmDE97ZlB393P3hJx93n37zQ1zqE/EaPHt4L21kHuPC7T+ln0utHItXmYWXcgcXhZgI0SM13HfH4lpZxNcrgs141m+7++HQFVijYYlvgpFrJFL7knt7MSo0G31l6DBZM2rRzR1nadLSZXbo2u9+/dvPmSGN8uP7ZuBShuRZAlpQKsgTy0e740fmu3UMwbPHTzNDvnap0zjWYAmP0TMsAY2ng55TxuxRXNJCA0/BLG9SORGsKj4VEDnAr4wXopBVcl7ysvS0zjQidat/+u3vd6tslNO8Tvfvr3TvvY/7GMH/kuGM619ci9HpOGom1VEnejj2rJueGhZNXONBQOj7HS3TTeLNGZvFU3TnWjf2vR+gB2gb8O0USyBfrb7EdbrTHVk8Bh8zTwPlL/OkvoHnJjsaQHqjDKstdG3NKFm+m4dKSjrZrhzzvXHjbnqU2TYWemjcNa+YPFq8X7ja1pscuv7F55Cret4aBfKj35wVfpLhGYcG9E4of0o2yZ/FCXrW5E0nxDn50mEDzxBXvsQQAq4ekn/37/9Dd4S6tBEI21UCdVVvtYyHpqgtE19tW/xJy7QJ4ItD6J5vNSzj0N4xetQe+PIaxfmaU7icY6Ick0GrnLSfQrmXy3zoL/lLGetk0mwwAw1c2mXnSzzMT8pX3RQQW4JDWhoxcQo0YNwbbQyqvEc+ClCkRq7ROC1t8rIeiJffehjAkwp1SaM+n4Dt8ctzfsr1LQM0ko/kffDxy7gd/P7/81sqwVrkv8/Y6BHgMqgCOMTrGfMAqkUHGlqdsZwKhWruM/1mrmYAqizCWEW/JLch5OrztIFG2PTAza/1sl3DrNKKqzk9LqDBuOk19HDc7celRw1sCiIscFGA2GCSI41X2JavhFll6DaDCjH/ghvlUqm5/WYsVC3+RYWjLkdcurz7rACM1QrNdBnqwl57vYhAdbkXbkJ3hkKIOFM1s1XJbh2YbhqxwVaEwrKHmt2ztMAZi9qmJ4rsTY81vVasGye9KTR3iD876+zyZxwGYI90io0mHhKue3s5y2eO0iNbJ96tO7e7o/QmVMTBlUY4nAPAbGGEvrs5RaiCl/TJbHR6cgojXfq0fFyuM2z8cq7bYgLTtWvXEEiTmQF8lLFN9582/9XXHMfpTlAo9GVc5v/8Bz/gvN4lysGyuMePwJ8TqzRI4KcZ/FATCFeFg5PeFHIaO6G79QQi4bdwDXUtCUWOvzqykufDl9+92t3HITPk04GfkXgVfjDg4NuBlF96MW7i8+N+BHNsmfrtj7/e3bz1iKNBn+JdoEWhVLIJB30Pe5sqSc9OP7Y0zkYfr7gfYQIQPVCMLYUtpAlQBa38N4/B5OVkM42rFy+eR3HYNvQG2ft1vfpLeqmwOJf01biRZqSDFlMzaeVgwJ00kkflc+23n3EC3sfd57/5FZuanINPV8Nfn3z63UxkUp845vyNr38TvKuHqIL32XYtqnqIvJwrId1tYSoXN+FwKeD6AuXH7fvkNV4yYGEVgAUz0RnC4Wgf8Kj2aFu17M6tcvLah19nEhrt2vxirGR7TvPRg0C7jpKUj9y4aKn7X//N/47RykoKDWvacpUYGlhY8oAUvaINuoMf8ddwuvLe17J/+d8xc9xjVC++czFt+TQGg7ztkkdlhMZP6Eq96mJfoL27IY7G8o3bD5gk9xxPl0MhuJvxPH3nO9/v/vxf/7NuQwPYNHg+nj59Ejmkx8AJgDvM8NbFLr31eLnr3CJeFMuwQYcjnjMyte9rW6n5CRjiJJik7c1jAJEh8gijHQXqAR/yD4OK2iBpR01R+1I8Jk3KANag+fuf/by7d/9eKV+oI2x5KT1+FV3erHHqGLxvXPsiXkmBKWNamzv8XPHNR0TylufEAynrs10NRgwT4lpnXubqFRj1WHsZQLsWx1hm0a4GazJCpA/12UtiDAhiKv/7rUVIrPppgEaCKj4BVQiSyWQAyb3Hts+K0Hqq5pJEiZdo/CQlmYtPyz7gkqGI8UBA0idRPmCpun61xrkMGaap7y0/87fBONtTS9cGoeDXyp2frI01kPhpecZNmQCh6yeTD4KAAfwHz0YPn+sPBexe1FjmMzOM6dHAde15halZomKasqpJ4zOFrbJiZdPwFW4qagBSzhIosWb1h+Cu2puAmVGQjofOjbGEZJxesDBUKNP80V2a5E+G3mQJ1ALxJlgiI00UuvZuzVC3l2tHXfeqrPQMYmeoTk5jqiDUvKp8MBPo7KPAdVHpOvLM5jHyUNlniRX0IWfga2jgykawKtzLaPLUId3MbvXoOBplAhknXi3QQ3czEieMvMKydxKZk0vE0eqlVMHBCTlLS8vUnXVczL1Dns+eMdEOWFCOP3pjnOpjI59hDPXDi8vd++fYzAK+eHD/EcLoWXd0ebb74+/8GUrpSfeTn/+iO33qaPcv/+yPugXq3mEDe+YKwXgbEHS1qYYKgqUzEbJSyiwLryjr5C9DIBi8GSE/PgwbtG9QsW75tYR+b5H91p6N8LvS+v3LVxMgjS+/HONgiPGc5yEml985Q+9xsvvtrXuZ/ey+03MqONqDypYmxo5im92pEye7Mfgoe7HDd/KmbcW91N3tLDOew/dFKyf+bW5yTjpp5Q8nZW7bRjDOrnFuu0rKdBrI44yPq7DU3mPwwQIK8xmTxdwL24mJTzCijhw9znIaVj1Mc2Y6ttnc3BLK+im93QcZFjnOem73vQ8P0g6liQYsJY3CKBd133YzzkpZwr/UDuO2b94wfMJSI3v/4yx325vGqGWdOCYgShw+T93r/qW2KLPwHULLsjkIyWg4PGQ54fHUYQl857ZkuI3GtM338fGV8PkCniuNF7g6sMMB/MQrR720iavO9xi9NBKew9Oeg63S0sN2c+da9/Enn4RWbgP7enu1NyowDlSQ4Le7jWG9hoGtDKBS9zj4xGNOzdfOhjPQr12/3v1P//PNyKw53l2a2gxk5Ryp2LXNbZpJVMILg9j2wjwU3OfOM5GrKm7RSkVmdI1d57dkjJo6XWOM2uNp4ylEvoztQ/s0BWJH8cqd/Z/0DxSDgMs/44pRZojzZF0kFnGVDeXVgjfBW2+HxmLB8+Z3M/MqfhXnKph1bR2XbPfZcO/yUt5Imx66YdBBeZUrt3qWssKQTO25IhEAjwRgBSRb45bruwX+E+8HGr/Ifym9iI2E8ho3ax9KkiA8muwAzP5DCyvCGDgCM3F8LyK0V2EPXDGHo/d4NLj2nuNyHmRgRVlh4mfvoRpE3N8ppx8qx4D2ubfIzF+4Dbbv0l70pJCNV7egjUoDYQdF5GEJCvVxTsIp96hqxiTO9j5KbwWXEBbpBFs+Tk2jtFBmE/Mo/F16k3gColyXTndzuJBn5nDD0SPNIQms+1TIjO1jhEyw9MHJJhghk8CZmHA9tooZzwF5q5zdSck4U7i1Xd6zzeQND2QgC4TnAuO986FF0jITGFOIxopQ1RsAiWSnN4TvgqubRzgOHssYBV49K/dHdgMIXPb0eje37A1rRIAXtJil5+x5x7MIcjd5eIzQWd+YyhKxuACJKx3tmTgW6izfRmcbxzPi+269WybpZ/gaZUBGkWYuY34P2VXpF7/4AjeZu3K9ZCLO6+773/5Od4YdtCYZj5zHje+EORsxuYVGsoYnWE0yHq9Bkd4QtDx8mTdIpK7ln77qB9Gq0derMP07cI3wl804AFoEAbbrbWnbt5F78OG90clPPo++j0TPY/umED936gS93PXu0TMUHV6UDp64wJnkKmM3u1lgUpoqdRPlLV/rrYgQCn56F1jTj1K03R+hh6dr1To5gmDeAN46EwdtF/LKbWZwv6Q+FhZYT7+p8nYMmXxQCpbc+QCe5uUENXnI3p7844lYmVdAnXup5Oyh3rh+o7t983Z4VjzkPRWGvdjcoyjgXS05aKvimMAwkHc0xOWfMSZP8p8J35vdJEaf+THnHSHLs5JWYUyZ5MkgSf7S3DkZVdeFk2WUBuZhmUqwK2NU2vbiK1zP3nvvfY3lkG4o4sgpyhM+k//dU+AYQ1Cn8Bq4UcgLJs9VZ8FSpwgcz3suQzrONTl+6jg8z1ppUJORpEHm4KRPW2EKp1MMcV1hEl+535E5J853v7r5pLuBO93ynsIz4JK1f/Yn30Xx6iKfTJg9V78ryyxruFMepSi6nS9fuNhdffdq9w+f/xrFi6dEOvPRVqVtXnJRKiNfgO+WyMbRYNOF7eZEA9e36AqYK/zFXfKPXu04S2tOZeyRq3/70/+CPGMZJmGpZ+icZNBC2jtGratdlUoAQBuNpDx1R1BK5jffvYqgoWfKbdn5sxyBbRxBee9/89j/pNwjAaZN3gnz2ZSVukX7vRX1KBKp8IZGj3QQTGEqj5ZNVYNl86mFEicJKrwhY5jBI7EGn0YfhFVXxQ6JAp/Qwacino2mzYz0ow3E5KFFj4PKM+M6NAavBFMWw1TSpurZUISLQcyHiEGF55qEVm7pAPGDShjGaJNXhCPuwrdynF08j3I8c3aqW1w6033jf/gfEV41Y3WSnYTH32xnedLXrl7urt253509hhufTT+2zv8ZAnSW2bpj3eWzyyiYhe57c9/vjqFQdSUfW5jqjp9c6N6bPs0Sp5nuFOk+mLqEi9qjH9nWcY4ZpexK9N4c42cKCv75Ow1DO+nmJOldYvPuR8dxi9HDRkFf/ojxXlzNVvEC6xnnyHNigZ7UMWe70/vGdT1DT9W1kOfH2VIR6ba3z/pheyFsKan7Mz1vXJsL8zXjV4HtOPUiY3zOVppjUtL4FC5mxhZrUk/XPdDtjKC2l36UMSwbtMs4NCoiHKGlVbGywm5QuAx165UgpGH2gluk3bbSPbKdJLbMGPqf/4sfZZnPC/ZKfsE5yrvs7nTmxCLuR/ZxZvvHXerGnr5DFm/27c1DIwSmf+pi6QRjkZc8UPXa+DKhIuW3ilIv+T0YEE/K4CuJ+lZc/Cb/9ICMM5o0gEcDBkC+9BBB0Ic2eApY/7wa/n2Uwc2s6VB3pzFgnrGuWFfmWZa+zTFwrQBd0MsBjZ33EEElPNI0eKXACAPNDZS1deOBGXEBI9zn2EzmxcPHeFf2MtnvAYrHuQ+2C7sQe8xVcIcb10jr8YpCkOwo/Ke4Zj3oQ4NpnzW99orb+HhstqAAAEAASURBVK3eF3vlU/vMAEfgq3j1rt25fTN5m79hbnPpBMxS1OBt/ZJljDxQsBy7GJnjbzAQcLufesNSvlnmZNBzW2XZ2KQGNldNPPWB9woirW5tgSWKLZ+H+mtyIJ0WFbTBXsiLlZVX3QPOsNYF7/ak6n/Hjk+fOdMdP3Eiu545wUtDIENtZkm+ZiOPr6F0lHl64HRvz7EWeWLyZOq6eeb8pms+5gL0e8bEu80NJv6RmUbQ5zfvY7w+jNdCvtcj8ppJfH/1n38WY0zD4eSp03Exp72RuZ0Y5394qeCk4dGFz5EZ/6XbJzOVO4SmjOPdc076W3VJlO0G+SM+Tkg8RqdEi3qVuSMuSVtjLolKW1ihcWR3TyzyrKeo5eRLIXMXF701/jmkJp9LIasnvNmnlGYe12pdBRY/fveqNlPPg7BBRQ3jJTI/xhltZ4GRj+Zy6CLoS6FmNQgUkYNpoN7vuAYJW5whNAsOC4cIZpDp/0QrljF+sWZL2UClQffE+FIshU/9b8lyN9coO7EPUzZorTT17m9bH20+KoKqO9Px0bTJo+AITgLL2HHlwGi6QQxTQTs2Ixwr2jiFXJUwcrJPX8q4GE6F7VVFLBeP77pEI7hU3D4HBZcybdEw73bf/Pg7bPHJOJLMhXttG8XBvFqYX9cbdJ5EMaERJyZhPJ6dkDXFNn1jWNljjPVO0MAmZ2igWKUTuGjdjcyJXOY5RaNX0GUMkdO6dKdnqQcNLuNLEIcSx6sQ179uSv4UBDYwxwFrfL3Kw+FG+aYhozdAWeP2iHOOq4kLwvYNPY59FLV0c8MRx51UpHFjg3vceNRJJrZA4whXlPAO43nSO41exUrv9iZGyis2nzh//lx3kmVnZzhcww1OSJZrgx6zbr56h7BWduqmHnPQA/GleWano/TjbjvOZi9U5DF6HRSASkLYQ4cNFM8OvSdhWG4FnIkty5B/zWBYl8KWDtwSp1nNjR8LHxpz+Ei0E3PQblpIhbc3eW70OvhufuFro5g/SIhfcCQgwjNRilB+N2Jypm3sW3eESe8oTz+MXKYyaGHWcczaJvMo8xEMc6ctDVw3vEGOptfnB7+l5wjfVQ+yeD3CEx7I5Dt4VtgLzBHY3LrDvtFPWee+wgEYeEjEhR7fPLy8iR/boRcnYc2whvriRXp90G8Vo+zm7Vv0uN2ZbyUK0SEXz2yWvrrWVcy1kQ5waFOf4jH567/8S/Z0P0XOgtlnsuSZbOSjkSnvSAeVpRvZFA0hLzSaGFvoLnM06usZ3e0Y9SieBYj/zG8o0bQnNSql1zOXHrBKf0BX2xnGgp4jo1l44/Pne5MH1oztsSaeFq+Jly7cTK5CaW3QlpwvofeiXQEHLD1TusX1LiiPXYlgD93CGd+hIfc9t3fsUJZzOFxO6gZDS3hGHDO2Xc3NueeAz04MZUknbdJe5w++8zFyaS0Gr5uYnD+O5w06S0uHzZRPWZdPfJXr+TPnuitXrmJ8u5dAeVZeYwTfwQPiRjHVYKAXtJwHV3cXdPLlGt4A58Ho8crmMJ4wCI/5Jz1GL+VW/UE76B09AQ2v37jBEMBTtpuFX/sx4AwrpgKAQANV6m1v642xXUn7w8q2wquNVcZWHxH9zdWe1AoJ7hEU9ldfDVbFOVQk4BtyML0rLHI1/eU98d6SS6KOIFnACK0PdW+55t5eJHCfEXCrUIeJMsywUlFUH8gv5JLZQoQhTEgbaHWTUOLS58Pdp2oEVgoVTfrMAoxANUxyMqZGo7JxqJhVTjYwewwyvJfxBAYb+GRh/O0vPoyULS6sXmCHlr27xJQ1gUKG6NMH1TIEbt563B3/Qy1LlmLQg3QzAsewzAo+jTBUeIjAJOOnMt/EGMspxhAehNvzcTIIbY1vIOA4NPrFMVXXkU6PsbsVSn8fI4CvXOUCchwZyvLOH3CCEr/C0N3GQ8puChuv705sqPEXUypQhFWFHhunkaJcd2ls4zRWaWhPx8lk7kOswrbhS2PH6u0heyrSBGfi1ng89CdvT7PapwyTM8u4+qe6hxzJt7F5n5m0TC6jQZujtrSTX9z2ND13DJRCVvysWanOchqEhJN9asmR9DYdOFC0o8yQf03PQ1op+7ZwxboEyPFWe/WSQKPNNKoQ4frs7l7ujmY5dLlJr/HQRwygU3+Vvd9TVbpJ6vYNekM94nOJL3+pYH/VflwJqhiGJmwQjlALTxAQPLjbG61YwEayNThiVfCJa93KIvITOJnG8tMMEkeB1i6fnOF+/swySqp25bON7LEqIkNCPd7mKb1lVI2fGCgNTH/Xq7LCszR3K1jXbnuE4pFjp9g9zT2r3dhGOqPkyGMWhDQSVTIbzFfw+SG9Tc9e/+Sjj3GnrmQNvi7x4ydOdZ/99loU6aWLF/rd+7bY/nU5LnQPBTmNG//Tb38aY9FtQh88eIgiciUDqzvAXRqq4FT6Ho+ovLBXzLB39/Txq26a87V3HebZUlYwDCDD8N06MJ317hIr00la6S+NkC4SG5jwIvnmShzjmVYe8BnYtJXISr+TTueCxtBLZrW7aY890eAnvVFIkpxE9LhPxxBwZzbH7+0Zz9Ae9Hg4lh/ZA23Nz1P0nM2vAere7Usos1knu1FvQOzOMEnw3JlT3RfXvqC3zRg1XiU9FNdu389kU/nw4sV3ulu37pFnDZ0pD8Z7BR2cyHeVrXw1oDV2p/nuNrg3b99O3SovHOADHb4r9xiWom1DDIyCtW4Vo9410876H2M9t7R0jL8KXC2hxC5lCr/yDb5+zdaverucuKanx3O2lc/hz8QDBFfJLOfOOLziV8NyG7QTcxt8I07eexitLfVJRhIXjB5k/3Lo1hJVBgc/vi2MGIMedUt7MBVvI4VrSLc4slIQOgw8wPw6CjWsGEYxuBW0wXrbvcAYWTqYySi8L6cQpo0tCuVA7j2RkwQY/gdcEyam0xqTGezxqbjdKECmzh/M4108DuOtcKqwfCzApgvdyFfY4hVL28bQ4ttQ6A07LgODuXOViL1iNmybyJL8CLXkfhWkf6Ph5g9U/jmJh3iBn9i4KlkzbIPlvsiSq8w+p3FPoS2cFLSAdldRu+tTzo5G+W/h1hZi6G1+0koFxOWv2eeNhthCbHTi7JjSDj0fLf5JhR2zxu3xzDFm7piZSlt3suVVCXrKkpuf+G4e9naN49jkOAOk6T1gWWOBdNNY/psYT9OTnr6k5U3uSLEXCAPdqpY7lVqtF9yGV191CdAg0xPg+KZ5ioPLyczb9DsISpdsKAwtbdxi4GgNUETeS5AWP/R8QTp7I1Eyav+iUOXnmwjkv4LQ7xUWgc5r6jU0l7LCrO+mO8xvpm08ZVy9Ri0siobyCVdjQiXhX+KbLriBKxnuwwduXlNpS6n4GnctbUFYXmAT16vwpEvWDEOrKOnEqDjiKt7yIUmSTuU1rjFBfm6Es43QffbqKRuhMG8Ao82elYoPzDLpz8mLbV6AOAov7RDCC+v2nbu0T076oky3792LgfXk0WPqkXkFTA689/AJrtZaqnf37t3Q5vGTZ2x08pDjNS91d+8/ZJ7F57jAb2UsV3euR22+dhcz8kvvmHJLA8trOfApddu4kLYYFnITnw5D138anA6jxEMiov5Z6jwXYQwZvZQxLkPS8GgrKEa/13PBj0xQLhAYHuBZRaQkkxZmYzutBmotqa/xFGGYn3GGN6g66a88VhXfWI2fKgWwaEPmlTkgpNFYhgAKkuKtZFTyRNe7PWxh6A4/zQE2Pvs1cpe4lq2X9DGCJjHGRVZjZ+nE6e5bR47ZdAmifUNDl4KZ1tnoi/xpVDgE53wV93lwX3ZxLbpaXhL3V3Yr7J+liZ7E26TxNLgpZJsyt+oxJW/JAFE8J83cO8HVMSmmwu73uCxzwWiRD6bzzRwOhra4I3cz9QJeUnDzafDOY/DiPlDUFcNYI1cQGr4PMw64YBISQPR8y09Vk6kOlLtPMoT2ezwdSDPM/atShmmodJVBLDCFMRM1Gj362giuUUD82OMo5VF4K8itBMOLOSyhefPXo1DEFAti2pgGfzC4RD9AN+OUcOw/BX1hiyOtK98VDsIx3GwCE7qaxoZg/aS5CB5WbzC1S40rQ3JL/OSD4rA3OO3Mb56PLjChwh6Ka6SZRTlNmIchxKoGBwXiOIxuw269ZbIKwOQrAl7gNCBE/+54rrN2bbLouQiheXYi2kdQOL7sZI7yThADHOJ2x0gR4WyQQkOJRyMN10ZGzx86rDrzE+EtnRRyMyj36wjbOZZkXWSXsMes9fTEJjf99wzhKS0VsAjfpbqs36KzimUaXnBHK8sYo4G6nmLy2FEm6CDhLA3htZxIegQ37lOcjzyBESN0ex0KFmWZwif1xrthqQOI37eGvi6Lbk64k644AAZX6prPiUE63xttffTdelb4+cV4ce8RFkVGqIqa11w1fq6w1AApeHqGxM1LWIFBPYVnTJjy6HHAe8F4bHiS+I79Jj51VHxKxYKPs/Yzpis8/g1aR3BPLv6ETcwrJQLHTcYCn7Dz2yquz1ccKbmuMcTYsvt8e/qY50FPQ2uHS7L9pkAAIA2m6DE7jPOMJX20ykxO89AMhbzHSa4z72HrLueIU25xc9tMlbNjzkW//e4X//BrIXa/5oQueeHF55zURZnD7zHEPJqR9f/07Eyjqzn0J80Ew1BjH3wLbwgeLOaNyCMbrzj7mcLpj5LfirKWtr9C62qQGoTGEZ714Z1MLF7dfbYq/KvG1n/vA43ZHqPm/ByAlRnfHuEdcI95l5ytQRPb9T4ufJdkFdCK6tK5SdqXeYntGDR4yBK8x085ixvtrmK9du9xd51Df9rSJg2aVzuvus8//5zJacdJSGIu+SrDi0Hc8ommUOtvFWV+//GTGL02Td3wx48eI2/d9Cj77Y3uNUs85bU3sRJJSZtcw1thverdkt+05eRBlXtPteSRYUwR4YLr0xY3mLcg3GAgPuKWq937V2CJr8vvrI/qCPbf3nbrkwcDYBZc3wDif4FxaTAE8NtgHAozhWDTyQhMIwi77uLUhspKi/WFOVQUYlfmBa4K3UISRgJR7f8TG4Y0jzzx28M1JOEkTvy8GyKB+m8jcYf5mrK9FeRhSHvn3hPJWyOYjUNhrJvPMacIG6Laiw6TEy4ulkclsYt7xee4Cu0FAGzgNhRuZcyv+QqonqRqxp5RlL08TAwrLL0D4DhJw008ZGwFg4JC+OLkqUATuFFDK108rlvWL4gNJSOqDHR9OYFkf4/eKsIIUYVhzxIXYK0h5HAOB54kHGec1X11d1Au9mLWgD+5zbgPDVSGcBRWxb3JUXibaA3bu8pVxTTDHtyss4EWTmVDOVoGFQw0M63/cuHqprnjrjQvGhJlczxJF/d6etRO/trs5vZoiDS4adZIetmLlV4qFOtKZezmKWmEKA/L6NarjnM5Z8ClX8aRvk44ccnIPWZsO479xY3r3Z3r11HOE937V690Fzj2013jbEAUBxrxj/Jbb9LPXn4tQ1NwaZzh5ga+gkrhr0dD5bWKMnH/Zt279pgURLuUzXE0YVvH4qJSE7i9MJVnDBCNJeNIpiYILKivwJF8pjVhlTlf+Kl0EqViGz68BjxN+hzSQh7ma+TwtYBJa69eWLr+zE5+M3vH+cQr9SeMUChvhPcCd4q8HU6RPOLRp/dYU92xDgXUxB7SUX/takLG+F4ZDvBZGMAWvzVc2s8Yg1ZJY0HAe/S6uCcvsGEfYzPlHdggtOHmN/Bt8xbUDO9tvqNYwxPFO6kMiU05rXN7lE+ePKnyUV8OHdUSJuIQSsR4jGKE816bqEA38pTGelGknWPCboZjmjFc8vu7bIn7ztUojk3i7OAu3qYnrnEn1LqUfYV/aC29/eOjdAgt4F/XixueeQ/gzWMPo4dkg+SvUhbPVZxBRL71fGJcLjguIWfPX+ju37uLe9xeKl4MDIoldp3zCFp5IcN+gInHhbtQdPGTHL4kDv80PBzaEiINwArkLj544XB/z2M05aIszh1QbkDqYCFcodZVz5ZjD4OsysB2taz2iCwBP+thFgPMnq/DK/NslmN97e1Ac+gsYsKOrAS2WLWrqEVYPYTf5Y/JqWeUVZyAQSOQPXRzF5V73Po0JjbvVgMH4iQj47fICeCHsD5Ty5TvfRTxbLH7nFqig3cjtQgAifwIMD40AIEMjUIn60QQIbAPXiMxK4DfhnCxTwvOW4ve7sLieRCT15Y6tWXiQYGI1dI1oG+9H4w0gEdcmd7cwnTAbUpQMOk1UfH1reLKcJlwwF3GrPQ0aJhGuF68GRk+JSRlqXCfEyno9B9sVNR1uRXlaxb6w8wnTp5hZuQpmM+ToGo5z7STSWxA4LTFGIqW4roM6RpDlCvsXDjB2F5UT/f0lVt93ufsYI7vQ0DsckAF3unuCSc9be3QG3nKBBPGzLYBprKU4bl195+uoaAY70FIPn/NhiMIR91h4zQ+G+0LegnZxYeOpI3arfZ2ON3JZWCvOMjitTDJ5yWz0FlkiWJGgIK3a161Hp68YpkVQ/hbuAI9XnOF5TSbpHm+ut2tMeyzweYmLz//MeVigwtmdLoTWNbNIhg8V9uZundwX3oIxmvWcDr721niur1fMfPVP+PravU8aWmncpK2WvguTXEGgeOV67/6JeOcRynjNqcwLac+rEvr3f8KE48+VFE7Xr+PElDZqMwoPLVd8TZxq94FJyflZFiCb9LGiiqFyGPgqWjAh+/2uhWAbsiRxeU820ts/M9rcBgwOsziOKY4WQ+DXh3RhpeJvAqKPBoeJsS77+HbACdf4lU21CMwVeatp+MQg8ahQiRQlbsKYsuVdBVuuSKOuY/J98mHG5dtqp2OJf8GB9IOLvEILsJGMJscgCpVx0M3GYe2tzuBZ0WhpKAziiJSMI6lWgsapR2jGtIRlZ726xioBlQZ3TVmvaO3hvbivAMVnm7b8XEUOeWqeR09jSirhnqPWmhjvpMMd7j0yfMAGu2sH93Rjm2CPP/1tjBsxIzvjUlWG1y4QBrqegJabrJU7fmj1L80K1JYV3njvdW+4Plupl48N9pVkL9FR8to1MinnjpjtB1nRWOW8UEVyh/xlFx19bBNhwx59vRx3N1mmI1bqCv5RJ4oQ7twkCAUBQVeqAUmee2TV3qW1JX8E+MypZIi0EdjFyMql3IE+ivvCveodjPIP/kt0MFN/jFOKoJ04V3CLWZkMXjuMEP/jfuBI6c22BFvHa+L81r0QJgu/Ou9Mk8ePuZdMlAeJ7TNs4x05hQ70rGSw+V/ytjqLUuLIU5VU9SHhGhAgNq/JBd/Bm2N52FvWTxIpMJO/Y7g1+MYkAMohx9MR1hoxA0cSmYQBrzQJ0kKX7Mof99hOF/xHuKbQchEIUXKFp6wtyXig4os/4bfR3varaDDr//4k/C8/G2EbBUZYuarBFDlymLi4X+Yycrqqeg3n/NdovVEipBTkJnBMHqfzABTcDelgou0WvPLrDf8g08/zWxSx3LcUD/jXcBVoET4a8Hx7u4+wr+PO+/Hf/M37Oil28kNQBj7Yt2zlxbqJsrYnrPZbaIUXSo0Tc9jY4PGyFrnvTGWE21x4AZubEQkeaBkUDQejGHDE9ftHRQCDZ2hwcCJVwGQY6TV2swSCb65peI4Ybvk6yQOlbe9cpWUPaAdvQ48K/w893hXQwFtvkYveA0lvUHP/bW4YhG8Wtvq7t69y0ztd4DD9qG4FF0bvYvid3OU6amFzHh3vHHciWR4C8Y5/ceDQ/RwSDdn5Vq/uhodV87GFAgG83dZG7NmcrShlvg6yvfeo0e49um9Eyf0pUwWObTT9cp45RJu7vSskVLz1J2uTpWm41o3blxnaQiTa9wmkbqL0oNuuxwzaY/SS3lTPOe51c7IJwfo5j3xVZTGI6KfpLUKPdtHwm/hSaSKitJeeyZmoTAyNpgc/AnWlZ7yC/fATGQACztXniM2gkMJJQQ6gpsaIt9aJhRhQFz5FaxCQ+8aDe1qRm7KZzmSh0ZKeafE1TSHL0pOUAlge0IaiLovV3EfuwJABa2asY2ElyhTK2NNaKMdtd6pOHJWp4olPAwvKA99p7XGs2FbEpY8co413fYiNQrcPGcsbcReHDxLAayX5CadKIewGg7yUS7CWhzxMk16mNKA/GeufANrgmVj65iGKh3G2d9w2AwzpEhef/7aGy8+NW9oG/kC1pbXCFzFO/Wcdz70n8jXcoKvd1K3yV1WmeVvkyLdVtjLIY7qxQqXiVQYrcmI+O477gx1jZHUsXADR1j2oCkbATzCX9XjNtdEIiy0gk+VmRbDA1iWjsyy6oIeOm0iXhdxiDzgPbQE8R5mFco8qQvqSgOt6kLcq70Yp+hRu0geZRLcPu1sDfk2h2due4chMxU1F7XCrxxgarEmzDpNuPj6Ab5hvwj3lfCUradPyiMmBwwm3iW+sKwfzkoYXxXUV1yFp/kMLrKucpie8B6HolfBTdxCcZDs/2Xuzd40O447vVP71kv13gAaC0GAO7WYq7jPSKRG8vjGd77ypf8uP/atPb6wZ6iHoGZGIi3uogiCJAABBInGDvSC3movv+8vMs/3VVV3A6BH9mTV+U6ezMjIyMjIjNxz2jKNL/bgKF5M+NcQGDc8PKKop6Kaxn3QPgUUqz9HTAGFqcY5BXMgDdNMOILj3g7QjgE7UpfMpgQ615x4puIKhha/jG3sDYNlgPlrgRXf4WAJi2tIbPF1N+PWWDC9B/dLX/7K8MQTT+S4Syu0VIhIj4KsSWXNEFQWbfB2c7/bJNZYYXnm5JnhVVZ1/v4XTw23rv8e2FrJbaPCiiWE0dpMKxnF6tVzOqr4F5n3cT/oCVZuzp5iH/A+52aTGIe/VHgOZyrAC6x+zLwlfl5OYuFMhUABymUloLQA94o8Chk/CbAykA73JWdOjwrPRR4OUarYrrNq+hY9aoconcPbI32bHMnp0LGF38aT56ZnzyWR2DhQaduLXmQEwB6Dla6Fkuo86crRkg73w9/KHHpo4N9k25Tp3qHBc5KrKlc4X/wUvWlHLyAr+0yvX32H7UTr6HEaS/SKyF3SQV7wXKGnn1XwDOO5texd5jfdS3v7JiME8CtKHKqVWyufUtatUgvf4hm/qmTMIElscpgvooOWCl8K2TQqfeabulF/h3ftKVpYPYAjOFp4X8qjIXbBncqhotJLLEEiTC/45plHuapkOEEmiiu9mZQR81low1oKQEa8oRFeVg8brBImjHILGr/7dE0p6ngXjHTB3QQRt/lMg+iNN9/JQsBjrLSeI4+pPUmfFFsWqjyY1mljQ9LaSFfv03ZkyKHRO8xT1vWbpbgQlDRuXEEuCuXKPHIrUhYA0piM1EFUeBSMpLPxIMQSzrBJK5bIB/HqljwgDmcRbBw5R3rhc18Y9m6xYpvh1C34u/ny71ik6dSUCorkWU4wLhRbYXvUK3de4cuyAxL9+RFu2hhG2DTe8RP0jdffoA55cnj88cfT2F6lsWgjdI01Ga7buEOD2FEwy6N0Oof73e8+Rc+zZMfeI5haNMlhcydKVXjLt/WQBzz1RmYUrZ0HCQUm6QcwDTzrCKl3+gO3K5z652U5qS/JR/NnWlHLbzAUDulo+FTURi6/M0KQ9DZ/6FEGPSb4JhcKRVFTnzi6sUW6vBXNFJVcSqNo+dHgUXlsg6FS7hWoTpG57kGZi4IWgZVDaOoh/Ko1OaKaNiUXRlXxVNxJDmAt7tABd4m4+xeO5j+NsIWSgphpkKShuSsEPHZkM02Bs2EEZz2jiamQRpjyJqBhp5Hw0ZWGfia3YOBQBTfEISN2TPDcEyj+074Jg0NnVEcamJ5JOPotjH8j+03sAWRNQAhXDG056jeAtuhNl8ISIW1wnfmiizmAlpDItgL48U98cvjGv/rXUdZWZIbLNiCQWvnZEtZ0On0TUZSCQu7w3YkT7GWkF/rA+t7wvd+9NDz7HCcCUVlIk+naBZfveQqOvQn9pN1Cfnz9FLcfnRpuoLR2Ll5k4dOlbINyMYaCqnyKx9WgWSBE2Chm3KRNXFYk0iqpJtc017nj+jgkRuw8ziHbc/GkKc8B9rxut0Y575YeDDBzFBIFzWHqkxwekqsR6b3OsWVr1mNLZQZZ4KpuRzQ8Z9xrN9Hb0JVqhTfwPB4jqfI3jL2lNHqg0zOnVeTnGcGwt+B+T7d6neRgjmUUw+usJv7l098fzrFn9kOPPZbD/j1r2UrKoTqH1PfY2qNxONNKX4Vm5amytuLb23fLlnNeNLrkP3DyKJc2UEjmYKzDdNIhl6JMwNfnjsPMcNO8w7R9WfI2Q4y6hhnmT+WvcIEVHjPKIHFFNnsA3xktgZHNKB/Ce9VgyjS0Kh99YeUEsZAVpzg9itVGEoGTzpovU7qsW5EJ4q5eDaEkHo/IsDh49uGZw//brHlwBf4brLx2C9IqK+ldWV4Lz6CIsFbsFUoM/pG30WdVT8h/j2r1ukb5nkYGW6dq/QNB1UTMP9rYdd++V51ucke0NOfWJ2TAtiHkIIPQqv5RHvkTd1+ABWsShoSHLis906J8yRPlbotwe+xamL/44WGfxrSSOzdwGxenXd1+8QXqDRrOjkaR/8VH78vmTnriCX5COP+rzMlwYSTImOSC9Hhoj1M52pWta+9yqAzH9bqgywaspwV6B/caBxQ5OrfK4SUutPNEONddOF/8lS99IXanYsyf1BnUE1WeHRlwQannIRAHcRuXt5F5OJFz8ZEx8xmaVM65qpWLcmx0bNP4kXjX2OxywMof/dGfcMb3etJUIzFwlvJkIyt8syINpvZL58BsEMeuDTFTbh7mv+IstniEMyMvuG9Ql7iiPlMdKlJodNpN2rM9yyjCT3ioPXjha2RzZvjNs7/m7P7XSKORCKAQYFX2/CSwoFXpsz1t45Uo9QiifoEp0OA0SDMJhz1oW7oygoUcHIStOERV+Y7N/4Tp2Pob2GbtbwnsdnFo/8N61D2OvCWqCDng/AE+KjEE6JxoYSVQQg+buClc4RjBKGAp6gRIGPE0v8Nh9Y8BJnig3XcUKmH0j0IQSC13D+NQx1e++tXhC1/8UlZbyoK0dBt8om/BjaFa9HoexGncZrJCt4IC+vrXvkLrcnn48Y9+lIMI5EkaEwTzYBPDpyGAgBrnLAXFfYbWUK5+ffXVyylw7k+20GWUwQrISoK3ImBhznYiCm3fnmHlFgNOY5EHFsYZ5wOxW3BspbrNytOTrjMCcI2tZG5vsEFgBSBcFLbpVfPOrlWvgbkjGzFWvsZnBDY6PEzFym0hi81KudfCEt2Ya6eQOuxtPi+wzWwZeCtob/Typq7TXAywyby9J45ZkMXpfs8nPvrR4RwnOf0UHn7/+98fnvjwhxmCfzCrw4WxrnC1p7wdTy8jzTa8HIXYpncLumHG4W6m5PqhL6Qy6YSR5DX8AcUcUxbCgopv8qaVxkgSGbTrPk7+5Y9G/LXLAIqbjMrvIMn78E/xyzgmMPDXsOB0PjpKqeVfRmGkjQWJNiIWqMAzHCuB0pm8qgq7et6KTk0nVBxEUwSFkEpn5a/OyqmyrMyqeL0v3DUDL11+Kw2c9TPn8IcYpjMM64MabUirAjIp0h/VAVtsHOmmAvYgGtdBID0cl+keZypopiVQFzAvwNjq0hx70DYSkjDgVNj1gC0KocqddvkfJQbdylh6hTTebLi5UjrnbhuXiUQO5glzm/npc3/+1ywkwZE1VLs78PJXz0dZ73Nu/w6NL+8p70PLq+z3Zw3n8Dj3cnsbnNM4CoaNzFnkpMuAabWc2Gu0LCvr5lU1ZIiLMGlkW55oALkYcJHzxR0JsvE1x0FHntUvzY9/6EO0N8CIXMsH+boPTBrhOCvTdzwIhneUN3COZMHmjHi5WEk5kCbDWEbXGY06Tz5mhTruMTDm18883z5UTPAdUpO/NvQwUVYgkoX3MpEbYEr2odeSS7zyxgahdYrXfEq3NbSyWbIm3kpfT2fSSLjkv5HybLoN1JE4eHfYmEYik73hbwLgmIYqdSJe0SNV9yEntiJHo7z74Y9yAv5EMa2kE8MYYrR0Z9+FZPRKpIfdJr6jLYo6DG5OwUnAdL+hvMfRQ1RR61+muyCShonzB7JFuN4HsUEqnHEaYeicxNxtvmuF42HqZbGe/ucnDK/rMOF6y3QVWtIF/p4+g8UQTH792Z99afjyl7/SCphCVZWRlUEMRMirMby0EoU9ECLC3Z4Yb1ZYpydOC1lFv8y885998YtROD/4wQ8RohJEBVm4EippV8nRMmYIfYXHnqRKyO0XcxxvaOz2vm1NW1FagUlP1gfAvwg5PBAvVBTNCTWh20rLit3CYi/U+25vcFexNx+5iMtbfuS1PXU5auWjKSVcinjRvdLGRzqyDYMQfTjKmJ3vsvJ3OM5FY3OMLFhIr3Jut8cYbjIyoPI9xbYQD3VYhT+eYHQRRbzGUJlMzUEvpgOe+NhDP7l+ZvjGN/9yuMwlDz//2U+Hl9m+8uSTHxlOMwLh0GoqbedVW9qlw1noPRo9KtNU5uFNNUC8gCQKSqagjKtxwps8k5fdaO044wa4+Cz8pSgUAnzAQdDwpoc9/C7ZAaGK7z5GeUzF0fDVFCYfjjjK99TKk3wVVVV+wPCfbyzGMmseWvFj/DWdrvaeyLEVnbLE2gmOs/09W+RusPDHc+ZXjnOynEqXhsnMgqNFYBBWxDTQJnwRh8TiztuGkPxZQBBslDqCoTwfI3+9pekye6SvM9/tEPzODrINnHPhy277Y43ENofsiGOH91Yrf5WCigLiE59KMelW1Tf+S4NlwNGc7A6hgWNYF3we/5PPD3Ococ88zbBAudqmd3/lpz+g3HEOvq0vZMJeXmNh0lBDywvDJovbavi++/Y3yEOPiprjgClTGZWhDHmtY8kFsDQgXIgpMY7WuJjPBZUZKrfhQRosN/KKYSForMaW+W3jrZSY60rwg2/iAwh4ZJ6Gg2JcCon8oo4wf5NDxkejfNf9y+YlfMnKcEJnTzz54/oHwGJS6zk9FS6Y0fp034Ac/On5nvisW2iMJF/dVcDiMeqZfRrnSZt1AzK0xRC/9Ln2RnlJXMqJmJXXvG1088mul10XpeEZGUP+EibAhCHhlmPzXATCpGw2MMNVW1uLC/tdPQ6N8AwSQofRRUr4TnJMCxafqv/xKC0OgP/SPGWE5XMsU90r7odgK5UuVhVpmSRMj/pPJLGPMEGPU4UZnTuC93pX8ANQ4uo0VPwHvO/90cmGiG6NKkpBJaLGjMMIwqJ4S0yZxG+azaVDppiv5wT2M5/57PDlr3ylFCzxdGMmiStOCcIP3laijjrY8lZ52n41lCLmsJLzos6JGZct3BVgPv/5L6Tl++xvflOwCFgWfeBXQuZw2PKwzlDUcU56WuU4RhWdQ2lZrcrblrKtwiz+QDCTTgUUY0Gmugsu540kVLqlVYVbvWnLOC16Wqj2bt3TrMK2l+sRpcc4c9lWunFIe1rBvFeoZO3Re4d1jnOkgJnG+Ta/Ji96GCPN8CDxb7JKc3eTfbDsjfZWJK/R0zx46aFhjXnoVXpYy/SkVTzhmWmBZguTin5jbqJQiuecoPTow8NFjh795+efH55+5peZu37kkYfoNbCojDSYraYhSpq0xvS8kCGyJnmvo3Z/3r/psmWIPvRrRVHI3j+eu0GKeyL9BZHKF1nJML+0U3vZ2BrLFlGP4ZIu6bLS409+Il82PqyAlU97rR40kwrbb3CpMD1r+4033xwW1k4OJ8+eTmPPRuUeawj6UHgOuyDM3dIaeUHOlpENh2LtNfZKF7UBm7kakQVp9g5XmKfd2UY5oqRdxDiTKRGmmcDskHDoZXrF7DLuzKnTWqhyYoJNn+mkMclDtlfD1XRbXtMrxk7654gDiR+WL54b1v/s88PMKos7NxkdmEf+v/+fUXLspmCqZZ9dC2ZjtgTaQIYvl195g94rQ7fstPCSEfPi4sULxKvCa8yGDu3KrD1pF4zhgGvLh1gtf9VAtJdZw9gVzkS60NM04oKfXBCHCzCh3TIPYdkDjdLaRsFvsNVMhSg/TOMiYR0KRyrS4NlVUYNCf7eA2gO/wS4NR9GMw7zygarUD2l88d2NpUhcQgg/XY8mOYK25EcWsZvkNJbQ8Y4w+bhgsxpjpZidGwcpfLRReLvkM5Ga7qpD5KWdl1kaU0Zjo8a2yUgdfJGyzn8plIdZKCKtqR8rjfHip5GacpNV53pgWjY14nsMvg0x/d3thsLIP2kQTlAQ9TjiP4Y9+NWhhG1Vlbiqq59oQeS3kSNi/MU1Nst+TKPa6MsUfPtor+5X+MXXIy+KdfHxj/cEPOEPfQYmDDfueLb3+FJhBCF0Q7n2wAVdfpIu3adM3IBTeQgeekCUJAJbFSvuuD326IeGz372s2ndVsVLAAAVnIlxGIdFLbTgXYDhYqX0AKiQXFF8hhN+uCi3hI25KAush3mIQUEyfk/q+cKffpZFYHPDq8y59LkYe9Up4FRMHgJxAoWzymrJlRwbuJKhYYeCM5dNwUvhDH32qqHT3i+Cr8mQXWyTH/nnvLC0S/PuPgdQMFe3w/GqewxzWpm6QGup0WHvWZNWKXTLs6SHRoS9oeMoV3upNkgchrUQVauTCgP6nadzuJOgqXBdufoG6bVHvew8HTy7cPYsN/E8nMMWLNDuvXQh1h0bFNBoS9xhRCsBGxVJJ4RYgVuBukf645/6VIbEf/PMM8Mzz/yKG7nWhwepRI+xUMdLH2wxu5HP4USHw+d5TxZ04GYPSmMrP2qMkpDWOjJHHAobIQrmHr+pFJqc2FN9v6b4dW9oy4QNL6skjXKfKQjSYIVtFgmj/OoXKEnV3ung2/Tr6AiFGZlGG2HsMKkw1Q23WTx4lQV50r9+7gFEqWbPnFNV1lQIzPBiZ0QFOZQrjigkzla6pLEM8CjdnQ2Gmm0g2ODTAyLlt/OwO5Qj13EsMfWxe4d8yaZr/DmoxjQ62gKJzFB4kA0N4QW2OUoHT1XYTt8AkLLtugdkMY0RUossek+1jRMbpMrJDgp+buXEcOKbf8GqNk6s26JhvcRw6puvDXf+4afM5nhgh43mVr9YacELZSLn09PrVgZv3XyXkSdGfh68CGOp9eBnklbJQ7a95IYVyigj6xHXQ3jvuQsmzafUScDauMh0ibxgxMDRLRWap8TJ1dQ7oE4PmnRYlLJynPhMmjzyXALPRccntNv4SpkjPyIT8FiemX8LwN9i7t+bp/qVtJV3Rbi0ZhRhikbxgggAGCqrsU2MX63WjwxKtY/w+PGftMJDZcr0+UBodm709EWeoU13I9md4qkdljR4glGNJXbhMOYPUYW8OKjB5G88eSMH4DTtmt7IKP4HSNdEa14UMuhoZswnvZq3XqMmISLlRbLlnfESGz8Ca4yjxYOToqoJxyoQYSiTxbDmiUcKdAAnP0E5hURo3aQ7fjo0k6HVcEGfSqCRVuZ0qIPvJDYJOITNz0Z4QjTvyoaeHUXzNEaDyPDptI3+8Qxlo1O3hI4wsCLKMDNpce7MNHgQ/R//8R8PZ1EcCnsKX+guDH4rUFdZYPX0L34x/DPXxDl/J17Du3DLOVbngD728Y8Pn/zkp4YLD1yk0LqgBAj55ps/W3zHV9aGxx9+NIdweHkHdc2whKJQqVO7UKGirHkrFFEfANhfT4MDwZMe//yOwEuHLU4LCnTq55cs0Ri9hcQesy1JlZ9nB9/gvF6PAnWFbVZ9Ugk7jE3VShyEJ6ANe0iLwGuXJheKXbt6NT19OW5hyNGhKGx56zCeldAWJz6pXF2clsIAPlfEf+0bXw8vH3zogeEBKrxjzPmpWOw53KHh4L5pBUSF4t3RUQz4x/AKXfDACkDFbq56OcPHP/GJ4VdPPz386tnnMoR+gsZTFXb5Dj5osnLbg15pthLViM/HOKPgWDOQigsXK8ojZnQqS4HAdfPFln5wHQn1BztEHhO60mHGyhsbUUk8fl0mQkujubsZNLIjudKIfHnS0yb8cG3CNS7DsOfr2ezuQIgEEYcNARVmGpGUlUWHMJGf9MjANcHfeEe6iyPGQy8YQnujyGH3WZRyur1ctjLPsDo7rnKL2SYNxX2GujOETZqyNgXanIN3/71yaz6nV8Zb/kYc4HUkfWeTYy0ZeaJxuMvwrb1GF0h6Q9pJtlPeQLluktXHv/7NYf7sY/SiKWf0oGmzDpv//tvDFtvGzh33iFLoTR7SO6ccePb8OqNapsU94cdpXN4Gzq2A1AiBjye2MspjDfXaUBCXJ3U5AuZSQBUekpV8MzTJS9l365mw9tY9rCfXYEYJWLaY8qF+2LWXTtlyKN9RABs7Tkd4sJB4VUezKPxRhpMO88D4CcOfo2a3OVPABnDRbYOgTxcot2CBtykPQATGb/7KtPzNpzFOG6ebpmCJfzTAg4bHoXvrMRtApr3SPQ0nrzU9H7DwReDuXl/tV1rBwZcw/innJKpclBPLCBCiCc5ANmSBqh/pE4cwMb7iVp+Tj6NhhRjDiajj0L0FF1WnNMzgWz6z9rZAJL6Q9CAVWv+469wrQb2IpD98BplECtayqegnZsUuDAgVHX9/Gxpz6DNuRXV5t0RJj7QeMHdJdG/8HIDzI3gqrdJvRRYjSp7eG7OCTvra20L06KOPRsFmGMmM7jTzttdjBfErjir83vf+LsJelzpQ6WDEpYJRAD368Cc//snwwj+/MHyRue5PoDjsMVgjdJQid0h6na1fx+gtv/Yae4SZ791eri0LzvMuuzeZyqRUrkOBVAso4u0sNjGuKnyLNLNtQZfScdQBGHuQCKeKWSE1+R4F6sUZKmhPZnIfrJe432SRmpciZGEX7LJyUilGgYFLPBLu0YTGs4Sbe7BnZzlykQrEm76syL1S056qlYq9a3ki07eYA73ClqrXXnuNuegzKEqupaSVrEKw8ncEwkVn0u9CI1AQt4tvlATn5sBjdvBKtlSZK/zA2EqtXql7sl1UszB85rOfTxrffuet4cUXX2Bx2mrm/DMcLhLgXNErf2zkZFjRiJtRbmwMZo7aVEy8wosCkyDjrq/QC/0F0AM0zwIRfAx/AGfzn37ZWBDnaKasxdvRp+BEDkwWnxGTfKkI650GHTJafESZQOt1tq1dYTW3Pecl84O8cVW0VUFVoLzhlzsBdjnZLnJOns0rU9BGliWOyBlKI+FQnOZlFErkRCDpIhspB0unueManu8u2U/mJC8UtqOgbrfLnCZ5Ytw5LY78tzeuPDovLF79TEQv2uQgyUQFody+/tUvD79kOuns+YeZWnlzuH7lreFDj10arrx7a7i5tzasfeJzw/KjHykcDm9D2rXv/qdh463fDQss8vzkx5/MSI9TP/q5m2IFRX+MY2zlW3q6nDhk4/AajVvPEgdZ0td/zLKcwEfDwtELp3Ju32HfMD1blWA1fuWfvX4oh+e78IxkRg5zYBJlxvLqHG7VLZRlMteybJnZp3xZKMSZVdTwvvNsz/vpocHRKTMnjfjYqIII70prh9x9FBF5u8r94cr6dbY/9Z5lyTMAZJxwEa72zjf8SKbGTXuTB5sFFSC0S3/KLfSmLPM9TwPG+7f1s0FimqTNZ5TZhpfQgZMI7Zrg5/tuusJ8IkDi6uXHulPjd3k3PMAFR6M3QFM/iQ/QghGowgUk9GBrdJgWRzRlu42RI6bB987uJF571OZYMxYmE1CRSXBFOg0jqK5JkJLavkON7nEpxwovlc0V3BJbRl/s+YcZwIzxTEAKxgCGzRsrglFoWng/mqfW0Obwbtwq7k5XOeU3tE7TIG22KjNXZQGyJ1WgufTeXrAKxyHh4OOnVJwCvj/88Ic/HL7/ve+jrJoSa2F7emWDwg5wBM/Tsr7zne9watbN4XOf+xy9Uip/JKxoMjAZS+lcZyGV8bnnd4nW9ALzdV4msQO9s6yYtufn0CTAqZxccGPWOLy2wtWBno62tuYWsJrfNT9sVHjyj5eQ2FN+13mpW8xBs4rbU8Qc3qxe9C1g7FVQuChN8kcFrRK2UMlrK18XsSzustLcZa/AufBjARrtnaoAVLR7hLGiNf9SuQLjgpornDL2KkraBoGVi4VylX3h7k93Lu1YaHflOI0cz5qG/ypq88liZGWFF5Ueb2hyz6duVhLyG6cmL5UTUJx5V7cRXbr06PDgA5eG3774YubE3bpmrtpAIiOTr+at/ExvU4Fo6TZThFZuSq790k2qml97j7KtL2DpkScc9kBP4YJ+/4x3Ek64MobX6NfD5tsv3DSGnzaTclfxxA+Qigl+yUvjJa8Qo6Q1F60gI8c8n5k833JKhPxj/aMiTFxVaWZbHbTaCHKkIOXIRmlkRcVDL5BKP2GsY6BR5eAWIeUgpEJ2aKBydsGl6Zix4bd+jLi5HxwZhbRcCuGCyZ22iCxD5hx/6iUwaQiDV/lxvYRHzRZ/lLlqHCjjM/Sstxje3WWu1zuQF1mhvon/qc99cdh69PHkzd4uW62Yq775838cbjz941Swc5yRn1vDUi1AJ2XVxW+78GaX04Qsu7vQ5fC1JmeWwy9H5DRRHo3jcSDNyqcN3X3SNJrki19akCVeldOVtyore8pRXHgql+mFGkImEc4Ogf6WlUwhwI+cnYC3ZXJvrhoTylJ6m8ZDuDxE45RRdkRgd/3LhQsPhgfWCV6WMW1IwmjKTnqm0wBe0+nhKw8yMuaUFtkUufAt/dYplmk7RCbbab0VRhStR57+5a9phCFHxsPPdHw9YoKUAUa7oL0sGKDKw4TQjMZAZMlHC5uQxesgaEiVX5+Oz7d/hbPC9jj9kj5lIfb81o8ulmmNv1lekK/mEPuYkuAv+pDpDtff5VHIxNaDhdCQJ6SCUITrHgOsCYgi0kEUIxo9A5UEj2EISnGOmz2UirvCyQTh0joOybi3qDpNOpQdWsIAIsEhDB2jlKEtbm3ibDRLUuxxU2DEVzhTyVj7A6QSOk1P78OPfziCnwrFtOpJZnt4hz3kH//ox1lcYhwKaoxRtnid2zFzJNXCbMUl7r//+79jSHxp+NNPfzr7lKXJ8GlZ0Xs5wz5OFZ09Gz0UhDlPb0JpOwRvQXeYMbdOWcnRSDl5Ym04x7V+XvPnYh1p1hjWAS5qSeaHuY+Z5t0tFOQs+1+vvnNteJ1VvFc47/pdetNegbd95yYwDCOaBkJamOxFdB6qD73rOqux2bKyurwwnOAEo1PrNhBsHMyznxpBY3uJa8TtDVhIHEBYZY/omxzKvzX77rC0DlUMFW4zvDnPiU+nTlNIN26gJE4P1MMDiUvjwgZDKWT4SCn3nPGQ5ptkuYLfymqeHuAe84j+jXIFXzX5ho+mAekjD+aHJz/6seHRxx4d3mR1+MsvvxR+2dBwS4y9J+fT3dfaEJjFUTI25jJEZyVDXnZ5Km4LU/GkJ5DALR+seHo+0zNKGvCviqvCRAHiloo1SlF3YFpeBp0/BJdFMbHLA78qveXRfnXCM3/T72aHIfH3ZT5lvQGTHA6d2vhxNMT4s34hPeSKK7yUeIz+KoVUvPDF76xW5lpWh2wVQldOuyPBcOEZFCnzRJThbTzDjDnuwp5Fee8hE3PsAGBfwLCzyvwsJ9yV7KMs+fOudQ8FsQFgo/QYPcBNDl+xEXybxkaUEbR4heKDFy4NC9xZfZ3RlFUWYw5PfHx4lLuT97jl7eUbLJ4jjmGbEaVnfjxs/vj76blnOkcmgz8NRNIExTyRoJGnKkgcD5iwnLC+Z5U7/0xs47XAlnWxVd7gwHdaJgbiCW94T6S54MWTsOY7tGmPsg4+MYunvbGYhDI6hoBC3uMHxvrJOiVKBfxO371NY9q63XpGOrvSElfk2IolH/7AE75r5MZGS8VjI+fRRx/JAjuKSsqP9UfWMzDqpqxZt5iH86zod2/1MldfPv30L6GFPE8UScyYLL/kp6Yr0LyB9R2fhCv6LPvhPe/U3wlZP7JcY1Kqjqi0RT7jCUD+5bMwzVSA0KFV098JILa486a+rcW7BRd/pxIOm0aMJJmOI4r6MPzBb4NpjFVKi6ogi3uRFSETIuBmKpkO7KRQFgqZ4UlKtqiCsiUyqAgb+GJ1EPcM6fGLv9IvI2wkwHpp8p93oasWfiOv/FprJ/hCpJAhNuF646EqRFv+ixxV+EDml50DK2OBQGEyefA2N8T8iN60+PJHesomZBLSg9SbX6kLvSpr/r7/ve8Nj126hHKra+GC3AgQWnvE3uH7yiuvZQ7OIfWFXnKDER4jxfY0Zjgw4fTps8Ml5nVPsJDLHjCJSsWaxAPvgimN5yU7v2dhOYNi3b5zcnjjFe7efetNCicHgnB05gI1lHfVHmeP9yIVofPpawy5O9yn4lrBTeW8guaNH8P0p9gadZxFWq4+t9D5QOGwicbN9hryyZ7QIrQ+tHxy+OQFettUDOqivV0aGo4MqAC3rw3zt1DMWywYulWLdVas9FGgM+BmLbIZAKvsXbsYiaFq+GJFhQvpokfRFh9VNgCPiYzEpowJqRvhqBweeuhh6HZokOF3F/pliL9kQHsfslLxuKhNZWT1aYNLeTGl9a/c23O0cVPTItpr2NAIKzdSWSCPZrV0yKso/PqSwDQ47Bkl1wJXuJMO8Zif/IfL4kpYsR0yLWyn8ZBvEZCw+jAy4RgdvFzwkHiP5nTbi8Ot0Oj6CDKxGonM8yb/qHDwSvw2eh2dcBFhFkyxZ8xFYVbzAtkIqGkIA/BdUQ6zKn/kYI5DgFTQpmbLBvPJ48M8jVVulxnW8N9BLrzeNCNgGQhk8ZEVPfLoViaPkHU3xDbD0JsodS+7mWVo/onHHhq+89TfD5c+8uhw9jOfG5CwYeGBx4Y75M1xFz2ytXH/2jvD5s9/Nmz9089rqxO4ipsyuWww3YRCX71Tc4/1inlS3G3Q9TH9C57pfDIPldsK1wLzEfwd2XT4bg+e/uHbGOsR34E6dAqsx65T4k59EjEK8fFv+bLJOoXXX3sVOBgfU3gnjc9JKm24oIl4cHOaB6uoG0Wph/a8JAAv1VPAzHDTKDzD8spXOGA53mK6j8WsyouIyl0irD99UacwcjLr/QjB4UtcwjQnvyck4tU9R7ACPvQrD4r/wLW8FVHVZyaKJ1FV+Z3EV15BR9yJLeGFbzglSLruYnpUI52AfkBF3dLbiJsQAqZuIL6EQ2LLnkoQRtdQZdEniTJ0+q+jMA01DDeFN2mqhFX6yh5mEbALZDKpIUpomdlMEp6IccBZq8LSTSrN0AkziURBTOULjoceeig9OgOKscWeiuJn//izDB+nElbIxgyoSJC3pNOMcWVrerTSxRPeEMaTxH7Gft9vfP1r1WoNDmIhY23dnjt3dnj++TqtyXB9fq9a967wRPExr3Oeu2gffQSFz3xaRILCJb2aXtDCAqTcVdwOSbp4ZIP4VTofe/IxtkgxL/0OvXJOFlvneswVzhE/iYJeZpjd7V+rVJju6VRxVwu40jfvliyOM11cYi4Tf5XoLMrNxT/uy5wnzp0tCp9lmTRnmJ990Z6wBDXQCW+4rUil512zGRLcZ8iT24tiwjMCg5caNenyLm0mNqnUGTUgTiv3xKsCB58ree1zid3g8sA30Zex4MAQCz0jghiUMtMF25zEVAvfoNdVOj2sWMGpUliED8qdFUxwWqE3vEqJlUv/DuZ8CM8/pTGg2HUWvmCLnj6SlOF2WlLKYkarIDZ/ECz+2LusgMA/8R8xxlERJC1H/HFI2OYhXmVD+aKPQ00RBBkOdu40W/+an1mQaTNxMJqjkvaxMeaJcBlyBd/urusKGEqBPtPiYSNuvbGMacgK8gmeIYv7DJN6B/keDVeHwoFyRRk9LU6hQ6ZcU3DrFdYcMAo0h2ylzBHexqFXVN7k5DkVlUfdziLneOU88efeens4/9UvDRtnzg/vrLEm09IdAABAAElEQVTYC5zHkJ0leHmVUa7btFRv/uwHw+bzv2mNWLnSGyCRIjGFxeKcmCmmm6cTj6O25BPOATJcQRtPT0cP5Ld/RwxBpvPrsL9++YMHY76LCVTKUhp+fBhz9cgrjorvqAj1uuNAPAkMbIKCi3fkmnfq4z66AA028NJwAIHcM+jkrb1/6+cfvEbO7Ennqkt7oqir4kWlo0WcOXhZZJ0TOsMzMfZ0lD0OUz+d7imnKSvUJUFTTs2akQbzkIefpKvT0mMMqPyQsDy+Cr6hIYh+mCYP7StOFa6Hv4uivnuSCDCFVMQxvOwVWih7JPqkRZAEFMuN1ET1AumwSI4WJJAQGt+91RIcumGR8chVoHocwYd/V3LUJg2LmJoptHyMlvIYPytmcerU6ZA1Gr8V6AgcFcU5zpJOqy5ECVFwzte8cvlyVaLNWV719AquEuhmFgXkEZLyoHCTbtInD1944cXsz1ZU3RcZI69YdHKCHqotOecJ7QXmFCd7lvRsXLDlgpQzzGU/+vDD6d1WmiptPe+qsME94ncIyxXczj9vbXN/LU3cC2vzw4fOXRo++ci54crl3w2z7F1ctofBQbPz6Xl6mEgNaYZEuQTd5ptJXFqmB8/FGpBM/nJbF8P5izQYUNc52MGtVDvbHN8JgEOACcRbpZSKHwWYAtqUa45nFNbIhLc+V7jgzdxcr5wNwR/zjvvugd1Ga0ADANANb7jEZHfGrW8obhUC4YV39lKcji44HO/c6zYnrzklcYd5RhWFCihKHn55+IPzejZm+AIPq8g3wOo0AN8OkYfnooVMeS3fsxiIt4XbhsmYFwoFARKGX98GrOFGwyn0hGNEwzDVaBGzcO0de1xISjAQRqSGKff+ixPoS+ZCYANvoXkBAJDclC+mOz3e4MPLP2TAtDvknOF++GmDx+FeBkJilGXpFUM1xsg9cNTwJpJA3mbelNGfUu4SGuJCu9mMx7DPVqwteOBhGzPIkEedlgwgKyjwRRa2ra9yctl5pmaYutlj7nSGw3j22aHg0PUmbi6YnF1nWubkxeEkC9QWOAv/jVXe5x7mIBDO7aa3PUNcb9Fj85CQa7/51XDnmZ8Pu95lnZGmli+VNH6Lt6FXmsOTYqRSFX9/SW/PZz7vacwjQ6vAtFWeyWdc+RBnKW8/5ZHQkb7A89PC6y49GuEMK/L2YE+jWLT8uTjLwwytj3OcsHEHbwvLiwD8WF4KJb/ATP9CHQ7eeS1IIz7hbFymg9NbwwBaH3gCnGiTPrAVdxNaBGLB+C57GqeOsPhQ/twSJ0Gdtz1EyZO43e5nuWt4wjNJK0jjk4WyZTRT9lg7OdLXHLrCDktwDzrLCA4BT/4J7JfvBuP36Nz9KuYWsoIIBK+ML/kWED+KR6I42qPWtZtQUXElUFFaxAWmgP2dDpYvHCy0qUStdDQtfFJqQvkL89p7JF5siVsk4rHnMG0IiX8JtBWBvo3YBjbBNR3ukF0cCTkJm3j4UUikz0UOLk5xjjixwDzjljDjf5v9vp45XJ68ZG78JwKVWHGrtB6iNFragsocrsdz0hvw5q0y8kfDvmorJ1qM21wZOAs9bimxR2cPQiXhnJ/zPw7XljFkhfbbtBAy9Hny0A6rRvd47Muu0ms+xtD2CfCoeOa4gebC2srw+osvIvj0blBQUpiFZCQuZ/9Ct2l17s70WtDnYIzn/jr3vcgK3QV6PfMMi6PhhkVWxS4wb760eYxbMzkbnMVr+xYq8k7KbLyo8pwvVu7Dawt6ZbTYU/iVpxQQelUqcNcH2ONyYNiRM5NMP4svtlex7WuWuUZ7eZ7ytDe/zDDqMvuvWXVrHgO5gVK2IaTyd4jUiw52qcUYrM4IRRprYPOEJ1fD1qKXUjbO0+ZYR3qNDpdXwZbZ0NKfVlk5NeHxor3SyNtEdgMTE8ZKTcr8xq+/o7jxS097OpzhJ9kcbHq/B0jgJj89BG/zlDyUx9lbDP8rC8xhe6w0fkIbsOE1dQzK12FtjT3k8Ix027CMEY4wwokEK/SZFt7yhfzw2/TbYHM6STpUAvtc0TrDUPYM251m2QZVNQk5j7wsI2Nri6vD7srxYTh1nkYZDQjycpMtXdsueIp8UeoY4Vnm0BTXTDh0zr8RQ74Rs7XrtcvDrX/66XD7dwzvUgaVJhMn9Qf5OHGp3Enq6gd6k7App/dvJS6YoqJRpmbYquWiVWlw1CEG9BmFYI1GFvQZn0ZmYsbh2MDZY6794mmcI3cB882ffLbhl4ZrUmjc8Bv3QgtOM6cySjIaI7p/lUGz92HWdSxCr2gEU+HUoj7rEetmHhvIIqbRdeLECm7yHmgDGAfePtYFOYIXhazdcK7xUG7cURb6AE3ZSWT5CZqM2kiz/rokLZ1HvPOvlDUTS4XvTnmPAAQJ08CmW1CWp3nVYRNXk8pEImj3lgYB+RnTKx8aQPICzzSiSGsFK8mK/hG2maOKuvv4Bs6oBA9xRNBomIaK/7RD0DdGJXSLb3q1tAnsCRIBWVPfiWwaW8U9jTPhGs67EnQw+D2/RuYFCSlrjHGUQEblRh/cakFRY9VU5PLCPdNVmI5yJgLVYk+mKHx3IRhRDJQtwxv0BDyEo5g+IT0ncaHEmOlNw8F5WnvVFlCV9cMMza+zHzjkJSkTBpkH5t8CwrBxm94HzxK0eHjEEhXdAu855vCsgFO3Ujkso1hPsIjtyquveDohjQMoFyX8yBap4FTx09pTuUOPR5qeZS5/yf3OuDnXvIcSy5YTFKS3fs0zlLmCIt8+zoUK1+gBMeye3IcFxm3BroLIRyrxUE8B5hP+pDdOuj21CG+23FA5U1HYgu9bVUyr89VV2XgwBCuOeeZ3Gd6n6zeP5llm6fL2DCv4N7mbm0p9fwnVTgXikHvOVge5vDVOFZb2vrrZU6mc8yx+GA3f0qIUyxD+IRcH8cUWuj2+UA9lQPkajSAJRlqBqRQTvII2nli5AaY/ccSr4e54DOe/PBork+75ft8t7A5z0iQ9psdlo4z/NBQhInRYbnUzPkeFak1EfRc0dEOz/mRZ6Df9OT9d/uLn6mh76dLthRzuTthxuBo59BQyt8rtb94YdjklbI+FiiyMGBaZQgGchia7AlgrcIcGxCx5q5wucRjKsg1MeCyX6ZCxyWuB7Xg058A1t4r8zGwNd15+ebjxi2eG2cu/5zCVW8xzEo9FkUDT/DN9MaRB92m/7tUAGjfGEAe9D32BSmHAyEstRmxDiflyVqMrI1540+HMe3mccgC/+voKAWpUs+e7yhhs8G9S4ct8HpEZFabSUu9yKa/IdXfob8OA0zDiFsZRlQ996JHhxBp1EUhVOCrVNOZ4Wz9lDQHpcSTKeuodtqu54yQ9bhrDUG5I/oxbGecbOl2lP8eaCKo8HnxzDTb8SQZ1ooqejNwxhRE8KryUu1J8NnsjoAYBjcn3u6RWJx3uYUwoJmU4dr8n8GUT08RNzOIsSNzDr1ZKcAzPfTeI4Ae3smraQxdpn9YdwtxfUTdkCkEYayp9ROwjBlEnEUZ+0FSkEzfhO2y5TocQz33ZliBVSCrmCeYPZgsOkzJFcdElPSgiC7itPtJaC2pIP8KmAm8sCZwY7GVN3N4HHZI+nWw+VdA6qWgc4ikqDuKSVulJ4YPftjb9tgCsoCAffviRCHe1LA3bc8ee8BwLxN4Ynv3lz4eNd98a1lmBfW79+HDp4Y8Nx+lNK8ydF1R14LbI7A+nmBd/l3CeDawQibKGMxnyBafz5BnmolCeOHNmOHb2fHo+exmmJF3QSN1iyAqbysg91BTaNbaYMSR9iwNR9unZw17oLKrFqUiZPiveMmKhIoCyOXr/C/TUdxmq3vJyeLejUSnYMFDRz1EhhE7SAaHkpb1dFHAYizIA91II2x5OrMwNZ2nBs1xluIFyuEFlswXgbZT39Xd3mJc3UPF5H7r30VbKxLxntBOXFZO0Zqg7PFKOi+LIVBIS0nHHj3ir0QVdyJkHX/juJvlAlEHR8ViBN3ve2FPn9kD9jbvKbgIs7R/cyPd+2IXlXlmI/IWB4MNfzMptH+KvWAIVngCS9ML41B2m3XydJz8tRvI0+4TBjY6tqRjnJPF0v74No94DV5mnZ8jI1Qzb87bpKe+yanueHvICjSaHxWl+ZmX6sMfWSMruEieMLSMPngf+NtMtGTtC6e/fvjrc/NGzw8ZvXxh2r7yG7DjsTb668p60hncmLnwsGTQtJEOKJfyeRjhBDFr1yT1BR4/ipJ8dd/VsvZUuDR8avMaskSeWO/NHU3GU3e1MXhWpYg/vgE1vFljhxV6QCTpln1BQPgU3Ddvd+7v8rB9pKFE+VhjVEovxWu5KKbud0qkO6whw8pNFoJSbjJDKUBnFO2FDZ48BZ5FDtdJnnVZU6V/u2jTCWZ6Mqy4Y0l9jpMZR6cvwdcLqp7tvTAevr7v/NlnosJFfcWtaNPVRvxVXRSF90t8b2L7jk/Rpq2+nBXXKdxWQwm0EgERRF1Omo+p2gwElMTxJuN9aDY+1vuJ0yN7g8LJSiVBNA1cQwkw7ai/GJpARawyfFkd9mrVl6h2edafmc/iVNEJ0hKkpgqIJCipagmDhv6PqPesshmJRgzgE7SSbrlVWQIdLVDJgL8YIAtLA+zYMxpTJt/5dttJOZq4ZugK+MkA1IVOLOd9mhWnPVaF0qFEBdWHNiZOusHYOjxqQCBJHSEHhMg/3zE9+PFx+/tnh1MLGcJLeCEVo2OaUqcvPPUdP4vrwIAe5OFdbBRsU2KXfofXjx05y9i+9Vksb6YtiNo5UGCgp7cS9QCUxS09ImOyVJpXOBFtKrZAzRG5rOPwo3izTa6AkD1so6z32qKpMCRTcQCasL/nsnHZ6DYRXr+1QYdtosVVva2CWylv+QGj2/BqOkovd7WQsYGot6/DePBYphvOhmN/fHU7QAz9BpXiLCvsWPbzXN/a4bIK7jhkB8JIP6TGtSa9REqeVj3xXPjQ4x0Qe/CYKqxh5mQeILlNdNlBNcTMgnPRngkhHTUdcXwUT98MeeJn5QdKB623vXB+NdAWs2Z3K6A1xt1+ZJ959nAtk4EtJPUzXmN9lS4WcUWL4nHwlsd55bc73tKThRB6kx0y4YLNrzb8jE0kcLw+4mKFxVPutbQBUftsgJXh4hP5laQBpdn5759awwTTRDnC3mPtcgobbrBje3XHBJXPmdKPfdP3F9ZvDztWXhztvv83JJbeHHeaxszDORoHyYVqUoch346eOSacpP8zjSKahRiMvlYVpYz4or3EX4JC/sIgFASsUqYxFfplBpl9OzrBaPuVSfgjOT4aU4YsyZSNPd8//9vQ44w3PycOsp+Dwo/S8zRfpOEhmZMFyY7nWKzQHzhw8Ch8i8yO0+VSynfoAGqs3jHI2p/m2bCpP2q0DcMBuyqS/pZO4PepWtdz5loQie7ssPjQ9UX7eNmO0+en5QvzKH4+NObMyELylTflKHsZdx+YPnvjKF535FnXQF0h+C7y5CtRdDcOfPApM+N79G5gQ0hVnIMmz6oTAcfKtQutZvIdgkIpNrA1XkL/n9qwRPDEno8WVlBWhnaQ/5C0jg7Ow8xuq8ppOcjH8UAzTAIe8jnwqeM0EV1osuJmWxoh6C6TwwGBpg8MO0+RWF1bAWikryBAdbBaSs2fPRXGG9Ek0Lbb39yoe2LNYYP8zRxGaTcTR0y2JnmRkfJ7W5a1RNdxjz3GWfdbn8LPzKAG03vjbYUvF9q1rw5u/fW648bsXhuMzd7jsAyUPHLuiEA0gacW9+/ZbOVZx/fw5XFqlAJ4qVDPD+pnT9Ppu8m0gCz1+FBwLkvs296h0j3kxCMPulsk99q7KSxWkK7CpLlIQksYURgRUONlIjM69s+GViwNU1A6PKrSV9ipAQvFIsH5aIcU2AH2n6knbAICWHNBAnF7QITHuKzf/yDiDptCIP3OspkUlQK/eAmPLfxXbCiMa55nnP47fb9723l9WLstTiJH/lQ56B00GoART8iKZPtVqjkfJUWDNRXhOvJ4FrUkrm7D/f5rw0wqkPfLExXUZnpxhBQMAKQu8k/YpYlPxAK97piQaTMqIPMXPRY7pETHJKIzDtt2oxKyES56o9mGFoxXyWSEJToCz0JBKe49esrsm9sgrZTeVnXnCMZ+zyNDSFXYHvHxl2L7KoRycAaDi2rp1h/37DqEiKzQMiLLCKU+YVJbJAn8O5kVG0HRFlmzMoDUNchdjxt/FdOf+vgtId5KHPrBsNN1tygF/e6Y1pNzl0fxxdGOLRozK2egSdhIwbuNns1T9Qv4e9uD77iTr2qAtc+FH8UQeqUej8B1lgk4VVOKAPsu0iXNqyQJsvmusq1IOgOmojUX6AUwc1oumeZ/euLHVkD4WjXJC2j0zQfuIJJ5+TfA2p/YSf5mWov554C3U/fz1k4NJX+z1E1J62CCwjqj6wzx0BFAxNy2aSm+9K18qcKf/wO1ZCXG3nxaRJMXw3ZH5toKtm06CdvQT1sy6rwFXJ3LEbzieMMm4Gqt0O2I64BEPHBJ3Y2EKQgEZROEYMU8jbvSmkCpT/KmonYs+f/58pQf4Qj0znGXP8joHdXjcZtHZEFRUh371O+ivwLoNyMUfpxk+9g5bj/zTVIVHCGBuochmnQdmYUwf6tHdw0aOc3bxLKue59gu5YKNXSqpPU78WuI2qcWdm8MZ9i/Psjjs2PLxzAdamE27vZ8FFqdtMFc8nGPYmoJknL0xkqM+ocf8zUUNzB8mBRY4hM3Tqryx68SJU7i7iK0UvaN1SSVbY7a2ONWMuNw6Yc+09zzMlVTUKPqVk6cykejl9NLlfyos8kj5sqLWOETplXzzJ1eGedKDR9xVvJ6ytneL8Ei/inWGSh0Cq0EAn3ZU2jS2PM1N5eEQrPxzeJUv8BQur2ecI86T6PpT7A1/g7rfYmjeSot/LXWhUwKyUluLRm8fzcGsHsP3sqM/3AawB0io/09+Rv5DQSp1890KhPdte9O0pDzuMKk1r6FKxaup4XW+gVWRRzmg3IMn+Ep518JE8SNnYkDurJYcccER3PZo+QO/PFAe7Wzn5ifrFdxsHxYN5JXxO3JFWB8bADYg2bDFegOGw9d2h2Pnl4Zb9MJsfi2rPMCzbOORiHM2NnFlmlP8yIfIQTWanjf9TWoBkIJK+wj4ASwGTxRT8RwObnzSkYd0ylvTqMNob4E6vuIBvAbeueAOFxltYX2V0QIsv8p9eIi94o1r3OBo/mCckDwTYz5OuwUHuHSr6BrNBiE9opCmexnpJES8xSwt5jfqDCEh3ZRB48g1m8lLd3pUXdDxTmPPFMkYmRi7AS+4RwPOHm/cppGMQPeyCOwTikcgv4KmpVdeVZT4TMWtVfGXYdavlp2ku6MLbdaYhvNfjzb0Hdt7/GSVoJwfE4Uln5U5Vqa28HoL4T3QxTuCRkZ3og6EIUWSmLmpovWAdzwlATiVquIVfggrjS1MyE3iC1b3MEZs2IuvQlWgfBt34q+36br8yuXhIhdo2NsoASXdwDif9slPfWp4hSMw0xMQbzPisFAkzu7IG+fE29/G6SEA/81nPoMyqSF26enlwpXN73AWdiodFNQi87NZ4MZwoT2FNXqQcwzN77JIbAZFvUittMxJTtvEvbq8yulLp4d9TniaR/i3WaAROkG+jJAsusoaybF3YjwVZ+WpdFlZe4iEU7W73pSkmxUrFYNDVcvehc21f8oepZLjFF0oNDdscPvOHRovyRt6qHObteDKQyhWGBGwgjdMcpkR83lWraeFDurwDZosjFYDHl6RiwBsqLDQzq05VvhmsUPf9s7lwRrbdW4Sr1upXIEu/VmpTninDEyrpcSLGHZYEb6gskapCxj5AeMMjYkd0uFZ5CdZHv42W9S841Z/jSHMf429Tp/ICsSY1vKJdxHYHKRVq7D3MwfC3w/wD/ET+aEIIstjmqpn7JZDRxg0BV68VG6kX4VZZaD8HT2J3Mg/ecO/w7O9QRhEJFu5mUGGvJoxox94hBv8pNGEvLqqnhyFl+RwPLUTlnhV6K7jKHmgFyUvHRpO5e3hOlyocYxG7R2HgTc4KMdRJg5AIa/dtvMwuyLe5Wjcd9ljnZu6DG8CfY8mDuOXlp7fIaiB+lIWykBb+2sO3bmlYco1QYy3h22goaGQd4VrvCkDyu/IT2IiofKp80QMaWTbysGk/PR4ygUA46z8EWcWovIu5QsQ8MZRjSsUCA1i6wU1p3RYTlWiJihD1LGq+M0v/3pSKw16S4Jh+X9vMwlWsAlD2IoURNJCBpsGeOUfvsFvgLi08mfQoigEF74/4LdwHCZ+ktLDKKsekC7MoWCVPCnuxsWa8tZyQe0ij0lb9F0HIRXd2JU4YNTldzNGURVR2JMIp6N1Tuh+ZiLsMLEVjPREMnxCyDEFWmSRGaOAFEU9rmJei0lSCzwhDDfGY73a/AWR9piWPPHZ2+8o4ud3/LswWDFxeiXzob976Xe53jK1hkKf8A637gyf+vQnh188/Yvh8uXLqUjiJy3CBOEU9cFfRNcNSiiOrTvDI8wTP/H4h6L4LTAErbRQecmnq8zjuvfcSzjmXSxlb4fKbJ8h7pmNdxncY+iPTi2neOae5QUqtaUNKi3GE7fsaFPYF6gklzhgxAo3ZdpeEwXeHr2tO6lUcHrLWf6oCNNjIsUqPYe660ICFRzKj4bAPuHDEeGxeZLQLSpDDwVz+DvX/wmAYG4y77uKolYRuIDHBoLFPb1raJbhgkaRh89U6mSdc2Bu8ZonbG61ErQgsSB7Noig7STD8J7jvMklItJFyvGrwuCec4fdMpyrfFCJh34q8TqOksMxBOZxxf8JDmJZY15/y0IkehoyqcCSp+aLDdOSEcNklEYGYkZ5w12cXdZM271MYp4GkB//JQ3oUnFCTzJa3NArb2tuegE+kCZpRpmODQ9o6mRV8oSodCXd5FOtwidHKGedh8qn/gZOBdSiNVkWe49/zdw1cm3+y1bPBMiQNjjpIxPetzxGDtOoKjlcYwujF2Dc3kcJM6zuqIpXwvqcWFobbi3eGDbnWH/AzMcySmfDRWPIyDKNPLdBgjHDxYmLeLvMy5KDBmI1yXMlzjTyDa7IEenLJ7+WFaSCp4PjA3DqABknn/JgFQXP/cxYlwGU4Px0N7+NV486X72o0LVg/fax3sOtQPltRrqCRHhzU/qrrDjQUD10S3PFbR1UMo1L/ScPLRjhh8PZ5OEYN44ZaTW8SO5jOi/yBtZ30S099Tj1oJzKYflZj4quoM1Hwygt9ZbMitjfMa3Yu0nIKdoaqngnbPwSugdpb0JOAx/yHYPhHt5Sb2Z4P3BFbwVR5pFup4OCkpITBuILEvFUo+RQjzqJb4krRBVR7ImdwMmVFpnIOyDvIO4JkJlTfveyFpSCchcjfmq4u/oBLn4rhUAIy1/FOYk5DFJSJk5jRBO8CUzoiUky/SQ9Hg7yxhuvc1/sW5ydzQUZQafwQz120X/zW385/Lv//X/LZRa2do1QiGQUOGzxTozEGNDGzy7D56eHf/NX/yYrgHtvRVjTY7g3OWfXO61dFLXMKUquavbEAg938AStnZuPMU/MvmUK2IKKNIqeti5Dt4ssTnMvtEc+LnrwBxWMw9jbHA/qXlSHrz2UJIvRcC8OSp88oTIOmS0dwM6y4tpWN4QBY08VZYh7KjpbiLjae8mWHGtkCz00ZUUmaZaXm1xRuYzCDfOATw+CQmhloGBKv+hVblYOuwx5LwLv3mzP984fcF68EGUAfLHX+FjpS697i7kfc8FDFqRx37nqUEdRVzGhhJeAm2Pb2Bx5sMWK7zsbbIURzILDVMRJVsSvM8f5Dgvy5uhpZ40CcXkAgxwKOt+YA2VHJgQgXgd/9NM0//5ZjvwecRh9/gUsla/hv3kNb7fY7laXa5ABqWEhSJrwN7+q4pGUOOZlfmRrHGyzQVNG/25MrFANDe86oc9vKyv3stNDlikA5chR1V2UAyNYyIDljE/glVEqLvJhHqVr+UgZR/ZY/J8GhlfJur3JBVZFb601efmllxQ28rz6J8HFt/Om5p94k4+S2+wS1Guy6ILmVxBTvwbumTrlrDVeh9zu/Wl8lS/SHpNX2XVqnMSraD4cwxisBe84ekpMow3MyveKwl95vEW9QMnigCX2nrczGeRTyqH72vmD4f6mHsl93kRoPjiqmp669Qhu03VZaGz0GE/4bQG/ixF3jIAqXuCsU7OeJPVO8+eVPCSuhOkJr8CN1gYbXN0uyjGW5vhBXoad0F5fHZ/u3S5OaCPu/KnLJsH0jEn4yDhQAJgmwxUsAQhPpydiEcfptDQciaRCANkAwpZOT7D1jx7KeIiIVw8z5YOXxAdk2jl2w6RwGV7c0mwJbWkX64TmgsmQWMtABSqg/GRojIiKkiNRNQdxaM3PCFR0m2YrAm6uYrXoL59+miM+v4HioEbCiJlyHtt5FnT99V/99fDdp54a3uCsbI3HVyJiCC8PFb2FoxJiQUGRoDw9Q/xb3/zLLBCrlpUwjQdkrJXQb3/7EnPgNzld6Ty1GAt9bl4dFnY3hmOc1b3mvPTGNbaWchYyTWF7Qn0oxR7g8TOnWPm9QUdSWlsB4r3MUYwgSw9m7fQ6FR/KloImL3bbKmYXPHiXrfwlMfjxpEXLG7f8yXeeWvlcnO7xhD9AycsaWiZvSI9P8cJ0llCKw8zeZ265srrwG85jSBc47zw3hOFpGXPKYYPeuZX8AhXKAg2SWYarbSrMc8D/HEPyO1YsoN2HD5EC6SApy45IMLdv4Z9BkbuC3ExeJLx5tcUcvzdHOb1wjGmGd4HJqngpkzjw2IK3cpJK0xd5iSw0EOyVbuATRMJNbwF1+OJYwfjbUMTBqP6ljGRUOSMGPqwzLWYbzOP7NhXJmQYnjKa98g7t5VywDpeLq/MJe0+v4Rpo3h5soSwZxOj2aMCZB+ELPpE5PUKLMWOFzxUnR4NGCZcijryTF9nOFbi97Mbw2tXbjKzc9IpWpym2mcbAP9NzScgk77ItMm7GZDIm1FZvjbhHt4KZ/AILnaZ7Qu7Eprx2bJMwh21CTJ7YiC9YTDf2ir5443fKmemmzJfCUh477dqKfQkHosz9N7f4gbcbOWt9eZsLOBwZ+PSnP0oAZID8Kf5a9qUBvDxRzLw36SiYPmnp9Y5+NgIqjoA3WZrUQfEUVcMZaGmUJh4b7bWa2xwjHHWl19P2NPS8MC65nvxrdZLwIUpc2MVZtoa/eYeGIz+h5IjrPR0sLAQp/FOIjRse9PQ0UkzalDnwkXQEUcKWX+U7jdIxBWF+pS+YDmKM0yQJXSCbSxALAvLpuCcBmte0sE97Bv2BnyJQGIWjF+B86hLYwJA5o2LoNEuG9vYttT3Mvcg7SHiRYnB7bdYm3tP8/HPPDx//2MeHC+cvRNGMuAK3zZWJl4b/9t/+d8OPfvKj4fLLLw/XuC5yB2XaT6/a4tQr5zTdinKKIVqHuz/zmc+ycvx0DX9MMc+47fm99dZbw6uXX8l8kbdl7V1/m/AM8a4tDOtstVpji9Yuve0lFIwnStWCIAsNKSb8Ord+LaJUbt1gqwpzj1EuCjcstGe+zvz1Klc6ujhMHpim8JW3OFw5W3gd1DM3Stm7RNe/XUppzatUZZF4bZjwpOFBXPLeitftPrlQBJo15kr4bqQkuJS/DQJDVGG3AnJ+WaXa4XMUqafBwQ+HXJ3rYWt46LRwWGitVhwapZ6JMrbiyJnR0OGcuyuHXcC3R77uoaid1/bGHufK9xnO34si4OAJFuotb98a3mVLUCiGZJuC9vy9Da2aVdqp1Eif8ZfcmTaMr6QHS95JcbkH4OCPrPgXMS1uOVv/sRFVo5O36y+8vzhpwCe0NG9fnbYocNJuUsvVMsi3MmQ+yxv4mTzFyTxMg0kEPsDOWhFjdYhVSgwfZUr5UDYdyUllT9g0uIXGI1KnrPDYlDAuy9e2MkeX2tEYybAh51y78utd2cbjXuNtGl1VNxQtYtRM0pJPSdeVh7hUQtJYw0sjrL6aggpkEIXG0aeSLLoOrz3fceDHdDV74s2P7kGXgPEWJ35JeXhtQ9tGc8meadRkCB7/ifJuocVbCQ1cx6mTj/z0SkzLxRrbEq1/PDLYBlAegJJflDmnrpymeP3N1xgNIa+peyS06u1Y+akSazxxJ/ooc/BJdzUAwN3oFt6/GkWjQ+J2O1D7nQ6YPSYZ1/Hxrk9lzgaYJROLEeZVuevnaPjId2CUvPdhJgF6hAQy5iCpt/lCXegIsD4xEtUNoJE7fAudvxU+3x2u4RmR8G0+pkcdR3igGQNVzpUj8YUB8W8QEgGM7onOz4Ku3wMfk/AdRPRHDY546JeMTSEultTik0q47NW/RxhX6KnMlKL6G/ELAHjB6coHxsKRFDT/cq3fAAgTvKZxdniLoe+f/+M/DV//+tdT6EXYmS8Ke9pn2M70zW9+a3jppd8Or7762nDdxU0IkIrGitCjAU/Rg33ooQc5cOQSW4lY8U3Pb1pkQg6Z45WAzz7/Aqf5XBmOo1yW7rw7nOJUrwdQ7CdWuJiA3t5xKp85FJYXXswwLO2csxWc25BMpvPZZy9cZH73Nr2LW1RgblXxSsAlhp/ZJ+0JSBQ440xv13wtrnCKE0cxdkUtryicLgby5J8c+kG4PZShvWkbAJYWg9sT9w7b21wxmP2RwJk+56sXOagi89MSZ5xGR+y2oM34/PG28ZVvGx8MZTo6sE8Bl0YbbqbP4VNh9oGxkoEIkSVPovT5rpXEVLNUXN5TbUEKHH42wuxdKUvKF/WPtRyVCNvY4JsNkDUbQxxJeUsFYiFsaRSNpBf9xqqp+PVJ6ozKNPnR30mhsEn4+NLlX8yEDrGXpdNTRLZYSZAXWLgOorGxlQ/TWLTaczIpQdOCqTADj0d6tII2PhtOeBVHVbY9EDxBXjIqAbzyqtyGR4AE1oA8zviaNz6hApwdr7zNfmvkwgtibLC5kDEKHjgPkxGn2/RU9ouMvOxt1NazMN5MNBoSYAOz0lkyXHPWpl0Y0gGMzTLrAQkDOijyDkSgsJEu59bDZD4xLZr66L+gLdkQ3g9TZ4cEeAOok6q1khBdUUmBMTnVYBwquVFRS6M8CZ3SKM3Q66hgsBBTWfJVNPa0iYtH/qlEwdPTlsCEy/y6H+oKEIU+6Uye4EweeYRsaIg/dtJih6HI7lSIy3QcNuWWmJFDD7bZZgHsBlNl3oLm7W3yV1zC+AexeUuDijp6QtxGFbjJO/kbdznePFvm3I2ckVphTI+oEoyfGFxiHSGBKXvP9PZVYJNQMg1cdiemwpr5uFimEhFfWh01tHRUlAEqTGkZC2Cu5p8fTBJXID1YXEUxRW+DqDAd/P28xRFG8JOeX+OelbYLSuIp2iI5tAWvdOrIK4zqUQvX3fD3LzxPoHv/FLb6jUBhtWC4V/E3v/k1l6hfYGjo0yWgDY1wPvYiFfiPPPnk8CTPrZtceo8itRJTUJYYkl1RWSFvCpaXqUcpNYELlUn3/vD73780vPjC87Sm9ob1pZnh0sn54cKZE8MZzsxe52SvFRUztC2yenmT3vuJB7lTF0HOCAN0pQKULeC217x8Yh3B9/g+5nxRROmlQlNxBnoycmEptMVLD+faFRarcXsVQ06zDN3jiB8IKYyo+vRad2+zmIcTwtITBZfYCJBzvo8RB2dPmAUpsAukyz2RqMbmiLvoKJA1nWBYHvyz+IP3LDhm7YETt3Q7p+9K9Fnnz1rl7a1ZzrUbb+UXVFhBkI5QRLigBXPBWNjNL79LJmi9JA4rwuwBp7GhEl+Cd6e5Rezqbfex2wgiDPHKo6qgiIF81KQikAPhQ5z+K/+RB8Vz88gebRIYxhTppql4ejQpskIjp4XpsNpdgDj2hAsMqCYfkbkKB7PMgshITnpjHYWykFER4HYQ8BkraP7jbnxGTF5rYuXXnt8SynqLRp1rKAJDeHuAXmhjY3ibk8kcTfE0wcqrngJT35BFWPtH0SjdRWGH1//9mIZ3BBVTuIULuPDOkbW6QXCuV8VR5eu96pErBE5abTTWjhMbPX6XG1yJvInM9RvKZ+dnwQBnRInX8pGYE19PjXH7J1jUnrwNoMCVP8IWlG5+6cU75YwP6bE+E5ePhLTKNrwG94RuaQevMAmqvdNW4Q2bw0IYuXN0xD3iYIDEVnaL4pGWxCGyxN1lA/wVhT5Jn42Y0NV4MnqIr6Wr3ExScc60aepXhGWL49TPQdcWsWEb3k5K4ILb6bOevxW6QHtYkZc7VfxBI2mQnAT6zrcMP2TK7yAfptNZ6A8Feo/PSoCk8UdCEitI/S6Sii7h4sZbOqKYjJz/rCRO2IQe4URROCSi/DoTJi7NPUwEcwdrgS1A7pf+hx/8Q47r+/ATT0TZSktaoNJKgUKlpJJX+I6xnWp+/niGglX0KvIsnkEAu2Bkz6pxpQWtQpodXn3l1eGnP/1Jzji+yN28D507OVzkdqx1FnmcPLY8rDL87YUawlIvMU19dVjFf4653FpZKl9MND2SJAS8KPZlevTZP4pPWu7KPX+mwTf3b9BzZViYxsUGyn+GbV+zXG/JD4AqJOBU2K6UZmiR2nOYv3mTHqiKrharuT7XoeUFr8VkmJ8+TMuX6pFIlcb4rFk27fHw7aEG0hu+QLuVfR0NakONb3kkj4l/jsbOIkPiOEMa8RK26gWxAshHz5Pic1Vis47BCkG8nj1M6wvqUP5R1PTM5RX5b4Wj3ZhPrTLnTUSe+W1lYQNL8G56ga7KQpiewg7xX9+7WOnoAbyEnyovFaHy1M2BlNg4gR8JN+YR31Tqhumy7DvlkcxyHCW9LMcvNSA0/Fid+GFeEEae+0qe2SADZ9pD5I2jLfJ7lq1Yrh0ofhfO6BT8Dae8eHmOp/stIpMuStuhnLkI8CRnHVxldGsXHE6/WPl3Q9QYfvyPvX13AN8Sl/I07fgB7Um4ifapl3TbiHc6bPWYV3iyfgK3O8yre0pb7RtGHkljbQWk6FE2XZSJE7y390sfnrTve16/ZSaNG/hHNFH2SZNxWthbvZP0FM8Mk6Qp950HvAukl0fzSbfKr6CsJJiSnqLKmzCx0pgy4TeZad2YvONbe3r6jacFjRO4VOgRw9BQNZM+le8Vl64BJnwvs9IhzHRDWZqFi4wp2pmDaTjibijyQD62hoMukpxaEUuNZuAQ47tTi/XQZ8HgL4LDJsTg2P0i4PaqSwYELy9ixpI04mZsNfSdj0nkSWwjRiRjz3oCEiT6jZEaCc9o4oVL/luUnUCAwrgRWIuhfSSSAh4pBIkFE3sERL9CaIDR6JcKhuC2xAkhZZj6bWhDavHKeLoBpoF1F9/Cdb76HSGTJsw73Jj1t//pb9PzeuyxxxJ3eBE8hUweKhdWgukF0gu1hWimC9vTb6uUohC8zuvuEO4NlPT//Z//jl7y1eHiybXhEgvCHkAJn2K+9CQ98lVqpwXDQWAO7kCq9yjUN1jEdoYzvxOxKFOLSYUfFlLell7eiV+rMfuNKqJoRxfvcnjIrXev0/tmCI9CbJUYIRbOdMGGLSoKK2L317tnet6eDHdRp9AAZzQZhqJgZIiH7Ru78KCMEfeHKOgxu09bvLQl8CMMH67W9tpJYXdZjTzjrVbU2MkFFLPnDPunWHkqkjzXpGUv7eVbcekVbyo15intqdvgMG5765LjnBtBapTDXrtjBvTgzcOTVKJ3uBpxh6NO7XnOMlSgknKOXnkzrQQ1BDjMUekyQmwg7/mNw/s3hnv/0PeGlCQTCDZlhg+tRRcVlLLhJRgaG5cxjZcyN/zkLY4cdCMqKrX8Wbm1Cq6XQRtBTk347VCoMu18fhIDSzovlLdknhHCR4+JlWM+0uiCM3nvpTAK1AzdChtabgVNHZWGI+7A1mMeulDSm7KWc8f7jgsBkaEldkCc2Ds+vHPlHZQhjUevRIWgwjMhw6gbBamDJo3e7q48Yh/j9OMPNEmoqFSYbJ1EJhdZCKnzDvvKthipqvqu6LTucGrCBr8NK4oe5QEeyX9wsCwycui3bSPrBhdBGk4+W6aMS3m14eld4e4AyVArcdbwfhEFOA5BO5U4Hfw05/nt9JdTynxzAjs0Ww4AtE5QhyQtxG5Y8Yf35jkf3TcwiRz/4OjxdMxGVkaRupsRXzfdJq2hGZp6HNIWAn3BM3kjkM6hD5uNBnewFK1ig14pE6gDa8XEqaxATBlwyIPO5ykfE1n4CB2ugqSTHzoacCuVk6AB5lNi+t/E96BtmrCDPkZGaB6FIozrsR8GvNt3R5zUQhFMTCXQ3MNPE17cqngQxiwmIJ5y7kimIzjAvvIQLLRhGYNoGT8CpxDb8qwW6+xwnYMTvv3t/zD8iqFwI0QFR2nJsxhw2rPwLPAcfxf3TrPCWTyKZmRoz+yf5x7lF557cXgKvJvvXhkePrM+PHrx7HABJX2SE8COMWy3yrPsXC9KzMK9yHYtF9NkCwu9/ZtvvAammjPOfLIVsQXGCljGwEspVMjz+K1db7usvG9f4aIMcM2xMtqeqqzYZ1Gc50pY6HdYFa0CEyVV/LDPYqyNd65x4QHHeKVA2oN2XhClRo88ERKn0RtPrnukknUPunvUcyUfNJom5S/5B1H2IAy8z7DlLnDOl8/gJpmBERc02ZOwF0G9g5KtKzzNB9e3mG8xhDEdPqbBHpXyolx5WYC3OdkgtBdjRZieJmnP3ml4fom8WGTFmqvSrfidQvBxH7AnXvmOzNuYk6EQ2CQhkRr1BzUJ48//2ycRy9nCZbmJPKc35qI68gL6a35SEany5lu5qbJXlZYNM/ln2rKroVVwwUkMwvZyqZCHv/BWWe1lpycoycrPQU5Jqc6GtYe8yihR9tHi5hvnKCGVuNkLmWWCpnqJKywK9LrYJZR2zTe73oDrXDmy1qN2VdaqrOlcaljGsplGAkLlO/IUWqW+6pgeb3/38P098qE7HHpLrrxU/m18eIuY+eDaCXvM8v5uOKSl/rHB4zSkyBffdihU5nZ04legoV8/FU+tUfGM+hpON0XJP/O78dJ3Z+shsvMJZVNhJvYEMmwQTDCksyfRGF0PpEvY8uqvwAk4wVBOH/hXvPJAPjVeYWn4G/YeiXVXZLsCCd8YPRVt85tyGa14Tdb5jK6Vphb/xLVsxFhRkF+Z2kk+6mY8k/TPFzFTLvoWjLYYsiEh+tuKKBF0gPu9O1MOwYzxNvfK18SAi++KM/akhcLhH4A9bMgELK0ehri6ojZoZ4DoS2hahX04cWGgULY6A5yKqrewOh3BAaxxBJr39evXhv/wf/2fw3PPPTt86y//KtdMbtMKtvdgJSese25dMGYPVLqMIy/9Gm9W7K0xB/rtf/d/DK/Tmz53Ym544OL54SzD5qeYj15jjvQYJ4utLnHvNMrTysc5uVIoDjcTn70NuqO7XJO5fZl56wscCbp2DBqsVNBYmKRBHlJR1Xe5++mBEZts47rJ5QV7N69TOdFb5wrMfbZf5I5YCJ+l17XPqmCvH5ylAttFGauqU2g9r5uw3sW1BL02HHZsIKCZXexlb9mFXdlegZLeBH4TxYuGU7fHP61OFo84b6eitFHhn/g9W1t/TxVbYH+zC8xyb7I8zGgFlRQKR7yLwFG3El8pX9MKVMLLfeNzRTgzzqMs2SNWYe1RSbowKSvWzW+erIJF0SzP3B6uebym8m+08gR86TGanyCWlxb27FGHjjLGftRUfuDewQ6BjP6H3D/4J2mGFslJryl2vuUxbqa72hbwDQfl10pfI2nyXXlOKkhjyhl5lEs7dE0+tfKVAC2gCDBR1jDMaam++U73MX3SxXf6WrGgTJAdb8Vy9EJaHL72jHT5LrCvyG3kBCdo9rxnD+1QsboWwjlr14NI751cp7o7nDx5PIqwKzPnfSt2XmCVRw6D9jrG/f/mp6raNRzvx9hztcI+aExYf7BC70QRV11xi+H622w51BBl5U9PcBwJY8rzX/jza37in3oQ+Br9ClhoT1qCx4YO+UQg6w7Takj5E7utHhEWamM8YkqOEjBxGm9Pl+XK76IGi3HGAReD+BPnigAuFZ8bbc0zsigROZWMDkFfdKUcFsJATn6mw09cC/fUt9aer6GFcDXcrcxDk3nGW+r8VOMUjWQG34bRPR++jph4TlyBrxSXU+zNrep+4Fs5M65Cfvc00l16byOxWTgADtFYqCV82siAMSOOek+Dxl4JNvFHvCaJa0wJ66bi6/GMRIBM73r4TXmaIJ7AH41LAoR0nmgSojJFxtniNdWB8luhVtjlCX/2pP75+eeHF1id/ek/+uPhL/78Lzj7m9Ox7JlRsVjwPOdaxVZVnVS6mIsTxlC6V5kH/tt//2160s8O6xyB+eD5E8OFY/PDaZTRA8yrrTE/aq9iCUXhaWNWTjkFCjo80GSBuWN0W47yzJYo6Lpx4/qwsX1nOM6it+X1M5Ifes23sYepE7AKqnlwixXaG29f5YIM7vFF6W+jjOdZzZ0KGlq9y3qPefC5PfaD06O3F2llFHr4oT9A0BvDxktsFSNdJ8+dHmboCdlLo4ZGuZN68Dn8v8Hc9jYrORVSeWIBt5CUQqgKX5IjIw6942RzQMBd9o9v32ToepNhQhosNgA022zXMn3p0TnCgFsUpomz4uWllAgeurEosypkKy0SRAXPvLqqN4wSKya0VY/qofWTw6uswN+C4bv0rBejtEgTeErGLMjEEcIreMI369EXRJl447inMSUHjXEdiOOg912/prFor3yvCmqknzzWrqQ6R9wrERybzBOQwOnVwquUCr6lJ3nYYpbl3XQYImTVvb2GFM7uPXk3HGEFdnvg5uXAIqIoXcqAh/6QY5HJ9BgJbXl0q0/WNxBOicqlJwRVsPnPRTbSuMHCRxukZ9iyuLPzZhpljoQ59FJlumSi91APZ4xpeT8mUEZ8yJSMTDtOYATPlbmu57MuopFpEg6IBjDJe1Ec8OB7gkrf5I15WWAln8p3lLlcpLzZoCmj/5HYElcDOPAyquQ5RNe7RX8ozcatv42D2uZVoypzLoTRAFBl8nBimrd1b0+DuAHrybyX/B/GFDgCmXc9TPiiTIMw5yNAn/kvLdKr8VdeVZiSo+Lm4RgC3n6EK6g4dNr9AK9x2Ag0Ds94yHol4KXNdE6bfOlmODwYBSoCp4GO2Km4qjWjjwEJauiGPAm0wucvCcM93rq0+CfhO3ZbcUJJC3DN3glM5Wk0zb2H6t/G1U1YQ0Ar5tTI3aO9pWmChpDQmmE9HHumKQSibElK76yjCfODA2EeYcRTjDdOK76f/+xnwz/+9KfDg2y9+pM/+dPh8cc/PBw/wUEki/YOUG4MbW1zCcbNm9eGF1/87fCrX/4T891vDseZd37ioYvsheZujGMLw0MnTwynuI3KoboFeskr9B4dFnbriUpfXGrIZRZryadFFSIFm1pIjqNUsdNjvPHSy8Ot5avD8oVzw8JZlD5j17XQwjFhlZs3DDGkzJD1HkPBOWAAHLMchuLeYvcSp9HDUaHbKMgZetQLrMp1NXRWq0d5YlfJstDKldiznIK2w7WYV8G9coabxU7SU4VO5+n36b14mIo0oGKh2fnvGvZ3WJ0kER+9dYkDJyWct7JHI4Hztk1bWsAAuiXMxV3eBlYVrRmjXSRgwL7HsLs6N/j04/Eleismlbx+lgGYmqTKQzK2woBrDqAZKpYdZGuVM83PcYHITW4c2yXIbhvF8SrC9LLBpaJI7055MS5M5DuJM65ytY9WvVS/Q1Vg3+unK1gTFtklLFF9AJPSAjx0QouVkcoKNlejB7coQzHCxLHl72f4Ad1UNsW3So9zy6ZC/1rACC4cZCs5JyY+bAjxBtZGoLR30+sIEKQRpZ+XqOSUK+dZUcZeVCOlFVE1qvxYcrqEuOztKjI1rM00Co1JG5fmmdsST1OmrjMicoMGqfJrudxiy89yyiXTJYwq1BGVTH8wFG1aKjL5K60kxrQ4QpSneOMWpUlSgAsd8kP+wiXwFC7hIqyFN4mub/0dxdhtfMxIkXjkIY+SP0ecxWdwGr85QMQ2l0IbbqE3byXKOq8a0u7wcGSiN5I8Gz0SLqzBR+PHxGEiwR0Av4QhHLTyTyyaCjMJqZOhSQNWF2ZaRmO0+n3IFB5Toh+jNbKSMa9d1oUEmu9iX4c8hOAen728TXsfjN88Bad1GEIbP+PCLXPKibR9g2Qit/fXm0eTGKSkoaUN/KkSQth0mrQrPXklH7Xm9qzm7HdlcIHlu1wkUJsA/IolmBpIPimktkrwn34KMCEnwO9hq1YfQAQzq6fpU3J7IvSfYK6PfCvwAKWVDD15Nxo7A6NcUB5lBDZjJokquMIjTM9c38bRvxMeN/HVquUZbtq6Onz3u08NT33nKdyYV+b4y+VlKgwU4gaHL6CuaGFymAaVyXmOxbxw/jSLlZaG4+zZPcvQ3BoHbjjHtoSCdsuGQ7FefqFdpW3vb+b4WlqDbjextWovUQVuwXDBjYU6vSLK1AaKZYutVreJU9rnUCw54pNi4fwsCEiPBQt+8pbr6QkzzG2lPYeClTUzyxzhedtTuky/yr4XKHAKSS95i3O+VziW0y0yu+xj3eeQl1lWtNrb3+dcZvnmYf+zCKycZHoZO1Gaz5UNBYMsxVV5SlkCWslORQT9tkx5UqBsMDlEaepFgnGUIRVEvqAP9wz7JVYKifHil148bjk/3G94lFXtxJvVywlPQ4s8k0OPPXhpeO3KWzk7en+O09KoTXMqm2zDmA9VeYOdOKUKVFirCioo4m509u/38zZl4rFnJB9tpGWEhzjuawhY8qo88wQPtEJYDf02eo6gUfEC15CncSOvfcAjP5UbTeEvwGl7uQQCGESN0Q7aWKFd3hwxwtgQ4DFtpdwKbo2yctsDanC3PLmGYYWetqNaolrglrglbj87xnqOU9yjfm59MycK9uHzCxfqnu3ceQ38a6+9Hl54Nr15tMxU0atcrvMK5x9kEeMR4j6YQ9E+HYZIShimHQ/Yq4NSi0Qj2zKNYBLqy7Rrl8d+38+YTzZ2DOO8d5eb8NVG8GhKLkRYcRZ+ovkvYlRO5pXTac7FO9UiLRNTMtm/e7yWuHsZ6ewmvGjf3fXuMthDHH1HFk2/5XeMlxLf+CxNY35oP4rikEvD0vLbYmL4CtdTeCjIfT6n5qitSKg4W+U3YQRI6z+RVERdqfUIce1WIyNxfioKFLXIZiUN14DyFoanm4rPcK2VrlKBab1nLVySmQwpPCIu3Vp4RJfwqUBSDYdmfcUvLWk5NRyBDw0VvtOSuKQTZ0GtoBIk2IyjGfxGd+wqt2Nrx7PC9BqXaCwsM9SDIjx95mxujNrjlDEXINFJGNa5YOIjjzwynOG9zYUBq/ScT7Ht6hwt/3UOIVmhFbzAcLkLxVz44upMh8ujPEBAdGgfCiKVkkrKDrWE7avEUaJRrBZSwqk0l52rw9/V07MO8wLgpRWLnECkUtu84+IVdTZhSLiVzBwLyHY8+5eCtkDFuLe2PszeeRMFzM1E9JJJHXCNCQ5vc9WmPZoZGhw78yyiWz6GfY3jPDmsRH9Ac/ukhGSVsflnT8LKX8XL8KjJkPF+K0GTZmel2YTzCJ+GiXiin+GFIwk2ENTs4EhPGfrABiblAaXKd3qyVhpJp8qGfl8y0nh5/O/JMu9pkKTXDl7z6aOXHhx+fflyeHWHKxRVWJ7o5ZGwWdQHb70q0zyzp23PWxqCF55pevmCokpvXO//o/zboza+sIE4zJvCmxjui0AIGyjKhizylK40VS1r8CLz6sFgTADCBOmfrGkoXtWIFHboKEUt0oNR+xmKsKTcAdArPRVIencJUwGVN0cZLPPmgXHYcHZ6Q1jDREmZj8iLJwXqdou1HRDZ8hqxYkhRpaAyBhOx3QAAQABJREFUvsV0iOe3b5BHnlJ2m0ayZQbMsQvjYsZrrAT3IKB5DgESRjpDa0gzFVp8kiLeZQNsykw+zNNp2A4khnRCgrdclbNuOgZ5kdviiNN8KpHR14cA/pv37enhOp7+7graOnSENW0dYPotzpGYqkPCh7tDT0IGWSXC30Zh4iOD+C7Zh1R4qrzYyCx4kVQcE3SxyVjKnD3/ju8QRPusGHvadJxgvksI+XXI2fhHg391DHU56D7CNItxTsyEyh5q2hdmHIi3ouyQEyz3s42KOsOeoLNQOHfRkRlF+IqD1UMnIO4jZjN/OuKCCnRLUCDAIVQKQSpOGQts/jvm5jbV2dVnGrvRhsFT+HQrIJUMODK8pmNVENMYpjOncN8tBsOWKXpbZYDTwbRXWCuNSw9dGv71n3+LIbWN4X/9X/7nYYXFYJ/61KeHBx58iAphe3jiiceGH//wBxx3uTf89//2r6h4toaHHjg3bFGRXH7+1/Smjw2nOJxhiTHwRXqhiyhaK2Xn6HIhROPCPL0Ih8qcA878rUoNXuyy0CkqybpMZYgymuf0sXUu/TB+1uYMq7PHh5uXX2VFNwuyLrDvmorNeekcj2jaFCqS5KEingC2SwU3y/jy/i7DUCpmGhqz9ohd7Y1gWOnnbHAU8bxKg17/HvKzSINjjeNJ90iDWe2iOhsMc4soqjnu+nIPNoptz7l7cBgnsZmxeTJVolaxltJNAy+iUPiWH3PGlRZ6HWThtICVtAeoVB435QDyvtbAVrr3dptfUcoQl4Vj0O4Kd8P5iNetflGEibxo2KdhcOnsmeHtq8xVz61yehxDilDuYiXJzOpkLPMZDide4sk+Wd8CNFP0me7uZlo1/bu+gOgW8Msr6AYPv+mdupBtBNHeglu/jyYoqsI0bDVMyDfdaVwKq9WhvqIL/CpKKtU0YJq79Gf+FLkKHYksIcdK3ljiAh1Fml9TBsc0NpARe/POEabhJAigRT5ypSwpX4kba+NdeAiQI1jO6eZ4W3C5Ytb4rDbcK7ANjBez3GEIPXeVg29RRcyUjCuq5ZsjURu8d8B1A4W/y33moZaGQEXX4zdV/EUe5VHRI03+STjsKne+7meEjhnZUhgqB8wJH6CUiwCPIVq4CnjA1YTH+G523Xj6XwPIq/PSjy5+hhqja7wO8L1+AkyZIQZFspREIem0xa/hmo7zIMopmoNL/gZhsYEYOr6ytPSplMZ0jxAHUf+BX4nBxpLhxziwJxp+cDM93StJ7IysUAdjllSDNzKDt8GVU/Noocr/IAoU9TQtEoGgs21GQqzMwmDxhDjr3CqIfkNusDVvMt3CJahRlYhInWHaf+CjDCoo36Ol/JpLr1h1FCL0YBOzdt0qHt+2QHGIafiE4SlKxDECdMD7vDtN9U5lAQblJ6kOL/BrdNiLcojpIx99cviP//Gp4Stf+1oaPEvOaZ6/OPzN3/xNKp6vfvnLwwWO/3zsgbPD9SuvDm+9enl448WF4X/4H/+nYeuV3+d83eNcQzmD8lr25isUtD1cr1y0grLHZi/ROdslbg5yUZd8Mm32RLK9RmVjNlBzeJC9isKbiXbevc3cM6c3cULZLNvBFli0lvOQuY5yn55weEq33MpTRZv9qhlStAdH2lFadEtyDvbiDeavUUwesmB7wMyQLq/STOUOrSucZX4HZew2rVn2rKbDDx4rSep5hpgNi+In8Kz5B/2iSqve3q75BR6HrJWgrBZvDRKPP7VHLQhBwxsVSnrS1pji4dsc90sMoNE1XzZi4o+msuHgSWSbpNXpiD3mvaVP/B6WkQgIH2yM0TtUv09P9FNPPDFcvnZruMWagy16Y1usjt/epjefMqMisez4WGZ8k4ooPvPLvzJl86toC51FLE64aW/v1N3ghBnJX/MY0kNdfju8qXTownd+eYMq5ysTHhKT97v0KHUn1UD9P9y96ZZmx3We+dVcKKAAkABFaoBEarTX6ravou/Lt9V30O3/Xu1WW0smJYokCBJTTZlVmdXP876xzzmZlYWB1C9H5ndODHuOYUfEmdSwcoqTwdJ2R1xb5IU24Y386Oa1aEVLH1P0yO85nSQMrUt3Z6wS67eXm4QBSlrcd+Cd4HkveCSVkLsewNMOFc7Jm7nCuMWdVXXAkFWZoS3dmEk4MtqSlLG7LHfvem8I9yvgrN9hZ8hH7twOt2/5rLH2PWOn6YlPIYCz6bUoadZ0qsWPFLxpN0qgAJQb1xbGcnlG/YyvnzKJ07O58PEyzhJcSNlUds+1o+3evJRxKAznLd4ybaa9nGz5nWrtbl53iiwbu8BJmpZHCmtfW6q38ij38NlxokkOEA2IDKXDadHrGFI7qG2E9Ux57MX4Ilb1kZ+pFVZcuUKT7KFXCGFlNjhztnSPC2GYc1Pffgw8vLdAXFsO5X08mRz1HD5Yj7HDOvH+h4QFNhRzXnk71driyHaob3LEWkzKUzDU9lKY2rGowlReC9yK2rdHlpByiUJQGi7iKjVBY+8z5uaN0otqTzlOJYtoRtPSTaWRE7l0IIcQqvB5Uw1KynLROyDdEJWHRBz83xbkoqElm5sNBARPp/d/8vzzJ5/8NDZTTiIZ4PIKUW0EzAc8V/3jH33M95K/zLa2W3s6wnd5vvMdtohdFd5/h+1uV338eU1P++mstxfZ+2gSjvy123U0kG63IobOa1nBbWFlvX3GlvMPeUyFFe49eFz+7ksWsq9Ytb/Pd6x/czrxKtI7r9n+9lWg1Lc20Bndgrav5czuCg7f6+K3GTxznRgbvTp/Hqfk5KCfumQQ0gPQXu6zLd73gvdFE3lcBaftV6mykmVlzUhMq+bubQc82lW2xJBfvIxfTFLk5U1y1mtW2JHHwZXVPQM3pVFXJ+CWpyts6yI3hYDjdXqRtUPqVjro5o1wvXGIMisyP4YPcL0+7bBi2w+Ojpe/1rntH2ed9On013/2EyZLD05PmcB8xaM1mVzSdoRWz1yy0D78rKdsWWtb+ISnVNNPyruSIo8K5wRnbBAQ85TPX6IcJ678huCZb3xoEscOTnhkmpu90P/pF09OJ+7Sv+2d+LZNh23tZQgsdnIiRdzLHjwUSL5vpwMGmawvz0kH3ji4BxodOhyWrQs2FVNmipqzbr2DEDtnsrfsUughK6wgrm5ChQGROqbuySqrOAEpUi5IZlLUGfZ3ourk9uUtLusobwLb6d4zQb3Zhpz03ePmSe+bPOOade4YX7Qy3sk5Yuj4NHQdm++Zbzb5xPPeeXJy1i6AxsnKN4bQ4erh6iSnLPdRWJ782lvH6eNp6iwOU8fiJs+6KnzVWXQpy8QwfXB4egaKPtRrTqWv4ULjIFvkCF0Qkn+kYZ48JaYslBnsm7QJb/Jzq14a9snKCw/odKJhfdB2pC9tg0b1lzZk3sBKX13oZcFXVn/H0ByPMfRWZLqh/WpSh3PqcKVbsfCxPauftl3hANf+keK9nFj6Mdn2byezwkkyk0nBSUtvl4qEwbbBabFP1rcdmE9eJwOJAwVZDUyUlwMhImSLqBmFKa6dRNNfgVfxUV7DUO5Pn5jtLFPha640Cx80UuJ20mXZ1SBGwqBOmvNBlUPuRDdMMsbwNoo3eRTjAC/ISqqnA7OraoP4VpZbqtlOdFsY2IcMIr5d6a6KuLWNk46DxsH4qUZvHrvDNVAdUVbSOi4UyECP47IT6Iycvb3ibm23xLWfA13eMARs6svOysrQMr817Tbua782RenDx49Pt1/wDm9eRvKCgfoVne29D37I4AfNZ0+jU2QG+gL57j53EoJTzfu+Gcx9QQn0ztfjUH5kw854m50AB0Yb/NjB7cjnXPP7gPeT5xlYVjEU4khZ6ePcbiHDbZzAievZ7GVzdqLyoNfxedVpPy1Jp8UR52Y09MqjbvDw2eauKKG17iTXD7g7abW0E7XtTociO/lx+sR7g5sv/2fCAG27KgDgQyFEPBnpuXSwsYyo84tnT04PPuDO4g8enT7iJ+zWcohkpwdcV4NxkAxKOo6rYcMA3trb08Jtskyc8vSDNOzKVnpX8apAS3JUHp03bfGCb2y/5nOG95zsoHTumN746kBtOQ6dUAGACwrMq6TPZRLzHFxtY5TV96q3g2ttk36vnrRTG772cjULN3hBFXxU1dS1I+xsKxRLPQVOXjO5kAd/tgVfH+rb7c6RJS+HUGZndQS4B9XJpqtlrz0/o409ZefHSZSXWigihGnknuvA9tN3+YjMu+895d0IX2b1L2RBl4OGv5LYnnXYOlLl9+1e6uOrbqVsv/CFOF4X/hq+z+mnt+44UXDCTX8WVt2wn79c57ftkfc13wWIXUjfC077vzfXOUkXN32P3Ruvr2sXHUTa7naGLn3MusiuEG376dPegCecMntTl5+E3fDIFF76L56zS8RNrz7DbjoyIrewd+lceaRLB82f/efJkxfsdNiOxNcuTkzXOMAZNPI7aZXGMy4xeD+Hcvj9BOlXDmGXfSjM7iDpM2yZ9tQatsYhCHIinmwDyfTwLeFq75qFVulLZBGVvikqo2VtCqlgD/7bjgn2xbb74msX22KmlpFz0Qz0OpTEMedb41h0EbLHTfw6miAU5zd8OccVBI8ylEplD+jqYGPIoFOZDXtHdZtxIxyaMjDCjzJPx2Clz1b3hhrBinaEvTkOVhC3E2Bm6FwXb9LqYraG30OF8YgGm2zC6pjfwwk+5uf10/d5vMrB4uzFs9NP//LPT684v8dK+Tlb0F9/8dnpb3/609NdtlD/khuTzrnhxcbqNTTvEk/nc5Zm58ZmriJ0fjZe9WekYBBFMozjCxnuuhJnDPV6tbZRZsyvFfPd5fvgnOFcX7LNff8vPsRxM/u7ZBsbp3+Xi3m9Fos+6k+FWKVGYw7SFy94yQhbxBd0nAsrzLcmuUJGv3uuQN2KVkberOaKVDxX+V73vsAxZBtTYfylE+As2G7nGTC22dWL6+XIrFVfOhhzFkdwJyE2Sz9t6WCfPG0AnbQ325Q2YsCWhuTt/Olk4L8ZGNwAyrVW8HTS1l0mF9gzjwU5CFOWNgCBdGjFS5usQNpIe71gcvOc59Z/8NFHeXRNJS2L0MQzU3/DOR+lUqMVougk5gyNRD0u2GTY+0w37yoMsg+65wXmbsAr7H7GK18vGSwF6t6U9hRMLAeZ5kZdDq9xCgnQkZR17LP8m32sC6wffJxhri/bQtkV8h4F69PLCFxR5gZGBjicW1ZwwGJ6nvl/mWv9cAK5dOOodYKkXfnqTL0s4xeVnvJ0Qd4GB3K2vaE/+hYGerTPr5mMfMbrfn/HUw+9WxxysOgwRxvLUh4rKgQD7xkT0rYb5UAagQ/BycIvfv6LOKu0PZjqqB9xGcoPfyBoPif77Inv6cZBPuPlQ5xzBUW9bKGxM+w4++OYiFEnE6GrPghZrTyLJwS2oM352KG7Qkpn+0pZCLces6Uc0alL+qHvc9hgqQ27TAaICgBV1F3cLrgHw4l5x9mIRmn72x3aT2FJE9M8L7gvZvjvMstXjqnRwDpnc4xzgmF9YvSlk7SkJi/5mAKXsxTusgBw8tX8vZ7Tx5TaSHCA3+pLzJUpuUNQxgFTZ7lY/7n/QLbYJLkDdMSlRLsERlnFBs4xt3HTxqE85Sm54VAmh4LdVuJPGC2Y9k5mhR6A4/lGtQG3wa+6RgEVrJIlWawwEjatQ6OYryKt6JSTrpEtOwTp+1egrUAjOExZVi5bUdLF2vMmlgY1iZyPhI0f08ObbkLlOJgrY2SB6aF9JN/yv/iLT05/wktGPv30N6e//Zu/Pf2P//GPp//+3/7b6a9/+hdcY3h1+uzTX5+e8NKQz+hof8Wbw/7hZz89fchLNP7nP/8TLwnxYxmdDev0nLF1W7kO2hl7nEu01hn1K0MOaLqoWiTrmjgq1VObSzo/y3C+nMVbxvh79jl3uNLGzhhMHnJXtg8iv/bmGlYe2bp1poieOgHx3c728kce52KAvHPBCgFZXrPafvLVE1b256eH7wHDStj3ZzvE+27m8y+f8BlNVpk6bnjxICxO3frij8HLdxq/8tNabKrajmwXfgjELXY7gzeEafeL2wwaVrLSmKaT5zow8dfI7gpDeb073rOgyuuNRmlTq0qn7m2GuVEOWRzspWnIKglk7Rm91T+42pfytDdYBBo08zgo82dffHX6n58+5X3sH/GY3f28mc0blSTQv9bFQoVS8WML4tFfu0BcuxvmaF5sn/5DAfJ6DdJyZZ4BUZz2h2LOHbPmB5jsC7aAz3mO+MJXsTKBamhfNB584GI3GTP5sZ1rS2vOCYu7EX0O161KMUTsWbxMgkKLemSn45IXlnifBIKyze4NepB9yWqNCemF/dg2zwTQgdt3sIc3+K8gfCvzAy3twO9jPX123r7Gf++nMKKsBoR10umKOg6buM73OW8LfM5Kt6DqAU1QOjEXX6vbg9jx0KMMuUS0A//C8L7aJ0+4p0M7wE5dbXdxPvB5hRN6Sp/w07Y+hvmCybkO1eejO3mBNnoprj3M2k6GogNTK2pRY9ZP20Rt0rEuqqbulCDW59yQ6/MA0LI1d/jEqaRYgxIpASPJHXsXXlz0TBH8Gkm63JS3MRcT2s/HvjBEaI00Wkdcy4dG6VaH0JBhgnYn7oReAY2iu3jWiT3F5hPa2Huw6nvIFUVYfhQvfgO1WFw7XXHW2j0dMByuQEauQ07ljJTwGVtE5A1qnPYmaCXfyo0op+E6fYgmf8aqJNZh34fraHgsO8Q1xJ5sg5IhMQc2zg6q8hdOo9mZtKLxhCk0QVwaI3ABrh0tBLe0Re7A1AopvzIrXpUrXHOOx2P+MX6E2eOhdQCrDjWrzjSiAV64AupcfvPrX+fb0bkbVd1xSP/2L784nX/9Ba8AZXDCyb3jaoIt7l/+4l/Yevyz00u251xFv5tr0nb8XtP02WmfcaYdxXF5lrF/Ds42WZ/5dYuc5TKm0FniQBmctPgt6GRyhMM7+5otbe4kt05usTq+eMDqAcec1bpqc4HO70rrVBNWxWRSZdx/6N71Dmdm0BnWkO0+d47rUMMPee/gqL0O7zPSLxnQLtiii0zI65WsSwcuZvd+F/o1k4fXTDbySJUOAfr9TN9yRLTH/IHrgMhJMcLLox3Cj4aY7zjhVmMcivKSN+1OGgnrFCrI58BZh6dFgXdQ4WaxtiMHceLglJwES+Z4dIhxS/uH771PPX9x+uLpr0/vckf7Pd7M5mUNXzThByLe4Rl4L2c4aw8vz9JDeP8SNzk/gCLHKK1sM+hJQLglTyk0o1kc+Y8zCiQHlNBGDuC3WGXqMGmFZTgwkhBRIuukfia0wQRltaf708lalGLiwrpIdUIZqIwJXtNnAkS5jt3J4KU3L+LEXzIpvHAnxp0j7rl4yg1d/Ta7IzOE+OUyA7juILnV6vzHkdsb+FJzikiwFbq6otqwNXXA1jGdgBUtDpT+8TDXpJe1wMlulO1AB5x6aBuzb2WMCVVlSATVCiuek0XZgsHmQL/YdZfPwJ67Q2Q9Ldl1ZtaT90rk2812YtJegogT8q5P6UhMRsIJQMhLT0yZJxFCTytPuGanzEN2fshjupG2nXECWVQhR1kEDVsN1qKdvhB6q77Jt4+YVQqyW+NDMh2DKV8TUskpe3nJRzrKuvKp68Q9GOgDCdtp6Um5Xwwze6gNjbHDtI0QLBWyNo2SPekNZ8F9rxNCXMGPrLTRA6/hM3QLj8VaqWTvcg1MzmZv9CVcuLdA52bchR8pVvzaSYKaLZUOKf69FuF5y8Oa08h7hgaNbNNpVVAUg55NYBdKuD01SJO3GQsageLgxKCDVxt7Jd4VvqLBgfSV/G9ITOMUZPhLJjIROeYJY/7nrJZ7Q05t9YABSwf39Rdfcr2XT14yGN12exinwojEivTLfAbS7zS/fs3gzmDuINfVGCsGVuE6Mh2onV67ZBWgrbBFnLR2t1E4tjG7jdzCMjJjogwC1t0lA5vOx+t+XAYHnwGTNzOJmq0f0g67DqQzGXFOn5W9MK5SWIXe5tnwV189hddF3p72knmC2+GO0xnYwWf/WISskJh5xInmJjQc9yWTlQsGtUsGUb8/rL/IVpg2MJ3OTeuIShJFdgY/JxU2/tSBhW2RSpifulkn1sO0GwoalJ+/SbzKt21XSvQEVutMVlxsid+Vo/wWQNiQD+ygaDtleoxj/tuffHj6x998evr8iVt7XqvzpiXfNc2LbPjqmQ67jz2isLooU/Qo9/A58FDiLSwnfYS3/RuEss4CfaTn5CdpZAb2Lm9Xe4gjecSqL+0BXpWhVGJZHYcyQGyTx2KCsGWy4uZJo5CxlxnyjANHx5Ep7QvY7gjRltHH0js8feCd3K8465jucmsrLhyH504KlGkPmQro8GwolNlg7tFXjGcCx8xg6jZUYXqXRwm9TuoForN3eIb6PXZz6EfpO8onLWyWcYp2M+NWZF/tCKC2p0w6Gtep61/iqHW6igM96bpi93q0q3evo/dGKngqceAAFTyGJJLgrOMQhAvRdIsUyEaJa1eFknbhordEVwgc8VqXiPWRtNEgpUzwQatdy0PWNhkhQ6sopBbuQipfEv47Dq/8NQKUOnpufwFV7uIAQLD9ilhkJwG1TahHX/lK+wglZhmWemRbuk3Z6Jr0dzy0rwgMXXmGqQfCgX5ydoWBWzCFXHYmz/wD3irOKdkcevNvOHroT4iNJLJgevsY67utNkJExpuiErPYQ/8TT7myUGQjt9HnjuFQ2A+OuwlhPHzmfJBHSvxLd+MNYlbp5OUaxcEgaevp7MBQLvmwKLc3j99gtCvAEa30zFftPdhoyGgvuWa1Qi30yN1ryJpt2VPdGHz8UIAf1XiAA3vIdreftvOXx0bWDRxSAxQnXQNWojVQSUcx+PP5ZR2YIl0wyD5gdtuZOrWKkbxO7GCnFLmZSQEZG3h5U5x2bCYt9yOBd3LsYNT+ZIMVX1zoA3OLz0q+5hEkt479FKbXIB8+fud0wQTEG7ockHz22seXXGn7RaoLntF+wWTlAXecO+yyLocunMMT2aDvF6lQQKUYZTmgtzN8rwnCjcEAGCc9DtxrgjjbrmBtobPYDpy5lgTu9SDrMmqJSeXZHJ9OUUEgHIurf+pB5QrrQDiBUmS85MU1d04/efXe6ef/+lv6RLfez5iwnDHBOccWj3jTnHfyV0axka3CEJ92v3grwSrzbD0oku5YeeXZyRR2oVxHEWctnIEKtK0y7WOSx8SKbcXH92+d3sNZu9sx3yevGg7VUqWu41GIjlyckQx6u74hn7TyK0fLPUdmG4tx9SNoi8oPF/KnPcnR1sAGOFdfqu8lKyme6D89oT3wVu7AS2Oeakg8aXlrE8YGzmMrIOFr3tgDLv7T/ny+/iUr9mTAt6F8VTerx0SWLNgpwUsrhPBAfmnX5jh45NZpex3aa9L50AwTIXm5TZ92sg2CUlFmzwQ77YpPVgt6jD0FAweOAVW8IHlWDpPrmCjyaQPLPB2LhE1dFjDHHqynUmpa/UQ2OJFY3AMy+ZZpawNayjLRKfdsvrn9aTP5F4fsIJHuYEP+KgmJhRccKUiruCwl5BRoWp+E+rPcOpMuQX6ps6S+68G2dIBdtA453zlqvVnHklDzyrnUXvnaw/HbYiHa5Kqr/Ts3TLqoo3Db+tYQhnGOSXhINkYYDaKIHaGmnXzPaQgls6G/LTL8tnLpLdqT5ypJecYZT77nwh5zvkv8uwpXWtHnGtnyhc5bSKnXsv0C2RuMunjT0j3u+M62MzQ83+fO53vc5ey1OrfB/Yh8yDMIpVoYQGfWf1dnjkx2X+E922Dl6XQ/eERzPdFrWelrXYkrW3CtfANIDjw6xdzgs4zawUEA8kF47UrarXOuu3G3Fzev9QaPlziB+zwrfpc7v72mmMeeWLkzMqZjPeGu1yesND78kx9lV6B35MJPp8sztCiL0yfODCGPu2CfyAgtdQscsB037NTogczqcFPdRF7LBFAXz98hyNNB9z67Ht1mT0OMzcushGIrDd3iyKVMWt0dj495f/QX7z85/ep3n4eeuynnPMb25OlXOGkmZFwqUG82cZGqjqzilb59yDe4hSfx1nkH99hAhwZCboISRUXjsApLRYFfO/kBDPZiKGZXBpiP/uLHzIHctsO5oEMeXVt6VKFQrjiT7xn4sfVkF2iOyx5VIfWnlE16BCuInmmtC9wb26aNeqYGsAqrfqXmCQRfK/uUpyTO0DE3CrLKdsLmboXXRXMNmramo879CDVTWHkZxOf1z15wfZrr8c+44e/J10/69EJkwS6xtfa2B5HJWJO82DhAo+CWb4YwKuRZPo5Rvm40L1GBZz59inO3PUEavWjT4gRvVW0oSO1asD63UNvF+YA7JSEztDhflXSnnzoLiQXhiXToKM4i2FOP6hS8Rdd+EeykRdqEWxHxmrnHBqY0p/x6bgUozTfIRsqbc3c6lOPMOl7AC4W8QbH1M1B/7Hl0+L50bB/ieFg2NAY5mgXZ2Bl5S5227lCgb3CcZUx9wPjqY4O28xeMn+dcTuSpnuOAAQJBZUfhqdCWyFZjKMIaHFaBBnsjRNjmpkmFGELeAHtT3mxnpgGBU5gDH6JtWJXZlP9vBHFvLHgDcpEokbHBFdmGxUE3ayAYOetcuZZmPLW1BDJNw/LtXF6/fMCd2o/4vOVDXrfpSxesBh/NctU9j/M4UN9hYHJSrgy9m1nn69ZehoDVTSzXUXrtsXFrSKdjy+iKBoFJj9jSk76vH7WRO+hYPTqc3MxlmbSUx3jKWAMB7s0xDx5/wHXve6cz9eHxKh9f5RZottN5DAxa3mX+5edPTx/wghUfSfIa+gWOxHVedPEaNRxuuyXMm9a8sQgFmcQ8SPuSt8FH05x0Z4sUmtEaY6WNMrCrp1SVWXrqKrwVkjOyB5Z08jwY1TYEJ07GnM26XepAO2VaS0esQNJ3QqNNtccE48Jb14/Z6vbjKr5i9dc4ax3yV3S0r3jc5RY2uMs70G9zDZu74ECvhpKKfDmrT0b38GyfmXKu8/NyFSc1j3gtqzdMKXg/TsJd0DitV+xK6Kh1bC+YEDy/fXZ6wOr0//jf/9PpI96DfZvHq5yivdbp8ZcK92yIOXIgsfJSsB9qF3lE2BQkbgyeErF91P5yKJ2aEL2CJ7B6eqyjMx5rUHd32Z6/y8T0ATI+4OatL6kT7nrwAbG0K8cEbW57zQ+cV0weu9Kt5OZ7d/g5NrI+fRwoN3fxmtysnOFXmyufOvODjm0nqxgbQ0ZU4bRYQ+rZulYhgjTiqLnHQz72WycSmSxBOpOAZavaafFCl/TEGKq0e6y9SrsTBzEyGVx0ko7Mq90d0KMT6UrXgp1i81Mn8N1giKS/o+8uTus446+1uHgjyYGb0Umv9rTq9RpQkvtOUnGwXPNzHDqDeUgrqwMTwVysv8UT8YB8FfGAR7b1VLtvkDdGxC314k/9Fri0BzHcV/1P3vH8dn47nZHVMdWmJs4tIi7a9A/eWOz3ITLuMu5cfM37MobJMJiz+RG41ikYcdj1T27fIPDQvXo+CAsV6Y/hr8I1dTTYLleNKURwoaGCOse5yaNGF6D0LTdIQ7G/T4gMRz2/g94O5tUNTsT7IhDkZPUoez9b+aFfx2I72E6iF7QtWpYtZnH444VKcV4psBzeapKfjs34ks13fKenLccmBVekOu/cFCafQwgt+Pr93tgW2nl2ETvm2r8NJ7ThRif2y3Tnysn12Hs6A7brL3hG2+eevTJ+m5vTXnttmsc7nnPn6zNex/jo3Q+4RA2cMjBoAhV9df6aUQf72mt6DLS8aDmK+XIKnWdejQncK+S+z813rbu1imFA1AgxAWeoc7MQkwHhXdHj0KMzuhnk1QMndJJ/CHDUPqkjnINyjj07SKUoeU6S4uSkdS2EGvlOej7GHo//7m9P/9+Dfz3993/6+en3v//96fe+DEWZ6W6Xlz7P7mQF7Zd9PWMZ5ilOBCQuEyLuKqAkzSbhITKafoBCj3h97BM+oeplBt/J7re+H3GTYC4PMIl7wB39n3z8yelnP/7h6THfB+e7orHhHVarsXtJ5kgLSJlTFv+OE5EDWKLKqtjXzTCDfNpVAKRKEN6zTszLIzrEDNJXKdhHpJH7Lbg2owwPuJfgh9wEcca31p6xSf4cWq9oe84tdYg+anYOPV9WkpsoyZdqnCdt0VVuVrq0vXPa2QtW1+G/OWGhlc7eog06cZj2H12Q1XMGTfVaIXWnHSyjauXp+OObqbJ1TL7Bcn8T5OOk4G2hsOK8HeZtuN+Wf5RDWNNtgw5B1FMaX+V192uvJ2TWYWor4N4UjQmk9K4IUJzmqvOVQhJLv5h0yk2s9rLZmrxMllb+NTJOvEKJdnFdP0FHv5vKhtSUDctJ70Iv+dRdpNjNSIQ3soK2a3T4Tolny+RRf4U+kVk7t76166XjN7bOQgzgjJWU83rmaw1ipJUwRDWPhPq/pKAsgghwDNNbj3lbXClLL8SkG8knbwPcImOwTekl2+QHfSmvcoVTRuViUHOLdVEbI23Eb4wAvehtxYtnKGq4pDeqgMXMYSk3b/CyvXc7T+tRMcA41j5gFfkx77/+yY8/ZsbEKlR4fm5N3tZJCOnMXKp6IQbzSwZvv9/qTCvXaSmLmRkU8vIBVjJJwzSPuUBFiZTTwUtf5ef+/Eyjq1rzUwZ8Xn6BY80NY9HLAUe3Rxk4dpDdYaEJOLdxED7CdHHGu5Nvc32aZ6DPL13RcWc53wv+8svP+RjCs9P7jz4Enncpo88dBsY8mmV7QQavM+cSC5Xipz8BQ07uEKe+FNg3uaWBakds5us9c00Wvn1NbR2WhsJ3AeTz1+4mVD/T0SODZlqvvQNAebdO7B6xA+3fs1vvZ9ii7aQwypBPWGJgX7aRlgVsgKwjWYeuFkutwdfZ7+vTf/jkz0+f/OmfnT57wks3nuJmuKRxh+vvd2/xrLzPr1nb4OY5cilha6cCbv/ewmbe/f8a2yr3Xe0FXx5/x5a2FWQhfU5biwE0Ana7lSu7lEPjgtX1Xe/Ax76vuIlPvbI1HqmJajfi6UsU2narIYC2PYLtKk6Hsj2oP+1UsD2z9SKOxflreWiQRgroy0FBGgZfJ+iAK+yle96C8MMCmYQwbUN/diTIeX559/TMuRVt6hK9lV+/m+vFROxDPmv88hyezNkufUc9cHlki/aQd8FbVbJQCf8dITk3aJPmWa7z9mwbsWeEGYAhUUBy/VMG9Es/k4AwyGcbWpaaa+3Ka0j7C6XCl4468Kcht6AcFTowGErWI7R2S6qZjTcj8ZsO0Z2CoETuTahmkrTNadfKX3k8phuDOCJKIzaqVXZ2kpzfRELGQ+kJHIc1SgDnn4Jl1CTq5DTpwBSvTk7ihJywNkUzydxlW/CTscDNHT7UUkjEFuTvti/9yVeGUOPQfrH4g/O2UDsXLmMPcihKnTXjMouKBqVwjXF5esGjrHdeMKmH35lvgKQhZ0W9C4YAkQSMJYMqhJnpa2VlcPOxlXtz2fVceXwf+CN+xEShaXhaYeqk4pomZiWPDkXS7t8pjNoCp0EuHq22VXnRoLyEV5+4BjrYXYz6Htuif8V3of/hLz/h83vvsV3MljEe6gE/V6sOvjpOr08bxHdQyJYRHclv5/r8qjdoOUClDAUu2drcPguoguip81BO6WoMr0vmWVyS1q+N3Oun3gmu9E4G8pw28LfcumMJFxa8ftRVpoZizMt1Vp+JvcVq+h6rN8lfsud9x2uFPGP9BavHZzilu6yAbX5+FOERsHe42eyOeb7dylGKwUtn4EDWSoFGKs20Iu929Bor6sepiTfbgPJWyFShaDR431ombm4+swy5s8J0sLSzLwdEROyE3k0P/dQWWatoZNjSKwJJYv7VlqVSPGXJDyBf0PKQuv2EF2HcecRXxMi79FWWrA5f33ZCEMmLTjQpzw7IzKpzCYK7oQPnVrU00c06lbfO6NZr3k3N9nC30k1zxzlbx04qbO7sb6CVNazuCicydMq1R/IVZWyValiDwDoVd+Gk/Uhr/VIPK5m8gdv0C+Pmwke5ZOhf+iVJml/yQot6c9IQIRXG9kVrevf2i9N7lJzzKtPPAbzkGfrzs3t8OxrdLlgpO3lxAkGr8tn63NBlw5ET/LSXeQ6MFU34tpFsb6vYssPgFK4DaeoBapHfNoYtkwcOMUrAUi9tLJ38WW/0M9JaAazAdeVqjvRW3YZZ21ULYo1EOyg7moivnKXTdEEWYE4pXfSmdOTH6JElEm501EeyYtrT4eE/sDqUDWwRE87+FPgyK47tbAsWpHDlqK+/CceyiQ+M9IEje9qJELH9Qt/yKXCM3BznjhjIjAfGriux6Nx02mx1Rd5CRtLF86o+1ykFksxd552uO0K0q7XjJ2ZtXfs95/vp+f46MjvBdAKY71EPi+k4NY+6DbMFYRK+dn3DLkIT0wRSeO3wTWXXQP/A5EizhETK7U70NE7KByRnJPK8qTiFNdomBDbIdulkSAtQG0Y6nomFqoM0mtUfZ9/k85g3ev34Bx+c/tPf/93p7//qk9P7XJN+gCP0E5aPcGB+Y9rV8wO2e71RLPcMSJI8OXSocbWMK3FbZHjQKbwWmVUHcNn61sez7alOyuEMzpDVSmMkaAzke/cvzFhkMVfLiyYAwLHEyYOWLWFGmEiBA1QQYb2xDI/NSpdvMaPfbV7e8tIbpn77+9MLnLTb+67eXzrpYBV5m61y31xGAT/gfZeqNpWdcvsj4fjmdcasDJFv65Q2ZrLdOE+wzEicLjEGkgwmrB61423urPb5WZFSb5STwX+wOIFv3LNl2CMUNQt/W5sveMukIDznY5DMMWxpHQByW3tZh4WPouok2MHICrGYXU041PtTZgdAyrSJB0LaAvLlCzrwlK3V4Ao5TsL3pseIwrd+BYoueEHP+bljgTnjORJRJ2QlO31a3qEOzDFUjOTUdrs9RuftvPBSt8hQ+Uo/q52RkzPzjytBlTCA/1UysiGh7Zy26ITywf3z059B9Ycg//KdO6ffcN3ZV+S+BMkJioiZANKWbUuxLPK7MrQ4+mpZ+UQWeba9pAZiK/ICozWA09Mag3/1qUE8KmvasMSXkxa7fMJQqPAyz3ZHgv9wE3QPKYIaMIGlBMit7VUKjjG2NBbqMj7oVC2ZU1CEAKXeFvicruQpUw1EsTQ4SVBJcpasmbJfGUlxSIWZaPlkf9N5aOQywzXAKRt6I8rGBnjtE9vkvEQ1PzK2rPJWppH9GqsmVecg+mh3yLoR7ZsypwreMFUKqtHwib4AWqScOnGfIojhAVJXW2gzFleVX/8rZ50OHIfBFYDyvpJ1JXEj0g4h+hvhwDNlo/0VQDADNxTKKIMb0TRcOpqPATgoJnDSOKnslVX6VwjfnIieYDqLK4XCQU9Hat5rXlTvNqafrfyPf/Wnp//tb/7q9KP3Pzw9wok8wjHfx3nroH1MK6+uZFDJJy1xMMqVbVsqK45G56Nzzm85auLWkU4qDo24Q2y3uk0oHzmc86wyoF77q8ToHlzOOmbKvJEhrWRtr+uks3LTro7iwNVBA4/TvsQBg1FdcTovPv/i9IIXabgl7uNIXmfxxS6+y7cDGZzDSJ7YSf4MVF4v9PEhi9TZ+oCIEmXlo43baSuw8pOBPZAD2rm04WRDXcn39aOuZEd3wYXPT+rEjz/ZtUyTxYJkGOSRwilO7t7ZpZOsHq4kVhan3E3v3kJJrQJXLNpuD2kzkxcVh/ggOvDgqNOOC2hX0F7pEg76cSbQrcGX3cWPawEYLqm00s4UTKIk0x6aTQbBOj+Ecm9GJ61tf9MdU0fQ0j4Da5nkpa+Q8k7/W/IlT5ixXYALjvUnkrNFthXvVPfmShfRXIE5/ezexekj+tCvePHdb5+8On3pNj+4uSTE0OZKxPYmvpIlUM8z/ZX49Anljag5FNTj6GFbzJ3cyJHMtKUlZ5BB1G4ak7Q8E0IAawOfLVzO6d/CWDZhRc2LHSGnKIaNWmTLgfbHeeEnxzj/OqoNvsiRRfCr4cB7FYTkIT7wO73GFttN/lLyeJ3mkSk1AIMrOssAkLSLKKFKRxriCATfwBl/k0tz92MlGTo9j/4lv/IWLfvRzVSHxk77u8ci+A10ze84JK3UoxEEs41fCeT5waN7LIz0DClLA1ny7hWz0LTSMVzVeiu5jlcDtPgbVaZQ3I3L0J+MtyJTMDBhY6KUrmcnzWFITYUVrobb2BJpZ9mp1KDCwcLfYp3GR9KOqI/xrU8PGQz+8icfnf7z3//s9A+f/DhfzHqXR5ge4JT8ue3tm6ry1RUctncbu2LWXuHjoMDIpkWSj+PzyqOt1bqMs4OZn8N0FqxOiqRvcZyw4Y8uGQgjs9ShwTF1jQF8O1SKWMm7CpVOPnYBbV/Kr9PzcSxfF5qXrrj6R9Z8VIPrpnmpCS/4eM7rQp/6Ig0GSp3/PXT1FZFsEUAXDjoRf1tjrCzueNxHhzvecOa1QGBv+2gaKGz+5n3NfmzE0OenoWESGRAQ2jpo0sriAAwsO6AM5jb4NTiioSAhGlj0h0hyVThGs9gcBtEYMBgilb74K4hi6WbXxIu/QKBvzYUZBWL48xhMIvJvb4lPpPg2K8SsBIEv9MgAeJyDFKCaQg7863Csfdd5O5+FvdBrH5mrC2XaLyAcCiqhFRoZP11eBRN0nJ71Eylte8SdbEpbOfOyD865uWujSr1CwAlUMMehgROOHGr/ihI4mWSyFBTgFix08llU5aEZfPiAFwm9e+/00btnp0+/PDt9dnb79BXX57Nhzba5Lx5JO5ECNJ241+HaCkpb3dInkjbV9mNyNdvIKUyKAgeOOkcBMkQTSt39S9r8Xe4MxIJYaDnngJmUziSMRgTpJJOcDaCAQ1c7UeZRAoJPvJEj3mIRUOkO7YUTxGILkrFNQRZYRTni7fjCb4CJS6e0MqbFcKarU/IWuu3KoK7W8xbIjv6ci7lKDiDmXCkzjU0c67a6WWgxzpE+UJXjaOcB9nyN0aFot8VkpjVNArqNFq5x8ybfnNplwfX05jEEfNRSw00xkaTMWIymaDsfOW2Ze2RH22N76TfEEMiOVCylmPg34LxRtAtuBUcvDhX5BnkoawcJZKhpPFNjxNlqlkgp9JyBGh5ZvQWTOI36MVvbn/zJR6f/+Nd/ffoBjyY95WaWV3z44kvuzL2H873nt6BpmA9Ymb7jtd775OHT8upQ8l2VZts0/NaAg/PXkTkw521kXOuNQ9SJIaxverKtZxVoxWZ1ijNAufhIysyOZk4AkNMdaN+Q5mr0AqecwYttbHXkfp2uoEm9xPm6QrbcN58xAuMXuT6ILK/50s7Z57/nM4+8lJlnwe8/xEm7S/Duu6d73Cx3m7vbL+OsWd34uAw3icWTIozPC/q1LTk6KbmNY8/uAnElzeNtbGnGeWlfVM1XeVQ0A34dm7WRPyt5/dS19YXGxJuGblCFFqAhAyLR13m+mRLoa4NCiGyCg7QNxJXQ8wwEoYgnaqfHfjowJwthLDDRntYxbqSkF1nryXe+5FOQ8oJ4JQFlwYR+4gdqygFvWdnit4E93hbb6iGdBKWMs/U4skhGVksXr/Ea2iewhTcqgOd/Lmegk9d6DS2xjO3oB+zcuBsjHX6on/sRzrgpplrQFq0zygy2JeOZOJA2210ct/y8huyHZnLXMZVjWWn6rDKPW3knN3d0W05p9BGeBkbZ5el3XLb/HY/7v+CO8fPzF9wzwTPUvAHwKXd8v6Kdqv+saG0HpV8e9gvLSIVn9QEqQMoydWpd0yeUT4X2A3FarMZZ7SUTafAFkU6LPDadiPEVmbM1Uf7NmfGoYMq3eoZ80h+oA3e+7J+ZNBUvl7+AmS3x5G5Ky1eZYomcFVCSI8cSK3ATf/N8HfoqhOyWOVIw7Tq8kT2X+8IBe8bEQ087X6NFMvIqp2DKGvAmBr47kLa56ji27NZ49asctnOY3hCOrMPiBpi3ZkVpS3cqlZOclZX2QMLz24LPUluey15VcYEuxcaY5raZjVqkN5jiDP7gjGjm/yEhcqexqeaipnajULK+mUtkRgDxK5/4SJPaXVINCWEKRAGNg/jmiEcBALaJBLLoSMSxA8nhnXf46AWDhXfqfvnq/um//tOvcZ6f4ly6vSxRv2L1Lg+zv8t7v9/n1ZIf8Wm9Dx8/4jGt98jjLWVsiT/0S1isaN0aH+edGad86IQ+fcz+Hn6Lp2L92o4rWHB01rk5jPNuHuaVDCg68AyO6kJP8O/ebV5nunR6jePNwMcg6Z3jeZyMNn6LNzk988MbNORbyOM3t3025sKPHPBs8CsctV8Puoc+P/jhD073WeIIe49XZt5jb9I3l/n+7ztco/aNZSyRMxD68QKN581fr/gW9u3Xbu889L4h/fHmLH30q53ZfPSnU2fAV3tXSnHaKrVVZKLWi4OXExXx00m1m8Fdggym0sMuoattg0RZaXkMhjYivqWlsYKgYIZOdjGIC50bmbxRD9xQ4yANdbNt+WIGr1R7p7k35+kPc8+3cBD1T/n9a/uSB5MbJ2Y6Xumsn6mIvuna0uQB5Xn07x3M4KbNCkeZhAi6HE1j0O+J5/Blu/Gxquc4yBe0B9PyTDAO0gNuLPSNe8rnz9fh2lby2cYCQtAGVbmdw2RlKx/KX0H3BW3jxQt2Z3CoPkrlnf95NpyByhtqvGZnm7NcWG2sXnGW0sN52/byYQrSPuaYt4ORF/2pc7/fbojD9YwgtY3yDByTGegKk+un2rVG5GyZVtGG6qkthK1itiFMG/vW+aCbk9MJsXVqd9mwlhRnsyl0DVCHbhEt13LWm4DluTvqkck3/HWigeyicJixw+QE8fPpTCbLfsfdUF2hCX8lVLfsALQ05YkKK93INDnfdo40YhZw4Wqj9unSTCGEh3TsTubkLDNDhRyESNuNLIOxcYiAGSsymJusThtN8aduNx6Vb6StsH/YURqy3pTZyCweByabTDcY1TKdNQ+MLMQhhM4OOsdwTA38MQ8TxJiTd5AhgpreymAcA5pDfAuHChLWoityB7aNeGgVN9CJJn8hKdFWfhAgxlslZSCjDZLoSoxsnO2aQy2QoNzFAUnW62GuoB7+8OPTh3iaX/7bb0+fP/8dCrQjKY7+xFrjzr2TW+Aff/D+6UOeQX7Bc7Bn58RxXOfv4bB5+9fLVzps3kzDAKijjrPG2WernIbtisY7XL3OrYhx1jhRhGArmzIGKDsdvSwG9Dnp3IgG7+TjEmzkr/g0kfLbkW8zAKmgM8s8iy6sQrOadpD0kbHb7Ag4ESHj9OLLr04v+FxnZqLv8hIPbhjz7Uy+uIW962x765z9+bGFOzhked67x0oIO9zhJqhXvuWMF3hk8Lv0hSesuuHrdbx23q7SOmxodVtZBEZmHdYqUW4KMrFKLVGD0DG0GbdGxU2HENg4v5QM7LT5OKtp5QsHcm0DO23RMriVFYnKZ1vQhtkBgYnF7lo4/s4Nei+5h+EZE6KX7t0mCAVAhLS9eBe8Ts/LAPx0DjZ96mR3sgUu18UoNJQdetb/ClE5es6kEazRGxgxvJHPCYM60YKqAx7bVewZLww5pw28yjepoRvSiz56P+dDL75gxM+73qUtOjl9hWP2p81rcvvDqjPUsR07OfQLZmd8NOMZTjiv4MQJ+6pPHUifg6YN+sISHPQzfmc4cycB8zSCE4dcP4588oO47ZmfW+TWh8G26qNz7z1+P/3nKV8RS/uNqcRRL2XtTx1TjtSliUldbWtXq8uwzqmDlT1FkQ8iTkhqalubpQByzphgyqQ/g8XS95QWZ8zMhRfgQzyNEHjzib+88FFLygNnlitpJxwpDh2LM9lK20Ii+5Il4GipRZ1Y7TDkxgbCFkhIgqyTIdvK3oIWtn1uIu1FiZVG+yV07CclKPeyWfYI5dGLhOVlvuQIJjgjQorXhGVxbd8BPrpKpPUu/+g5cKRLprAWDpchP+mFsuSZlOfrEJNje1LXwr5pM8UbLju9Xpi8TvPG9BF5ASyr9GT5dcSYcue2SAzUzRgFL8xuoJ2IXIaCuTaoUXzyCxF9J2sjcMy4JsGxSHisGaPtVk0F2tDjwEj5kQ3vbj7nq1LvfPLJ6UPfRMWNLZc8JhMpFk1JOAD67d3nDDyPuBHaZ4y/ZuC5z52s93DSfphdx2nnsSNnVs2g73O32RGG7122lt02fs6A9g4vTPErW36lyzcjeTMbjDMc2tTSQZk8ZLCyQ2KQNErouH2dm7CA78QMvnoTOzaqO1Bc4pw19QNW+77GzpWWad/1fTtf9uiq1gHtHD1c5N7lS1GOk3k+mi19M9Vn7lr3rVi+3OTWI/KzugXG8c/dATul1+5xZErhYzazdec2eWioB3Kq3+gTxghmfecxXO1IfAaeKASbBvUEVl0dGNAn6TQWIUBUyYVkHe7tyHzDyhOUn+9ZXwvdDMxm1slSiCPL8IPxznB05/DkyXKcGG+5XlvN8s9Wv7bl54ROR+1kJKtUWbrTsWSsdFrAgWaXVlm3kKgCdvAzVj0Hpmep6DBpZrGXq4x86xnbvyTTr1T5bKfb4NYFlo3NsoqUOQIrl+1POreYdDqpTDtTB2W2MpbsyqHE9iFXxfajFzh6vx99ppOGX68j2/46YRDmDLo6aB34rKalpPNUk8gVe9jey8XylCgCEDrqx4/fZffrPVbmTJKZHDx5yicpz551gqo+0JCe7SLVQ3+4R79KH8I2VJ0kc/AkXIMIKYjuOraoPmMkgPuWdCctwYttiA2dBb+IcpIm2kWglQSm4OXnK4m1v+ZWT3Od8DoeaCv57kHMteszWyhTSJE2rx7FWSoBUbzKYdnIUGRzKlPTlhvSDjyvdDK3Q7HSbgc5BtU+bW/si1A3pbWTML3yNlrXshDcSyJWWUIUadsd1Oiyim2jo2vkIVEOQ2AA33a+Ls9VvKTSBrRJ7TKUjnJMH5+yOd+59+D+f5nEdz7L9SDHRIfhpENvJSYvwxYCj0CDcyNvFbtS0NSOM6WrIQudLA9WypSTshVfo7bDlongVzgO/zkHrDS3wYRBQUf9mjdzveRVmn/6px+fvma72O2KgleO6EsFZYCiE/duPt/b3W/auj3tIO11WAcGuTgwZoUJnmlx3a67z/a5N12hVPBdl3ndzmuVXuOmt6WRZcUHhA7OZmQnziomHbQrVoh2gHVAx0bqlRerYK6XfEdaB6qs+FKuJ0OfHYSXrIbTAZHVBp4trEwSaIDKzOTBZ6lhzOqa+xWFkz96z5jhs9i3/MwlTtnORBESgBKdKv+srtUjkxeddCyhJtXd9gR2bGOuIcdGVwIG0BXVNtF2wVlbJcwZ8PTWQbZwx1vRdDRLXK3MlmnsJueglkcldMflFi/puHX6Almf+h1xLmC4RavsctYm1rU3zqm/X6bT0auu+dYpp0wGSlOpqnktYjmx1cajHzSF8ZgAAfMVLyI2N/WddoXeDo+2j7x+kwmlZ9Px4MIvGsqS5KIdfuRpu6zIaV/dgl2AANeuPbvjYHvV+fpyhxd8dcr7F16SdoLnxMBdI52j16z9JOs5cH73OWXkp23bzuVpnTkoJ468m4aT1yx3NH7wg49w1lyaYeX/kAno48ePYxe/M12Zl4U41dm2zc8kMW3dipGXfKLi6NlWOY28drKstjc9kMoY/JR6aGFORgXcgSNjM8k3CKOonDuBWrxTaP6qbzvWBPKEdefjaCvjbWe2pgZNGhljUxPSl2yF8uzPdq9NRrbUhaiEgVmJnI6HTCbStsc+lS+6LfrCK0vZ7nAVhvxEjlQnjnWVfQgkm/RqM9ViYNf5wHOjC6DxpC1f9Jq+hn8luWAr+FZSXW7kvsHcFOES4v3/clPB98kbtlOJMc4QWIUDo9rHMDjHvLUuqXwAAEAASURBVC0+htkzEttxSmu3BelkeWjZoO4wkzMgO5wwy7wFGv6HswUdFAuZpoD1H3GN+tnXdPY7750+/vi909d8PN7ZrA1cL6RPsEFrG6+l+TGBfEWL1anPxLptfBcgP42YVTWADqt+mN7gIJMOAS/190MYl9C3a7lSd5i9YDVyb628XI36uUxLMuBQbsP1sSZlcgDuNXAcCbDKFeeAc/WFJ37799IXwvuaShztfW4O89noM5y3rwN1Fn+H7XdflBLlwitKxlHfY2V9B4d9H7vkVabwdjvQwbeTDyYjfO7yNfr6zWr5OfIoq/a1Lkg0nagS6hwrO/2tpiVtEFwlPFszusC2E3KcCfifHwcT+XEilKd5NwWRyKduppNjyfwJnXdMc5Z27kegjsM3srODwjj5BXp/iaNm3wRRKGdCZUvwNYFOfHpPwn55I04Bgo5/DqDqkpWBY+5BTLcr1TXtRQFSSJ4mIakcmqd2II8Qc3FQh0400AW6opy76o/z1CHaJiBCgWXiZTB3QpYgZ/LDNhCxgbGFtp1bal1Sf1ScTrlfmzpjO/sZu1HrJjHy7TN9FadOmuvirHrzYQKdNGVTB/nimzMIdXHwVRYZHAOK2d4mW/mfPePjHNDyXft+/MD7JLzp7euvvk7bUmgtHr2VV+Q1AYqC0dqeGcXhZg8U3HTE4Sg+6bQF2wNZ/FIPk9jwUxD8jCsrP/WafiA+fUW84EprxZWPZN5PrpgbTTJVwFJAGy+a/cxvDZid9gFc2r9gNBzbRBqE+dufU7hSkaoG9ewY4rik3W2zBmlGTBByecUEtkhebBmwHMRr/UBNmtvP1mlW+VjnUN4Rt9i1vJWsHSpLQMN8QyIivWO4mo6tUyyljejEtpIrGUdyO4RC7CXoMzg7j734prwprReY1B94Tmc94CraqH79evcB7PtHMwJJe6MeGnZALWDFNnie+MpxHys22w1XrIXiSZS9eCsI3Bg85XRLzsNBp/uED1I84g1Uv//slzjgPzn93X/+2ekd3xL14oKPMnA36hdfnZ7yrLHBhveUVakfa3jMndFn3K36jFdyvvOgW+M+CiX1fJoSZ6mzzkpLh0rnvceq4/nXz06PudZ9zhvBCo/DZaCFY24UceXttpF3UtsZFFb7vMMXnM55B6Ortwu2Ei/lpRPSSbqF6+o3ijE40KnzbLh2Bf4RN709//R3mQDoqN3+dCBzq1SdGGLBNU5Hg78dVNbuOMiGYZanvaCV1ZJMsCMDf+72Jh4XQHnbk3LJts7MgVD5s42H8Tf7Ww/JZ3hNPmUQyNY2LHINzv1w8DsQEk2KwuB1Z0JpOsikgkMzgBwiqXIBnyEEPpWRoRC7uU2d6/DCBs7J2O286vIJAxk1xFa3XR5dgsjAh276PJ10HCA0feZdvSZEn5XI1jrltn2GR3LHTgUwH2vnKAt5Ke8mJ2C2g7lrO3HrAeX8nSPnOe0rW89SUWlCBg/bBvKSnZCJQbYVUyvJjt6JCdgQ/soQPGQnIv18JMObw2jbPlXg6rrb2rRHZHKb3T51zm7OC9r3OZ9K7RvFqmN2ZmIndAwrefBLHD7Ki1J5gx+tyvsgYi9s4jb673iD3pdffYHt757e4eMHUk07SZuVDn8bPduwdnMC2crxFB5WSv57hoxW97D4RSAO0AfpWLdAEcQT2DLx9rT8Q8aGYn5SSkauSQNRYeYyBCjElZN8+3QyAgmKhdQ19fySV8rahDLZUa/QsM/aFoa4eMsO4o08gYU+THoNv5Mh69G8GS8Cn/aMxE5Y+Httg09daCV/1jVZHKadzn0BXQxZBnN0SViixVRLjnlyQFkBrk3Unz9D1VEP0iTCJ6DmBYTzijQppQTlO9ZZ67DtoTBLLqD32ELWwCCLL/3hUbnEPmLsfWaw5zyysI7TYJOc4j/u/O9L7bvIQgOxMaC7Hap2v6qVWiYcLf9dSF+HgYcmTkOdCuDsbP+Mx0G8yex3n35xevThn5we8nWs3z/77PSE92A/Z3Htm5xtKDY0r7v8lpuy7t71GjerzzMec8FZ37rzIludty9xbsB4vxHuMivOC1YcLGFPL2m43ox1/xFpBnqv7Xq39isGHr99PPcoOVjp/Fxd68wdmC7pUBrIAduVrms778x+yfU724KrCR3vJdec7Wx3uDv9NStfv5jlCyce8hjWK96JzTUTbHCHSQbvk9a5E84YhB31HQy9Echr569ZvdzlhjJXLg8YFO8yUXBlfcHgnJaHLbxz3fpzZXTpKtN4tn8pZDD0xrZugwvn6sK6bueHSFa1GSTsGOAiUOon4x46KKdw/oQz2HHtPOO801oObaNQwgO78h2wHVS0i/WoBN74d4c6kY4O4eXFGe8mxwnxas8n/M65cU58iiGG3bU4yK9Iu/vRK6zQko9tVMKCmoaPuRMy+YBn7mwm2zvpMVl+OQDvsCtG3vImtneIeebPiRwqANpdiThn6vqlg7ftBmJOFpB48Ya+siuMP2khn3qHCYwcKC8zwpNnfoK2rX1jrwzGXDqhTXgd+ox24c1hvVnMu7tdLfOGMYSrU2SigzzPuansOe31BXH5xcbQj5NUyYSJ1BlrY+3mzXxZHQpjG4otqT8HUNsoMpxfPMujW5GbelXvwXG3QpzgyUJ8/mML4k6iw1lTWKbqng3rvA2/ucFEkLERtgE/BGIy5RIP2bBuChaNyEEplgmPgC86SwJS1rrouj8CdXWHPmtdadcE6Flq/b/m0TXZh5ftbfGKvmaTDh3PwDkxOjpTlwDpN+mzQtpGZCst0TnbVkTOs+zWBfnkjc8VThruLoWZPOQNjSVO9DGrwiT21gPcgityFm7KkizO5Ek7+tmHjXPWV5SpkHtIfe7JLaa8Lhwk7fg5cm4Ah0h0kW+ACluRKtcB9DtFt7u+vxP0twDVHDtQG+aebkxB/dko//gwPGo0jdiGrqFs5Hstw/OY/B6sY3SQa2J5EPO3GpdbT95A45baQz5BeMndl7/6t38+Xf7wx6czPnf45Le/pd2CD07cS3owgwXv0v7Fr3/FyuKMZ69/1K3lC75DypDx3kNm/zT4Mwach3T0hziDR2zV3Yetd3qbfvn0+enuo0cMZDyjjYO7ixO94KY2xuN0SAX22VIfZbqD9/ZTizrTe9wAd+5Xl8i7h+N8hc18VMjrf4p2h2vtL1nJXObGLxzRow9YfV+cnv7+y9OF15ZxzHlCFroXbl9j53yeDX/4AtlucbMcI/Hpoc9n333BY1o4cnVPQ68TxUe1fjSlgqKnnfgOtvRDGHd51KQDiRazQ7Or4ITA+o399wr0sS5QoeHAgg7OFyQZgkxOwgEu2kVIy3SZnGfgWN13JyqOfELWlt1BXEdiu4ouFPsed+vb3YIXvMrzOU7vKWMjWjPp8Itg1jt6QcdBSVvl8gOynGHTu5RfAOB27zn1zNxJv5Ig/0ogsrJrE84ZOFXXladOV2frYOqATrmD0ULstmka3NKHugbON8jpoJ0oyJ9tG2zPQBSOdZiwiR21TQZfWwe4JFUmP2XRpq64nWgZMjitJbiLVK8t66Cf0yZ8tMoVtBNbf5bl2rC6oryyn/sFNnab/JjJGRNS2551l0DFuips30ayVR8q7i5OHK20kNNfbAJM8pEvvCyznUVXBRa58FpKHP80oaYx7QDNyVIPOXUcIA5QdTZeeAGkL76Z2YXgLLa/loVDcrRxkIODjktheXbccCIIVIUAlkDcsjz7L6NtQkKb4MtiwculroKXcxB3e0pvaHK2nW48pK9YkY1jdLEtc52b1XG+V3DvUXbnhIo9KHvp2MJunOPSc8Y4nxqIxrTv7Lxo79XSIr/8w8h+zg9GylB6Qb0ik7S+KSiyzloamy4lQ4H07XOR6AqpI+yb9K1LRiIHLvh7Y2Lgtftbw5F/4cTZdN7wYuSaQLAbaN569O67YG4Yf3gEXjZuQw1sU0wqx/0QSUhaWQOb6JsHBL4i2hsKpLkXJmVCI0OQ7BQRatFdlGZkJtecaxyW7IOySpUDYFEdyPqcMed0/DZjV4Q6a5ezj997NzeT3eXu0h/96GPeRsaW9IsnNFg/muDdscwwGXx0iw6Sxu9D/D1Wrz/88IPT4/ffPb3P41rv4JjfYeX6kOu973BN2htgTN+hsh9xE4yy+M7wvGQEp+kd4Bc+ooFcDowOhJY9AN8G2l0H3R6dzdU1A14+ZIHcNiC3GjPLha5l95DbL2G9++FHbJe/PH3JhOPOQz47yYDq9XAddrZn4S2+1758zMaVvx31AVvlXtt2Re2z4ne529s7xnM92qbCAGo7sI+ucSmGj5wMBG69wyQDhG2q9SUImlshK6QMx6EjzJYfg3kmbIKgd5zzwpZt3ZmdiMF60elAWYLCTIjTEwP9rG9GpTgUB62sbOnx7kWcaz+K3do3X6F1btZVWDhAIJ/2uut3x4GtswcG2R1PFTeOmrNyxbbJDbnuRCgHuJEHOEWi+cCXiQcFuvJcO6TAgT1vCiMvK1/MLfxxwBfHnzXxmhnexAWs/3IPwHzKQxMa0uFQWMuAIS+0lEmHCS13TnInN+3eSWyvK0uXMuX1zN3K0lZfnajPTl96Bzk0utLuTo+XfrSXsOoa+2pmeZMJNonaUFqRTRn5S/tSP+B8uY4heQsOiVOWgsNBOv4MtkmDNBIgYEn6izD+UrTTOuJvjhoYSZSsCB1bnKRU7kUqfKAZvrZg/8IwZ+W3mQHAWZ1IQNTeXTu1/dkGR4dyE7Y2Mb3pM3FtFAErp7DyMPSVuPRzdsfe58NCHzJOffTB47zkyfJzHTM7cc+ecw/Ao8enn//8X07/9f/6vzPR+u1nn1K/yoR9nEUvmsasox5JRW+SaBIb9WBGZI28G0yxzMsPGPtM+gZ5QR06ISB8LAVM22iyF72xxZylo3wTbAM6attpdqfEK5PAaf3qUj6RbtHe9Ik8R6pSN91xOfQWTUuU18Ayq5E/+ggdBb0aFLximN+GaM76XQHfExFuT4qasGW1ha7MdEVIHmhu5RvGooAMm+HIOhhkA7gWkWpx2JrGMfnJwWdxMG1I0RCgXluhy9NYn3zNi0Bo28+5ScbHmH7yZ7xG9MM/Z+vZV3VCUBn4MU5lUE0jY2Byli+/J74w4pyq4TljnlLl9wxRaSR0Zq8t39MpIct9Vrc6+HMcsuW+fCR0oeHqxvpoJ8UZeJ2YCx06YIPXvf3lESidJ47R64A6dxuxndExwpdQ3H34bxnYFNjvRKuCDSeDlzb0H+C5FuVGeDrM6WmcWt5pziTCcicOOnQVtSM4AGdg0CQQcrbuoGbw+rUr/Qxy6i8fbQdOqs6zgJnlytMEdIC1CaSUzMRFs1BEfnGCyEP2xs9iyQsoTpqRsGRkqBLXiIw0dQYc5SVOhvK7VSyJpCAmrvJ7+eK2EwnKddSWK4Ofb/Subn+LbBw3HIAdoaVPW6HqbCG2mwxGxHXEr3CKXq6wTBlyI1irOVvaDqCK6hBt3aatStA4PxVVb+vWtniLLfvUCSCGDFzk56YtYfxDCHEjx4oL2z4On+X0g2t/gcctdDX4DnhtQWbanzHbUgZxHlt0Kx1u8JOOMlKunAbiqV95m4zsTHmXw+7ESjBltBx9KLN9R4yRWT2wv3Zm2hkewuYXJtKw3uEvlDoKfAwKHqtXb2EilTKFNnTBgX3kjG3It4F52aKPTbW93LKCyHvFWRnybgN1gGJtGmYpi2JQASwQCEe/BZ1+YB6acu5uixNyL4udMXnWlp1WKmXv/p76cnxIu2Ah4c1+ucRkgyQ4zljftll3zhgaaMMsGO7xyVt2jR6/9/7pr//8z7LC/uXveI/EF1+e/uXXn/PV268pe3x6/4Mf5Bl4d0i8pKE5lVnjaNv+yNL+nGz22nVrg9mdIT+2s+xaWPVobimkxiKzvNTbvlbGWJR4WGS2UyyP14M41sUEY1lkpS3CI3p4ToRSINQhOBkxYN8ycUtqpzdYQyclNhgsbZBuJcXuyflf7GBljYFG4RhvLLP0vZa8YgWNZrmOQbM9oKN/xLY2dc5rCZ/HaVrQGWIHE1cN6faMqG72XNJBPvvNb06f/+4zGj6rSQYqO0BmZs6gIdA7hRmo1+pUrua5elbm/NFJFMYB3w5jEMYVvLRmVZLOpZOq5EA5ILTS7+DEvcNYeW2f3sBlB7bhqefcBFI7mWOD80iHxrHOgDmNSL65CUwgZeM3zk+6abyUeRYuz9YC43eZpSdSJhNtpeFlnSmuOLbXyK69SKfRCmsc7JwP+eGHfTxrB8vzW3kLRQ7Jr6yhBBh2IapO5S1MRNzygh9sdIImoNm2Dt+OLJTSOAKIztDMKnnxz6NX6gaiN5DdcXW9dPOavM9OV0/Fs214bk1KMneXY+psdZNO3XDQSZ+zpM4AYj6Y3iNgOzVY7rVgXwHqwFdn6yBJ/XqiPXl2tXPJgJg6gU8HSaSwDQSP1TntWkdoZtomuHH8lCvv5siBoVkBY7+QfogUzyPC6RTILT1gDLNKTwq7mc7EUlhlgJ6TWRKBNy/xJgsvT3XivNEDzrrtpKK0xEuas01FYRwUI++qx9XSIifkAChsJzpFKmviNUAI2T6c8O5htSvlJdhm5idNczMgEwkEcJEj8C3tJLjlzRamtHTw2kkcx4XZZZCy7+y3z+XxTeyYgKzuWmTiz7gjXNr9ouejpZZJS8lQhz7MeIMNP/ro49PnbG3/6hc/Pz1+9/HpRz/48PT5jz46ffGr33HZ7z47fndOf/P3Pz394Cc/4zKQd9S/Pv3mN79ml/DD3DyoHXMZoZpWnu2oEWOBLecYSX1vGYVLyxONkBN9R3mt29anBWQIvmyddimCgaKp52a8eRy+tr+Et4v4TeK/Sfh75Pwv6ahH/wyiK3GMT3lqKQmr2N/VGrCqnVH73o7HrAgf8vuCFaZb385YbRChKxq/dpzScKsxs2Qaqtt5bAzxawe14Ygry8GPkyCrzsLVlzzIIKShCO/MQBzKgm6H98+GmLLkEhfIODIkWpjZBlMraYrnn/9V3S4ravPiKIUxXQDiHXTirIiLbDznwFKOfACiY3FNq49K2/ndytdJvfQudgaP0pSuuJUrKxLxgYucQzt50NYGdspFOzJGDlmDk3LwnRCFrrZd8oxcnJXbQcnQcycJpqXhJCOym/aXwVq5GASjJrmhlxPR6u0K2YHNMvF99M5H8NyWjGNesmgj5TrKZp54DDf8GsYh6qjH79k+MCE/VlQutwmW1VEX98K3wLmaov50XH4T3LrPDxCdmjhW76U3vtkuTJvl6m7hUVBHuJzmRkMhgt9y8+tgdz6DW57LUUJ/HKn85NNy8PnTTjoTJ4ji1+kT1yFRrp0Dr9MfXOGWM0oeigUm+MZ3J902x6oTxy9M6laliQiXNmc/8Q+anVTahriXgx2KTD5STxtS4NzVesQq8hmXuqTrJNoL+HnXArSc7MiDFpQqlr5pgEMzE1riTq5COe2gfDvR1r61Xdta+4z96QIH6iWYvQKJ8gbC8/ShtnEYpU3T4iDixK+Tr7GHNBXJL6c62chEnqyHPJ3yim8BeMf+a/T3+vT7PIfuJ3x/9smfnj74wbvcPPuYL5vdOf2///bZ6V9/8/Xpn3/+y7x21hfavGTC6Md3XnED3z3enZD6i4Z/6CFGAxm7Ie8WrCsSUWNMGxsWKPppcO29kJaJJ8XZktKdMutyQ6C0dBaK0EuIUBVd8f7QAP7wHRI3OGq5TPhjuA2N6jdm3XOJZdlkzvfk853AD3qgtX8NzY/diXaAtBE7KFHFU4HLUjqMbPfQML0ZJjdGkJcZGx3QCnuz0clDfjYZYl0eJm6+39ctv5VFuQOBteM5E1mKOvOrvDaSvC8bWD9LmaEFeHG6/deBWrpolfxtwBdGWGmmvKtoKS/q0aEg0qOAxC0ea4qsKSh+0I0iR9QgGiKMtqoZndFB5527lMnLZzSlx++CN6I5KLjq9lGdDJI6LWQ2X2dex29UPXodeXO8lpM/E4VtEiAf85VBRy0/BlUH1uJOXQdwlTd+2+8mEuKQgycRyICrfF1ZSF+1q5vOxc9qyicTEuUCtk7XrWPbSLfctKGDq28i03lf4OFdGG4yQtdLAOqufZNverWfCIORbRvWfL9Q1YHkFXluJ8bpiQGfXMLIVjDpNRCnXHzl0LnZzq1D8hr33FUgmuQv/NChqzV0Dw40PEtopc0v/To02+1x63tWuFd5LRxgIbjRHh7RHh7yMU8Yrw3W2WJ3/sCqLJYfZCGBJQ40jYMfGHnxJ76Or89s11nLJ3W8aA0PqblFIV4DMXlCg0qXbPSHSerOl7h4k5whN6/Rtm/7SNSiGybKoJKEUq09csMkeXHoKeAQXm0XhV/82+HAZ2uf/qRtKpPtGeIbXtt3ZF55ldu23DYuvPJE5wrUOoW2If0IgN98+lvuXeGyG5PtX3321ekf//XXp//nl5/yZkVuor39zunJ869PX/z+t6enX3ET7VdfoQdPw3CH/zu8+9+dNNu2bWUmxaP9nK3VBG2zos246ThAbwKOmpYINeFog+jLoXmys10Az0E8+3XptI7N1T4tPVId6uucoqsyFW/gpqw02pbku2japgBdpUG69eg9bia7EqzsCYIu5Mn6zmfwrlHWAtepbcId6AYtgIXfcEaRa1SuUF1s9zw7hAO+ORulxY0cyjJAk8Pw0sYeK7UC74Hnavo+JGxgL1hlvHCAg5azWEln5r/MJoeiA+Nozn/FbmdRhDoUBTUhggeCMh5/FC5RQqO2KoyIYztiyL1olFIa2ObMFMBiz3EoROmgIU72NFDL/RvY4ReH2UxA9hWudot80gr5Ots6xsq3iRXa5es1ah8Vc6UnfmSSc+Tc60P7pmtIH7lnsBj7bfrFwSn3cpryAsefsneFDQl1Dw/LjSM/aK5wnciEvnpkhW3aSVpX1eL1mqI6gKS8a/Vvy6mtluOGntvbspK/dHIzFHn5GIIr67QLaPAX516SkiXEKhu/lakfiGNicbIGUf2H2986NLAYVXTicT5k2F5tlg42MxiRlevCOluVnzLLtwFjVVoctTRECg1P/Ons5gefwfUsbFagCml60R2Hm+1DcS3LhOEqfmRY5aU75dLFaRxoGo+1PIcdMEbWr/iFiQ7QtSyyc7ZuIqs6qKfnUgxMosWwimE39az8hQ3F8CcWZA9TmUPheA5QqF7P3Zw67SftSyj4yDx2gU90EvHADkuiS3lmLFvx6BmZi9A6kGblV8zpA8Iu5bczUABUXql7eSx9T3z7FXne8Jn7XXJPi5f1+tIm692bZ0eu3NjKFvwZix3pRE7FMoR1+UdPCZsNjUY6vjRB/ipvmfWw4MywTQ9g0kMjiY2XuRv94acNiNsnBRTGeGKxWWkUrzIlHhaFv05TjAp8FDpiYMs9z9iWNj//e/kNK+q9MNDh9N0PVbLwkf+IquEPwh2LvnNcg1ULj4SjvG+jAt/wbgeIDJtw0LNsAhWdqqbSmPsxUPv4ka88TF/NwCPHYsSNrPgQuHYGuFCTv6TOaTUCIKQX210RZSUOja/Y0gKXYiu3q+UpUZ/Fy/PKdtC10+EW0m66yi2dBX04IUlolECiwW16eJcmNnUgj/OqPPJUrsimbghktWfrnfjYO5MFraMOb4gy+hzEChB01uChIj7GEqcHmMXaQv2Tx7ko8AA2ioePMihkAYRRJv/UzZMSScefB0+GSJVEy5tZHK27SJKtI+CIIA5afiXLm3x0rGymp0y9pehz1WmZTYK0Bh9lTKDO/AM3tOAfBwg9qzUrY/NwfFZF87rN6tZ4dAA/g7KyqA9A5venIzDuAYYSIRiNQ1r5A5MBH5CmOQcci0mT30IPjeNhox8eoR4mzSe9CEIlsni+ElK3Kw/YoZezgBRpsUJwVDBpGoiPNROJ/l1JC7PJIOiGI0F7pW1Zu1JPkQEY4IZe4duOLRh02V4PlU9sf4dAQfkQCfEc4EfLkHlkdJua/P6Hf4ogk0nkai/Wj6FySEcEWyeBBurZY/uRNjI7pUSFJ70djDTPNx26u+S9OJ3L1i7K4M/2LowhXw1jYuWlmqTZMhdPurNrkILrBwG+T4BxULSPeCT2PrgTip3UcRUe2SwRgytGJ0fFlWb6aZQkFTt5HqtIU1jkSEfIyLFsL27pXOG3UFpmSbhcAV5aFZnjtzjqDe57RYZ1pNysAImR+kBtgz3kfXt0WQl64n9zuAFCuyzMipcMzNWzJ82d1Q+tb7suCJYNXDWkaucIRuCleT2U91FKc+zsGTQFl4CZIeRpi1jaQPmVjhSyO1ySgUTqlT2mdhDpn2wsXwBDm9LIJ4JlOVMY3XbJ5RHMQV8yNB8a6QSSAIDBhCGwHKTn/2rgcZDAuFVnyEoHmHEIgicEfhLkQG4c9PBqpsfyEK/64djA39XRAk0ntmSJiPJ2YKOe42jQWyev0HKP7UhXElLNFIBC3atnAYZ+na4OmcUtg1JXYdHP8RM+uuHSc+Bf7YGi5OWgAPAKs9IXdWxUE0MFWONGpHiRLXAy+p/r0d4gZkbg5Eyk/ktGylw+cb7k7KE4sWdgrFYI6+D8ySP5dfx656ymzYujWHIExglFEETihxzAFB/NQk+a/iYfOMLwEIdE0p63wRNc24xkAx/lV6JZOQofjQXm5+t35/p36AllmUE+nvgFx7xDRDCmWsnbOIHjKlG9VF+5iwYw/yNfMtdhYJosXOPg5l99zbH2CYKMjM3pMTAp3PiG9mJqMaU9bImVIUwKTV+lb/Y0QQXJ9XZhKkhkCQx1Y9037rVyen/S2Jmz1/R9wVPqwN2CAMqNYNyAGLV6k9/nqEls/5uRk6GihLEX8k+2ckTthTIgynCzFEuyVT4w0tgDVsmkSj6OP9YdAPDQXrHZDlxW5m6yNH4AOUT/ne76dpKyBQRL2JQihTCT7XmMVMA3j4EVf5DeBNlyvgtYYTReRAHXnIZW0p42V7bm59okSIwF+q2EVNlRH8soWV2pQBwLvvSOHg6m0mX7cz3u4CM16QmUC1JoOUjNFH/hVYDgU9JQDpGNjOt6tHRAFwOT6DN8FEj68srP00IMVImS2dBtrDZ49n1XrgjVLYMpBMSNnejl2ebSkYRvcbYGLH1+5S6MJD1XkDR2YSwQdMqNrBFkkYgsoUR+VxdIIFj4lkYlAzR0PJvfkwyyHS6lxX+eaXJVvAdwIrHyND/6JuoBLnpo9fAkf9RWJ1+ycJsynVZW/KQv8NT+LcsM6V2GkGjrsq7LxjaJQ6NMJuq4b1ObaZ6DpxrzFydX3EQr5uLrxGHRmkbMubSlz7+/MFc3Hal5q0BYBuZMuGRNfqpni4uDRJGl9LKiX3JtdMoE/MKECfZBE6JLF3hnexiYNAt5LB2F3528QpG2XLo5rTS54iqDNozcgV1w0Mv2fJGE3uoxdi5VKW5/ZomdZ2uVB7rWacLhJK1p70us0iEhWED3gSbo1Ql9CG4rG5Q//COy+jRf2GMYjVsf1W/K2+qQGdTYePgKEOMKz49/qZvykgrH8LPtb3zROR8hymraR7vqqLZ6Fn8pPHqPbCEcNuW15YOzB7nvodqudBIelE24Q+kwsyQkSmeXZdlryM8Z+AlDTfOkl0BIWv0dEABILU4hBIILyKqeIRl7mzC/ZYtgMNretvYjPcINK+rk/+EHCS/JZKGwo2zyw3hKysbyitP08bjhTqa0rwBfpTVgbzu3kjDDG4QPcoLsFk4cE40/jmMZbEdccjDC2oHspFcCxWExB88R1VlmG3ZIIsisEG34pcJR+ODuVJO16S9MiRZHcNLHDkfasmtkdoLEUl1CHeQYgAzOQbZBQ93ZsIG8ja7l/KbTWpKy4OUAD5swcQsIDo7z7mTL+gNC/RVlwbWuQFg6J5vC2msBSTc/TvGMk2yHkpf1kzqUsDCDSj1E7tC3TBwl5Qxs5KJe8/4uVBfWiVavb0MHfL1w2Qo/q+eRIZSA0xkOa2BWWraZVBhJUDB/pidPsdRZdvIz7XXo7mmbZbo2xPEQD5xnnarvTCsQNFFi3dlNJv/ekQxBiRMc5wOLXvkrOzPjqEMv/aFp8ztBiBChYV7gQx844aWnkxVeJqYDJ1N/g7PHS8O+Jw9w3daXVpzF4Jd/iIxcwIe2Gkg3JPezeT6+NPmdgFg7Bm2ujDv9yBebK2OAAmMcSH7Cmi8uechq8EVCFlikf/VcCEsby45ccM1bAZy2ycmo08Noi0/z4wyJDr+QXHat3sMNBkY5XZHhUCyALTWB/LGb6QELDIlpqrWjl3fE7aJmdslKR0KtvxF8cFK+2BmPlSLfITNA67Da5zFriy+81IHoCtMKqb4huegGtpgLROBm5ChyNM05dEJvhyq0x8IWcJWPEBYTTz0STX/cMBYPGoWx/rD+kOPcEgoJ4QetNx31hlHA6cQr9b1ODutL5lbwss4oEGJv6vztPKa1fDvkGxDZnkiulrGTxRQx6hjNu0FtgHbiacBz13TMGJktI6RfYto1sB8r0Aa4O5Vlfvi5heTKwHVUcq9VjmR3G4WLWQmV1vKVYUeZhHkDsIq//RQpwQNROY71TzqdyALK90GBms2S0BumRNKLXedkfvMC4yCiPeI0IeeARnxWSDqRVMXRjk735ZMCaEkv+pnXxJXObyHZ9uuAhT01mAGDhK9E3WiksAd1M8Y5xU2QdNDWsYIHP+s4P3TJzTCkfXGHohRP+jrlHdY3z6l/25FHIevQjXUpvUu7Sy4vAZQfHuqAkxJyHHMcl8zJrI44s2XnfVt+8MXE5otV4JiEQDq45SU34Kmb6ReCxw7JM79pDJO6QywzStZz8tMpyBMGHPKEySpMHUokeSEI87QH84ef26cQj47qFNo4WGkRNE3e6287SliyyS/p8pT3psuiH57CRI7iBSWY4kG/6ESNpCIAt2ZTHFzL8gdIcoNjvXWS1Hov5R3RtG2i51V65aS86TPJbTvYRW/b642stds4grwoZgCRrCwqu/JNrK0RyTdYGFkHprUXfzcG7GC7qeyAansSeWIBhOBLgwm9/SPPwEvSOlkk204nIV8R/V95NzJ+e6Y8xQwZBZPWMDug3ZC1SscqpXFAodpbNvSaxE7yS9Gy2SCZN4OB0cnnnKKktd/Ci+yUhJY0rRnTzZBv0zetqG2h/x4BXrtxotofSXVpA5U99keSfAMd10kDyw0RHYGqw2K4N3UQY2SFuVZZyWplHsmPLTSvg8/btAirVVFbZ71SJWPL3QrTkGwZC/XI+tvj4Nnc04FT/8NDKcvHHH8NQSDawToldk6Zb7ILCbZpwNMIceiZdcNDWsNq5A8ny2IsGzSoAjpAOhkwrjyDOLIBNA1amNAOMeFLQzo62YZD4QBIK4hjCZIzaIFXWcRTPk8OUgxAwDjhmGDNK0t4mZ0f6S7ikkym+ljcExExoSXtHsgCWZnlwb/X+VI6vgnkDNIIpPPW62u72s+06MtuyU9WaI0Di9OPcxs8YOQH71DgPC/TCLbKh5aDrzgmPYhmus5VWHnMRExaA1f5Qs3MRHrc80q7trS/uLVqnnSUDE6duIhPpqZSiMGzfGkQold4JmfJs+I3nUITu0Y22dDGY5vmvIlybJeRS0ydm6BIo035LZXfxF85V2RdwMFbfC3P9WImsrGHgi7aaTMHyqE1DNVB/ls/KODgSMb24IRqZNCOo258kLSkwVm8TlgjRR65yo6HZdrK7GtBvKFtUTW4BvQHJmWnxQ1zburmo/rugQQZsU9kbLd2khG6V2DFSu6OPrG3ZIf2wKxzZeS4hI1drJupH6PaGF6+lqY8rxH5PsmMEQth9EkFTOJAbMm05Wis63kp1GgblJElKEY8Ciz+zeFQcEBxIDGkQqTJfzhZOQy8fWZWBEIG43ZUjxvFjR45CBBo8KU5sl2RvgAlSSUESrxlOIazJc/IsuhMeXDkJfmWpQOFoulrYYmfCk/vulZ+PYnehoDGcyyaQ0fd7XgTyNc35fEWheI/HbACxqYVFgRkz8cxBIvPgBf46QB8aEPnQipwQQ8P0j6aJc7oC06iIMduaQflG/zQ2QQuyfBc9UZdvj7e/BU+PaSDZKUPgmG1EQV1kLWGb4MbWaw3fmSTr+zUtIkE2xBY8uVPPfPjVD0K1WPrHKGiV9sLdINTPZbqcXixL9k9d1VVR1iHuVGGeZttdbGdDE7lqeSWKpPlroAKAy0JxRbELNeJL1uPkzJvf7RKmFAJ3HyswLEmq6fg10DJg/xsPWdFJj9g4hwsk1aeAXdF3V0nXxZzi8fkdNa59IDwruxu85hbqypSSyl3I6fGV9bWxyLPwPnY366/VjDUJn10SNlyU9RhmzxAvQcy0WpdTOtKM2ViklInOLV1eZmpLVO4bNt46mEraN7YaEHnlDYSPrbL1ouOMj7RusIYylFNtILtaZeyTVKZRgijQBUpcQ1qfScvxh1YeAI7d77LJQHYPIJIIs9yO3lEbyDDJtyhL4u0I+XhZ1DUoZ6MtxwGforFiZor4xhPlvwSEbJy7M5vH8eQnPIlATjuDLRPSJ/LS7bFA3Hb7wTH7AYzsdehzPyxem27iKg7ZfuCQUjLDkxCrsQm19SbW9+bADcQMetbQll8C9Ch+JvgVTKGWwoe0P59ojAfM9lZbWhWUMwJz5Qhg1Ax2hLWcroH2e3iKTtINJU9WUXzKJ3OQrP6hIaNsC/VX9AQu7L9PES+57k6wC0t6LqEbxJrgzJfOSur8t4cli50yqx0AesuwQ6tXjHdolH6kQryIFC+05dPee1y2BHMs04qUdIlSs4eygvaGaiOHdG8DjqlWx7JE936W+WeO4kDRtFSPG0B/Rx0KdpWEAfHPrp1FQ2QMuZf+4fQFZohziH84MvQ2HKA6/wLUZkclHVawi/BFoHraYF0dGE+9D3H+RVXcUrXMwmDeP6a6pHE3OVrho4hK+uN1sLBLN16bVrYyCUxaNahdPAPg+G1HILwceDJl09vTNtlnOvotX3IikSILo1CmhJovBluynsTCuSFXplvgrieZ23J13p04iANL5s5qa3eYoxctrVFwXqOvjPYr/xrJ20w/WHO10CSjL1XwbTzXNpYNtZOaYjQa1tTEHL518kqa4SzsUaukRkQ23l0KAPp++sEof1/k0007GC7ecUb8Mqi8MYNwYVn6he6K7uF/+7H70J9h3EMs04nxP4mYhcj2u16uCmvMJtdrqOEx+B53nm+Aboy+pnLwRElOB6+HfltRP+YfLkexLlCqoNYms2V/O+WGH1KfWvcZGeAh0hujEhDrfZjaJpjWKwmG9eRCsXhSM3GaccLGI3wGIbrKlx0SNng+RMtfVw6Mf6OcaTTuGWHcpkfkkf4yJeyA8Bb4CPHICsQIdKBKnbiZq8yG8msHOzIposlprGjDRwEOhhs9nQFB1TUFSVBGnCCXOoGAOFbTxVkbNbt3mIZV0ZXP+I6UBpsJU549tZSGpaFrjCHjqk88or0jp+SQU5puyqLvBzyXCg6W2JZdFrTaVfs5gZ2nZUEAhzNvRqiv0QmBO7q4J0BnwaibOElLPL07WIH2LIJOyXISgocKiqco5vpwIEnTTUwnQZYHgEeeWQVgByTG52JBWXJ1Ru8gIU+LitnadZZlec44yvb6NIHB4g1mdDhge+kSCeTCcrIpa7EN1lr5+oFXuDFk97CCSxoKwg7NDYYYKcNFcyJQeEoCi0b1oZrkbnq3tLAm+1E7fVrPmbDV+d8wcexait2c/b2F2JlezjuvEKVZrgo2WDISru5Aq8I2ieiHEqAvSIFqQoaIrGdBIPHWb0lvvhQy+RJobbO+GifoHx+OuzQAde6y6QSZWPTJbfSl4tdirFgyRq+U0dLRfP+oDB0RL5uoEVQPQzKsrE7wtqGUve2b3QQapkkiOtQXI6JOFCMdkZX/Eh3kMnThrn5OLYStu1akK1/L3hLM6GDzw0r6oqx8V7JhXv1NPLdCBM2V+G/TwqFpVC9y8ibJXxYPgPRsWJupPvt/DexieSjCcu4bZYStWpXw0ySdEThEINTSWmMyMoNR9MAIznlpT9cqoMKzQDWdiw3YBbviQ92VVswkacli1rkK0zEbbVJTprHnwjyiEEtWyHRlQZG/ksUAAZuuIljeS2UGajXyey8KCNpG/qs4qfRl+fix0n93ca841vOtmwHZm1jZ2Z/sf52lQLFgJEbWdTQwSElHhtThvBPusjRQ9TkRbPaYOFmvAC0MixJICLFcSyW2mWbWRgfR8rNT8DZ6Xz0qIFymeZU2NpiFc+pRaSOtm5hKEEjICRmNW1peVqiTELyU2ljPbXfpyzZpFvgwNM4Z//Vk193b5KR/IXVcgcT4fwTn9DBpGlqLHWSdu9kBhjv/xO0dWkEJH8x4ci+8gJbGjqa1/ONX+nAe2SME7KyJEdZnVLruFvzlIWJpwCttPnHULk5BhouO3jAlqDE28/NXPTka0r6ntNAVk2gRzRbq1Nh3GnyeYECL1nJSc2GUIs8tjZLXzryHAml5RZsg+1FiEUgwEBOecqWjEeQ1Z7M6qUDt7BLM0fxIu/ogURkSXech/LoZLS9u0u3b/O1LWVj9axOkstWsW3GThye9knfQ2/dilM7RPwoVBlGt56//Ri1BTuiX0lq56vFG87BFgGSTsI1YuSVhvkbdkG1F8yb22PNudNoD/7/2XvTX92S7E4rzjzdecj5ZpUrneXy1F2NB5pG3TIySGBMC6kl+IDgKxJf+FuQ+hPQqAEJ3AjhbgMN2LjdNi7b7a52uUbXkNPNyrx5c7jzPfPE8/xWxPu+595zc6jMAiOxz9nv3jtixYq1VqxYK6Ydu0qxEvVfAIVVLpUmokpk9Ma7E9lVXjjqocxdmSZ51U1l2DN55DLIeBRmhBczI9eTDJUCPJryZAaD+UB1NDITRsbzo3ydQCEPI//B2LgWoLjdQrKUiDjwjxT2j5QPEBOFtYyqPyVqFZm0foGGV10OdSYGAzRy8S7lmnB+EgEUV2HNd8yN8DjJx/tkH3h+khfUdmTTa+HqiHu+0t25CLzpqnwjS2+DlwtgGh3tjkdPFfjKQ8UysmJsXEzzThLSKjPkMEkMX/0+vQF4NE3hIY3orMyZg9QoY9CCF8KSjq/38KnFOMFMABvIaT6hFbgQXrSkPEIDZUUFYDYT6OJ5xCVvGlOhPXkUyuAB1rJ2dffgTY9TDgFgaPfPf+/lrTg2jYF15E555yQs1y7YAZTgSmP0xMgS7oiKYVU2yAWeKl6DZzlUuqKrI4wczKPno1KNe+4sV2NSvh1flYMc9IPwAHEZemBMNUDKaSr7hAWhtFDG/Fj2fpLxELl7P1kBTLllVzbKOUZppOOav/BJHM+Ydow8i8WSAapB2uqdWveKTmVjOtGkLKw9uSc0uIwvBOKUvqHzCeYn+fqbeJ90pvVcKf3tWLyANxeu4iq5+SCcF2OlT70xBF50StxH74kpvTeOA/DgMBlHRxMYEfgBDI/kKS6ZQK4FWND55Ue85inskcPMOca18klePUF0ZhpddCSOhCG+kAWEfJWx6wJipXgWl1vm1rvUwPLde/futvTkHyL6SAi8S4s4qRvat9wmULzCR0mFqiNZzxBXGEbsh14tvxzgqIM8lBuZGpTYxPnTwyq6wxeUYk6CHhqig6fjn4Gu2yr98TuuvYoWSClmZFdysoFEFMUcuhVMTsFLn5WQClR/FW2SU3rUJvKQgR/T0QlMDkMOHyO7Uvoqmo8BPiF+YnwnIcWdZOiklzijRynWLiLiqli9RnzIVCM9QkEmDKebevitZ43qMZ+Vc/FUVUieBfAQTqfenZb3SUvvcTQUzEf8hXdKRwWIIyah0HW8/ZIwf5Jvp9h7zAaOEAWBNpXEUUU/fRjjSbzi9xx4wh0Pg8syCEW3+H0eH6mQLp9NL195ZaSza5yH4fwEfyp00iB39gheWVb9pE0DxcrGyNFtCm28KNPKN6/LkYt5iSg4c8+j+MXp+oIYePPylDauPR6QpC0UpOnpqzFQfIx0QPb0SVSgwouEsg0dXMEuaD1XbMdLeEVN4gLIT7ch/VEgy6LKwLaLDs/yyagD4V796EY+YykcwDqrStEvIsgBvsl9xYUMrZDpCMroh7ATHD2tl5z9WVh4jg5xLTwjYfWaImOCov/5xnTpRukweDot4hinGEZv2b0H/DDLPvzt7e/VV78YrdhHSXV48p0es/UqOIYD18USRxbKorS4RB46EwJsz988PcQxOQRELqatYGTEvVgiJ36i0+ign5xdXVluK5z1aVnKHpnYYJuFN7mjC+lRGsWhjMY2mqFUegcZxJmm9oxXLlrwivQ3Pdpu+aNzwWhMMiZp0Z89HCpZIEQqGnmzHZlGTgIMTwQYKkHPrqcDNsFdx6Jowvc00Ctv2dgFvNEPU1LPTCbu6IT1vYcjxXzIaHN7pz3Y3CS9ET+GI3QXXm9LQifzqTDr7+DzZPyHPhVDJ0Bm8xjZlz4KNkJOJAld0xgx9DLhbqKvEpj0lhLQ6MCTHbUKUhbhZE6fwdMsg6KT8NmwQeZjWQ3AcX0M4PGAoTyPx2hz59syTmERXlV6qYiMcsdTiNJ5VmqhcB2ppKWQwus4hKUHSKVeXFtv82x2oCNKQvKwwgung3PvcK9+PnHZb0LnW81ubO+n36rhoDEdaWIQHAo2klNSQo7PHlaiHm6hprFAkC1f58kO/HoNn5nb3Nrm03ucVJjtnd0YxyyQChJwKVNOL+nNVCaogLRXZLIkv8BEVsV/ZGEN1CFEWBqxcqD+YoJKFHyPW1gPV/L6qbx81s9nZLKK7FZWVtrGBp/MW16hxY48kcsi37itz0SavsrNofaaHxdb5RXU/CizGCJgJMcnnbAPdS9FdYR2gTpMxcNhcDwKQ7CF7SFu0oSgYaD6s1VHGXlIk9g9LKo0kHJvWWloNdA6LD74sruPUdtvO9z7OcGcfLhkh88XhmJlr5iDx5S5yaVygXojCTcf862eaYHyWzdBMKVLWeVM0irfavpXigUzDRPidWGb9UBdrfJbXV9u63wd6czZjbbG5xCXaYApmwz9IgDRjsVNOjI/tanB3+c72psYbz+DuLW11R5uPmzb6Ok8MkgnkYaXXwfLsCl5ZoiddPKYHqKYZ+RrnpIpB+EHvR2OaSIr4kE74UcUwrhnfOGyvvMNdpyzuriyttLOnj3bLpw/xxeg1vlqFGF8pCd1FJ1Sf6q85TK5Jv8aWq78q5QlzMy8QmVuu2PzAX2yp68nmwxLCxuO+FWRTCMOmcwBZp7zCh7PqaZcSzYdopLlIckGDYbMxAU5QZGxUcAlrwANOgmHDhv7IQ24sCJO7/0JTr6RDtA2nwR++HCz3b1ztx3TIJvr05aCfSYHecnzyL2unxTzBMGpCUujjOLOMvCQ335bDE9z9s6oaYgJZo9O9BRBleEoPEBL7pXG/NWLJzvqWdyf8X2YgVlb4jmsjPyFd0rewq9jctMfi/2JwAbYh1xPgxWrMh+9KcWaSk5YckyBlHKKWhlq8MQ1zzWOQEPdHbC22/QCHtMz0IotrSxyruBk1uKM/FTmAk6nnDQ9Rh0QTjvhyGEJ526vsHDqqEsx4g66QbAy+zd7WKiprD3Qiqaz3sdB+03bQ86FuV3C+Jg9lae+aAOwrffMCdJKFmfVuGCR/Tg2wYwSgvguFkYM5LaMlDKJjBNZMD4LAxaysYLyOQoeqeIFay7kvw9MKSUCZhHOpEcBT6JzPYJf2lqiJ2NDZhHjKVrxp5etPGzD8FfHmKIIA2Gp6Evpki6JOw1d5wiqRkXxI56wItaOduBIHoPm0CgMQN6HBvjhOQY3wKWvSnDQmPIhWEflhh3yfIzDQhrImjBeuE6vmrh99ki2DNP48h1qytW8qjFmuetx6jlKZz4JI9zyhRbYCz6SZah6gRvElnB1zPt8NpV0OlO/a525RjHLiwl7vjqcMuRVB5bTmLLhyZkGKOW0vFrlZFr+PMRhL8wtc52Hdpi7GiYHNE44cdS7NFIOlIO9aBqY2YubazZ5QRbyHAfmvToun76cLv3mM/Q3WZqzMufXZ6O96Q9xQgk0CgQBCSLk4cgODUQaG+qbjce19TP5jOM8W//OwyeVthpsJjUZaYKGLJSnOLVs9TZHl2HokIZkFnjJqbSWG3AaGvkUSJwAhOyRB8HywSVH+DZD0hg2iTGRBHFNX5dHnjj95cFo77RXgk3CegRxoq0jAEUP6eepcOpunAfg+9SpA0fsyGuP8rKhuYlzvv/gYbt37357+OA+ja8tyrav3gepuYS9nsNjF+nv+afchB8BjwNPQkwSDsL/JPiRG7gtoIQX/pHfhGkQCTR9nt4N2EIb2REZlAZNbip+/J5ID5DPASWfxJ2Wbgbv/yuOOkLA4DlUqrHQOGSBjiSH6sHe7FVOnhg5C/jYvYVhBfQoR6gi0mq2R0elnMOBWXnjgDtcVCNJUBHCEqed949wbb7K7FUcZezNAWe0v9MOt5lnZR5nfhnellbbHE57iWFxPwm3SIt8CSO3qFHDiTnEmyE1aREh1atoMQ8zlZBeuNxGEoQb6pBo3vfUkHOYLl+UInaRHqw90WoO4QSYR9/ju7j79lj2JL47thjByiHGTUQqkHlxTY7WaI4YFODtljhnKr3pcQPsveA+W3ET5zNGteC8CheXnR6VW1y6SHCPiiyHx/Kh0dJxgCNGQVwrklGvv6QMQ03JSaMxKaMQTR7doVa4OMUuDuLqQhpoqyd+oc0/I4OjnhPtD+m9xBFy718aLwkUsZLTcRZsnApPiorEyRdvUw5HSLqMjnhYdnuUhw2oHZyyhk6n5elwcEZFsHGHfAarHJSGZnoGdfJ1Xp78IKHii6IVymlt7qCdWVloF9aW2oWVpXZudaWtcV3xc6Poh7xL+y707JD/Fo7z3uZ2u3Nvs91xyBIm9lkzUO+h+w0wR0QcJWFUZGW+ra7i0FaZyuA6x4pnWgRSwqksip68shNedcw74XPH0Z2tnebVzx/uMtLjV5d02Bp2G3n2pkUVnhRm8HW5pkyrLMKtZaSumbM6xNUgj0QRFgTGqL/5SzR30koadNiRAke61tbX27lzZ3KurZ5py6s2SLBZ1Fn12UP9Ul+iMoVq+qvj9ZB+LuHBZ2gch9JP1iEUmpBdMINQeAk3bfLxyplwM/TZq/kIN+C5Gj6yNzzQgA2uLaI0DIKFsuRZe2aZerrWYNJZEBdxCzjkOaY4Ftj/wHttz42t3fbB/c324AEjIlsPGSF5iHN+EOes/tYbAWaWjOoHXLOPMzH9VvmEYgCl2KM/537mZwT366TcZ0DGreKpQ1l5Zz6TQMJEMhAq1h4n8wmewiZdHmfDCBXuZFCSVhC/iZ8ClJaS5tEDOKHM2uPJjnqUcsF95r/mH/756bQQogBLKaYZhtz+OBicppjCffSdyjsc9SIK5xxpnJgFQpkVPZVH5VC/Km4cuj5z/Ek30Sq3xk4YGbEFax1ewCnOMYR5bM92d7sd7azgvLeo7AwNch6trLfjNTLFWc/Rcj/WELI9cIwAFaFo7c/JS7qq0nonH/bGKl8yjHHE3MoL+Trv7rC+w/BzGOQz8LrBUPIKvZDb0HafXo3zRpqFJejWOthYyoI4DRY8abxLWcGpTgNDYH6kpByzESWVRIJrOKks7IKOdMvNIzLCsZtXelf2sIqPYxzRzvE2EQyYUjnT6yJs/2AVZ0YYjs3e9TL8LLIewEPzE7PMoyMVmFgziUzcoCSFQ5yjINK6YGFFljYuBOUn/NRtxclLDxZ83AdzF0EC+ZE3EFg51VtRlbFUbrCtaDQ08sT9EfzoeA0+kDeckb1MP/+no97leZde9J5O2sYUMDpoQMwFVL18wTdx2olJxvxgcEHuN9TPUNbn1hbbc+fX21Pn1tqV82vtEkPTZ3AztAzZAABAAElEQVTSG3HUjlLgkJSBBYJsKA2GnG1AHLeth1vt/t177fbdW+2td2+319693966u9vu79AABX7Z3iZ6vMY0xdoZpioY+l6gbI6Ik9eal4VeHvbhWZ52d/fC17YOGqe8p8PereseV0cP4qiRgU5aRPkca+cX8hQEZVLOzPJ3rto6585NNiGWEcAyPC05FYXDtTQdBdhDt3fRox2u++qX0gLOBp1aswDdFqcN52VGcDbgbWN1va2vrLYVdc61J+REG4JygEHFZnoLWro4coFWopJvAg213BI/Cyg8sEQYmpGW2Fx1ykO9AY8/YhOpKYKiwgwpO9HDoSv6Z4S4ARbesIxAQEf+vAaRsoN38uI93TgDVcE1M6vKgXMFHVnGtqwtL7QzSG19kfJcmm/fevdh+8Ht7fbG7Q/a+3futF0aXHt7O3S6GMVTx5Gxh2QnKyvJJznCJwlkXPr5O+3QMVcmFRsoy6UDn57qNEwly2lM1efpM3cpBDB+FFIz/zCYKsxOI/lEQDNshF95KK5FN7e2sdpRDgU5QVoU4WTI9GmSQc94GjO9m4qsRFc0kSVpsogqFdtq03nrBTqLMjiixB2v2jRzTPMgkGxkaBpW+erQotQ4Lw32Eo56nQppBwBPkMqUSifeQgA8hgylte86n96ulbA7Ze9AbavT3rBwmbdC6SufyldTIh6vOtd5e9SeDKM59B1DgUFx6Htp0V42YcRbgxxmEheJQ0P1Sn2WQPNWDjzzKO3CGjWHE14mbgP+zm+sY7TJC4swh4NW6Tcxwt/4/ivt1Rs321mM7Ll15t3gw9bvLvXrg+399vqdzfaQedL6TKL4ex44wDR2yFSDHRpJq4yKVPAA62EoADGIEunQvqMHoRH6ljNMinHXcGI8xDXvKIfyRD7OEWboW9nESeOolRFOYgFjUcPfZNTLYGVxlVtyVQ4YGcNtcETG4tZwG0/ehDqgUDRK+MyRJ37SCEKeo+EBsP+pWOERBJZEGcJyojFQ3RDqpOrZYWV4xBnbC6nh8bkMbe/13qMOfJ+4A+Cqp+2wL7ITF6c0xDlXjhZjjhhjZYcRXcVJXaDn/NzFs+3aU+fb01yvnD3TLlDGy8zzLyGTeRd9oct+wtXyU28J0DqzEBK9y1XjzWkDCeO7tbXZbt152K6/83773g/eaq/fuNVu79KAYEh4cY1hYcpn3salsnI4WlpTpeEFw50pGPirxgmLxmiQpAGCQz442GtHyMCh7oMjHLStEvhRX3SI8hcedXVdsSw9HfQCmayi1xvo1Hl69hc3Vtpl5ssvoM9n150vX8ucMpjaLnwfbx60W7fvtuvvv9dewcHc3ofneRoba6ttHX1bgvcsClUfkMni4hq8oTPq0dxSGpCWp00t5a8OlULURd2IXql/OTuM3CgT/0hXjay6upakRo26Y+u6OGxreO51e+hZ8p5kba5DXuL3vueh7piv8jQ88vQWfeExzVzilgh3wIp+QmNgnxPbqP1ANc4tz7VLawvt6XPrzNMvtcsXcNzPPN/+YvdM+89+90/bOw8f0LgkD3RlrF9IntKgcMyfe/kwXLkM+2DwqcdI0yNN96RjWgbC9BIwj9PSVqUlRloFL5l30NBYOAzpMD0yvkF2xJz/fu20DRIntBowC+fDzDH7VGmUlnQnk05G6ZHJFiM4kKo83k+P2ftp6LibEDQCPvJapM1mYUW0FR+OJhE8T7LuN7lMAgE3zWzczHNPPkE3IyChNHjO060wr2bPAy2O4mS+TpxB2ysaDzoDBVj4dEw6AsByavQdYrYljlYTqAmxHVHD+pVWgxhHSgVfxJD5WssiFXThiKEh7jOMhnM61IFgGEgcXDouZZPhI4aago1KG4cPCMTxI+4iyKu9C1+aWIWe82fOtqc3FtrFM2uZaztLL2GRns/i3e32rW99rX352Svt8pWLDPHh/MiTtR/ttQ/utbcevIdYaih1QSOh4MIZ9MPvKt9YtrFjHP4yPTN5kCRPU8ZBcdUB+2GKQ+LtbY0KaxnOYWgXXGAGfh75wWAzGrBLz2qO3tbOJrwpE86Spw0n5qnhW9ZFZ372gnQWWXiGHJWCPdXMiUpLxCNkJFgJCRsO26uH+SjvOuXYsyq9FdQGF78pM+t8yk0g4STGFNEB7zTmOhd9H44xQMgPh2HP01GDXRpC6TXHoVevS/3UOZuu7stBjZoSNMSFNmBd6EVTJ73nFyjLz1092567crZdOrPeVm0M9ukPe6fmmakFyu7A4UvkdhznpEw109RGHBQf2Mr1CAc4T49yY+NMO3P5crv2wtPtr7z8bHvn+lvtq9+63v7k+u12+z6G+tBeNBwfMOUjzxx16U6Ieh5nIdFERDcEUDdw1JEwvMQGARIplygpMRtwSr3Kzrprjxn/0Tag/erGanvxqQvtxWcut+eeu9LOXzrfVs+yKJHGyeLqRluiVzxPL3CZstsB9w4y337/g/bWN7/b/vzbb7Q/+6EOG30GZoW6t0LP0Tq+z0jG8f6DdrTniI+L2jxpTBlu4Uwcj2UhsSDn8J7k/dR+1LqKSlMwabTROYj9s4fP6Inpy7bIvfiR2cDYcdvI64GFqP9qQ+KDVBXvCU+vPzLlmauy1lFXJPaHR+vdInGOWtjwKTdBnVbe0oN8nda4cG6pXVzGUWM7NtqFtsQIzS//9F9v/xEjNn/3v/tf+7QI6MlX/sVU9HceyMdDnBKQ+n4aI0afcgy/FD7E1eVRoAQEP4EjPLfyXfSUREwnYIfPfWEIYL+dGiPAB74RRwahXcQeXsd9hUzTGAWwKMx/FlXR1RMk3vsBQcLcKknz8cTHCFKHAeMYicZzXXU4IokhCYKT8Y8+mdWjx+MhMlEkFWwRNk336POI6eFcchfBP459QHuNTFVWjjig7oziSAmrilI4YsRnSso4W9bC5h6wzOGQzp6KzmIolMmM0xDGwCQdoiNCo+0w26IVWEI4DNfR25N0DkixRdTRCuVdjai45UTzDNNzVHLpqcYEhswwnN0iYctYW+fIjw52QYchskfloizmx6/feCWLZa5cxkmfOcPQ+Eq7xVzTd9+82V5nmPMuC3w0vtKwiMFYoKemoqyzQO78KpX2zAq9ltV2kdWwG1ReeyTLOAWNqjS40tyh2y3mrO4/2G73H+63+zQCHh7MtV2goCpO2x72Ig4jRuaYRkv+kLMC5HDu2p6WPdCMShiuY8HoRvbQp7hsZBztL7U94lwDoDNXJ3T49t4c4gRBcGaFLIypc3HQBA9HnTLXgZgf0FlVnjt1R+HCIXF1LwR4hO24KwOeKe/SShwpPDqEaLnP06qx3HVOu8zfuaq7elOl/+MTlQnDsGY4vRsCy7BIoTxcie/IBnHrS8ftqQtr7Xmc9HNXLlA2DNsyF23D4YgeeYw7DsYclFkWQ6qDC+gJsvIvFUM+oFXBzaM70Vt/gUXC4X1+bbldXKHMrzzXrr78xfbiP/9W+80//kZ7++4Wg1LVOEoPUUHoGBCDslInpgcPhpkRso6D4KrE7OZZNyp3pSuvUuK95U4Dm+cN4C7C43OMGvzkF55v1158tl26+lQ7c+FCW153CJ6RMhpDKHnu5238yiu8nJGfF7/Ynnr5X2pf+uXr7Zf+/KvtK3/69fb1m+8zfLuKYz/XFp2/dw0H9euQqRnWt2WUas5eY6+LCiq8pfwlPhx4g+zljytZLeIR0xtTBgSqWaoY4irfySCX01SWV6kROoZ8RtlnlEkBcNDWUnQcxnv1QDOgKWl4msSLrMMbZh1LPeLBd/+zqJBw5btE3suEr4B3iV4mE3M0guYo66V2lbp++cwSI2/L7ZyNnwuX2/yz19ryi8+1X33q32jv3Nxuf/+3f6cdSL+89V/pl876L3kQVUdoz08PePwyQI3pqTuQ6aaxA4vsmn/+uQw5zMJ2BME4vZ+5m6KdCTz9VtCR9+MQxEgKF2E+HPYkhVMSBvZKTYOqAk4YmxkSejSZUQjkbEVCTZJ9XR8nc4TMxkeII6JfJ2GdulxKWzvEIPaRhB/yWMnBPOU40PVopac1ScVQORlOiDA19hrSkSQG2zjP/CHM/jyc+eyzw4hLGjkxOMTc02lwnAPMHuIJEwQayLvCMT+ppMBgzG3BZoidignYBE9WUNsDRxz2ZMWvbCsfjBg4LBezlwt5i/PmeQy/2jvDbrcVegR/8fpr7dmrV3Gwa+14ea398O6D9o3XftjevvWQHp69IPKB1EUaMuvY6Asby+3y2bV27Zmn2jOXcQbnMdbMTW5keLE7aWiStowskFa9OcIhHTA/v/3gXrt192F7k3nO6zdvtTube22LPHbl0f63jZSUDFxRwVVwe8FxsEBIuypvn9NNOPK+dJwJsqTwNDrVKyAR+OAg8lwFkZ+h3Jeh7jjkrJw1+dBBiQzNjCNlQS6jUVYboBhT8d5pNKREigyNsfaOgIRbcEbyY1ku6RzJ28bFikPLyPSYIV8EHZpjtcMeJSeN/NeVnLToPlveqfWGgVfcXNdw/M9cOtteeOpcu3KO8sA5zeEB9rfIw20s5xmxAOc8IyDL9I4dxpVqF3wpIyUlLjrd7ZhGg8PX8w4Hkue8Tgm98ijdApK4IxamOWVzBWf9N3/1anvx2bX29/6Xr7Rvvws/6I7TK5ZHcHQ9VTwhX2TElVMxn3LUi0RWo1Y5WZ5F1zy6kIYYYTa9limwDWh95vxG++KLT7eXXvp8u/T0lbZ+4XxbQReX6T0f580K3q5IA9AGCzz7yoGNG7Xaekp3fPkyizvP/Uz78udfaD/55Z9p3/i/vtJ+51+80t5mhGCZV7Fs8Dl94jvtvitW891qz+jpRpIWTspH1uQ5h8xy2DBaYrjNhlvKUN7VRZ8pKx3sgdWWAtAmOKLgngeRj2VvWaUul85Fdwmt1fk28krOR67zAF7fWJ0ocZhcWUfk9Wy+oNVUoBK2i3I63L1CXssgWCHyDHp7AfouufhwfYHX0xidYX3DEQvrDq++2DZe/KnWzl5oZzfOt1//O/9W++p3vtW+/s5N1uRUXZ34FAteMjiljdzzDFW5Tn4+/NHUAY0OIe8nHeINjADIJvnO5hU0HdfjsU9COw3vumvA4HFEnuCJLEKluiEspyU4PQjlcZJmlifz6IDB0e9R+ycdhX42tpTAku6hA+Ms0Ce4lyQVqdDxO/B+AhwfDjqDUGGYGccKBi6NbIKsvlFYaElvuTtOK5bwXtIb6uFx1KTJUCdKrS3L0KtGOALHyHjNffW2xzvSyZzwzJnqmEkcWCLMT4e+xKIv761MHqnzrhCikoXOjldFKTicsrQpR/nhtCFibymvv/HssGOGHqmAN6lQvPDDe8pUT6zge/fvt6+/er1d/+AOC2VoUYPHQdB16LhCxXz+yvl2jSHy8+d4l/TCWXpszEsyR6wTsnfoQhvP8KKhT4MDZ6hRwEhKo47pKRYPvbS91+5+cLt9/9XX26s/vNne22YBmV4COo7A5UKmcsrUM9VVhji9125ZemXEuNPA8aOL95oDw5dhch7mcIgafUcRXKTlq051WIGrEtdQtzirzByN0FFl3l0cwJXTxrhTIDH6hIcer5DhKXFeol+QbEoLRPJ9Hcmd62rhIq+w4BCds4XSokILBt8acOtX9UQsR/NDhkEL88KHzmrkrbMC8ApDkE9fPJNpjkMXapHe9Q062H3k7+kSqMU4bcoWpV/WkbmIzFYbhR3dwbkrwcNdfjgWjxzlID/ozmI/rq4dmKN849SBtge9whsNX/hrv9L+0/MX29//H/5R+6PXWBDG1pLztoAoF7+kpWxCu4hLSuHDpoJxNu4ccbChy20aiPOUnfTYiNBBOxjM2rh2ltGgawxzv/yF59oLzz/Xzl0+35aZI/e1KRPbmKkT3ODKt8JtCPqAjD2iTaksjnLQANg41y4wjPuvfO5L7ae+/JX2T3/3a+3bb9zKlMARw+Bz6o3w7pQHGtt05BJco+6WTgIGgM65Kq12A/zUFe2DOWekRYWxvDkdeToiLg0hINT9wqVsdNylq8HJfQ6ViuPwkJEZ9Y7wvOZHQ95pjfSuia/psu7ATYt+CasR6eYkDSopy1QZ9K1QJoxmt3PU7fPU6Qtr8+0sI2gbjJ6tbpylJ/10O/uln22Ll1+kvblM++egPXvtSvv1f+dfb3/xn/+3vKplWcsDF2XGv1ruo3dVIXyukAT3n9PCRrxSKK5HyJOvwSwBIYJLl1dSBMkMpsfJeCLiyI7YcX0M0Cz5ezKlM/ma2MdPkP+HOOoiRWMxOWC+nPUk5BPfPE6bVVb2jBlszuRpDhU1yWvgmJI2Qgo04BrACG6SLPlUT5YKRLQVierHX+Xrry17YcYh/2U0iNUx85xYAq2TCzgZ7CI5YXR6vDA6LgEz3Gjl0BARZkFrHEXqRRjzyApccDkHnDDjjCZuwd4jlcfKpmeQgjj7ICgYEwEamsyn6CJAGcQw+W71cfvOD15tq8xfOhh6995x+/PX3mlvvn83cKsYhxUEc4WFIy8+fbFde/pyu8xqYSuq74S7mYW9H1eJL8gTRlDa5jW48qwsbCDoyKHh2J6CV4bWfRf1DEOJ5xmiffrpS+1FevBf+971duPhLnOHzI/Dmw0MK5YrhjVCR8iieMKcYCF1h847x6FFOBGVdznk1sMh0pSBJY7I1ulN8jY5Q85qGifxytWeuYbKaQHllJEO6M8UBJB1SBOx0JQ/lEv9kj5ccAiw5x+jyWN6DsArcnu9FtuqjS+uezpox1FNJxbiTeA7xpmfFT6ZGg8OW2ZeSRInDU1u18m6KXjCeELrEY2QAzLb1ejTSz/EofoaYF67IvkaQ9x4QXiid6hhR3+Wfb2AtMohDZPuzNCQ+NUD0i9Qhvbej2xsUa6ldZY1jQ7DlQZxNgqeeflL7T/5D8+1B//lb7Tv3PigLbBI8JDelaPHkYd8Rmoywz+nGc05pQJu9QnyoMWGonXAvC1HFkWS1vnoNRbJPfvU5fbStWfas89camcZQZi31YCOpI4hOUo0PUXLmHXe0UnDLDd5UYeyntJCoQzy+VXjpOHcxXb1r/9a+/c+/3L79j/5/fZ/fv3V9hBdy5QU+RzQsJHufdCoC2ULtBx1hCd5jEzLjiCa2BMbDOmRCwyIpzgoLnRcfVAmA1PFIZ4KBzZ1SJ6oI8Kp28eUgw1bcfl6q6vlD8nb1/0MtFwcmYneptwpMR05Dt1BBUWAlPNq6jr8r5HWoW8bgBdo91yhN/0Mi/POsDhvARuwdOVcW3jpl9oiDZpGXaaUcPg0qFbPt5/98i+0L7z4e+371GnzlkancdSS2UMd9hhlMhv3YfeWZw5EZFqVSr3yUGzmJJ8RBjbs5DFLg4l6QoFIPJ5MDRJ/P/SQt8i0Q40UhXlgO4litmyNGWkGVHTTwCT351EIy+qjjsfTfFSKTxRPsX4i+E8P7NB3OcT0lHWu8KiwLHRXg1sxLMIh4FRrw3Qc/FlRuMT4Dsfvt3E1hs4PCyfuITrhh+M0fS+RGKn0AImvYUminGOmsTBa59Lgn8PecdLSKQ7/pYMj9BBAtvzW0L69OHu9Frotd/O/+c7bbXNns63Ti9ikEn/n5tvtzdvvgsDFZ3PMP6+3Z3GkzzLX+RTDi+fcccp3ZDHaroi1d+awZM6+F7fmUflZ6c09vEozxOSdVHjRIGa0AjiHM+d4Ne3z9MyXGK78zg+ut7fvsTnCHqaVSuY74A7bHtIA2MfoZAgfWaZywruLlrJAjXv+oQjDowzMGxplWXCvGnx8dPKmK4locWbgTOkaT3nZw7S8lc/YVMWy0yjGrSMn7zWAWTBFnq5MdpvLLJCDgjhtiMliuZRHlY20rdIzWQb3ESua86oRvU3LL0Og9oLsxYcPxaejtmGgsa0jBkhGOSxbGyGrOA4bmgesA9iFD8EPaGys6u0OcMgYfxtSlg1j2DRQcHQ0slJKeCpGcnMoB6lxeZS0zSFz/nP4Pq+yJ6qeocH8RUkRcAftynb+Ab3O8wyH/nT7j/+DX2t/97/+B+2193G4ro+ADmEyXUFCdSM6Cw/KwOkAywfxEG5jj/oHjKsdvOcXXulJM1f69KUL7Rkc9UVGeZZt9Kob0OT0zLy0W1qUFSXX6YVOGh6Rtfjt3JtnxovgJA5SZoUwf50qqZ/7QvvS33m6XX7hj9rv/dGftbfu3G9bewjYBjyjBS7CclW+iWzoqzuxF/BROdj40TEbXvHirnqc7CIHoW1gZZU89+qudcRjLBpT9KlP4JJG9TCEgrAccDkoX+3jfQIIsqetrikPEYE/zhF4h8d91Y8szMW5aY0/qGn0sUAUuDXyP8/QxQVWeZ/bQG95j3z1LG9fXMBJv/gzbfVnv9QWLp3LwjqavdCitOdZkHqp/ZWf/7n2g9euIwJoCh9Q3/OOsIYiFWVSV4dMjmPcQ7y34WFycxLLSOJ1JMuN+ZtWoXvN7wy+hFSKSboO8yNdzABEIz8fIOGTH4PQJ6T8SEddbFfqqPQMwmrFPAHzxwzu8jwdWoZn8jsdaIQK+OHAxjovvdYdj5WAuhSltTfME7qHETDcitav1KcyWhSCOAzXqMYhW8GAdacxXyfSmCWaH4eyda5pSZoPZyqjSDhWdMjCcbV0M09HXL0DKlCnw7sUvkaIcP7HyIZQGebustI4yIthOpyMEOC091m89Mb1V3ldZTE92Nffe6+9dvM9UjO8RQv6Mr3mZ1hcdvXiuSwWO8Ow3wrpNUwafBsK9pxdiOKiGm24zjk9IK5KLyRyFaep/NWoK5AjEjiQaZjDqK6wvfYy9Nm5e/VNevUPeB0Mp6Fxo/fk6uOdPXdUc8iWVr29N/5crOScs71Th7Mzp024xlpDmxXC5BknzLONMhsZbtea+WLkLAxBDEuyqtXX4aBvkbcALD8dcgyitJO3u7nl1Slss45aDXBOcJ+hX3vUviO8LxynPZoUTigtY+17qDa+0shSZ5Chw5L2kvWg9rprdX8l1WEVDi7ECavZVU9tTNr7NLHvGe/tEMP1EEOroz6Ex0P0cJEVzA4ZL1F4i3hC07q4L40llFCMx3qulEYZ9iN0AI1JKc7p+S1naLXMNfCW+SHOW/2KUZIOjuNjGgDzbPuJDF+89lL79/+1X21/73/+J+19pjWcQlEiVgPLPT0HJchDhrrBZ5kotjgq4tSpLGAE3kbzOcrkMiNAV5h2OUOj0Xd6dRK0P+Ks51mxPc+DcpujMXTM5KujT7UwrqyXrh/KIYaGGnrUqZIg5ED+/I2DpltbYF72+V/5t9uvX7vWfvf/+MftB2/caPOMgFMUzIGTe8oADbd+ccZOQGvsAPzYiDEP45SV/OZqOgVCOXrY0LNhZP5V9y0Lwslg2FZxLqW1Caz64B9A1oPgIq1vsPhu86Gv+qGP6mfyiNrxQ2spUysE22hDhMgQ+XI6DcL4B69jzbWz2IlL2MZzOOp1NrBZZvHg4rnzbYHGy8rLv9COz1+BM3gmY4e90/AE1zq248UXnqOO0Uh0BTt1wSN6EtkW4wmtqE57wMJT8VKRXTwJqpJBQiNdBVRCfwNMZOKVziMAM+mMRQJAAOO/PfMppo99V3x1cBGY5SBa7J3YIq3ngB5UmfpMQXBM8BAUNI+QHiB+jPtIRz2AvUYMY8xhNuKzupczGPpUxwSF7HlM8Xnnwq9lFBK9JqYqWhwblcbhLHu4klCVTnVGmQnwWQkkjnivtUtP+i0Yed7xxehbgczHihejxn1WwlK5nNNNg6Dj91l6bPVaaBov8doT1KjqeDzFl0KmAgzxj7ncGG+8XRW9dJVRzzy1eDg1GG+9/Q5IqGZU6k3mSb/z+g9xdlRQ5v3O47yfYrHIBV51sXW9hGPxHVU3DTHvLG4ibyt45rvFQ0zxIsQ4uJcBDy62rDMERwVWflYQq4atecbD2zGrSJ9m9aiO42D/jXbjzg5znPRcMBZHlhMGSocsL/m8Kbjl2zm5HeJ4gwvDRGroUTA6FXvsjmpo5DVwixBto8DNX9bg9Qwr1H3mEVkoc8ogZWVZ4/BwSnuulDcvnZO9EJTlWHqBSP7YPrdo3aWs91jJfsCcLkE4bMPhpZ/ZyxxW7YGnvIi3EeCrbyIj+9I30qZ8dRzJRTEqI82K8rJql+7FtJD88JiGCsb1iMYKneh2oAOh9364uA/f6je0W5Y0emwIuMpbI169zogLjKyoB7evaGX4PuUFXdBp18uNK4iOTGPZ1T/1EXnF2JF/ypvLPGPCc8j25//GL7R/984H7Tf/8M/7e/hKteqQyHQYPut7rCOueFby6kemUOSVcjRsFaCzOIHzOGrajXEQY7WyjR8dhfxXI1BnROOAhW7xfvAv7dZpGyU29NRapwqcmiE4dCjn8AKsAaaBQTI7bBe+8MX2b/5tepP/22+160wRPUQX3DUtb4yQzoZ4NQ7BgCy8zyI0sFh8NcUCX6AbDXT5j8NF8Mc09mIvggs4ZEA0+o2MISS0Eec3BGzIyFHKCyDLMg0+yBXfETwdL7m5DPKwJ82ZRh4ySUch+SGvRZSH9O7GqPG3Ib6BMM6iP+eoF+fR9fM46TPr1JWzvLZ56WpbeP6nmJd+DumtoWgSRnrka6NdVfHVyCtXruKwN9r23j1C+hFhSjMnfETHjSKckAHVhT59PPVOpRlJlO2pQMrslIgediKq0zZwWq8G+oFBWc8eE/oNDLKBsXichR33A0XqrYEGxJGPtD53dMafcgj5EY5arCMrMZSyePdpjxNMd2RVYSq/CHyGl9n8JsHDaz3K6SzJHTj5iZT/DElxb0WzNazDmTgdDThhGu/Ryo1BJSyOHHlQn1IxY1wI9xp4KqvvrZqXYVa0XDXj4FOUBGGkzFcnUuncmjGwwlMh00o3rtNXxoTkFHAMPjjAlkOZ2XtM2ROSHjV02IvU4VuJHjx82O6yaOz4eF3m2vffeLPd3zrAqCywW5lbStKbxLjX8KcO2dOWJ2HS3E8QwAIPnQ8JmJQj/GTeLl0E+BAsYfJtHDyDcby2YQ/IXdNWecXr2eefZetBtpA8eKexYBlHvYQToreKwYbE5OcIgaf56QjtKWrst7bZ2aomDqET48FpL01HpXHXWa9ifOzZrtNDOLuxxpWNUSjUUfZVjqxCZ3csFcTGDWjS5QBbwgxH7HHc7pTmDmLLGK2aT6fHCk2bvIh+fLSbhocNA08dY3roykMjrZMGVlw21MyGQGTlTR1QoC1MgwRWcNTwlT8bIvKoscdmapBJkl3kGAnQMB/M76Vns0rjCwkhR96zhg7n5w9xPjp9KEgDwBEBy8RarQxsUFDs6Ajc2qNmwRKpfJR9dN6yLIOm7DS+XnVsriQ/hOgVpk9+6W/9y+3t9++0P/7eG2m82DCzF+Y/aEHh0Lx1Bd5Iv+y9dFgnyCrwKJ27Ya0Sl52zDC8y4B/aRAe9Rzg7d3ZzKj5yJYO8G6zjQvbCZZSbPL13xzuFZlPDlXHWLYKjuwZJpE7XMqFL2Taufa79yq/97fYHv/mP2uts+LI75yt/yAtkOuaMXFnO8sK1bIbx0EiYchVvrkFvbhzQlukUykydNp36YP42FkkiUf6SGNlwSpch8uVaBHcSDPEB4paW4v6+8+nKBV2BhawGp1DTo+7hrmXQUatX7IuYV7HOUE/OMcXAlgrYBBw1HyOZv3Sptc99oS0hg7mzfXykkx8lii6gQ+zvu+IWqy7q60fohDhAOLx2XgbBk+eK78lyGZCzYUGTCO8GEeN25tm4CZxl+wi2gBZ8afJsLlPYATFiJ3ZuEuANUMXgCE1ZDiyFo6ImYJZpHmZjJ8mfePMRjvqJ6T59xFDCxzCVMiZYXgbXj8E9GvAxALu0rDRZSJYrlQ0DocHQ0XiMCmfliTG3riXenpj5UOm52Puud6jtAWtQrEyFw6x0uKOAE04FS++Q8DhmM8N4+6UeD3HodDNkBozPnsrAXP0+bLLnqeaeyuCYpnIFJmnAJe06X+Ju3b2dHtMCq3I+uL/d3nrvVnYic+50BYfmUCI1m6FEiPaEzlImajqMWMnzTLAiinETBJqsCDmN808HqEGXd4hVrt5nMR2VE7NEIuUHr9B4xMKjlXMX2rMvvEBjYqt9wGtceNe8l7kH3LLDuhgVeYycSGcvZInhQR21csFUY6B0KMBBIB0DnKSriTntTYNvxZNGSUY+GP1IL1pDG/rtmbEvO44mO7gpT2jzaz/cTPizrNyD2k0v5lywtcT8L/JyM4xjVrXrUITOkGLvtWenrRhKRIuBdCtUZR3dUhYeMpFDWSJNZR7Hgr708oyko7+WB4ZauECTkPSghAfmn5G1RtyZZ7XKZ98lt1F6EEcCONmqL25zKzkuyprX0+H01LcjhpJtSpCCHMDLSYHxSlFJW+fuSInKqLOOJjhEFcDWLl18tv3KL/5yu8PmOa/fvS95OdUjfYtIM7/LrWXoim6nWSiu9PAc+tYRum7CuEXkB1c0UsiAf8tfJ+c3yy0Tt589PKaRZTq1ALoc/laGma8FRv1VXupo6bMsFRxk8EBG5C+M1+znaxr4uvC5F9sv/crfbA/+8e+0ezR4d/GA9pYtw3LW0EGaNJKVMbiCW/zSYqQ4+2Gc9KRhFYGY1jpSDj+7oUHGsB1EUD7Ecc1B+Q/HWz3ygnVtgyBL9MjVEWUjO9WjRhbogWs0jngnbAEZZmEijSxfxzpDPTtD485thpfZYnbu7Ll2dOWZtvTs823h4sXYkSCTAOWSnrXSIg9+fbuh8gmF/UemIUDmvTzx6HAd9IlgT4wwfR2Rbb9/NEvIhpJHQ0fKk9dB+QgV76Q8RuATrh8vhyckJuMakgeLiDprT3TUVuaPlO8T8vo4wVPRTqGj0o9GzBArTT4O4qcpx52JAzECTr3WkLW9TioaBaBx1/hUReGesPS6Se2qTwspYRgODZ72wmy8X8KYpwdses9Ovw7JHmocFfl4VL62wnlW2QnTOOW9USsjiQNPmHhGK9q8pSHKYiLvnSgTBjqq4UENVRPFCa5ss8l85eYuO3xhwLEoGPCj9srNm+ypjQOEBD/Y4BB3hrYPcTPZIAU4cB8wnrpEZXbRTfUIB73gBpd51hGCckt1LdqQC8yGiWMbF93hJRpDMeYFbSJAQJtjq8eztN6fY5W5Q3q79MDZHwXe+lCg5USjw81aZNqh70VYsj+KSQLFHPPupqjhUntoGvi6Ynig1dEDnbVO28YSIgRVyctbhxdXF5hvpWxjXNGJwm4swXEOVVnToIvscGXOC25v4yzon2IcrVB+lrNeZ8JRgtCFT9liEW+aoWcyV1diSKEhZUu6UGNPg3KURyc0slq460qtDkfKljNlqLzt0UfXvCfpIfqqIYbrrHXYoxwW6AXWaAd8MjyqN4zcyFOHqK+Y17jbALFccdhHOPFDds5TD+OMk6e0QjnlUTuYlU5Kr7RX+VOmSyvt+Z9+qf2r791oD//ZN1iMxVoD8tFv+DESxa4zk4dMUZCSYmF1t40DybNOOvdKOUbOJrSXiKydcrCooUvlV0YuPnS4O/jVO5XbkiCgNswhP2WCHiaH8AIKlUBdQGY85NTZRL46Q8vGRgL0PPWln2kvv/FG+8af/Vk1gAHPSJy6CZ1poMKTdTujRwqO3GrIu+MnpEsJ2pCHIxzUO7OWn9gc0sXJKlNO10nELlmHAhgkYT97JCAT66d2wAaWI03yHT6svykbcMiPcYQpE3USd81iPUbV4OEMDRJHMJboVc+x7ezh00+3xaefb/PnLyMHahrpzF7RWdhqXewR9Jr/NnXAnfbCSIAAzj/lA7wNG5OeesxGeE+6j32cBjvCBt7QMzCiS5NDwAE8CZzcRD/6k3J89HkCOHNTMJbdTOAnvYWkR521diXHk8kdEKddH6XmR8Myi3kW40djm4WexXL6vTZQo2bhqNA6NExqnOOiBk2nbMUVAq30LCfMMwpZjpRIFNsjLWoqp5XRNHHmveALh1BUEnH5xzVOlSsPyddn8U561dCgSqfSYgCCu6cTm+jFg0nNY2qN8dKkMhGqI3UBlnB+eMPXcpYwnvfo9d28zRwS4faW5F1DBLJU3vpyEautndvE4BzsuyqXE8OeCk+FlA9pql4DFd8czZQwJQsIeIGCL4THiYopV2jC5sYIJU/SSK2bjzhSsMwGKleuXmE3s512l2FwbW/2mtbAgNfRgZKRhgHnTPoxX0nfNgvznM9exZm7dabzww7nu+raBWN+zCPzh+YLz7JtuRxBp/JiBRu5yIrMSBt/5k2PWd4tj3qPWoeIPAGzF+vHJHxfWEMECI4HfuSdUxy6TDG64vy4v5qVMk+gnHXx+QykIVZyU0WEOoECIwIH6ogHAco5VHIzekw67QyDI09pcWjZXqfz68psDkc8f0RjR+eDzOo1NmQJsIuK1HGHkiMP8slKdTexkCdKVb0RRsIss5Tr4A8dM1MvHkuseXjp515uP3Xjh+17P3w/+jrHfL4apDyl3YauDtkGVxw2+cSVgsMw95+XB5H69S0XRC7sarLAEpnA+4pO3s/HMkzPeUg9Pj6AR+5r9TEwOiwdFPqR0kBXxekGLtaRDOlzlT/H5o9ppHiYtafULCztt5/4+S+169dfaw/5vrIorD82yOztZtEe/Hif0gPAtOkJd9l1ZNErR1rSQDJ/4Mw6ZQBj0qQjV//4LyJUBjP15Ihu6Z3JX2VQc45pXB/i+O3dwgRl2RvZwGf6hAZkdlfTSZPGMJe/urJeJ73uFBhrAuxBt4uX2tyZizQ62YJVHaOx5WLKEAo+606mPki/g5N+h53dNtnd8BAdlbYUT346tSlz7/vR48A4AzsSFI8DVF5OHqbqx8ztCCqEPI1042pQpF2Qj2LtlEzRzKQzsPR2Eh3007DHsc1APop6GnXqXcc1qfhq4Dg+LJ8B89h1NtFpEnsswUzAbFqDLXh/p8fs8wzNU4BZ4EnpnAicwnpHlg5T+oUojZEVQoWr10Rw1BgGW9dWscRROdKa7aTqnHRScbYaK9P2q7kabu9cg5Vdpahl9nKsT7a6NUwkkdMyUjgSSzuvdlnBiVTFbQCEjl4pQwNxOoshIewRlZjKhkGyqlclJ548nevS+Nznc3M7dD/sLVrhb916kK8YxcBoEMRGuIZeQ3iIITxgb+MsTGJR0iF0uCGDi1RsiSM87BgnPQENoo5Thzktm+IdQtEsqJJfTojkpAKbF3zEEMkP5ZAFZyLg9akzGIjz7JLm+97OoXGTHiNkZg90V2krI51VzXk75SC/JCfuIdudeV11YR9GKZuxgFdHLa15V116bTFwtTxCv4rRK2UZcsvBTLnSYrAyujbAs3QDueDs9pHtMSuNM19JIftVrzT0KDfl7QkKcHuSJ0cN+UI/uJSD8eOUKEGVsfQpRp1pITCcNIQhFKFC16At9KvbZOprVjsMBc/xQYxjGluZy8VJNzYo0Thb/kfQmx44OR4iB1d2Kw9XTdtzTRmR17wNDBbLiT+8SIB0q/fqhjRLDoeyKcOlI2WPaHay+9IXr7U7t3n9jm1pZSivCAWXdcC6h6OF14xqgdrXs1zv5PC3bQHrpxmUs0UfWFXssL8i8LW46MoSNLpd6LL6if7yzpo9SIdneaMq4kPbgkfBuhMYcxA5jwWwgo5yQCcjchnynnT2rCG2XaCX+RM/+VL7wde/mXIwmY46DfY4bBRReqEh8lMmKTAlwxG5cQdtFofV2e/E9yiyMJ3JuTKSVbJUJ/pJeBofplPo6ok0MhqiPijfhQx7QwfxGeZGJ0BAmSML7qNaXL13Lt/RC5Yg0pNmpImdChsLPI8Z9j7mYz4MYdG4gVDsgpovqjQ85AMbY94LNDjeZyrta9/6Hus2bPxIK0f/kcy6N7CORI1AHkoCI3Z6BX1PUCmmMTN3Ag04gktmI550JwgAcIIUmKT7ENyDRvEG5RR2Ouc+k9e4zXWWqJH+BMBHPEzzkk6k/SEHsCrOTJIPAf54UYN8inQmQYVmbg6qzPNJh1GR/WMwjwU8hsL2vMO6O1RgvwntnKw9aVf+OuQcw4Hxwb2g8yq/ul9XM9XAxVkTVr0znqltVkaNeOa2U0mlEYX19RgqpcprYyB88SNOFT5fkjIuTkzDRV6cVnyBy0HbMOCZoyq/joN786X1qoMufDpsqjSgy7zSsrnJt4Qf3g+eRb78Y5oHzK857OtmBEuktfBt/6a+YzkOeeXiYAFnTf4ZQrUyKg8q7LxdXLuQOSk9uwMuD9YOyKOGEXyYh/xBWehNg0M8HHE08lWUmpQ7/0gFXfaqz7B944NNPjTv6lWIBm3S6fgX692k9Bp11OnFKjJosyF0SG9RZ+yHBJznq3npctD2ePTz9uBShsCnd6ghRf51RILQ0+niRv+qrhqWXj7y2GNI+IiTLgzyxGno3JQBcj3Q8EK3r2xJ/5AXKNATzZ247AFVHupPyrrrjXjsGWuo0yikcJSQRxyGspIoztlhWgLyZ5xOgAJCvy0itdZH8HAu6xhxTuo7WcShWR7qkNMLDs07suIQLiSTDXXGoVKQ2hvTQ5p9Sk3ZeQpIeRsxj0y0heqqX9Z6hle2rr3ybtt/92bmwxecvlAuJLK3nNEknqRhzKtnHYc6Cmph0piCjmPnWFmP4HvGNkjklUscSJBDG7WFBggSxmksOMxugw+9qFEHP1+CXObWIRvkCzhr5nVNpS6UEyRNkSdTkAld4GMIAX7YrvXzX2jvvsYiub0t8CA3dHvSsBYndVVOolumBa80WsaZfhCGZ8vFL4vpTG1IqQaealuu6gN/JIw84yiloz+LQ3z2zK3zIrXhEC1QPuBdcIc5ZGTdzCJEdQDZe+/Wsjpqr8vz1G92IDvCOR9TBxf5CIuf4YV4tgVF1/dcmIi9lJ946+JBnraYWvtn33ilfePb35Wk0FE31odJSGJ+HD+Vwyxm61cdnzr3yLtwxTfNPhMsewnial7yOxpolepT/MKEfBQPH+WozacTMxJ8iqw/JCnY/YdrTaWiHsI+LdGIO0mTTyPmtFSGqTxH7SHDlcdzbLiBEdQo2LuuIW6Ul4qGGlJZqvLGCQIj5sRxnwrK1Qrq/Sgc56stuKzs5d5el6uL5UcDUhWbq/iojRrDDHGbFwkN5ydxcmOcyqACeC9MKh1x3sfYcJUOPwNpxbcBsUPlunXvbgy+OEcv1u8BOyTsa1mhW7rMCPzDIB/w6b99etMHe/amGUok/f78LkYTwy0NbDsZ/tLLikRDi3QrpKxIxrDbS3PTDQ2/dCqb/b5HZSqwSi0fnHFb3kD7CkOm7oK2pIHBpmuMfX8X4dNgQDYO//IIKZzIBSPl6UKp+Xk+yIAsXPGso9ZpLzGklwYYCewxFt/mC+/KUxryU/LNHCxhyjkH+aT0oENiD5Ctn6t0XYFDp1KP/cqpR9EBasvkkZjIyneelYtxXqWbJFzhSfyc2b2Kq7tN6cht1IRHcMSZFzXEuX+YBreMbmRpTtKbPCUJmfGoj8LMFn6e7VzuIUfs7iRMOjzk23UNNqwKF3UDL3moN9dJO5rCiWUHsQuSkCt41K0gA4cSC/8JI5gGwTle77nC2oN3791iZTxOwQYAdFqItVAOmcGVvmbsE64DiTMBdXqCXHUSzq3awTtSaKRHE6K/krjgyEfKjDjQLzgKxH8cUyq0tCYTRg34Djth7n1ACyR0q9upf4CkcLiUPTKRB2UH/AZrKS5ePN/u3+bdQMsPnXVUy8JK4xFdT11GBlLovU0BcQEd3NE3ymGRkQ8XJ/qRFhtw2fIUwtRLECatCdQIT/9gqXB4ESeyiC3g3lTlmKnfNqS7TiiX1MM46tIbp5XUYZatMOoAXThqdsXBYVOHfMWNKZAD3mLYndtGl5jqYYEZLV+EBl3hERvK9e3bW+23fveP28P77G4IXBqnyB+OVcf/B45k9mPJZ5S8yKMLswyljJQ3kRH8Z01C5T5Q22BVqqcfEsN/0VfqImzRiPJ0Yk9PbNKezSTNFLLips8daQVMBFL5D6hUtPHAdYBVLv5KW1TZuzxPYKAVFSMNH4+ncmzyKsMGRsPFYks4gPSySDGGqK20VhgdpIYkq5ZVUsKsaManNx3jH8yEVbjK7Dwopjlwxpp7GgPE8RA8NhDSE+PZvHQyGgyPcsyV0uFjGxS+tiGM2GJYMRIaAV+LWGabTjbbhbfd9i6bmWRVbAyUBoCvVjFkaOXxgx3ZdYpKZTTZ5swPfNl7OsARHWBI9qnAu2xCIskOJWu4bcGnF0AN1xVZMeN8uE+rnV5Mumr2Eigw5a+jsqOZuVznc2Nu1CfyJl6Z+uAI3gJOeo2ha798FVOMHDP8S1nFIAqHDTKtikuHiHsg49jKAylX56RDs84TSIJSPnn/ExlE3oykhH4wpFyBE5fkKKPSHQiE3uJVfilV6ISs4FUnlaMVyXtQp3NHEAdp5W/ImhD3wY42kIlFXQa6dImI5JlFTMKSb76SxTW6QSbSpC5kZy29sZSFUPXesoiJTL7ZMY1Oo35tF1AHJOKokYVh+10Oatn+HPt07yBjwi2HY3RLHUtDk7ll9SJddXqhLpwK8QhijlV78qHcHGWRIuVRXywjT3a3OsuHXM7SW9sDR5xhHCplxtW06mRkgeOKg8ahODSr4Xc9g05GhtQY580dteYmsJaDC9QWoGueV5Pm0ZtlT5yOn5K1UbEsrgP2OGBMfYF5WB1Mes80JDIMLs2UR21ZC/UQYznGoRLnod1QHxdZ67HBYqvdrbvRx+x/DnDKHhzl3KuuWyJ1GG+pc8god8rL9qevAh5ltIoGg+UYREBEJpa3Og2PwPsfmpKP9+CwlSq9lIlxbrGrHarREfQVHXGdRWTJCJ9pHGWIHnJNJ4XGrO+WuyWs+eddczozThHauDraX80iz7nDlawBmZ9jJ7TDrfZgf6X99lffbd//i7dSJ8kt+lk8k6cES7yX+vHGkBm4HpDAkSIJQqvwiuXk8WiAiafHo7EnYk6CTqNOuUt5nBJeDEgrfyFuXKV15D6uICDP2WwfHzY/LZNpmGlds/GRh4AFNoCnIR+Z+McEMCiZou8UeoE8K8JJ8RQPVhHnbe9s7vLloQtUNiqfDhvt1mBl+Brlr/kioen5UjE0lFa8OFue46hzpUUtPBXF1Y/Ge2hU0iuvByoSQ2dxsileSINISLQHTKLCS1rn0NM4sJUePogTBthlNq8Qv+9J+gWjXHFIGgEdyDY7gLz1DrsoUXHNS1Kk2/tduiLOXS8xn+fhqkLMVM4FGjehVZJQNIcWXZi1TK/aUQQXqPghCd/J1kDaoxbGxSoO/Y755KyQxX3Zgvcvr4NAhL3bDJVrMMGfVr8KzanMq6SQtLA0OHyFahFesMHEE0t4FqMhJ/mUr3h+6cU6OToBtxj0wuV71PV6VpXLmK6IyM1W2shbozXiYux6mSh3Dy/aTd9zVy62Ad3Uxq1NbY+oK1jZDMMaby9NuuLMwaWxFUTdcPtVkeWPuOgMjSEdhPSnsWJ+yE6jC5sJj4ygQaftBjA67n1pgWN71nGNAIe+Qbfx5AWXGFhl7DMNVK4rwPiOue+XH9CbVP4m83RFdbabdQ4XOmxg+fENv0SVhVhLzFWiS9aDCMa06it6lYVZYdEfThAqziUc4zkWJl04x7a1LDoyH5nLlV9yogwGjXCFXjkcm+EA4XhWd8bCKBu2IIh+isrV8W5Ko547X7x4UHXFuMjQIXC2p51jjnxuWdpodNjgIf6IKSFlz5h60odg5GpdtczUiU4oMKZVFRmxoRHgtIpTQjpqS0N8SZ8kNqYrecrFEjBcgXBYX1UVkc+rszwfutAurzgVjHpRU144T4JCJkjUW0/z0zELN8kXID/+4jqAbG6j/lFl06hTGKQr5y7FyJ2KZL2J7MQDvrzh4Zw0fJrE+m666B92c4e9CFwlwPxP+4df/Xb7b37jf8xuZOQIGAjqnws3/noxt1y9r8P8Tx6GDCCv0zSPw05TVoqRbhr+5Lsp7KN4pzEj9eMhFdNThrknwQwcp11N82jup8FNw6wnP/KRgjk1tYbn1IhJ4Ij+UdicIDn1BsxPkIPKo1k6RMn8RvLeZYZaATcsDlhHYSVFSVXozEOj/C50sZJp1NIjIF+vcdZUVBUdja4w4OpVBGBNJ6y/VDIrlsOLUeLU1HI8ceBJh4PJK0jQBH7zzGIx8OQVDMPIy9d/HGZbtncgnTiP23fvsdfuK+wotE4aGh8aLmivVafgAYcroHfpeThfbs+FBjZXDBm0lV0q/tK7oIK6h7Dz9/aujnkfap/e+uF+vYO8SLxG1Y35M+RnWViz7THjvBx7zbaOOHMXAMUxWS7JswybxssjBkejAF32dKQ1zg0jVj0W4PV4yAOqgcHwstuUMqLEyArayFt04nRxDM0ijBANCQ0vGYQ/6QVDmSeurFeY9z0uumXiUQ/GPLp0Zk6Yq+GaXsvZUQ0bGjbuDt34Qv1AX1ycNUZHIJuyRx/UCWiyEWh6Dz9jGN2RDsqA5NBGDlx5THnJg45JcXrYQDBPdxjzU5mm00H73WgdlZyP3kzlQh7ES7dX3/V2T2mm/dOjdjX/Pq/SLDrMSpyOMTvISQ952ahQZo4EHGu0gwea7HGjD9Fn4wX2tT7rjMOi6ptpTCHt8GPP2l61eulX1IqPYAhA1SsbfEiK8nAxlHo1x9RK3kHHgSEw3quvXbcsq3LWjAjQQ7cRpS9ZpLe8RO/TkZQMnevcmT91aHmJxY86LvWqsVjS76vqHNsiC+6Y6lGr0pCEM7cjnY/D1IkDawERbgFJq7zZIPAtCteHAJQzjTTulZUjTtwknVMJZiUWG1kJ5mE48MJrY84RDKGA4+r6kzrI01sSqheWKZD9mUDpk07Tcg91TE+5BoHGNPU3FNEoMz9lnykT4NJoV3ActMUY1ocXaM2UDg00V3nX/DnlzyjG3OFSTS9tr7WdpbPtK6+/2f6L3/hN5MvQeN63J29IKAaDNj/qkYEfpxcZ2UyT/uW9iyyrnCTyND94WtiUIQX1yY5P5aifnJUiV2n8Pf34tIVyik70jMA8yXRy0+OmynSf1v3dra12iQ3lfX8zr2thzXXO2VZSZ014ethUwLRwOzrNn69DGacz1onqrLIAh0KMgekEmi5/XOPkxZmKJZ24h6w6LcSjIupcrXQ6t8iQNPZms7KbCqXxs5ft/tLSu8xqzXdfe42W/lo5cY0DcGIFNFfzXmOeaQenuYhxFrHvUMdYU4G1BQ7fZjjfRBwqmwZuD2OdFdMYNRcauYLa8PkF+nTSiYGdo/GAQHp+5aQw02DpFps75RCGRD5zkE1V8h6mzHSsvveZng33LrAyuUPcugK9u3+uA9B425u3Z6YMISkGqrbOxLFYluAeowZpyDgPh0y0VWmYkWcMJfmETo0XyOKskXMWKNno0DkMOslI7jKcjqPWKMYwQofab+lJlyuZ55leiYNR0ByyU8P15A98DuJCaRw/uM0LQMN0/ikknnUtB+LkPIBGnTa+jd+IhTTkLpzCQMekJT1PkLjn97bCNQ1rEfbRk2O/iobO+E3qIxpy27xPr/4sMiSqQVddnQrI+9n76CEBonaFtd+6JoZGHA4OvajGKZSYhTLldhknfoZFSkd7O1VXgI8zMl65dfZtHNNdw1GLHLw2+CxTnLWjExr9fMqTaPlTngc00qxvB/ZI7eGKk/BlHTTPx0zR+LohwQyLs9aCxpUbgiBAt6KLfCiZ9KIFygpqHSr4s12qYei1/KBl6FuNSPlOv85Vh69DVx42MtUH8cQpUi+iH5G28UaapTfIzgfz8RmasmUvIjBv+aVakqOlJ7hWx3SEdDxuduKrlz6mftjwhFftRGwHCY8O+DYdADYodfHiUN465DhtkLlEL/ai8zlnQ4Md9hAYNNDspeGCEKkDh21z9bD9bqNZtAAAJnRJREFUwbdfaf/Vf/8P29YxIyRHK4zM0CzujZPQKr2PHcZ0wmfjDBoMzYb///cnJPBkR43wlF/MVpfvELOVAV2qeG9OOSoeJTQueAqulO2UBAXZI0o5K/9p8VrpB75CWzin2KQwmRVx04h+B0+9tuzQ2vyA7yNfQ6nXqWgaKvXU3pHvwsYxWQFhREMf56Gyg16np9rnSoXSccXImzdGIq8uKDkfMTgOVY0ee953hhork5UrjrxXkBBpIk57xEpPR2yFzWYNbMhhz9b9kS2XJb6msb/x+fZw/XL7iV883978F79HpbJ3iMEAd1rzwEIoeMAFnb5bfECF81jAINmbsuep0QiPGPHsLSwN8J3FQfQis+e1Gxos00pPpbUlrgxwI/RYrNy+J3zIIp4FePa05+vuR/M02V11rGzsDXrIpqUZY0R4NIUw32HV+RqtfG04ZBU0ASV3YMKjEqgGgT0MKMGQxLLl3p54RhQon/RYyUHHWCMNyg/6yBwOwzfEBUuaRukOSiRQ0K0jiOHGVBtmWTr8rT56hFavMJUT7PIWeSZSWtEZ72nQjUODbfHU0KPx6lvh8ya7jPV8LB+xZNET92qgmJzedMFfbUcJncqdtDH2xI11AsGK7jtdsqODgic8cXYxI7GYM11wzIJEP/vpfusUNg2w+M6YeBtmB3vbQTU3x8IjiFJqlDr56WhsvNmbgzJo0PFaVuJeYILcb62XLOWm96K5k9aUg+VhHbOB0nVGvTAP9YcmdPLZo+6CiNCSt+mzCpwwh31ZApUV4q4SdwFYWwEvZWrD75DNX1wgt8zKZssvQ71HvCvsO2HUexggvEac0gPmObKk8Bw12bGxQb7L7Kink9Y5p+5Ttmif3DAkgc4iU8DgCxjp41RgZScAizIAHT4o9ypgHF9FJc8SUwUoF/ISKZhyiCuNGspVXfdbYb7RYb02vWUReqhPlUZ6lRpYGLHQPlhnrOfSI/2OzNgotYHnB3fmaICJ0wbRu0eb7bd++2vtT7/9Zi0MZbWnpePbBdobD9N7VA+6M2VU6tSgXADiOi0SF5AkFNab6SEv48jdI/Ejrq4nI2fTnoTjST5njpNPMxGn3A6KLIPo0CkwTw4y9cAglHIax6NxUmUT60c9JlxNbk5gOj30JHknEnwmD4P5J+XeM6GGOhd8496D9uzm/XaeVZwOkdYOVtyh9DrI9HxJYmHbW3ZY3CPOlQIqR23l0KEyVIZya0Dr0Fj6qgzGQoWIXlZFFVawDH3GUlfFynB3KqSViT/u3T7T3rMd1o31ubbd6JlAy/bq2bZ1/lmM/CpbAK62nbPX2tILL7edt9/AKIVICa3Wu3mRj4urltwi0B4FYRpSF/GGDpJgxwIfA4Ai1fxtGQGYCT95DxZj6B7HeVUD/vAoGEYzFcaNVCgHHo9x4FhdLL3GUTzKaJpHSku8wvdDWduh0qmSAHjpKPrTE9GpdzrzzWUEaxpNkW0BbErSOuxub9wzw7jEQwL8AQTOcnMYLvA53O0nDIlIWQ1qQDs5lEmVd7ichHsTnsTd87BIs4ob3Db6bChULNcJ0pJr9hwngToVArsGyZM4bFSZenIIh4CUp2caUjg1e5f6Bv1vNS7AiY4nX/iwgSoeZeChcck8JgkgNw3VLRWA8FWmVAJG/tnz3U9rka+NWelUfbTtNdpAaacHjNEnLT4uvVh1x3J1vl655D12etb1ZScLqpyYchVOR22g708zqZzRBHlxE48QLY/qHXjJJQ1HZSlXFlPhQdV08sgiis3Ve15UYHWzDgmZM/9uD9s6pSx0KI4M+N636w0SiDU4yjMA1LUs+NL54fh3tjZThPP0qDN8rqTAL02hhPthH+KriVYu0QHyibJAbw5ggyN8WIYw3A+oCt4Mv1vmkVOC8qOeww3kqbfmL8u6TQ4aSlkMqS5Z5wiiaUk6RkqgM2suaIEd0diS9z3rGuHqW3axC2aqNaE2gB4yTfjOg4ftf//W99s3v/c2ehMm43ulIwLhogw+8WF6j14v1IXSVO8Skd+/7D/Rv87Dj4PWH9lRp3ygSB2qw5vJwwj8y3lFA1Sw+w8325u3HrYXL19p53GeGfrVsGo4Yzytp1oelbiMos646g3PgbMio1px4gOG6tALbdG5NoxPenLgstIqJXvUdUcaXxgFqat0LXD/HJ41bNE5VHo+cysb7RY154PNg/Y2c+yLV9fa1fVFvnqDMV9Z5dOdR+3c5342izwOb71HUoC1ROCoBVfHOPpVRvtYUoRHi2JpE6HTXhlcwQ9XeSGNztueanaOguc4Em0HaZOeCpzKld4v+ODLSVBQkB6DQNbxiVQ3ReMw4qQHUq48ulGmxSpJAlDs9eFRG0V+BlBrEFrlo/9Ji2bdTIyDWP/T6gQFxsl5VngDIe6DOCUKDLC5hzdS8WyTwnzJI3fkID5Z8w+4KkehEwgckDoTiR2n+ILbEPIBxuHu4DBcoZhSNEnvtUZxbDgknLghe6UBSgOAEhs4AhREcYz6RnvSGVPA0OoAj23R4GycR3dhUnlNM4UWyivrEXi0l4dS8m/zBinhUZzS2GMXO3XBBVymWuRjCw7dMxlPepKoB5JFZOiCyPlF3jYgb51M9uImfVx06CUPdMLpAnnQOWZoOfilx1zIL5fiNPWOBmW+ioVjPMJpH/M9aOVkfXMDmjTQiMsqc1tnQWKuujcbt8WrrRZXPTtH7/TWMT1xSODKkP8ye7Ojk5ErynM8x7vEaA21H36LKLUsvSUX1UHr9ubDtsMmQmSEEJ064aqO9LoQSnR6PMuT+4Sb3ukAA0avMzoLnaLhwrXSiM9Go2WfuoOgo59EKCLlbs/cP+U5FAdueUKfTG+8MlEXtDG0nIw7duGcwyM6bGjZ4a0Xp73SgAsqdSljI3wVjkVj6NDD3cN28+FB++6ND9o3v/tau429PMZJW9dt3qWhJh0cqSd1m+eP9yOvJoLh/E+v4U9BfOLj46cZNnpkUeUynj7eVRyz6R59LizyOcU3Cz8N/fA7ak4X1ASupD0r85k8JlA/lpsTmc4+nMxtlp6PBzVNP9JaBaxg77z3sL16ebNdfo4PNuAQXRGrYi/Qol5gfsueQBahBAUVW+PJWQvIqA8439CA0S/nTvUmLHPXWLfaXtI05Eh+1J0cGnTnkZR/DLTxGIjgBSi7eqm9wNynN/HmjTvtT77zSvsB2zGef+pq+8KXfppay8Kuq3z/hl7XrhsyQP+Zp19kw5AHGMcHMWxpWJCjRmmDL0dt7Wyzc1Pv5YPf4a0sJpMnaNFZxzFQaTXa9q3sSWklnDuPYdMYqHkaJC7yr5lUGzPvBSP2xDJPhwyyZSdA7rilumlYPIwXj8bFeUWN/R4rS+05Z0OaGd0Ee+A0huapIAFLL1ICUp7AK1fT5x1ungwXzeT0mb+iQHrCcGix/DzgrvDlWmnLyGp0FQU/gRPWm+JrxInGyii2yIUb70dZSExoIEHCuMaYJyHGU/QlTlwFtHAvPv880gtEdWwb2bA4Yr41DShlaTyOjsHZwBWeKi8Xc9nr0tH1xNFJh2ntibq/u/eOLDulYe9Vda1eJ3lQNiQnDUYejhx5IssMoaYHCmzm9QGK/SWbQxoA+zhGwKhLDl1LC45XRJwZHjcyvJFAWdALdGMUt1094s2DOd7jdw48I+ow6JxxGik2SJhuKeMozeXQxKYcbPjyz0laeHee1cVjR3g0X+Ny1z3rtjqi5GhSk5D82HI1B+TojOxA7tDAvXfrVtu9v5mydAoiPApoefNnYzH8WXF4thTSuOBJuYKO4CpFNaz+fSZ3C5n/TM1FqH242jDTTeDRNWWYUHEYOyDUI0cVqoHivLM0Sr9tj+OFFV6rWuRTlCwU00k7WA4uaXNEZp8G2dbudrtFD/rGrc32xo0b7fatD1ij4hfhLCtsAtfMxYM3tEqahM8ckl9Hv0mFHWH9mjDpFkZ+PEbCKpHpcyLrxyQfdgwUE5iTCaa0FYDgESHX0+IGmhNYksfICLkQablLr5SfdpxID8Ds8+D+tHRDBi78PXFoUE4ej0IMooCazS0EPg47cKFCjyYYUSeupcYgfgS3IpgEzUjUHE+2UAgBcFBSaRCfafKQFLn10Vbyt155o11cfan9/HNP8W1W5mCZe1lh84y5hV2oxmnYDM9RDlpDHQeNYbAiesifRleHGEeNETDPIxZjxMiSpgqzKm1KF1hfsbGn4bBenLlE0bv3NZh9eirXb95rX/3uq+1r3/12++DBPQwLzpYdx45YOOLeu0fzn29XDs+1jRV7ULjAc5fb+ud+oj185zVqqPR35wqdyyt8JYdvxm4eb4XmNLqh3Dmt9Jw1ktCpc8kpn3IGTXlFTTmARwk61+mKb4dX3WbSPaWzkEg5h29MA5NXZXh62Ws1wRd3Api9DcHzA659GhEuoHLHNk0CoEYmWqpidc2df+fsy/T5yx/RNgSSU/gAhvTVxiBevjj5D28iNV0OA2M4dOxKzKpjPtXDSIYa8bL6AdUom9p1eRox87WXO1a52mTIsL29NWF1CMQXDSXTPCNP45QdxRCnJwUm0kFm/pB8p7QabgMQpMqIL3gd8667awgiSyHFyV+cAziyMYv4mJ7Qh+hoHR53NCXyknbkn94j9/bId9gX3pJSZ5d4rSnDxpSNJYjqZe7XHnxKit6oPBwTccyrTrY4fVYebrN6EEctXQ43g9Pev422yBSZSCN4iVFQyAFdyvvZ5MsbDfmSGY1LaTGPQ3rT2d6Wq5kknDgx6HjKkRElOhQA1cxcrKu5D1ilPs9UjTSlvikp5KlMQJQGgtLz31MJ7aLfD+7db1v3H2TONvlAp/qlPMxZeafsyTROkHhRGBNNg4YClEtSwLN/lnHqQyBVgOInsiFeHoJ/wPVnw8QbXAxSW46l2cSwCIzCpC55WWQB3kq7Q9C77KH/Q/ZYeOfdG8HpF9PEsMfaExcZ7u7us2/3Do15N5YRMxxIj1CRL3L0vjtZaZCKqGLuZ39IVQLogSceElY4yafjTmDACrPZP3o8GnQircDISZlPjpnbyqbjDkCV4QQWXp50GDNQ1X2nu9MekZDev0IzoHu6Aujop3EVcDLfx3gC4fBAnYyTCTrWvySXEs+PRkznKygUUuFSqA7T3mPXpH/+CrsOnV1vX77Iaxf0To/oTa+50robUvNNLwMHoSG0NxyjS23VCSwwVxRnYBwOLUOoZCWMR+bveqEyU0wFR8GJ8wtPGgmHh934QdzH5HuHVu2ffP+19odf/3Z7+513gGa1NsaNdy7a1oM77cabr2Zxi6vVjz93rR2fP8vrVw5/QcfZZ9uavZHbN9ohC4eq5Yv5p4W9xs5D4zOBrjZ2sE9DCTfwxJUab6XXiUu7pz1tX59ZpgGRkYLOTxytfFBT8043MinpTpU4SgffhmtArdW+1+mtfDvKkNY8Q95+gccwDWgIAbcpS8e9Ih9Oex9ZlAddlqRVwXzqQ/bEQauOwt5Sekw8F5SQoSRpElgI4LliglDaDIe2LH7LPY8OKdKzQ4C6yBgoSQ2N/JqLFFEixFu+xsADMBpeHTAk58wiPGWLoKXV04g4JfmKrEwnLckk8TqDeq+785QCI0escpw3tCqvjFZAnMP7wWLGOD+3Ac3mJVzTCCMWwaXszcz35T3U1/AjLu6NQ/PDlw76iNdyEA6Q8iu9njhf9dcWB3lLzzZzuk63ZEgWGiSjGhLJBlhRi0F5Wt7KTQm6GNA2K2UIniUWgWWIGcd86OdFddac6q75hF+uAMl8TuWQdQ3Kk4avK6T9ytkyr6cd0oAgOuBZCEmdi36SVnaNlJZ9uqNbOq879+jdsyOd9Hd+Kx/5kHpP01R5hlGfpcUwdTLxIgazNPGsp5f/5CZu+Mn6DIiPloUWVq7znGFs8CxBoGkOmKuDFYaxGdImnQtJ3djoPrz5bXUbW5s7++3BzhE7w+3kG+G379ximkObQO58u9x8Tetf8QAtIcwQJVBXIrmnXIrNSucvsJapR5IJr+BPOSKKE+GW2+mwJ8A+yYO0BGcRNcU/CB/X4vaToP4wWCV18pg+e3dSJNO4pJmSdBLFzNP/hxz1DNWf4HZWJMpjKFYKcGgY4e+9/177/W+utN2f/sn2tz5XPUxXVzv0HTsFrK+qWB46gnwzFseUZ4ylw86qtC14h23jmMlQ561KqPQ6ttFr0UKo9PYYNPysbovm+JGAb7x5q/3B1/68ffP1VxnG3gSHxpYDA+iimGMWhWw/vNtuXH+d3gJOH5qOXniuXWJ7ww1W1s4zxNXOPsW8Nk75/q12fO82vSdb3czVQdvG3EZaztIU44tQdMDlqLtjhm4bKfLqNcOg8Is5KwOvgzE+vEFa6IIQcCnzUaG9VwISWcN7GJlhCAnzYyB7bFW4x5Cb9+lxgTflFLqSmmeuOgJkEKUXgCNDkNJAODmQByaM9DoKr/JlY8PyTkMq1IBLdIaRKqMgIV3nRXgiqxERQgirVe06aaYNcIpx4EB6JbRjxbnxbE81/EOGK2YHDp166BrXTqPaMaFX2pOEH+HgSd48Spc0bj4oeW7onWaDFPLRWbkC189VZoFXxFDGNavFwePcJ6u94KN4FUvlU454yMmss9EIjs31BW5tngYSvef0qFL+Dq3iMICVKFdq+8aANDk1oa7v46R1/jpMV1MDCB+RMGnlXBnarEEE/EaXbQ7AT973x8G6GkytSz1xJAB68jEMnGvyNW/1y8QKJ6ds6VrEy0FeKo71E+jUz6p3Dv+qk4yedDzKz816DpkK2KVu7tITPRojDCBLedBgsOEmLg9l4536pxNVjo4oGGhMoCJqf6TICMIDk5Is+kht3D5y3mONAFLM65SHDIXsI0MbG1t8fObm+/fajQ/egz5W4tNj3mL+2KSy/mBnq+2yYdA2I1SbOOxtnLffJLdRIF3ir2w0/z5XutzkRxo86loQFdKDkAE0w3P0ZwbOsJHFgK0A0xt3AltH+lleBm+Dh9n8KJsR/Flm+Rgu+ZxmZOn6Nz2mcYZ9HJEsVm9roFD4VXkSIs8ncZZiDfBPcS3CzevkMcvQiJswjRLUMa4+Dage9YkvVUk0vu+9/Vb7/e2j9sLP/Wr7qzoeKy+9Y/fkXdYI4qio0gz7oaDouI7bueQMdROgYar9kumf6mwm5ClX6gk4solAaBSGKo2A59kt7BCn+r2377Q//vp32zdee51KeBNjUgbNocSYMWDj7JiTPj7k+68PDtu716HDMS72C9ZOtUtn2xlW7c4vr9Pa5srGDL7f2h7cphfBhwQwfKsYUyXvAiJ7CFlEFz7sgWISwWMP2gVdzk/rIMZ8m1/b0aFLuwvidDA8gBc47uVT4+1puEZJsqygceaWofPXGI0DGifOX+65CxkGR1mYRl9ii9/eUjkn04vY0oYS4NLLA72rhfMpSmLKbCAz6PAsOk0jHq6e4AY518on1otyc0gjpEXHjBcbBt1aJO0QbJiEj55XXe152kSostIJOT+uY7RhRYrw7n3RZVb9XmokKldZL7kmSHzwrDtNvkLFwHPjYVIv0ObiLxSLZ2njVketEzFOUyotnMKKLcm5T1n2Z3kUzPS6EUcikixdSJ0g+HDaznsyQYwjI09eFdTxJUGIhl9XaesMKWPnvfdwFjp8yyz0Ve6kA448Sz6dJuKcu44xJ049OKBc4IA7pqR8iwDedKw65TlfWYjSg0VEwnlrWvmpkM4hkoA5HfycUzjyoTyFh7fswsbUAM0S0ko7i+DYGGUXubr4LNhJL1U6YO1kJkbUSxrSzoPHSQWC+khwSCOhuh4wBCqZnvIm/5ZJPg0psA0E2h7bi+vtrQ/4lCajaPKyxxSW+/TfY9+HDxh+f+/+brv7YJv9xm9lx7hVFpNuMYWnzD3sWVt+y8hOOWSURD5ThzoFPlvYXTohKqkrXtDE+TiN9CE6kisw2jlBayQF6SBLp1zEbYlLf05gvJ44eCwNOBH62MOwASPiESyhLuQOAK/ydgLwxEMgi5zZlI/CzMbNoutUV0Wd8BV8PdtRZ6ckncQ1DY+UZx9Pkt1jbFJxDCRck1ERHAHN0F6FVyk+m1+Rj7y5neTVb7ogRoSKNgn6bAhIplKgWnnevXOz/YP/6Z+27//VX2x/4wsX2ktsmbdBa9SWsoXv17bilDA0w0FnDttwSsowDyuzeDWu4tVqzLnrkU6WfukSO/3ML6zzjejD9pVXb7bvvvLV9srrP2zvfvA+233WblAZEg02cYnNCo5scqtx3mk7995vN60cpHHnsKOfeL61q1fbmeU1HDI7kbHH8f76JSqvdNxt5+j/rezvsLUjc+DQcsjQnpvwZwMHHIzU54SfRVfCSze8x4FrvKVEx6yN06li8Hzndo6eOjd0psoxpKFiOmGkF9loNLRelu6hTpp5R/cVd340jhUDHwNsJScvRa7zSgWQaco//CsHYNx+0e8iu0exODWc0q4R9bWnMSJQc6BCyIvX0qMyMcDTS868KLTqkEvEBS9WA6QlPUGHe+VBZ+FQeIBTwikWxBL52NoRVRp2CSPP9EIRk40a+Kuj8pHm5AO+NN5UGPJKcIecGizp5+QvsGn4qA8aauSVD6cUjSkxYCs38lKYypXLcNTmrCzkT7g6+7PeWserw+YqQeZtWbqeQJ4so4Qj/TLGrLVnpfYWjsVGGODJk9+krQDuixSD6wCnO7rpb9JDpjFwgJxq1y6AaQQsMCQg7TprlBo4y6DQS1eVdUolP2YdfilbyfQnToWri6yqcQQoDW03kXEk7BAn7cYmwazNAc5izkhBnCH50jB2xy6kGFqzYJK0lmM5cV26iUgqDokAYdAkTLKknxDyOqauvUdd/c6b99trb3y/vffuO+yaiL2gfh3A8ME2PWNkuU+9UXecvthl5Xb24z7aBo6P8TDMnZqgXtL63kGv3RQpeZi/MpMC5CwdqoLPkFflYlRiSp4Tx6rcHjmif/Cq7dPmeeqk/eqdWNKwSwYiJd+Jvk8RJfvp48e6ezSNtEuy4SfJJES+YnyIT+TjUJVyZG38pzmU3mk4zPwx6iYZnYyZBJ+46Y7aMMFPy+QE/BMerNoqwY/3+DgMhYLSwCIGZTr9IDwKO+K5ZvHTcXvvzevtD27fb9/66tX2xZ+81n71r73UXjrPxyJQRI0b2snpnHQNC6u0Gp84aW412+plpJk43QfxhPje4+LiGu8l7rU/+LOvtT/806/TQn6/PdxmuIrFHB6p7MESEqtktBb/d3tn11zHUYThiRw51ocVy1YSCmNIiitSDgV/gR/MDVxzARSkgIAusCOXIf4gtgErlu0jS3LOkc3zvL2jo2Ofig2FKS600p7dnenu6e6Z6Z6ZnZ2RYL8Kp5wMgz95/IB7nC7vr2NgmAz3wQYNjKXl9vYZhiZ5R/XsNBsJ0NB3B6v1t8+05cke38tO2u5oD9Z9H0hPA+diL9R35elRIacydkOcMhJDB6yGj8qZHgrD9zrq+kQNwXW4Oj1wx4NuLB32PVGPfo6GBUN2nHHSwEB2OKK9pBnnRZxR6Q2g/xhjaJt3GsJMwlIx/CMlkBhKZYF3l1pNvHaCfCMm8SEY3CFJeZSpzqG0wnDxYrQVUOPjmZQ05ClnOlNoix4oY6uR8Fwjy+Qq8ylLisK3IzBxrhLNKZ73w4Vrjw9dRO2jXilnBRbccq7ojrIoA64gFfaAUUX59A5vJGs6sKTHvXySQxk5QVNJ2jRlITkUfi3boJAxlmvz2fy2ceYWqMQoqJtPmRAUvUEX6NElel2UZMK73Xy2J20NOTw4E9uj8lGe8mh25rTiyG/Wj+fGWd3PcDq+WsruUj4Li7xy3F9BiB9S5jM3lqcMhSsrNC2vpqndduxBdXgcmnGIY1lNzvKjY/P0/b6NF5vW6u8wQ/QCEAZ+ll0NEcOQ3xEUE7D8yQB7gkO95AJHjv01rMoO9ZE1EG48au2P12+3L+/ebiP2Y9/f3c8GJighsohnxqa+w6f54V7ra8s0tpkrMKbeM/4Fn3ylQllwt7kxTnpMwy2vXsCHQg6vkT38VJj8yCT/R8fxezUbCurq2KE+wwsb6dgotpHj0Z10rglCL7MEj1F5w7eD4JYJuZ/lo2vlDfDwkrxT3SU/k/Trp/9fctRvQNB5JF9frnnYc8Oq2lSULfXMRqXCTVgM5R6fOW1v32pXr11ply9/3H7y40/aJxeW2xmdIgUwK3c5ZEopcBayx1tYrmfs76rTs6fnxJjGDPIFljMcUXm2/vZl+/RPv2lX/vw563M/pJWMw7KSUxU0nylOyeSq1CldEjafI/80w003BgLjsL/7qP3zLmlTmaTj+d7GRlth2dDFxbW2sMIe1SxI1bjf5vOM1dV15GAWK7IuMpHrFI0U5enLp5YT1knbWrY3grGMkUBWKqWT5wKD0bBHrpPOMKhMype9XOB02AbFsGGk/ZTIVn62TKRiawDipBUFudPYoV1jb1UDGRlhOzYgeoYucOaV/cejxjr4IPPDoaHEUcu7RrqMYhIwkeIPMNmMEbdhId4xHddQd1gncQwzPZg4afCrh1II0ojl04hhAdWT8upwzPoMR4JvmIvmRGfwRReVe3VT8LJV9+VQlFv8OFDpJXq48Z5THYgjTb/ZdfEbHY6TBZ1clln59EDLvsoPNE0Pae3NOXIMZmgZXmlBB5DoDnj1Y2peqix3uI4pue6CqBco0YlMExqd9nrTyLMMcIjhdAw5CB/hhQf5EoCyKC2rQTaSSCnWQdKZtr5Zxyzfyi0455BzMifRhEvMOPMwsKRvCtkdinDLQ3fUuaJInbflyd2nLDtfo7en9A5PUZcZQM679sXFJRJk1Mh5AeYf+Zhvln2BnxEHyx/6H2i5bacF1+U6HSawBz+hXjjUfYhDvcM3yr/9/Dpr9N9i0t0uQ+001FFQVuaz/kCnNzYiEM8KNKY3P2Y4/Anymi++pvKTLJeTdfa2DdhqbKgTWOIgJLde69lA7wvA8MQkLCCJi0qhm9ghLhhEaAdyDvfq39dhzqr3sJ5WCgMTCf3f/gwlq2Qbfv9dDrpKoovXRC4td+DZp+i8FNMBXnll/foiMt0eUpxqASXmGHdWeLPMeA8LhEeB9FaTxjXBMz+VZQVfEdMCMgXsap2GzL97IYGXyU7RupYHzsWcgtfTETUrNqIp46FdBSrXGMdy//6k/erXv2ufbV5rFz+81H74g8vtRx9dapfWl9vGKquGuZ4u6Zxm8YcFJoE4Y+cAg+OKPzvsL7h142b7w+Zmu/rX2217Z4eZmRgy3snKSHRloh4zikNjpO+h0y3NlEGUQy2NOtXgBQ56T6ns9+/exYhQwUF1sYcPLlzIZhyum7zIamYazz1kOrW0Qg0/S0XjM6cnXzFfR4NSlc+uVB/q1AmkR9UrZUYEMLmwYC/JHqLfo0onVgM4yKA/+BImXNLw0QCThotP6Ehk0LiUO+A8rPR+wuORlcWGvDO/NHr9nZp4UrYBYZh9a7xA5LaBUHzIE/GB1GADwxNsgdl544401Jc+M+//gcqmCtBURs1lvscFv+qI12i+ruA7+qBB7U5DPEcDHHZzQqJNDnmqVyTqWIG5atzzX3yGs+gAXPAtFdGJQGLEM3OVdv5K16ZnCVmgl3WKdbttNDlicUhDkz4X8E44tOwAJ3D+HUKWSh65qoPqrZlWvvEnTFZjI7jx9Y95Wp9lFf/GpSFk9uKJ9sYuilF5W2lZocAD31GR0pV5Ycoc0QUwXIFI1tkoyzrbXMMf+NqavPs0o4OGY40+GHoFAdbFTlo6L/O9epN17Xq0IREhJKIs/LEMCrCcbN04Zjj79v2D9rNfftZ22GP5exfPtW9vcJ5fa493HrZH9HbdQnOFOSVPvCcPP7r4Lb1lG+2P6ltxyuABQ//L7AS3vkbDnka7zUq3Fd3n/f72aNI2t7bales32whn/ZwesWU4DYvIYGNUJagzceVTnXkjx/45uoNsmJEqD0pPWQNcSG21AkpHvUq2SkDRM8i8lJ73uRZK4YHQowtAGAGQBJxqhBXPKVuEVQ/aKzxQz1PlgO8cB/kbfrqsSdnEj3gYEp6DG7A54T3ItKUnnL+Wo+kx3BNpXFThz3BYVeqosIzqCWl4gvhRF3k0YDhD4wi5SMz89rwcYGZAfZgJCGZZxRki/+FDGP8m3BcBXmamBJ0X3uka9yKdWbFeju24dTX+xRQqM6VMJgwErAgW/IKmlTvZb7sPD9rW5t/btc3ft58y4WNpeb2tnTvX3j1/gVW/VmOINRJf8077/e8T92C7/fwXnzKM5bKDUnchBVOrymNSydPONNdUnsg4BMJspD4CrPBeiFJMDEqtcInDUfvHnTsMfdFztWdFT/C99XWGxMroSuw8S6ZamSZ+hrb6HYz7u+3UU77RHu8xgIbD1vHSMtZY21r32d52DC/XWEXktIeWSWPoKcPUcZyEyxx4dnI0G1Zav81NCceYZwUrZdQ4l7UQMEdwuaOtDuagA646tzK8hPFvEoFF4XmzPoD6zi5DlvAs/f4OU/wMR2rJwOCp0stz0YqB51nDJm1Zy8xe9Ch03iuHpqQLXyJlYIqBzpe4um6XonXHLPVkmo46lBPkeUjDa9bHhjaBxRcXNF48E2J6iSK87sVHdpK1RGVom3TG8Op8gkU+w3OSocZzgR6gjmyKx/0gYy/v6kcnmsaPZVVlBArZyXMf0/hQj/JiwvBiHiu/6ThpyXkSOvzgh+cwbGqEqSz5kFjpS74z/2OIL11UzSvDGHWkLGROQKFJBjypUpChGwwTUCDLKPdKkEhhSU+c+D+pmT7/ysF6fTQ2T7cr+8/ZX/mLdvDV/Xb2nXF7xLvfG7fGbefBQbt5+l57n083aYO3q3/5oq2snmvnV8/Gyd5j9vUSr5km2IjHzBDfZZTsgM0/RnyP7BcYS0ur2TjHrxqeMCN7tLvH+2Rnw9vjplEjYxECvqMXeVNZ/QhAfwiIkuuVLasGCKFd8TdyE53nIU6AwHYqyQzBZ2n3aK9HMR3GuiKezyRlftsAkrI2wjLgsrQ2dKNv4YA/Lslx+q+6D54/R4y8CuM14ufQ6/xVPZ6lYZin5XLeYfgUT0YrL+bBvhzWBZtP+zj8W5e++2GHPh5+cn+igRMNnGjgRAMnGjjRwP+BBv4FNnPikVX7RxEAAAAASUVORK5CYII=)"
      ],
      "metadata": {
        "id": "H6Dn5D_8T2F4"
      }
    },
    {
      "cell_type": "markdown",
      "source": [
        "### Project Overview\n",
        "\n",
        "In our fast-paced world, having a personal assistant can make life significantly easier. While some are fortunate enough to have one, most of us rely on virtual assistants like Alexa, Siri, Google Assistant, and now, My Assistant.\n",
        "\n",
        "My Assistant is a fine-tuned DistilBERT model optimized for multiclass text classification. Trained on the [Bhuvaneshwari/intent_classification Hugging Face dataset](https://huggingface.co/datasets/Bhuvaneshwari/intent_classification) from Hugging Face, it accurately predicts customer intents across a range of categories, including:\n",
        "- Add To Playlist\n",
        "- Affirmation\n",
        "- Book Meeting\n",
        "- Book Restaurant\n",
        "- Cancellation\n",
        "- Excitment\n",
        "- Get Weather\n",
        "- Greetings\n",
        "- Play Music\n",
        "- Rate Book\n",
        "- Search Creative Work\n",
        "- Search Screening Event\n",
        "\n",
        "The DistilBERT model was selected for its efficiency and speed. As a compact variant of the widely recognized BERT model, DistilBERT maintains the same maximum sequence length capability but offers enhanced performance by being faster and more resource-efficient.\n",
        "\n",
        "### Key Objectives\n",
        "\n",
        "**Develop and Train Neural Network Model**: Fine-tune a BERT transformer model using TensorFlow.\n",
        "- **Handle Multi-Label Classification**: Implement techniques for multi-label classification to predict various intents.\n",
        "- **Leverage a Diverse Dataset**: Utilize the [Bhuvaneshwari/intent_classification Hugging Face dataset](https://huggingface.co/datasets/Bhuvaneshwari/intent_classification) from Huggin Face to ensure a broad and representative range of comments.\n",
        "\n",
        "### Project Details\n",
        "\n",
        "1. **Dataset**: The [Bhuvaneshwari/intent_classification Hugging Face dataset](https://huggingface.co/datasets/Bhuvaneshwari/intent_classification)from Hugging Face offers a comprehensive collection of comments, categorized into 12 labels mentioned above.\n",
        "   \n",
        "2. **Task**: Develop a model to classify comments into multiple categories.\n",
        "\n",
        "3. **Approach**:\n",
        "  - **EDA**: Familiarize myself with the data and address any imbalances that may be present.\n",
        "  - **Preprocess Data**: Tokenize the comments to convert them into features that the model can work with.\n",
        "  - **Prepare Data and Model**: Set up training arguments, download DistilBERT, and configure a trainer.\n",
        "  - **Model Training**: Train and optimize the neural network model for multi-class classification.\n",
        "  - **Evaluation**: Assess the model's performance using appropriate multi-class metrics, including precision, recall, and accuracy.\n"
      ],
      "metadata": {
        "id": "IKhD_lqlOgps"
      }
    },
    {
      "cell_type": "markdown",
      "source": [
        "# Import"
      ],
      "metadata": {
        "id": "IhUQR-ooRSYU"
      }
    },
    {
      "cell_type": "code",
      "source": [
        "!pip3 -qqq install pyarrow\n",
        "!pip3 -qqq install datasets\n",
        "!pip3 -qqq install tqdm\n",
        "!pip3 -qqq install -U tensorflow==2.10"
      ],
      "metadata": {
        "id": "fDBPIj7FSLxE"
      },
      "execution_count": 1,
      "outputs": []
    },
    {
      "cell_type": "code",
      "execution_count": 2,
      "metadata": {
        "id": "ykf9sMpLO1G5"
      },
      "outputs": [],
      "source": [
        "import tensorflow as tf\n",
        "import pandas as pd\n",
        "import json\n",
        "import gc\n",
        "\n",
        "from sklearn.model_selection import train_test_split\n",
        "\n",
        "import re\n",
        "import nltk\n",
        "from sklearn.utils import resample\n",
        "from nltk.corpus import stopwords\n",
        "from datasets import load_dataset\n",
        "import seaborn as sns\n",
        "import matplotlib.pyplot as plt\n",
        "from plotly.offline import iplot\n",
        "\n",
        "from tqdm import tqdm\n"
      ]
    },
    {
      "cell_type": "code",
      "source": [
        "nltk.download('stopwords')\n",
        "stop_words = stopwords.words('english')"
      ],
      "metadata": {
        "colab": {
          "base_uri": "https://localhost:8080/"
        },
        "id": "8ZyXzSW3QKVa",
        "outputId": "cf5dfce8-8e84-4c60-9bbb-c04abc579754"
      },
      "execution_count": 3,
      "outputs": [
        {
          "output_type": "stream",
          "name": "stderr",
          "text": [
            "[nltk_data] Downloading package stopwords to /root/nltk_data...\n",
            "[nltk_data]   Package stopwords is already up-to-date!\n"
          ]
        }
      ]
    },
    {
      "cell_type": "code",
      "source": [
        "MODEL_NAME = 'distilbert-base-uncased'"
      ],
      "metadata": {
        "id": "YKHGKJG85FpR"
      },
      "execution_count": 4,
      "outputs": []
    },
    {
      "cell_type": "markdown",
      "source": [
        "# Load Data"
      ],
      "metadata": {
        "id": "qAql1QkFRliJ"
      }
    },
    {
      "cell_type": "code",
      "source": [
        "ds = load_dataset('Bhuvaneshwari/intent_classification', split='train')\n",
        "ds"
      ],
      "metadata": {
        "colab": {
          "base_uri": "https://localhost:8080/"
        },
        "id": "z-26wUheRkqb",
        "outputId": "60810be3-2a36-4d06-c0a6-719191342ba4"
      },
      "execution_count": 5,
      "outputs": [
        {
          "output_type": "stream",
          "name": "stderr",
          "text": [
            "/usr/local/lib/python3.10/dist-packages/huggingface_hub/utils/_token.py:89: UserWarning:\n",
            "\n",
            "\n",
            "The secret `HF_TOKEN` does not exist in your Colab secrets.\n",
            "To authenticate with the Hugging Face Hub, create a token in your settings tab (https://huggingface.co/settings/tokens), set it as secret in your Google Colab and restart your session.\n",
            "You will be able to reuse this secret in all of your notebooks.\n",
            "Please note that authentication is recommended but still optional to access public models or datasets.\n",
            "\n",
            "Repo card metadata block was not found. Setting CardData to empty.\n",
            "WARNING:huggingface_hub.repocard:Repo card metadata block was not found. Setting CardData to empty.\n"
          ]
        },
        {
          "output_type": "execute_result",
          "data": {
            "text/plain": [
              "Dataset({\n",
              "    features: ['text', 'intent'],\n",
              "    num_rows: 13808\n",
              "})"
            ]
          },
          "metadata": {},
          "execution_count": 5
        }
      ]
    },
    {
      "cell_type": "code",
      "source": [
        "df = ds.to_pandas()\n",
        "df.head()"
      ],
      "metadata": {
        "colab": {
          "base_uri": "https://localhost:8080/",
          "height": 206
        },
        "id": "vBJN2CXTR_ma",
        "outputId": "b2f5b429-68c1-4489-d302-484ac9ad9a39"
      },
      "execution_count": 6,
      "outputs": [
        {
          "output_type": "execute_result",
          "data": {
            "text/plain": [
              "                                                text         intent\n",
              "0   listen to westbam alumb allergic on google music      PlayMusic\n",
              "1         add step to me to the 50 clásicos playlist  AddToPlaylist\n",
              "2  i give this current textbook a rating value of...       RateBook\n",
              "3               play the song little robin redbreast      PlayMusic\n",
              "4  please add iris dement to my playlist this is ...  AddToPlaylist"
            ],
            "text/html": [
              "\n",
              "  <div id=\"df-20b9b995-d171-45d1-bdb8-658ae4c822d0\" class=\"colab-df-container\">\n",
              "    <div>\n",
              "<style scoped>\n",
              "    .dataframe tbody tr th:only-of-type {\n",
              "        vertical-align: middle;\n",
              "    }\n",
              "\n",
              "    .dataframe tbody tr th {\n",
              "        vertical-align: top;\n",
              "    }\n",
              "\n",
              "    .dataframe thead th {\n",
              "        text-align: right;\n",
              "    }\n",
              "</style>\n",
              "<table border=\"1\" class=\"dataframe\">\n",
              "  <thead>\n",
              "    <tr style=\"text-align: right;\">\n",
              "      <th></th>\n",
              "      <th>text</th>\n",
              "      <th>intent</th>\n",
              "    </tr>\n",
              "  </thead>\n",
              "  <tbody>\n",
              "    <tr>\n",
              "      <th>0</th>\n",
              "      <td>listen to westbam alumb allergic on google music</td>\n",
              "      <td>PlayMusic</td>\n",
              "    </tr>\n",
              "    <tr>\n",
              "      <th>1</th>\n",
              "      <td>add step to me to the 50 clásicos playlist</td>\n",
              "      <td>AddToPlaylist</td>\n",
              "    </tr>\n",
              "    <tr>\n",
              "      <th>2</th>\n",
              "      <td>i give this current textbook a rating value of...</td>\n",
              "      <td>RateBook</td>\n",
              "    </tr>\n",
              "    <tr>\n",
              "      <th>3</th>\n",
              "      <td>play the song little robin redbreast</td>\n",
              "      <td>PlayMusic</td>\n",
              "    </tr>\n",
              "    <tr>\n",
              "      <th>4</th>\n",
              "      <td>please add iris dement to my playlist this is ...</td>\n",
              "      <td>AddToPlaylist</td>\n",
              "    </tr>\n",
              "  </tbody>\n",
              "</table>\n",
              "</div>\n",
              "    <div class=\"colab-df-buttons\">\n",
              "\n",
              "  <div class=\"colab-df-container\">\n",
              "    <button class=\"colab-df-convert\" onclick=\"convertToInteractive('df-20b9b995-d171-45d1-bdb8-658ae4c822d0')\"\n",
              "            title=\"Convert this dataframe to an interactive table.\"\n",
              "            style=\"display:none;\">\n",
              "\n",
              "  <svg xmlns=\"http://www.w3.org/2000/svg\" height=\"24px\" viewBox=\"0 -960 960 960\">\n",
              "    <path d=\"M120-120v-720h720v720H120Zm60-500h600v-160H180v160Zm220 220h160v-160H400v160Zm0 220h160v-160H400v160ZM180-400h160v-160H180v160Zm440 0h160v-160H620v160ZM180-180h160v-160H180v160Zm440 0h160v-160H620v160Z\"/>\n",
              "  </svg>\n",
              "    </button>\n",
              "\n",
              "  <style>\n",
              "    .colab-df-container {\n",
              "      display:flex;\n",
              "      gap: 12px;\n",
              "    }\n",
              "\n",
              "    .colab-df-convert {\n",
              "      background-color: #E8F0FE;\n",
              "      border: none;\n",
              "      border-radius: 50%;\n",
              "      cursor: pointer;\n",
              "      display: none;\n",
              "      fill: #1967D2;\n",
              "      height: 32px;\n",
              "      padding: 0 0 0 0;\n",
              "      width: 32px;\n",
              "    }\n",
              "\n",
              "    .colab-df-convert:hover {\n",
              "      background-color: #E2EBFA;\n",
              "      box-shadow: 0px 1px 2px rgba(60, 64, 67, 0.3), 0px 1px 3px 1px rgba(60, 64, 67, 0.15);\n",
              "      fill: #174EA6;\n",
              "    }\n",
              "\n",
              "    .colab-df-buttons div {\n",
              "      margin-bottom: 4px;\n",
              "    }\n",
              "\n",
              "    [theme=dark] .colab-df-convert {\n",
              "      background-color: #3B4455;\n",
              "      fill: #D2E3FC;\n",
              "    }\n",
              "\n",
              "    [theme=dark] .colab-df-convert:hover {\n",
              "      background-color: #434B5C;\n",
              "      box-shadow: 0px 1px 3px 1px rgba(0, 0, 0, 0.15);\n",
              "      filter: drop-shadow(0px 1px 2px rgba(0, 0, 0, 0.3));\n",
              "      fill: #FFFFFF;\n",
              "    }\n",
              "  </style>\n",
              "\n",
              "    <script>\n",
              "      const buttonEl =\n",
              "        document.querySelector('#df-20b9b995-d171-45d1-bdb8-658ae4c822d0 button.colab-df-convert');\n",
              "      buttonEl.style.display =\n",
              "        google.colab.kernel.accessAllowed ? 'block' : 'none';\n",
              "\n",
              "      async function convertToInteractive(key) {\n",
              "        const element = document.querySelector('#df-20b9b995-d171-45d1-bdb8-658ae4c822d0');\n",
              "        const dataTable =\n",
              "          await google.colab.kernel.invokeFunction('convertToInteractive',\n",
              "                                                    [key], {});\n",
              "        if (!dataTable) return;\n",
              "\n",
              "        const docLinkHtml = 'Like what you see? Visit the ' +\n",
              "          '<a target=\"_blank\" href=https://colab.research.google.com/notebooks/data_table.ipynb>data table notebook</a>'\n",
              "          + ' to learn more about interactive tables.';\n",
              "        element.innerHTML = '';\n",
              "        dataTable['output_type'] = 'display_data';\n",
              "        await google.colab.output.renderOutput(dataTable, element);\n",
              "        const docLink = document.createElement('div');\n",
              "        docLink.innerHTML = docLinkHtml;\n",
              "        element.appendChild(docLink);\n",
              "      }\n",
              "    </script>\n",
              "  </div>\n",
              "\n",
              "\n",
              "<div id=\"df-5195b0de-ca8a-4ca9-99b5-906667f3faba\">\n",
              "  <button class=\"colab-df-quickchart\" onclick=\"quickchart('df-5195b0de-ca8a-4ca9-99b5-906667f3faba')\"\n",
              "            title=\"Suggest charts\"\n",
              "            style=\"display:none;\">\n",
              "\n",
              "<svg xmlns=\"http://www.w3.org/2000/svg\" height=\"24px\"viewBox=\"0 0 24 24\"\n",
              "     width=\"24px\">\n",
              "    <g>\n",
              "        <path d=\"M19 3H5c-1.1 0-2 .9-2 2v14c0 1.1.9 2 2 2h14c1.1 0 2-.9 2-2V5c0-1.1-.9-2-2-2zM9 17H7v-7h2v7zm4 0h-2V7h2v10zm4 0h-2v-4h2v4z\"/>\n",
              "    </g>\n",
              "</svg>\n",
              "  </button>\n",
              "\n",
              "<style>\n",
              "  .colab-df-quickchart {\n",
              "      --bg-color: #E8F0FE;\n",
              "      --fill-color: #1967D2;\n",
              "      --hover-bg-color: #E2EBFA;\n",
              "      --hover-fill-color: #174EA6;\n",
              "      --disabled-fill-color: #AAA;\n",
              "      --disabled-bg-color: #DDD;\n",
              "  }\n",
              "\n",
              "  [theme=dark] .colab-df-quickchart {\n",
              "      --bg-color: #3B4455;\n",
              "      --fill-color: #D2E3FC;\n",
              "      --hover-bg-color: #434B5C;\n",
              "      --hover-fill-color: #FFFFFF;\n",
              "      --disabled-bg-color: #3B4455;\n",
              "      --disabled-fill-color: #666;\n",
              "  }\n",
              "\n",
              "  .colab-df-quickchart {\n",
              "    background-color: var(--bg-color);\n",
              "    border: none;\n",
              "    border-radius: 50%;\n",
              "    cursor: pointer;\n",
              "    display: none;\n",
              "    fill: var(--fill-color);\n",
              "    height: 32px;\n",
              "    padding: 0;\n",
              "    width: 32px;\n",
              "  }\n",
              "\n",
              "  .colab-df-quickchart:hover {\n",
              "    background-color: var(--hover-bg-color);\n",
              "    box-shadow: 0 1px 2px rgba(60, 64, 67, 0.3), 0 1px 3px 1px rgba(60, 64, 67, 0.15);\n",
              "    fill: var(--button-hover-fill-color);\n",
              "  }\n",
              "\n",
              "  .colab-df-quickchart-complete:disabled,\n",
              "  .colab-df-quickchart-complete:disabled:hover {\n",
              "    background-color: var(--disabled-bg-color);\n",
              "    fill: var(--disabled-fill-color);\n",
              "    box-shadow: none;\n",
              "  }\n",
              "\n",
              "  .colab-df-spinner {\n",
              "    border: 2px solid var(--fill-color);\n",
              "    border-color: transparent;\n",
              "    border-bottom-color: var(--fill-color);\n",
              "    animation:\n",
              "      spin 1s steps(1) infinite;\n",
              "  }\n",
              "\n",
              "  @keyframes spin {\n",
              "    0% {\n",
              "      border-color: transparent;\n",
              "      border-bottom-color: var(--fill-color);\n",
              "      border-left-color: var(--fill-color);\n",
              "    }\n",
              "    20% {\n",
              "      border-color: transparent;\n",
              "      border-left-color: var(--fill-color);\n",
              "      border-top-color: var(--fill-color);\n",
              "    }\n",
              "    30% {\n",
              "      border-color: transparent;\n",
              "      border-left-color: var(--fill-color);\n",
              "      border-top-color: var(--fill-color);\n",
              "      border-right-color: var(--fill-color);\n",
              "    }\n",
              "    40% {\n",
              "      border-color: transparent;\n",
              "      border-right-color: var(--fill-color);\n",
              "      border-top-color: var(--fill-color);\n",
              "    }\n",
              "    60% {\n",
              "      border-color: transparent;\n",
              "      border-right-color: var(--fill-color);\n",
              "    }\n",
              "    80% {\n",
              "      border-color: transparent;\n",
              "      border-right-color: var(--fill-color);\n",
              "      border-bottom-color: var(--fill-color);\n",
              "    }\n",
              "    90% {\n",
              "      border-color: transparent;\n",
              "      border-bottom-color: var(--fill-color);\n",
              "    }\n",
              "  }\n",
              "</style>\n",
              "\n",
              "  <script>\n",
              "    async function quickchart(key) {\n",
              "      const quickchartButtonEl =\n",
              "        document.querySelector('#' + key + ' button');\n",
              "      quickchartButtonEl.disabled = true;  // To prevent multiple clicks.\n",
              "      quickchartButtonEl.classList.add('colab-df-spinner');\n",
              "      try {\n",
              "        const charts = await google.colab.kernel.invokeFunction(\n",
              "            'suggestCharts', [key], {});\n",
              "      } catch (error) {\n",
              "        console.error('Error during call to suggestCharts:', error);\n",
              "      }\n",
              "      quickchartButtonEl.classList.remove('colab-df-spinner');\n",
              "      quickchartButtonEl.classList.add('colab-df-quickchart-complete');\n",
              "    }\n",
              "    (() => {\n",
              "      let quickchartButtonEl =\n",
              "        document.querySelector('#df-5195b0de-ca8a-4ca9-99b5-906667f3faba button');\n",
              "      quickchartButtonEl.style.display =\n",
              "        google.colab.kernel.accessAllowed ? 'block' : 'none';\n",
              "    })();\n",
              "  </script>\n",
              "</div>\n",
              "\n",
              "    </div>\n",
              "  </div>\n"
            ],
            "application/vnd.google.colaboratory.intrinsic+json": {
              "type": "dataframe",
              "variable_name": "df",
              "summary": "{\n  \"name\": \"df\",\n  \"rows\": 13808,\n  \"fields\": [\n    {\n      \"column\": \"text\",\n      \"properties\": {\n        \"dtype\": \"string\",\n        \"num_unique_values\": 12887,\n        \"samples\": [\n          \"play a popular chant by brian epstein\",\n          \"what s the weather forecast for glade park on july twenty-fifth  2033\",\n          \"want a table at monty\\u2019s hotel  secunderabad  in the state of vermont\"\n        ],\n        \"semantic_type\": \"\",\n        \"description\": \"\"\n      }\n    },\n    {\n      \"column\": \"intent\",\n      \"properties\": {\n        \"dtype\": \"category\",\n        \"num_unique_values\": 12,\n        \"samples\": [\n          \"Affirmation\",\n          \"Cancellation\",\n          \"PlayMusic\"\n        ],\n        \"semantic_type\": \"\",\n        \"description\": \"\"\n      }\n    }\n  ]\n}"
            }
          },
          "metadata": {},
          "execution_count": 6
        }
      ]
    },
    {
      "cell_type": "code",
      "source": [
        "df.shape"
      ],
      "metadata": {
        "colab": {
          "base_uri": "https://localhost:8080/"
        },
        "id": "bdrz2LguWNxM",
        "outputId": "db2a3a46-97a7-4210-ee11-33736efd507d"
      },
      "execution_count": 7,
      "outputs": [
        {
          "output_type": "execute_result",
          "data": {
            "text/plain": [
              "(13808, 2)"
            ]
          },
          "metadata": {},
          "execution_count": 7
        }
      ]
    },
    {
      "cell_type": "markdown",
      "source": [
        "# Preprocess Data"
      ],
      "metadata": {
        "id": "lkxals5kNP8R"
      }
    },
    {
      "cell_type": "markdown",
      "source": [
        "## EDA"
      ],
      "metadata": {
        "id": "puDejh8LWdLX"
      }
    },
    {
      "cell_type": "code",
      "source": [
        "df['count'] = df['text'].apply(lambda x: len(x.split()))"
      ],
      "metadata": {
        "id": "LQn7ihadWYHU"
      },
      "execution_count": 8,
      "outputs": []
    },
    {
      "cell_type": "code",
      "source": [
        "df.head()"
      ],
      "metadata": {
        "colab": {
          "base_uri": "https://localhost:8080/",
          "height": 206
        },
        "id": "0QSoNWArW8H5",
        "outputId": "ccc2cc71-3bef-432a-872c-7a2202a8be60"
      },
      "execution_count": 9,
      "outputs": [
        {
          "output_type": "execute_result",
          "data": {
            "text/plain": [
              "                                                text         intent  count\n",
              "0   listen to westbam alumb allergic on google music      PlayMusic      8\n",
              "1         add step to me to the 50 clásicos playlist  AddToPlaylist      9\n",
              "2  i give this current textbook a rating value of...       RateBook     16\n",
              "3               play the song little robin redbreast      PlayMusic      6\n",
              "4  please add iris dement to my playlist this is ...  AddToPlaylist     10"
            ],
            "text/html": [
              "\n",
              "  <div id=\"df-0f442c41-5ad4-410c-910e-3f9c2ea31d48\" class=\"colab-df-container\">\n",
              "    <div>\n",
              "<style scoped>\n",
              "    .dataframe tbody tr th:only-of-type {\n",
              "        vertical-align: middle;\n",
              "    }\n",
              "\n",
              "    .dataframe tbody tr th {\n",
              "        vertical-align: top;\n",
              "    }\n",
              "\n",
              "    .dataframe thead th {\n",
              "        text-align: right;\n",
              "    }\n",
              "</style>\n",
              "<table border=\"1\" class=\"dataframe\">\n",
              "  <thead>\n",
              "    <tr style=\"text-align: right;\">\n",
              "      <th></th>\n",
              "      <th>text</th>\n",
              "      <th>intent</th>\n",
              "      <th>count</th>\n",
              "    </tr>\n",
              "  </thead>\n",
              "  <tbody>\n",
              "    <tr>\n",
              "      <th>0</th>\n",
              "      <td>listen to westbam alumb allergic on google music</td>\n",
              "      <td>PlayMusic</td>\n",
              "      <td>8</td>\n",
              "    </tr>\n",
              "    <tr>\n",
              "      <th>1</th>\n",
              "      <td>add step to me to the 50 clásicos playlist</td>\n",
              "      <td>AddToPlaylist</td>\n",
              "      <td>9</td>\n",
              "    </tr>\n",
              "    <tr>\n",
              "      <th>2</th>\n",
              "      <td>i give this current textbook a rating value of...</td>\n",
              "      <td>RateBook</td>\n",
              "      <td>16</td>\n",
              "    </tr>\n",
              "    <tr>\n",
              "      <th>3</th>\n",
              "      <td>play the song little robin redbreast</td>\n",
              "      <td>PlayMusic</td>\n",
              "      <td>6</td>\n",
              "    </tr>\n",
              "    <tr>\n",
              "      <th>4</th>\n",
              "      <td>please add iris dement to my playlist this is ...</td>\n",
              "      <td>AddToPlaylist</td>\n",
              "      <td>10</td>\n",
              "    </tr>\n",
              "  </tbody>\n",
              "</table>\n",
              "</div>\n",
              "    <div class=\"colab-df-buttons\">\n",
              "\n",
              "  <div class=\"colab-df-container\">\n",
              "    <button class=\"colab-df-convert\" onclick=\"convertToInteractive('df-0f442c41-5ad4-410c-910e-3f9c2ea31d48')\"\n",
              "            title=\"Convert this dataframe to an interactive table.\"\n",
              "            style=\"display:none;\">\n",
              "\n",
              "  <svg xmlns=\"http://www.w3.org/2000/svg\" height=\"24px\" viewBox=\"0 -960 960 960\">\n",
              "    <path d=\"M120-120v-720h720v720H120Zm60-500h600v-160H180v160Zm220 220h160v-160H400v160Zm0 220h160v-160H400v160ZM180-400h160v-160H180v160Zm440 0h160v-160H620v160ZM180-180h160v-160H180v160Zm440 0h160v-160H620v160Z\"/>\n",
              "  </svg>\n",
              "    </button>\n",
              "\n",
              "  <style>\n",
              "    .colab-df-container {\n",
              "      display:flex;\n",
              "      gap: 12px;\n",
              "    }\n",
              "\n",
              "    .colab-df-convert {\n",
              "      background-color: #E8F0FE;\n",
              "      border: none;\n",
              "      border-radius: 50%;\n",
              "      cursor: pointer;\n",
              "      display: none;\n",
              "      fill: #1967D2;\n",
              "      height: 32px;\n",
              "      padding: 0 0 0 0;\n",
              "      width: 32px;\n",
              "    }\n",
              "\n",
              "    .colab-df-convert:hover {\n",
              "      background-color: #E2EBFA;\n",
              "      box-shadow: 0px 1px 2px rgba(60, 64, 67, 0.3), 0px 1px 3px 1px rgba(60, 64, 67, 0.15);\n",
              "      fill: #174EA6;\n",
              "    }\n",
              "\n",
              "    .colab-df-buttons div {\n",
              "      margin-bottom: 4px;\n",
              "    }\n",
              "\n",
              "    [theme=dark] .colab-df-convert {\n",
              "      background-color: #3B4455;\n",
              "      fill: #D2E3FC;\n",
              "    }\n",
              "\n",
              "    [theme=dark] .colab-df-convert:hover {\n",
              "      background-color: #434B5C;\n",
              "      box-shadow: 0px 1px 3px 1px rgba(0, 0, 0, 0.15);\n",
              "      filter: drop-shadow(0px 1px 2px rgba(0, 0, 0, 0.3));\n",
              "      fill: #FFFFFF;\n",
              "    }\n",
              "  </style>\n",
              "\n",
              "    <script>\n",
              "      const buttonEl =\n",
              "        document.querySelector('#df-0f442c41-5ad4-410c-910e-3f9c2ea31d48 button.colab-df-convert');\n",
              "      buttonEl.style.display =\n",
              "        google.colab.kernel.accessAllowed ? 'block' : 'none';\n",
              "\n",
              "      async function convertToInteractive(key) {\n",
              "        const element = document.querySelector('#df-0f442c41-5ad4-410c-910e-3f9c2ea31d48');\n",
              "        const dataTable =\n",
              "          await google.colab.kernel.invokeFunction('convertToInteractive',\n",
              "                                                    [key], {});\n",
              "        if (!dataTable) return;\n",
              "\n",
              "        const docLinkHtml = 'Like what you see? Visit the ' +\n",
              "          '<a target=\"_blank\" href=https://colab.research.google.com/notebooks/data_table.ipynb>data table notebook</a>'\n",
              "          + ' to learn more about interactive tables.';\n",
              "        element.innerHTML = '';\n",
              "        dataTable['output_type'] = 'display_data';\n",
              "        await google.colab.output.renderOutput(dataTable, element);\n",
              "        const docLink = document.createElement('div');\n",
              "        docLink.innerHTML = docLinkHtml;\n",
              "        element.appendChild(docLink);\n",
              "      }\n",
              "    </script>\n",
              "  </div>\n",
              "\n",
              "\n",
              "<div id=\"df-7a9b1312-75ad-4f1e-9a13-53b1d1b611e1\">\n",
              "  <button class=\"colab-df-quickchart\" onclick=\"quickchart('df-7a9b1312-75ad-4f1e-9a13-53b1d1b611e1')\"\n",
              "            title=\"Suggest charts\"\n",
              "            style=\"display:none;\">\n",
              "\n",
              "<svg xmlns=\"http://www.w3.org/2000/svg\" height=\"24px\"viewBox=\"0 0 24 24\"\n",
              "     width=\"24px\">\n",
              "    <g>\n",
              "        <path d=\"M19 3H5c-1.1 0-2 .9-2 2v14c0 1.1.9 2 2 2h14c1.1 0 2-.9 2-2V5c0-1.1-.9-2-2-2zM9 17H7v-7h2v7zm4 0h-2V7h2v10zm4 0h-2v-4h2v4z\"/>\n",
              "    </g>\n",
              "</svg>\n",
              "  </button>\n",
              "\n",
              "<style>\n",
              "  .colab-df-quickchart {\n",
              "      --bg-color: #E8F0FE;\n",
              "      --fill-color: #1967D2;\n",
              "      --hover-bg-color: #E2EBFA;\n",
              "      --hover-fill-color: #174EA6;\n",
              "      --disabled-fill-color: #AAA;\n",
              "      --disabled-bg-color: #DDD;\n",
              "  }\n",
              "\n",
              "  [theme=dark] .colab-df-quickchart {\n",
              "      --bg-color: #3B4455;\n",
              "      --fill-color: #D2E3FC;\n",
              "      --hover-bg-color: #434B5C;\n",
              "      --hover-fill-color: #FFFFFF;\n",
              "      --disabled-bg-color: #3B4455;\n",
              "      --disabled-fill-color: #666;\n",
              "  }\n",
              "\n",
              "  .colab-df-quickchart {\n",
              "    background-color: var(--bg-color);\n",
              "    border: none;\n",
              "    border-radius: 50%;\n",
              "    cursor: pointer;\n",
              "    display: none;\n",
              "    fill: var(--fill-color);\n",
              "    height: 32px;\n",
              "    padding: 0;\n",
              "    width: 32px;\n",
              "  }\n",
              "\n",
              "  .colab-df-quickchart:hover {\n",
              "    background-color: var(--hover-bg-color);\n",
              "    box-shadow: 0 1px 2px rgba(60, 64, 67, 0.3), 0 1px 3px 1px rgba(60, 64, 67, 0.15);\n",
              "    fill: var(--button-hover-fill-color);\n",
              "  }\n",
              "\n",
              "  .colab-df-quickchart-complete:disabled,\n",
              "  .colab-df-quickchart-complete:disabled:hover {\n",
              "    background-color: var(--disabled-bg-color);\n",
              "    fill: var(--disabled-fill-color);\n",
              "    box-shadow: none;\n",
              "  }\n",
              "\n",
              "  .colab-df-spinner {\n",
              "    border: 2px solid var(--fill-color);\n",
              "    border-color: transparent;\n",
              "    border-bottom-color: var(--fill-color);\n",
              "    animation:\n",
              "      spin 1s steps(1) infinite;\n",
              "  }\n",
              "\n",
              "  @keyframes spin {\n",
              "    0% {\n",
              "      border-color: transparent;\n",
              "      border-bottom-color: var(--fill-color);\n",
              "      border-left-color: var(--fill-color);\n",
              "    }\n",
              "    20% {\n",
              "      border-color: transparent;\n",
              "      border-left-color: var(--fill-color);\n",
              "      border-top-color: var(--fill-color);\n",
              "    }\n",
              "    30% {\n",
              "      border-color: transparent;\n",
              "      border-left-color: var(--fill-color);\n",
              "      border-top-color: var(--fill-color);\n",
              "      border-right-color: var(--fill-color);\n",
              "    }\n",
              "    40% {\n",
              "      border-color: transparent;\n",
              "      border-right-color: var(--fill-color);\n",
              "      border-top-color: var(--fill-color);\n",
              "    }\n",
              "    60% {\n",
              "      border-color: transparent;\n",
              "      border-right-color: var(--fill-color);\n",
              "    }\n",
              "    80% {\n",
              "      border-color: transparent;\n",
              "      border-right-color: var(--fill-color);\n",
              "      border-bottom-color: var(--fill-color);\n",
              "    }\n",
              "    90% {\n",
              "      border-color: transparent;\n",
              "      border-bottom-color: var(--fill-color);\n",
              "    }\n",
              "  }\n",
              "</style>\n",
              "\n",
              "  <script>\n",
              "    async function quickchart(key) {\n",
              "      const quickchartButtonEl =\n",
              "        document.querySelector('#' + key + ' button');\n",
              "      quickchartButtonEl.disabled = true;  // To prevent multiple clicks.\n",
              "      quickchartButtonEl.classList.add('colab-df-spinner');\n",
              "      try {\n",
              "        const charts = await google.colab.kernel.invokeFunction(\n",
              "            'suggestCharts', [key], {});\n",
              "      } catch (error) {\n",
              "        console.error('Error during call to suggestCharts:', error);\n",
              "      }\n",
              "      quickchartButtonEl.classList.remove('colab-df-spinner');\n",
              "      quickchartButtonEl.classList.add('colab-df-quickchart-complete');\n",
              "    }\n",
              "    (() => {\n",
              "      let quickchartButtonEl =\n",
              "        document.querySelector('#df-7a9b1312-75ad-4f1e-9a13-53b1d1b611e1 button');\n",
              "      quickchartButtonEl.style.display =\n",
              "        google.colab.kernel.accessAllowed ? 'block' : 'none';\n",
              "    })();\n",
              "  </script>\n",
              "</div>\n",
              "\n",
              "    </div>\n",
              "  </div>\n"
            ],
            "application/vnd.google.colaboratory.intrinsic+json": {
              "type": "dataframe",
              "variable_name": "df",
              "summary": "{\n  \"name\": \"df\",\n  \"rows\": 13808,\n  \"fields\": [\n    {\n      \"column\": \"text\",\n      \"properties\": {\n        \"dtype\": \"string\",\n        \"num_unique_values\": 12887,\n        \"samples\": [\n          \"play a popular chant by brian epstein\",\n          \"what s the weather forecast for glade park on july twenty-fifth  2033\",\n          \"want a table at monty\\u2019s hotel  secunderabad  in the state of vermont\"\n        ],\n        \"semantic_type\": \"\",\n        \"description\": \"\"\n      }\n    },\n    {\n      \"column\": \"intent\",\n      \"properties\": {\n        \"dtype\": \"category\",\n        \"num_unique_values\": 12,\n        \"samples\": [\n          \"Affirmation\",\n          \"Cancellation\",\n          \"PlayMusic\"\n        ],\n        \"semantic_type\": \"\",\n        \"description\": \"\"\n      }\n    },\n    {\n      \"column\": \"count\",\n      \"properties\": {\n        \"dtype\": \"number\",\n        \"std\": 3,\n        \"min\": 1,\n        \"max\": 35,\n        \"num_unique_values\": 28,\n        \"samples\": [\n          5,\n          31,\n          15\n        ],\n        \"semantic_type\": \"\",\n        \"description\": \"\"\n      }\n    }\n  ]\n}"
            }
          },
          "metadata": {},
          "execution_count": 9
        }
      ]
    },
    {
      "cell_type": "code",
      "source": [
        "df['intent'].value_counts()"
      ],
      "metadata": {
        "colab": {
          "base_uri": "https://localhost:8080/",
          "height": 492
        },
        "id": "Pk67lgPjgR6O",
        "outputId": "3db1a3ac-0ae6-493a-a415-e347f567559f"
      },
      "execution_count": 10,
      "outputs": [
        {
          "output_type": "execute_result",
          "data": {
            "text/plain": [
              "intent\n",
              "PlayMusic               1914\n",
              "GetWeather              1896\n",
              "BookRestaurant          1881\n",
              "RateBook                1876\n",
              "SearchScreeningEvent    1852\n",
              "SearchCreativeWork      1847\n",
              "AddToPlaylist           1818\n",
              "Cancellation             174\n",
              "Affirmation              167\n",
              "excitment                147\n",
              "Greetings                137\n",
              "Book Meeting              99\n",
              "Name: count, dtype: int64"
            ],
            "text/html": [
              "<table border=\"1\" class=\"dataframe\">\n",
              "  <thead>\n",
              "    <tr style=\"text-align: right;\">\n",
              "      <th></th>\n",
              "      <th>count</th>\n",
              "    </tr>\n",
              "    <tr>\n",
              "      <th>intent</th>\n",
              "      <th></th>\n",
              "    </tr>\n",
              "  </thead>\n",
              "  <tbody>\n",
              "    <tr>\n",
              "      <th>PlayMusic</th>\n",
              "      <td>1914</td>\n",
              "    </tr>\n",
              "    <tr>\n",
              "      <th>GetWeather</th>\n",
              "      <td>1896</td>\n",
              "    </tr>\n",
              "    <tr>\n",
              "      <th>BookRestaurant</th>\n",
              "      <td>1881</td>\n",
              "    </tr>\n",
              "    <tr>\n",
              "      <th>RateBook</th>\n",
              "      <td>1876</td>\n",
              "    </tr>\n",
              "    <tr>\n",
              "      <th>SearchScreeningEvent</th>\n",
              "      <td>1852</td>\n",
              "    </tr>\n",
              "    <tr>\n",
              "      <th>SearchCreativeWork</th>\n",
              "      <td>1847</td>\n",
              "    </tr>\n",
              "    <tr>\n",
              "      <th>AddToPlaylist</th>\n",
              "      <td>1818</td>\n",
              "    </tr>\n",
              "    <tr>\n",
              "      <th>Cancellation</th>\n",
              "      <td>174</td>\n",
              "    </tr>\n",
              "    <tr>\n",
              "      <th>Affirmation</th>\n",
              "      <td>167</td>\n",
              "    </tr>\n",
              "    <tr>\n",
              "      <th>excitment</th>\n",
              "      <td>147</td>\n",
              "    </tr>\n",
              "    <tr>\n",
              "      <th>Greetings</th>\n",
              "      <td>137</td>\n",
              "    </tr>\n",
              "    <tr>\n",
              "      <th>Book Meeting</th>\n",
              "      <td>99</td>\n",
              "    </tr>\n",
              "  </tbody>\n",
              "</table><br><label><b>dtype:</b> int64</label>"
            ]
          },
          "metadata": {},
          "execution_count": 10
        }
      ]
    },
    {
      "cell_type": "code",
      "source": [
        "import re\n",
        "\n",
        "def formatIntent(intent:str) -> str:\n",
        "  return re.sub(r'([a-z])([A-Z])', r'\\1 \\2', intent)"
      ],
      "metadata": {
        "id": "eEQz63aocsAY"
      },
      "execution_count": 11,
      "outputs": []
    },
    {
      "cell_type": "code",
      "source": [
        "df['intent'] = df['intent'].apply(lambda x: str.title(formatIntent(x)))\n",
        "df['intent'].unique()"
      ],
      "metadata": {
        "colab": {
          "base_uri": "https://localhost:8080/"
        },
        "id": "a_PVFTL6gkp6",
        "outputId": "1d312257-d47d-4428-91ff-4b562bfe1c9d"
      },
      "execution_count": 12,
      "outputs": [
        {
          "output_type": "execute_result",
          "data": {
            "text/plain": [
              "array(['Play Music', 'Add To Playlist', 'Rate Book', 'Greetings',\n",
              "       'Search Screening Event', 'Book Restaurant', 'Get Weather',\n",
              "       'Book Meeting', 'Search Creative Work', 'Cancellation',\n",
              "       'Affirmation', 'Excitment'], dtype=object)"
            ]
          },
          "metadata": {},
          "execution_count": 12
        }
      ]
    },
    {
      "cell_type": "code",
      "source": [
        "plt.figure(figsize = (8,8))\n",
        "\n",
        "sns.displot(df['count'])\n",
        "\n",
        "plt.xlabel('Sum of words')\n",
        "plt.title('Number of Words Distribution')\n",
        "plt.show()"
      ],
      "metadata": {
        "colab": {
          "base_uri": "https://localhost:8080/",
          "height": 546
        },
        "id": "GZCrCy2xXBxW",
        "outputId": "e61a5481-7e1f-4ddd-efc2-f65ca896a8a5"
      },
      "execution_count": 13,
      "outputs": [
        {
          "output_type": "display_data",
          "data": {
            "text/plain": [
              "<Figure size 800x800 with 0 Axes>"
            ]
          },
          "metadata": {}
        },
        {
          "output_type": "display_data",
          "data": {
            "text/plain": [
              "<Figure size 500x500 with 1 Axes>"
            ],
            "image/png": "[encoded data removed]"
          },
          "metadata": {}
        }
      ]
    },
    {
      "cell_type": "markdown",
      "source": [
        "Cool, the length of statement will not be a problem.  Distilled BERT has a maximum sequence length of 512 tokens."
      ],
      "metadata": {
        "id": "2vX_dVToYjR4"
      }
    },
    {
      "cell_type": "code",
      "source": [
        "intent_count = df['intent'].value_counts()\n",
        "intents = intent_count.index\n",
        "len(intents), intents"
      ],
      "metadata": {
        "colab": {
          "base_uri": "https://localhost:8080/"
        },
        "id": "YTsGaybLYF0y",
        "outputId": "0b149c18-2ac6-4262-b547-4b1135837ecc"
      },
      "execution_count": 14,
      "outputs": [
        {
          "output_type": "execute_result",
          "data": {
            "text/plain": [
              "(12,\n",
              " Index(['Play Music', 'Get Weather', 'Book Restaurant', 'Rate Book',\n",
              "        'Search Screening Event', 'Search Creative Work', 'Add To Playlist',\n",
              "        'Cancellation', 'Affirmation', 'Excitment', 'Greetings',\n",
              "        'Book Meeting'],\n",
              "       dtype='object', name='intent'))"
            ]
          },
          "metadata": {},
          "execution_count": 14
        }
      ]
    },
    {
      "cell_type": "code",
      "source": [
        "fig = plt.figure(figsize=(12, 5))\n",
        "\n",
        "ax = fig.add_subplot(111)\n",
        "\n",
        "sns.barplot(x = intent_count.index, y=intent_count)\n",
        "\n",
        "plt.xlabel('Intents')\n",
        "plt.ylabel('Number of Commands')\n",
        "plt.xticks(rotation=45)\n",
        "plt.title('Number of Commands by Intent')\n",
        "plt.show()"
      ],
      "metadata": {
        "colab": {
          "base_uri": "https://localhost:8080/",
          "height": 591
        },
        "id": "iYKd0sPeZr-u",
        "outputId": "7c65f669-5017-4983-fba8-0599d53d7f96"
      },
      "execution_count": 15,
      "outputs": [
        {
          "output_type": "display_data",
          "data": {
            "text/plain": [
              "<Figure size 1200x500 with 1 Axes>"
            ],
            "image/png": "[encoded data removed]"
          },
          "metadata": {}
        }
      ]
    },
    {
      "cell_type": "markdown",
      "source": [
        "The data is not balanced.  Let's try upsampling the minitory classes."
      ],
      "metadata": {
        "id": "9Ax5SUsmiNoY"
      }
    },
    {
      "cell_type": "markdown",
      "source": [
        "## Balancing Data"
      ],
      "metadata": {
        "id": "_5TTOu1EqIru"
      }
    },
    {
      "cell_type": "code",
      "source": [
        "threshold = 250\n",
        "\n",
        "intent_counts = df['intent'].value_counts()\n",
        "\n",
        "majority_classes = intent_counts[intent_counts > threshold].index.tolist()\n",
        "minority_classes = intent_counts[intent_counts <= threshold].index.tolist()\n",
        "\n",
        "majority_classes, minority_classes"
      ],
      "metadata": {
        "colab": {
          "base_uri": "https://localhost:8080/"
        },
        "id": "DyNLBuGilnty",
        "outputId": "a56d3d6b-7386-4bba-81b5-86ff15782e2e"
      },
      "execution_count": 16,
      "outputs": [
        {
          "output_type": "execute_result",
          "data": {
            "text/plain": [
              "(['Play Music',\n",
              "  'Get Weather',\n",
              "  'Book Restaurant',\n",
              "  'Rate Book',\n",
              "  'Search Screening Event',\n",
              "  'Search Creative Work',\n",
              "  'Add To Playlist'],\n",
              " ['Cancellation', 'Affirmation', 'Excitment', 'Greetings', 'Book Meeting'])"
            ]
          },
          "metadata": {},
          "execution_count": 16
        }
      ]
    },
    {
      "cell_type": "code",
      "source": [
        "# find the size of the largest class)\n",
        "majority_size = df['intent'].value_counts().max()\n",
        "\n",
        "# separate majority and minority classes\n",
        "df_majority = df[df['intent'].isin(majority_classes)]\n",
        "df_minority = df[df['intent'].isin(minority_classes)]\n",
        "\n",
        "# upsample each minority class to match the size of the largest majority class\n",
        "df_minority_upsampled = pd.concat([\n",
        "    resample(df_minority[df_minority['intent'] == cls], replace=True,  n_samples=majority_size,  random_state=42)\n",
        "    for cls in minority_classes\n",
        "])\n",
        "\n",
        "# combine majority and upsampled minority classes\n",
        "df_balanced = pd.concat([df_majority, df_minority_upsampled])\n",
        "\n",
        "# shuffle the dataset\n",
        "df_balanced = df_balanced.sample(frac=1, random_state=42).reset_index(drop=True)\n",
        "\n",
        "df_balanced.head()"
      ],
      "metadata": {
        "colab": {
          "base_uri": "https://localhost:8080/",
          "height": 206
        },
        "id": "XQn2EmEXb8Yw",
        "outputId": "014d1c2b-1d94-422c-96fe-1ed76a30cde0"
      },
      "execution_count": 17,
      "outputs": [
        {
          "output_type": "execute_result",
          "data": {
            "text/plain": [
              "                                                text        intent  count\n",
              "0                             play some gospel music    Play Music      4\n",
              "1                                    book a meeting   Book Meeting      3\n",
              "2                                             indeed   Affirmation      1\n",
              "3  play track ai se eu te pego on google music fr...    Play Music     13\n",
              "4                                    book a meeting   Book Meeting      3"
            ],
            "text/html": [
              "\n",
              "  <div id=\"df-d098224c-3e06-42a4-ac6a-932c128b3bf4\" class=\"colab-df-container\">\n",
              "    <div>\n",
              "<style scoped>\n",
              "    .dataframe tbody tr th:only-of-type {\n",
              "        vertical-align: middle;\n",
              "    }\n",
              "\n",
              "    .dataframe tbody tr th {\n",
              "        vertical-align: top;\n",
              "    }\n",
              "\n",
              "    .dataframe thead th {\n",
              "        text-align: right;\n",
              "    }\n",
              "</style>\n",
              "<table border=\"1\" class=\"dataframe\">\n",
              "  <thead>\n",
              "    <tr style=\"text-align: right;\">\n",
              "      <th></th>\n",
              "      <th>text</th>\n",
              "      <th>intent</th>\n",
              "      <th>count</th>\n",
              "    </tr>\n",
              "  </thead>\n",
              "  <tbody>\n",
              "    <tr>\n",
              "      <th>0</th>\n",
              "      <td>play some gospel music</td>\n",
              "      <td>Play Music</td>\n",
              "      <td>4</td>\n",
              "    </tr>\n",
              "    <tr>\n",
              "      <th>1</th>\n",
              "      <td>book a meeting</td>\n",
              "      <td>Book Meeting</td>\n",
              "      <td>3</td>\n",
              "    </tr>\n",
              "    <tr>\n",
              "      <th>2</th>\n",
              "      <td>indeed</td>\n",
              "      <td>Affirmation</td>\n",
              "      <td>1</td>\n",
              "    </tr>\n",
              "    <tr>\n",
              "      <th>3</th>\n",
              "      <td>play track ai se eu te pego on google music fr...</td>\n",
              "      <td>Play Music</td>\n",
              "      <td>13</td>\n",
              "    </tr>\n",
              "    <tr>\n",
              "      <th>4</th>\n",
              "      <td>book a meeting</td>\n",
              "      <td>Book Meeting</td>\n",
              "      <td>3</td>\n",
              "    </tr>\n",
              "  </tbody>\n",
              "</table>\n",
              "</div>\n",
              "    <div class=\"colab-df-buttons\">\n",
              "\n",
              "  <div class=\"colab-df-container\">\n",
              "    <button class=\"colab-df-convert\" onclick=\"convertToInteractive('df-d098224c-3e06-42a4-ac6a-932c128b3bf4')\"\n",
              "            title=\"Convert this dataframe to an interactive table.\"\n",
              "            style=\"display:none;\">\n",
              "\n",
              "  <svg xmlns=\"http://www.w3.org/2000/svg\" height=\"24px\" viewBox=\"0 -960 960 960\">\n",
              "    <path d=\"M120-120v-720h720v720H120Zm60-500h600v-160H180v160Zm220 220h160v-160H400v160Zm0 220h160v-160H400v160ZM180-400h160v-160H180v160Zm440 0h160v-160H620v160ZM180-180h160v-160H180v160Zm440 0h160v-160H620v160Z\"/>\n",
              "  </svg>\n",
              "    </button>\n",
              "\n",
              "  <style>\n",
              "    .colab-df-container {\n",
              "      display:flex;\n",
              "      gap: 12px;\n",
              "    }\n",
              "\n",
              "    .colab-df-convert {\n",
              "      background-color: #E8F0FE;\n",
              "      border: none;\n",
              "      border-radius: 50%;\n",
              "      cursor: pointer;\n",
              "      display: none;\n",
              "      fill: #1967D2;\n",
              "      height: 32px;\n",
              "      padding: 0 0 0 0;\n",
              "      width: 32px;\n",
              "    }\n",
              "\n",
              "    .colab-df-convert:hover {\n",
              "      background-color: #E2EBFA;\n",
              "      box-shadow: 0px 1px 2px rgba(60, 64, 67, 0.3), 0px 1px 3px 1px rgba(60, 64, 67, 0.15);\n",
              "      fill: #174EA6;\n",
              "    }\n",
              "\n",
              "    .colab-df-buttons div {\n",
              "      margin-bottom: 4px;\n",
              "    }\n",
              "\n",
              "    [theme=dark] .colab-df-convert {\n",
              "      background-color: #3B4455;\n",
              "      fill: #D2E3FC;\n",
              "    }\n",
              "\n",
              "    [theme=dark] .colab-df-convert:hover {\n",
              "      background-color: #434B5C;\n",
              "      box-shadow: 0px 1px 3px 1px rgba(0, 0, 0, 0.15);\n",
              "      filter: drop-shadow(0px 1px 2px rgba(0, 0, 0, 0.3));\n",
              "      fill: #FFFFFF;\n",
              "    }\n",
              "  </style>\n",
              "\n",
              "    <script>\n",
              "      const buttonEl =\n",
              "        document.querySelector('#df-d098224c-3e06-42a4-ac6a-932c128b3bf4 button.colab-df-convert');\n",
              "      buttonEl.style.display =\n",
              "        google.colab.kernel.accessAllowed ? 'block' : 'none';\n",
              "\n",
              "      async function convertToInteractive(key) {\n",
              "        const element = document.querySelector('#df-d098224c-3e06-42a4-ac6a-932c128b3bf4');\n",
              "        const dataTable =\n",
              "          await google.colab.kernel.invokeFunction('convertToInteractive',\n",
              "                                                    [key], {});\n",
              "        if (!dataTable) return;\n",
              "\n",
              "        const docLinkHtml = 'Like what you see? Visit the ' +\n",
              "          '<a target=\"_blank\" href=https://colab.research.google.com/notebooks/data_table.ipynb>data table notebook</a>'\n",
              "          + ' to learn more about interactive tables.';\n",
              "        element.innerHTML = '';\n",
              "        dataTable['output_type'] = 'display_data';\n",
              "        await google.colab.output.renderOutput(dataTable, element);\n",
              "        const docLink = document.createElement('div');\n",
              "        docLink.innerHTML = docLinkHtml;\n",
              "        element.appendChild(docLink);\n",
              "      }\n",
              "    </script>\n",
              "  </div>\n",
              "\n",
              "\n",
              "<div id=\"df-890541bf-216d-4d13-8071-5426328773c0\">\n",
              "  <button class=\"colab-df-quickchart\" onclick=\"quickchart('df-890541bf-216d-4d13-8071-5426328773c0')\"\n",
              "            title=\"Suggest charts\"\n",
              "            style=\"display:none;\">\n",
              "\n",
              "<svg xmlns=\"http://www.w3.org/2000/svg\" height=\"24px\"viewBox=\"0 0 24 24\"\n",
              "     width=\"24px\">\n",
              "    <g>\n",
              "        <path d=\"M19 3H5c-1.1 0-2 .9-2 2v14c0 1.1.9 2 2 2h14c1.1 0 2-.9 2-2V5c0-1.1-.9-2-2-2zM9 17H7v-7h2v7zm4 0h-2V7h2v10zm4 0h-2v-4h2v4z\"/>\n",
              "    </g>\n",
              "</svg>\n",
              "  </button>\n",
              "\n",
              "<style>\n",
              "  .colab-df-quickchart {\n",
              "      --bg-color: #E8F0FE;\n",
              "      --fill-color: #1967D2;\n",
              "      --hover-bg-color: #E2EBFA;\n",
              "      --hover-fill-color: #174EA6;\n",
              "      --disabled-fill-color: #AAA;\n",
              "      --disabled-bg-color: #DDD;\n",
              "  }\n",
              "\n",
              "  [theme=dark] .colab-df-quickchart {\n",
              "      --bg-color: #3B4455;\n",
              "      --fill-color: #D2E3FC;\n",
              "      --hover-bg-color: #434B5C;\n",
              "      --hover-fill-color: #FFFFFF;\n",
              "      --disabled-bg-color: #3B4455;\n",
              "      --disabled-fill-color: #666;\n",
              "  }\n",
              "\n",
              "  .colab-df-quickchart {\n",
              "    background-color: var(--bg-color);\n",
              "    border: none;\n",
              "    border-radius: 50%;\n",
              "    cursor: pointer;\n",
              "    display: none;\n",
              "    fill: var(--fill-color);\n",
              "    height: 32px;\n",
              "    padding: 0;\n",
              "    width: 32px;\n",
              "  }\n",
              "\n",
              "  .colab-df-quickchart:hover {\n",
              "    background-color: var(--hover-bg-color);\n",
              "    box-shadow: 0 1px 2px rgba(60, 64, 67, 0.3), 0 1px 3px 1px rgba(60, 64, 67, 0.15);\n",
              "    fill: var(--button-hover-fill-color);\n",
              "  }\n",
              "\n",
              "  .colab-df-quickchart-complete:disabled,\n",
              "  .colab-df-quickchart-complete:disabled:hover {\n",
              "    background-color: var(--disabled-bg-color);\n",
              "    fill: var(--disabled-fill-color);\n",
              "    box-shadow: none;\n",
              "  }\n",
              "\n",
              "  .colab-df-spinner {\n",
              "    border: 2px solid var(--fill-color);\n",
              "    border-color: transparent;\n",
              "    border-bottom-color: var(--fill-color);\n",
              "    animation:\n",
              "      spin 1s steps(1) infinite;\n",
              "  }\n",
              "\n",
              "  @keyframes spin {\n",
              "    0% {\n",
              "      border-color: transparent;\n",
              "      border-bottom-color: var(--fill-color);\n",
              "      border-left-color: var(--fill-color);\n",
              "    }\n",
              "    20% {\n",
              "      border-color: transparent;\n",
              "      border-left-color: var(--fill-color);\n",
              "      border-top-color: var(--fill-color);\n",
              "    }\n",
              "    30% {\n",
              "      border-color: transparent;\n",
              "      border-left-color: var(--fill-color);\n",
              "      border-top-color: var(--fill-color);\n",
              "      border-right-color: var(--fill-color);\n",
              "    }\n",
              "    40% {\n",
              "      border-color: transparent;\n",
              "      border-right-color: var(--fill-color);\n",
              "      border-top-color: var(--fill-color);\n",
              "    }\n",
              "    60% {\n",
              "      border-color: transparent;\n",
              "      border-right-color: var(--fill-color);\n",
              "    }\n",
              "    80% {\n",
              "      border-color: transparent;\n",
              "      border-right-color: var(--fill-color);\n",
              "      border-bottom-color: var(--fill-color);\n",
              "    }\n",
              "    90% {\n",
              "      border-color: transparent;\n",
              "      border-bottom-color: var(--fill-color);\n",
              "    }\n",
              "  }\n",
              "</style>\n",
              "\n",
              "  <script>\n",
              "    async function quickchart(key) {\n",
              "      const quickchartButtonEl =\n",
              "        document.querySelector('#' + key + ' button');\n",
              "      quickchartButtonEl.disabled = true;  // To prevent multiple clicks.\n",
              "      quickchartButtonEl.classList.add('colab-df-spinner');\n",
              "      try {\n",
              "        const charts = await google.colab.kernel.invokeFunction(\n",
              "            'suggestCharts', [key], {});\n",
              "      } catch (error) {\n",
              "        console.error('Error during call to suggestCharts:', error);\n",
              "      }\n",
              "      quickchartButtonEl.classList.remove('colab-df-spinner');\n",
              "      quickchartButtonEl.classList.add('colab-df-quickchart-complete');\n",
              "    }\n",
              "    (() => {\n",
              "      let quickchartButtonEl =\n",
              "        document.querySelector('#df-890541bf-216d-4d13-8071-5426328773c0 button');\n",
              "      quickchartButtonEl.style.display =\n",
              "        google.colab.kernel.accessAllowed ? 'block' : 'none';\n",
              "    })();\n",
              "  </script>\n",
              "</div>\n",
              "\n",
              "    </div>\n",
              "  </div>\n"
            ],
            "application/vnd.google.colaboratory.intrinsic+json": {
              "type": "dataframe",
              "variable_name": "df_balanced",
              "summary": "{\n  \"name\": \"df_balanced\",\n  \"rows\": 22654,\n  \"fields\": [\n    {\n      \"column\": \"text\",\n      \"properties\": {\n        \"dtype\": \"string\",\n        \"num_unique_values\": 12887,\n        \"samples\": [\n          \"add back at the velvet lounge to my cleaning playlist\",\n          \"i want to watch animated movies at showcase cinemas\",\n          \"get me a highly rated restaurant in nigeria\"\n        ],\n        \"semantic_type\": \"\",\n        \"description\": \"\"\n      }\n    },\n    {\n      \"column\": \"intent\",\n      \"properties\": {\n        \"dtype\": \"category\",\n        \"num_unique_values\": 12,\n        \"samples\": [\n          \"Get Weather\",\n          \"Search Creative Work\",\n          \"Play Music\"\n        ],\n        \"semantic_type\": \"\",\n        \"description\": \"\"\n      }\n    },\n    {\n      \"column\": \"count\",\n      \"properties\": {\n        \"dtype\": \"number\",\n        \"std\": 4,\n        \"min\": 1,\n        \"max\": 35,\n        \"num_unique_values\": 28,\n        \"samples\": [\n          7,\n          25,\n          11\n        ],\n        \"semantic_type\": \"\",\n        \"description\": \"\"\n      }\n    }\n  ]\n}"
            }
          },
          "metadata": {},
          "execution_count": 17
        }
      ]
    },
    {
      "cell_type": "code",
      "source": [
        "intent_count = df_balanced['intent'].value_counts()\n",
        "\n",
        "fig = plt.figure(figsize=(12, 5))\n",
        "\n",
        "ax = fig.add_subplot(111)\n",
        "\n",
        "sns.barplot(x = intent_count.index, y=intent_count)\n",
        "\n",
        "plt.xlabel('Intents')\n",
        "plt.ylabel('Number of Commands')\n",
        "plt.xticks(rotation=45)\n",
        "plt.title('Number of Commands by Intent with Balanced Data')\n",
        "plt.show()"
      ],
      "metadata": {
        "colab": {
          "base_uri": "https://localhost:8080/",
          "height": 590
        },
        "id": "U953RJ_Ko4Im",
        "outputId": "1198f7b1-f746-44e9-f8f9-6037ce8f26d0"
      },
      "execution_count": 18,
      "outputs": [
        {
          "output_type": "display_data",
          "data": {
            "text/plain": [
              "<Figure size 1200x500 with 1 Axes>"
            ],
            "image/png": "[encoded data removed]"
          },
          "metadata": {}
        }
      ]
    },
    {
      "cell_type": "markdown",
      "source": [
        "Okay the data is balanced.  I may have to revisit this if I see significant overfitting when training the model."
      ],
      "metadata": {
        "id": "QXZNI8TepUVk"
      }
    },
    {
      "cell_type": "code",
      "source": [
        "df_balanced.shape"
      ],
      "metadata": {
        "colab": {
          "base_uri": "https://localhost:8080/"
        },
        "id": "lNIBwg3eqhLr",
        "outputId": "f95a351a-e905-4325-e6fb-64f1ca8703de"
      },
      "execution_count": 19,
      "outputs": [
        {
          "output_type": "execute_result",
          "data": {
            "text/plain": [
              "(22654, 3)"
            ]
          },
          "metadata": {},
          "execution_count": 19
        }
      ]
    },
    {
      "cell_type": "markdown",
      "source": [
        "## Encodeing Categories"
      ],
      "metadata": {
        "id": "gQHXrNwLp9bo"
      }
    },
    {
      "cell_type": "code",
      "source": [
        "df_balanced['encoded_cat'] = df_balanced['intent'].astype('category').cat.codes\n",
        "df_balanced.head()"
      ],
      "metadata": {
        "colab": {
          "base_uri": "https://localhost:8080/",
          "height": 206
        },
        "id": "W-7zE2Anpc8u",
        "outputId": "93b8578d-2f23-4d23-9cf3-a5f5b8f18a22"
      },
      "execution_count": 20,
      "outputs": [
        {
          "output_type": "execute_result",
          "data": {
            "text/plain": [
              "                                                text        intent  count  \\\n",
              "0                             play some gospel music    Play Music      4   \n",
              "1                                    book a meeting   Book Meeting      3   \n",
              "2                                             indeed   Affirmation      1   \n",
              "3  play track ai se eu te pego on google music fr...    Play Music     13   \n",
              "4                                    book a meeting   Book Meeting      3   \n",
              "\n",
              "   encoded_cat  \n",
              "0            8  \n",
              "1            2  \n",
              "2            1  \n",
              "3            8  \n",
              "4            2  "
            ],
            "text/html": [
              "\n",
              "  <div id=\"df-e4155399-3619-40bb-b6d0-79d26da2bcc5\" class=\"colab-df-container\">\n",
              "    <div>\n",
              "<style scoped>\n",
              "    .dataframe tbody tr th:only-of-type {\n",
              "        vertical-align: middle;\n",
              "    }\n",
              "\n",
              "    .dataframe tbody tr th {\n",
              "        vertical-align: top;\n",
              "    }\n",
              "\n",
              "    .dataframe thead th {\n",
              "        text-align: right;\n",
              "    }\n",
              "</style>\n",
              "<table border=\"1\" class=\"dataframe\">\n",
              "  <thead>\n",
              "    <tr style=\"text-align: right;\">\n",
              "      <th></th>\n",
              "      <th>text</th>\n",
              "      <th>intent</th>\n",
              "      <th>count</th>\n",
              "      <th>encoded_cat</th>\n",
              "    </tr>\n",
              "  </thead>\n",
              "  <tbody>\n",
              "    <tr>\n",
              "      <th>0</th>\n",
              "      <td>play some gospel music</td>\n",
              "      <td>Play Music</td>\n",
              "      <td>4</td>\n",
              "      <td>8</td>\n",
              "    </tr>\n",
              "    <tr>\n",
              "      <th>1</th>\n",
              "      <td>book a meeting</td>\n",
              "      <td>Book Meeting</td>\n",
              "      <td>3</td>\n",
              "      <td>2</td>\n",
              "    </tr>\n",
              "    <tr>\n",
              "      <th>2</th>\n",
              "      <td>indeed</td>\n",
              "      <td>Affirmation</td>\n",
              "      <td>1</td>\n",
              "      <td>1</td>\n",
              "    </tr>\n",
              "    <tr>\n",
              "      <th>3</th>\n",
              "      <td>play track ai se eu te pego on google music fr...</td>\n",
              "      <td>Play Music</td>\n",
              "      <td>13</td>\n",
              "      <td>8</td>\n",
              "    </tr>\n",
              "    <tr>\n",
              "      <th>4</th>\n",
              "      <td>book a meeting</td>\n",
              "      <td>Book Meeting</td>\n",
              "      <td>3</td>\n",
              "      <td>2</td>\n",
              "    </tr>\n",
              "  </tbody>\n",
              "</table>\n",
              "</div>\n",
              "    <div class=\"colab-df-buttons\">\n",
              "\n",
              "  <div class=\"colab-df-container\">\n",
              "    <button class=\"colab-df-convert\" onclick=\"convertToInteractive('df-e4155399-3619-40bb-b6d0-79d26da2bcc5')\"\n",
              "            title=\"Convert this dataframe to an interactive table.\"\n",
              "            style=\"display:none;\">\n",
              "\n",
              "  <svg xmlns=\"http://www.w3.org/2000/svg\" height=\"24px\" viewBox=\"0 -960 960 960\">\n",
              "    <path d=\"M120-120v-720h720v720H120Zm60-500h600v-160H180v160Zm220 220h160v-160H400v160Zm0 220h160v-160H400v160ZM180-400h160v-160H180v160Zm440 0h160v-160H620v160ZM180-180h160v-160H180v160Zm440 0h160v-160H620v160Z\"/>\n",
              "  </svg>\n",
              "    </button>\n",
              "\n",
              "  <style>\n",
              "    .colab-df-container {\n",
              "      display:flex;\n",
              "      gap: 12px;\n",
              "    }\n",
              "\n",
              "    .colab-df-convert {\n",
              "      background-color: #E8F0FE;\n",
              "      border: none;\n",
              "      border-radius: 50%;\n",
              "      cursor: pointer;\n",
              "      display: none;\n",
              "      fill: #1967D2;\n",
              "      height: 32px;\n",
              "      padding: 0 0 0 0;\n",
              "      width: 32px;\n",
              "    }\n",
              "\n",
              "    .colab-df-convert:hover {\n",
              "      background-color: #E2EBFA;\n",
              "      box-shadow: 0px 1px 2px rgba(60, 64, 67, 0.3), 0px 1px 3px 1px rgba(60, 64, 67, 0.15);\n",
              "      fill: #174EA6;\n",
              "    }\n",
              "\n",
              "    .colab-df-buttons div {\n",
              "      margin-bottom: 4px;\n",
              "    }\n",
              "\n",
              "    [theme=dark] .colab-df-convert {\n",
              "      background-color: #3B4455;\n",
              "      fill: #D2E3FC;\n",
              "    }\n",
              "\n",
              "    [theme=dark] .colab-df-convert:hover {\n",
              "      background-color: #434B5C;\n",
              "      box-shadow: 0px 1px 3px 1px rgba(0, 0, 0, 0.15);\n",
              "      filter: drop-shadow(0px 1px 2px rgba(0, 0, 0, 0.3));\n",
              "      fill: #FFFFFF;\n",
              "    }\n",
              "  </style>\n",
              "\n",
              "    <script>\n",
              "      const buttonEl =\n",
              "        document.querySelector('#df-e4155399-3619-40bb-b6d0-79d26da2bcc5 button.colab-df-convert');\n",
              "      buttonEl.style.display =\n",
              "        google.colab.kernel.accessAllowed ? 'block' : 'none';\n",
              "\n",
              "      async function convertToInteractive(key) {\n",
              "        const element = document.querySelector('#df-e4155399-3619-40bb-b6d0-79d26da2bcc5');\n",
              "        const dataTable =\n",
              "          await google.colab.kernel.invokeFunction('convertToInteractive',\n",
              "                                                    [key], {});\n",
              "        if (!dataTable) return;\n",
              "\n",
              "        const docLinkHtml = 'Like what you see? Visit the ' +\n",
              "          '<a target=\"_blank\" href=https://colab.research.google.com/notebooks/data_table.ipynb>data table notebook</a>'\n",
              "          + ' to learn more about interactive tables.';\n",
              "        element.innerHTML = '';\n",
              "        dataTable['output_type'] = 'display_data';\n",
              "        await google.colab.output.renderOutput(dataTable, element);\n",
              "        const docLink = document.createElement('div');\n",
              "        docLink.innerHTML = docLinkHtml;\n",
              "        element.appendChild(docLink);\n",
              "      }\n",
              "    </script>\n",
              "  </div>\n",
              "\n",
              "\n",
              "<div id=\"df-28b7d7e6-fab2-4e72-a693-19b7ae982dfd\">\n",
              "  <button class=\"colab-df-quickchart\" onclick=\"quickchart('df-28b7d7e6-fab2-4e72-a693-19b7ae982dfd')\"\n",
              "            title=\"Suggest charts\"\n",
              "            style=\"display:none;\">\n",
              "\n",
              "<svg xmlns=\"http://www.w3.org/2000/svg\" height=\"24px\"viewBox=\"0 0 24 24\"\n",
              "     width=\"24px\">\n",
              "    <g>\n",
              "        <path d=\"M19 3H5c-1.1 0-2 .9-2 2v14c0 1.1.9 2 2 2h14c1.1 0 2-.9 2-2V5c0-1.1-.9-2-2-2zM9 17H7v-7h2v7zm4 0h-2V7h2v10zm4 0h-2v-4h2v4z\"/>\n",
              "    </g>\n",
              "</svg>\n",
              "  </button>\n",
              "\n",
              "<style>\n",
              "  .colab-df-quickchart {\n",
              "      --bg-color: #E8F0FE;\n",
              "      --fill-color: #1967D2;\n",
              "      --hover-bg-color: #E2EBFA;\n",
              "      --hover-fill-color: #174EA6;\n",
              "      --disabled-fill-color: #AAA;\n",
              "      --disabled-bg-color: #DDD;\n",
              "  }\n",
              "\n",
              "  [theme=dark] .colab-df-quickchart {\n",
              "      --bg-color: #3B4455;\n",
              "      --fill-color: #D2E3FC;\n",
              "      --hover-bg-color: #434B5C;\n",
              "      --hover-fill-color: #FFFFFF;\n",
              "      --disabled-bg-color: #3B4455;\n",
              "      --disabled-fill-color: #666;\n",
              "  }\n",
              "\n",
              "  .colab-df-quickchart {\n",
              "    background-color: var(--bg-color);\n",
              "    border: none;\n",
              "    border-radius: 50%;\n",
              "    cursor: pointer;\n",
              "    display: none;\n",
              "    fill: var(--fill-color);\n",
              "    height: 32px;\n",
              "    padding: 0;\n",
              "    width: 32px;\n",
              "  }\n",
              "\n",
              "  .colab-df-quickchart:hover {\n",
              "    background-color: var(--hover-bg-color);\n",
              "    box-shadow: 0 1px 2px rgba(60, 64, 67, 0.3), 0 1px 3px 1px rgba(60, 64, 67, 0.15);\n",
              "    fill: var(--button-hover-fill-color);\n",
              "  }\n",
              "\n",
              "  .colab-df-quickchart-complete:disabled,\n",
              "  .colab-df-quickchart-complete:disabled:hover {\n",
              "    background-color: var(--disabled-bg-color);\n",
              "    fill: var(--disabled-fill-color);\n",
              "    box-shadow: none;\n",
              "  }\n",
              "\n",
              "  .colab-df-spinner {\n",
              "    border: 2px solid var(--fill-color);\n",
              "    border-color: transparent;\n",
              "    border-bottom-color: var(--fill-color);\n",
              "    animation:\n",
              "      spin 1s steps(1) infinite;\n",
              "  }\n",
              "\n",
              "  @keyframes spin {\n",
              "    0% {\n",
              "      border-color: transparent;\n",
              "      border-bottom-color: var(--fill-color);\n",
              "      border-left-color: var(--fill-color);\n",
              "    }\n",
              "    20% {\n",
              "      border-color: transparent;\n",
              "      border-left-color: var(--fill-color);\n",
              "      border-top-color: var(--fill-color);\n",
              "    }\n",
              "    30% {\n",
              "      border-color: transparent;\n",
              "      border-left-color: var(--fill-color);\n",
              "      border-top-color: var(--fill-color);\n",
              "      border-right-color: var(--fill-color);\n",
              "    }\n",
              "    40% {\n",
              "      border-color: transparent;\n",
              "      border-right-color: var(--fill-color);\n",
              "      border-top-color: var(--fill-color);\n",
              "    }\n",
              "    60% {\n",
              "      border-color: transparent;\n",
              "      border-right-color: var(--fill-color);\n",
              "    }\n",
              "    80% {\n",
              "      border-color: transparent;\n",
              "      border-right-color: var(--fill-color);\n",
              "      border-bottom-color: var(--fill-color);\n",
              "    }\n",
              "    90% {\n",
              "      border-color: transparent;\n",
              "      border-bottom-color: var(--fill-color);\n",
              "    }\n",
              "  }\n",
              "</style>\n",
              "\n",
              "  <script>\n",
              "    async function quickchart(key) {\n",
              "      const quickchartButtonEl =\n",
              "        document.querySelector('#' + key + ' button');\n",
              "      quickchartButtonEl.disabled = true;  // To prevent multiple clicks.\n",
              "      quickchartButtonEl.classList.add('colab-df-spinner');\n",
              "      try {\n",
              "        const charts = await google.colab.kernel.invokeFunction(\n",
              "            'suggestCharts', [key], {});\n",
              "      } catch (error) {\n",
              "        console.error('Error during call to suggestCharts:', error);\n",
              "      }\n",
              "      quickchartButtonEl.classList.remove('colab-df-spinner');\n",
              "      quickchartButtonEl.classList.add('colab-df-quickchart-complete');\n",
              "    }\n",
              "    (() => {\n",
              "      let quickchartButtonEl =\n",
              "        document.querySelector('#df-28b7d7e6-fab2-4e72-a693-19b7ae982dfd button');\n",
              "      quickchartButtonEl.style.display =\n",
              "        google.colab.kernel.accessAllowed ? 'block' : 'none';\n",
              "    })();\n",
              "  </script>\n",
              "</div>\n",
              "\n",
              "    </div>\n",
              "  </div>\n"
            ],
            "application/vnd.google.colaboratory.intrinsic+json": {
              "type": "dataframe",
              "variable_name": "df_balanced",
              "summary": "{\n  \"name\": \"df_balanced\",\n  \"rows\": 22654,\n  \"fields\": [\n    {\n      \"column\": \"text\",\n      \"properties\": {\n        \"dtype\": \"string\",\n        \"num_unique_values\": 12887,\n        \"samples\": [\n          \"add back at the velvet lounge to my cleaning playlist\",\n          \"i want to watch animated movies at showcase cinemas\",\n          \"get me a highly rated restaurant in nigeria\"\n        ],\n        \"semantic_type\": \"\",\n        \"description\": \"\"\n      }\n    },\n    {\n      \"column\": \"intent\",\n      \"properties\": {\n        \"dtype\": \"category\",\n        \"num_unique_values\": 12,\n        \"samples\": [\n          \"Get Weather\",\n          \"Search Creative Work\",\n          \"Play Music\"\n        ],\n        \"semantic_type\": \"\",\n        \"description\": \"\"\n      }\n    },\n    {\n      \"column\": \"count\",\n      \"properties\": {\n        \"dtype\": \"number\",\n        \"std\": 4,\n        \"min\": 1,\n        \"max\": 35,\n        \"num_unique_values\": 28,\n        \"samples\": [\n          7,\n          25,\n          11\n        ],\n        \"semantic_type\": \"\",\n        \"description\": \"\"\n      }\n    },\n    {\n      \"column\": \"encoded_cat\",\n      \"properties\": {\n        \"dtype\": \"int8\",\n        \"num_unique_values\": 12,\n        \"samples\": [\n          6,\n          10,\n          8\n        ],\n        \"semantic_type\": \"\",\n        \"description\": \"\"\n      }\n    }\n  ]\n}"
            }
          },
          "metadata": {},
          "execution_count": 20
        }
      ]
    },
    {
      "cell_type": "code",
      "source": [
        "texts = df_balanced['text'].to_list()\n",
        "labels = df_balanced['encoded_cat'].to_list()"
      ],
      "metadata": {
        "id": "C_caiaYkqa6G"
      },
      "execution_count": 21,
      "outputs": []
    },
    {
      "cell_type": "markdown",
      "source": [
        "# Prepare Data"
      ],
      "metadata": {
        "id": "7ftPB1qHNuWV"
      }
    },
    {
      "cell_type": "markdown",
      "source": [
        "## Split Data"
      ],
      "metadata": {
        "id": "DDm3bfZur6Qe"
      }
    },
    {
      "cell_type": "code",
      "source": [
        "train_texts, val_texts, train_labels, val_labels = train_test_split(texts, labels, test_size=0.2, random_state=42)\n",
        "print(f\"train_texts: {len(train_texts)}, val_texts: {len(val_texts)}, train_labels: {len(train_labels)}, val_labels: {len(val_labels)}\")\n",
        "\n",
        "train_texts, test_texts, train_labels, test_labels = train_test_split(train_texts, train_labels, test_size = 0.1, random_state=42)\n",
        "print(f\"train_texts: {len(train_texts)}, test_texts: {len(test_texts)}, train_labels: {len(train_labels)}, test_labels: {len(test_labels)}\")"
      ],
      "metadata": {
        "colab": {
          "base_uri": "https://localhost:8080/"
        },
        "id": "cLVP_Sa-r0Nh",
        "outputId": "215e6bd5-d65f-4237-c6b7-a8794d08a9ec"
      },
      "execution_count": 22,
      "outputs": [
        {
          "output_type": "stream",
          "name": "stdout",
          "text": [
            "train_texts: 18123, val_texts: 4531, train_labels: 18123, val_labels: 4531\n",
            "train_texts: 16310, test_texts: 1813, train_labels: 16310, test_labels: 1813\n"
          ]
        }
      ]
    },
    {
      "cell_type": "markdown",
      "source": [
        "## Tokenize Data and Create Datasets"
      ],
      "metadata": {
        "id": "qKSH_QaMuV_h"
      }
    },
    {
      "cell_type": "markdown",
      "source": [
        "Tokenize the features."
      ],
      "metadata": {
        "id": "q3UaclN1wHcu"
      }
    },
    {
      "cell_type": "code",
      "source": [
        "from transformers import DistilBertTokenizerFast\n",
        "\n",
        "tokenizer = DistilBertTokenizerFast.from_pretrained(MODEL_NAME)\n",
        "\n",
        "train_encodings = tokenizer(train_texts, truncation=True, padding=True)\n",
        "val_encodings = tokenizer(val_texts, truncation=True, padding=True)\n",
        "test_encodings = tokenizer(test_texts, truncation=True, padding=True)"
      ],
      "metadata": {
        "colab": {
          "base_uri": "https://localhost:8080/"
        },
        "id": "kquAstmhuVmV",
        "outputId": "1be91efc-0e88-4d62-85b0-db49db4c7273"
      },
      "execution_count": 23,
      "outputs": [
        {
          "output_type": "stream",
          "name": "stderr",
          "text": [
            "/usr/local/lib/python3.10/dist-packages/huggingface_hub/file_download.py:1132: FutureWarning:\n",
            "\n",
            "`resume_download` is deprecated and will be removed in version 1.0.0. Downloads always resume when possible. If you want to force a new download, use `force_download=True`.\n",
            "\n"
          ]
        }
      ]
    },
    {
      "cell_type": "markdown",
      "source": [
        "Create datasets."
      ],
      "metadata": {
        "id": "9eQpmkEQwLsg"
      }
    },
    {
      "cell_type": "code",
      "source": [
        "\n",
        "train_dataset = tf.data.Dataset.from_tensor_slices((\n",
        "    dict(train_encodings), train_labels\n",
        "))\n",
        "\n",
        "val_dataset = tf.data.Dataset.from_tensor_slices((\n",
        "    dict(val_encodings), val_labels\n",
        "))\n",
        "\n",
        "test_dataset = tf.data.Dataset.from_tensor_slices((\n",
        "    dict(test_encodings),\n",
        "    test_labels\n",
        "))"
      ],
      "metadata": {
        "id": "svv2mhqYsiJL"
      },
      "execution_count": 24,
      "outputs": []
    },
    {
      "cell_type": "markdown",
      "source": [
        "# Fine-tune Model"
      ],
      "metadata": {
        "id": "o2KH3Ol7yVO_"
      }
    },
    {
      "cell_type": "markdown",
      "source": [
        "** warmup_steps**: is used to specify the number of training steps during which the learning rate will increase linearly from a small value to the initial learning rate. This gradual increase helps stabilize training and improve convergence by preventing the model from making large updates at the beginning of training."
      ],
      "metadata": {
        "id": "7f5_ozIu0-vZ"
      }
    },
    {
      "cell_type": "code",
      "source": [
        "from transformers import TFTrainingArguments\n",
        "\n",
        "training_args = TFTrainingArguments(\n",
        "    output_dir='./results',\n",
        "    num_train_epochs=7,\n",
        "    per_device_train_batch_size=16,\n",
        "    per_device_eval_batch_size=64,\n",
        "    warmup_steps=500,\n",
        "    weight_decay=0.01, # prevents overfitting, by stopping it from fitting too closely to the training data\n",
        "    logging_dir='./logs',\n",
        "    eval_steps=100\n",
        ")"
      ],
      "metadata": {
        "id": "Uid02S3OyYr4"
      },
      "execution_count": 25,
      "outputs": []
    },
    {
      "cell_type": "markdown",
      "source": [
        "## Create Model"
      ],
      "metadata": {
        "id": "mQAct0h73hJp"
      }
    },
    {
      "cell_type": "code",
      "source": [
        "from transformers import TFDistilBertForSequenceClassification\n",
        "\n",
        "# Number of labels for classification\n",
        "num_labels = len(df['intent'].unique())\n",
        "\n",
        "with training_args.strategy.scope():\n",
        "    trainer_model = TFDistilBertForSequenceClassification.from_pretrained(MODEL_NAME, num_labels=num_labels)"
      ],
      "metadata": {
        "colab": {
          "base_uri": "https://localhost:8080/",
          "height": 225,
          "referenced_widgets": [
            "2a0e051fda85457092fadfeb00122fa4",
            "fd7a4ea4a48242a598b0b582a073635c",
            "6baf85327741473dbb7555d189bdba82",
            "93f0debde2254c709a3b84f6abcda8bf",
            "fa18330de0134e78b5c58efeafb32b77",
            "ab5b1afc4a43426fb44d56326062c979",
            "2ace42b2fd304645bcad52576ad8aa73",
            "7e68362dfe3e45bbabf13298faf68728",
            "ab243650c24d4f1393dfa1003c88b39e",
            "f830748c9eca47a6ad6332af90b85146",
            "ce589bfe56e04db1bd3e5a04b465ad35"
          ]
        },
        "id": "LbKDRHIf3imq",
        "outputId": "b79d98b8-c8ce-4299-995b-c82f1cd82fc2"
      },
      "execution_count": 26,
      "outputs": [
        {
          "output_type": "stream",
          "name": "stderr",
          "text": [
            "/usr/local/lib/python3.10/dist-packages/huggingface_hub/file_download.py:1132: FutureWarning:\n",
            "\n",
            "`resume_download` is deprecated and will be removed in version 1.0.0. Downloads always resume when possible. If you want to force a new download, use `force_download=True`.\n",
            "\n"
          ]
        },
        {
          "output_type": "display_data",
          "data": {
            "text/plain": [
              "tf_model.h5:   0%|          | 0.00/363M [00:00<?, ?B/s]"
            ],
            "application/vnd.jupyter.widget-view+json": {
              "version_major": 2,
              "version_minor": 0,
              "model_id": "2a0e051fda85457092fadfeb00122fa4"
            }
          },
          "metadata": {}
        },
        {
          "output_type": "stream",
          "name": "stderr",
          "text": [
            "Some layers from the model checkpoint at distilbert-base-uncased were not used when initializing TFDistilBertForSequenceClassification: ['vocab_transform', 'vocab_layer_norm', 'vocab_projector', 'activation_13']\n",
            "- This IS expected if you are initializing TFDistilBertForSequenceClassification from the checkpoint of a model trained on another task or with another architecture (e.g. initializing a BertForSequenceClassification model from a BertForPreTraining model).\n",
            "- This IS NOT expected if you are initializing TFDistilBertForSequenceClassification from the checkpoint of a model that you expect to be exactly identical (initializing a BertForSequenceClassification model from a BertForSequenceClassification model).\n",
            "Some layers of TFDistilBertForSequenceClassification were not initialized from the model checkpoint at distilbert-base-uncased and are newly initialized: ['pre_classifier', 'classifier', 'dropout_19']\n",
            "You should probably TRAIN this model on a down-stream task to be able to use it for predictions and inference.\n"
          ]
        }
      ]
    },
    {
      "cell_type": "markdown",
      "source": [
        "## Train Model"
      ],
      "metadata": {
        "id": "tYrzUwel7F8d"
      }
    },
    {
      "cell_type": "code",
      "source": [
        "from transformers import  TFTrainer\n",
        "\n",
        "trainer = TFTrainer(\n",
        "    model=trainer_model,\n",
        "    args=training_args,\n",
        "    train_dataset=train_dataset,\n",
        "    eval_dataset=val_dataset,\n",
        ")\n",
        "\n",
        "trainer.train()"
      ],
      "metadata": {
        "id": "acJjIlQV3qjC"
      },
      "execution_count": 28,
      "outputs": []
    },
    {
      "cell_type": "markdown",
      "source": [
        "Evaluate Model"
      ],
      "metadata": {
        "id": "G2fZzI7X7OME"
      }
    },
    {
      "cell_type": "code",
      "source": [
        "metrics = trainer.evaluate(test_dataset)\n",
        "print(f\"Test metrics: {metrics}\")"
      ],
      "metadata": {
        "colab": {
          "base_uri": "https://localhost:8080/"
        },
        "id": "Z3p2HRxS7BG4",
        "outputId": "cfc47ed5-24f9-4bfe-ab23-1f8853aa1e2c"
      },
      "execution_count": 33,
      "outputs": [
        {
          "output_type": "stream",
          "name": "stdout",
          "text": [
            "Test metrics: {'eval_loss': 0.05307388716730578}\n"
          ]
        }
      ]
    },
    {
      "cell_type": "markdown",
      "source": [
        "# Saving & Loading the model"
      ],
      "metadata": {
        "id": "gRjSNVlPx8VX"
      }
    },
    {
      "cell_type": "code",
      "source": [
        "import os\n",
        "\n",
        "models_dir = 'saved_models'\n",
        "\n",
        "if not os.path.exists(models_dir):\n",
        "    os.makedirs(models_dir)\n",
        "\n",
        "trainer.save_model(models_dir)\n",
        "tokenizer.save_pretrained(models_dir)"
      ],
      "metadata": {
        "colab": {
          "base_uri": "https://localhost:8080/"
        },
        "id": "2HVMQw1CKIT4",
        "outputId": "71f452d2-8978-4376-e4a4-7908e2b1ed9c"
      },
      "execution_count": 36,
      "outputs": [
        {
          "output_type": "execute_result",
          "data": {
            "text/plain": [
              "('saved_models/tokenizer_config.json',\n",
              " 'saved_models/special_tokens_map.json',\n",
              " 'saved_models/vocab.txt',\n",
              " 'saved_models/added_tokens.json',\n",
              " 'saved_models/tokenizer.json')"
            ]
          },
          "metadata": {},
          "execution_count": 36
        }
      ]
    },
    {
      "cell_type": "markdown",
      "source": [
        "## Loading Pre-Trained Model"
      ],
      "metadata": {
        "id": "GpCOygGeyXwa"
      }
    },
    {
      "cell_type": "code",
      "source": [
        "tokenizer_fine_tuned = DistilBertTokenizerFast.from_pretrained(models_dir)\n",
        "\n",
        "model_fine_tuned = TFDistilBertForSequenceClassification.from_pretrained(models_dir)"
      ],
      "metadata": {
        "colab": {
          "base_uri": "https://localhost:8080/"
        },
        "id": "3K0n1R4tyZr4",
        "outputId": "192f6e46-f0c0-4aea-f129-263e130f275f"
      },
      "execution_count": 37,
      "outputs": [
        {
          "output_type": "stream",
          "name": "stderr",
          "text": [
            "Some layers from the model checkpoint at saved_models were not used when initializing TFDistilBertForSequenceClassification: ['dropout_19']\n",
            "- This IS expected if you are initializing TFDistilBertForSequenceClassification from the checkpoint of a model trained on another task or with another architecture (e.g. initializing a BertForSequenceClassification model from a BertForPreTraining model).\n",
            "- This IS NOT expected if you are initializing TFDistilBertForSequenceClassification from the checkpoint of a model that you expect to be exactly identical (initializing a BertForSequenceClassification model from a BertForSequenceClassification model).\n",
            "Some layers of TFDistilBertForSequenceClassification were not initialized from the model checkpoint at saved_models and are newly initialized: ['dropout_39']\n",
            "You should probably TRAIN this model on a down-stream task to be able to use it for predictions and inference.\n"
          ]
        }
      ]
    },
    {
      "cell_type": "markdown",
      "source": [
        "# Evaluate Mdoel"
      ],
      "metadata": {
        "id": "SHaGYfnLOI2u"
      }
    },
    {
      "cell_type": "markdown",
      "source": [
        "## Manual Test"
      ],
      "metadata": {
        "id": "gwbPZhO54Y2K"
      }
    },
    {
      "cell_type": "code",
      "source": [
        "test_text = test_texts[0]\n",
        "\n",
        "test_text"
      ],
      "metadata": {
        "colab": {
          "base_uri": "https://localhost:8080/",
          "height": 35
        },
        "id": "rPzpSMrGyr4g",
        "outputId": "668ca8a4-9bb5-4714-9bb0-70dbee8ea452"
      },
      "execution_count": 38,
      "outputs": [
        {
          "output_type": "execute_result",
          "data": {
            "text/plain": [
              "'rate this novel four of 6'"
            ],
            "application/vnd.google.colaboratory.intrinsic+json": {
              "type": "string"
            }
          },
          "metadata": {},
          "execution_count": 38
        }
      ]
    },
    {
      "cell_type": "code",
      "source": [
        "tokenizer_fine_tuned.encode()"
      ],
      "metadata": {
        "id": "JvuZGrDm2P-9"
      },
      "execution_count": null,
      "outputs": []
    },
    {
      "cell_type": "code",
      "source": [
        "predict_input = tokenizer_fine_tuned.encode(\n",
        "    test_text,\n",
        "    truncation = True,\n",
        "    padding = True,\n",
        "    return_tensors = \"tf\"\n",
        ")\n",
        "\n",
        "output = model_fine_tuned(predict_input)[0]\n",
        "\n",
        "prediction_value = tf.argmax(output, axis=1).numpy()[0]\n",
        "\n",
        "prediction_value"
      ],
      "metadata": {
        "colab": {
          "base_uri": "https://localhost:8080/"
        },
        "id": "MSjqKHfKzBuL",
        "outputId": "46e8e594-e853-4bef-ed38-2e15d6667aba"
      },
      "execution_count": 41,
      "outputs": [
        {
          "output_type": "execute_result",
          "data": {
            "text/plain": [
              "9"
            ]
          },
          "metadata": {},
          "execution_count": 41
        }
      ]
    },
    {
      "cell_type": "code",
      "source": [
        "df_balanced.head()"
      ],
      "metadata": {
        "colab": {
          "base_uri": "https://localhost:8080/",
          "height": 206
        },
        "id": "qDNlxYF63lOf",
        "outputId": "ebfa07b2-7d00-49a2-93df-07d9234ae931"
      },
      "execution_count": 46,
      "outputs": [
        {
          "output_type": "execute_result",
          "data": {
            "text/plain": [
              "                                                text        intent  count  \\\n",
              "0                             play some gospel music    Play Music      4   \n",
              "1                                    book a meeting   Book Meeting      3   \n",
              "2                                             indeed   Affirmation      1   \n",
              "3  play track ai se eu te pego on google music fr...    Play Music     13   \n",
              "4                                    book a meeting   Book Meeting      3   \n",
              "\n",
              "   encoded_cat  \n",
              "0            8  \n",
              "1            2  \n",
              "2            1  \n",
              "3            8  \n",
              "4            2  "
            ],
            "text/html": [
              "\n",
              "  <div id=\"df-e72be627-b1df-4441-a8c2-be882dc2b2cf\" class=\"colab-df-container\">\n",
              "    <div>\n",
              "<style scoped>\n",
              "    .dataframe tbody tr th:only-of-type {\n",
              "        vertical-align: middle;\n",
              "    }\n",
              "\n",
              "    .dataframe tbody tr th {\n",
              "        vertical-align: top;\n",
              "    }\n",
              "\n",
              "    .dataframe thead th {\n",
              "        text-align: right;\n",
              "    }\n",
              "</style>\n",
              "<table border=\"1\" class=\"dataframe\">\n",
              "  <thead>\n",
              "    <tr style=\"text-align: right;\">\n",
              "      <th></th>\n",
              "      <th>text</th>\n",
              "      <th>intent</th>\n",
              "      <th>count</th>\n",
              "      <th>encoded_cat</th>\n",
              "    </tr>\n",
              "  </thead>\n",
              "  <tbody>\n",
              "    <tr>\n",
              "      <th>0</th>\n",
              "      <td>play some gospel music</td>\n",
              "      <td>Play Music</td>\n",
              "      <td>4</td>\n",
              "      <td>8</td>\n",
              "    </tr>\n",
              "    <tr>\n",
              "      <th>1</th>\n",
              "      <td>book a meeting</td>\n",
              "      <td>Book Meeting</td>\n",
              "      <td>3</td>\n",
              "      <td>2</td>\n",
              "    </tr>\n",
              "    <tr>\n",
              "      <th>2</th>\n",
              "      <td>indeed</td>\n",
              "      <td>Affirmation</td>\n",
              "      <td>1</td>\n",
              "      <td>1</td>\n",
              "    </tr>\n",
              "    <tr>\n",
              "      <th>3</th>\n",
              "      <td>play track ai se eu te pego on google music fr...</td>\n",
              "      <td>Play Music</td>\n",
              "      <td>13</td>\n",
              "      <td>8</td>\n",
              "    </tr>\n",
              "    <tr>\n",
              "      <th>4</th>\n",
              "      <td>book a meeting</td>\n",
              "      <td>Book Meeting</td>\n",
              "      <td>3</td>\n",
              "      <td>2</td>\n",
              "    </tr>\n",
              "  </tbody>\n",
              "</table>\n",
              "</div>\n",
              "    <div class=\"colab-df-buttons\">\n",
              "\n",
              "  <div class=\"colab-df-container\">\n",
              "    <button class=\"colab-df-convert\" onclick=\"convertToInteractive('df-e72be627-b1df-4441-a8c2-be882dc2b2cf')\"\n",
              "            title=\"Convert this dataframe to an interactive table.\"\n",
              "            style=\"display:none;\">\n",
              "\n",
              "  <svg xmlns=\"http://www.w3.org/2000/svg\" height=\"24px\" viewBox=\"0 -960 960 960\">\n",
              "    <path d=\"M120-120v-720h720v720H120Zm60-500h600v-160H180v160Zm220 220h160v-160H400v160Zm0 220h160v-160H400v160ZM180-400h160v-160H180v160Zm440 0h160v-160H620v160ZM180-180h160v-160H180v160Zm440 0h160v-160H620v160Z\"/>\n",
              "  </svg>\n",
              "    </button>\n",
              "\n",
              "  <style>\n",
              "    .colab-df-container {\n",
              "      display:flex;\n",
              "      gap: 12px;\n",
              "    }\n",
              "\n",
              "    .colab-df-convert {\n",
              "      background-color: #E8F0FE;\n",
              "      border: none;\n",
              "      border-radius: 50%;\n",
              "      cursor: pointer;\n",
              "      display: none;\n",
              "      fill: #1967D2;\n",
              "      height: 32px;\n",
              "      padding: 0 0 0 0;\n",
              "      width: 32px;\n",
              "    }\n",
              "\n",
              "    .colab-df-convert:hover {\n",
              "      background-color: #E2EBFA;\n",
              "      box-shadow: 0px 1px 2px rgba(60, 64, 67, 0.3), 0px 1px 3px 1px rgba(60, 64, 67, 0.15);\n",
              "      fill: #174EA6;\n",
              "    }\n",
              "\n",
              "    .colab-df-buttons div {\n",
              "      margin-bottom: 4px;\n",
              "    }\n",
              "\n",
              "    [theme=dark] .colab-df-convert {\n",
              "      background-color: #3B4455;\n",
              "      fill: #D2E3FC;\n",
              "    }\n",
              "\n",
              "    [theme=dark] .colab-df-convert:hover {\n",
              "      background-color: #434B5C;\n",
              "      box-shadow: 0px 1px 3px 1px rgba(0, 0, 0, 0.15);\n",
              "      filter: drop-shadow(0px 1px 2px rgba(0, 0, 0, 0.3));\n",
              "      fill: #FFFFFF;\n",
              "    }\n",
              "  </style>\n",
              "\n",
              "    <script>\n",
              "      const buttonEl =\n",
              "        document.querySelector('#df-e72be627-b1df-4441-a8c2-be882dc2b2cf button.colab-df-convert');\n",
              "      buttonEl.style.display =\n",
              "        google.colab.kernel.accessAllowed ? 'block' : 'none';\n",
              "\n",
              "      async function convertToInteractive(key) {\n",
              "        const element = document.querySelector('#df-e72be627-b1df-4441-a8c2-be882dc2b2cf');\n",
              "        const dataTable =\n",
              "          await google.colab.kernel.invokeFunction('convertToInteractive',\n",
              "                                                    [key], {});\n",
              "        if (!dataTable) return;\n",
              "\n",
              "        const docLinkHtml = 'Like what you see? Visit the ' +\n",
              "          '<a target=\"_blank\" href=https://colab.research.google.com/notebooks/data_table.ipynb>data table notebook</a>'\n",
              "          + ' to learn more about interactive tables.';\n",
              "        element.innerHTML = '';\n",
              "        dataTable['output_type'] = 'display_data';\n",
              "        await google.colab.output.renderOutput(dataTable, element);\n",
              "        const docLink = document.createElement('div');\n",
              "        docLink.innerHTML = docLinkHtml;\n",
              "        element.appendChild(docLink);\n",
              "      }\n",
              "    </script>\n",
              "  </div>\n",
              "\n",
              "\n",
              "<div id=\"df-44560f28-b1d1-48f1-aff8-7bcf1c2bcb3b\">\n",
              "  <button class=\"colab-df-quickchart\" onclick=\"quickchart('df-44560f28-b1d1-48f1-aff8-7bcf1c2bcb3b')\"\n",
              "            title=\"Suggest charts\"\n",
              "            style=\"display:none;\">\n",
              "\n",
              "<svg xmlns=\"http://www.w3.org/2000/svg\" height=\"24px\"viewBox=\"0 0 24 24\"\n",
              "     width=\"24px\">\n",
              "    <g>\n",
              "        <path d=\"M19 3H5c-1.1 0-2 .9-2 2v14c0 1.1.9 2 2 2h14c1.1 0 2-.9 2-2V5c0-1.1-.9-2-2-2zM9 17H7v-7h2v7zm4 0h-2V7h2v10zm4 0h-2v-4h2v4z\"/>\n",
              "    </g>\n",
              "</svg>\n",
              "  </button>\n",
              "\n",
              "<style>\n",
              "  .colab-df-quickchart {\n",
              "      --bg-color: #E8F0FE;\n",
              "      --fill-color: #1967D2;\n",
              "      --hover-bg-color: #E2EBFA;\n",
              "      --hover-fill-color: #174EA6;\n",
              "      --disabled-fill-color: #AAA;\n",
              "      --disabled-bg-color: #DDD;\n",
              "  }\n",
              "\n",
              "  [theme=dark] .colab-df-quickchart {\n",
              "      --bg-color: #3B4455;\n",
              "      --fill-color: #D2E3FC;\n",
              "      --hover-bg-color: #434B5C;\n",
              "      --hover-fill-color: #FFFFFF;\n",
              "      --disabled-bg-color: #3B4455;\n",
              "      --disabled-fill-color: #666;\n",
              "  }\n",
              "\n",
              "  .colab-df-quickchart {\n",
              "    background-color: var(--bg-color);\n",
              "    border: none;\n",
              "    border-radius: 50%;\n",
              "    cursor: pointer;\n",
              "    display: none;\n",
              "    fill: var(--fill-color);\n",
              "    height: 32px;\n",
              "    padding: 0;\n",
              "    width: 32px;\n",
              "  }\n",
              "\n",
              "  .colab-df-quickchart:hover {\n",
              "    background-color: var(--hover-bg-color);\n",
              "    box-shadow: 0 1px 2px rgba(60, 64, 67, 0.3), 0 1px 3px 1px rgba(60, 64, 67, 0.15);\n",
              "    fill: var(--button-hover-fill-color);\n",
              "  }\n",
              "\n",
              "  .colab-df-quickchart-complete:disabled,\n",
              "  .colab-df-quickchart-complete:disabled:hover {\n",
              "    background-color: var(--disabled-bg-color);\n",
              "    fill: var(--disabled-fill-color);\n",
              "    box-shadow: none;\n",
              "  }\n",
              "\n",
              "  .colab-df-spinner {\n",
              "    border: 2px solid var(--fill-color);\n",
              "    border-color: transparent;\n",
              "    border-bottom-color: var(--fill-color);\n",
              "    animation:\n",
              "      spin 1s steps(1) infinite;\n",
              "  }\n",
              "\n",
              "  @keyframes spin {\n",
              "    0% {\n",
              "      border-color: transparent;\n",
              "      border-bottom-color: var(--fill-color);\n",
              "      border-left-color: var(--fill-color);\n",
              "    }\n",
              "    20% {\n",
              "      border-color: transparent;\n",
              "      border-left-color: var(--fill-color);\n",
              "      border-top-color: var(--fill-color);\n",
              "    }\n",
              "    30% {\n",
              "      border-color: transparent;\n",
              "      border-left-color: var(--fill-color);\n",
              "      border-top-color: var(--fill-color);\n",
              "      border-right-color: var(--fill-color);\n",
              "    }\n",
              "    40% {\n",
              "      border-color: transparent;\n",
              "      border-right-color: var(--fill-color);\n",
              "      border-top-color: var(--fill-color);\n",
              "    }\n",
              "    60% {\n",
              "      border-color: transparent;\n",
              "      border-right-color: var(--fill-color);\n",
              "    }\n",
              "    80% {\n",
              "      border-color: transparent;\n",
              "      border-right-color: var(--fill-color);\n",
              "      border-bottom-color: var(--fill-color);\n",
              "    }\n",
              "    90% {\n",
              "      border-color: transparent;\n",
              "      border-bottom-color: var(--fill-color);\n",
              "    }\n",
              "  }\n",
              "</style>\n",
              "\n",
              "  <script>\n",
              "    async function quickchart(key) {\n",
              "      const quickchartButtonEl =\n",
              "        document.querySelector('#' + key + ' button');\n",
              "      quickchartButtonEl.disabled = true;  // To prevent multiple clicks.\n",
              "      quickchartButtonEl.classList.add('colab-df-spinner');\n",
              "      try {\n",
              "        const charts = await google.colab.kernel.invokeFunction(\n",
              "            'suggestCharts', [key], {});\n",
              "      } catch (error) {\n",
              "        console.error('Error during call to suggestCharts:', error);\n",
              "      }\n",
              "      quickchartButtonEl.classList.remove('colab-df-spinner');\n",
              "      quickchartButtonEl.classList.add('colab-df-quickchart-complete');\n",
              "    }\n",
              "    (() => {\n",
              "      let quickchartButtonEl =\n",
              "        document.querySelector('#df-44560f28-b1d1-48f1-aff8-7bcf1c2bcb3b button');\n",
              "      quickchartButtonEl.style.display =\n",
              "        google.colab.kernel.accessAllowed ? 'block' : 'none';\n",
              "    })();\n",
              "  </script>\n",
              "</div>\n",
              "\n",
              "    </div>\n",
              "  </div>\n"
            ],
            "application/vnd.google.colaboratory.intrinsic+json": {
              "type": "dataframe",
              "variable_name": "df_balanced",
              "summary": "{\n  \"name\": \"df_balanced\",\n  \"rows\": 22654,\n  \"fields\": [\n    {\n      \"column\": \"text\",\n      \"properties\": {\n        \"dtype\": \"string\",\n        \"num_unique_values\": 12887,\n        \"samples\": [\n          \"add back at the velvet lounge to my cleaning playlist\",\n          \"i want to watch animated movies at showcase cinemas\",\n          \"get me a highly rated restaurant in nigeria\"\n        ],\n        \"semantic_type\": \"\",\n        \"description\": \"\"\n      }\n    },\n    {\n      \"column\": \"intent\",\n      \"properties\": {\n        \"dtype\": \"category\",\n        \"num_unique_values\": 12,\n        \"samples\": [\n          \"Get Weather\",\n          \"Search Creative Work\",\n          \"Play Music\"\n        ],\n        \"semantic_type\": \"\",\n        \"description\": \"\"\n      }\n    },\n    {\n      \"column\": \"count\",\n      \"properties\": {\n        \"dtype\": \"number\",\n        \"std\": 4,\n        \"min\": 1,\n        \"max\": 35,\n        \"num_unique_values\": 28,\n        \"samples\": [\n          7,\n          25,\n          11\n        ],\n        \"semantic_type\": \"\",\n        \"description\": \"\"\n      }\n    },\n    {\n      \"column\": \"encoded_cat\",\n      \"properties\": {\n        \"dtype\": \"int8\",\n        \"num_unique_values\": 12,\n        \"samples\": [\n          6,\n          10,\n          8\n        ],\n        \"semantic_type\": \"\",\n        \"description\": \"\"\n      }\n    }\n  ]\n}"
            }
          },
          "metadata": {},
          "execution_count": 46
        }
      ]
    },
    {
      "cell_type": "code",
      "source": [
        "categories = df_balanced.groupby('intent')['encoded_cat'].first().reset_index()\n",
        "categories"
      ],
      "metadata": {
        "colab": {
          "base_uri": "https://localhost:8080/",
          "height": 426
        },
        "id": "7oDrxDiZ2xly",
        "outputId": "0f3a286d-9707-4a75-c774-2526a06c8340"
      },
      "execution_count": 48,
      "outputs": [
        {
          "output_type": "execute_result",
          "data": {
            "text/plain": [
              "                    intent  encoded_cat\n",
              "0          Add To Playlist            0\n",
              "1              Affirmation            1\n",
              "2             Book Meeting            2\n",
              "3          Book Restaurant            3\n",
              "4             Cancellation            4\n",
              "5                Excitment            5\n",
              "6              Get Weather            6\n",
              "7                Greetings            7\n",
              "8               Play Music            8\n",
              "9                Rate Book            9\n",
              "10    Search Creative Work           10\n",
              "11  Search Screening Event           11"
            ],
            "text/html": [
              "\n",
              "  <div id=\"df-3b5a44ca-8ff8-4d77-9ddb-f86a044f67b0\" class=\"colab-df-container\">\n",
              "    <div>\n",
              "<style scoped>\n",
              "    .dataframe tbody tr th:only-of-type {\n",
              "        vertical-align: middle;\n",
              "    }\n",
              "\n",
              "    .dataframe tbody tr th {\n",
              "        vertical-align: top;\n",
              "    }\n",
              "\n",
              "    .dataframe thead th {\n",
              "        text-align: right;\n",
              "    }\n",
              "</style>\n",
              "<table border=\"1\" class=\"dataframe\">\n",
              "  <thead>\n",
              "    <tr style=\"text-align: right;\">\n",
              "      <th></th>\n",
              "      <th>intent</th>\n",
              "      <th>encoded_cat</th>\n",
              "    </tr>\n",
              "  </thead>\n",
              "  <tbody>\n",
              "    <tr>\n",
              "      <th>0</th>\n",
              "      <td>Add To Playlist</td>\n",
              "      <td>0</td>\n",
              "    </tr>\n",
              "    <tr>\n",
              "      <th>1</th>\n",
              "      <td>Affirmation</td>\n",
              "      <td>1</td>\n",
              "    </tr>\n",
              "    <tr>\n",
              "      <th>2</th>\n",
              "      <td>Book Meeting</td>\n",
              "      <td>2</td>\n",
              "    </tr>\n",
              "    <tr>\n",
              "      <th>3</th>\n",
              "      <td>Book Restaurant</td>\n",
              "      <td>3</td>\n",
              "    </tr>\n",
              "    <tr>\n",
              "      <th>4</th>\n",
              "      <td>Cancellation</td>\n",
              "      <td>4</td>\n",
              "    </tr>\n",
              "    <tr>\n",
              "      <th>5</th>\n",
              "      <td>Excitment</td>\n",
              "      <td>5</td>\n",
              "    </tr>\n",
              "    <tr>\n",
              "      <th>6</th>\n",
              "      <td>Get Weather</td>\n",
              "      <td>6</td>\n",
              "    </tr>\n",
              "    <tr>\n",
              "      <th>7</th>\n",
              "      <td>Greetings</td>\n",
              "      <td>7</td>\n",
              "    </tr>\n",
              "    <tr>\n",
              "      <th>8</th>\n",
              "      <td>Play Music</td>\n",
              "      <td>8</td>\n",
              "    </tr>\n",
              "    <tr>\n",
              "      <th>9</th>\n",
              "      <td>Rate Book</td>\n",
              "      <td>9</td>\n",
              "    </tr>\n",
              "    <tr>\n",
              "      <th>10</th>\n",
              "      <td>Search Creative Work</td>\n",
              "      <td>10</td>\n",
              "    </tr>\n",
              "    <tr>\n",
              "      <th>11</th>\n",
              "      <td>Search Screening Event</td>\n",
              "      <td>11</td>\n",
              "    </tr>\n",
              "  </tbody>\n",
              "</table>\n",
              "</div>\n",
              "    <div class=\"colab-df-buttons\">\n",
              "\n",
              "  <div class=\"colab-df-container\">\n",
              "    <button class=\"colab-df-convert\" onclick=\"convertToInteractive('df-3b5a44ca-8ff8-4d77-9ddb-f86a044f67b0')\"\n",
              "            title=\"Convert this dataframe to an interactive table.\"\n",
              "            style=\"display:none;\">\n",
              "\n",
              "  <svg xmlns=\"http://www.w3.org/2000/svg\" height=\"24px\" viewBox=\"0 -960 960 960\">\n",
              "    <path d=\"M120-120v-720h720v720H120Zm60-500h600v-160H180v160Zm220 220h160v-160H400v160Zm0 220h160v-160H400v160ZM180-400h160v-160H180v160Zm440 0h160v-160H620v160ZM180-180h160v-160H180v160Zm440 0h160v-160H620v160Z\"/>\n",
              "  </svg>\n",
              "    </button>\n",
              "\n",
              "  <style>\n",
              "    .colab-df-container {\n",
              "      display:flex;\n",
              "      gap: 12px;\n",
              "    }\n",
              "\n",
              "    .colab-df-convert {\n",
              "      background-color: #E8F0FE;\n",
              "      border: none;\n",
              "      border-radius: 50%;\n",
              "      cursor: pointer;\n",
              "      display: none;\n",
              "      fill: #1967D2;\n",
              "      height: 32px;\n",
              "      padding: 0 0 0 0;\n",
              "      width: 32px;\n",
              "    }\n",
              "\n",
              "    .colab-df-convert:hover {\n",
              "      background-color: #E2EBFA;\n",
              "      box-shadow: 0px 1px 2px rgba(60, 64, 67, 0.3), 0px 1px 3px 1px rgba(60, 64, 67, 0.15);\n",
              "      fill: #174EA6;\n",
              "    }\n",
              "\n",
              "    .colab-df-buttons div {\n",
              "      margin-bottom: 4px;\n",
              "    }\n",
              "\n",
              "    [theme=dark] .colab-df-convert {\n",
              "      background-color: #3B4455;\n",
              "      fill: #D2E3FC;\n",
              "    }\n",
              "\n",
              "    [theme=dark] .colab-df-convert:hover {\n",
              "      background-color: #434B5C;\n",
              "      box-shadow: 0px 1px 3px 1px rgba(0, 0, 0, 0.15);\n",
              "      filter: drop-shadow(0px 1px 2px rgba(0, 0, 0, 0.3));\n",
              "      fill: #FFFFFF;\n",
              "    }\n",
              "  </style>\n",
              "\n",
              "    <script>\n",
              "      const buttonEl =\n",
              "        document.querySelector('#df-3b5a44ca-8ff8-4d77-9ddb-f86a044f67b0 button.colab-df-convert');\n",
              "      buttonEl.style.display =\n",
              "        google.colab.kernel.accessAllowed ? 'block' : 'none';\n",
              "\n",
              "      async function convertToInteractive(key) {\n",
              "        const element = document.querySelector('#df-3b5a44ca-8ff8-4d77-9ddb-f86a044f67b0');\n",
              "        const dataTable =\n",
              "          await google.colab.kernel.invokeFunction('convertToInteractive',\n",
              "                                                    [key], {});\n",
              "        if (!dataTable) return;\n",
              "\n",
              "        const docLinkHtml = 'Like what you see? Visit the ' +\n",
              "          '<a target=\"_blank\" href=https://colab.research.google.com/notebooks/data_table.ipynb>data table notebook</a>'\n",
              "          + ' to learn more about interactive tables.';\n",
              "        element.innerHTML = '';\n",
              "        dataTable['output_type'] = 'display_data';\n",
              "        await google.colab.output.renderOutput(dataTable, element);\n",
              "        const docLink = document.createElement('div');\n",
              "        docLink.innerHTML = docLinkHtml;\n",
              "        element.appendChild(docLink);\n",
              "      }\n",
              "    </script>\n",
              "  </div>\n",
              "\n",
              "\n",
              "<div id=\"df-1991ee10-c66c-4381-8df0-3918a255c664\">\n",
              "  <button class=\"colab-df-quickchart\" onclick=\"quickchart('df-1991ee10-c66c-4381-8df0-3918a255c664')\"\n",
              "            title=\"Suggest charts\"\n",
              "            style=\"display:none;\">\n",
              "\n",
              "<svg xmlns=\"http://www.w3.org/2000/svg\" height=\"24px\"viewBox=\"0 0 24 24\"\n",
              "     width=\"24px\">\n",
              "    <g>\n",
              "        <path d=\"M19 3H5c-1.1 0-2 .9-2 2v14c0 1.1.9 2 2 2h14c1.1 0 2-.9 2-2V5c0-1.1-.9-2-2-2zM9 17H7v-7h2v7zm4 0h-2V7h2v10zm4 0h-2v-4h2v4z\"/>\n",
              "    </g>\n",
              "</svg>\n",
              "  </button>\n",
              "\n",
              "<style>\n",
              "  .colab-df-quickchart {\n",
              "      --bg-color: #E8F0FE;\n",
              "      --fill-color: #1967D2;\n",
              "      --hover-bg-color: #E2EBFA;\n",
              "      --hover-fill-color: #174EA6;\n",
              "      --disabled-fill-color: #AAA;\n",
              "      --disabled-bg-color: #DDD;\n",
              "  }\n",
              "\n",
              "  [theme=dark] .colab-df-quickchart {\n",
              "      --bg-color: #3B4455;\n",
              "      --fill-color: #D2E3FC;\n",
              "      --hover-bg-color: #434B5C;\n",
              "      --hover-fill-color: #FFFFFF;\n",
              "      --disabled-bg-color: #3B4455;\n",
              "      --disabled-fill-color: #666;\n",
              "  }\n",
              "\n",
              "  .colab-df-quickchart {\n",
              "    background-color: var(--bg-color);\n",
              "    border: none;\n",
              "    border-radius: 50%;\n",
              "    cursor: pointer;\n",
              "    display: none;\n",
              "    fill: var(--fill-color);\n",
              "    height: 32px;\n",
              "    padding: 0;\n",
              "    width: 32px;\n",
              "  }\n",
              "\n",
              "  .colab-df-quickchart:hover {\n",
              "    background-color: var(--hover-bg-color);\n",
              "    box-shadow: 0 1px 2px rgba(60, 64, 67, 0.3), 0 1px 3px 1px rgba(60, 64, 67, 0.15);\n",
              "    fill: var(--button-hover-fill-color);\n",
              "  }\n",
              "\n",
              "  .colab-df-quickchart-complete:disabled,\n",
              "  .colab-df-quickchart-complete:disabled:hover {\n",
              "    background-color: var(--disabled-bg-color);\n",
              "    fill: var(--disabled-fill-color);\n",
              "    box-shadow: none;\n",
              "  }\n",
              "\n",
              "  .colab-df-spinner {\n",
              "    border: 2px solid var(--fill-color);\n",
              "    border-color: transparent;\n",
              "    border-bottom-color: var(--fill-color);\n",
              "    animation:\n",
              "      spin 1s steps(1) infinite;\n",
              "  }\n",
              "\n",
              "  @keyframes spin {\n",
              "    0% {\n",
              "      border-color: transparent;\n",
              "      border-bottom-color: var(--fill-color);\n",
              "      border-left-color: var(--fill-color);\n",
              "    }\n",
              "    20% {\n",
              "      border-color: transparent;\n",
              "      border-left-color: var(--fill-color);\n",
              "      border-top-color: var(--fill-color);\n",
              "    }\n",
              "    30% {\n",
              "      border-color: transparent;\n",
              "      border-left-color: var(--fill-color);\n",
              "      border-top-color: var(--fill-color);\n",
              "      border-right-color: var(--fill-color);\n",
              "    }\n",
              "    40% {\n",
              "      border-color: transparent;\n",
              "      border-right-color: var(--fill-color);\n",
              "      border-top-color: var(--fill-color);\n",
              "    }\n",
              "    60% {\n",
              "      border-color: transparent;\n",
              "      border-right-color: var(--fill-color);\n",
              "    }\n",
              "    80% {\n",
              "      border-color: transparent;\n",
              "      border-right-color: var(--fill-color);\n",
              "      border-bottom-color: var(--fill-color);\n",
              "    }\n",
              "    90% {\n",
              "      border-color: transparent;\n",
              "      border-bottom-color: var(--fill-color);\n",
              "    }\n",
              "  }\n",
              "</style>\n",
              "\n",
              "  <script>\n",
              "    async function quickchart(key) {\n",
              "      const quickchartButtonEl =\n",
              "        document.querySelector('#' + key + ' button');\n",
              "      quickchartButtonEl.disabled = true;  // To prevent multiple clicks.\n",
              "      quickchartButtonEl.classList.add('colab-df-spinner');\n",
              "      try {\n",
              "        const charts = await google.colab.kernel.invokeFunction(\n",
              "            'suggestCharts', [key], {});\n",
              "      } catch (error) {\n",
              "        console.error('Error during call to suggestCharts:', error);\n",
              "      }\n",
              "      quickchartButtonEl.classList.remove('colab-df-spinner');\n",
              "      quickchartButtonEl.classList.add('colab-df-quickchart-complete');\n",
              "    }\n",
              "    (() => {\n",
              "      let quickchartButtonEl =\n",
              "        document.querySelector('#df-1991ee10-c66c-4381-8df0-3918a255c664 button');\n",
              "      quickchartButtonEl.style.display =\n",
              "        google.colab.kernel.accessAllowed ? 'block' : 'none';\n",
              "    })();\n",
              "  </script>\n",
              "</div>\n",
              "\n",
              "  <div id=\"id_e713dee9-f29a-449e-9fa4-4edfef73621e\">\n",
              "    <style>\n",
              "      .colab-df-generate {\n",
              "        background-color: #E8F0FE;\n",
              "        border: none;\n",
              "        border-radius: 50%;\n",
              "        cursor: pointer;\n",
              "        display: none;\n",
              "        fill: #1967D2;\n",
              "        height: 32px;\n",
              "        padding: 0 0 0 0;\n",
              "        width: 32px;\n",
              "      }\n",
              "\n",
              "      .colab-df-generate:hover {\n",
              "        background-color: #E2EBFA;\n",
              "        box-shadow: 0px 1px 2px rgba(60, 64, 67, 0.3), 0px 1px 3px 1px rgba(60, 64, 67, 0.15);\n",
              "        fill: #174EA6;\n",
              "      }\n",
              "\n",
              "      [theme=dark] .colab-df-generate {\n",
              "        background-color: #3B4455;\n",
              "        fill: #D2E3FC;\n",
              "      }\n",
              "\n",
              "      [theme=dark] .colab-df-generate:hover {\n",
              "        background-color: #434B5C;\n",
              "        box-shadow: 0px 1px 3px 1px rgba(0, 0, 0, 0.15);\n",
              "        filter: drop-shadow(0px 1px 2px rgba(0, 0, 0, 0.3));\n",
              "        fill: #FFFFFF;\n",
              "      }\n",
              "    </style>\n",
              "    <button class=\"colab-df-generate\" onclick=\"generateWithVariable('categories')\"\n",
              "            title=\"Generate code using this dataframe.\"\n",
              "            style=\"display:none;\">\n",
              "\n",
              "  <svg xmlns=\"http://www.w3.org/2000/svg\" height=\"24px\"viewBox=\"0 0 24 24\"\n",
              "       width=\"24px\">\n",
              "    <path d=\"M7,19H8.4L18.45,9,17,7.55,7,17.6ZM5,21V16.75L18.45,3.32a2,2,0,0,1,2.83,0l1.4,1.43a1.91,1.91,0,0,1,.58,1.4,1.91,1.91,0,0,1-.58,1.4L9.25,21ZM18.45,9,17,7.55Zm-12,3A5.31,5.31,0,0,0,4.9,8.1,5.31,5.31,0,0,0,1,6.5,5.31,5.31,0,0,0,4.9,4.9,5.31,5.31,0,0,0,6.5,1,5.31,5.31,0,0,0,8.1,4.9,5.31,5.31,0,0,0,12,6.5,5.46,5.46,0,0,0,6.5,12Z\"/>\n",
              "  </svg>\n",
              "    </button>\n",
              "    <script>\n",
              "      (() => {\n",
              "      const buttonEl =\n",
              "        document.querySelector('#id_e713dee9-f29a-449e-9fa4-4edfef73621e button.colab-df-generate');\n",
              "      buttonEl.style.display =\n",
              "        google.colab.kernel.accessAllowed ? 'block' : 'none';\n",
              "\n",
              "      buttonEl.onclick = () => {\n",
              "        google.colab.notebook.generateWithVariable('categories');\n",
              "      }\n",
              "      })();\n",
              "    </script>\n",
              "  </div>\n",
              "\n",
              "    </div>\n",
              "  </div>\n"
            ],
            "application/vnd.google.colaboratory.intrinsic+json": {
              "type": "dataframe",
              "variable_name": "categories",
              "summary": "{\n  \"name\": \"categories\",\n  \"rows\": 12,\n  \"fields\": [\n    {\n      \"column\": \"intent\",\n      \"properties\": {\n        \"dtype\": \"string\",\n        \"num_unique_values\": 12,\n        \"samples\": [\n          \"Search Creative Work\",\n          \"Rate Book\",\n          \"Add To Playlist\"\n        ],\n        \"semantic_type\": \"\",\n        \"description\": \"\"\n      }\n    },\n    {\n      \"column\": \"encoded_cat\",\n      \"properties\": {\n        \"dtype\": \"int8\",\n        \"num_unique_values\": 12,\n        \"samples\": [\n          10,\n          9,\n          0\n        ],\n        \"semantic_type\": \"\",\n        \"description\": \"\"\n      }\n    }\n  ]\n}"
            }
          },
          "metadata": {},
          "execution_count": 48
        }
      ]
    },
    {
      "cell_type": "markdown",
      "source": [
        "## Evaluate on Test Dataset"
      ],
      "metadata": {
        "id": "yg5oW3L4zELb"
      }
    },
    {
      "cell_type": "code",
      "source": [
        "import numpy as np\n",
        "from sklearn.metrics import accuracy_score, precision_score, recall_score\n",
        "\n",
        "# predict on the test dataset\n",
        "predictions = model_fine_tuned.predict(test_dataset)\n",
        "\n",
        "logits = predictions.logits\n",
        "\n",
        "predicted_labels = np.argmax(logits, axis=1)\n",
        "\n",
        "# calculate metrics\n",
        "accuracy = accuracy_score(test_labels, predicted_labels)\n",
        "precision = precision_score(test_labels, predicted_labels, average='macro')\n",
        "recall = recall_score(test_labels, predicted_labels, average='macro')\n",
        "\n",
        "print(f\"Accuracy: {accuracy}\")\n",
        "print(f\"Precision: {precision}\")\n",
        "print(f\"Recall: {recall}\")"
      ],
      "metadata": {
        "colab": {
          "base_uri": "https://localhost:8080/"
        },
        "id": "4ftWd9qy4eyA",
        "outputId": "5739d6b8-9802-4dca-c4fe-875bd4797a75"
      },
      "execution_count": 62,
      "outputs": [
        {
          "output_type": "stream",
          "name": "stdout",
          "text": [
            "1813/1813 [==============================] - 43s 23ms/step\n",
            "Accuracy: 0.9889685603971319\n",
            "Precision: 0.9892468103260361\n",
            "Recall: 0.9892559646079316\n"
          ]
        }
      ]
    },
    {
      "cell_type": "markdown",
      "source": [
        "Yes! This looks great!  Let's Deploy!"
      ],
      "metadata": {
        "id": "VGazaV9F8ybP"
      }
    },
    {
      "cell_type": "markdown",
      "source": [
        "# Test On Gradio"
      ],
      "metadata": {
        "id": "gQJ-yyRE9B4T"
      }
    },
    {
      "cell_type": "code",
      "source": [
        "!pip -qqq install gradio jinja2"
      ],
      "metadata": {
        "colab": {
          "base_uri": "https://localhost:8080/"
        },
        "collapsed": true,
        "id": "RSG2i_u85Wo7",
        "outputId": "fc3253ef-0ea4-4c97-9c57-95afa16187e8"
      },
      "execution_count": 63,
      "outputs": [
        {
          "output_type": "stream",
          "name": "stdout",
          "text": [
            "\u001b[2K     \u001b[90m━━━━━━━━━━━━━━━━━━━━━━━━━━━━━━━━━━━━━━━━\u001b[0m \u001b[32m50.4/50.4 kB\u001b[0m \u001b[31m4.1 MB/s\u001b[0m eta \u001b[36m0:00:00\u001b[0m\n",
            "\u001b[2K   \u001b[90m━━━━━━━━━━━━━━━━━━━━━━━━━━━━━━━━━━━━━━━━\u001b[0m \u001b[32m12.5/12.5 MB\u001b[0m \u001b[31m114.9 MB/s\u001b[0m eta \u001b[36m0:00:00\u001b[0m\n",
            "\u001b[2K   \u001b[90m━━━━━━━━━━━━━━━━━━━━━━━━━━━━━━━━━━━━━━━━\u001b[0m \u001b[32m318.6/318.6 kB\u001b[0m \u001b[31m26.0 MB/s\u001b[0m eta \u001b[36m0:00:00\u001b[0m\n",
            "\u001b[2K   \u001b[90m━━━━━━━━━━━━━━━━━━━━━━━━━━━━━━━━━━━━━━━━\u001b[0m \u001b[32m75.6/75.6 kB\u001b[0m \u001b[31m7.6 MB/s\u001b[0m eta \u001b[36m0:00:00\u001b[0m\n",
            "\u001b[2K   \u001b[90m━━━━━━━━━━━━━━━━━━━━━━━━━━━━━━━━━━━━━━━━\u001b[0m \u001b[32m77.9/77.9 kB\u001b[0m \u001b[31m7.5 MB/s\u001b[0m eta \u001b[36m0:00:00\u001b[0m\n",
            "\u001b[2K   \u001b[90m━━━━━━━━━━━━━━━━━━━━━━━━━━━━━━━━━━━━━━━━\u001b[0m \u001b[32m141.1/141.1 kB\u001b[0m \u001b[31m14.1 MB/s\u001b[0m eta \u001b[36m0:00:00\u001b[0m\n",
            "\u001b[2K   \u001b[90m━━━━━━━━━━━━━━━━━━━━━━━━━━━━━━━━━━━━━━━━\u001b[0m \u001b[32m10.2/10.2 MB\u001b[0m \u001b[31m122.6 MB/s\u001b[0m eta \u001b[36m0:00:00\u001b[0m\n",
            "\u001b[2K   \u001b[90m━━━━━━━━━━━━━━━━━━━━━━━━━━━━━━━━━━━━━━━━\u001b[0m \u001b[32m62.8/62.8 kB\u001b[0m \u001b[31m5.9 MB/s\u001b[0m eta \u001b[36m0:00:00\u001b[0m\n",
            "\u001b[2K   \u001b[90m━━━━━━━━━━━━━━━━━━━━━━━━━━━━━━━━━━━━━━━━\u001b[0m \u001b[32m93.1/93.1 kB\u001b[0m \u001b[31m9.2 MB/s\u001b[0m eta \u001b[36m0:00:00\u001b[0m\n",
            "\u001b[2K   \u001b[90m━━━━━━━━━━━━━━━━━━━━━━━━━━━━━━━━━━━━━━━━\u001b[0m \u001b[32m58.3/58.3 kB\u001b[0m \u001b[31m5.4 MB/s\u001b[0m eta \u001b[36m0:00:00\u001b[0m\n",
            "\u001b[2K   \u001b[90m━━━━━━━━━━━━━━━━━━━━━━━━━━━━━━━━━━━━━━━━\u001b[0m \u001b[32m71.9/71.9 kB\u001b[0m \u001b[31m7.2 MB/s\u001b[0m eta \u001b[36m0:00:00\u001b[0m\n",
            "\u001b[2K   \u001b[90m━━━━━━━━━━━━━━━━━━━━━━━━━━━━━━━━━━━━━━━━\u001b[0m \u001b[32m130.2/130.2 kB\u001b[0m \u001b[31m12.9 MB/s\u001b[0m eta \u001b[36m0:00:00\u001b[0m\n",
            "\u001b[?25h"
          ]
        }
      ]
    },
    {
      "cell_type": "code",
      "source": [
        "df_balanced.head()"
      ],
      "metadata": {
        "colab": {
          "base_uri": "https://localhost:8080/",
          "height": 206
        },
        "id": "ZhQHHl_Z-VHE",
        "outputId": "ca0d540a-939f-487e-f3d6-f96010c82111"
      },
      "execution_count": 66,
      "outputs": [
        {
          "output_type": "execute_result",
          "data": {
            "text/plain": [
              "                                                text        intent  count  \\\n",
              "0                             play some gospel music    Play Music      4   \n",
              "1                                    book a meeting   Book Meeting      3   \n",
              "2                                             indeed   Affirmation      1   \n",
              "3  play track ai se eu te pego on google music fr...    Play Music     13   \n",
              "4                                    book a meeting   Book Meeting      3   \n",
              "\n",
              "   encoded_cat  \n",
              "0            8  \n",
              "1            2  \n",
              "2            1  \n",
              "3            8  \n",
              "4            2  "
            ],
            "text/html": [
              "\n",
              "  <div id=\"df-34a9270e-ed10-444b-ab7d-77a9c8458492\" class=\"colab-df-container\">\n",
              "    <div>\n",
              "<style scoped>\n",
              "    .dataframe tbody tr th:only-of-type {\n",
              "        vertical-align: middle;\n",
              "    }\n",
              "\n",
              "    .dataframe tbody tr th {\n",
              "        vertical-align: top;\n",
              "    }\n",
              "\n",
              "    .dataframe thead th {\n",
              "        text-align: right;\n",
              "    }\n",
              "</style>\n",
              "<table border=\"1\" class=\"dataframe\">\n",
              "  <thead>\n",
              "    <tr style=\"text-align: right;\">\n",
              "      <th></th>\n",
              "      <th>text</th>\n",
              "      <th>intent</th>\n",
              "      <th>count</th>\n",
              "      <th>encoded_cat</th>\n",
              "    </tr>\n",
              "  </thead>\n",
              "  <tbody>\n",
              "    <tr>\n",
              "      <th>0</th>\n",
              "      <td>play some gospel music</td>\n",
              "      <td>Play Music</td>\n",
              "      <td>4</td>\n",
              "      <td>8</td>\n",
              "    </tr>\n",
              "    <tr>\n",
              "      <th>1</th>\n",
              "      <td>book a meeting</td>\n",
              "      <td>Book Meeting</td>\n",
              "      <td>3</td>\n",
              "      <td>2</td>\n",
              "    </tr>\n",
              "    <tr>\n",
              "      <th>2</th>\n",
              "      <td>indeed</td>\n",
              "      <td>Affirmation</td>\n",
              "      <td>1</td>\n",
              "      <td>1</td>\n",
              "    </tr>\n",
              "    <tr>\n",
              "      <th>3</th>\n",
              "      <td>play track ai se eu te pego on google music fr...</td>\n",
              "      <td>Play Music</td>\n",
              "      <td>13</td>\n",
              "      <td>8</td>\n",
              "    </tr>\n",
              "    <tr>\n",
              "      <th>4</th>\n",
              "      <td>book a meeting</td>\n",
              "      <td>Book Meeting</td>\n",
              "      <td>3</td>\n",
              "      <td>2</td>\n",
              "    </tr>\n",
              "  </tbody>\n",
              "</table>\n",
              "</div>\n",
              "    <div class=\"colab-df-buttons\">\n",
              "\n",
              "  <div class=\"colab-df-container\">\n",
              "    <button class=\"colab-df-convert\" onclick=\"convertToInteractive('df-34a9270e-ed10-444b-ab7d-77a9c8458492')\"\n",
              "            title=\"Convert this dataframe to an interactive table.\"\n",
              "            style=\"display:none;\">\n",
              "\n",
              "  <svg xmlns=\"http://www.w3.org/2000/svg\" height=\"24px\" viewBox=\"0 -960 960 960\">\n",
              "    <path d=\"M120-120v-720h720v720H120Zm60-500h600v-160H180v160Zm220 220h160v-160H400v160Zm0 220h160v-160H400v160ZM180-400h160v-160H180v160Zm440 0h160v-160H620v160ZM180-180h160v-160H180v160Zm440 0h160v-160H620v160Z\"/>\n",
              "  </svg>\n",
              "    </button>\n",
              "\n",
              "  <style>\n",
              "    .colab-df-container {\n",
              "      display:flex;\n",
              "      gap: 12px;\n",
              "    }\n",
              "\n",
              "    .colab-df-convert {\n",
              "      background-color: #E8F0FE;\n",
              "      border: none;\n",
              "      border-radius: 50%;\n",
              "      cursor: pointer;\n",
              "      display: none;\n",
              "      fill: #1967D2;\n",
              "      height: 32px;\n",
              "      padding: 0 0 0 0;\n",
              "      width: 32px;\n",
              "    }\n",
              "\n",
              "    .colab-df-convert:hover {\n",
              "      background-color: #E2EBFA;\n",
              "      box-shadow: 0px 1px 2px rgba(60, 64, 67, 0.3), 0px 1px 3px 1px rgba(60, 64, 67, 0.15);\n",
              "      fill: #174EA6;\n",
              "    }\n",
              "\n",
              "    .colab-df-buttons div {\n",
              "      margin-bottom: 4px;\n",
              "    }\n",
              "\n",
              "    [theme=dark] .colab-df-convert {\n",
              "      background-color: #3B4455;\n",
              "      fill: #D2E3FC;\n",
              "    }\n",
              "\n",
              "    [theme=dark] .colab-df-convert:hover {\n",
              "      background-color: #434B5C;\n",
              "      box-shadow: 0px 1px 3px 1px rgba(0, 0, 0, 0.15);\n",
              "      filter: drop-shadow(0px 1px 2px rgba(0, 0, 0, 0.3));\n",
              "      fill: #FFFFFF;\n",
              "    }\n",
              "  </style>\n",
              "\n",
              "    <script>\n",
              "      const buttonEl =\n",
              "        document.querySelector('#df-34a9270e-ed10-444b-ab7d-77a9c8458492 button.colab-df-convert');\n",
              "      buttonEl.style.display =\n",
              "        google.colab.kernel.accessAllowed ? 'block' : 'none';\n",
              "\n",
              "      async function convertToInteractive(key) {\n",
              "        const element = document.querySelector('#df-34a9270e-ed10-444b-ab7d-77a9c8458492');\n",
              "        const dataTable =\n",
              "          await google.colab.kernel.invokeFunction('convertToInteractive',\n",
              "                                                    [key], {});\n",
              "        if (!dataTable) return;\n",
              "\n",
              "        const docLinkHtml = 'Like what you see? Visit the ' +\n",
              "          '<a target=\"_blank\" href=https://colab.research.google.com/notebooks/data_table.ipynb>data table notebook</a>'\n",
              "          + ' to learn more about interactive tables.';\n",
              "        element.innerHTML = '';\n",
              "        dataTable['output_type'] = 'display_data';\n",
              "        await google.colab.output.renderOutput(dataTable, element);\n",
              "        const docLink = document.createElement('div');\n",
              "        docLink.innerHTML = docLinkHtml;\n",
              "        element.appendChild(docLink);\n",
              "      }\n",
              "    </script>\n",
              "  </div>\n",
              "\n",
              "\n",
              "<div id=\"df-24bb9406-3bc4-4a99-883f-995fccd7ff30\">\n",
              "  <button class=\"colab-df-quickchart\" onclick=\"quickchart('df-24bb9406-3bc4-4a99-883f-995fccd7ff30')\"\n",
              "            title=\"Suggest charts\"\n",
              "            style=\"display:none;\">\n",
              "\n",
              "<svg xmlns=\"http://www.w3.org/2000/svg\" height=\"24px\"viewBox=\"0 0 24 24\"\n",
              "     width=\"24px\">\n",
              "    <g>\n",
              "        <path d=\"M19 3H5c-1.1 0-2 .9-2 2v14c0 1.1.9 2 2 2h14c1.1 0 2-.9 2-2V5c0-1.1-.9-2-2-2zM9 17H7v-7h2v7zm4 0h-2V7h2v10zm4 0h-2v-4h2v4z\"/>\n",
              "    </g>\n",
              "</svg>\n",
              "  </button>\n",
              "\n",
              "<style>\n",
              "  .colab-df-quickchart {\n",
              "      --bg-color: #E8F0FE;\n",
              "      --fill-color: #1967D2;\n",
              "      --hover-bg-color: #E2EBFA;\n",
              "      --hover-fill-color: #174EA6;\n",
              "      --disabled-fill-color: #AAA;\n",
              "      --disabled-bg-color: #DDD;\n",
              "  }\n",
              "\n",
              "  [theme=dark] .colab-df-quickchart {\n",
              "      --bg-color: #3B4455;\n",
              "      --fill-color: #D2E3FC;\n",
              "      --hover-bg-color: #434B5C;\n",
              "      --hover-fill-color: #FFFFFF;\n",
              "      --disabled-bg-color: #3B4455;\n",
              "      --disabled-fill-color: #666;\n",
              "  }\n",
              "\n",
              "  .colab-df-quickchart {\n",
              "    background-color: var(--bg-color);\n",
              "    border: none;\n",
              "    border-radius: 50%;\n",
              "    cursor: pointer;\n",
              "    display: none;\n",
              "    fill: var(--fill-color);\n",
              "    height: 32px;\n",
              "    padding: 0;\n",
              "    width: 32px;\n",
              "  }\n",
              "\n",
              "  .colab-df-quickchart:hover {\n",
              "    background-color: var(--hover-bg-color);\n",
              "    box-shadow: 0 1px 2px rgba(60, 64, 67, 0.3), 0 1px 3px 1px rgba(60, 64, 67, 0.15);\n",
              "    fill: var(--button-hover-fill-color);\n",
              "  }\n",
              "\n",
              "  .colab-df-quickchart-complete:disabled,\n",
              "  .colab-df-quickchart-complete:disabled:hover {\n",
              "    background-color: var(--disabled-bg-color);\n",
              "    fill: var(--disabled-fill-color);\n",
              "    box-shadow: none;\n",
              "  }\n",
              "\n",
              "  .colab-df-spinner {\n",
              "    border: 2px solid var(--fill-color);\n",
              "    border-color: transparent;\n",
              "    border-bottom-color: var(--fill-color);\n",
              "    animation:\n",
              "      spin 1s steps(1) infinite;\n",
              "  }\n",
              "\n",
              "  @keyframes spin {\n",
              "    0% {\n",
              "      border-color: transparent;\n",
              "      border-bottom-color: var(--fill-color);\n",
              "      border-left-color: var(--fill-color);\n",
              "    }\n",
              "    20% {\n",
              "      border-color: transparent;\n",
              "      border-left-color: var(--fill-color);\n",
              "      border-top-color: var(--fill-color);\n",
              "    }\n",
              "    30% {\n",
              "      border-color: transparent;\n",
              "      border-left-color: var(--fill-color);\n",
              "      border-top-color: var(--fill-color);\n",
              "      border-right-color: var(--fill-color);\n",
              "    }\n",
              "    40% {\n",
              "      border-color: transparent;\n",
              "      border-right-color: var(--fill-color);\n",
              "      border-top-color: var(--fill-color);\n",
              "    }\n",
              "    60% {\n",
              "      border-color: transparent;\n",
              "      border-right-color: var(--fill-color);\n",
              "    }\n",
              "    80% {\n",
              "      border-color: transparent;\n",
              "      border-right-color: var(--fill-color);\n",
              "      border-bottom-color: var(--fill-color);\n",
              "    }\n",
              "    90% {\n",
              "      border-color: transparent;\n",
              "      border-bottom-color: var(--fill-color);\n",
              "    }\n",
              "  }\n",
              "</style>\n",
              "\n",
              "  <script>\n",
              "    async function quickchart(key) {\n",
              "      const quickchartButtonEl =\n",
              "        document.querySelector('#' + key + ' button');\n",
              "      quickchartButtonEl.disabled = true;  // To prevent multiple clicks.\n",
              "      quickchartButtonEl.classList.add('colab-df-spinner');\n",
              "      try {\n",
              "        const charts = await google.colab.kernel.invokeFunction(\n",
              "            'suggestCharts', [key], {});\n",
              "      } catch (error) {\n",
              "        console.error('Error during call to suggestCharts:', error);\n",
              "      }\n",
              "      quickchartButtonEl.classList.remove('colab-df-spinner');\n",
              "      quickchartButtonEl.classList.add('colab-df-quickchart-complete');\n",
              "    }\n",
              "    (() => {\n",
              "      let quickchartButtonEl =\n",
              "        document.querySelector('#df-24bb9406-3bc4-4a99-883f-995fccd7ff30 button');\n",
              "      quickchartButtonEl.style.display =\n",
              "        google.colab.kernel.accessAllowed ? 'block' : 'none';\n",
              "    })();\n",
              "  </script>\n",
              "</div>\n",
              "\n",
              "    </div>\n",
              "  </div>\n"
            ],
            "application/vnd.google.colaboratory.intrinsic+json": {
              "type": "dataframe",
              "variable_name": "df_balanced",
              "summary": "{\n  \"name\": \"df_balanced\",\n  \"rows\": 22654,\n  \"fields\": [\n    {\n      \"column\": \"text\",\n      \"properties\": {\n        \"dtype\": \"string\",\n        \"num_unique_values\": 12887,\n        \"samples\": [\n          \"add back at the velvet lounge to my cleaning playlist\",\n          \"i want to watch animated movies at showcase cinemas\",\n          \"get me a highly rated restaurant in nigeria\"\n        ],\n        \"semantic_type\": \"\",\n        \"description\": \"\"\n      }\n    },\n    {\n      \"column\": \"intent\",\n      \"properties\": {\n        \"dtype\": \"category\",\n        \"num_unique_values\": 12,\n        \"samples\": [\n          \"Get Weather\",\n          \"Search Creative Work\",\n          \"Play Music\"\n        ],\n        \"semantic_type\": \"\",\n        \"description\": \"\"\n      }\n    },\n    {\n      \"column\": \"count\",\n      \"properties\": {\n        \"dtype\": \"number\",\n        \"std\": 4,\n        \"min\": 1,\n        \"max\": 35,\n        \"num_unique_values\": 28,\n        \"samples\": [\n          7,\n          25,\n          11\n        ],\n        \"semantic_type\": \"\",\n        \"description\": \"\"\n      }\n    },\n    {\n      \"column\": \"encoded_cat\",\n      \"properties\": {\n        \"dtype\": \"int8\",\n        \"num_unique_values\": 12,\n        \"samples\": [\n          6,\n          10,\n          8\n        ],\n        \"semantic_type\": \"\",\n        \"description\": \"\"\n      }\n    }\n  ]\n}"
            }
          },
          "metadata": {},
          "execution_count": 66
        }
      ]
    },
    {
      "cell_type": "code",
      "source": [
        "df_sorted = df_balanced.sort_values(by='encoded_cat')\n",
        "\n",
        "unique_intents_sorted = df_sorted['intent'].unique().tolist()\n",
        "\n",
        "print(len(unique_intents_sorted), unique_intents_sorted)"
      ],
      "metadata": {
        "colab": {
          "base_uri": "https://localhost:8080/"
        },
        "id": "ErOO7AfM-P70",
        "outputId": "948cfede-f98f-4963-d495-865285e75625"
      },
      "execution_count": 69,
      "outputs": [
        {
          "output_type": "stream",
          "name": "stdout",
          "text": [
            "12 ['Add To Playlist', 'Affirmation', 'Book Meeting', 'Book Restaurant', 'Cancellation', 'Excitment', 'Get Weather', 'Greetings', 'Play Music', 'Rate Book', 'Search Creative Work', 'Search Screening Event']\n"
          ]
        }
      ]
    },
    {
      "cell_type": "code",
      "source": [
        "from timeit import default_timer as timer\n",
        "\n",
        "categories = ['Add To Playlist', 'Affirmation', 'Book Meeting', 'Book Restaurant',\n",
        "              'Cancellation', 'Excitment', 'Get Weather', 'Greetings', 'Play Music',\n",
        "              'Rate Book', 'Search Creative Work', 'Search Screening Event']\n",
        "\n",
        "def predict(command:str):\n",
        "  start_time = timer()\n",
        "\n",
        "  predict_input = tokenizer_fine_tuned.encode(command, truncation = True,\n",
        "                                              padding = True, return_tensors = \"tf\")\n",
        "\n",
        "  output = model_fine_tuned(predict_input)[0]\n",
        "\n",
        "  prediction_value = tf.argmax(output, axis=1).numpy()[0]\n",
        "\n",
        "  pred_time = round(timer() - start_time, 4)\n",
        "\n",
        "  return categories[prediction_value], pred_time"
      ],
      "metadata": {
        "id": "9_ke3Jps9M_D"
      },
      "execution_count": 70,
      "outputs": []
    },
    {
      "cell_type": "code",
      "source": [
        "test_cmd = \"Book reservations at Burger King.\"\n",
        "predict(test_cmd)"
      ],
      "metadata": {
        "colab": {
          "base_uri": "https://localhost:8080/"
        },
        "id": "8-evYl1R9gFb",
        "outputId": "2ad58ebb-7bf6-493e-f792-39a55b5a1a3d"
      },
      "execution_count": 71,
      "outputs": [
        {
          "output_type": "execute_result",
          "data": {
            "text/plain": [
              "('Book Restaurant', 0.1236)"
            ]
          },
          "metadata": {},
          "execution_count": 71
        }
      ]
    },
    {
      "cell_type": "code",
      "source": [
        "df.sample(n=10)"
      ],
      "metadata": {
        "colab": {
          "base_uri": "https://localhost:8080/",
          "height": 363
        },
        "id": "44I8dggwA6-1",
        "outputId": "40547254-8e64-48e9-c215-283f78f7314c"
      },
      "execution_count": 79,
      "outputs": [
        {
          "output_type": "execute_result",
          "data": {
            "text/plain": [
              "                                                    text  \\\n",
              "6384                                play music from 2007   \n",
              "10764  i need a place that serves smelt for a party o...   \n",
              "2495                rate the current novel 5 of 6 points   \n",
              "1270              add five stars to my current chronicle   \n",
              "8177               what is the forecast for here and now   \n",
              "3221          what films are showing at century theatres   \n",
              "13489                                        cancel this   \n",
              "5168          play a martyn bennett from 1957 on pandora   \n",
              "6699                  book a table for 1 at a restaurant   \n",
              "7109                              rate this textbook a 5   \n",
              "\n",
              "                       intent  count  \n",
              "6384               Play Music      4  \n",
              "10764         Book Restaurant     15  \n",
              "2495                Rate Book      8  \n",
              "1270                Rate Book      7  \n",
              "8177              Get Weather      8  \n",
              "3221   Search Screening Event      7  \n",
              "13489            Cancellation      2  \n",
              "5168               Play Music      8  \n",
              "6699          Book Restaurant      8  \n",
              "7109                Rate Book      5  "
            ],
            "text/html": [
              "\n",
              "  <div id=\"df-9884a9db-e821-4aa1-a51a-c881bd997b8d\" class=\"colab-df-container\">\n",
              "    <div>\n",
              "<style scoped>\n",
              "    .dataframe tbody tr th:only-of-type {\n",
              "        vertical-align: middle;\n",
              "    }\n",
              "\n",
              "    .dataframe tbody tr th {\n",
              "        vertical-align: top;\n",
              "    }\n",
              "\n",
              "    .dataframe thead th {\n",
              "        text-align: right;\n",
              "    }\n",
              "</style>\n",
              "<table border=\"1\" class=\"dataframe\">\n",
              "  <thead>\n",
              "    <tr style=\"text-align: right;\">\n",
              "      <th></th>\n",
              "      <th>text</th>\n",
              "      <th>intent</th>\n",
              "      <th>count</th>\n",
              "    </tr>\n",
              "  </thead>\n",
              "  <tbody>\n",
              "    <tr>\n",
              "      <th>6384</th>\n",
              "      <td>play music from 2007</td>\n",
              "      <td>Play Music</td>\n",
              "      <td>4</td>\n",
              "    </tr>\n",
              "    <tr>\n",
              "      <th>10764</th>\n",
              "      <td>i need a place that serves smelt for a party o...</td>\n",
              "      <td>Book Restaurant</td>\n",
              "      <td>15</td>\n",
              "    </tr>\n",
              "    <tr>\n",
              "      <th>2495</th>\n",
              "      <td>rate the current novel 5 of 6 points</td>\n",
              "      <td>Rate Book</td>\n",
              "      <td>8</td>\n",
              "    </tr>\n",
              "    <tr>\n",
              "      <th>1270</th>\n",
              "      <td>add five stars to my current chronicle</td>\n",
              "      <td>Rate Book</td>\n",
              "      <td>7</td>\n",
              "    </tr>\n",
              "    <tr>\n",
              "      <th>8177</th>\n",
              "      <td>what is the forecast for here and now</td>\n",
              "      <td>Get Weather</td>\n",
              "      <td>8</td>\n",
              "    </tr>\n",
              "    <tr>\n",
              "      <th>3221</th>\n",
              "      <td>what films are showing at century theatres</td>\n",
              "      <td>Search Screening Event</td>\n",
              "      <td>7</td>\n",
              "    </tr>\n",
              "    <tr>\n",
              "      <th>13489</th>\n",
              "      <td>cancel this</td>\n",
              "      <td>Cancellation</td>\n",
              "      <td>2</td>\n",
              "    </tr>\n",
              "    <tr>\n",
              "      <th>5168</th>\n",
              "      <td>play a martyn bennett from 1957 on pandora</td>\n",
              "      <td>Play Music</td>\n",
              "      <td>8</td>\n",
              "    </tr>\n",
              "    <tr>\n",
              "      <th>6699</th>\n",
              "      <td>book a table for 1 at a restaurant</td>\n",
              "      <td>Book Restaurant</td>\n",
              "      <td>8</td>\n",
              "    </tr>\n",
              "    <tr>\n",
              "      <th>7109</th>\n",
              "      <td>rate this textbook a 5</td>\n",
              "      <td>Rate Book</td>\n",
              "      <td>5</td>\n",
              "    </tr>\n",
              "  </tbody>\n",
              "</table>\n",
              "</div>\n",
              "    <div class=\"colab-df-buttons\">\n",
              "\n",
              "  <div class=\"colab-df-container\">\n",
              "    <button class=\"colab-df-convert\" onclick=\"convertToInteractive('df-9884a9db-e821-4aa1-a51a-c881bd997b8d')\"\n",
              "            title=\"Convert this dataframe to an interactive table.\"\n",
              "            style=\"display:none;\">\n",
              "\n",
              "  <svg xmlns=\"http://www.w3.org/2000/svg\" height=\"24px\" viewBox=\"0 -960 960 960\">\n",
              "    <path d=\"M120-120v-720h720v720H120Zm60-500h600v-160H180v160Zm220 220h160v-160H400v160Zm0 220h160v-160H400v160ZM180-400h160v-160H180v160Zm440 0h160v-160H620v160ZM180-180h160v-160H180v160Zm440 0h160v-160H620v160Z\"/>\n",
              "  </svg>\n",
              "    </button>\n",
              "\n",
              "  <style>\n",
              "    .colab-df-container {\n",
              "      display:flex;\n",
              "      gap: 12px;\n",
              "    }\n",
              "\n",
              "    .colab-df-convert {\n",
              "      background-color: #E8F0FE;\n",
              "      border: none;\n",
              "      border-radius: 50%;\n",
              "      cursor: pointer;\n",
              "      display: none;\n",
              "      fill: #1967D2;\n",
              "      height: 32px;\n",
              "      padding: 0 0 0 0;\n",
              "      width: 32px;\n",
              "    }\n",
              "\n",
              "    .colab-df-convert:hover {\n",
              "      background-color: #E2EBFA;\n",
              "      box-shadow: 0px 1px 2px rgba(60, 64, 67, 0.3), 0px 1px 3px 1px rgba(60, 64, 67, 0.15);\n",
              "      fill: #174EA6;\n",
              "    }\n",
              "\n",
              "    .colab-df-buttons div {\n",
              "      margin-bottom: 4px;\n",
              "    }\n",
              "\n",
              "    [theme=dark] .colab-df-convert {\n",
              "      background-color: #3B4455;\n",
              "      fill: #D2E3FC;\n",
              "    }\n",
              "\n",
              "    [theme=dark] .colab-df-convert:hover {\n",
              "      background-color: #434B5C;\n",
              "      box-shadow: 0px 1px 3px 1px rgba(0, 0, 0, 0.15);\n",
              "      filter: drop-shadow(0px 1px 2px rgba(0, 0, 0, 0.3));\n",
              "      fill: #FFFFFF;\n",
              "    }\n",
              "  </style>\n",
              "\n",
              "    <script>\n",
              "      const buttonEl =\n",
              "        document.querySelector('#df-9884a9db-e821-4aa1-a51a-c881bd997b8d button.colab-df-convert');\n",
              "      buttonEl.style.display =\n",
              "        google.colab.kernel.accessAllowed ? 'block' : 'none';\n",
              "\n",
              "      async function convertToInteractive(key) {\n",
              "        const element = document.querySelector('#df-9884a9db-e821-4aa1-a51a-c881bd997b8d');\n",
              "        const dataTable =\n",
              "          await google.colab.kernel.invokeFunction('convertToInteractive',\n",
              "                                                    [key], {});\n",
              "        if (!dataTable) return;\n",
              "\n",
              "        const docLinkHtml = 'Like what you see? Visit the ' +\n",
              "          '<a target=\"_blank\" href=https://colab.research.google.com/notebooks/data_table.ipynb>data table notebook</a>'\n",
              "          + ' to learn more about interactive tables.';\n",
              "        element.innerHTML = '';\n",
              "        dataTable['output_type'] = 'display_data';\n",
              "        await google.colab.output.renderOutput(dataTable, element);\n",
              "        const docLink = document.createElement('div');\n",
              "        docLink.innerHTML = docLinkHtml;\n",
              "        element.appendChild(docLink);\n",
              "      }\n",
              "    </script>\n",
              "  </div>\n",
              "\n",
              "\n",
              "<div id=\"df-ebbad7a3-e22c-4f4f-950d-2679f41f5ba8\">\n",
              "  <button class=\"colab-df-quickchart\" onclick=\"quickchart('df-ebbad7a3-e22c-4f4f-950d-2679f41f5ba8')\"\n",
              "            title=\"Suggest charts\"\n",
              "            style=\"display:none;\">\n",
              "\n",
              "<svg xmlns=\"http://www.w3.org/2000/svg\" height=\"24px\"viewBox=\"0 0 24 24\"\n",
              "     width=\"24px\">\n",
              "    <g>\n",
              "        <path d=\"M19 3H5c-1.1 0-2 .9-2 2v14c0 1.1.9 2 2 2h14c1.1 0 2-.9 2-2V5c0-1.1-.9-2-2-2zM9 17H7v-7h2v7zm4 0h-2V7h2v10zm4 0h-2v-4h2v4z\"/>\n",
              "    </g>\n",
              "</svg>\n",
              "  </button>\n",
              "\n",
              "<style>\n",
              "  .colab-df-quickchart {\n",
              "      --bg-color: #E8F0FE;\n",
              "      --fill-color: #1967D2;\n",
              "      --hover-bg-color: #E2EBFA;\n",
              "      --hover-fill-color: #174EA6;\n",
              "      --disabled-fill-color: #AAA;\n",
              "      --disabled-bg-color: #DDD;\n",
              "  }\n",
              "\n",
              "  [theme=dark] .colab-df-quickchart {\n",
              "      --bg-color: #3B4455;\n",
              "      --fill-color: #D2E3FC;\n",
              "      --hover-bg-color: #434B5C;\n",
              "      --hover-fill-color: #FFFFFF;\n",
              "      --disabled-bg-color: #3B4455;\n",
              "      --disabled-fill-color: #666;\n",
              "  }\n",
              "\n",
              "  .colab-df-quickchart {\n",
              "    background-color: var(--bg-color);\n",
              "    border: none;\n",
              "    border-radius: 50%;\n",
              "    cursor: pointer;\n",
              "    display: none;\n",
              "    fill: var(--fill-color);\n",
              "    height: 32px;\n",
              "    padding: 0;\n",
              "    width: 32px;\n",
              "  }\n",
              "\n",
              "  .colab-df-quickchart:hover {\n",
              "    background-color: var(--hover-bg-color);\n",
              "    box-shadow: 0 1px 2px rgba(60, 64, 67, 0.3), 0 1px 3px 1px rgba(60, 64, 67, 0.15);\n",
              "    fill: var(--button-hover-fill-color);\n",
              "  }\n",
              "\n",
              "  .colab-df-quickchart-complete:disabled,\n",
              "  .colab-df-quickchart-complete:disabled:hover {\n",
              "    background-color: var(--disabled-bg-color);\n",
              "    fill: var(--disabled-fill-color);\n",
              "    box-shadow: none;\n",
              "  }\n",
              "\n",
              "  .colab-df-spinner {\n",
              "    border: 2px solid var(--fill-color);\n",
              "    border-color: transparent;\n",
              "    border-bottom-color: var(--fill-color);\n",
              "    animation:\n",
              "      spin 1s steps(1) infinite;\n",
              "  }\n",
              "\n",
              "  @keyframes spin {\n",
              "    0% {\n",
              "      border-color: transparent;\n",
              "      border-bottom-color: var(--fill-color);\n",
              "      border-left-color: var(--fill-color);\n",
              "    }\n",
              "    20% {\n",
              "      border-color: transparent;\n",
              "      border-left-color: var(--fill-color);\n",
              "      border-top-color: var(--fill-color);\n",
              "    }\n",
              "    30% {\n",
              "      border-color: transparent;\n",
              "      border-left-color: var(--fill-color);\n",
              "      border-top-color: var(--fill-color);\n",
              "      border-right-color: var(--fill-color);\n",
              "    }\n",
              "    40% {\n",
              "      border-color: transparent;\n",
              "      border-right-color: var(--fill-color);\n",
              "      border-top-color: var(--fill-color);\n",
              "    }\n",
              "    60% {\n",
              "      border-color: transparent;\n",
              "      border-right-color: var(--fill-color);\n",
              "    }\n",
              "    80% {\n",
              "      border-color: transparent;\n",
              "      border-right-color: var(--fill-color);\n",
              "      border-bottom-color: var(--fill-color);\n",
              "    }\n",
              "    90% {\n",
              "      border-color: transparent;\n",
              "      border-bottom-color: var(--fill-color);\n",
              "    }\n",
              "  }\n",
              "</style>\n",
              "\n",
              "  <script>\n",
              "    async function quickchart(key) {\n",
              "      const quickchartButtonEl =\n",
              "        document.querySelector('#' + key + ' button');\n",
              "      quickchartButtonEl.disabled = true;  // To prevent multiple clicks.\n",
              "      quickchartButtonEl.classList.add('colab-df-spinner');\n",
              "      try {\n",
              "        const charts = await google.colab.kernel.invokeFunction(\n",
              "            'suggestCharts', [key], {});\n",
              "      } catch (error) {\n",
              "        console.error('Error during call to suggestCharts:', error);\n",
              "      }\n",
              "      quickchartButtonEl.classList.remove('colab-df-spinner');\n",
              "      quickchartButtonEl.classList.add('colab-df-quickchart-complete');\n",
              "    }\n",
              "    (() => {\n",
              "      let quickchartButtonEl =\n",
              "        document.querySelector('#df-ebbad7a3-e22c-4f4f-950d-2679f41f5ba8 button');\n",
              "      quickchartButtonEl.style.display =\n",
              "        google.colab.kernel.accessAllowed ? 'block' : 'none';\n",
              "    })();\n",
              "  </script>\n",
              "</div>\n",
              "\n",
              "    </div>\n",
              "  </div>\n"
            ],
            "application/vnd.google.colaboratory.intrinsic+json": {
              "type": "dataframe",
              "summary": "{\n  \"name\": \"df\",\n  \"rows\": 10,\n  \"fields\": [\n    {\n      \"column\": \"text\",\n      \"properties\": {\n        \"dtype\": \"string\",\n        \"num_unique_values\": 10,\n        \"samples\": [\n          \"book a table for 1 at a restaurant\",\n          \"i need a place that serves smelt for a party of 4  preferably a taverna\",\n          \"what films are showing at century theatres\"\n        ],\n        \"semantic_type\": \"\",\n        \"description\": \"\"\n      }\n    },\n    {\n      \"column\": \"intent\",\n      \"properties\": {\n        \"dtype\": \"string\",\n        \"num_unique_values\": 6,\n        \"samples\": [\n          \"Play Music\",\n          \"Book Restaurant\",\n          \"Cancellation\"\n        ],\n        \"semantic_type\": \"\",\n        \"description\": \"\"\n      }\n    },\n    {\n      \"column\": \"count\",\n      \"properties\": {\n        \"dtype\": \"number\",\n        \"std\": 3,\n        \"min\": 2,\n        \"max\": 15,\n        \"num_unique_values\": 6,\n        \"samples\": [\n          4,\n          15,\n          5\n        ],\n        \"semantic_type\": \"\",\n        \"description\": \"\"\n      }\n    }\n  ]\n}"
            }
          },
          "metadata": {},
          "execution_count": 79
        }
      ]
    },
    {
      "cell_type": "code",
      "source": [
        "import gradio as gr\n",
        "\n",
        "title = \"My Assistant\"\n",
        "description = \"A fine-tuned distilled BERT model designed to predict the intent of user commands.\"\n",
        "article = \"Created at [My Assistant](https://github.com/AishaEvering/My_Assistant).\"\n",
        "examples=[\"What is the forecast for here and now?\", \"What films are showing at century theatres?\", \"Book a table for 1 at a Burger King.\"]\n",
        "\n",
        "interface = gr.Interface(fn=predict,\n",
        "                         inputs=gr.Textbox(lines=2, placeholder=\"Give command here.\"),\n",
        "                         outputs=['text', gr.Number(label=\"Prediction time (seconds)\")],\n",
        "                         title=title,\n",
        "                         examples=examples,\n",
        "                         description=description,\n",
        "                         article=article)"
      ],
      "metadata": {
        "id": "6fvSaiHnAAbU"
      },
      "execution_count": 81,
      "outputs": []
    },
    {
      "cell_type": "code",
      "source": [
        "interface.launch(share=True)"
      ],
      "metadata": {
        "colab": {
          "base_uri": "https://localhost:8080/",
          "height": 611
        },
        "id": "uo63WG8WCX0t",
        "outputId": "cc5cdef7-5e25-4f77-bd7f-4c2659599ae1"
      },
      "execution_count": 82,
      "outputs": [
        {
          "output_type": "stream",
          "name": "stdout",
          "text": [
            "Colab notebook detected. To show errors in colab notebook, set debug=True in launch()\n",
            "Running on public URL: https://d6431dfc021d7df402.gradio.live\n",
            "\n",
            "This share link expires in 72 hours. For free permanent hosting and GPU upgrades, run `gradio deploy` from Terminal to deploy to Spaces (https://huggingface.co/spaces)\n"
          ]
        },
        {
          "output_type": "display_data",
          "data": {
            "text/plain": [
              "<IPython.core.display.HTML object>"
            ],
            "text/html": [
              "<div><iframe src=\"https://d6431dfc021d7df402.gradio.live\" width=\"100%\" height=\"500\" allow=\"autoplay; camera; microphone; clipboard-read; clipboard-write;\" frameborder=\"0\" allowfullscreen></iframe></div>"
            ]
          },
          "metadata": {}
        },
        {
          "output_type": "execute_result",
          "data": {
            "text/plain": []
          },
          "metadata": {},
          "execution_count": 82
        }
      ]
    },
    {
      "cell_type": "markdown",
      "source": [
        "# Deploy to Hugging Face"
      ],
      "metadata": {
        "id": "9UKarVomCysX"
      }
    },
    {
      "cell_type": "code",
      "source": [
        "import shutil\n",
        "from pathlib import Path\n",
        "\n",
        "demo_path = Path('demo/my_assistant/')\n",
        "\n",
        "if demo_path.exists():\n",
        "  shutil.rmtree(demo_path)\n",
        "\n",
        "demo_path.mkdir(parents=True, exist_ok=True)\n",
        "\n",
        "!ls demo/my_assistant"
      ],
      "metadata": {
        "id": "X9za7lToCodF"
      },
      "execution_count": 84,
      "outputs": []
    },
    {
      "cell_type": "markdown",
      "source": [
        "## Move Model to Demo Folder"
      ],
      "metadata": {
        "id": "gJ0KhTE1Doee"
      }
    },
    {
      "cell_type": "code",
      "source": [
        "model_path = '/content/saved_models'\n",
        "\n",
        "model_destination = demo_path\n",
        "\n",
        "try:\n",
        "  print(f'[INFO] Attempting to mode {model_path} to {demo_path}')\n",
        "\n",
        "  # Move the model\n",
        "  shutil.move(src=model_path, dst=demo_path)\n",
        "\n",
        "  print(f'[INFO] Model move complete.')\n",
        "except:\n",
        "  print(f'[INFO] No model found at {model_path}, perhaps its already been moved?')\n",
        "  print(f'[INFO] Model exists at {demo_path} : {demo_path.exists()}')"
      ],
      "metadata": {
        "colab": {
          "base_uri": "https://localhost:8080/"
        },
        "id": "L6NVk9jgDV14",
        "outputId": "874e483a-3545-4c36-d893-a309292441e4"
      },
      "execution_count": 85,
      "outputs": [
        {
          "output_type": "stream",
          "name": "stdout",
          "text": [
            "[INFO] Attempting to mode /content/saved_models to demo/my_assistant\n",
            "[INFO] Model move complete.\n"
          ]
        }
      ]
    },
    {
      "cell_type": "markdown",
      "source": [
        "## Create app.py"
      ],
      "metadata": {
        "id": "XXFSiFZNEW40"
      }
    },
    {
      "cell_type": "code",
      "source": [
        "%%writefile demo/my_assistant/app.py\n",
        "\n",
        "import tensorflow as tf\n",
        "import gradio as gr\n",
        "from timeit import default_timer as timer\n",
        "\n",
        "class_names = ['Add To Playlist', 'Affirmation', 'Book Meeting', 'Book Restaurant',\n",
        "              'Cancellation', 'Excitment', 'Get Weather', 'Greetings', 'Play Music',\n",
        "              'Rate Book', 'Search Creative Work', 'Search Screening Event']\n",
        "\n",
        "\n",
        "\n",
        "# load tokenizer and model\n",
        "MODEL_PATH = 'saved_models'\n",
        "tokenizer = DistilBertTokenizerFast.from_pretrained(MODEL_PATH)\n",
        "model = TFDistilBertForSequenceClassification.from_pretrained(MODEL_PATH)\n",
        "\n",
        "# function to used to make predictions\n",
        "def predict(command:str):\n",
        "  start_time = timer()\n",
        "\n",
        "  predict_input = tokenizer.encode(command, truncation = True, padding = True, return_tensors = \"tf\")\n",
        "\n",
        "  output = model(predict_input)[0]\n",
        "\n",
        "  prediction_value = tf.argmax(output, axis=1).numpy()[0]\n",
        "\n",
        "  pred_time = round(timer() - start_time, 4)\n",
        "\n",
        "  return class_names[prediction_value], pred_time\n",
        "\n",
        "\n",
        "# create Gradio demo\n",
        "title = \"My Assistant\"\n",
        "description = \"A fine-tuned distilled BERT model designed to predict the intent of user commands.\"\n",
        "article = \"Created at [My Assistant](https://github.com/AishaEvering/My_Assistant).\"\n",
        "examples=[\"What is the forecast for here and now?\", \"What films are showing at century theatres?\", \"Book a table for 1 at a Burger King.\"]\n",
        "\n",
        "demo = gr.Interface(fn=predict,\n",
        "                    inputs=gr.Textbox(lines=2, placeholder=\"Give command here.\"),\n",
        "                    outputs=['text', gr.Number(label=\"Prediction time (seconds)\")],\n",
        "                    title=title,\n",
        "                    examples=examples,\n",
        "                    description=description,\n",
        "                    article=article)\n",
        "\n",
        "# Launch the demo!!!!\n",
        "demo.launch(share=True)"
      ],
      "metadata": {
        "colab": {
          "base_uri": "https://localhost:8080/"
        },
        "id": "AhkjpKCcEWam",
        "outputId": "1713d5b2-8090-4095-f21a-e5c65af96b8b"
      },
      "execution_count": 87,
      "outputs": [
        {
          "output_type": "stream",
          "name": "stdout",
          "text": [
            "Overwriting demo/my_assistant/app.py\n"
          ]
        }
      ]
    },
    {
      "cell_type": "markdown",
      "source": [
        "## Create requirements.txt\n"
      ],
      "metadata": {
        "id": "UY6ssUdMGHBx"
      }
    },
    {
      "cell_type": "code",
      "source": [
        "%%writefile demo/my_assistant/requirements.txt\n",
        "tensorflow==2.10\n",
        "gradio==4.36.1"
      ],
      "metadata": {
        "colab": {
          "base_uri": "https://localhost:8080/"
        },
        "id": "t4I8NRnVF5qM",
        "outputId": "56291b30-7a9b-463b-894a-84ee5ab35e05"
      },
      "execution_count": 88,
      "outputs": [
        {
          "output_type": "stream",
          "name": "stdout",
          "text": [
            "Writing demo/my_assistant/requirements.txt\n"
          ]
        }
      ]
    },
    {
      "cell_type": "markdown",
      "source": [
        "## Zip Up Demo Folder"
      ],
      "metadata": {
        "id": "uvSWHcePGMXV"
      }
    },
    {
      "cell_type": "code",
      "source": [
        "# Change into the demo directory and then zip it from the inside\n",
        "!cd demo/my_assistant && zip -r ../my_assistant_demo.zip * -x \"*.pyc\" \"*.ipynb\" \"*__pycache__*\" \"*ipynb_checkpoints*\""
      ],
      "metadata": {
        "colab": {
          "base_uri": "https://localhost:8080/"
        },
        "id": "-fwOZqViGPt0",
        "outputId": "681af26f-b400-47d3-f261-d0236a19f60a"
      },
      "execution_count": 91,
      "outputs": [
        {
          "output_type": "stream",
          "name": "stdout",
          "text": [
            "updating: app.py (deflated 50%)\n",
            "updating: requirements.txt (stored 0%)\n",
            "updating: saved_models/ (stored 0%)\n",
            "updating: saved_models/config.json (deflated 57%)\n",
            "updating: saved_models/tf_model.h5 (deflated 8%)\n",
            "updating: saved_models/tokenizer_config.json (deflated 41%)\n",
            "updating: saved_models/special_tokens_map.json (deflated 42%)\n",
            "updating: saved_models/vocab.txt (deflated 53%)\n",
            "updating: saved_models/tokenizer.json (deflated 71%)\n"
          ]
        }
      ]
    },
    {
      "cell_type": "markdown",
      "source": [
        "## Download App Zip File"
      ],
      "metadata": {
        "id": "xwYihdsfGmkl"
      }
    },
    {
      "cell_type": "code",
      "source": [
        "# Download\n",
        "try:\n",
        "  from google.colab import files\n",
        "  files.download('demo/my_assistant_demo.zip')\n",
        "except:\n",
        "  print(f\"Not running in Google Colab, can't use google.colab.files.download(), \\\n",
        "  please download my_assistant_demo.zip manually.\")"
      ],
      "metadata": {
        "colab": {
          "base_uri": "https://localhost:8080/",
          "height": 17
        },
        "id": "uw3IO7MMGmF_",
        "outputId": "ceed908a-6381-4cfd-b4c3-d871f3ba88d7"
      },
      "execution_count": 92,
      "outputs": [
        {
          "output_type": "display_data",
          "data": {
            "text/plain": [
              "<IPython.core.display.Javascript object>"
            ],
            "application/javascript": [
              "\n",
              "    async function download(id, filename, size) {\n",
              "      if (!google.colab.kernel.accessAllowed) {\n",
              "        return;\n",
              "      }\n",
              "      const div = document.createElement('div');\n",
              "      const label = document.createElement('label');\n",
              "      label.textContent = `Downloading \"${filename}\": `;\n",
              "      div.appendChild(label);\n",
              "      const progress = document.createElement('progress');\n",
              "      progress.max = size;\n",
              "      div.appendChild(progress);\n",
              "      document.body.appendChild(div);\n",
              "\n",
              "      const buffers = [];\n",
              "      let downloaded = 0;\n",
              "\n",
              "      const channel = await google.colab.kernel.comms.open(id);\n",
              "      // Send a message to notify the kernel that we're ready.\n",
              "      channel.send({})\n",
              "\n",
              "      for await (const message of channel.messages) {\n",
              "        // Send a message to notify the kernel that we're ready.\n",
              "        channel.send({})\n",
              "        if (message.buffers) {\n",
              "          for (const buffer of message.buffers) {\n",
              "            buffers.push(buffer);\n",
              "            downloaded += buffer.byteLength;\n",
              "            progress.value = downloaded;\n",
              "          }\n",
              "        }\n",
              "      }\n",
              "      const blob = new Blob(buffers, {type: 'application/binary'});\n",
              "      const a = document.createElement('a');\n",
              "      a.href = window.URL.createObjectURL(blob);\n",
              "      a.download = filename;\n",
              "      div.appendChild(a);\n",
              "      a.click();\n",
              "      div.remove();\n",
              "    }\n",
              "  "
            ]
          },
          "metadata": {}
        },
        {
          "output_type": "display_data",
          "data": {
            "text/plain": [
              "<IPython.core.display.Javascript object>"
            ],
            "application/javascript": [
              "download(\"download_0d80b75e-4fb5-4c47-94ba-462b7eb96d81\", \"my_assistant_demo.zip\", 247142082)"
            ]
          },
          "metadata": {}
        }
      ]
    }
  ]
}